{
  "nbformat": 4,
  "nbformat_minor": 0,
  "metadata": {
    "colab": {
      "provenance": [],
      "collapsed_sections": [
        "b0d2_8sWJtm8",
        "hynYEHVs8nAY",
        "leAkelN1ddJr",
        "qHpCdHJPjyi4"
      ]
    },
    "kernelspec": {
      "name": "python3",
      "display_name": "Python 3"
    },
    "language_info": {
      "name": "python"
    }
  },
  "cells": [
    {
      "cell_type": "markdown",
      "source": [
        "# **Visualización de datos**\n",
        "\n",
        "**Asignatura:** Visualización de datos\n",
        "\n",
        "**Autora:** Sandra Millán Palacios\n",
        "\n",
        "**Profesor:** Rodrigo Díaz Morón\n"
      ],
      "metadata": {
        "id": "7aKXH_-0cIHf"
      }
    },
    {
      "cell_type": "markdown",
      "source": [
        "\n",
        "Para este proyecto de análisis y visualización de datos de ventas, realizaremos un análisis exhaustivo que nos permita explorar y entender el comportamiento de las ventas de un conjunto de datos que comprende transacciones realizadas en distintos países, a través de varias submarcas (que forman parte de la marca PepsiCo en Europa) y en diferentes periodos de tiempo. Para ello nos centraremos en explorar cómo se distribuyen y evolucionan las ventas de acuerdo a varias dimensiones clave:\n",
        "\n",
        "1. Cómo se distribuyen las ventas realizadas en:\n",
        "\n",
        "  - Cada país\n",
        "  - Cada mes y año\n",
        "  - Cada marca\n",
        "\n",
        "2. Cuál es la tendencia y estacionalidad de:\n",
        "\n",
        "  - Todas las ventas del país con menos ventas\n",
        "  - La marca con más ventas\n",
        "\n",
        "3. Cuáles son las predicciones hechas en España y cómo de\n",
        "buenas son"
      ],
      "metadata": {
        "id": "tgKHZtCwctb0"
      }
    },
    {
      "cell_type": "markdown",
      "source": [
        "## **Carga la base de datos**"
      ],
      "metadata": {
        "id": "dk91tam1efWh"
      }
    },
    {
      "cell_type": "code",
      "execution_count": 477,
      "metadata": {
        "colab": {
          "base_uri": "https://localhost:8080/"
        },
        "id": "yKwmDIbTBugB",
        "outputId": "79538a45-665c-4822-ddb4-207c4d84c37c"
      },
      "outputs": [
        {
          "output_type": "stream",
          "name": "stdout",
          "text": [
            "Requirement already satisfied: plotly_express in /usr/local/lib/python3.10/dist-packages (0.4.1)\n",
            "Requirement already satisfied: pandas>=0.20.0 in /usr/local/lib/python3.10/dist-packages (from plotly_express) (2.2.2)\n",
            "Requirement already satisfied: plotly>=4.1.0 in /usr/local/lib/python3.10/dist-packages (from plotly_express) (5.24.1)\n",
            "Requirement already satisfied: statsmodels>=0.9.0 in /usr/local/lib/python3.10/dist-packages (from plotly_express) (0.14.4)\n",
            "Requirement already satisfied: scipy>=0.18 in /usr/local/lib/python3.10/dist-packages (from plotly_express) (1.13.1)\n",
            "Requirement already satisfied: patsy>=0.5 in /usr/local/lib/python3.10/dist-packages (from plotly_express) (0.5.6)\n",
            "Requirement already satisfied: numpy>=1.11 in /usr/local/lib/python3.10/dist-packages (from plotly_express) (1.26.4)\n",
            "Requirement already satisfied: python-dateutil>=2.8.2 in /usr/local/lib/python3.10/dist-packages (from pandas>=0.20.0->plotly_express) (2.8.2)\n",
            "Requirement already satisfied: pytz>=2020.1 in /usr/local/lib/python3.10/dist-packages (from pandas>=0.20.0->plotly_express) (2024.2)\n",
            "Requirement already satisfied: tzdata>=2022.7 in /usr/local/lib/python3.10/dist-packages (from pandas>=0.20.0->plotly_express) (2024.2)\n",
            "Requirement already satisfied: six in /usr/local/lib/python3.10/dist-packages (from patsy>=0.5->plotly_express) (1.16.0)\n",
            "Requirement already satisfied: tenacity>=6.2.0 in /usr/local/lib/python3.10/dist-packages (from plotly>=4.1.0->plotly_express) (9.0.0)\n",
            "Requirement already satisfied: packaging in /usr/local/lib/python3.10/dist-packages (from plotly>=4.1.0->plotly_express) (24.1)\n"
          ]
        }
      ],
      "source": [
        "pip install plotly_express"
      ]
    },
    {
      "cell_type": "code",
      "source": [
        "# Librerías necesarias\n",
        "\n",
        "import plotly_express as px\n",
        "import plotly.subplots as sp\n",
        "import plotly.graph_objects as go\n",
        "from plotly.subplots import make_subplots\n",
        "import pandas as pd\n",
        "from google.colab import files\n",
        "from scipy.stats import linregress\n",
        "import numpy as np"
      ],
      "metadata": {
        "id": "rm5bfC5KEcWz"
      },
      "execution_count": 478,
      "outputs": []
    },
    {
      "cell_type": "code",
      "source": [
        "import matplotlib.pyplot as plt\n",
        "import pandas as pd\n",
        "import seaborn as sns"
      ],
      "metadata": {
        "id": "cB4q0VlmzSgw"
      },
      "execution_count": 479,
      "outputs": []
    },
    {
      "cell_type": "markdown",
      "source": [
        "La base de datos proporcionada consta de 18,666 registros y 8 columnas, cada una con un propósito específico relacionado con el seguimiento de ventas en distintos países, marcas, y en un periodo de tiempo detallado:\n",
        "\n",
        "- **COUNTRY** - Indica el país donde se realizó la venta.\n",
        "- **SUBBRAND** - Especifica la sub-marca vendida.\n",
        "- **YEAR** - Año en que se realizó la venta o en que se realizó una predicción.\n",
        "- **MONTH** - Mes en el que ocurrió la venta o la predicción.\n",
        "- **SCENARIO** - Describe si el registro corresponde a una predicción o a una observación real.\n",
        "- **FORECAST** - Mes en el que se realizó la predicción.\n",
        "- **FORECAST_YEAR** - Año en el que se realizó la predicción.\n",
        "- **AMOUNT** - Representa el volumen de ventas en una transacción. Es la métrica principal para evaluar el rendimiento de ventas, tendencias y precisión de pronósticos."
      ],
      "metadata": {
        "id": "OmYTYiXqfLFP"
      }
    },
    {
      "cell_type": "code",
      "source": [
        "# Cargar la base de datos: datos_ejercicio_ventas.csv\n",
        "\n",
        "uploaded = files.upload()"
      ],
      "metadata": {
        "colab": {
          "base_uri": "https://localhost:8080/",
          "height": 73
        },
        "id": "XT4khICiE7hq",
        "outputId": "adadbe5b-6720-40d8-ecf0-1be71fa8a00c"
      },
      "execution_count": 480,
      "outputs": [
        {
          "output_type": "display_data",
          "data": {
            "text/plain": [
              "<IPython.core.display.HTML object>"
            ],
            "text/html": [
              "\n",
              "     <input type=\"file\" id=\"files-c916dbde-059e-401d-a5f1-22ba46cb5373\" name=\"files[]\" multiple disabled\n",
              "        style=\"border:none\" />\n",
              "     <output id=\"result-c916dbde-059e-401d-a5f1-22ba46cb5373\">\n",
              "      Upload widget is only available when the cell has been executed in the\n",
              "      current browser session. Please rerun this cell to enable.\n",
              "      </output>\n",
              "      <script>// Copyright 2017 Google LLC\n",
              "//\n",
              "// Licensed under the Apache License, Version 2.0 (the \"License\");\n",
              "// you may not use this file except in compliance with the License.\n",
              "// You may obtain a copy of the License at\n",
              "//\n",
              "//      http://www.apache.org/licenses/LICENSE-2.0\n",
              "//\n",
              "// Unless required by applicable law or agreed to in writing, software\n",
              "// distributed under the License is distributed on an \"AS IS\" BASIS,\n",
              "// WITHOUT WARRANTIES OR CONDITIONS OF ANY KIND, either express or implied.\n",
              "// See the License for the specific language governing permissions and\n",
              "// limitations under the License.\n",
              "\n",
              "/**\n",
              " * @fileoverview Helpers for google.colab Python module.\n",
              " */\n",
              "(function(scope) {\n",
              "function span(text, styleAttributes = {}) {\n",
              "  const element = document.createElement('span');\n",
              "  element.textContent = text;\n",
              "  for (const key of Object.keys(styleAttributes)) {\n",
              "    element.style[key] = styleAttributes[key];\n",
              "  }\n",
              "  return element;\n",
              "}\n",
              "\n",
              "// Max number of bytes which will be uploaded at a time.\n",
              "const MAX_PAYLOAD_SIZE = 100 * 1024;\n",
              "\n",
              "function _uploadFiles(inputId, outputId) {\n",
              "  const steps = uploadFilesStep(inputId, outputId);\n",
              "  const outputElement = document.getElementById(outputId);\n",
              "  // Cache steps on the outputElement to make it available for the next call\n",
              "  // to uploadFilesContinue from Python.\n",
              "  outputElement.steps = steps;\n",
              "\n",
              "  return _uploadFilesContinue(outputId);\n",
              "}\n",
              "\n",
              "// This is roughly an async generator (not supported in the browser yet),\n",
              "// where there are multiple asynchronous steps and the Python side is going\n",
              "// to poll for completion of each step.\n",
              "// This uses a Promise to block the python side on completion of each step,\n",
              "// then passes the result of the previous step as the input to the next step.\n",
              "function _uploadFilesContinue(outputId) {\n",
              "  const outputElement = document.getElementById(outputId);\n",
              "  const steps = outputElement.steps;\n",
              "\n",
              "  const next = steps.next(outputElement.lastPromiseValue);\n",
              "  return Promise.resolve(next.value.promise).then((value) => {\n",
              "    // Cache the last promise value to make it available to the next\n",
              "    // step of the generator.\n",
              "    outputElement.lastPromiseValue = value;\n",
              "    return next.value.response;\n",
              "  });\n",
              "}\n",
              "\n",
              "/**\n",
              " * Generator function which is called between each async step of the upload\n",
              " * process.\n",
              " * @param {string} inputId Element ID of the input file picker element.\n",
              " * @param {string} outputId Element ID of the output display.\n",
              " * @return {!Iterable<!Object>} Iterable of next steps.\n",
              " */\n",
              "function* uploadFilesStep(inputId, outputId) {\n",
              "  const inputElement = document.getElementById(inputId);\n",
              "  inputElement.disabled = false;\n",
              "\n",
              "  const outputElement = document.getElementById(outputId);\n",
              "  outputElement.innerHTML = '';\n",
              "\n",
              "  const pickedPromise = new Promise((resolve) => {\n",
              "    inputElement.addEventListener('change', (e) => {\n",
              "      resolve(e.target.files);\n",
              "    });\n",
              "  });\n",
              "\n",
              "  const cancel = document.createElement('button');\n",
              "  inputElement.parentElement.appendChild(cancel);\n",
              "  cancel.textContent = 'Cancel upload';\n",
              "  const cancelPromise = new Promise((resolve) => {\n",
              "    cancel.onclick = () => {\n",
              "      resolve(null);\n",
              "    };\n",
              "  });\n",
              "\n",
              "  // Wait for the user to pick the files.\n",
              "  const files = yield {\n",
              "    promise: Promise.race([pickedPromise, cancelPromise]),\n",
              "    response: {\n",
              "      action: 'starting',\n",
              "    }\n",
              "  };\n",
              "\n",
              "  cancel.remove();\n",
              "\n",
              "  // Disable the input element since further picks are not allowed.\n",
              "  inputElement.disabled = true;\n",
              "\n",
              "  if (!files) {\n",
              "    return {\n",
              "      response: {\n",
              "        action: 'complete',\n",
              "      }\n",
              "    };\n",
              "  }\n",
              "\n",
              "  for (const file of files) {\n",
              "    const li = document.createElement('li');\n",
              "    li.append(span(file.name, {fontWeight: 'bold'}));\n",
              "    li.append(span(\n",
              "        `(${file.type || 'n/a'}) - ${file.size} bytes, ` +\n",
              "        `last modified: ${\n",
              "            file.lastModifiedDate ? file.lastModifiedDate.toLocaleDateString() :\n",
              "                                    'n/a'} - `));\n",
              "    const percent = span('0% done');\n",
              "    li.appendChild(percent);\n",
              "\n",
              "    outputElement.appendChild(li);\n",
              "\n",
              "    const fileDataPromise = new Promise((resolve) => {\n",
              "      const reader = new FileReader();\n",
              "      reader.onload = (e) => {\n",
              "        resolve(e.target.result);\n",
              "      };\n",
              "      reader.readAsArrayBuffer(file);\n",
              "    });\n",
              "    // Wait for the data to be ready.\n",
              "    let fileData = yield {\n",
              "      promise: fileDataPromise,\n",
              "      response: {\n",
              "        action: 'continue',\n",
              "      }\n",
              "    };\n",
              "\n",
              "    // Use a chunked sending to avoid message size limits. See b/62115660.\n",
              "    let position = 0;\n",
              "    do {\n",
              "      const length = Math.min(fileData.byteLength - position, MAX_PAYLOAD_SIZE);\n",
              "      const chunk = new Uint8Array(fileData, position, length);\n",
              "      position += length;\n",
              "\n",
              "      const base64 = btoa(String.fromCharCode.apply(null, chunk));\n",
              "      yield {\n",
              "        response: {\n",
              "          action: 'append',\n",
              "          file: file.name,\n",
              "          data: base64,\n",
              "        },\n",
              "      };\n",
              "\n",
              "      let percentDone = fileData.byteLength === 0 ?\n",
              "          100 :\n",
              "          Math.round((position / fileData.byteLength) * 100);\n",
              "      percent.textContent = `${percentDone}% done`;\n",
              "\n",
              "    } while (position < fileData.byteLength);\n",
              "  }\n",
              "\n",
              "  // All done.\n",
              "  yield {\n",
              "    response: {\n",
              "      action: 'complete',\n",
              "    }\n",
              "  };\n",
              "}\n",
              "\n",
              "scope.google = scope.google || {};\n",
              "scope.google.colab = scope.google.colab || {};\n",
              "scope.google.colab._files = {\n",
              "  _uploadFiles,\n",
              "  _uploadFilesContinue,\n",
              "};\n",
              "})(self);\n",
              "</script> "
            ]
          },
          "metadata": {}
        },
        {
          "output_type": "stream",
          "name": "stdout",
          "text": [
            "Saving datos_ejercicio_ventas.csv to datos_ejercicio_ventas (6).csv\n"
          ]
        }
      ]
    },
    {
      "cell_type": "code",
      "source": [
        "df = pd.read_csv('/content/datos_ejercicio_ventas.csv')\n",
        "df.head()"
      ],
      "metadata": {
        "colab": {
          "base_uri": "https://localhost:8080/",
          "height": 206
        },
        "id": "XzCnjLO1El7u",
        "outputId": "ddf15e89-587e-47e2-c989-590df3c2bfbe"
      },
      "execution_count": 481,
      "outputs": [
        {
          "output_type": "execute_result",
          "data": {
            "text/plain": [
              "         COUNTRY        SUBBRAND  YEAR  MONTH     SCENARIO FORECAST  \\\n",
              "0       Portugal     Lipton (L3)  2023     12  AI_forecast  AI_P02F   \n",
              "1  Great Britain     Lipton (L3)  2023     12  AI_forecast  AI_P10F   \n",
              "2          Spain  Pepsi Max (L3)  2023     12  AI_forecast  AI_P09F   \n",
              "3  Great Britain        7up (L3)  2024     12  AI_forecast  AI_P10F   \n",
              "4        Hungary     Lipton (L3)  2023      9  AI_forecast  AI_P03F   \n",
              "\n",
              "   FORECAST_YEAR         AMOUNT  \n",
              "0         2023.0  754356.237194  \n",
              "1         2023.0  560030.558029  \n",
              "2         2023.0   88501.980847  \n",
              "3         2023.0  363224.511516  \n",
              "4         2023.0  396176.120491  "
            ],
            "text/html": [
              "\n",
              "  <div id=\"df-959a6e20-09c9-48f4-8e6f-bbde37f998e4\" class=\"colab-df-container\">\n",
              "    <div>\n",
              "<style scoped>\n",
              "    .dataframe tbody tr th:only-of-type {\n",
              "        vertical-align: middle;\n",
              "    }\n",
              "\n",
              "    .dataframe tbody tr th {\n",
              "        vertical-align: top;\n",
              "    }\n",
              "\n",
              "    .dataframe thead th {\n",
              "        text-align: right;\n",
              "    }\n",
              "</style>\n",
              "<table border=\"1\" class=\"dataframe\">\n",
              "  <thead>\n",
              "    <tr style=\"text-align: right;\">\n",
              "      <th></th>\n",
              "      <th>COUNTRY</th>\n",
              "      <th>SUBBRAND</th>\n",
              "      <th>YEAR</th>\n",
              "      <th>MONTH</th>\n",
              "      <th>SCENARIO</th>\n",
              "      <th>FORECAST</th>\n",
              "      <th>FORECAST_YEAR</th>\n",
              "      <th>AMOUNT</th>\n",
              "    </tr>\n",
              "  </thead>\n",
              "  <tbody>\n",
              "    <tr>\n",
              "      <th>0</th>\n",
              "      <td>Portugal</td>\n",
              "      <td>Lipton (L3)</td>\n",
              "      <td>2023</td>\n",
              "      <td>12</td>\n",
              "      <td>AI_forecast</td>\n",
              "      <td>AI_P02F</td>\n",
              "      <td>2023.0</td>\n",
              "      <td>754356.237194</td>\n",
              "    </tr>\n",
              "    <tr>\n",
              "      <th>1</th>\n",
              "      <td>Great Britain</td>\n",
              "      <td>Lipton (L3)</td>\n",
              "      <td>2023</td>\n",
              "      <td>12</td>\n",
              "      <td>AI_forecast</td>\n",
              "      <td>AI_P10F</td>\n",
              "      <td>2023.0</td>\n",
              "      <td>560030.558029</td>\n",
              "    </tr>\n",
              "    <tr>\n",
              "      <th>2</th>\n",
              "      <td>Spain</td>\n",
              "      <td>Pepsi Max (L3)</td>\n",
              "      <td>2023</td>\n",
              "      <td>12</td>\n",
              "      <td>AI_forecast</td>\n",
              "      <td>AI_P09F</td>\n",
              "      <td>2023.0</td>\n",
              "      <td>88501.980847</td>\n",
              "    </tr>\n",
              "    <tr>\n",
              "      <th>3</th>\n",
              "      <td>Great Britain</td>\n",
              "      <td>7up (L3)</td>\n",
              "      <td>2024</td>\n",
              "      <td>12</td>\n",
              "      <td>AI_forecast</td>\n",
              "      <td>AI_P10F</td>\n",
              "      <td>2023.0</td>\n",
              "      <td>363224.511516</td>\n",
              "    </tr>\n",
              "    <tr>\n",
              "      <th>4</th>\n",
              "      <td>Hungary</td>\n",
              "      <td>Lipton (L3)</td>\n",
              "      <td>2023</td>\n",
              "      <td>9</td>\n",
              "      <td>AI_forecast</td>\n",
              "      <td>AI_P03F</td>\n",
              "      <td>2023.0</td>\n",
              "      <td>396176.120491</td>\n",
              "    </tr>\n",
              "  </tbody>\n",
              "</table>\n",
              "</div>\n",
              "    <div class=\"colab-df-buttons\">\n",
              "\n",
              "  <div class=\"colab-df-container\">\n",
              "    <button class=\"colab-df-convert\" onclick=\"convertToInteractive('df-959a6e20-09c9-48f4-8e6f-bbde37f998e4')\"\n",
              "            title=\"Convert this dataframe to an interactive table.\"\n",
              "            style=\"display:none;\">\n",
              "\n",
              "  <svg xmlns=\"http://www.w3.org/2000/svg\" height=\"24px\" viewBox=\"0 -960 960 960\">\n",
              "    <path d=\"M120-120v-720h720v720H120Zm60-500h600v-160H180v160Zm220 220h160v-160H400v160Zm0 220h160v-160H400v160ZM180-400h160v-160H180v160Zm440 0h160v-160H620v160ZM180-180h160v-160H180v160Zm440 0h160v-160H620v160Z\"/>\n",
              "  </svg>\n",
              "    </button>\n",
              "\n",
              "  <style>\n",
              "    .colab-df-container {\n",
              "      display:flex;\n",
              "      gap: 12px;\n",
              "    }\n",
              "\n",
              "    .colab-df-convert {\n",
              "      background-color: #E8F0FE;\n",
              "      border: none;\n",
              "      border-radius: 50%;\n",
              "      cursor: pointer;\n",
              "      display: none;\n",
              "      fill: #1967D2;\n",
              "      height: 32px;\n",
              "      padding: 0 0 0 0;\n",
              "      width: 32px;\n",
              "    }\n",
              "\n",
              "    .colab-df-convert:hover {\n",
              "      background-color: #E2EBFA;\n",
              "      box-shadow: 0px 1px 2px rgba(60, 64, 67, 0.3), 0px 1px 3px 1px rgba(60, 64, 67, 0.15);\n",
              "      fill: #174EA6;\n",
              "    }\n",
              "\n",
              "    .colab-df-buttons div {\n",
              "      margin-bottom: 4px;\n",
              "    }\n",
              "\n",
              "    [theme=dark] .colab-df-convert {\n",
              "      background-color: #3B4455;\n",
              "      fill: #D2E3FC;\n",
              "    }\n",
              "\n",
              "    [theme=dark] .colab-df-convert:hover {\n",
              "      background-color: #434B5C;\n",
              "      box-shadow: 0px 1px 3px 1px rgba(0, 0, 0, 0.15);\n",
              "      filter: drop-shadow(0px 1px 2px rgba(0, 0, 0, 0.3));\n",
              "      fill: #FFFFFF;\n",
              "    }\n",
              "  </style>\n",
              "\n",
              "    <script>\n",
              "      const buttonEl =\n",
              "        document.querySelector('#df-959a6e20-09c9-48f4-8e6f-bbde37f998e4 button.colab-df-convert');\n",
              "      buttonEl.style.display =\n",
              "        google.colab.kernel.accessAllowed ? 'block' : 'none';\n",
              "\n",
              "      async function convertToInteractive(key) {\n",
              "        const element = document.querySelector('#df-959a6e20-09c9-48f4-8e6f-bbde37f998e4');\n",
              "        const dataTable =\n",
              "          await google.colab.kernel.invokeFunction('convertToInteractive',\n",
              "                                                    [key], {});\n",
              "        if (!dataTable) return;\n",
              "\n",
              "        const docLinkHtml = 'Like what you see? Visit the ' +\n",
              "          '<a target=\"_blank\" href=https://colab.research.google.com/notebooks/data_table.ipynb>data table notebook</a>'\n",
              "          + ' to learn more about interactive tables.';\n",
              "        element.innerHTML = '';\n",
              "        dataTable['output_type'] = 'display_data';\n",
              "        await google.colab.output.renderOutput(dataTable, element);\n",
              "        const docLink = document.createElement('div');\n",
              "        docLink.innerHTML = docLinkHtml;\n",
              "        element.appendChild(docLink);\n",
              "      }\n",
              "    </script>\n",
              "  </div>\n",
              "\n",
              "\n",
              "<div id=\"df-81846b38-a003-48ab-b43f-c38575fbc7e1\">\n",
              "  <button class=\"colab-df-quickchart\" onclick=\"quickchart('df-81846b38-a003-48ab-b43f-c38575fbc7e1')\"\n",
              "            title=\"Suggest charts\"\n",
              "            style=\"display:none;\">\n",
              "\n",
              "<svg xmlns=\"http://www.w3.org/2000/svg\" height=\"24px\"viewBox=\"0 0 24 24\"\n",
              "     width=\"24px\">\n",
              "    <g>\n",
              "        <path d=\"M19 3H5c-1.1 0-2 .9-2 2v14c0 1.1.9 2 2 2h14c1.1 0 2-.9 2-2V5c0-1.1-.9-2-2-2zM9 17H7v-7h2v7zm4 0h-2V7h2v10zm4 0h-2v-4h2v4z\"/>\n",
              "    </g>\n",
              "</svg>\n",
              "  </button>\n",
              "\n",
              "<style>\n",
              "  .colab-df-quickchart {\n",
              "      --bg-color: #E8F0FE;\n",
              "      --fill-color: #1967D2;\n",
              "      --hover-bg-color: #E2EBFA;\n",
              "      --hover-fill-color: #174EA6;\n",
              "      --disabled-fill-color: #AAA;\n",
              "      --disabled-bg-color: #DDD;\n",
              "  }\n",
              "\n",
              "  [theme=dark] .colab-df-quickchart {\n",
              "      --bg-color: #3B4455;\n",
              "      --fill-color: #D2E3FC;\n",
              "      --hover-bg-color: #434B5C;\n",
              "      --hover-fill-color: #FFFFFF;\n",
              "      --disabled-bg-color: #3B4455;\n",
              "      --disabled-fill-color: #666;\n",
              "  }\n",
              "\n",
              "  .colab-df-quickchart {\n",
              "    background-color: var(--bg-color);\n",
              "    border: none;\n",
              "    border-radius: 50%;\n",
              "    cursor: pointer;\n",
              "    display: none;\n",
              "    fill: var(--fill-color);\n",
              "    height: 32px;\n",
              "    padding: 0;\n",
              "    width: 32px;\n",
              "  }\n",
              "\n",
              "  .colab-df-quickchart:hover {\n",
              "    background-color: var(--hover-bg-color);\n",
              "    box-shadow: 0 1px 2px rgba(60, 64, 67, 0.3), 0 1px 3px 1px rgba(60, 64, 67, 0.15);\n",
              "    fill: var(--button-hover-fill-color);\n",
              "  }\n",
              "\n",
              "  .colab-df-quickchart-complete:disabled,\n",
              "  .colab-df-quickchart-complete:disabled:hover {\n",
              "    background-color: var(--disabled-bg-color);\n",
              "    fill: var(--disabled-fill-color);\n",
              "    box-shadow: none;\n",
              "  }\n",
              "\n",
              "  .colab-df-spinner {\n",
              "    border: 2px solid var(--fill-color);\n",
              "    border-color: transparent;\n",
              "    border-bottom-color: var(--fill-color);\n",
              "    animation:\n",
              "      spin 1s steps(1) infinite;\n",
              "  }\n",
              "\n",
              "  @keyframes spin {\n",
              "    0% {\n",
              "      border-color: transparent;\n",
              "      border-bottom-color: var(--fill-color);\n",
              "      border-left-color: var(--fill-color);\n",
              "    }\n",
              "    20% {\n",
              "      border-color: transparent;\n",
              "      border-left-color: var(--fill-color);\n",
              "      border-top-color: var(--fill-color);\n",
              "    }\n",
              "    30% {\n",
              "      border-color: transparent;\n",
              "      border-left-color: var(--fill-color);\n",
              "      border-top-color: var(--fill-color);\n",
              "      border-right-color: var(--fill-color);\n",
              "    }\n",
              "    40% {\n",
              "      border-color: transparent;\n",
              "      border-right-color: var(--fill-color);\n",
              "      border-top-color: var(--fill-color);\n",
              "    }\n",
              "    60% {\n",
              "      border-color: transparent;\n",
              "      border-right-color: var(--fill-color);\n",
              "    }\n",
              "    80% {\n",
              "      border-color: transparent;\n",
              "      border-right-color: var(--fill-color);\n",
              "      border-bottom-color: var(--fill-color);\n",
              "    }\n",
              "    90% {\n",
              "      border-color: transparent;\n",
              "      border-bottom-color: var(--fill-color);\n",
              "    }\n",
              "  }\n",
              "</style>\n",
              "\n",
              "  <script>\n",
              "    async function quickchart(key) {\n",
              "      const quickchartButtonEl =\n",
              "        document.querySelector('#' + key + ' button');\n",
              "      quickchartButtonEl.disabled = true;  // To prevent multiple clicks.\n",
              "      quickchartButtonEl.classList.add('colab-df-spinner');\n",
              "      try {\n",
              "        const charts = await google.colab.kernel.invokeFunction(\n",
              "            'suggestCharts', [key], {});\n",
              "      } catch (error) {\n",
              "        console.error('Error during call to suggestCharts:', error);\n",
              "      }\n",
              "      quickchartButtonEl.classList.remove('colab-df-spinner');\n",
              "      quickchartButtonEl.classList.add('colab-df-quickchart-complete');\n",
              "    }\n",
              "    (() => {\n",
              "      let quickchartButtonEl =\n",
              "        document.querySelector('#df-81846b38-a003-48ab-b43f-c38575fbc7e1 button');\n",
              "      quickchartButtonEl.style.display =\n",
              "        google.colab.kernel.accessAllowed ? 'block' : 'none';\n",
              "    })();\n",
              "  </script>\n",
              "</div>\n",
              "\n",
              "    </div>\n",
              "  </div>\n"
            ],
            "application/vnd.google.colaboratory.intrinsic+json": {
              "type": "dataframe",
              "variable_name": "df",
              "summary": "{\n  \"name\": \"df\",\n  \"rows\": 18666,\n  \"fields\": [\n    {\n      \"column\": \"COUNTRY\",\n      \"properties\": {\n        \"dtype\": \"category\",\n        \"num_unique_values\": 9,\n        \"samples\": [\n          \"Italy\",\n          \"Great Britain\",\n          \"Denmark\"\n        ],\n        \"semantic_type\": \"\",\n        \"description\": \"\"\n      }\n    },\n    {\n      \"column\": \"SUBBRAND\",\n      \"properties\": {\n        \"dtype\": \"category\",\n        \"num_unique_values\": 6,\n        \"samples\": [\n          \"Lipton (L3)\",\n          \"Pepsi Max (L3)\",\n          \"7up Free (L3)\"\n        ],\n        \"semantic_type\": \"\",\n        \"description\": \"\"\n      }\n    },\n    {\n      \"column\": \"YEAR\",\n      \"properties\": {\n        \"dtype\": \"number\",\n        \"std\": 0,\n        \"min\": 2023,\n        \"max\": 2025,\n        \"num_unique_values\": 3,\n        \"samples\": [\n          2023,\n          2024,\n          2025\n        ],\n        \"semantic_type\": \"\",\n        \"description\": \"\"\n      }\n    },\n    {\n      \"column\": \"MONTH\",\n      \"properties\": {\n        \"dtype\": \"number\",\n        \"std\": 3,\n        \"min\": 1,\n        \"max\": 12,\n        \"num_unique_values\": 12,\n        \"samples\": [\n          5,\n          3,\n          12\n        ],\n        \"semantic_type\": \"\",\n        \"description\": \"\"\n      }\n    },\n    {\n      \"column\": \"SCENARIO\",\n      \"properties\": {\n        \"dtype\": \"category\",\n        \"num_unique_values\": 2,\n        \"samples\": [\n          \"actual\",\n          \"AI_forecast\"\n        ],\n        \"semantic_type\": \"\",\n        \"description\": \"\"\n      }\n    },\n    {\n      \"column\": \"FORECAST\",\n      \"properties\": {\n        \"dtype\": \"category\",\n        \"num_unique_values\": 12,\n        \"samples\": [\n          \"AI_P08F\",\n          \"AI_P12F\"\n        ],\n        \"semantic_type\": \"\",\n        \"description\": \"\"\n      }\n    },\n    {\n      \"column\": \"FORECAST_YEAR\",\n      \"properties\": {\n        \"dtype\": \"number\",\n        \"std\": 0.0,\n        \"min\": 2023.0,\n        \"max\": 2023.0,\n        \"num_unique_values\": 1,\n        \"samples\": [\n          2023.0\n        ],\n        \"semantic_type\": \"\",\n        \"description\": \"\"\n      }\n    },\n    {\n      \"column\": \"AMOUNT\",\n      \"properties\": {\n        \"dtype\": \"number\",\n        \"std\": 1915283.448382496,\n        \"min\": -217120.10313272703,\n        \"max\": 14815628.237867463,\n        \"num_unique_values\": 17121,\n        \"samples\": [\n          2568883.4881238216\n        ],\n        \"semantic_type\": \"\",\n        \"description\": \"\"\n      }\n    }\n  ]\n}"
            }
          },
          "metadata": {},
          "execution_count": 481
        }
      ]
    },
    {
      "cell_type": "markdown",
      "source": [
        "## **Transformación de los datos**\n",
        "\n",
        "Para comenzar el análisis de esta base de datos de ventas, primero dividiremos los registros en dos subconjuntos: uno que contenga únicamente los datos de ventas reales y otro que incluya las predicciones. Esta división facilitará un estudio detallado y específico de cada grupo de datos."
      ],
      "metadata": {
        "id": "oqopcEQqGjOC"
      }
    },
    {
      "cell_type": "markdown",
      "source": [
        "### **Crear dos subconjuntos de datos**\n",
        "\n",
        "Crear dos dataset: uno de actuals (real) y el otro de Al_forecast (predicción)"
      ],
      "metadata": {
        "id": "b0d2_8sWJtm8"
      }
    },
    {
      "cell_type": "code",
      "source": [
        "df_actual = df[df['SCENARIO'] == 'actual']\n",
        "df_forecast = df[df['SCENARIO'] == 'AI_forecast']"
      ],
      "metadata": {
        "id": "acprI4zrJrzT"
      },
      "execution_count": 482,
      "outputs": []
    },
    {
      "cell_type": "code",
      "source": [
        "df.head()"
      ],
      "metadata": {
        "colab": {
          "base_uri": "https://localhost:8080/",
          "height": 206
        },
        "id": "XB4FqComqtWk",
        "outputId": "62316ded-e09d-43ff-db73-32d65a8de9c7"
      },
      "execution_count": 483,
      "outputs": [
        {
          "output_type": "execute_result",
          "data": {
            "text/plain": [
              "         COUNTRY        SUBBRAND  YEAR  MONTH     SCENARIO FORECAST  \\\n",
              "0       Portugal     Lipton (L3)  2023     12  AI_forecast  AI_P02F   \n",
              "1  Great Britain     Lipton (L3)  2023     12  AI_forecast  AI_P10F   \n",
              "2          Spain  Pepsi Max (L3)  2023     12  AI_forecast  AI_P09F   \n",
              "3  Great Britain        7up (L3)  2024     12  AI_forecast  AI_P10F   \n",
              "4        Hungary     Lipton (L3)  2023      9  AI_forecast  AI_P03F   \n",
              "\n",
              "   FORECAST_YEAR         AMOUNT  \n",
              "0         2023.0  754356.237194  \n",
              "1         2023.0  560030.558029  \n",
              "2         2023.0   88501.980847  \n",
              "3         2023.0  363224.511516  \n",
              "4         2023.0  396176.120491  "
            ],
            "text/html": [
              "\n",
              "  <div id=\"df-d63af23f-2e3f-4052-a147-1a84dbc1e68e\" class=\"colab-df-container\">\n",
              "    <div>\n",
              "<style scoped>\n",
              "    .dataframe tbody tr th:only-of-type {\n",
              "        vertical-align: middle;\n",
              "    }\n",
              "\n",
              "    .dataframe tbody tr th {\n",
              "        vertical-align: top;\n",
              "    }\n",
              "\n",
              "    .dataframe thead th {\n",
              "        text-align: right;\n",
              "    }\n",
              "</style>\n",
              "<table border=\"1\" class=\"dataframe\">\n",
              "  <thead>\n",
              "    <tr style=\"text-align: right;\">\n",
              "      <th></th>\n",
              "      <th>COUNTRY</th>\n",
              "      <th>SUBBRAND</th>\n",
              "      <th>YEAR</th>\n",
              "      <th>MONTH</th>\n",
              "      <th>SCENARIO</th>\n",
              "      <th>FORECAST</th>\n",
              "      <th>FORECAST_YEAR</th>\n",
              "      <th>AMOUNT</th>\n",
              "    </tr>\n",
              "  </thead>\n",
              "  <tbody>\n",
              "    <tr>\n",
              "      <th>0</th>\n",
              "      <td>Portugal</td>\n",
              "      <td>Lipton (L3)</td>\n",
              "      <td>2023</td>\n",
              "      <td>12</td>\n",
              "      <td>AI_forecast</td>\n",
              "      <td>AI_P02F</td>\n",
              "      <td>2023.0</td>\n",
              "      <td>754356.237194</td>\n",
              "    </tr>\n",
              "    <tr>\n",
              "      <th>1</th>\n",
              "      <td>Great Britain</td>\n",
              "      <td>Lipton (L3)</td>\n",
              "      <td>2023</td>\n",
              "      <td>12</td>\n",
              "      <td>AI_forecast</td>\n",
              "      <td>AI_P10F</td>\n",
              "      <td>2023.0</td>\n",
              "      <td>560030.558029</td>\n",
              "    </tr>\n",
              "    <tr>\n",
              "      <th>2</th>\n",
              "      <td>Spain</td>\n",
              "      <td>Pepsi Max (L3)</td>\n",
              "      <td>2023</td>\n",
              "      <td>12</td>\n",
              "      <td>AI_forecast</td>\n",
              "      <td>AI_P09F</td>\n",
              "      <td>2023.0</td>\n",
              "      <td>88501.980847</td>\n",
              "    </tr>\n",
              "    <tr>\n",
              "      <th>3</th>\n",
              "      <td>Great Britain</td>\n",
              "      <td>7up (L3)</td>\n",
              "      <td>2024</td>\n",
              "      <td>12</td>\n",
              "      <td>AI_forecast</td>\n",
              "      <td>AI_P10F</td>\n",
              "      <td>2023.0</td>\n",
              "      <td>363224.511516</td>\n",
              "    </tr>\n",
              "    <tr>\n",
              "      <th>4</th>\n",
              "      <td>Hungary</td>\n",
              "      <td>Lipton (L3)</td>\n",
              "      <td>2023</td>\n",
              "      <td>9</td>\n",
              "      <td>AI_forecast</td>\n",
              "      <td>AI_P03F</td>\n",
              "      <td>2023.0</td>\n",
              "      <td>396176.120491</td>\n",
              "    </tr>\n",
              "  </tbody>\n",
              "</table>\n",
              "</div>\n",
              "    <div class=\"colab-df-buttons\">\n",
              "\n",
              "  <div class=\"colab-df-container\">\n",
              "    <button class=\"colab-df-convert\" onclick=\"convertToInteractive('df-d63af23f-2e3f-4052-a147-1a84dbc1e68e')\"\n",
              "            title=\"Convert this dataframe to an interactive table.\"\n",
              "            style=\"display:none;\">\n",
              "\n",
              "  <svg xmlns=\"http://www.w3.org/2000/svg\" height=\"24px\" viewBox=\"0 -960 960 960\">\n",
              "    <path d=\"M120-120v-720h720v720H120Zm60-500h600v-160H180v160Zm220 220h160v-160H400v160Zm0 220h160v-160H400v160ZM180-400h160v-160H180v160Zm440 0h160v-160H620v160ZM180-180h160v-160H180v160Zm440 0h160v-160H620v160Z\"/>\n",
              "  </svg>\n",
              "    </button>\n",
              "\n",
              "  <style>\n",
              "    .colab-df-container {\n",
              "      display:flex;\n",
              "      gap: 12px;\n",
              "    }\n",
              "\n",
              "    .colab-df-convert {\n",
              "      background-color: #E8F0FE;\n",
              "      border: none;\n",
              "      border-radius: 50%;\n",
              "      cursor: pointer;\n",
              "      display: none;\n",
              "      fill: #1967D2;\n",
              "      height: 32px;\n",
              "      padding: 0 0 0 0;\n",
              "      width: 32px;\n",
              "    }\n",
              "\n",
              "    .colab-df-convert:hover {\n",
              "      background-color: #E2EBFA;\n",
              "      box-shadow: 0px 1px 2px rgba(60, 64, 67, 0.3), 0px 1px 3px 1px rgba(60, 64, 67, 0.15);\n",
              "      fill: #174EA6;\n",
              "    }\n",
              "\n",
              "    .colab-df-buttons div {\n",
              "      margin-bottom: 4px;\n",
              "    }\n",
              "\n",
              "    [theme=dark] .colab-df-convert {\n",
              "      background-color: #3B4455;\n",
              "      fill: #D2E3FC;\n",
              "    }\n",
              "\n",
              "    [theme=dark] .colab-df-convert:hover {\n",
              "      background-color: #434B5C;\n",
              "      box-shadow: 0px 1px 3px 1px rgba(0, 0, 0, 0.15);\n",
              "      filter: drop-shadow(0px 1px 2px rgba(0, 0, 0, 0.3));\n",
              "      fill: #FFFFFF;\n",
              "    }\n",
              "  </style>\n",
              "\n",
              "    <script>\n",
              "      const buttonEl =\n",
              "        document.querySelector('#df-d63af23f-2e3f-4052-a147-1a84dbc1e68e button.colab-df-convert');\n",
              "      buttonEl.style.display =\n",
              "        google.colab.kernel.accessAllowed ? 'block' : 'none';\n",
              "\n",
              "      async function convertToInteractive(key) {\n",
              "        const element = document.querySelector('#df-d63af23f-2e3f-4052-a147-1a84dbc1e68e');\n",
              "        const dataTable =\n",
              "          await google.colab.kernel.invokeFunction('convertToInteractive',\n",
              "                                                    [key], {});\n",
              "        if (!dataTable) return;\n",
              "\n",
              "        const docLinkHtml = 'Like what you see? Visit the ' +\n",
              "          '<a target=\"_blank\" href=https://colab.research.google.com/notebooks/data_table.ipynb>data table notebook</a>'\n",
              "          + ' to learn more about interactive tables.';\n",
              "        element.innerHTML = '';\n",
              "        dataTable['output_type'] = 'display_data';\n",
              "        await google.colab.output.renderOutput(dataTable, element);\n",
              "        const docLink = document.createElement('div');\n",
              "        docLink.innerHTML = docLinkHtml;\n",
              "        element.appendChild(docLink);\n",
              "      }\n",
              "    </script>\n",
              "  </div>\n",
              "\n",
              "\n",
              "<div id=\"df-1c87df8c-3565-4367-90bf-c58da81e3c1d\">\n",
              "  <button class=\"colab-df-quickchart\" onclick=\"quickchart('df-1c87df8c-3565-4367-90bf-c58da81e3c1d')\"\n",
              "            title=\"Suggest charts\"\n",
              "            style=\"display:none;\">\n",
              "\n",
              "<svg xmlns=\"http://www.w3.org/2000/svg\" height=\"24px\"viewBox=\"0 0 24 24\"\n",
              "     width=\"24px\">\n",
              "    <g>\n",
              "        <path d=\"M19 3H5c-1.1 0-2 .9-2 2v14c0 1.1.9 2 2 2h14c1.1 0 2-.9 2-2V5c0-1.1-.9-2-2-2zM9 17H7v-7h2v7zm4 0h-2V7h2v10zm4 0h-2v-4h2v4z\"/>\n",
              "    </g>\n",
              "</svg>\n",
              "  </button>\n",
              "\n",
              "<style>\n",
              "  .colab-df-quickchart {\n",
              "      --bg-color: #E8F0FE;\n",
              "      --fill-color: #1967D2;\n",
              "      --hover-bg-color: #E2EBFA;\n",
              "      --hover-fill-color: #174EA6;\n",
              "      --disabled-fill-color: #AAA;\n",
              "      --disabled-bg-color: #DDD;\n",
              "  }\n",
              "\n",
              "  [theme=dark] .colab-df-quickchart {\n",
              "      --bg-color: #3B4455;\n",
              "      --fill-color: #D2E3FC;\n",
              "      --hover-bg-color: #434B5C;\n",
              "      --hover-fill-color: #FFFFFF;\n",
              "      --disabled-bg-color: #3B4455;\n",
              "      --disabled-fill-color: #666;\n",
              "  }\n",
              "\n",
              "  .colab-df-quickchart {\n",
              "    background-color: var(--bg-color);\n",
              "    border: none;\n",
              "    border-radius: 50%;\n",
              "    cursor: pointer;\n",
              "    display: none;\n",
              "    fill: var(--fill-color);\n",
              "    height: 32px;\n",
              "    padding: 0;\n",
              "    width: 32px;\n",
              "  }\n",
              "\n",
              "  .colab-df-quickchart:hover {\n",
              "    background-color: var(--hover-bg-color);\n",
              "    box-shadow: 0 1px 2px rgba(60, 64, 67, 0.3), 0 1px 3px 1px rgba(60, 64, 67, 0.15);\n",
              "    fill: var(--button-hover-fill-color);\n",
              "  }\n",
              "\n",
              "  .colab-df-quickchart-complete:disabled,\n",
              "  .colab-df-quickchart-complete:disabled:hover {\n",
              "    background-color: var(--disabled-bg-color);\n",
              "    fill: var(--disabled-fill-color);\n",
              "    box-shadow: none;\n",
              "  }\n",
              "\n",
              "  .colab-df-spinner {\n",
              "    border: 2px solid var(--fill-color);\n",
              "    border-color: transparent;\n",
              "    border-bottom-color: var(--fill-color);\n",
              "    animation:\n",
              "      spin 1s steps(1) infinite;\n",
              "  }\n",
              "\n",
              "  @keyframes spin {\n",
              "    0% {\n",
              "      border-color: transparent;\n",
              "      border-bottom-color: var(--fill-color);\n",
              "      border-left-color: var(--fill-color);\n",
              "    }\n",
              "    20% {\n",
              "      border-color: transparent;\n",
              "      border-left-color: var(--fill-color);\n",
              "      border-top-color: var(--fill-color);\n",
              "    }\n",
              "    30% {\n",
              "      border-color: transparent;\n",
              "      border-left-color: var(--fill-color);\n",
              "      border-top-color: var(--fill-color);\n",
              "      border-right-color: var(--fill-color);\n",
              "    }\n",
              "    40% {\n",
              "      border-color: transparent;\n",
              "      border-right-color: var(--fill-color);\n",
              "      border-top-color: var(--fill-color);\n",
              "    }\n",
              "    60% {\n",
              "      border-color: transparent;\n",
              "      border-right-color: var(--fill-color);\n",
              "    }\n",
              "    80% {\n",
              "      border-color: transparent;\n",
              "      border-right-color: var(--fill-color);\n",
              "      border-bottom-color: var(--fill-color);\n",
              "    }\n",
              "    90% {\n",
              "      border-color: transparent;\n",
              "      border-bottom-color: var(--fill-color);\n",
              "    }\n",
              "  }\n",
              "</style>\n",
              "\n",
              "  <script>\n",
              "    async function quickchart(key) {\n",
              "      const quickchartButtonEl =\n",
              "        document.querySelector('#' + key + ' button');\n",
              "      quickchartButtonEl.disabled = true;  // To prevent multiple clicks.\n",
              "      quickchartButtonEl.classList.add('colab-df-spinner');\n",
              "      try {\n",
              "        const charts = await google.colab.kernel.invokeFunction(\n",
              "            'suggestCharts', [key], {});\n",
              "      } catch (error) {\n",
              "        console.error('Error during call to suggestCharts:', error);\n",
              "      }\n",
              "      quickchartButtonEl.classList.remove('colab-df-spinner');\n",
              "      quickchartButtonEl.classList.add('colab-df-quickchart-complete');\n",
              "    }\n",
              "    (() => {\n",
              "      let quickchartButtonEl =\n",
              "        document.querySelector('#df-1c87df8c-3565-4367-90bf-c58da81e3c1d button');\n",
              "      quickchartButtonEl.style.display =\n",
              "        google.colab.kernel.accessAllowed ? 'block' : 'none';\n",
              "    })();\n",
              "  </script>\n",
              "</div>\n",
              "\n",
              "    </div>\n",
              "  </div>\n"
            ],
            "application/vnd.google.colaboratory.intrinsic+json": {
              "type": "dataframe",
              "variable_name": "df",
              "summary": "{\n  \"name\": \"df\",\n  \"rows\": 18666,\n  \"fields\": [\n    {\n      \"column\": \"COUNTRY\",\n      \"properties\": {\n        \"dtype\": \"category\",\n        \"num_unique_values\": 9,\n        \"samples\": [\n          \"Italy\",\n          \"Great Britain\",\n          \"Denmark\"\n        ],\n        \"semantic_type\": \"\",\n        \"description\": \"\"\n      }\n    },\n    {\n      \"column\": \"SUBBRAND\",\n      \"properties\": {\n        \"dtype\": \"category\",\n        \"num_unique_values\": 6,\n        \"samples\": [\n          \"Lipton (L3)\",\n          \"Pepsi Max (L3)\",\n          \"7up Free (L3)\"\n        ],\n        \"semantic_type\": \"\",\n        \"description\": \"\"\n      }\n    },\n    {\n      \"column\": \"YEAR\",\n      \"properties\": {\n        \"dtype\": \"number\",\n        \"std\": 0,\n        \"min\": 2023,\n        \"max\": 2025,\n        \"num_unique_values\": 3,\n        \"samples\": [\n          2023,\n          2024,\n          2025\n        ],\n        \"semantic_type\": \"\",\n        \"description\": \"\"\n      }\n    },\n    {\n      \"column\": \"MONTH\",\n      \"properties\": {\n        \"dtype\": \"number\",\n        \"std\": 3,\n        \"min\": 1,\n        \"max\": 12,\n        \"num_unique_values\": 12,\n        \"samples\": [\n          5,\n          3,\n          12\n        ],\n        \"semantic_type\": \"\",\n        \"description\": \"\"\n      }\n    },\n    {\n      \"column\": \"SCENARIO\",\n      \"properties\": {\n        \"dtype\": \"category\",\n        \"num_unique_values\": 2,\n        \"samples\": [\n          \"actual\",\n          \"AI_forecast\"\n        ],\n        \"semantic_type\": \"\",\n        \"description\": \"\"\n      }\n    },\n    {\n      \"column\": \"FORECAST\",\n      \"properties\": {\n        \"dtype\": \"category\",\n        \"num_unique_values\": 12,\n        \"samples\": [\n          \"AI_P08F\",\n          \"AI_P12F\"\n        ],\n        \"semantic_type\": \"\",\n        \"description\": \"\"\n      }\n    },\n    {\n      \"column\": \"FORECAST_YEAR\",\n      \"properties\": {\n        \"dtype\": \"number\",\n        \"std\": 0.0,\n        \"min\": 2023.0,\n        \"max\": 2023.0,\n        \"num_unique_values\": 1,\n        \"samples\": [\n          2023.0\n        ],\n        \"semantic_type\": \"\",\n        \"description\": \"\"\n      }\n    },\n    {\n      \"column\": \"AMOUNT\",\n      \"properties\": {\n        \"dtype\": \"number\",\n        \"std\": 1915283.448382496,\n        \"min\": -217120.10313272703,\n        \"max\": 14815628.237867463,\n        \"num_unique_values\": 17121,\n        \"samples\": [\n          2568883.4881238216\n        ],\n        \"semantic_type\": \"\",\n        \"description\": \"\"\n      }\n    }\n  ]\n}"
            }
          },
          "metadata": {},
          "execution_count": 483
        }
      ]
    },
    {
      "cell_type": "markdown",
      "source": [
        "Eliminamos la columna FORECAST Y FORECAST_YEAR de los datos reales, ya que no hya ningún mes de predicción."
      ],
      "metadata": {
        "id": "GdmoY6RT7_KT"
      }
    },
    {
      "cell_type": "code",
      "source": [
        "df_actual = df_actual.drop(['FORECAST', 'FORECAST_YEAR'], axis=1)"
      ],
      "metadata": {
        "id": "zwHzxqNI8HoE"
      },
      "execution_count": 484,
      "outputs": []
    },
    {
      "cell_type": "markdown",
      "source": [
        "Vuelvo a reiniciar los indices para mayor consistencia de los datos"
      ],
      "metadata": {
        "id": "SS09L-H0wWSt"
      }
    },
    {
      "cell_type": "code",
      "source": [
        "df_actual.reset_index(drop=True, inplace=True)\n",
        "df_forecast.reset_index(drop=True, inplace=True)"
      ],
      "metadata": {
        "id": "xK1-FBpmwVtr"
      },
      "execution_count": 485,
      "outputs": []
    },
    {
      "cell_type": "markdown",
      "source": [
        "## **Número de submarcas y países**\n",
        "\n",
        "En total hay 9 países y 6 submarcas. En el siguiente gráfico no solo hemso mostrado el número de paises y de submarcas, sino que hemos visto si hay una cantidad de datos similares para cada representación. Podemos observar, que tenmso muy poco registros de Italia y de Mountain Dew."
      ],
      "metadata": {
        "id": "ZdNwQLOmTPBg"
      }
    },
    {
      "cell_type": "code",
      "source": [
        "def plot_scenario_counts(df, col='COUNTRY', scenario_col='SCENARIO'):\n",
        "    # Contar la cantidad de registros por combinación de COUNTRY y SCENARIO\n",
        "    df_counts = df.groupby([col, scenario_col]).size().reset_index(name=\"Count\")\n",
        "\n",
        "    # Crear el gráfico de barras con el número encima de cada barra\n",
        "    fig = px.bar(\n",
        "        df_counts,\n",
        "        x=col,\n",
        "        y=\"Count\",\n",
        "        color=scenario_col,\n",
        "        barmode=\"group\",\n",
        "        text=\"Count\",  # Mostrar el valor encima de cada barra\n",
        "        title=f\"Cantidad de Registros por {col} y Escenario\"\n",
        "    )\n",
        "\n",
        "    # Ajustar el tamaño del texto\n",
        "    fig.update_traces(texttemplate='%{text}', textposition='outside', textfont_size=10)\n",
        "\n",
        "    # Mostrar el gráfico\n",
        "    fig.show()"
      ],
      "metadata": {
        "id": "Ed1HuioNYBWb"
      },
      "execution_count": 486,
      "outputs": []
    },
    {
      "cell_type": "code",
      "source": [
        "plot_scenario_counts(df, 'COUNTRY', 'SCENARIO')"
      ],
      "metadata": {
        "colab": {
          "base_uri": "https://localhost:8080/",
          "height": 542
        },
        "id": "4owFZ8mIrol9",
        "outputId": "c5ed67c0-f786-478b-a30c-1a38f6deb1f4"
      },
      "execution_count": 487,
      "outputs": [
        {
          "output_type": "display_data",
          "data": {
            "text/html": [
              "<html>\n",
              "<head><meta charset=\"utf-8\" /></head>\n",
              "<body>\n",
              "    <div>            <script src=\"https://cdnjs.cloudflare.com/ajax/libs/mathjax/2.7.5/MathJax.js?config=TeX-AMS-MML_SVG\"></script><script type=\"text/javascript\">if (window.MathJax && window.MathJax.Hub && window.MathJax.Hub.Config) {window.MathJax.Hub.Config({SVG: {font: \"STIX-Web\"}});}</script>                <script type=\"text/javascript\">window.PlotlyConfig = {MathJaxConfig: 'local'};</script>\n",
              "        <script charset=\"utf-8\" src=\"https://cdn.plot.ly/plotly-2.35.2.min.js\"></script>                <div id=\"8a69bf83-d162-486e-8b8a-58ff23b145ce\" class=\"plotly-graph-div\" style=\"height:525px; width:100%;\"></div>            <script type=\"text/javascript\">                                    window.PLOTLYENV=window.PLOTLYENV || {};                                    if (document.getElementById(\"8a69bf83-d162-486e-8b8a-58ff23b145ce\")) {                    Plotly.newPlot(                        \"8a69bf83-d162-486e-8b8a-58ff23b145ce\",                        [{\"alignmentgroup\":\"True\",\"hovertemplate\":\"SCENARIO=AI_forecast\\u003cbr\\u003eCOUNTRY=%{x}\\u003cbr\\u003eCount=%{text}\\u003cextra\\u003e\\u003c\\u002fextra\\u003e\",\"legendgroup\":\"AI_forecast\",\"marker\":{\"color\":\"#636efa\",\"pattern\":{\"shape\":\"\"}},\"name\":\"AI_forecast\",\"offsetgroup\":\"AI_forecast\",\"orientation\":\"v\",\"showlegend\":true,\"text\":[1296.0,2214.0,3888.0,2268.0,648.0,2376.0,1944.0,1080.0,2052.0],\"textposition\":\"outside\",\"x\":[\"Czech\",\"Denmark\",\"Great Britain\",\"Hungary\",\"Italy\",\"Netherlands\",\"Norway\",\"Portugal\",\"Spain\"],\"xaxis\":\"x\",\"y\":[1296,2214,3888,2268,648,2376,1944,1080,2052],\"yaxis\":\"y\",\"type\":\"bar\",\"textfont\":{\"size\":10},\"texttemplate\":\"%{text}\"},{\"alignmentgroup\":\"True\",\"hovertemplate\":\"SCENARIO=actual\\u003cbr\\u003eCOUNTRY=%{x}\\u003cbr\\u003eCount=%{text}\\u003cextra\\u003e\\u003c\\u002fextra\\u003e\",\"legendgroup\":\"actual\",\"marker\":{\"color\":\"#EF553B\",\"pattern\":{\"shape\":\"\"}},\"name\":\"actual\",\"offsetgroup\":\"actual\",\"orientation\":\"v\",\"showlegend\":true,\"text\":[107.0,80.0,120.0,116.0,60.0,100.0,118.0,99.0,100.0],\"textposition\":\"outside\",\"x\":[\"Czech\",\"Denmark\",\"Great Britain\",\"Hungary\",\"Italy\",\"Netherlands\",\"Norway\",\"Portugal\",\"Spain\"],\"xaxis\":\"x\",\"y\":[107,80,120,116,60,100,118,99,100],\"yaxis\":\"y\",\"type\":\"bar\",\"textfont\":{\"size\":10},\"texttemplate\":\"%{text}\"}],                        {\"template\":{\"data\":{\"histogram2dcontour\":[{\"type\":\"histogram2dcontour\",\"colorbar\":{\"outlinewidth\":0,\"ticks\":\"\"},\"colorscale\":[[0.0,\"#0d0887\"],[0.1111111111111111,\"#46039f\"],[0.2222222222222222,\"#7201a8\"],[0.3333333333333333,\"#9c179e\"],[0.4444444444444444,\"#bd3786\"],[0.5555555555555556,\"#d8576b\"],[0.6666666666666666,\"#ed7953\"],[0.7777777777777778,\"#fb9f3a\"],[0.8888888888888888,\"#fdca26\"],[1.0,\"#f0f921\"]]}],\"choropleth\":[{\"type\":\"choropleth\",\"colorbar\":{\"outlinewidth\":0,\"ticks\":\"\"}}],\"histogram2d\":[{\"type\":\"histogram2d\",\"colorbar\":{\"outlinewidth\":0,\"ticks\":\"\"},\"colorscale\":[[0.0,\"#0d0887\"],[0.1111111111111111,\"#46039f\"],[0.2222222222222222,\"#7201a8\"],[0.3333333333333333,\"#9c179e\"],[0.4444444444444444,\"#bd3786\"],[0.5555555555555556,\"#d8576b\"],[0.6666666666666666,\"#ed7953\"],[0.7777777777777778,\"#fb9f3a\"],[0.8888888888888888,\"#fdca26\"],[1.0,\"#f0f921\"]]}],\"heatmap\":[{\"type\":\"heatmap\",\"colorbar\":{\"outlinewidth\":0,\"ticks\":\"\"},\"colorscale\":[[0.0,\"#0d0887\"],[0.1111111111111111,\"#46039f\"],[0.2222222222222222,\"#7201a8\"],[0.3333333333333333,\"#9c179e\"],[0.4444444444444444,\"#bd3786\"],[0.5555555555555556,\"#d8576b\"],[0.6666666666666666,\"#ed7953\"],[0.7777777777777778,\"#fb9f3a\"],[0.8888888888888888,\"#fdca26\"],[1.0,\"#f0f921\"]]}],\"heatmapgl\":[{\"type\":\"heatmapgl\",\"colorbar\":{\"outlinewidth\":0,\"ticks\":\"\"},\"colorscale\":[[0.0,\"#0d0887\"],[0.1111111111111111,\"#46039f\"],[0.2222222222222222,\"#7201a8\"],[0.3333333333333333,\"#9c179e\"],[0.4444444444444444,\"#bd3786\"],[0.5555555555555556,\"#d8576b\"],[0.6666666666666666,\"#ed7953\"],[0.7777777777777778,\"#fb9f3a\"],[0.8888888888888888,\"#fdca26\"],[1.0,\"#f0f921\"]]}],\"contourcarpet\":[{\"type\":\"contourcarpet\",\"colorbar\":{\"outlinewidth\":0,\"ticks\":\"\"}}],\"contour\":[{\"type\":\"contour\",\"colorbar\":{\"outlinewidth\":0,\"ticks\":\"\"},\"colorscale\":[[0.0,\"#0d0887\"],[0.1111111111111111,\"#46039f\"],[0.2222222222222222,\"#7201a8\"],[0.3333333333333333,\"#9c179e\"],[0.4444444444444444,\"#bd3786\"],[0.5555555555555556,\"#d8576b\"],[0.6666666666666666,\"#ed7953\"],[0.7777777777777778,\"#fb9f3a\"],[0.8888888888888888,\"#fdca26\"],[1.0,\"#f0f921\"]]}],\"surface\":[{\"type\":\"surface\",\"colorbar\":{\"outlinewidth\":0,\"ticks\":\"\"},\"colorscale\":[[0.0,\"#0d0887\"],[0.1111111111111111,\"#46039f\"],[0.2222222222222222,\"#7201a8\"],[0.3333333333333333,\"#9c179e\"],[0.4444444444444444,\"#bd3786\"],[0.5555555555555556,\"#d8576b\"],[0.6666666666666666,\"#ed7953\"],[0.7777777777777778,\"#fb9f3a\"],[0.8888888888888888,\"#fdca26\"],[1.0,\"#f0f921\"]]}],\"mesh3d\":[{\"type\":\"mesh3d\",\"colorbar\":{\"outlinewidth\":0,\"ticks\":\"\"}}],\"scatter\":[{\"fillpattern\":{\"fillmode\":\"overlay\",\"size\":10,\"solidity\":0.2},\"type\":\"scatter\"}],\"parcoords\":[{\"type\":\"parcoords\",\"line\":{\"colorbar\":{\"outlinewidth\":0,\"ticks\":\"\"}}}],\"scatterpolargl\":[{\"type\":\"scatterpolargl\",\"marker\":{\"colorbar\":{\"outlinewidth\":0,\"ticks\":\"\"}}}],\"bar\":[{\"error_x\":{\"color\":\"#2a3f5f\"},\"error_y\":{\"color\":\"#2a3f5f\"},\"marker\":{\"line\":{\"color\":\"#E5ECF6\",\"width\":0.5},\"pattern\":{\"fillmode\":\"overlay\",\"size\":10,\"solidity\":0.2}},\"type\":\"bar\"}],\"scattergeo\":[{\"type\":\"scattergeo\",\"marker\":{\"colorbar\":{\"outlinewidth\":0,\"ticks\":\"\"}}}],\"scatterpolar\":[{\"type\":\"scatterpolar\",\"marker\":{\"colorbar\":{\"outlinewidth\":0,\"ticks\":\"\"}}}],\"histogram\":[{\"marker\":{\"pattern\":{\"fillmode\":\"overlay\",\"size\":10,\"solidity\":0.2}},\"type\":\"histogram\"}],\"scattergl\":[{\"type\":\"scattergl\",\"marker\":{\"colorbar\":{\"outlinewidth\":0,\"ticks\":\"\"}}}],\"scatter3d\":[{\"type\":\"scatter3d\",\"line\":{\"colorbar\":{\"outlinewidth\":0,\"ticks\":\"\"}},\"marker\":{\"colorbar\":{\"outlinewidth\":0,\"ticks\":\"\"}}}],\"scattermapbox\":[{\"type\":\"scattermapbox\",\"marker\":{\"colorbar\":{\"outlinewidth\":0,\"ticks\":\"\"}}}],\"scatterternary\":[{\"type\":\"scatterternary\",\"marker\":{\"colorbar\":{\"outlinewidth\":0,\"ticks\":\"\"}}}],\"scattercarpet\":[{\"type\":\"scattercarpet\",\"marker\":{\"colorbar\":{\"outlinewidth\":0,\"ticks\":\"\"}}}],\"carpet\":[{\"aaxis\":{\"endlinecolor\":\"#2a3f5f\",\"gridcolor\":\"white\",\"linecolor\":\"white\",\"minorgridcolor\":\"white\",\"startlinecolor\":\"#2a3f5f\"},\"baxis\":{\"endlinecolor\":\"#2a3f5f\",\"gridcolor\":\"white\",\"linecolor\":\"white\",\"minorgridcolor\":\"white\",\"startlinecolor\":\"#2a3f5f\"},\"type\":\"carpet\"}],\"table\":[{\"cells\":{\"fill\":{\"color\":\"#EBF0F8\"},\"line\":{\"color\":\"white\"}},\"header\":{\"fill\":{\"color\":\"#C8D4E3\"},\"line\":{\"color\":\"white\"}},\"type\":\"table\"}],\"barpolar\":[{\"marker\":{\"line\":{\"color\":\"#E5ECF6\",\"width\":0.5},\"pattern\":{\"fillmode\":\"overlay\",\"size\":10,\"solidity\":0.2}},\"type\":\"barpolar\"}],\"pie\":[{\"automargin\":true,\"type\":\"pie\"}]},\"layout\":{\"autotypenumbers\":\"strict\",\"colorway\":[\"#636efa\",\"#EF553B\",\"#00cc96\",\"#ab63fa\",\"#FFA15A\",\"#19d3f3\",\"#FF6692\",\"#B6E880\",\"#FF97FF\",\"#FECB52\"],\"font\":{\"color\":\"#2a3f5f\"},\"hovermode\":\"closest\",\"hoverlabel\":{\"align\":\"left\"},\"paper_bgcolor\":\"white\",\"plot_bgcolor\":\"#E5ECF6\",\"polar\":{\"bgcolor\":\"#E5ECF6\",\"angularaxis\":{\"gridcolor\":\"white\",\"linecolor\":\"white\",\"ticks\":\"\"},\"radialaxis\":{\"gridcolor\":\"white\",\"linecolor\":\"white\",\"ticks\":\"\"}},\"ternary\":{\"bgcolor\":\"#E5ECF6\",\"aaxis\":{\"gridcolor\":\"white\",\"linecolor\":\"white\",\"ticks\":\"\"},\"baxis\":{\"gridcolor\":\"white\",\"linecolor\":\"white\",\"ticks\":\"\"},\"caxis\":{\"gridcolor\":\"white\",\"linecolor\":\"white\",\"ticks\":\"\"}},\"coloraxis\":{\"colorbar\":{\"outlinewidth\":0,\"ticks\":\"\"}},\"colorscale\":{\"sequential\":[[0.0,\"#0d0887\"],[0.1111111111111111,\"#46039f\"],[0.2222222222222222,\"#7201a8\"],[0.3333333333333333,\"#9c179e\"],[0.4444444444444444,\"#bd3786\"],[0.5555555555555556,\"#d8576b\"],[0.6666666666666666,\"#ed7953\"],[0.7777777777777778,\"#fb9f3a\"],[0.8888888888888888,\"#fdca26\"],[1.0,\"#f0f921\"]],\"sequentialminus\":[[0.0,\"#0d0887\"],[0.1111111111111111,\"#46039f\"],[0.2222222222222222,\"#7201a8\"],[0.3333333333333333,\"#9c179e\"],[0.4444444444444444,\"#bd3786\"],[0.5555555555555556,\"#d8576b\"],[0.6666666666666666,\"#ed7953\"],[0.7777777777777778,\"#fb9f3a\"],[0.8888888888888888,\"#fdca26\"],[1.0,\"#f0f921\"]],\"diverging\":[[0,\"#8e0152\"],[0.1,\"#c51b7d\"],[0.2,\"#de77ae\"],[0.3,\"#f1b6da\"],[0.4,\"#fde0ef\"],[0.5,\"#f7f7f7\"],[0.6,\"#e6f5d0\"],[0.7,\"#b8e186\"],[0.8,\"#7fbc41\"],[0.9,\"#4d9221\"],[1,\"#276419\"]]},\"xaxis\":{\"gridcolor\":\"white\",\"linecolor\":\"white\",\"ticks\":\"\",\"title\":{\"standoff\":15},\"zerolinecolor\":\"white\",\"automargin\":true,\"zerolinewidth\":2},\"yaxis\":{\"gridcolor\":\"white\",\"linecolor\":\"white\",\"ticks\":\"\",\"title\":{\"standoff\":15},\"zerolinecolor\":\"white\",\"automargin\":true,\"zerolinewidth\":2},\"scene\":{\"xaxis\":{\"backgroundcolor\":\"#E5ECF6\",\"gridcolor\":\"white\",\"linecolor\":\"white\",\"showbackground\":true,\"ticks\":\"\",\"zerolinecolor\":\"white\",\"gridwidth\":2},\"yaxis\":{\"backgroundcolor\":\"#E5ECF6\",\"gridcolor\":\"white\",\"linecolor\":\"white\",\"showbackground\":true,\"ticks\":\"\",\"zerolinecolor\":\"white\",\"gridwidth\":2},\"zaxis\":{\"backgroundcolor\":\"#E5ECF6\",\"gridcolor\":\"white\",\"linecolor\":\"white\",\"showbackground\":true,\"ticks\":\"\",\"zerolinecolor\":\"white\",\"gridwidth\":2}},\"shapedefaults\":{\"line\":{\"color\":\"#2a3f5f\"}},\"annotationdefaults\":{\"arrowcolor\":\"#2a3f5f\",\"arrowhead\":0,\"arrowwidth\":1},\"geo\":{\"bgcolor\":\"white\",\"landcolor\":\"#E5ECF6\",\"subunitcolor\":\"white\",\"showland\":true,\"showlakes\":true,\"lakecolor\":\"white\"},\"title\":{\"x\":0.05},\"mapbox\":{\"style\":\"light\"}}},\"xaxis\":{\"anchor\":\"y\",\"domain\":[0.0,1.0],\"title\":{\"text\":\"COUNTRY\"}},\"yaxis\":{\"anchor\":\"x\",\"domain\":[0.0,1.0],\"title\":{\"text\":\"Count\"}},\"legend\":{\"title\":{\"text\":\"SCENARIO\"},\"tracegroupgap\":0},\"title\":{\"text\":\"Cantidad de Registros por COUNTRY y Escenario\"},\"barmode\":\"group\"},                        {\"responsive\": true}                    ).then(function(){\n",
              "                            \n",
              "var gd = document.getElementById('8a69bf83-d162-486e-8b8a-58ff23b145ce');\n",
              "var x = new MutationObserver(function (mutations, observer) {{\n",
              "        var display = window.getComputedStyle(gd).display;\n",
              "        if (!display || display === 'none') {{\n",
              "            console.log([gd, 'removed!']);\n",
              "            Plotly.purge(gd);\n",
              "            observer.disconnect();\n",
              "        }}\n",
              "}});\n",
              "\n",
              "// Listen for the removal of the full notebook cells\n",
              "var notebookContainer = gd.closest('#notebook-container');\n",
              "if (notebookContainer) {{\n",
              "    x.observe(notebookContainer, {childList: true});\n",
              "}}\n",
              "\n",
              "// Listen for the clearing of the current output cell\n",
              "var outputEl = gd.closest('.output');\n",
              "if (outputEl) {{\n",
              "    x.observe(outputEl, {childList: true});\n",
              "}}\n",
              "\n",
              "                        })                };                            </script>        </div>\n",
              "</body>\n",
              "</html>"
            ]
          },
          "metadata": {}
        }
      ]
    },
    {
      "cell_type": "code",
      "source": [
        "plot_scenario_counts(df, 'SUBBRAND', 'SCENARIO')"
      ],
      "metadata": {
        "colab": {
          "base_uri": "https://localhost:8080/",
          "height": 542
        },
        "id": "EPpf8V_xr7lZ",
        "outputId": "97e3868a-441d-4436-89ff-36386c63cccc"
      },
      "execution_count": 488,
      "outputs": [
        {
          "output_type": "display_data",
          "data": {
            "text/html": [
              "<html>\n",
              "<head><meta charset=\"utf-8\" /></head>\n",
              "<body>\n",
              "    <div>            <script src=\"https://cdnjs.cloudflare.com/ajax/libs/mathjax/2.7.5/MathJax.js?config=TeX-AMS-MML_SVG\"></script><script type=\"text/javascript\">if (window.MathJax && window.MathJax.Hub && window.MathJax.Hub.Config) {window.MathJax.Hub.Config({SVG: {font: \"STIX-Web\"}});}</script>                <script type=\"text/javascript\">window.PlotlyConfig = {MathJaxConfig: 'local'};</script>\n",
              "        <script charset=\"utf-8\" src=\"https://cdn.plot.ly/plotly-2.35.2.min.js\"></script>                <div id=\"61932c27-df91-4fab-b630-0702ce19506f\" class=\"plotly-graph-div\" style=\"height:525px; width:100%;\"></div>            <script type=\"text/javascript\">                                    window.PLOTLYENV=window.PLOTLYENV || {};                                    if (document.getElementById(\"61932c27-df91-4fab-b630-0702ce19506f\")) {                    Plotly.newPlot(                        \"61932c27-df91-4fab-b630-0702ce19506f\",                        [{\"alignmentgroup\":\"True\",\"hovertemplate\":\"SCENARIO=AI_forecast\\u003cbr\\u003eSUBBRAND=%{x}\\u003cbr\\u003eCount=%{text}\\u003cextra\\u003e\\u003c\\u002fextra\\u003e\",\"legendgroup\":\"AI_forecast\",\"marker\":{\"color\":\"#636efa\",\"pattern\":{\"shape\":\"\"}},\"name\":\"AI_forecast\",\"offsetgroup\":\"AI_forecast\",\"orientation\":\"v\",\"showlegend\":true,\"text\":[2538.0,2196.0,2556.0,1602.0,5418.0,3456.0],\"textposition\":\"outside\",\"x\":[\"7up (L3)\",\"7up Free (L3)\",\"Lipton (L3)\",\"Mountain Dew (L3)\",\"Pepsi Max (L3)\",\"Pepsi Regular (L3)\"],\"xaxis\":\"x\",\"y\":[2538,2196,2556,1602,5418,3456],\"yaxis\":\"y\",\"type\":\"bar\",\"textfont\":{\"size\":10},\"texttemplate\":\"%{text}\"},{\"alignmentgroup\":\"True\",\"hovertemplate\":\"SCENARIO=actual\\u003cbr\\u003eSUBBRAND=%{x}\\u003cbr\\u003eCount=%{text}\\u003cextra\\u003e\\u003c\\u002fextra\\u003e\",\"legendgroup\":\"actual\",\"marker\":{\"color\":\"#EF553B\",\"pattern\":{\"shape\":\"\"}},\"name\":\"actual\",\"offsetgroup\":\"actual\",\"orientation\":\"v\",\"showlegend\":true,\"text\":[156.0,147.0,137.0,100.0,180.0,180.0],\"textposition\":\"outside\",\"x\":[\"7up (L3)\",\"7up Free (L3)\",\"Lipton (L3)\",\"Mountain Dew (L3)\",\"Pepsi Max (L3)\",\"Pepsi Regular (L3)\"],\"xaxis\":\"x\",\"y\":[156,147,137,100,180,180],\"yaxis\":\"y\",\"type\":\"bar\",\"textfont\":{\"size\":10},\"texttemplate\":\"%{text}\"}],                        {\"template\":{\"data\":{\"histogram2dcontour\":[{\"type\":\"histogram2dcontour\",\"colorbar\":{\"outlinewidth\":0,\"ticks\":\"\"},\"colorscale\":[[0.0,\"#0d0887\"],[0.1111111111111111,\"#46039f\"],[0.2222222222222222,\"#7201a8\"],[0.3333333333333333,\"#9c179e\"],[0.4444444444444444,\"#bd3786\"],[0.5555555555555556,\"#d8576b\"],[0.6666666666666666,\"#ed7953\"],[0.7777777777777778,\"#fb9f3a\"],[0.8888888888888888,\"#fdca26\"],[1.0,\"#f0f921\"]]}],\"choropleth\":[{\"type\":\"choropleth\",\"colorbar\":{\"outlinewidth\":0,\"ticks\":\"\"}}],\"histogram2d\":[{\"type\":\"histogram2d\",\"colorbar\":{\"outlinewidth\":0,\"ticks\":\"\"},\"colorscale\":[[0.0,\"#0d0887\"],[0.1111111111111111,\"#46039f\"],[0.2222222222222222,\"#7201a8\"],[0.3333333333333333,\"#9c179e\"],[0.4444444444444444,\"#bd3786\"],[0.5555555555555556,\"#d8576b\"],[0.6666666666666666,\"#ed7953\"],[0.7777777777777778,\"#fb9f3a\"],[0.8888888888888888,\"#fdca26\"],[1.0,\"#f0f921\"]]}],\"heatmap\":[{\"type\":\"heatmap\",\"colorbar\":{\"outlinewidth\":0,\"ticks\":\"\"},\"colorscale\":[[0.0,\"#0d0887\"],[0.1111111111111111,\"#46039f\"],[0.2222222222222222,\"#7201a8\"],[0.3333333333333333,\"#9c179e\"],[0.4444444444444444,\"#bd3786\"],[0.5555555555555556,\"#d8576b\"],[0.6666666666666666,\"#ed7953\"],[0.7777777777777778,\"#fb9f3a\"],[0.8888888888888888,\"#fdca26\"],[1.0,\"#f0f921\"]]}],\"heatmapgl\":[{\"type\":\"heatmapgl\",\"colorbar\":{\"outlinewidth\":0,\"ticks\":\"\"},\"colorscale\":[[0.0,\"#0d0887\"],[0.1111111111111111,\"#46039f\"],[0.2222222222222222,\"#7201a8\"],[0.3333333333333333,\"#9c179e\"],[0.4444444444444444,\"#bd3786\"],[0.5555555555555556,\"#d8576b\"],[0.6666666666666666,\"#ed7953\"],[0.7777777777777778,\"#fb9f3a\"],[0.8888888888888888,\"#fdca26\"],[1.0,\"#f0f921\"]]}],\"contourcarpet\":[{\"type\":\"contourcarpet\",\"colorbar\":{\"outlinewidth\":0,\"ticks\":\"\"}}],\"contour\":[{\"type\":\"contour\",\"colorbar\":{\"outlinewidth\":0,\"ticks\":\"\"},\"colorscale\":[[0.0,\"#0d0887\"],[0.1111111111111111,\"#46039f\"],[0.2222222222222222,\"#7201a8\"],[0.3333333333333333,\"#9c179e\"],[0.4444444444444444,\"#bd3786\"],[0.5555555555555556,\"#d8576b\"],[0.6666666666666666,\"#ed7953\"],[0.7777777777777778,\"#fb9f3a\"],[0.8888888888888888,\"#fdca26\"],[1.0,\"#f0f921\"]]}],\"surface\":[{\"type\":\"surface\",\"colorbar\":{\"outlinewidth\":0,\"ticks\":\"\"},\"colorscale\":[[0.0,\"#0d0887\"],[0.1111111111111111,\"#46039f\"],[0.2222222222222222,\"#7201a8\"],[0.3333333333333333,\"#9c179e\"],[0.4444444444444444,\"#bd3786\"],[0.5555555555555556,\"#d8576b\"],[0.6666666666666666,\"#ed7953\"],[0.7777777777777778,\"#fb9f3a\"],[0.8888888888888888,\"#fdca26\"],[1.0,\"#f0f921\"]]}],\"mesh3d\":[{\"type\":\"mesh3d\",\"colorbar\":{\"outlinewidth\":0,\"ticks\":\"\"}}],\"scatter\":[{\"fillpattern\":{\"fillmode\":\"overlay\",\"size\":10,\"solidity\":0.2},\"type\":\"scatter\"}],\"parcoords\":[{\"type\":\"parcoords\",\"line\":{\"colorbar\":{\"outlinewidth\":0,\"ticks\":\"\"}}}],\"scatterpolargl\":[{\"type\":\"scatterpolargl\",\"marker\":{\"colorbar\":{\"outlinewidth\":0,\"ticks\":\"\"}}}],\"bar\":[{\"error_x\":{\"color\":\"#2a3f5f\"},\"error_y\":{\"color\":\"#2a3f5f\"},\"marker\":{\"line\":{\"color\":\"#E5ECF6\",\"width\":0.5},\"pattern\":{\"fillmode\":\"overlay\",\"size\":10,\"solidity\":0.2}},\"type\":\"bar\"}],\"scattergeo\":[{\"type\":\"scattergeo\",\"marker\":{\"colorbar\":{\"outlinewidth\":0,\"ticks\":\"\"}}}],\"scatterpolar\":[{\"type\":\"scatterpolar\",\"marker\":{\"colorbar\":{\"outlinewidth\":0,\"ticks\":\"\"}}}],\"histogram\":[{\"marker\":{\"pattern\":{\"fillmode\":\"overlay\",\"size\":10,\"solidity\":0.2}},\"type\":\"histogram\"}],\"scattergl\":[{\"type\":\"scattergl\",\"marker\":{\"colorbar\":{\"outlinewidth\":0,\"ticks\":\"\"}}}],\"scatter3d\":[{\"type\":\"scatter3d\",\"line\":{\"colorbar\":{\"outlinewidth\":0,\"ticks\":\"\"}},\"marker\":{\"colorbar\":{\"outlinewidth\":0,\"ticks\":\"\"}}}],\"scattermapbox\":[{\"type\":\"scattermapbox\",\"marker\":{\"colorbar\":{\"outlinewidth\":0,\"ticks\":\"\"}}}],\"scatterternary\":[{\"type\":\"scatterternary\",\"marker\":{\"colorbar\":{\"outlinewidth\":0,\"ticks\":\"\"}}}],\"scattercarpet\":[{\"type\":\"scattercarpet\",\"marker\":{\"colorbar\":{\"outlinewidth\":0,\"ticks\":\"\"}}}],\"carpet\":[{\"aaxis\":{\"endlinecolor\":\"#2a3f5f\",\"gridcolor\":\"white\",\"linecolor\":\"white\",\"minorgridcolor\":\"white\",\"startlinecolor\":\"#2a3f5f\"},\"baxis\":{\"endlinecolor\":\"#2a3f5f\",\"gridcolor\":\"white\",\"linecolor\":\"white\",\"minorgridcolor\":\"white\",\"startlinecolor\":\"#2a3f5f\"},\"type\":\"carpet\"}],\"table\":[{\"cells\":{\"fill\":{\"color\":\"#EBF0F8\"},\"line\":{\"color\":\"white\"}},\"header\":{\"fill\":{\"color\":\"#C8D4E3\"},\"line\":{\"color\":\"white\"}},\"type\":\"table\"}],\"barpolar\":[{\"marker\":{\"line\":{\"color\":\"#E5ECF6\",\"width\":0.5},\"pattern\":{\"fillmode\":\"overlay\",\"size\":10,\"solidity\":0.2}},\"type\":\"barpolar\"}],\"pie\":[{\"automargin\":true,\"type\":\"pie\"}]},\"layout\":{\"autotypenumbers\":\"strict\",\"colorway\":[\"#636efa\",\"#EF553B\",\"#00cc96\",\"#ab63fa\",\"#FFA15A\",\"#19d3f3\",\"#FF6692\",\"#B6E880\",\"#FF97FF\",\"#FECB52\"],\"font\":{\"color\":\"#2a3f5f\"},\"hovermode\":\"closest\",\"hoverlabel\":{\"align\":\"left\"},\"paper_bgcolor\":\"white\",\"plot_bgcolor\":\"#E5ECF6\",\"polar\":{\"bgcolor\":\"#E5ECF6\",\"angularaxis\":{\"gridcolor\":\"white\",\"linecolor\":\"white\",\"ticks\":\"\"},\"radialaxis\":{\"gridcolor\":\"white\",\"linecolor\":\"white\",\"ticks\":\"\"}},\"ternary\":{\"bgcolor\":\"#E5ECF6\",\"aaxis\":{\"gridcolor\":\"white\",\"linecolor\":\"white\",\"ticks\":\"\"},\"baxis\":{\"gridcolor\":\"white\",\"linecolor\":\"white\",\"ticks\":\"\"},\"caxis\":{\"gridcolor\":\"white\",\"linecolor\":\"white\",\"ticks\":\"\"}},\"coloraxis\":{\"colorbar\":{\"outlinewidth\":0,\"ticks\":\"\"}},\"colorscale\":{\"sequential\":[[0.0,\"#0d0887\"],[0.1111111111111111,\"#46039f\"],[0.2222222222222222,\"#7201a8\"],[0.3333333333333333,\"#9c179e\"],[0.4444444444444444,\"#bd3786\"],[0.5555555555555556,\"#d8576b\"],[0.6666666666666666,\"#ed7953\"],[0.7777777777777778,\"#fb9f3a\"],[0.8888888888888888,\"#fdca26\"],[1.0,\"#f0f921\"]],\"sequentialminus\":[[0.0,\"#0d0887\"],[0.1111111111111111,\"#46039f\"],[0.2222222222222222,\"#7201a8\"],[0.3333333333333333,\"#9c179e\"],[0.4444444444444444,\"#bd3786\"],[0.5555555555555556,\"#d8576b\"],[0.6666666666666666,\"#ed7953\"],[0.7777777777777778,\"#fb9f3a\"],[0.8888888888888888,\"#fdca26\"],[1.0,\"#f0f921\"]],\"diverging\":[[0,\"#8e0152\"],[0.1,\"#c51b7d\"],[0.2,\"#de77ae\"],[0.3,\"#f1b6da\"],[0.4,\"#fde0ef\"],[0.5,\"#f7f7f7\"],[0.6,\"#e6f5d0\"],[0.7,\"#b8e186\"],[0.8,\"#7fbc41\"],[0.9,\"#4d9221\"],[1,\"#276419\"]]},\"xaxis\":{\"gridcolor\":\"white\",\"linecolor\":\"white\",\"ticks\":\"\",\"title\":{\"standoff\":15},\"zerolinecolor\":\"white\",\"automargin\":true,\"zerolinewidth\":2},\"yaxis\":{\"gridcolor\":\"white\",\"linecolor\":\"white\",\"ticks\":\"\",\"title\":{\"standoff\":15},\"zerolinecolor\":\"white\",\"automargin\":true,\"zerolinewidth\":2},\"scene\":{\"xaxis\":{\"backgroundcolor\":\"#E5ECF6\",\"gridcolor\":\"white\",\"linecolor\":\"white\",\"showbackground\":true,\"ticks\":\"\",\"zerolinecolor\":\"white\",\"gridwidth\":2},\"yaxis\":{\"backgroundcolor\":\"#E5ECF6\",\"gridcolor\":\"white\",\"linecolor\":\"white\",\"showbackground\":true,\"ticks\":\"\",\"zerolinecolor\":\"white\",\"gridwidth\":2},\"zaxis\":{\"backgroundcolor\":\"#E5ECF6\",\"gridcolor\":\"white\",\"linecolor\":\"white\",\"showbackground\":true,\"ticks\":\"\",\"zerolinecolor\":\"white\",\"gridwidth\":2}},\"shapedefaults\":{\"line\":{\"color\":\"#2a3f5f\"}},\"annotationdefaults\":{\"arrowcolor\":\"#2a3f5f\",\"arrowhead\":0,\"arrowwidth\":1},\"geo\":{\"bgcolor\":\"white\",\"landcolor\":\"#E5ECF6\",\"subunitcolor\":\"white\",\"showland\":true,\"showlakes\":true,\"lakecolor\":\"white\"},\"title\":{\"x\":0.05},\"mapbox\":{\"style\":\"light\"}}},\"xaxis\":{\"anchor\":\"y\",\"domain\":[0.0,1.0],\"title\":{\"text\":\"SUBBRAND\"}},\"yaxis\":{\"anchor\":\"x\",\"domain\":[0.0,1.0],\"title\":{\"text\":\"Count\"}},\"legend\":{\"title\":{\"text\":\"SCENARIO\"},\"tracegroupgap\":0},\"title\":{\"text\":\"Cantidad de Registros por SUBBRAND y Escenario\"},\"barmode\":\"group\"},                        {\"responsive\": true}                    ).then(function(){\n",
              "                            \n",
              "var gd = document.getElementById('61932c27-df91-4fab-b630-0702ce19506f');\n",
              "var x = new MutationObserver(function (mutations, observer) {{\n",
              "        var display = window.getComputedStyle(gd).display;\n",
              "        if (!display || display === 'none') {{\n",
              "            console.log([gd, 'removed!']);\n",
              "            Plotly.purge(gd);\n",
              "            observer.disconnect();\n",
              "        }}\n",
              "}});\n",
              "\n",
              "// Listen for the removal of the full notebook cells\n",
              "var notebookContainer = gd.closest('#notebook-container');\n",
              "if (notebookContainer) {{\n",
              "    x.observe(notebookContainer, {childList: true});\n",
              "}}\n",
              "\n",
              "// Listen for the clearing of the current output cell\n",
              "var outputEl = gd.closest('.output');\n",
              "if (outputEl) {{\n",
              "    x.observe(outputEl, {childList: true});\n",
              "}}\n",
              "\n",
              "                        })                };                            </script>        </div>\n",
              "</body>\n",
              "</html>"
            ]
          },
          "metadata": {}
        }
      ]
    },
    {
      "cell_type": "markdown",
      "source": [
        "Para visualizar mejor los datos reales y facilitar la identificación de aquellos países con mayor o menor cantidad de datos, se ha creado una nueva gráfica que muestra exclusivamente los datos reales, excluyendo las predicciones. Además, se representará el porcentaje que cada país representa del total de datos reales, proporcionando una visión más precisa."
      ],
      "metadata": {
        "id": "KALvOdmGsjad"
      }
    },
    {
      "cell_type": "code",
      "source": [
        "# Calcular el total de datos en el DataFrame\n",
        "total_datos = len(df_actual)\n",
        "\n",
        "# Calcular el porcentaje de cada 'COUNTRY' y 'SUBBRAND' sobre el total de datos\n",
        "df_country_pct = df_actual['COUNTRY'].value_counts(normalize=True).reset_index()\n",
        "df_country_pct.columns = ['COUNTRY', 'PCT_COUNTRY']\n",
        "df_country_pct['PCT_COUNTRY'] *= 100  # Convertir a porcentaje\n",
        "\n",
        "df_subbrand_pct = df_actual['SUBBRAND'].value_counts(normalize=True).reset_index()\n",
        "df_subbrand_pct.columns = ['SUBBRAND', 'PCT_SUBBRAND']\n",
        "df_subbrand_pct['PCT_SUBBRAND'] *= 100  # Convertir a porcentaje\n",
        "\n",
        "# Crear el gráfico de barras para 'COUNTRY' con porcentajes\n",
        "fig_country = px.bar(df_country_pct, x='COUNTRY', y='PCT_COUNTRY', title='Porcentaje de Datos - Country', labels={'COUNTRY': 'Country', 'PCT_COUNTRY': 'Porcentaje de Datos'})\n",
        "fig_country.update_traces(text=df_country_pct['PCT_COUNTRY'].round(2).astype(str) + '%', textposition='outside')\n",
        "\n",
        "# Crear el gráfico de barras para 'SUBBRAND' con porcentajes\n",
        "fig_subbrand = px.bar(df_subbrand_pct, x='SUBBRAND', y='PCT_SUBBRAND', title='Porcentaje de Datos - Subbrand', labels={'SUBBRAND': 'Subbrand', 'PCT_SUBBRAND': 'Porcentaje de Datos'})\n",
        "fig_subbrand.update_traces(text=df_subbrand_pct['PCT_SUBBRAND'].round(2).astype(str) + '%', textposition='outside')\n",
        "\n",
        "# Crear un layout de subplots y agregar ambos gráficos\n",
        "fig = sp.make_subplots(rows=1, cols=2, subplot_titles=(\"Porcentaje de Datos - Country\", \"Porcentaje de Datos - Subbrand\"))\n",
        "\n",
        "# Añadir gráficos al layout\n",
        "fig.add_traces(fig_country['data'], rows=1, cols=1)\n",
        "fig.add_traces(fig_subbrand['data'], rows=1, cols=2)\n",
        "\n",
        "# Ajustar el diseño y mostrar\n",
        "fig.update_layout(title_text=\"Porcentaje de Datos Reales por Pais y Submarca\", showlegend=False)\n",
        "fig.show()"
      ],
      "metadata": {
        "colab": {
          "base_uri": "https://localhost:8080/",
          "height": 542
        },
        "id": "EwbkKbmXIV88",
        "outputId": "19646dbb-ba73-4c68-b17e-5e245df9b2d2"
      },
      "execution_count": 489,
      "outputs": [
        {
          "output_type": "display_data",
          "data": {
            "text/html": [
              "<html>\n",
              "<head><meta charset=\"utf-8\" /></head>\n",
              "<body>\n",
              "    <div>            <script src=\"https://cdnjs.cloudflare.com/ajax/libs/mathjax/2.7.5/MathJax.js?config=TeX-AMS-MML_SVG\"></script><script type=\"text/javascript\">if (window.MathJax && window.MathJax.Hub && window.MathJax.Hub.Config) {window.MathJax.Hub.Config({SVG: {font: \"STIX-Web\"}});}</script>                <script type=\"text/javascript\">window.PlotlyConfig = {MathJaxConfig: 'local'};</script>\n",
              "        <script charset=\"utf-8\" src=\"https://cdn.plot.ly/plotly-2.35.2.min.js\"></script>                <div id=\"e83178cb-885d-4bf9-bcf5-15a412e26f08\" class=\"plotly-graph-div\" style=\"height:525px; width:100%;\"></div>            <script type=\"text/javascript\">                                    window.PLOTLYENV=window.PLOTLYENV || {};                                    if (document.getElementById(\"e83178cb-885d-4bf9-bcf5-15a412e26f08\")) {                    Plotly.newPlot(                        \"e83178cb-885d-4bf9-bcf5-15a412e26f08\",                        [{\"alignmentgroup\":\"True\",\"hovertemplate\":\"Country=%{x}\\u003cbr\\u003ePorcentaje de Datos=%{y}\\u003cextra\\u003e\\u003c\\u002fextra\\u003e\",\"legendgroup\":\"\",\"marker\":{\"color\":\"#636efa\",\"pattern\":{\"shape\":\"\"}},\"name\":\"\",\"offsetgroup\":\"\",\"orientation\":\"v\",\"showlegend\":false,\"text\":[\"13.33%\",\"13.11%\",\"12.89%\",\"11.89%\",\"11.11%\",\"11.11%\",\"11.0%\",\"8.89%\",\"6.67%\"],\"textposition\":\"outside\",\"x\":[\"Great Britain\",\"Norway\",\"Hungary\",\"Czech\",\"Netherlands\",\"Spain\",\"Portugal\",\"Denmark\",\"Italy\"],\"xaxis\":\"x\",\"y\":[13.333333333333334,13.111111111111112,12.88888888888889,11.88888888888889,11.11111111111111,11.11111111111111,11.0,8.88888888888889,6.666666666666667],\"yaxis\":\"y\",\"type\":\"bar\"},{\"alignmentgroup\":\"True\",\"hovertemplate\":\"Subbrand=%{x}\\u003cbr\\u003ePorcentaje de Datos=%{y}\\u003cextra\\u003e\\u003c\\u002fextra\\u003e\",\"legendgroup\":\"\",\"marker\":{\"color\":\"#636efa\",\"pattern\":{\"shape\":\"\"}},\"name\":\"\",\"offsetgroup\":\"\",\"orientation\":\"v\",\"showlegend\":false,\"text\":[\"20.0%\",\"20.0%\",\"17.33%\",\"16.33%\",\"15.22%\",\"11.11%\"],\"textposition\":\"outside\",\"x\":[\"Pepsi Max (L3)\",\"Pepsi Regular (L3)\",\"7up (L3)\",\"7up Free (L3)\",\"Lipton (L3)\",\"Mountain Dew (L3)\"],\"xaxis\":\"x2\",\"y\":[20.0,20.0,17.333333333333336,16.333333333333332,15.222222222222223,11.11111111111111],\"yaxis\":\"y2\",\"type\":\"bar\"}],                        {\"template\":{\"data\":{\"histogram2dcontour\":[{\"type\":\"histogram2dcontour\",\"colorbar\":{\"outlinewidth\":0,\"ticks\":\"\"},\"colorscale\":[[0.0,\"#0d0887\"],[0.1111111111111111,\"#46039f\"],[0.2222222222222222,\"#7201a8\"],[0.3333333333333333,\"#9c179e\"],[0.4444444444444444,\"#bd3786\"],[0.5555555555555556,\"#d8576b\"],[0.6666666666666666,\"#ed7953\"],[0.7777777777777778,\"#fb9f3a\"],[0.8888888888888888,\"#fdca26\"],[1.0,\"#f0f921\"]]}],\"choropleth\":[{\"type\":\"choropleth\",\"colorbar\":{\"outlinewidth\":0,\"ticks\":\"\"}}],\"histogram2d\":[{\"type\":\"histogram2d\",\"colorbar\":{\"outlinewidth\":0,\"ticks\":\"\"},\"colorscale\":[[0.0,\"#0d0887\"],[0.1111111111111111,\"#46039f\"],[0.2222222222222222,\"#7201a8\"],[0.3333333333333333,\"#9c179e\"],[0.4444444444444444,\"#bd3786\"],[0.5555555555555556,\"#d8576b\"],[0.6666666666666666,\"#ed7953\"],[0.7777777777777778,\"#fb9f3a\"],[0.8888888888888888,\"#fdca26\"],[1.0,\"#f0f921\"]]}],\"heatmap\":[{\"type\":\"heatmap\",\"colorbar\":{\"outlinewidth\":0,\"ticks\":\"\"},\"colorscale\":[[0.0,\"#0d0887\"],[0.1111111111111111,\"#46039f\"],[0.2222222222222222,\"#7201a8\"],[0.3333333333333333,\"#9c179e\"],[0.4444444444444444,\"#bd3786\"],[0.5555555555555556,\"#d8576b\"],[0.6666666666666666,\"#ed7953\"],[0.7777777777777778,\"#fb9f3a\"],[0.8888888888888888,\"#fdca26\"],[1.0,\"#f0f921\"]]}],\"heatmapgl\":[{\"type\":\"heatmapgl\",\"colorbar\":{\"outlinewidth\":0,\"ticks\":\"\"},\"colorscale\":[[0.0,\"#0d0887\"],[0.1111111111111111,\"#46039f\"],[0.2222222222222222,\"#7201a8\"],[0.3333333333333333,\"#9c179e\"],[0.4444444444444444,\"#bd3786\"],[0.5555555555555556,\"#d8576b\"],[0.6666666666666666,\"#ed7953\"],[0.7777777777777778,\"#fb9f3a\"],[0.8888888888888888,\"#fdca26\"],[1.0,\"#f0f921\"]]}],\"contourcarpet\":[{\"type\":\"contourcarpet\",\"colorbar\":{\"outlinewidth\":0,\"ticks\":\"\"}}],\"contour\":[{\"type\":\"contour\",\"colorbar\":{\"outlinewidth\":0,\"ticks\":\"\"},\"colorscale\":[[0.0,\"#0d0887\"],[0.1111111111111111,\"#46039f\"],[0.2222222222222222,\"#7201a8\"],[0.3333333333333333,\"#9c179e\"],[0.4444444444444444,\"#bd3786\"],[0.5555555555555556,\"#d8576b\"],[0.6666666666666666,\"#ed7953\"],[0.7777777777777778,\"#fb9f3a\"],[0.8888888888888888,\"#fdca26\"],[1.0,\"#f0f921\"]]}],\"surface\":[{\"type\":\"surface\",\"colorbar\":{\"outlinewidth\":0,\"ticks\":\"\"},\"colorscale\":[[0.0,\"#0d0887\"],[0.1111111111111111,\"#46039f\"],[0.2222222222222222,\"#7201a8\"],[0.3333333333333333,\"#9c179e\"],[0.4444444444444444,\"#bd3786\"],[0.5555555555555556,\"#d8576b\"],[0.6666666666666666,\"#ed7953\"],[0.7777777777777778,\"#fb9f3a\"],[0.8888888888888888,\"#fdca26\"],[1.0,\"#f0f921\"]]}],\"mesh3d\":[{\"type\":\"mesh3d\",\"colorbar\":{\"outlinewidth\":0,\"ticks\":\"\"}}],\"scatter\":[{\"fillpattern\":{\"fillmode\":\"overlay\",\"size\":10,\"solidity\":0.2},\"type\":\"scatter\"}],\"parcoords\":[{\"type\":\"parcoords\",\"line\":{\"colorbar\":{\"outlinewidth\":0,\"ticks\":\"\"}}}],\"scatterpolargl\":[{\"type\":\"scatterpolargl\",\"marker\":{\"colorbar\":{\"outlinewidth\":0,\"ticks\":\"\"}}}],\"bar\":[{\"error_x\":{\"color\":\"#2a3f5f\"},\"error_y\":{\"color\":\"#2a3f5f\"},\"marker\":{\"line\":{\"color\":\"#E5ECF6\",\"width\":0.5},\"pattern\":{\"fillmode\":\"overlay\",\"size\":10,\"solidity\":0.2}},\"type\":\"bar\"}],\"scattergeo\":[{\"type\":\"scattergeo\",\"marker\":{\"colorbar\":{\"outlinewidth\":0,\"ticks\":\"\"}}}],\"scatterpolar\":[{\"type\":\"scatterpolar\",\"marker\":{\"colorbar\":{\"outlinewidth\":0,\"ticks\":\"\"}}}],\"histogram\":[{\"marker\":{\"pattern\":{\"fillmode\":\"overlay\",\"size\":10,\"solidity\":0.2}},\"type\":\"histogram\"}],\"scattergl\":[{\"type\":\"scattergl\",\"marker\":{\"colorbar\":{\"outlinewidth\":0,\"ticks\":\"\"}}}],\"scatter3d\":[{\"type\":\"scatter3d\",\"line\":{\"colorbar\":{\"outlinewidth\":0,\"ticks\":\"\"}},\"marker\":{\"colorbar\":{\"outlinewidth\":0,\"ticks\":\"\"}}}],\"scattermapbox\":[{\"type\":\"scattermapbox\",\"marker\":{\"colorbar\":{\"outlinewidth\":0,\"ticks\":\"\"}}}],\"scatterternary\":[{\"type\":\"scatterternary\",\"marker\":{\"colorbar\":{\"outlinewidth\":0,\"ticks\":\"\"}}}],\"scattercarpet\":[{\"type\":\"scattercarpet\",\"marker\":{\"colorbar\":{\"outlinewidth\":0,\"ticks\":\"\"}}}],\"carpet\":[{\"aaxis\":{\"endlinecolor\":\"#2a3f5f\",\"gridcolor\":\"white\",\"linecolor\":\"white\",\"minorgridcolor\":\"white\",\"startlinecolor\":\"#2a3f5f\"},\"baxis\":{\"endlinecolor\":\"#2a3f5f\",\"gridcolor\":\"white\",\"linecolor\":\"white\",\"minorgridcolor\":\"white\",\"startlinecolor\":\"#2a3f5f\"},\"type\":\"carpet\"}],\"table\":[{\"cells\":{\"fill\":{\"color\":\"#EBF0F8\"},\"line\":{\"color\":\"white\"}},\"header\":{\"fill\":{\"color\":\"#C8D4E3\"},\"line\":{\"color\":\"white\"}},\"type\":\"table\"}],\"barpolar\":[{\"marker\":{\"line\":{\"color\":\"#E5ECF6\",\"width\":0.5},\"pattern\":{\"fillmode\":\"overlay\",\"size\":10,\"solidity\":0.2}},\"type\":\"barpolar\"}],\"pie\":[{\"automargin\":true,\"type\":\"pie\"}]},\"layout\":{\"autotypenumbers\":\"strict\",\"colorway\":[\"#636efa\",\"#EF553B\",\"#00cc96\",\"#ab63fa\",\"#FFA15A\",\"#19d3f3\",\"#FF6692\",\"#B6E880\",\"#FF97FF\",\"#FECB52\"],\"font\":{\"color\":\"#2a3f5f\"},\"hovermode\":\"closest\",\"hoverlabel\":{\"align\":\"left\"},\"paper_bgcolor\":\"white\",\"plot_bgcolor\":\"#E5ECF6\",\"polar\":{\"bgcolor\":\"#E5ECF6\",\"angularaxis\":{\"gridcolor\":\"white\",\"linecolor\":\"white\",\"ticks\":\"\"},\"radialaxis\":{\"gridcolor\":\"white\",\"linecolor\":\"white\",\"ticks\":\"\"}},\"ternary\":{\"bgcolor\":\"#E5ECF6\",\"aaxis\":{\"gridcolor\":\"white\",\"linecolor\":\"white\",\"ticks\":\"\"},\"baxis\":{\"gridcolor\":\"white\",\"linecolor\":\"white\",\"ticks\":\"\"},\"caxis\":{\"gridcolor\":\"white\",\"linecolor\":\"white\",\"ticks\":\"\"}},\"coloraxis\":{\"colorbar\":{\"outlinewidth\":0,\"ticks\":\"\"}},\"colorscale\":{\"sequential\":[[0.0,\"#0d0887\"],[0.1111111111111111,\"#46039f\"],[0.2222222222222222,\"#7201a8\"],[0.3333333333333333,\"#9c179e\"],[0.4444444444444444,\"#bd3786\"],[0.5555555555555556,\"#d8576b\"],[0.6666666666666666,\"#ed7953\"],[0.7777777777777778,\"#fb9f3a\"],[0.8888888888888888,\"#fdca26\"],[1.0,\"#f0f921\"]],\"sequentialminus\":[[0.0,\"#0d0887\"],[0.1111111111111111,\"#46039f\"],[0.2222222222222222,\"#7201a8\"],[0.3333333333333333,\"#9c179e\"],[0.4444444444444444,\"#bd3786\"],[0.5555555555555556,\"#d8576b\"],[0.6666666666666666,\"#ed7953\"],[0.7777777777777778,\"#fb9f3a\"],[0.8888888888888888,\"#fdca26\"],[1.0,\"#f0f921\"]],\"diverging\":[[0,\"#8e0152\"],[0.1,\"#c51b7d\"],[0.2,\"#de77ae\"],[0.3,\"#f1b6da\"],[0.4,\"#fde0ef\"],[0.5,\"#f7f7f7\"],[0.6,\"#e6f5d0\"],[0.7,\"#b8e186\"],[0.8,\"#7fbc41\"],[0.9,\"#4d9221\"],[1,\"#276419\"]]},\"xaxis\":{\"gridcolor\":\"white\",\"linecolor\":\"white\",\"ticks\":\"\",\"title\":{\"standoff\":15},\"zerolinecolor\":\"white\",\"automargin\":true,\"zerolinewidth\":2},\"yaxis\":{\"gridcolor\":\"white\",\"linecolor\":\"white\",\"ticks\":\"\",\"title\":{\"standoff\":15},\"zerolinecolor\":\"white\",\"automargin\":true,\"zerolinewidth\":2},\"scene\":{\"xaxis\":{\"backgroundcolor\":\"#E5ECF6\",\"gridcolor\":\"white\",\"linecolor\":\"white\",\"showbackground\":true,\"ticks\":\"\",\"zerolinecolor\":\"white\",\"gridwidth\":2},\"yaxis\":{\"backgroundcolor\":\"#E5ECF6\",\"gridcolor\":\"white\",\"linecolor\":\"white\",\"showbackground\":true,\"ticks\":\"\",\"zerolinecolor\":\"white\",\"gridwidth\":2},\"zaxis\":{\"backgroundcolor\":\"#E5ECF6\",\"gridcolor\":\"white\",\"linecolor\":\"white\",\"showbackground\":true,\"ticks\":\"\",\"zerolinecolor\":\"white\",\"gridwidth\":2}},\"shapedefaults\":{\"line\":{\"color\":\"#2a3f5f\"}},\"annotationdefaults\":{\"arrowcolor\":\"#2a3f5f\",\"arrowhead\":0,\"arrowwidth\":1},\"geo\":{\"bgcolor\":\"white\",\"landcolor\":\"#E5ECF6\",\"subunitcolor\":\"white\",\"showland\":true,\"showlakes\":true,\"lakecolor\":\"white\"},\"title\":{\"x\":0.05},\"mapbox\":{\"style\":\"light\"}}},\"xaxis\":{\"anchor\":\"y\",\"domain\":[0.0,0.45]},\"yaxis\":{\"anchor\":\"x\",\"domain\":[0.0,1.0]},\"xaxis2\":{\"anchor\":\"y2\",\"domain\":[0.55,1.0]},\"yaxis2\":{\"anchor\":\"x2\",\"domain\":[0.0,1.0]},\"annotations\":[{\"font\":{\"size\":16},\"showarrow\":false,\"text\":\"Porcentaje de Datos - Country\",\"x\":0.225,\"xanchor\":\"center\",\"xref\":\"paper\",\"y\":1.0,\"yanchor\":\"bottom\",\"yref\":\"paper\"},{\"font\":{\"size\":16},\"showarrow\":false,\"text\":\"Porcentaje de Datos - Subbrand\",\"x\":0.775,\"xanchor\":\"center\",\"xref\":\"paper\",\"y\":1.0,\"yanchor\":\"bottom\",\"yref\":\"paper\"}],\"title\":{\"text\":\"Porcentaje de Datos Reales por Pais y Submarca\"},\"showlegend\":false},                        {\"responsive\": true}                    ).then(function(){\n",
              "                            \n",
              "var gd = document.getElementById('e83178cb-885d-4bf9-bcf5-15a412e26f08');\n",
              "var x = new MutationObserver(function (mutations, observer) {{\n",
              "        var display = window.getComputedStyle(gd).display;\n",
              "        if (!display || display === 'none') {{\n",
              "            console.log([gd, 'removed!']);\n",
              "            Plotly.purge(gd);\n",
              "            observer.disconnect();\n",
              "        }}\n",
              "}});\n",
              "\n",
              "// Listen for the removal of the full notebook cells\n",
              "var notebookContainer = gd.closest('#notebook-container');\n",
              "if (notebookContainer) {{\n",
              "    x.observe(notebookContainer, {childList: true});\n",
              "}}\n",
              "\n",
              "// Listen for the clearing of the current output cell\n",
              "var outputEl = gd.closest('.output');\n",
              "if (outputEl) {{\n",
              "    x.observe(outputEl, {childList: true});\n",
              "}}\n",
              "\n",
              "                        })                };                            </script>        </div>\n",
              "</body>\n",
              "</html>"
            ]
          },
          "metadata": {}
        }
      ]
    },
    {
      "cell_type": "markdown",
      "source": [
        "## **Análisis de datos reales**\n",
        "\n",
        "Vamos a analizar si los datos son consistentes o si, en cambio, puede haber algún tipo de error en ellos. Observamos que existen cantidades negativas, lo cual solo tendría sentido si representaran pérdidas. A continuación, examinaremos cuántos datos presentan valores negativos y evaluaremos si tienen coherencia en el contexto de los datos."
      ],
      "metadata": {
        "id": "hynYEHVs8nAY"
      }
    },
    {
      "cell_type": "code",
      "source": [
        "df_actual[['YEAR', 'MONTH', 'AMOUNT']].describe()"
      ],
      "metadata": {
        "colab": {
          "base_uri": "https://localhost:8080/",
          "height": 300
        },
        "id": "o18isZ167SFt",
        "outputId": "4c426a27-7c14-47cb-8302-8f0077db8f08"
      },
      "execution_count": 490,
      "outputs": [
        {
          "output_type": "execute_result",
          "data": {
            "text/plain": [
              "              YEAR       MONTH        AMOUNT\n",
              "count   900.000000  900.000000  9.000000e+02\n",
              "mean   2023.402222    5.697778  7.443485e+05\n",
              "std       0.490619    3.194440  1.905511e+06\n",
              "min    2023.000000    1.000000 -2.171201e+05\n",
              "25%    2023.000000    3.000000  5.574319e+04\n",
              "50%    2023.000000    5.500000  1.856788e+05\n",
              "75%    2024.000000    8.000000  6.432082e+05\n",
              "max    2024.000000   12.000000  1.481563e+07"
            ],
            "text/html": [
              "\n",
              "  <div id=\"df-1a514194-42fb-47cd-83fb-4fa6664d2b99\" class=\"colab-df-container\">\n",
              "    <div>\n",
              "<style scoped>\n",
              "    .dataframe tbody tr th:only-of-type {\n",
              "        vertical-align: middle;\n",
              "    }\n",
              "\n",
              "    .dataframe tbody tr th {\n",
              "        vertical-align: top;\n",
              "    }\n",
              "\n",
              "    .dataframe thead th {\n",
              "        text-align: right;\n",
              "    }\n",
              "</style>\n",
              "<table border=\"1\" class=\"dataframe\">\n",
              "  <thead>\n",
              "    <tr style=\"text-align: right;\">\n",
              "      <th></th>\n",
              "      <th>YEAR</th>\n",
              "      <th>MONTH</th>\n",
              "      <th>AMOUNT</th>\n",
              "    </tr>\n",
              "  </thead>\n",
              "  <tbody>\n",
              "    <tr>\n",
              "      <th>count</th>\n",
              "      <td>900.000000</td>\n",
              "      <td>900.000000</td>\n",
              "      <td>9.000000e+02</td>\n",
              "    </tr>\n",
              "    <tr>\n",
              "      <th>mean</th>\n",
              "      <td>2023.402222</td>\n",
              "      <td>5.697778</td>\n",
              "      <td>7.443485e+05</td>\n",
              "    </tr>\n",
              "    <tr>\n",
              "      <th>std</th>\n",
              "      <td>0.490619</td>\n",
              "      <td>3.194440</td>\n",
              "      <td>1.905511e+06</td>\n",
              "    </tr>\n",
              "    <tr>\n",
              "      <th>min</th>\n",
              "      <td>2023.000000</td>\n",
              "      <td>1.000000</td>\n",
              "      <td>-2.171201e+05</td>\n",
              "    </tr>\n",
              "    <tr>\n",
              "      <th>25%</th>\n",
              "      <td>2023.000000</td>\n",
              "      <td>3.000000</td>\n",
              "      <td>5.574319e+04</td>\n",
              "    </tr>\n",
              "    <tr>\n",
              "      <th>50%</th>\n",
              "      <td>2023.000000</td>\n",
              "      <td>5.500000</td>\n",
              "      <td>1.856788e+05</td>\n",
              "    </tr>\n",
              "    <tr>\n",
              "      <th>75%</th>\n",
              "      <td>2024.000000</td>\n",
              "      <td>8.000000</td>\n",
              "      <td>6.432082e+05</td>\n",
              "    </tr>\n",
              "    <tr>\n",
              "      <th>max</th>\n",
              "      <td>2024.000000</td>\n",
              "      <td>12.000000</td>\n",
              "      <td>1.481563e+07</td>\n",
              "    </tr>\n",
              "  </tbody>\n",
              "</table>\n",
              "</div>\n",
              "    <div class=\"colab-df-buttons\">\n",
              "\n",
              "  <div class=\"colab-df-container\">\n",
              "    <button class=\"colab-df-convert\" onclick=\"convertToInteractive('df-1a514194-42fb-47cd-83fb-4fa6664d2b99')\"\n",
              "            title=\"Convert this dataframe to an interactive table.\"\n",
              "            style=\"display:none;\">\n",
              "\n",
              "  <svg xmlns=\"http://www.w3.org/2000/svg\" height=\"24px\" viewBox=\"0 -960 960 960\">\n",
              "    <path d=\"M120-120v-720h720v720H120Zm60-500h600v-160H180v160Zm220 220h160v-160H400v160Zm0 220h160v-160H400v160ZM180-400h160v-160H180v160Zm440 0h160v-160H620v160ZM180-180h160v-160H180v160Zm440 0h160v-160H620v160Z\"/>\n",
              "  </svg>\n",
              "    </button>\n",
              "\n",
              "  <style>\n",
              "    .colab-df-container {\n",
              "      display:flex;\n",
              "      gap: 12px;\n",
              "    }\n",
              "\n",
              "    .colab-df-convert {\n",
              "      background-color: #E8F0FE;\n",
              "      border: none;\n",
              "      border-radius: 50%;\n",
              "      cursor: pointer;\n",
              "      display: none;\n",
              "      fill: #1967D2;\n",
              "      height: 32px;\n",
              "      padding: 0 0 0 0;\n",
              "      width: 32px;\n",
              "    }\n",
              "\n",
              "    .colab-df-convert:hover {\n",
              "      background-color: #E2EBFA;\n",
              "      box-shadow: 0px 1px 2px rgba(60, 64, 67, 0.3), 0px 1px 3px 1px rgba(60, 64, 67, 0.15);\n",
              "      fill: #174EA6;\n",
              "    }\n",
              "\n",
              "    .colab-df-buttons div {\n",
              "      margin-bottom: 4px;\n",
              "    }\n",
              "\n",
              "    [theme=dark] .colab-df-convert {\n",
              "      background-color: #3B4455;\n",
              "      fill: #D2E3FC;\n",
              "    }\n",
              "\n",
              "    [theme=dark] .colab-df-convert:hover {\n",
              "      background-color: #434B5C;\n",
              "      box-shadow: 0px 1px 3px 1px rgba(0, 0, 0, 0.15);\n",
              "      filter: drop-shadow(0px 1px 2px rgba(0, 0, 0, 0.3));\n",
              "      fill: #FFFFFF;\n",
              "    }\n",
              "  </style>\n",
              "\n",
              "    <script>\n",
              "      const buttonEl =\n",
              "        document.querySelector('#df-1a514194-42fb-47cd-83fb-4fa6664d2b99 button.colab-df-convert');\n",
              "      buttonEl.style.display =\n",
              "        google.colab.kernel.accessAllowed ? 'block' : 'none';\n",
              "\n",
              "      async function convertToInteractive(key) {\n",
              "        const element = document.querySelector('#df-1a514194-42fb-47cd-83fb-4fa6664d2b99');\n",
              "        const dataTable =\n",
              "          await google.colab.kernel.invokeFunction('convertToInteractive',\n",
              "                                                    [key], {});\n",
              "        if (!dataTable) return;\n",
              "\n",
              "        const docLinkHtml = 'Like what you see? Visit the ' +\n",
              "          '<a target=\"_blank\" href=https://colab.research.google.com/notebooks/data_table.ipynb>data table notebook</a>'\n",
              "          + ' to learn more about interactive tables.';\n",
              "        element.innerHTML = '';\n",
              "        dataTable['output_type'] = 'display_data';\n",
              "        await google.colab.output.renderOutput(dataTable, element);\n",
              "        const docLink = document.createElement('div');\n",
              "        docLink.innerHTML = docLinkHtml;\n",
              "        element.appendChild(docLink);\n",
              "      }\n",
              "    </script>\n",
              "  </div>\n",
              "\n",
              "\n",
              "<div id=\"df-2042ae72-e317-4c29-81e0-90e48ec79d84\">\n",
              "  <button class=\"colab-df-quickchart\" onclick=\"quickchart('df-2042ae72-e317-4c29-81e0-90e48ec79d84')\"\n",
              "            title=\"Suggest charts\"\n",
              "            style=\"display:none;\">\n",
              "\n",
              "<svg xmlns=\"http://www.w3.org/2000/svg\" height=\"24px\"viewBox=\"0 0 24 24\"\n",
              "     width=\"24px\">\n",
              "    <g>\n",
              "        <path d=\"M19 3H5c-1.1 0-2 .9-2 2v14c0 1.1.9 2 2 2h14c1.1 0 2-.9 2-2V5c0-1.1-.9-2-2-2zM9 17H7v-7h2v7zm4 0h-2V7h2v10zm4 0h-2v-4h2v4z\"/>\n",
              "    </g>\n",
              "</svg>\n",
              "  </button>\n",
              "\n",
              "<style>\n",
              "  .colab-df-quickchart {\n",
              "      --bg-color: #E8F0FE;\n",
              "      --fill-color: #1967D2;\n",
              "      --hover-bg-color: #E2EBFA;\n",
              "      --hover-fill-color: #174EA6;\n",
              "      --disabled-fill-color: #AAA;\n",
              "      --disabled-bg-color: #DDD;\n",
              "  }\n",
              "\n",
              "  [theme=dark] .colab-df-quickchart {\n",
              "      --bg-color: #3B4455;\n",
              "      --fill-color: #D2E3FC;\n",
              "      --hover-bg-color: #434B5C;\n",
              "      --hover-fill-color: #FFFFFF;\n",
              "      --disabled-bg-color: #3B4455;\n",
              "      --disabled-fill-color: #666;\n",
              "  }\n",
              "\n",
              "  .colab-df-quickchart {\n",
              "    background-color: var(--bg-color);\n",
              "    border: none;\n",
              "    border-radius: 50%;\n",
              "    cursor: pointer;\n",
              "    display: none;\n",
              "    fill: var(--fill-color);\n",
              "    height: 32px;\n",
              "    padding: 0;\n",
              "    width: 32px;\n",
              "  }\n",
              "\n",
              "  .colab-df-quickchart:hover {\n",
              "    background-color: var(--hover-bg-color);\n",
              "    box-shadow: 0 1px 2px rgba(60, 64, 67, 0.3), 0 1px 3px 1px rgba(60, 64, 67, 0.15);\n",
              "    fill: var(--button-hover-fill-color);\n",
              "  }\n",
              "\n",
              "  .colab-df-quickchart-complete:disabled,\n",
              "  .colab-df-quickchart-complete:disabled:hover {\n",
              "    background-color: var(--disabled-bg-color);\n",
              "    fill: var(--disabled-fill-color);\n",
              "    box-shadow: none;\n",
              "  }\n",
              "\n",
              "  .colab-df-spinner {\n",
              "    border: 2px solid var(--fill-color);\n",
              "    border-color: transparent;\n",
              "    border-bottom-color: var(--fill-color);\n",
              "    animation:\n",
              "      spin 1s steps(1) infinite;\n",
              "  }\n",
              "\n",
              "  @keyframes spin {\n",
              "    0% {\n",
              "      border-color: transparent;\n",
              "      border-bottom-color: var(--fill-color);\n",
              "      border-left-color: var(--fill-color);\n",
              "    }\n",
              "    20% {\n",
              "      border-color: transparent;\n",
              "      border-left-color: var(--fill-color);\n",
              "      border-top-color: var(--fill-color);\n",
              "    }\n",
              "    30% {\n",
              "      border-color: transparent;\n",
              "      border-left-color: var(--fill-color);\n",
              "      border-top-color: var(--fill-color);\n",
              "      border-right-color: var(--fill-color);\n",
              "    }\n",
              "    40% {\n",
              "      border-color: transparent;\n",
              "      border-right-color: var(--fill-color);\n",
              "      border-top-color: var(--fill-color);\n",
              "    }\n",
              "    60% {\n",
              "      border-color: transparent;\n",
              "      border-right-color: var(--fill-color);\n",
              "    }\n",
              "    80% {\n",
              "      border-color: transparent;\n",
              "      border-right-color: var(--fill-color);\n",
              "      border-bottom-color: var(--fill-color);\n",
              "    }\n",
              "    90% {\n",
              "      border-color: transparent;\n",
              "      border-bottom-color: var(--fill-color);\n",
              "    }\n",
              "  }\n",
              "</style>\n",
              "\n",
              "  <script>\n",
              "    async function quickchart(key) {\n",
              "      const quickchartButtonEl =\n",
              "        document.querySelector('#' + key + ' button');\n",
              "      quickchartButtonEl.disabled = true;  // To prevent multiple clicks.\n",
              "      quickchartButtonEl.classList.add('colab-df-spinner');\n",
              "      try {\n",
              "        const charts = await google.colab.kernel.invokeFunction(\n",
              "            'suggestCharts', [key], {});\n",
              "      } catch (error) {\n",
              "        console.error('Error during call to suggestCharts:', error);\n",
              "      }\n",
              "      quickchartButtonEl.classList.remove('colab-df-spinner');\n",
              "      quickchartButtonEl.classList.add('colab-df-quickchart-complete');\n",
              "    }\n",
              "    (() => {\n",
              "      let quickchartButtonEl =\n",
              "        document.querySelector('#df-2042ae72-e317-4c29-81e0-90e48ec79d84 button');\n",
              "      quickchartButtonEl.style.display =\n",
              "        google.colab.kernel.accessAllowed ? 'block' : 'none';\n",
              "    })();\n",
              "  </script>\n",
              "</div>\n",
              "\n",
              "    </div>\n",
              "  </div>\n"
            ],
            "application/vnd.google.colaboratory.intrinsic+json": {
              "type": "dataframe",
              "summary": "{\n  \"name\": \"df_actual[['YEAR', 'MONTH', 'AMOUNT']]\",\n  \"rows\": 8,\n  \"fields\": [\n    {\n      \"column\": \"YEAR\",\n      \"properties\": {\n        \"dtype\": \"number\",\n        \"std\": 766.8847027999107,\n        \"min\": 0.4906189543309397,\n        \"max\": 2024.0,\n        \"num_unique_values\": 5,\n        \"samples\": [\n          2023.4022222222222,\n          2024.0,\n          0.4906189543309397\n        ],\n        \"semantic_type\": \"\",\n        \"description\": \"\"\n      }\n    },\n    {\n      \"column\": \"MONTH\",\n      \"properties\": {\n        \"dtype\": \"number\",\n        \"std\": 316.27709932645166,\n        \"min\": 1.0,\n        \"max\": 900.0,\n        \"num_unique_values\": 8,\n        \"samples\": [\n          5.697777777777778,\n          5.5,\n          900.0\n        ],\n        \"semantic_type\": \"\",\n        \"description\": \"\"\n      }\n    },\n    {\n      \"column\": \"AMOUNT\",\n      \"properties\": {\n        \"dtype\": \"number\",\n        \"std\": 5114147.437127449,\n        \"min\": -217120.10313272703,\n        \"max\": 14815628.237867463,\n        \"num_unique_values\": 8,\n        \"samples\": [\n          744348.5452734682,\n          185678.84264510087,\n          900.0\n        ],\n        \"semantic_type\": \"\",\n        \"description\": \"\"\n      }\n    }\n  ]\n}"
            }
          },
          "metadata": {},
          "execution_count": 490
        }
      ]
    },
    {
      "cell_type": "markdown",
      "source": [
        "**Vamos a crear la columna Fecha**\n",
        "\n",
        "Para poder visulizar correctamente las series temporales."
      ],
      "metadata": {
        "id": "KA7e2JIr_WsM"
      }
    },
    {
      "cell_type": "code",
      "source": [
        "df_actual['Fecha'] = pd.to_datetime(df_actual[['YEAR', 'MONTH']].assign(DAY=1))\n",
        "df_actual = df_actual.sort_values(by=\"Fecha\")"
      ],
      "metadata": {
        "id": "fyrkszK2_igm"
      },
      "execution_count": 491,
      "outputs": []
    },
    {
      "cell_type": "markdown",
      "source": [
        "### **Datos negativos**\n",
        "\n",
        "Vemos si los datos son coherentes"
      ],
      "metadata": {
        "id": "wb_Ebi62_jpg"
      }
    },
    {
      "cell_type": "code",
      "source": [
        "df_actual[df_actual['AMOUNT'] < 100]"
      ],
      "metadata": {
        "colab": {
          "base_uri": "https://localhost:8080/",
          "height": 551
        },
        "id": "o3Wm6yrI71C_",
        "outputId": "58228796-7328-4ffe-e2f1-ba087c47fc65"
      },
      "execution_count": 492,
      "outputs": [
        {
          "output_type": "execute_result",
          "data": {
            "text/plain": [
              "     COUNTRY       SUBBRAND  YEAR  MONTH SCENARIO         AMOUNT      Fecha\n",
              "539  Hungary       7up (L3)  2023      7   actual   -6332.708713 2023-07-01\n",
              "569   Norway    Lipton (L3)  2023      9   actual -217120.103133 2023-09-01\n",
              "317  Hungary       7up (L3)  2023      9   actual  -19481.652378 2023-09-01\n",
              "417  Hungary       7up (L3)  2023     11   actual  -13549.371551 2023-11-01\n",
              "682  Hungary       7up (L3)  2023     12   actual     -10.791926 2023-12-01\n",
              "363  Hungary       7up (L3)  2024      1   actual    -188.474017 2024-01-01\n",
              "823  Hungary       7up (L3)  2024      2   actual      -1.394871 2024-02-01\n",
              "610   Norway    Lipton (L3)  2024      2   actual      73.968144 2024-02-01\n",
              "165    Czech  7up Free (L3)  2024      2   actual      89.354912 2024-02-01\n",
              "750   Norway    Lipton (L3)  2024      3   actual    -173.296795 2024-03-01\n",
              "40   Hungary       7up (L3)  2024      4   actual       5.575874 2024-04-01\n",
              "382   Norway    Lipton (L3)  2024      7   actual   -3177.460145 2024-07-01\n",
              "171  Hungary       7up (L3)  2024      7   actual       1.394828 2024-07-01\n",
              "174    Czech       7up (L3)  2024      7   actual      45.798609 2024-07-01\n",
              "236    Czech       7up (L3)  2024      8   actual       0.443809 2024-08-01\n",
              "858   Norway    Lipton (L3)  2024      8   actual   -2435.665326 2024-08-01"
            ],
            "text/html": [
              "\n",
              "  <div id=\"df-e3f77edf-abfc-4f3b-9fa9-24030d4c8131\" class=\"colab-df-container\">\n",
              "    <div>\n",
              "<style scoped>\n",
              "    .dataframe tbody tr th:only-of-type {\n",
              "        vertical-align: middle;\n",
              "    }\n",
              "\n",
              "    .dataframe tbody tr th {\n",
              "        vertical-align: top;\n",
              "    }\n",
              "\n",
              "    .dataframe thead th {\n",
              "        text-align: right;\n",
              "    }\n",
              "</style>\n",
              "<table border=\"1\" class=\"dataframe\">\n",
              "  <thead>\n",
              "    <tr style=\"text-align: right;\">\n",
              "      <th></th>\n",
              "      <th>COUNTRY</th>\n",
              "      <th>SUBBRAND</th>\n",
              "      <th>YEAR</th>\n",
              "      <th>MONTH</th>\n",
              "      <th>SCENARIO</th>\n",
              "      <th>AMOUNT</th>\n",
              "      <th>Fecha</th>\n",
              "    </tr>\n",
              "  </thead>\n",
              "  <tbody>\n",
              "    <tr>\n",
              "      <th>539</th>\n",
              "      <td>Hungary</td>\n",
              "      <td>7up (L3)</td>\n",
              "      <td>2023</td>\n",
              "      <td>7</td>\n",
              "      <td>actual</td>\n",
              "      <td>-6332.708713</td>\n",
              "      <td>2023-07-01</td>\n",
              "    </tr>\n",
              "    <tr>\n",
              "      <th>569</th>\n",
              "      <td>Norway</td>\n",
              "      <td>Lipton (L3)</td>\n",
              "      <td>2023</td>\n",
              "      <td>9</td>\n",
              "      <td>actual</td>\n",
              "      <td>-217120.103133</td>\n",
              "      <td>2023-09-01</td>\n",
              "    </tr>\n",
              "    <tr>\n",
              "      <th>317</th>\n",
              "      <td>Hungary</td>\n",
              "      <td>7up (L3)</td>\n",
              "      <td>2023</td>\n",
              "      <td>9</td>\n",
              "      <td>actual</td>\n",
              "      <td>-19481.652378</td>\n",
              "      <td>2023-09-01</td>\n",
              "    </tr>\n",
              "    <tr>\n",
              "      <th>417</th>\n",
              "      <td>Hungary</td>\n",
              "      <td>7up (L3)</td>\n",
              "      <td>2023</td>\n",
              "      <td>11</td>\n",
              "      <td>actual</td>\n",
              "      <td>-13549.371551</td>\n",
              "      <td>2023-11-01</td>\n",
              "    </tr>\n",
              "    <tr>\n",
              "      <th>682</th>\n",
              "      <td>Hungary</td>\n",
              "      <td>7up (L3)</td>\n",
              "      <td>2023</td>\n",
              "      <td>12</td>\n",
              "      <td>actual</td>\n",
              "      <td>-10.791926</td>\n",
              "      <td>2023-12-01</td>\n",
              "    </tr>\n",
              "    <tr>\n",
              "      <th>363</th>\n",
              "      <td>Hungary</td>\n",
              "      <td>7up (L3)</td>\n",
              "      <td>2024</td>\n",
              "      <td>1</td>\n",
              "      <td>actual</td>\n",
              "      <td>-188.474017</td>\n",
              "      <td>2024-01-01</td>\n",
              "    </tr>\n",
              "    <tr>\n",
              "      <th>823</th>\n",
              "      <td>Hungary</td>\n",
              "      <td>7up (L3)</td>\n",
              "      <td>2024</td>\n",
              "      <td>2</td>\n",
              "      <td>actual</td>\n",
              "      <td>-1.394871</td>\n",
              "      <td>2024-02-01</td>\n",
              "    </tr>\n",
              "    <tr>\n",
              "      <th>610</th>\n",
              "      <td>Norway</td>\n",
              "      <td>Lipton (L3)</td>\n",
              "      <td>2024</td>\n",
              "      <td>2</td>\n",
              "      <td>actual</td>\n",
              "      <td>73.968144</td>\n",
              "      <td>2024-02-01</td>\n",
              "    </tr>\n",
              "    <tr>\n",
              "      <th>165</th>\n",
              "      <td>Czech</td>\n",
              "      <td>7up Free (L3)</td>\n",
              "      <td>2024</td>\n",
              "      <td>2</td>\n",
              "      <td>actual</td>\n",
              "      <td>89.354912</td>\n",
              "      <td>2024-02-01</td>\n",
              "    </tr>\n",
              "    <tr>\n",
              "      <th>750</th>\n",
              "      <td>Norway</td>\n",
              "      <td>Lipton (L3)</td>\n",
              "      <td>2024</td>\n",
              "      <td>3</td>\n",
              "      <td>actual</td>\n",
              "      <td>-173.296795</td>\n",
              "      <td>2024-03-01</td>\n",
              "    </tr>\n",
              "    <tr>\n",
              "      <th>40</th>\n",
              "      <td>Hungary</td>\n",
              "      <td>7up (L3)</td>\n",
              "      <td>2024</td>\n",
              "      <td>4</td>\n",
              "      <td>actual</td>\n",
              "      <td>5.575874</td>\n",
              "      <td>2024-04-01</td>\n",
              "    </tr>\n",
              "    <tr>\n",
              "      <th>382</th>\n",
              "      <td>Norway</td>\n",
              "      <td>Lipton (L3)</td>\n",
              "      <td>2024</td>\n",
              "      <td>7</td>\n",
              "      <td>actual</td>\n",
              "      <td>-3177.460145</td>\n",
              "      <td>2024-07-01</td>\n",
              "    </tr>\n",
              "    <tr>\n",
              "      <th>171</th>\n",
              "      <td>Hungary</td>\n",
              "      <td>7up (L3)</td>\n",
              "      <td>2024</td>\n",
              "      <td>7</td>\n",
              "      <td>actual</td>\n",
              "      <td>1.394828</td>\n",
              "      <td>2024-07-01</td>\n",
              "    </tr>\n",
              "    <tr>\n",
              "      <th>174</th>\n",
              "      <td>Czech</td>\n",
              "      <td>7up (L3)</td>\n",
              "      <td>2024</td>\n",
              "      <td>7</td>\n",
              "      <td>actual</td>\n",
              "      <td>45.798609</td>\n",
              "      <td>2024-07-01</td>\n",
              "    </tr>\n",
              "    <tr>\n",
              "      <th>236</th>\n",
              "      <td>Czech</td>\n",
              "      <td>7up (L3)</td>\n",
              "      <td>2024</td>\n",
              "      <td>8</td>\n",
              "      <td>actual</td>\n",
              "      <td>0.443809</td>\n",
              "      <td>2024-08-01</td>\n",
              "    </tr>\n",
              "    <tr>\n",
              "      <th>858</th>\n",
              "      <td>Norway</td>\n",
              "      <td>Lipton (L3)</td>\n",
              "      <td>2024</td>\n",
              "      <td>8</td>\n",
              "      <td>actual</td>\n",
              "      <td>-2435.665326</td>\n",
              "      <td>2024-08-01</td>\n",
              "    </tr>\n",
              "  </tbody>\n",
              "</table>\n",
              "</div>\n",
              "    <div class=\"colab-df-buttons\">\n",
              "\n",
              "  <div class=\"colab-df-container\">\n",
              "    <button class=\"colab-df-convert\" onclick=\"convertToInteractive('df-e3f77edf-abfc-4f3b-9fa9-24030d4c8131')\"\n",
              "            title=\"Convert this dataframe to an interactive table.\"\n",
              "            style=\"display:none;\">\n",
              "\n",
              "  <svg xmlns=\"http://www.w3.org/2000/svg\" height=\"24px\" viewBox=\"0 -960 960 960\">\n",
              "    <path d=\"M120-120v-720h720v720H120Zm60-500h600v-160H180v160Zm220 220h160v-160H400v160Zm0 220h160v-160H400v160ZM180-400h160v-160H180v160Zm440 0h160v-160H620v160ZM180-180h160v-160H180v160Zm440 0h160v-160H620v160Z\"/>\n",
              "  </svg>\n",
              "    </button>\n",
              "\n",
              "  <style>\n",
              "    .colab-df-container {\n",
              "      display:flex;\n",
              "      gap: 12px;\n",
              "    }\n",
              "\n",
              "    .colab-df-convert {\n",
              "      background-color: #E8F0FE;\n",
              "      border: none;\n",
              "      border-radius: 50%;\n",
              "      cursor: pointer;\n",
              "      display: none;\n",
              "      fill: #1967D2;\n",
              "      height: 32px;\n",
              "      padding: 0 0 0 0;\n",
              "      width: 32px;\n",
              "    }\n",
              "\n",
              "    .colab-df-convert:hover {\n",
              "      background-color: #E2EBFA;\n",
              "      box-shadow: 0px 1px 2px rgba(60, 64, 67, 0.3), 0px 1px 3px 1px rgba(60, 64, 67, 0.15);\n",
              "      fill: #174EA6;\n",
              "    }\n",
              "\n",
              "    .colab-df-buttons div {\n",
              "      margin-bottom: 4px;\n",
              "    }\n",
              "\n",
              "    [theme=dark] .colab-df-convert {\n",
              "      background-color: #3B4455;\n",
              "      fill: #D2E3FC;\n",
              "    }\n",
              "\n",
              "    [theme=dark] .colab-df-convert:hover {\n",
              "      background-color: #434B5C;\n",
              "      box-shadow: 0px 1px 3px 1px rgba(0, 0, 0, 0.15);\n",
              "      filter: drop-shadow(0px 1px 2px rgba(0, 0, 0, 0.3));\n",
              "      fill: #FFFFFF;\n",
              "    }\n",
              "  </style>\n",
              "\n",
              "    <script>\n",
              "      const buttonEl =\n",
              "        document.querySelector('#df-e3f77edf-abfc-4f3b-9fa9-24030d4c8131 button.colab-df-convert');\n",
              "      buttonEl.style.display =\n",
              "        google.colab.kernel.accessAllowed ? 'block' : 'none';\n",
              "\n",
              "      async function convertToInteractive(key) {\n",
              "        const element = document.querySelector('#df-e3f77edf-abfc-4f3b-9fa9-24030d4c8131');\n",
              "        const dataTable =\n",
              "          await google.colab.kernel.invokeFunction('convertToInteractive',\n",
              "                                                    [key], {});\n",
              "        if (!dataTable) return;\n",
              "\n",
              "        const docLinkHtml = 'Like what you see? Visit the ' +\n",
              "          '<a target=\"_blank\" href=https://colab.research.google.com/notebooks/data_table.ipynb>data table notebook</a>'\n",
              "          + ' to learn more about interactive tables.';\n",
              "        element.innerHTML = '';\n",
              "        dataTable['output_type'] = 'display_data';\n",
              "        await google.colab.output.renderOutput(dataTable, element);\n",
              "        const docLink = document.createElement('div');\n",
              "        docLink.innerHTML = docLinkHtml;\n",
              "        element.appendChild(docLink);\n",
              "      }\n",
              "    </script>\n",
              "  </div>\n",
              "\n",
              "\n",
              "<div id=\"df-efd0bdf0-5d8e-46d7-b983-638612bf0924\">\n",
              "  <button class=\"colab-df-quickchart\" onclick=\"quickchart('df-efd0bdf0-5d8e-46d7-b983-638612bf0924')\"\n",
              "            title=\"Suggest charts\"\n",
              "            style=\"display:none;\">\n",
              "\n",
              "<svg xmlns=\"http://www.w3.org/2000/svg\" height=\"24px\"viewBox=\"0 0 24 24\"\n",
              "     width=\"24px\">\n",
              "    <g>\n",
              "        <path d=\"M19 3H5c-1.1 0-2 .9-2 2v14c0 1.1.9 2 2 2h14c1.1 0 2-.9 2-2V5c0-1.1-.9-2-2-2zM9 17H7v-7h2v7zm4 0h-2V7h2v10zm4 0h-2v-4h2v4z\"/>\n",
              "    </g>\n",
              "</svg>\n",
              "  </button>\n",
              "\n",
              "<style>\n",
              "  .colab-df-quickchart {\n",
              "      --bg-color: #E8F0FE;\n",
              "      --fill-color: #1967D2;\n",
              "      --hover-bg-color: #E2EBFA;\n",
              "      --hover-fill-color: #174EA6;\n",
              "      --disabled-fill-color: #AAA;\n",
              "      --disabled-bg-color: #DDD;\n",
              "  }\n",
              "\n",
              "  [theme=dark] .colab-df-quickchart {\n",
              "      --bg-color: #3B4455;\n",
              "      --fill-color: #D2E3FC;\n",
              "      --hover-bg-color: #434B5C;\n",
              "      --hover-fill-color: #FFFFFF;\n",
              "      --disabled-bg-color: #3B4455;\n",
              "      --disabled-fill-color: #666;\n",
              "  }\n",
              "\n",
              "  .colab-df-quickchart {\n",
              "    background-color: var(--bg-color);\n",
              "    border: none;\n",
              "    border-radius: 50%;\n",
              "    cursor: pointer;\n",
              "    display: none;\n",
              "    fill: var(--fill-color);\n",
              "    height: 32px;\n",
              "    padding: 0;\n",
              "    width: 32px;\n",
              "  }\n",
              "\n",
              "  .colab-df-quickchart:hover {\n",
              "    background-color: var(--hover-bg-color);\n",
              "    box-shadow: 0 1px 2px rgba(60, 64, 67, 0.3), 0 1px 3px 1px rgba(60, 64, 67, 0.15);\n",
              "    fill: var(--button-hover-fill-color);\n",
              "  }\n",
              "\n",
              "  .colab-df-quickchart-complete:disabled,\n",
              "  .colab-df-quickchart-complete:disabled:hover {\n",
              "    background-color: var(--disabled-bg-color);\n",
              "    fill: var(--disabled-fill-color);\n",
              "    box-shadow: none;\n",
              "  }\n",
              "\n",
              "  .colab-df-spinner {\n",
              "    border: 2px solid var(--fill-color);\n",
              "    border-color: transparent;\n",
              "    border-bottom-color: var(--fill-color);\n",
              "    animation:\n",
              "      spin 1s steps(1) infinite;\n",
              "  }\n",
              "\n",
              "  @keyframes spin {\n",
              "    0% {\n",
              "      border-color: transparent;\n",
              "      border-bottom-color: var(--fill-color);\n",
              "      border-left-color: var(--fill-color);\n",
              "    }\n",
              "    20% {\n",
              "      border-color: transparent;\n",
              "      border-left-color: var(--fill-color);\n",
              "      border-top-color: var(--fill-color);\n",
              "    }\n",
              "    30% {\n",
              "      border-color: transparent;\n",
              "      border-left-color: var(--fill-color);\n",
              "      border-top-color: var(--fill-color);\n",
              "      border-right-color: var(--fill-color);\n",
              "    }\n",
              "    40% {\n",
              "      border-color: transparent;\n",
              "      border-right-color: var(--fill-color);\n",
              "      border-top-color: var(--fill-color);\n",
              "    }\n",
              "    60% {\n",
              "      border-color: transparent;\n",
              "      border-right-color: var(--fill-color);\n",
              "    }\n",
              "    80% {\n",
              "      border-color: transparent;\n",
              "      border-right-color: var(--fill-color);\n",
              "      border-bottom-color: var(--fill-color);\n",
              "    }\n",
              "    90% {\n",
              "      border-color: transparent;\n",
              "      border-bottom-color: var(--fill-color);\n",
              "    }\n",
              "  }\n",
              "</style>\n",
              "\n",
              "  <script>\n",
              "    async function quickchart(key) {\n",
              "      const quickchartButtonEl =\n",
              "        document.querySelector('#' + key + ' button');\n",
              "      quickchartButtonEl.disabled = true;  // To prevent multiple clicks.\n",
              "      quickchartButtonEl.classList.add('colab-df-spinner');\n",
              "      try {\n",
              "        const charts = await google.colab.kernel.invokeFunction(\n",
              "            'suggestCharts', [key], {});\n",
              "      } catch (error) {\n",
              "        console.error('Error during call to suggestCharts:', error);\n",
              "      }\n",
              "      quickchartButtonEl.classList.remove('colab-df-spinner');\n",
              "      quickchartButtonEl.classList.add('colab-df-quickchart-complete');\n",
              "    }\n",
              "    (() => {\n",
              "      let quickchartButtonEl =\n",
              "        document.querySelector('#df-efd0bdf0-5d8e-46d7-b983-638612bf0924 button');\n",
              "      quickchartButtonEl.style.display =\n",
              "        google.colab.kernel.accessAllowed ? 'block' : 'none';\n",
              "    })();\n",
              "  </script>\n",
              "</div>\n",
              "\n",
              "    </div>\n",
              "  </div>\n"
            ],
            "application/vnd.google.colaboratory.intrinsic+json": {
              "type": "dataframe",
              "summary": "{\n  \"name\": \"df_actual[df_actual['AMOUNT'] < 100]\",\n  \"rows\": 16,\n  \"fields\": [\n    {\n      \"column\": \"COUNTRY\",\n      \"properties\": {\n        \"dtype\": \"category\",\n        \"num_unique_values\": 3,\n        \"samples\": [\n          \"Hungary\",\n          \"Norway\",\n          \"Czech\"\n        ],\n        \"semantic_type\": \"\",\n        \"description\": \"\"\n      }\n    },\n    {\n      \"column\": \"SUBBRAND\",\n      \"properties\": {\n        \"dtype\": \"category\",\n        \"num_unique_values\": 3,\n        \"samples\": [\n          \"7up (L3)\",\n          \"Lipton (L3)\",\n          \"7up Free (L3)\"\n        ],\n        \"semantic_type\": \"\",\n        \"description\": \"\"\n      }\n    },\n    {\n      \"column\": \"YEAR\",\n      \"properties\": {\n        \"dtype\": \"number\",\n        \"std\": 0,\n        \"min\": 2023,\n        \"max\": 2024,\n        \"num_unique_values\": 2,\n        \"samples\": [\n          2024,\n          2023\n        ],\n        \"semantic_type\": \"\",\n        \"description\": \"\"\n      }\n    },\n    {\n      \"column\": \"MONTH\",\n      \"properties\": {\n        \"dtype\": \"number\",\n        \"std\": 3,\n        \"min\": 1,\n        \"max\": 12,\n        \"num_unique_values\": 9,\n        \"samples\": [\n          4,\n          9\n        ],\n        \"semantic_type\": \"\",\n        \"description\": \"\"\n      }\n    },\n    {\n      \"column\": \"SCENARIO\",\n      \"properties\": {\n        \"dtype\": \"category\",\n        \"num_unique_values\": 1,\n        \"samples\": [\n          \"actual\"\n        ],\n        \"semantic_type\": \"\",\n        \"description\": \"\"\n      }\n    },\n    {\n      \"column\": \"AMOUNT\",\n      \"properties\": {\n        \"dtype\": \"number\",\n        \"std\": 53828.05187707021,\n        \"min\": -217120.10313272703,\n        \"max\": 89.35491155523307,\n        \"num_unique_values\": 16,\n        \"samples\": [\n          -6332.708713447409\n        ],\n        \"semantic_type\": \"\",\n        \"description\": \"\"\n      }\n    },\n    {\n      \"column\": \"Fecha\",\n      \"properties\": {\n        \"dtype\": \"date\",\n        \"min\": \"2023-07-01 00:00:00\",\n        \"max\": \"2024-08-01 00:00:00\",\n        \"num_unique_values\": 10,\n        \"samples\": [\n          \"2024-07-01 00:00:00\"\n        ],\n        \"semantic_type\": \"\",\n        \"description\": \"\"\n      }\n    }\n  ]\n}"
            }
          },
          "metadata": {},
          "execution_count": 492
        }
      ]
    },
    {
      "cell_type": "markdown",
      "source": [
        "A continuación, se procede a visualizar los datos de 7up en Hungría y los datos de Lipton en Noruega. Al revisar estos datos, se observó que algunos valores de ventas aparecen como negativos. Dado que las ventas se miden en litros, es imposible que estas cantidades sean negativas, ya que no tiene sentido vender \"litros negativos\" de producto. Este tipo de valores no es válido en el contexto de análisis y puede llevar a interpretaciones erróneas. Por esta razón, se procederá a eliminar los datos negativos antes de realizar la visualización, asegurando que el análisis refleje únicamente información coherente y útil."
      ],
      "metadata": {
        "id": "34O6FwyN8iGr"
      }
    },
    {
      "cell_type": "code",
      "source": [
        "# Filtrar los datos de 7up en Hungría\n",
        "df_7up_hungary = df_actual[(df_actual[\"SUBBRAND\"] == \"7up (L3)\") & (df_actual[\"COUNTRY\"] == \"Hungary\")]\n",
        "\n",
        "# Filtrar los datos de Lipton en Noruega\n",
        "df_lipton_norway = df_actual[(df_actual[\"SUBBRAND\"] == \"Lipton (L3)\") & (df_actual[\"COUNTRY\"] == \"Norway\")]\n",
        "\n",
        "# Convertir las fechas para mostrar solo el mes y el año\n",
        "df_7up_hungary[\"Fecha\"] = pd.to_datetime(df_7up_hungary[\"Fecha\"]).dt.to_period(\"M\").astype(str)\n",
        "df_lipton_norway[\"Fecha\"] = pd.to_datetime(df_lipton_norway[\"Fecha\"]).dt.to_period(\"M\").astype(str)\n",
        "\n",
        "# Crear subplots\n",
        "fig = make_subplots(rows=1, cols=2, subplot_titles=(\"7up en Hungría\", \"Lipton en Noruega\"))\n",
        "\n",
        "# Especificar el color para ambas líneas\n",
        "line_color = 'blue'  # Puedes cambiar este color a tu preferencia\n",
        "\n",
        "# Agregar la línea de 7up en Hungría con el color especificado\n",
        "fig.add_trace(\n",
        "    go.Scatter(x=df_7up_hungary[\"Fecha\"], y=df_7up_hungary[\"AMOUNT\"], mode='lines', name=\"7up en Hungría\", line=dict(color=line_color)),\n",
        "    row=1, col=1\n",
        ")\n",
        "\n",
        "# Agregar la línea de Lipton en Noruega con el mismo color\n",
        "fig.add_trace(\n",
        "    go.Scatter(x=df_lipton_norway[\"Fecha\"], y=df_lipton_norway[\"AMOUNT\"], mode='lines', name=\"Lipton en Noruega\", line=dict(color=line_color)),\n",
        "    row=1, col=2\n",
        ")\n",
        "\n",
        "# Configurar los títulos y etiquetas de los ejes\n",
        "fig.update_xaxes(title_text=\"Mes y Año\", tickangle=-45, row=1, col=1)\n",
        "fig.update_yaxes(title_text=\"Ventas\", row=1, col=1)\n",
        "fig.update_xaxes(title_text=\"Mes y Año\", tickangle=-45, row=1, col=2)\n",
        "fig.update_yaxes(title_text=\"Ventas\", row=1, col=2)\n",
        "\n",
        "# Configurar el diseño general\n",
        "fig.update_layout(title_text=\"Ventas de 7up en Hungría y Lipton en Noruega\", showlegend=False)\n",
        "\n",
        "# Mostrar la figura\n",
        "fig.show()"
      ],
      "metadata": {
        "colab": {
          "base_uri": "https://localhost:8080/",
          "height": 820
        },
        "id": "4uV3Y3WCyGW4",
        "outputId": "0a6a1b19-39b5-4c61-d431-4f2359f092e8"
      },
      "execution_count": 493,
      "outputs": [
        {
          "output_type": "stream",
          "name": "stderr",
          "text": [
            "<ipython-input-493-d8fed143d66e>:8: SettingWithCopyWarning:\n",
            "\n",
            "\n",
            "A value is trying to be set on a copy of a slice from a DataFrame.\n",
            "Try using .loc[row_indexer,col_indexer] = value instead\n",
            "\n",
            "See the caveats in the documentation: https://pandas.pydata.org/pandas-docs/stable/user_guide/indexing.html#returning-a-view-versus-a-copy\n",
            "\n",
            "<ipython-input-493-d8fed143d66e>:9: SettingWithCopyWarning:\n",
            "\n",
            "\n",
            "A value is trying to be set on a copy of a slice from a DataFrame.\n",
            "Try using .loc[row_indexer,col_indexer] = value instead\n",
            "\n",
            "See the caveats in the documentation: https://pandas.pydata.org/pandas-docs/stable/user_guide/indexing.html#returning-a-view-versus-a-copy\n",
            "\n"
          ]
        },
        {
          "output_type": "display_data",
          "data": {
            "text/html": [
              "<html>\n",
              "<head><meta charset=\"utf-8\" /></head>\n",
              "<body>\n",
              "    <div>            <script src=\"https://cdnjs.cloudflare.com/ajax/libs/mathjax/2.7.5/MathJax.js?config=TeX-AMS-MML_SVG\"></script><script type=\"text/javascript\">if (window.MathJax && window.MathJax.Hub && window.MathJax.Hub.Config) {window.MathJax.Hub.Config({SVG: {font: \"STIX-Web\"}});}</script>                <script type=\"text/javascript\">window.PlotlyConfig = {MathJaxConfig: 'local'};</script>\n",
              "        <script charset=\"utf-8\" src=\"https://cdn.plot.ly/plotly-2.35.2.min.js\"></script>                <div id=\"ed5cf732-e846-4f9a-a492-e1dce6e4c1a6\" class=\"plotly-graph-div\" style=\"height:525px; width:100%;\"></div>            <script type=\"text/javascript\">                                    window.PLOTLYENV=window.PLOTLYENV || {};                                    if (document.getElementById(\"ed5cf732-e846-4f9a-a492-e1dce6e4c1a6\")) {                    Plotly.newPlot(                        \"ed5cf732-e846-4f9a-a492-e1dce6e4c1a6\",                        [{\"line\":{\"color\":\"blue\"},\"mode\":\"lines\",\"name\":\"7up en Hungría\",\"x\":[\"2023-01\",\"2023-02\",\"2023-03\",\"2023-04\",\"2023-05\",\"2023-06\",\"2023-07\",\"2023-08\",\"2023-09\",\"2023-10\",\"2023-11\",\"2023-12\",\"2024-01\",\"2024-02\",\"2024-04\",\"2024-07\"],\"y\":[64640.33870365544,26176.671151719234,31252.9006079477,9060.449585426164,8814.413925735982,6965.280761942333,-6332.708713447409,21004.4492235106,-19481.65237789973,13533.59391523955,-13549.371550971096,-10.791926294090295,-188.4740167520236,-1.394870520524399,5.575874305227786,1.394827866],\"type\":\"scatter\",\"xaxis\":\"x\",\"yaxis\":\"y\"},{\"line\":{\"color\":\"blue\"},\"mode\":\"lines\",\"name\":\"Lipton en Noruega\",\"x\":[\"2023-02\",\"2023-03\",\"2023-04\",\"2023-05\",\"2023-06\",\"2023-07\",\"2023-08\",\"2023-09\",\"2023-10\",\"2023-11\",\"2023-12\",\"2024-01\",\"2024-02\",\"2024-03\",\"2024-04\",\"2024-06\",\"2024-07\",\"2024-08\"],\"y\":[5337.329961325228,4765.66187400055,5781.138827640136,1045.064211393912,9113.9320761097,9078.885271885763,229142.92054412377,-217120.10313272703,3906.5747113481225,2690.327080089889,3218.847086711799,3823.096376969842,73.96814438581785,-173.29679541820178,254.66175424260143,6618.035546977,-3177.46014526,-2435.665325847],\"type\":\"scatter\",\"xaxis\":\"x2\",\"yaxis\":\"y2\"}],                        {\"template\":{\"data\":{\"histogram2dcontour\":[{\"type\":\"histogram2dcontour\",\"colorbar\":{\"outlinewidth\":0,\"ticks\":\"\"},\"colorscale\":[[0.0,\"#0d0887\"],[0.1111111111111111,\"#46039f\"],[0.2222222222222222,\"#7201a8\"],[0.3333333333333333,\"#9c179e\"],[0.4444444444444444,\"#bd3786\"],[0.5555555555555556,\"#d8576b\"],[0.6666666666666666,\"#ed7953\"],[0.7777777777777778,\"#fb9f3a\"],[0.8888888888888888,\"#fdca26\"],[1.0,\"#f0f921\"]]}],\"choropleth\":[{\"type\":\"choropleth\",\"colorbar\":{\"outlinewidth\":0,\"ticks\":\"\"}}],\"histogram2d\":[{\"type\":\"histogram2d\",\"colorbar\":{\"outlinewidth\":0,\"ticks\":\"\"},\"colorscale\":[[0.0,\"#0d0887\"],[0.1111111111111111,\"#46039f\"],[0.2222222222222222,\"#7201a8\"],[0.3333333333333333,\"#9c179e\"],[0.4444444444444444,\"#bd3786\"],[0.5555555555555556,\"#d8576b\"],[0.6666666666666666,\"#ed7953\"],[0.7777777777777778,\"#fb9f3a\"],[0.8888888888888888,\"#fdca26\"],[1.0,\"#f0f921\"]]}],\"heatmap\":[{\"type\":\"heatmap\",\"colorbar\":{\"outlinewidth\":0,\"ticks\":\"\"},\"colorscale\":[[0.0,\"#0d0887\"],[0.1111111111111111,\"#46039f\"],[0.2222222222222222,\"#7201a8\"],[0.3333333333333333,\"#9c179e\"],[0.4444444444444444,\"#bd3786\"],[0.5555555555555556,\"#d8576b\"],[0.6666666666666666,\"#ed7953\"],[0.7777777777777778,\"#fb9f3a\"],[0.8888888888888888,\"#fdca26\"],[1.0,\"#f0f921\"]]}],\"heatmapgl\":[{\"type\":\"heatmapgl\",\"colorbar\":{\"outlinewidth\":0,\"ticks\":\"\"},\"colorscale\":[[0.0,\"#0d0887\"],[0.1111111111111111,\"#46039f\"],[0.2222222222222222,\"#7201a8\"],[0.3333333333333333,\"#9c179e\"],[0.4444444444444444,\"#bd3786\"],[0.5555555555555556,\"#d8576b\"],[0.6666666666666666,\"#ed7953\"],[0.7777777777777778,\"#fb9f3a\"],[0.8888888888888888,\"#fdca26\"],[1.0,\"#f0f921\"]]}],\"contourcarpet\":[{\"type\":\"contourcarpet\",\"colorbar\":{\"outlinewidth\":0,\"ticks\":\"\"}}],\"contour\":[{\"type\":\"contour\",\"colorbar\":{\"outlinewidth\":0,\"ticks\":\"\"},\"colorscale\":[[0.0,\"#0d0887\"],[0.1111111111111111,\"#46039f\"],[0.2222222222222222,\"#7201a8\"],[0.3333333333333333,\"#9c179e\"],[0.4444444444444444,\"#bd3786\"],[0.5555555555555556,\"#d8576b\"],[0.6666666666666666,\"#ed7953\"],[0.7777777777777778,\"#fb9f3a\"],[0.8888888888888888,\"#fdca26\"],[1.0,\"#f0f921\"]]}],\"surface\":[{\"type\":\"surface\",\"colorbar\":{\"outlinewidth\":0,\"ticks\":\"\"},\"colorscale\":[[0.0,\"#0d0887\"],[0.1111111111111111,\"#46039f\"],[0.2222222222222222,\"#7201a8\"],[0.3333333333333333,\"#9c179e\"],[0.4444444444444444,\"#bd3786\"],[0.5555555555555556,\"#d8576b\"],[0.6666666666666666,\"#ed7953\"],[0.7777777777777778,\"#fb9f3a\"],[0.8888888888888888,\"#fdca26\"],[1.0,\"#f0f921\"]]}],\"mesh3d\":[{\"type\":\"mesh3d\",\"colorbar\":{\"outlinewidth\":0,\"ticks\":\"\"}}],\"scatter\":[{\"fillpattern\":{\"fillmode\":\"overlay\",\"size\":10,\"solidity\":0.2},\"type\":\"scatter\"}],\"parcoords\":[{\"type\":\"parcoords\",\"line\":{\"colorbar\":{\"outlinewidth\":0,\"ticks\":\"\"}}}],\"scatterpolargl\":[{\"type\":\"scatterpolargl\",\"marker\":{\"colorbar\":{\"outlinewidth\":0,\"ticks\":\"\"}}}],\"bar\":[{\"error_x\":{\"color\":\"#2a3f5f\"},\"error_y\":{\"color\":\"#2a3f5f\"},\"marker\":{\"line\":{\"color\":\"#E5ECF6\",\"width\":0.5},\"pattern\":{\"fillmode\":\"overlay\",\"size\":10,\"solidity\":0.2}},\"type\":\"bar\"}],\"scattergeo\":[{\"type\":\"scattergeo\",\"marker\":{\"colorbar\":{\"outlinewidth\":0,\"ticks\":\"\"}}}],\"scatterpolar\":[{\"type\":\"scatterpolar\",\"marker\":{\"colorbar\":{\"outlinewidth\":0,\"ticks\":\"\"}}}],\"histogram\":[{\"marker\":{\"pattern\":{\"fillmode\":\"overlay\",\"size\":10,\"solidity\":0.2}},\"type\":\"histogram\"}],\"scattergl\":[{\"type\":\"scattergl\",\"marker\":{\"colorbar\":{\"outlinewidth\":0,\"ticks\":\"\"}}}],\"scatter3d\":[{\"type\":\"scatter3d\",\"line\":{\"colorbar\":{\"outlinewidth\":0,\"ticks\":\"\"}},\"marker\":{\"colorbar\":{\"outlinewidth\":0,\"ticks\":\"\"}}}],\"scattermapbox\":[{\"type\":\"scattermapbox\",\"marker\":{\"colorbar\":{\"outlinewidth\":0,\"ticks\":\"\"}}}],\"scatterternary\":[{\"type\":\"scatterternary\",\"marker\":{\"colorbar\":{\"outlinewidth\":0,\"ticks\":\"\"}}}],\"scattercarpet\":[{\"type\":\"scattercarpet\",\"marker\":{\"colorbar\":{\"outlinewidth\":0,\"ticks\":\"\"}}}],\"carpet\":[{\"aaxis\":{\"endlinecolor\":\"#2a3f5f\",\"gridcolor\":\"white\",\"linecolor\":\"white\",\"minorgridcolor\":\"white\",\"startlinecolor\":\"#2a3f5f\"},\"baxis\":{\"endlinecolor\":\"#2a3f5f\",\"gridcolor\":\"white\",\"linecolor\":\"white\",\"minorgridcolor\":\"white\",\"startlinecolor\":\"#2a3f5f\"},\"type\":\"carpet\"}],\"table\":[{\"cells\":{\"fill\":{\"color\":\"#EBF0F8\"},\"line\":{\"color\":\"white\"}},\"header\":{\"fill\":{\"color\":\"#C8D4E3\"},\"line\":{\"color\":\"white\"}},\"type\":\"table\"}],\"barpolar\":[{\"marker\":{\"line\":{\"color\":\"#E5ECF6\",\"width\":0.5},\"pattern\":{\"fillmode\":\"overlay\",\"size\":10,\"solidity\":0.2}},\"type\":\"barpolar\"}],\"pie\":[{\"automargin\":true,\"type\":\"pie\"}]},\"layout\":{\"autotypenumbers\":\"strict\",\"colorway\":[\"#636efa\",\"#EF553B\",\"#00cc96\",\"#ab63fa\",\"#FFA15A\",\"#19d3f3\",\"#FF6692\",\"#B6E880\",\"#FF97FF\",\"#FECB52\"],\"font\":{\"color\":\"#2a3f5f\"},\"hovermode\":\"closest\",\"hoverlabel\":{\"align\":\"left\"},\"paper_bgcolor\":\"white\",\"plot_bgcolor\":\"#E5ECF6\",\"polar\":{\"bgcolor\":\"#E5ECF6\",\"angularaxis\":{\"gridcolor\":\"white\",\"linecolor\":\"white\",\"ticks\":\"\"},\"radialaxis\":{\"gridcolor\":\"white\",\"linecolor\":\"white\",\"ticks\":\"\"}},\"ternary\":{\"bgcolor\":\"#E5ECF6\",\"aaxis\":{\"gridcolor\":\"white\",\"linecolor\":\"white\",\"ticks\":\"\"},\"baxis\":{\"gridcolor\":\"white\",\"linecolor\":\"white\",\"ticks\":\"\"},\"caxis\":{\"gridcolor\":\"white\",\"linecolor\":\"white\",\"ticks\":\"\"}},\"coloraxis\":{\"colorbar\":{\"outlinewidth\":0,\"ticks\":\"\"}},\"colorscale\":{\"sequential\":[[0.0,\"#0d0887\"],[0.1111111111111111,\"#46039f\"],[0.2222222222222222,\"#7201a8\"],[0.3333333333333333,\"#9c179e\"],[0.4444444444444444,\"#bd3786\"],[0.5555555555555556,\"#d8576b\"],[0.6666666666666666,\"#ed7953\"],[0.7777777777777778,\"#fb9f3a\"],[0.8888888888888888,\"#fdca26\"],[1.0,\"#f0f921\"]],\"sequentialminus\":[[0.0,\"#0d0887\"],[0.1111111111111111,\"#46039f\"],[0.2222222222222222,\"#7201a8\"],[0.3333333333333333,\"#9c179e\"],[0.4444444444444444,\"#bd3786\"],[0.5555555555555556,\"#d8576b\"],[0.6666666666666666,\"#ed7953\"],[0.7777777777777778,\"#fb9f3a\"],[0.8888888888888888,\"#fdca26\"],[1.0,\"#f0f921\"]],\"diverging\":[[0,\"#8e0152\"],[0.1,\"#c51b7d\"],[0.2,\"#de77ae\"],[0.3,\"#f1b6da\"],[0.4,\"#fde0ef\"],[0.5,\"#f7f7f7\"],[0.6,\"#e6f5d0\"],[0.7,\"#b8e186\"],[0.8,\"#7fbc41\"],[0.9,\"#4d9221\"],[1,\"#276419\"]]},\"xaxis\":{\"gridcolor\":\"white\",\"linecolor\":\"white\",\"ticks\":\"\",\"title\":{\"standoff\":15},\"zerolinecolor\":\"white\",\"automargin\":true,\"zerolinewidth\":2},\"yaxis\":{\"gridcolor\":\"white\",\"linecolor\":\"white\",\"ticks\":\"\",\"title\":{\"standoff\":15},\"zerolinecolor\":\"white\",\"automargin\":true,\"zerolinewidth\":2},\"scene\":{\"xaxis\":{\"backgroundcolor\":\"#E5ECF6\",\"gridcolor\":\"white\",\"linecolor\":\"white\",\"showbackground\":true,\"ticks\":\"\",\"zerolinecolor\":\"white\",\"gridwidth\":2},\"yaxis\":{\"backgroundcolor\":\"#E5ECF6\",\"gridcolor\":\"white\",\"linecolor\":\"white\",\"showbackground\":true,\"ticks\":\"\",\"zerolinecolor\":\"white\",\"gridwidth\":2},\"zaxis\":{\"backgroundcolor\":\"#E5ECF6\",\"gridcolor\":\"white\",\"linecolor\":\"white\",\"showbackground\":true,\"ticks\":\"\",\"zerolinecolor\":\"white\",\"gridwidth\":2}},\"shapedefaults\":{\"line\":{\"color\":\"#2a3f5f\"}},\"annotationdefaults\":{\"arrowcolor\":\"#2a3f5f\",\"arrowhead\":0,\"arrowwidth\":1},\"geo\":{\"bgcolor\":\"white\",\"landcolor\":\"#E5ECF6\",\"subunitcolor\":\"white\",\"showland\":true,\"showlakes\":true,\"lakecolor\":\"white\"},\"title\":{\"x\":0.05},\"mapbox\":{\"style\":\"light\"}}},\"xaxis\":{\"anchor\":\"y\",\"domain\":[0.0,0.45],\"title\":{\"text\":\"Mes y Año\"},\"tickangle\":-45},\"yaxis\":{\"anchor\":\"x\",\"domain\":[0.0,1.0],\"title\":{\"text\":\"Ventas\"}},\"xaxis2\":{\"anchor\":\"y2\",\"domain\":[0.55,1.0],\"title\":{\"text\":\"Mes y Año\"},\"tickangle\":-45},\"yaxis2\":{\"anchor\":\"x2\",\"domain\":[0.0,1.0],\"title\":{\"text\":\"Ventas\"}},\"annotations\":[{\"font\":{\"size\":16},\"showarrow\":false,\"text\":\"7up en Hungría\",\"x\":0.225,\"xanchor\":\"center\",\"xref\":\"paper\",\"y\":1.0,\"yanchor\":\"bottom\",\"yref\":\"paper\"},{\"font\":{\"size\":16},\"showarrow\":false,\"text\":\"Lipton en Noruega\",\"x\":0.775,\"xanchor\":\"center\",\"xref\":\"paper\",\"y\":1.0,\"yanchor\":\"bottom\",\"yref\":\"paper\"}],\"title\":{\"text\":\"Ventas de 7up en Hungría y Lipton en Noruega\"},\"showlegend\":false},                        {\"responsive\": true}                    ).then(function(){\n",
              "                            \n",
              "var gd = document.getElementById('ed5cf732-e846-4f9a-a492-e1dce6e4c1a6');\n",
              "var x = new MutationObserver(function (mutations, observer) {{\n",
              "        var display = window.getComputedStyle(gd).display;\n",
              "        if (!display || display === 'none') {{\n",
              "            console.log([gd, 'removed!']);\n",
              "            Plotly.purge(gd);\n",
              "            observer.disconnect();\n",
              "        }}\n",
              "}});\n",
              "\n",
              "// Listen for the removal of the full notebook cells\n",
              "var notebookContainer = gd.closest('#notebook-container');\n",
              "if (notebookContainer) {{\n",
              "    x.observe(notebookContainer, {childList: true});\n",
              "}}\n",
              "\n",
              "// Listen for the clearing of the current output cell\n",
              "var outputEl = gd.closest('.output');\n",
              "if (outputEl) {{\n",
              "    x.observe(outputEl, {childList: true});\n",
              "}}\n",
              "\n",
              "                        })                };                            </script>        </div>\n",
              "</body>\n",
              "</html>"
            ]
          },
          "metadata": {}
        }
      ]
    },
    {
      "cell_type": "code",
      "source": [
        "# Eliminar registros de 7up (L3) en Hungría y Lipton (L3) en Noruega\n",
        "df_actual = df_actual[~((df_actual['SUBBRAND'] == '7up (L3)') & (df_actual['COUNTRY'] == 'Hungary'))]\n",
        "df_actual = df_actual[~((df_actual['SUBBRAND'] == 'Lipton (L3)') & (df_actual['COUNTRY'] == 'Norway'))]\n"
      ],
      "metadata": {
        "id": "sYJtEeseSiIU"
      },
      "execution_count": 494,
      "outputs": []
    },
    {
      "cell_type": "code",
      "source": [
        "df_actual.reset_index(drop=True, inplace=True)"
      ],
      "metadata": {
        "id": "MvPbEaPiS_XN"
      },
      "execution_count": 495,
      "outputs": []
    },
    {
      "cell_type": "markdown",
      "source": [
        "### **Datos cercanos a cero**\n",
        "\n",
        "En el análisis anterior, se identificaron valores de `Amount` muy bajos, los cuales deberían revisarse antes de llegar a conclusiones definitivas. Estos valores cercanos a cero podrían indicar un posible declive de la marca en los últimos días.\n",
        "\n",
        "Aunque también se observaron cantidades como 0.44, que no son lógicas en términos de ventas reales, ya que no se puede vender una fracción tan pequeña de un producto. Sin embargo, al no tratarse de valores negativos, interpretaremos estos datos como una señal del declive de la marca 7up en la República Checa. Por lo tanto, los valores aproximadamente iguales a cero se considerarán como cero, indicando que las ventas han cesado en ese mercado."
      ],
      "metadata": {
        "id": "_s9Nv4ItVxzI"
      }
    },
    {
      "cell_type": "code",
      "source": [
        "# Filtrar los datos de 7up en la República Checa\n",
        "df_7up_Czech = df_actual[(df_actual[\"SUBBRAND\"] == \"7up (L3)\") & (df_actual[\"COUNTRY\"] == \"Czech\")]\n",
        "\n",
        "# Convertir las fechas para mostrar solo el mes y el año\n",
        "df_7up_Czech[\"Fecha\"] = pd.to_datetime(df_7up_Czech[\"Fecha\"]).dt.to_period(\"M\").astype(str)\n",
        "\n",
        "# Crear gráfico de líneas con plotly\n",
        "fig = px.line(df_7up_Czech, x=\"Fecha\", y=\"AMOUNT\", title=\"7up en República Checa\",\n",
        "              labels={\"Fecha\": \"Mes y Año\", \"AMOUNT\": \"Ventas\"})\n",
        "\n",
        "# Configurar rotación de etiquetas en el eje x\n",
        "fig.update_xaxes(tickangle=45, tickfont=dict(size=10))\n",
        "\n",
        "# Mostrar el gráfico\n",
        "fig.show()"
      ],
      "metadata": {
        "colab": {
          "base_uri": "https://localhost:8080/",
          "height": 681
        },
        "id": "lg0RUyiNVq_M",
        "outputId": "08e6cae0-98f7-4c28-f4ed-ef34034add26"
      },
      "execution_count": 496,
      "outputs": [
        {
          "output_type": "stream",
          "name": "stderr",
          "text": [
            "<ipython-input-496-8f5091bf9a49>:5: SettingWithCopyWarning:\n",
            "\n",
            "\n",
            "A value is trying to be set on a copy of a slice from a DataFrame.\n",
            "Try using .loc[row_indexer,col_indexer] = value instead\n",
            "\n",
            "See the caveats in the documentation: https://pandas.pydata.org/pandas-docs/stable/user_guide/indexing.html#returning-a-view-versus-a-copy\n",
            "\n"
          ]
        },
        {
          "output_type": "display_data",
          "data": {
            "text/html": [
              "<html>\n",
              "<head><meta charset=\"utf-8\" /></head>\n",
              "<body>\n",
              "    <div>            <script src=\"https://cdnjs.cloudflare.com/ajax/libs/mathjax/2.7.5/MathJax.js?config=TeX-AMS-MML_SVG\"></script><script type=\"text/javascript\">if (window.MathJax && window.MathJax.Hub && window.MathJax.Hub.Config) {window.MathJax.Hub.Config({SVG: {font: \"STIX-Web\"}});}</script>                <script type=\"text/javascript\">window.PlotlyConfig = {MathJaxConfig: 'local'};</script>\n",
              "        <script charset=\"utf-8\" src=\"https://cdn.plot.ly/plotly-2.35.2.min.js\"></script>                <div id=\"055a430d-2126-422d-9d07-9fe046ec9f8f\" class=\"plotly-graph-div\" style=\"height:525px; width:100%;\"></div>            <script type=\"text/javascript\">                                    window.PLOTLYENV=window.PLOTLYENV || {};                                    if (document.getElementById(\"055a430d-2126-422d-9d07-9fe046ec9f8f\")) {                    Plotly.newPlot(                        \"055a430d-2126-422d-9d07-9fe046ec9f8f\",                        [{\"hovertemplate\":\"Mes y Año=%{x}\\u003cbr\\u003eVentas=%{y}\\u003cextra\\u003e\\u003c\\u002fextra\\u003e\",\"legendgroup\":\"\",\"line\":{\"color\":\"#636efa\",\"dash\":\"solid\"},\"marker\":{\"symbol\":\"circle\"},\"mode\":\"lines\",\"name\":\"\",\"orientation\":\"v\",\"showlegend\":false,\"x\":[\"2023-01\",\"2023-02\",\"2023-03\",\"2023-04\",\"2023-05\",\"2023-06\",\"2023-07\",\"2023-08\",\"2023-09\",\"2023-10\",\"2023-11\",\"2023-12\",\"2024-01\",\"2024-02\",\"2024-03\",\"2024-04\",\"2024-05\",\"2024-06\",\"2024-07\",\"2024-08\"],\"xaxis\":\"x\",\"y\":[65880.60484808353,50850.25677512979,75310.10263960606,62656.2383324058,81047.37131304023,63797.1053799497,91099.07152367334,65701.26353159145,62839.81669989363,60014.249460560895,51336.52884299734,61627.318905377135,52101.72996960261,54000.32594661614,38418.88424851888,19387.98584989398,3482.321613491,1501.558614471,45.7986094,0.443808866],\"yaxis\":\"y\",\"type\":\"scatter\"}],                        {\"template\":{\"data\":{\"histogram2dcontour\":[{\"type\":\"histogram2dcontour\",\"colorbar\":{\"outlinewidth\":0,\"ticks\":\"\"},\"colorscale\":[[0.0,\"#0d0887\"],[0.1111111111111111,\"#46039f\"],[0.2222222222222222,\"#7201a8\"],[0.3333333333333333,\"#9c179e\"],[0.4444444444444444,\"#bd3786\"],[0.5555555555555556,\"#d8576b\"],[0.6666666666666666,\"#ed7953\"],[0.7777777777777778,\"#fb9f3a\"],[0.8888888888888888,\"#fdca26\"],[1.0,\"#f0f921\"]]}],\"choropleth\":[{\"type\":\"choropleth\",\"colorbar\":{\"outlinewidth\":0,\"ticks\":\"\"}}],\"histogram2d\":[{\"type\":\"histogram2d\",\"colorbar\":{\"outlinewidth\":0,\"ticks\":\"\"},\"colorscale\":[[0.0,\"#0d0887\"],[0.1111111111111111,\"#46039f\"],[0.2222222222222222,\"#7201a8\"],[0.3333333333333333,\"#9c179e\"],[0.4444444444444444,\"#bd3786\"],[0.5555555555555556,\"#d8576b\"],[0.6666666666666666,\"#ed7953\"],[0.7777777777777778,\"#fb9f3a\"],[0.8888888888888888,\"#fdca26\"],[1.0,\"#f0f921\"]]}],\"heatmap\":[{\"type\":\"heatmap\",\"colorbar\":{\"outlinewidth\":0,\"ticks\":\"\"},\"colorscale\":[[0.0,\"#0d0887\"],[0.1111111111111111,\"#46039f\"],[0.2222222222222222,\"#7201a8\"],[0.3333333333333333,\"#9c179e\"],[0.4444444444444444,\"#bd3786\"],[0.5555555555555556,\"#d8576b\"],[0.6666666666666666,\"#ed7953\"],[0.7777777777777778,\"#fb9f3a\"],[0.8888888888888888,\"#fdca26\"],[1.0,\"#f0f921\"]]}],\"heatmapgl\":[{\"type\":\"heatmapgl\",\"colorbar\":{\"outlinewidth\":0,\"ticks\":\"\"},\"colorscale\":[[0.0,\"#0d0887\"],[0.1111111111111111,\"#46039f\"],[0.2222222222222222,\"#7201a8\"],[0.3333333333333333,\"#9c179e\"],[0.4444444444444444,\"#bd3786\"],[0.5555555555555556,\"#d8576b\"],[0.6666666666666666,\"#ed7953\"],[0.7777777777777778,\"#fb9f3a\"],[0.8888888888888888,\"#fdca26\"],[1.0,\"#f0f921\"]]}],\"contourcarpet\":[{\"type\":\"contourcarpet\",\"colorbar\":{\"outlinewidth\":0,\"ticks\":\"\"}}],\"contour\":[{\"type\":\"contour\",\"colorbar\":{\"outlinewidth\":0,\"ticks\":\"\"},\"colorscale\":[[0.0,\"#0d0887\"],[0.1111111111111111,\"#46039f\"],[0.2222222222222222,\"#7201a8\"],[0.3333333333333333,\"#9c179e\"],[0.4444444444444444,\"#bd3786\"],[0.5555555555555556,\"#d8576b\"],[0.6666666666666666,\"#ed7953\"],[0.7777777777777778,\"#fb9f3a\"],[0.8888888888888888,\"#fdca26\"],[1.0,\"#f0f921\"]]}],\"surface\":[{\"type\":\"surface\",\"colorbar\":{\"outlinewidth\":0,\"ticks\":\"\"},\"colorscale\":[[0.0,\"#0d0887\"],[0.1111111111111111,\"#46039f\"],[0.2222222222222222,\"#7201a8\"],[0.3333333333333333,\"#9c179e\"],[0.4444444444444444,\"#bd3786\"],[0.5555555555555556,\"#d8576b\"],[0.6666666666666666,\"#ed7953\"],[0.7777777777777778,\"#fb9f3a\"],[0.8888888888888888,\"#fdca26\"],[1.0,\"#f0f921\"]]}],\"mesh3d\":[{\"type\":\"mesh3d\",\"colorbar\":{\"outlinewidth\":0,\"ticks\":\"\"}}],\"scatter\":[{\"fillpattern\":{\"fillmode\":\"overlay\",\"size\":10,\"solidity\":0.2},\"type\":\"scatter\"}],\"parcoords\":[{\"type\":\"parcoords\",\"line\":{\"colorbar\":{\"outlinewidth\":0,\"ticks\":\"\"}}}],\"scatterpolargl\":[{\"type\":\"scatterpolargl\",\"marker\":{\"colorbar\":{\"outlinewidth\":0,\"ticks\":\"\"}}}],\"bar\":[{\"error_x\":{\"color\":\"#2a3f5f\"},\"error_y\":{\"color\":\"#2a3f5f\"},\"marker\":{\"line\":{\"color\":\"#E5ECF6\",\"width\":0.5},\"pattern\":{\"fillmode\":\"overlay\",\"size\":10,\"solidity\":0.2}},\"type\":\"bar\"}],\"scattergeo\":[{\"type\":\"scattergeo\",\"marker\":{\"colorbar\":{\"outlinewidth\":0,\"ticks\":\"\"}}}],\"scatterpolar\":[{\"type\":\"scatterpolar\",\"marker\":{\"colorbar\":{\"outlinewidth\":0,\"ticks\":\"\"}}}],\"histogram\":[{\"marker\":{\"pattern\":{\"fillmode\":\"overlay\",\"size\":10,\"solidity\":0.2}},\"type\":\"histogram\"}],\"scattergl\":[{\"type\":\"scattergl\",\"marker\":{\"colorbar\":{\"outlinewidth\":0,\"ticks\":\"\"}}}],\"scatter3d\":[{\"type\":\"scatter3d\",\"line\":{\"colorbar\":{\"outlinewidth\":0,\"ticks\":\"\"}},\"marker\":{\"colorbar\":{\"outlinewidth\":0,\"ticks\":\"\"}}}],\"scattermapbox\":[{\"type\":\"scattermapbox\",\"marker\":{\"colorbar\":{\"outlinewidth\":0,\"ticks\":\"\"}}}],\"scatterternary\":[{\"type\":\"scatterternary\",\"marker\":{\"colorbar\":{\"outlinewidth\":0,\"ticks\":\"\"}}}],\"scattercarpet\":[{\"type\":\"scattercarpet\",\"marker\":{\"colorbar\":{\"outlinewidth\":0,\"ticks\":\"\"}}}],\"carpet\":[{\"aaxis\":{\"endlinecolor\":\"#2a3f5f\",\"gridcolor\":\"white\",\"linecolor\":\"white\",\"minorgridcolor\":\"white\",\"startlinecolor\":\"#2a3f5f\"},\"baxis\":{\"endlinecolor\":\"#2a3f5f\",\"gridcolor\":\"white\",\"linecolor\":\"white\",\"minorgridcolor\":\"white\",\"startlinecolor\":\"#2a3f5f\"},\"type\":\"carpet\"}],\"table\":[{\"cells\":{\"fill\":{\"color\":\"#EBF0F8\"},\"line\":{\"color\":\"white\"}},\"header\":{\"fill\":{\"color\":\"#C8D4E3\"},\"line\":{\"color\":\"white\"}},\"type\":\"table\"}],\"barpolar\":[{\"marker\":{\"line\":{\"color\":\"#E5ECF6\",\"width\":0.5},\"pattern\":{\"fillmode\":\"overlay\",\"size\":10,\"solidity\":0.2}},\"type\":\"barpolar\"}],\"pie\":[{\"automargin\":true,\"type\":\"pie\"}]},\"layout\":{\"autotypenumbers\":\"strict\",\"colorway\":[\"#636efa\",\"#EF553B\",\"#00cc96\",\"#ab63fa\",\"#FFA15A\",\"#19d3f3\",\"#FF6692\",\"#B6E880\",\"#FF97FF\",\"#FECB52\"],\"font\":{\"color\":\"#2a3f5f\"},\"hovermode\":\"closest\",\"hoverlabel\":{\"align\":\"left\"},\"paper_bgcolor\":\"white\",\"plot_bgcolor\":\"#E5ECF6\",\"polar\":{\"bgcolor\":\"#E5ECF6\",\"angularaxis\":{\"gridcolor\":\"white\",\"linecolor\":\"white\",\"ticks\":\"\"},\"radialaxis\":{\"gridcolor\":\"white\",\"linecolor\":\"white\",\"ticks\":\"\"}},\"ternary\":{\"bgcolor\":\"#E5ECF6\",\"aaxis\":{\"gridcolor\":\"white\",\"linecolor\":\"white\",\"ticks\":\"\"},\"baxis\":{\"gridcolor\":\"white\",\"linecolor\":\"white\",\"ticks\":\"\"},\"caxis\":{\"gridcolor\":\"white\",\"linecolor\":\"white\",\"ticks\":\"\"}},\"coloraxis\":{\"colorbar\":{\"outlinewidth\":0,\"ticks\":\"\"}},\"colorscale\":{\"sequential\":[[0.0,\"#0d0887\"],[0.1111111111111111,\"#46039f\"],[0.2222222222222222,\"#7201a8\"],[0.3333333333333333,\"#9c179e\"],[0.4444444444444444,\"#bd3786\"],[0.5555555555555556,\"#d8576b\"],[0.6666666666666666,\"#ed7953\"],[0.7777777777777778,\"#fb9f3a\"],[0.8888888888888888,\"#fdca26\"],[1.0,\"#f0f921\"]],\"sequentialminus\":[[0.0,\"#0d0887\"],[0.1111111111111111,\"#46039f\"],[0.2222222222222222,\"#7201a8\"],[0.3333333333333333,\"#9c179e\"],[0.4444444444444444,\"#bd3786\"],[0.5555555555555556,\"#d8576b\"],[0.6666666666666666,\"#ed7953\"],[0.7777777777777778,\"#fb9f3a\"],[0.8888888888888888,\"#fdca26\"],[1.0,\"#f0f921\"]],\"diverging\":[[0,\"#8e0152\"],[0.1,\"#c51b7d\"],[0.2,\"#de77ae\"],[0.3,\"#f1b6da\"],[0.4,\"#fde0ef\"],[0.5,\"#f7f7f7\"],[0.6,\"#e6f5d0\"],[0.7,\"#b8e186\"],[0.8,\"#7fbc41\"],[0.9,\"#4d9221\"],[1,\"#276419\"]]},\"xaxis\":{\"gridcolor\":\"white\",\"linecolor\":\"white\",\"ticks\":\"\",\"title\":{\"standoff\":15},\"zerolinecolor\":\"white\",\"automargin\":true,\"zerolinewidth\":2},\"yaxis\":{\"gridcolor\":\"white\",\"linecolor\":\"white\",\"ticks\":\"\",\"title\":{\"standoff\":15},\"zerolinecolor\":\"white\",\"automargin\":true,\"zerolinewidth\":2},\"scene\":{\"xaxis\":{\"backgroundcolor\":\"#E5ECF6\",\"gridcolor\":\"white\",\"linecolor\":\"white\",\"showbackground\":true,\"ticks\":\"\",\"zerolinecolor\":\"white\",\"gridwidth\":2},\"yaxis\":{\"backgroundcolor\":\"#E5ECF6\",\"gridcolor\":\"white\",\"linecolor\":\"white\",\"showbackground\":true,\"ticks\":\"\",\"zerolinecolor\":\"white\",\"gridwidth\":2},\"zaxis\":{\"backgroundcolor\":\"#E5ECF6\",\"gridcolor\":\"white\",\"linecolor\":\"white\",\"showbackground\":true,\"ticks\":\"\",\"zerolinecolor\":\"white\",\"gridwidth\":2}},\"shapedefaults\":{\"line\":{\"color\":\"#2a3f5f\"}},\"annotationdefaults\":{\"arrowcolor\":\"#2a3f5f\",\"arrowhead\":0,\"arrowwidth\":1},\"geo\":{\"bgcolor\":\"white\",\"landcolor\":\"#E5ECF6\",\"subunitcolor\":\"white\",\"showland\":true,\"showlakes\":true,\"lakecolor\":\"white\"},\"title\":{\"x\":0.05},\"mapbox\":{\"style\":\"light\"}}},\"xaxis\":{\"anchor\":\"y\",\"domain\":[0.0,1.0],\"title\":{\"text\":\"Mes y Año\"},\"tickfont\":{\"size\":10},\"tickangle\":45},\"yaxis\":{\"anchor\":\"x\",\"domain\":[0.0,1.0],\"title\":{\"text\":\"Ventas\"}},\"legend\":{\"tracegroupgap\":0},\"title\":{\"text\":\"7up en República Checa\"}},                        {\"responsive\": true}                    ).then(function(){\n",
              "                            \n",
              "var gd = document.getElementById('055a430d-2126-422d-9d07-9fe046ec9f8f');\n",
              "var x = new MutationObserver(function (mutations, observer) {{\n",
              "        var display = window.getComputedStyle(gd).display;\n",
              "        if (!display || display === 'none') {{\n",
              "            console.log([gd, 'removed!']);\n",
              "            Plotly.purge(gd);\n",
              "            observer.disconnect();\n",
              "        }}\n",
              "}});\n",
              "\n",
              "// Listen for the removal of the full notebook cells\n",
              "var notebookContainer = gd.closest('#notebook-container');\n",
              "if (notebookContainer) {{\n",
              "    x.observe(notebookContainer, {childList: true});\n",
              "}}\n",
              "\n",
              "// Listen for the clearing of the current output cell\n",
              "var outputEl = gd.closest('.output');\n",
              "if (outputEl) {{\n",
              "    x.observe(outputEl, {childList: true});\n",
              "}}\n",
              "\n",
              "                        })                };                            </script>        </div>\n",
              "</body>\n",
              "</html>"
            ]
          },
          "metadata": {}
        }
      ]
    },
    {
      "cell_type": "markdown",
      "source": [
        "## **Distribución de los datos**\n",
        "\n",
        "En este apartado, se analizará la distribución de las ventas de PepsiCo en tres dimensiones clave: por país, por mes y año, y por cada sub-marca. Este enfoque permite comprender mejor cómo varía la demanda de Pepsi Max en diferentes contextos geográficos, temporales y de producto."
      ],
      "metadata": {
        "id": "leAkelN1ddJr"
      }
    },
    {
      "cell_type": "markdown",
      "source": [
        "### **Datos máximos y distribución de países y submarcas**\n",
        "\n",
        "Ahora vamso a ver cuales son las máximas cantidades por países y por marcas, para ello vasmoa a utilizar un gráfico de bigotes para mostrar la distribución de los datos, identificar cuales son los datos máximos y estadísiticos básicos como los cartiles."
      ],
      "metadata": {
        "id": "nSgwMlEAX5x8"
      }
    },
    {
      "cell_type": "code",
      "source": [
        "# Crear una figura de subplots con Plotly\n",
        "fig = sp.make_subplots(rows=1, cols=2, subplot_titles=(\"Distribución de Amount por Pais\", \"Distribución de Amount por Submarca\"))\n",
        "\n",
        "# Primer gráfico: Distribución de Amount por Country\n",
        "fig_country = px.box(df_actual, x='COUNTRY', y='AMOUNT', title=\"Distribución de Amount por Pais\")\n",
        "for trace in fig_country.data:\n",
        "    fig.add_trace(trace, row=1, col=1)\n",
        "\n",
        "# Segundo gráfico: Distribución de Amount por Subbrand\n",
        "fig_subbrand = px.box(df_actual, x='SUBBRAND', y='AMOUNT', title=\"Distribución de Amount por Submarca\")\n",
        "for trace in fig_subbrand.data:\n",
        "    fig.add_trace(trace, row=1, col=2)\n",
        "\n",
        "# Ajustar el diseño de la figura\n",
        "fig.update_layout(\n",
        "    title=\"Distribución de Amount por Pais y Submarca (datos completos)\",\n",
        "    xaxis=dict(tickangle=45),  # Rotar etiquetas en el primer gráfico\n",
        "    xaxis2=dict(tickangle=45),  # Rotar etiquetas en el segundo gráfico\n",
        "    width=1000,\n",
        "    height=600,\n",
        "    showlegend=False\n",
        ")\n",
        "\n",
        "# Mostrar la gráfica\n",
        "fig.show()"
      ],
      "metadata": {
        "colab": {
          "base_uri": "https://localhost:8080/",
          "height": 617
        },
        "id": "pAw-UlNJUrsb",
        "outputId": "ffb4ffd9-5574-40f1-acbc-a05794970775"
      },
      "execution_count": 542,
      "outputs": [
        {
          "output_type": "display_data",
          "data": {
            "text/html": [
              "<html>\n",
              "<head><meta charset=\"utf-8\" /></head>\n",
              "<body>\n",
              "    <div>            <script src=\"https://cdnjs.cloudflare.com/ajax/libs/mathjax/2.7.5/MathJax.js?config=TeX-AMS-MML_SVG\"></script><script type=\"text/javascript\">if (window.MathJax && window.MathJax.Hub && window.MathJax.Hub.Config) {window.MathJax.Hub.Config({SVG: {font: \"STIX-Web\"}});}</script>                <script type=\"text/javascript\">window.PlotlyConfig = {MathJaxConfig: 'local'};</script>\n",
              "        <script charset=\"utf-8\" src=\"https://cdn.plot.ly/plotly-2.35.2.min.js\"></script>                <div id=\"82173ff3-dd0d-4e00-b7db-6648ccad41f6\" class=\"plotly-graph-div\" style=\"height:600px; width:1000px;\"></div>            <script type=\"text/javascript\">                                    window.PLOTLYENV=window.PLOTLYENV || {};                                    if (document.getElementById(\"82173ff3-dd0d-4e00-b7db-6648ccad41f6\")) {                    Plotly.newPlot(                        \"82173ff3-dd0d-4e00-b7db-6648ccad41f6\",                        [{\"alignmentgroup\":\"True\",\"hovertemplate\":\"COUNTRY=%{x}\\u003cbr\\u003eAMOUNT=%{y}\\u003cextra\\u003e\\u003c\\u002fextra\\u003e\",\"legendgroup\":\"\",\"marker\":{\"color\":\"#636efa\"},\"name\":\"\",\"notched\":false,\"offsetgroup\":\"\",\"orientation\":\"v\",\"showlegend\":false,\"x\":[\"Norway\",\"Czech\",\"Czech\",\"Denmark\",\"Spain\",\"Netherlands\",\"Hungary\",\"Denmark\",\"Great Britain\",\"Hungary\",\"Norway\",\"Denmark\",\"Great Britain\",\"Portugal\",\"Netherlands\",\"Hungary\",\"Hungary\",\"Spain\",\"Netherlands\",\"Norway\",\"Portugal\",\"Hungary\",\"Italy\",\"Great Britain\",\"Portugal\",\"Spain\",\"Denmark\",\"Italy\",\"Spain\",\"Norway\",\"Czech\",\"Netherlands\",\"Czech\",\"Great Britain\",\"Spain\",\"Norway\",\"Portugal\",\"Portugal\",\"Great Britain\",\"Czech\",\"Italy\",\"Great Britain\",\"Netherlands\",\"Portugal\",\"Czech\",\"Czech\",\"Hungary\",\"Great Britain\",\"Portugal\",\"Great Britain\",\"Spain\",\"Netherlands\",\"Czech\",\"Norway\",\"Norway\",\"Italy\",\"Netherlands\",\"Netherlands\",\"Denmark\",\"Italy\",\"Portugal\",\"Spain\",\"Hungary\",\"Spain\",\"Denmark\",\"Portugal\",\"Denmark\",\"Great Britain\",\"Hungary\",\"Denmark\",\"Great Britain\",\"Great Britain\",\"Italy\",\"Spain\",\"Hungary\",\"Czech\",\"Netherlands\",\"Great Britain\",\"Norway\",\"Spain\",\"Norway\",\"Netherlands\",\"Portugal\",\"Hungary\",\"Norway\",\"Czech\",\"Czech\",\"Hungary\",\"Great Britain\",\"Great Britain\",\"Spain\",\"Denmark\",\"Great Britain\",\"Norway\",\"Italy\",\"Spain\",\"Norway\",\"Portugal\",\"Portugal\",\"Norway\",\"Spain\",\"Netherlands\",\"Denmark\",\"Portugal\",\"Denmark\",\"Netherlands\",\"Czech\",\"Czech\",\"Italy\",\"Portugal\",\"Norway\",\"Hungary\",\"Spain\",\"Netherlands\",\"Great Britain\",\"Hungary\",\"Hungary\",\"Great Britain\",\"Hungary\",\"Czech\",\"Netherlands\",\"Portugal\",\"Spain\",\"Italy\",\"Czech\",\"Denmark\",\"Norway\",\"Netherlands\",\"Great Britain\",\"Hungary\",\"Spain\",\"Czech\",\"Czech\",\"Italy\",\"Norway\",\"Denmark\",\"Hungary\",\"Great Britain\",\"Denmark\",\"Portugal\",\"Hungary\",\"Portugal\",\"Italy\",\"Denmark\",\"Portugal\",\"Italy\",\"Netherlands\",\"Spain\",\"Netherlands\",\"Denmark\",\"Netherlands\",\"Spain\",\"Czech\",\"Spain\",\"Czech\",\"Netherlands\",\"Great Britain\",\"Great Britain\",\"Great Britain\",\"Norway\",\"Hungary\",\"Spain\",\"Norway\",\"Great Britain\",\"Norway\",\"Netherlands\",\"Portugal\",\"Czech\",\"Hungary\",\"Norway\",\"Great Britain\",\"Portugal\",\"Netherlands\",\"Portugal\",\"Spain\",\"Great Britain\",\"Great Britain\",\"Great Britain\",\"Portugal\",\"Norway\",\"Czech\",\"Hungary\",\"Norway\",\"Czech\",\"Hungary\",\"Czech\",\"Norway\",\"Italy\",\"Hungary\",\"Spain\",\"Spain\",\"Netherlands\",\"Norway\",\"Great Britain\",\"Czech\",\"Netherlands\",\"Denmark\",\"Denmark\",\"Portugal\",\"Spain\",\"Italy\",\"Great Britain\",\"Portugal\",\"Netherlands\",\"Hungary\",\"Great Britain\",\"Denmark\",\"Denmark\",\"Netherlands\",\"Spain\",\"Italy\",\"Norway\",\"Portugal\",\"Czech\",\"Hungary\",\"Hungary\",\"Czech\",\"Denmark\",\"Spain\",\"Czech\",\"Great Britain\",\"Netherlands\",\"Norway\",\"Norway\",\"Hungary\",\"Italy\",\"Norway\",\"Great Britain\",\"Portugal\",\"Portugal\",\"Czech\",\"Netherlands\",\"Netherlands\",\"Portugal\",\"Great Britain\",\"Norway\",\"Great Britain\",\"Denmark\",\"Netherlands\",\"Czech\",\"Spain\",\"Portugal\",\"Portugal\",\"Italy\",\"Great Britain\",\"Italy\",\"Norway\",\"Hungary\",\"Spain\",\"Spain\",\"Denmark\",\"Netherlands\",\"Czech\",\"Spain\",\"Great Britain\",\"Hungary\",\"Denmark\",\"Hungary\",\"Czech\",\"Netherlands\",\"Norway\",\"Portugal\",\"Portugal\",\"Hungary\",\"Norway\",\"Italy\",\"Netherlands\",\"Great Britain\",\"Denmark\",\"Norway\",\"Hungary\",\"Norway\",\"Great Britain\",\"Hungary\",\"Spain\",\"Denmark\",\"Czech\",\"Italy\",\"Portugal\",\"Great Britain\",\"Denmark\",\"Czech\",\"Portugal\",\"Spain\",\"Spain\",\"Spain\",\"Czech\",\"Great Britain\",\"Great Britain\",\"Italy\",\"Great Britain\",\"Netherlands\",\"Denmark\",\"Netherlands\",\"Spain\",\"Hungary\",\"Czech\",\"Portugal\",\"Norway\",\"Netherlands\",\"Hungary\",\"Portugal\",\"Netherlands\",\"Spain\",\"Spain\",\"Norway\",\"Portugal\",\"Italy\",\"Netherlands\",\"Great Britain\",\"Portugal\",\"Portugal\",\"Denmark\",\"Italy\",\"Denmark\",\"Norway\",\"Hungary\",\"Norway\",\"Italy\",\"Great Britain\",\"Spain\",\"Hungary\",\"Netherlands\",\"Hungary\",\"Czech\",\"Great Britain\",\"Great Britain\",\"Czech\",\"Denmark\",\"Spain\",\"Czech\",\"Portugal\",\"Czech\",\"Norway\",\"Denmark\",\"Norway\",\"Spain\",\"Netherlands\",\"Netherlands\",\"Hungary\",\"Great Britain\",\"Czech\",\"Hungary\",\"Great Britain\",\"Spain\",\"Netherlands\",\"Great Britain\",\"Portugal\",\"Italy\",\"Hungary\",\"Denmark\",\"Netherlands\",\"Hungary\",\"Portugal\",\"Denmark\",\"Netherlands\",\"Great Britain\",\"Norway\",\"Czech\",\"Czech\",\"Norway\",\"Hungary\",\"Norway\",\"Great Britain\",\"Italy\",\"Great Britain\",\"Italy\",\"Spain\",\"Great Britain\",\"Netherlands\",\"Spain\",\"Great Britain\",\"Czech\",\"Hungary\",\"Netherlands\",\"Portugal\",\"Denmark\",\"Spain\",\"Norway\",\"Norway\",\"Czech\",\"Denmark\",\"Czech\",\"Portugal\",\"Hungary\",\"Spain\",\"Denmark\",\"Portugal\",\"Spain\",\"Hungary\",\"Great Britain\",\"Netherlands\",\"Czech\",\"Hungary\",\"Great Britain\",\"Norway\",\"Italy\",\"Czech\",\"Norway\",\"Denmark\",\"Portugal\",\"Czech\",\"Hungary\",\"Italy\",\"Czech\",\"Norway\",\"Spain\",\"Netherlands\",\"Great Britain\",\"Portugal\",\"Netherlands\",\"Norway\",\"Great Britain\",\"Portugal\",\"Spain\",\"Hungary\",\"Norway\",\"Czech\",\"Denmark\",\"Italy\",\"Portugal\",\"Great Britain\",\"Denmark\",\"Spain\",\"Great Britain\",\"Netherlands\",\"Spain\",\"Hungary\",\"Netherlands\",\"Netherlands\",\"Hungary\",\"Portugal\",\"Norway\",\"Great Britain\",\"Hungary\",\"Great Britain\",\"Norway\",\"Spain\",\"Hungary\",\"Italy\",\"Portugal\",\"Czech\",\"Hungary\",\"Denmark\",\"Portugal\",\"Italy\",\"Great Britain\",\"Portugal\",\"Spain\",\"Czech\",\"Czech\",\"Italy\",\"Portugal\",\"Great Britain\",\"Spain\",\"Norway\",\"Netherlands\",\"Norway\",\"Czech\",\"Great Britain\",\"Denmark\",\"Denmark\",\"Hungary\",\"Great Britain\",\"Norway\",\"Netherlands\",\"Netherlands\",\"Denmark\",\"Spain\",\"Czech\",\"Netherlands\",\"Spain\",\"Portugal\",\"Portugal\",\"Denmark\",\"Hungary\",\"Netherlands\",\"Denmark\",\"Italy\",\"Netherlands\",\"Spain\",\"Great Britain\",\"Italy\",\"Spain\",\"Netherlands\",\"Czech\",\"Denmark\",\"Spain\",\"Norway\",\"Czech\",\"Portugal\",\"Netherlands\",\"Czech\",\"Hungary\",\"Spain\",\"Netherlands\",\"Portugal\",\"Norway\",\"Great Britain\",\"Hungary\",\"Hungary\",\"Italy\",\"Great Britain\",\"Norway\",\"Norway\",\"Portugal\",\"Spain\",\"Czech\",\"Hungary\",\"Norway\",\"Denmark\",\"Great Britain\",\"Great Britain\",\"Great Britain\",\"Czech\",\"Hungary\",\"Great Britain\",\"Netherlands\",\"Italy\",\"Spain\",\"Great Britain\",\"Great Britain\",\"Portugal\",\"Norway\",\"Denmark\",\"Hungary\",\"Spain\",\"Netherlands\",\"Spain\",\"Czech\",\"Netherlands\",\"Portugal\",\"Norway\",\"Czech\",\"Italy\",\"Netherlands\",\"Portugal\",\"Great Britain\",\"Norway\",\"Czech\",\"Czech\",\"Spain\",\"Hungary\",\"Hungary\",\"Spain\",\"Czech\",\"Hungary\",\"Denmark\",\"Norway\",\"Netherlands\",\"Denmark\",\"Norway\",\"Portugal\",\"Great Britain\",\"Italy\",\"Denmark\",\"Great Britain\",\"Portugal\",\"Great Britain\",\"Netherlands\",\"Netherlands\",\"Denmark\",\"Portugal\",\"Portugal\",\"Denmark\",\"Great Britain\",\"Italy\",\"Czech\",\"Spain\",\"Hungary\",\"Denmark\",\"Czech\",\"Great Britain\",\"Italy\",\"Spain\",\"Great Britain\",\"Spain\",\"Portugal\",\"Czech\",\"Great Britain\",\"Norway\",\"Hungary\",\"Denmark\",\"Czech\",\"Hungary\",\"Norway\",\"Hungary\",\"Netherlands\",\"Netherlands\",\"Norway\",\"Spain\",\"Czech\",\"Czech\",\"Norway\",\"Italy\",\"Norway\",\"Netherlands\",\"Hungary\",\"Spain\",\"Portugal\",\"Portugal\",\"Great Britain\",\"Netherlands\",\"Great Britain\",\"Netherlands\",\"Hungary\",\"Italy\",\"Great Britain\",\"Great Britain\",\"Denmark\",\"Norway\",\"Spain\",\"Denmark\",\"Great Britain\",\"Denmark\",\"Norway\",\"Czech\",\"Italy\",\"Great Britain\",\"Czech\",\"Portugal\",\"Norway\",\"Norway\",\"Norway\",\"Czech\",\"Hungary\",\"Spain\",\"Czech\",\"Denmark\",\"Portugal\",\"Netherlands\",\"Spain\",\"Czech\",\"Portugal\",\"Spain\",\"Czech\",\"Netherlands\",\"Portugal\",\"Hungary\",\"Hungary\",\"Spain\",\"Netherlands\",\"Portugal\",\"Great Britain\",\"Italy\",\"Hungary\",\"Netherlands\",\"Czech\",\"Czech\",\"Denmark\",\"Norway\",\"Portugal\",\"Denmark\",\"Norway\",\"Spain\",\"Great Britain\",\"Portugal\",\"Netherlands\",\"Hungary\",\"Great Britain\",\"Hungary\",\"Italy\",\"Netherlands\",\"Spain\",\"Portugal\",\"Great Britain\",\"Czech\",\"Czech\",\"Norway\",\"Norway\",\"Hungary\",\"Spain\",\"Netherlands\",\"Hungary\",\"Netherlands\",\"Italy\",\"Spain\",\"Portugal\",\"Portugal\",\"Czech\",\"Great Britain\",\"Spain\",\"Hungary\",\"Great Britain\",\"Czech\",\"Norway\",\"Italy\",\"Great Britain\",\"Denmark\",\"Denmark\",\"Norway\",\"Czech\",\"Spain\",\"Netherlands\",\"Czech\",\"Great Britain\",\"Czech\",\"Czech\",\"Spain\",\"Portugal\",\"Portugal\",\"Denmark\",\"Portugal\",\"Hungary\",\"Denmark\",\"Italy\",\"Italy\",\"Hungary\",\"Netherlands\",\"Spain\",\"Netherlands\",\"Czech\",\"Denmark\",\"Spain\",\"Netherlands\",\"Hungary\",\"Hungary\",\"Norway\",\"Great Britain\",\"Great Britain\",\"Great Britain\",\"Netherlands\",\"Czech\",\"Great Britain\",\"Norway\",\"Denmark\",\"Norway\",\"Hungary\",\"Portugal\",\"Italy\",\"Spain\",\"Norway\",\"Portugal\",\"Great Britain\",\"Hungary\",\"Norway\",\"Denmark\",\"Hungary\",\"Hungary\",\"Czech\",\"Czech\",\"Great Britain\",\"Great Britain\",\"Norway\",\"Portugal\",\"Czech\",\"Netherlands\",\"Hungary\",\"Spain\",\"Norway\",\"Czech\",\"Great Britain\",\"Spain\",\"Hungary\",\"Spain\",\"Spain\",\"Czech\",\"Norway\",\"Italy\",\"Denmark\",\"Norway\",\"Denmark\",\"Czech\",\"Denmark\",\"Italy\",\"Great Britain\",\"Netherlands\",\"Portugal\",\"Portugal\",\"Spain\",\"Great Britain\",\"Netherlands\",\"Portugal\",\"Great Britain\",\"Netherlands\",\"Portugal\",\"Netherlands\",\"Italy\",\"Netherlands\",\"Great Britain\",\"Norway\",\"Denmark\",\"Great Britain\",\"Hungary\",\"Netherlands\",\"Czech\",\"Denmark\",\"Spain\",\"Portugal\",\"Netherlands\",\"Netherlands\",\"Great Britain\",\"Denmark\",\"Italy\",\"Czech\",\"Hungary\",\"Great Britain\",\"Portugal\",\"Great Britain\",\"Czech\",\"Czech\",\"Portugal\",\"Portugal\",\"Hungary\",\"Hungary\",\"Italy\",\"Denmark\",\"Great Britain\",\"Hungary\",\"Spain\",\"Portugal\",\"Netherlands\",\"Czech\",\"Spain\",\"Italy\",\"Norway\",\"Czech\",\"Norway\",\"Spain\",\"Spain\",\"Norway\",\"Norway\",\"Portugal\",\"Spain\",\"Norway\",\"Italy\",\"Netherlands\",\"Denmark\",\"Great Britain\",\"Czech\",\"Hungary\",\"Denmark\",\"Great Britain\",\"Hungary\",\"Spain\",\"Czech\",\"Norway\",\"Italy\",\"Great Britain\",\"Portugal\",\"Netherlands\",\"Denmark\",\"Denmark\",\"Spain\",\"Hungary\",\"Great Britain\",\"Portugal\",\"Norway\",\"Portugal\",\"Italy\",\"Netherlands\",\"Czech\",\"Spain\",\"Czech\",\"Norway\",\"Hungary\",\"Netherlands\",\"Portugal\",\"Netherlands\",\"Czech\",\"Great Britain\",\"Norway\",\"Czech\",\"Spain\",\"Hungary\",\"Great Britain\"],\"x0\":\" \",\"xaxis\":\"x\",\"y\":[34297.395969088364,376371.6230019796,204094.2248490698,20454.005903362384,78971.96959557036,1854979.9933780893,314354.5222714561,135789.36338083734,146982.14373771602,36744.908526061445,35732.59459116749,10365.666805210176,9159066.190922344,142643.44536571964,122161.56051650898,17068.677660915935,460671.4335026381,83274.05549724207,686853.0429085685,2521703.796326954,72078.55416933775,2100111.241044571,10681.570660711644,368979.1180883814,193217.05775855383,99292.75887089389,1271376.84656189,1851080.885927032,9208.97938049918,1485.7030143779984,65880.60484808353,114214.14130028954,70126.82014469578,1607574.0456348227,54525.1755862856,9224.884292688424,250322.3285171853,647593.3125752892,1004129.6960965954,1052390.2242291465,154587.69451860824,151776.04207026272,421721.20349693205,311120.86218678014,191676.7486421562,57389.50568145794,13131.459004036547,162902.67201115863,162759.71096067008,9676396.55907237,69302.9735194043,719275.2037646263,864592.2629320972,19655.935415243075,1825216.3497777432,114642.772607835,87711.84828781358,105868.78755644476,2185992.599663269,1830788.5638204191,78712.61966989074,85035.20179214247,607250.8083661493,80772.49512162477,11897.001120089044,309567.536438117,22991.060421407088,1040915.5248568192,362154.39617338136,174903.04889646574,310512.9655590231,153406.3070171113,4657.752918219411,50344.87118975999,21617.929878199124,50850.25677512979,447496.10786668834,1722087.5148816863,36319.49307165048,10132.837981585457,8730.354413080386,1359168.3796749625,192058.3978499926,195816.13280451985,929.8852437074244,336105.88011524937,442842.9022282023,1042737.081991927,201330.17900290943,195259.95068790377,64655.47145032158,17322.388396159295,2106423.3130331864,9913.84472325347,15229.00537501849,108883.1082384134,45879.58157101294,194375.7986798448,95734.87703676573,25687.368354314454,94306.65094820118,1070921.3049389587,2971511.39813882,216674.3710946581,52614.12227990955,593942.2484906976,75310.10263960606,86546.85001373693,199716.4519242285,293497.1117200764,2762663.8623347166,295028.3579776405,9426.005681457948,2061711.955717738,1304897.9549921455,43451.00138778328,548786.119349362,12573850.969158806,43951.49098645326,1106104.7283255726,152664.89612759155,970709.8159249892,122439.03679157892,2344058.304509239,271460.49044402025,306278.2752037646,1413.848245546061,140029.30547434714,615373.1719301459,40746.14837305305,9617.009842166068,393516.76963502006,74826.79830648172,126539.39684261694,34586.398503564946,33523.877621466265,485769.6138862865,1182113.5232083858,286841.753960818,223824.77298824256,1077233.6407120668,220002.64348058865,11564.34876332307,42561.53445154382,116231.10113910944,2006110.3780828863,448285.6438398625,99838.51406116813,1434733.1246962023,2155775.256599015,98599.36739625088,73141.16028298099,241540.5451100012,90623.55743784914,869314.3998365657,147304.69944277333,165850.19365564658,240064.25450677337,1896348.932428339,8225.257655727459,41739.87164765802,54815.01624992075,2138.736060713476,657783.9962875036,1968366.6442416364,777216.4026121321,342200.0838305637,62656.2383324058,270766.7115171924,28263.728135402565,11717133.867759043,584073.0946158236,156433.91826872277,459201.46456925885,11759.247227955731,242854.25654970307,825929.5338950215,1398077.239720189,234117.4772636013,49642.68303060167,453079.49109916657,75731.47097983136,3013392.549014311,112877.10016695668,89930.45585510698,81047.37131304023,12671.79983918973,174296.3797876762,1908551.1472106967,64424.03987398998,82918.33366906652,1106911.2030038116,3774.4887599839385,232377.61780307567,311656.59760625,551830.1832296605,47989.63389290822,47794.99200439583,276816.72983311384,85757.98791767348,1779800.6769846354,2137516.019245807,874043.682909132,883778.1448789388,633915.9933217333,13896770.634012671,2727204.3211485487,350075.1657238663,136417.9693278761,115891.54759145631,20638.084436397967,46109.17347530521,128923.62260748276,1048286.7674511988,1369.8195881735503,1429954.6328714434,302972.6106528218,2677852.757602868,143831.89772037225,693856.0298126846,344973.0768634689,571161.9691024494,55327.72183927076,50624.28409403112,21947.47557290089,237207.88218635743,3924.538403556107,226203.12356906864,266983.9119285961,161835.08273865297,97490.71875902588,2245735.412425239,176860.89762104358,468507.61167428654,1944245.890365121,19464.18885123949,12770719.47063464,47183.25783886216,174630.33539270036,973766.088071404,11845.311399723854,300333.1490000212,932690.8871246118,11802.589589512025,1011623.23180912,2099138.8100286718,3003307.991729657,474625.8268581855,76407.2321369573,91915.88401372284,32070.245081118403,1088796.7496283983,63797.1053799497,115198.26101891116,1443260.5982966195,65925.4401104591,309603.1080709813,344308.88392637006,91099.07152367334,438084.2250604073,10987.43950462477,192337.2102033772,287059.8807351729,152992.8567906279,2398.6812536543785,2439380.35476531,152643.734193712,302001.9135911182,31229.40883003529,1967502.233133502,696546.3075806783,58131.089163314624,11807377.521080917,480248.2159588035,125493.49625476392,301485.7460338985,399943.1889428192,27799.84924587716,601534.6276584503,199373.0486851282,2607643.205050439,1054386.0080449162,1085059.273139701,103384.94030894028,92339.32988163334,13255.914481677031,86197.8189964284,2021779.7796805988,870973.6265172276,207459.0463040584,1492144.0896634802,122812.69152465956,45946.17915348742,1642085.0985889696,162071.55519256374,311299.1553542369,107349.9221573338,350901.80552718154,47753.36538326066,778523.5887934739,60504.8713306517,164793.5126415081,506454.60117081006,148935.01617841818,16355.798251764669,79772.16402612132,576737.781167006,14761.484434989045,138851.28880685862,319487.7969468768,210844.4960655992,1219854.9847308616,51530.94352003832,183119.15211372773,30500.578255813547,49100.65680013808,510976.4625534509,11369.960479877143,2228968.41912464,13225755.891527489,106715.95381781296,356247.3093537218,1110572.689552176,1266616.6603699818,310316.8858660965,644766.3709819448,191911.6951385317,375363.6393831057,2882205.9950339203,105712.72961973328,65701.26353159145,260730.62591139323,933191.1872854044,2960407.620832247,330683.31879565766,3647.68620599776,186616.62295196296,2411275.506681789,177807.76031503384,48498.84782199038,1317455.626721521,78397.8366917219,47132.14864074729,2064473.571569463,75888.8082792544,135100.19513500945,313828.81094446755,216877.1949870732,12398.87850203941,316922.2524356654,257955.8022725832,503292.2516607609,1015832.6770128142,197929.09272787475,2017784.1609546824,129415.9334427592,1948755.726965968,9780.702063359,695304.0125957185,31914.78869766754,2169078.6915387493,468567.2299986616,33798.11275563038,849263.3769980205,1562572.6120617387,1293227.672891732,180327.70001338475,140729.30844064584,206646.31307545456,1207033.968989736,108423.09226152318,12931426.045909563,371710.40767014434,83987.10840912133,1534608.0674589474,130280.67388501827,34381.749593175206,10634.28934295154,38895.2611005051,3163.7232041591237,62839.81669989363,28072.795220953416,294266.052848478,375453.7153142238,85027.72044268173,84366.48226666574,37529.780983846766,219788.50922488436,92671.3869433897,1024731.9881193072,180099.9867561799,1391180.6724761014,245019.93944773977,42629.28846343508,226245.2291955788,2492830.109261516,10018.266609370708,67437.3486215508,8882.517452959783,31500.33814008862,188594.89408466185,60014.249460560895,44587.79525811359,189886.8040830416,344103.25095693645,1542.7641543327725,83196.89587639924,132014.3991321071,642688.8624756082,1206886.222904764,140721.0555606433,37848.59296386832,1172553.4686832966,348446.58091058314,151523.86577670075,421500.28785920347,48162.7334399414,833296.3274087199,2176313.5685755145,1433297.739392616,106866.12822553945,11732169.515790436,252543.58837079885,130091.60765395944,1799985.184497686,447053.3204652244,10942.085509666931,272927.96378429834,951417.7932132469,393152.2405303164,539381.3740569765,101695.60347438944,43669.911872239405,1803962.3552026025,1036212.2823575408,167743.52121829058,8073.094615823547,99913.5795238565,59886.1971444774,185403.7322212282,220008.26858185456,360459.9851910845,306240.8039472755,36440.17738265483,546042.753587455,1686422.661021606,1021965.48600327,262238.5824885702,8034.032890992088,923719.849163931,51336.52884299734,11175.973737786451,185953.95306897355,250399.60390569412,112481.01179068074,38067.145597486495,100802.81501623776,2233147.3586327867,94278.57019189453,511840.46921868506,2704018.777341796,31843.99061661254,79338.81993089261,13584262.451090328,1912.6048762618611,816912.9641501062,132196.72708572555,299182.0884377224,74531.12053248259,257105.39744686615,1410549.5833127866,123046.45431128611,329658.85363465373,208084.9841144604,3004664.8714715424,52964.78008604926,1001472.7762005735,29107.04599409664,184646.53089402968,125054.94071981571,8591.425799032075,272963.44071629347,11136.030939822676,100807.92233802738,1578557.8747895432,61627.318905377135,46108.395032158536,105442.11223403168,8533.810486569499,445266.3229528796,596053.7767077833,501825.3576888125,237346.75869002411,467211.6528117226,63811.6805944221,114694.920149627,214672.65397702053,26668.157770529684,13924665.73048826,993632.6795559094,247952.81558372203,2232423.5451170523,1133045.9368593832,2388.114375884976,2360408.9276027987,125343.33018675196,115494.26762467154,70500.65097583567,41169.05047621396,37395.060963840144,285393.5985854473,147858.78833134912,1735358.908652864,533035.6995977542,1045487.76012792,51328.769601558255,969981.2136411348,424229.5125851514,1871824.466548787,97238.51342749008,1594887.3361253373,559138.4604059091,592168.3585412072,25773.94137496213,1446233.6829795777,926173.7784539602,113340.61179034613,103665.1849555839,60318.99423122441,871757.4144447459,947164.4276626772,174657.55390868807,2456795.8914218093,352310.63409420726,6789.810711996224,110461.4907751157,193161.47950377944,245995.7835339866,2567.753411340373,279790.3326555269,55881.68309193888,71405.76048903509,58579.906351398,245344.32084908392,7392.653203701226,52101.72996960261,445572.00520418736,28550.647045148748,34536.63396335406,724274.0625418272,191390.19605080556,9051.587497270224,90492.87264094457,9739060.125006163,188107.5109367185,28582.38290138285,150676.03164427663,288522.0037618085,272026.82747106435,94169.45749649532,1051473.5511049433,265639.3313279748,185368.6660373504,95487.10840912133,29806.555690968136,522385.952568808,1806539.9463202609,54000.32594661614,108317.83149722092,52699.45814283602,2557570.5515205744,90174.6081379048,2028092.6916655512,192889.74167506144,59482.85058485907,11545662.153670585,8003.513133044036,195622.0791388699,287384.59063616133,910090.0804843856,2119033.169499764,392770.68300296576,37371.189759990986,771024.4963093419,878493.5759953647,36672.00045789803,256625.6720106303,797483.8784668165,96123.5056673688,8652.159517586808,76848.37996555197,89.35491155523307,365915.334774538,23976.259747944743,9042.352046099766,3588.5116904891056,389128.2959852909,55111.12086570907,100246.4604717935,636620.1057392238,264665.6921657168,157587.1653293696,121991.645121977,1968418.517889724,1102766.4860904666,330685.54463290673,2100892.975139659,13782844.434425484,166701.00568498025,2819279.585496608,43817.777715159245,100264.4079378386,273459.1026607398,290162.8181158553,29032.655174600048,238323.23374638084,241767.3204359541,180144.61828915204,698062.6725042795,81001.74299239888,606040.6452628688,2096237.596246645,22482.30047973625,87446.30969405366,14906.588661211812,566835.0646041295,62914.44527414004,981337.4232497727,52057.7761653505,114495.60770114051,294037.2165435038,95639.02841081204,38418.88424851888,213812.88877304463,66435.80973984348,410398.91733531526,94549.0408797278,200197.4738117546,1207066.7033542793,62413.95733270872,6855.564870062626,1169245.468570583,266715.7721217586,1105659.5148746418,17993.173796960968,73851.81930163506,109110.6211210753,32814.75708650047,876939.3265816856,311093.23156255943,8365.40798010609,249372.6726451713,2090877.40308412,2700714.368641056,9613.097292765917,158102.72752248985,240511.60067064452,143753.79174797295,1596162.3533582513,1884452.6451360665,81093.61521242946,14310.76483061295,108135.50964051482,106530.7355251386,365441.52994300926,1205175.7205201725,388034.7027965242,19387.98584989398,2050.946126534839,29956.63806330264,72486.58258019538,74882.99296245942,1241237.3672976266,577621.5051380707,1265584.6935253218,1913489.6409374936,115596.74681056407,745942.7747212107,121748.45371355308,300841.679750516,731579.0674730367,70054.79630581953,406366.91102863743,12652965.520313062,74824.22465182138,38736.60987791734,215496.7101787211,262402.5683148648,48258.103034102845,36822.82163814784,3391.967763978,460588.92379872,94165.227223096,1566569.737870988,991092.859960691,301786.721661398,3482.321613491,359128.547829213,64397.071565943,250696.634519877,241078.499098294,38857.156946312,745673.687769899,563365.011658788,2845438.683930593,274489.665593542,18141.892034689,321262.608046326,120009.84833008,111719.09364367,136778.93387248,57893.829295612,41008.273865293,8909.258698302,1307569.244750023,88493.728558043,78607.338344382,2498191.900833373,14815628.237867463,1851436.730819364,769221.568054214,121190.253111945,104483.304333125,1270442.919487436,47917.039442632,358350.351877028,35035.504709303,1179755.864617163,150567.36636422,1700379.484759041,77568.360654581,11817.9960973,482446.084302552,203606.315118387,78611.64610822,2789422.562397415,45056.603241918,489731.868998895,379306.000929886,1501.558614471,366968.639267931,840563.337865345,196195.228350228,38646.080040577,265107.932132466,58920.810056849,128068.022514494,54778.840531724,113988.682873909,15023.986812536,767879.162469266,1847830.664022591,9739.012208266,729744.905003767,130166.523426768,75371.66526949,325133.96159292,48152.476523919,2076134.033799918,312715.88131283,3451.142279487,2600475.315773532,101538.482807691,37561.235056674,243410.502067585,323061.095926113,1223161.109663059,857590.691989599,142005.198798195,79701.862588321,1346003.398878506,1822674.050566031,238540.553123213,13173110.603509627,131566.912992326,440024.607176317,110012.271667383,22362.683423385,134893.971948462,1845970.157376038,40910.2097173,49063.774629631,865671.68886885,92202.399737943,151248.159602121,426673.094263594,394678.995864828,94034.761505568,467928.687452889,1589825.171007304,153134.030277626,1373990.410558422,54319.739632132,302609.860305876,935186.161969102,480667.294808845,340682.9549217,249086.121392291,12784914.616968654,45.7986094,79302.616006707,166701.35345854,986530.746092015,470651.095785226,81390.830063471,2105301.82525202,3185914.985946054,212553.774840966,1088774.907892049,135627.644361161,268931.038706472,1323603.925242862,435577.701774531,95936.841771572,22657.414778131,53269.147182519,79621.355307744,2679.76020232,165327.090656767,15308.024486978,12583.038047805,1900579.561545018,294264.064338196,101061.307263671,51804.364824977,15992.124153769,1229491.803625145,376188.333462483,2035189.275675748,462035.781209272,73714.991933949,40695.476671856,829271.484223649,696733.557938189,173370.457123134,80319.401492045,55198.204687467,2132092.495403409,1533493.899389235,335232.153177461,1801768.981634766,2433265.147619283,43022.796277641,96514.247673526,82299.893274535,212753.497636541,556479.542507026,1800.595971906,1266922.558875118,229202.943932146,136482.215944714,451893.397814769,150238.709291102,0.443808866,3110356.073841342,451693.932146554,101146.576683832,189635.867804837,118063.302642424,88567.089106959,387428.132903143,9112.875388333,985290.247476278,16677.562291743,981788.232724916,14138482.706649387],\"y0\":\" \",\"yaxis\":\"y\",\"type\":\"box\"},{\"alignmentgroup\":\"True\",\"hovertemplate\":\"SUBBRAND=%{x}\\u003cbr\\u003eAMOUNT=%{y}\\u003cextra\\u003e\\u003c\\u002fextra\\u003e\",\"legendgroup\":\"\",\"marker\":{\"color\":\"#636efa\"},\"name\":\"\",\"notched\":false,\"offsetgroup\":\"\",\"orientation\":\"v\",\"showlegend\":false,\"x\":[\"Pepsi Regular (L3)\",\"Pepsi Max (L3)\",\"Lipton (L3)\",\"Mountain Dew (L3)\",\"7up (L3)\",\"Lipton (L3)\",\"Lipton (L3)\",\"Pepsi Regular (L3)\",\"7up (L3)\",\"Mountain Dew (L3)\",\"7up Free (L3)\",\"7up Free (L3)\",\"Pepsi Max (L3)\",\"Pepsi Max (L3)\",\"7up (L3)\",\"7up Free (L3)\",\"Pepsi Max (L3)\",\"Pepsi Max (L3)\",\"Pepsi Max (L3)\",\"Pepsi Max (L3)\",\"7up Free (L3)\",\"Pepsi Regular (L3)\",\"7up (L3)\",\"Lipton (L3)\",\"Pepsi Regular (L3)\",\"Pepsi Regular (L3)\",\"Pepsi Max (L3)\",\"Pepsi Regular (L3)\",\"Lipton (L3)\",\"7up (L3)\",\"7up (L3)\",\"7up Free (L3)\",\"Mountain Dew (L3)\",\"Pepsi Regular (L3)\",\"7up Free (L3)\",\"Mountain Dew (L3)\",\"7up (L3)\",\"Lipton (L3)\",\"7up Free (L3)\",\"Pepsi Regular (L3)\",\"Pepsi Max (L3)\",\"Mountain Dew (L3)\",\"Pepsi Regular (L3)\",\"7up (L3)\",\"Lipton (L3)\",\"Mountain Dew (L3)\",\"7up Free (L3)\",\"Mountain Dew (L3)\",\"Pepsi Max (L3)\",\"Pepsi Max (L3)\",\"7up (L3)\",\"Pepsi Max (L3)\",\"Pepsi Regular (L3)\",\"7up Free (L3)\",\"Pepsi Max (L3)\",\"Pepsi Max (L3)\",\"7up (L3)\",\"7up Free (L3)\",\"Pepsi Max (L3)\",\"Pepsi Regular (L3)\",\"7up Free (L3)\",\"Pepsi Regular (L3)\",\"Pepsi Regular (L3)\",\"Pepsi Max (L3)\",\"7up Free (L3)\",\"Lipton (L3)\",\"Mountain Dew (L3)\",\"7up Free (L3)\",\"Pepsi Max (L3)\",\"Pepsi Regular (L3)\",\"Lipton (L3)\",\"7up (L3)\",\"7up (L3)\",\"7up Free (L3)\",\"Mountain Dew (L3)\",\"7up (L3)\",\"Pepsi Regular (L3)\",\"Pepsi Regular (L3)\",\"Pepsi Regular (L3)\",\"Lipton (L3)\",\"Mountain Dew (L3)\",\"Lipton (L3)\",\"Pepsi Regular (L3)\",\"Lipton (L3)\",\"7up (L3)\",\"Pepsi Max (L3)\",\"Pepsi Max (L3)\",\"Pepsi Regular (L3)\",\"Mountain Dew (L3)\",\"7up (L3)\",\"7up Free (L3)\",\"7up Free (L3)\",\"Pepsi Regular (L3)\",\"Mountain Dew (L3)\",\"7up (L3)\",\"Pepsi Max (L3)\",\"Pepsi Regular (L3)\",\"Pepsi Max (L3)\",\"7up Free (L3)\",\"7up Free (L3)\",\"7up (L3)\",\"Pepsi Max (L3)\",\"Pepsi Max (L3)\",\"Pepsi Regular (L3)\",\"Mountain Dew (L3)\",\"Pepsi Regular (L3)\",\"7up (L3)\",\"Mountain Dew (L3)\",\"Pepsi Max (L3)\",\"7up (L3)\",\"Pepsi Max (L3)\",\"Lipton (L3)\",\"Lipton (L3)\",\"Lipton (L3)\",\"7up Free (L3)\",\"7up Free (L3)\",\"Pepsi Max (L3)\",\"Pepsi Max (L3)\",\"Mountain Dew (L3)\",\"Pepsi Regular (L3)\",\"7up Free (L3)\",\"Lipton (L3)\",\"Pepsi Regular (L3)\",\"Pepsi Regular (L3)\",\"Lipton (L3)\",\"Pepsi Regular (L3)\",\"7up (L3)\",\"7up (L3)\",\"Lipton (L3)\",\"Mountain Dew (L3)\",\"Lipton (L3)\",\"Pepsi Max (L3)\",\"Mountain Dew (L3)\",\"Pepsi Max (L3)\",\"Pepsi Regular (L3)\",\"7up Free (L3)\",\"Pepsi Max (L3)\",\"7up Free (L3)\",\"Pepsi Regular (L3)\",\"Pepsi Regular (L3)\",\"Pepsi Regular (L3)\",\"Pepsi Max (L3)\",\"7up (L3)\",\"Mountain Dew (L3)\",\"7up Free (L3)\",\"Pepsi Regular (L3)\",\"Pepsi Regular (L3)\",\"Pepsi Regular (L3)\",\"Lipton (L3)\",\"Pepsi Max (L3)\",\"7up (L3)\",\"7up (L3)\",\"Lipton (L3)\",\"Pepsi Max (L3)\",\"Pepsi Regular (L3)\",\"7up Free (L3)\",\"Mountain Dew (L3)\",\"7up (L3)\",\"Pepsi Regular (L3)\",\"Mountain Dew (L3)\",\"7up Free (L3)\",\"7up Free (L3)\",\"7up (L3)\",\"Lipton (L3)\",\"Pepsi Max (L3)\",\"Pepsi Max (L3)\",\"7up (L3)\",\"7up (L3)\",\"Lipton (L3)\",\"7up Free (L3)\",\"Pepsi Max (L3)\",\"Lipton (L3)\",\"7up Free (L3)\",\"7up (L3)\",\"Lipton (L3)\",\"7up (L3)\",\"Lipton (L3)\",\"7up Free (L3)\",\"Pepsi Max (L3)\",\"Pepsi Regular (L3)\",\"Pepsi Max (L3)\",\"Lipton (L3)\",\"Pepsi Max (L3)\",\"Mountain Dew (L3)\",\"Mountain Dew (L3)\",\"7up (L3)\",\"Mountain Dew (L3)\",\"Pepsi Max (L3)\",\"Pepsi Regular (L3)\",\"7up Free (L3)\",\"7up (L3)\",\"Pepsi Max (L3)\",\"7up (L3)\",\"Mountain Dew (L3)\",\"Lipton (L3)\",\"Pepsi Regular (L3)\",\"7up Free (L3)\",\"Mountain Dew (L3)\",\"Pepsi Regular (L3)\",\"Pepsi Max (L3)\",\"Pepsi Regular (L3)\",\"Pepsi Regular (L3)\",\"Lipton (L3)\",\"Lipton (L3)\",\"Pepsi Max (L3)\",\"Pepsi Max (L3)\",\"Pepsi Max (L3)\",\"Pepsi Regular (L3)\",\"7up (L3)\",\"Pepsi Regular (L3)\",\"7up (L3)\",\"7up Free (L3)\",\"7up Free (L3)\",\"Pepsi Regular (L3)\",\"7up Free (L3)\",\"Pepsi Regular (L3)\",\"Lipton (L3)\",\"Pepsi Max (L3)\",\"Pepsi Regular (L3)\",\"Pepsi Max (L3)\",\"7up (L3)\",\"Pepsi Regular (L3)\",\"Pepsi Regular (L3)\",\"7up Free (L3)\",\"Mountain Dew (L3)\",\"Pepsi Max (L3)\",\"7up (L3)\",\"Mountain Dew (L3)\",\"Pepsi Max (L3)\",\"7up Free (L3)\",\"Mountain Dew (L3)\",\"Lipton (L3)\",\"7up (L3)\",\"7up (L3)\",\"Pepsi Regular (L3)\",\"Mountain Dew (L3)\",\"Pepsi Max (L3)\",\"Mountain Dew (L3)\",\"7up Free (L3)\",\"Pepsi Regular (L3)\",\"Lipton (L3)\",\"Pepsi Regular (L3)\",\"Lipton (L3)\",\"7up (L3)\",\"Lipton (L3)\",\"Pepsi Regular (L3)\",\"Pepsi Max (L3)\",\"Pepsi Max (L3)\",\"7up Free (L3)\",\"7up (L3)\",\"7up Free (L3)\",\"Pepsi Max (L3)\",\"7up (L3)\",\"Pepsi Max (L3)\",\"7up Free (L3)\",\"7up Free (L3)\",\"Pepsi Regular (L3)\",\"Lipton (L3)\",\"7up (L3)\",\"Pepsi Regular (L3)\",\"Mountain Dew (L3)\",\"7up Free (L3)\",\"Pepsi Max (L3)\",\"7up Free (L3)\",\"7up (L3)\",\"Pepsi Regular (L3)\",\"7up Free (L3)\",\"7up (L3)\",\"7up Free (L3)\",\"Pepsi Max (L3)\",\"Lipton (L3)\",\"7up Free (L3)\",\"Pepsi Max (L3)\",\"Pepsi Max (L3)\",\"Pepsi Max (L3)\",\"Pepsi Regular (L3)\",\"Lipton (L3)\",\"7up (L3)\",\"7up (L3)\",\"Mountain Dew (L3)\",\"Pepsi Max (L3)\",\"Pepsi Regular (L3)\",\"Lipton (L3)\",\"7up (L3)\",\"7up Free (L3)\",\"Lipton (L3)\",\"Mountain Dew (L3)\",\"Pepsi Regular (L3)\",\"Lipton (L3)\",\"Pepsi Max (L3)\",\"7up Free (L3)\",\"7up (L3)\",\"Mountain Dew (L3)\",\"Lipton (L3)\",\"Pepsi Regular (L3)\",\"Pepsi Regular (L3)\",\"Pepsi Max (L3)\",\"Pepsi Regular (L3)\",\"Pepsi Regular (L3)\",\"Pepsi Max (L3)\",\"Mountain Dew (L3)\",\"7up Free (L3)\",\"Pepsi Regular (L3)\",\"Pepsi Max (L3)\",\"Lipton (L3)\",\"7up Free (L3)\",\"7up (L3)\",\"7up (L3)\",\"7up (L3)\",\"7up (L3)\",\"Pepsi Max (L3)\",\"Lipton (L3)\",\"Mountain Dew (L3)\",\"Pepsi Max (L3)\",\"7up Free (L3)\",\"Pepsi Regular (L3)\",\"Pepsi Max (L3)\",\"Mountain Dew (L3)\",\"Pepsi Regular (L3)\",\"Pepsi Max (L3)\",\"7up (L3)\",\"Lipton (L3)\",\"Pepsi Max (L3)\",\"Pepsi Regular (L3)\",\"Lipton (L3)\",\"Lipton (L3)\",\"Mountain Dew (L3)\",\"Pepsi Max (L3)\",\"Pepsi Max (L3)\",\"7up Free (L3)\",\"7up (L3)\",\"Pepsi Regular (L3)\",\"Pepsi Regular (L3)\",\"Pepsi Max (L3)\",\"Pepsi Regular (L3)\",\"7up (L3)\",\"Pepsi Regular (L3)\",\"Lipton (L3)\",\"7up Free (L3)\",\"7up Free (L3)\",\"7up Free (L3)\",\"Mountain Dew (L3)\",\"Mountain Dew (L3)\",\"Pepsi Regular (L3)\",\"7up Free (L3)\",\"7up Free (L3)\",\"7up (L3)\",\"Pepsi Regular (L3)\",\"7up (L3)\",\"Lipton (L3)\",\"Pepsi Regular (L3)\",\"Pepsi Regular (L3)\",\"Pepsi Regular (L3)\",\"Pepsi Max (L3)\",\"Pepsi Max (L3)\",\"7up (L3)\",\"Pepsi Regular (L3)\",\"Mountain Dew (L3)\",\"Pepsi Regular (L3)\",\"Mountain Dew (L3)\",\"Pepsi Max (L3)\",\"Pepsi Max (L3)\",\"7up Free (L3)\",\"Lipton (L3)\",\"Pepsi Regular (L3)\",\"7up Free (L3)\",\"Pepsi Max (L3)\",\"Pepsi Regular (L3)\",\"Mountain Dew (L3)\",\"Pepsi Max (L3)\",\"Pepsi Max (L3)\",\"Pepsi Max (L3)\",\"Pepsi Max (L3)\",\"7up Free (L3)\",\"Lipton (L3)\",\"7up Free (L3)\",\"Mountain Dew (L3)\",\"Lipton (L3)\",\"Pepsi Regular (L3)\",\"7up (L3)\",\"7up (L3)\",\"7up Free (L3)\",\"Lipton (L3)\",\"7up (L3)\",\"Mountain Dew (L3)\",\"7up (L3)\",\"Mountain Dew (L3)\",\"Pepsi Regular (L3)\",\"7up (L3)\",\"Pepsi Regular (L3)\",\"Mountain Dew (L3)\",\"Lipton (L3)\",\"Lipton (L3)\",\"Mountain Dew (L3)\",\"7up (L3)\",\"Pepsi Max (L3)\",\"7up (L3)\",\"Mountain Dew (L3)\",\"Mountain Dew (L3)\",\"7up Free (L3)\",\"Pepsi Max (L3)\",\"7up (L3)\",\"7up Free (L3)\",\"Pepsi Max (L3)\",\"Pepsi Max (L3)\",\"7up (L3)\",\"7up Free (L3)\",\"7up Free (L3)\",\"Lipton (L3)\",\"Lipton (L3)\",\"7up (L3)\",\"Pepsi Regular (L3)\",\"7up Free (L3)\",\"7up (L3)\",\"Pepsi Regular (L3)\",\"Pepsi Max (L3)\",\"7up Free (L3)\",\"Pepsi Regular (L3)\",\"Pepsi Max (L3)\",\"Pepsi Regular (L3)\",\"7up Free (L3)\",\"Pepsi Max (L3)\",\"Pepsi Regular (L3)\",\"Pepsi Max (L3)\",\"Pepsi Regular (L3)\",\"Pepsi Regular (L3)\",\"Lipton (L3)\",\"Lipton (L3)\",\"Pepsi Max (L3)\",\"Pepsi Regular (L3)\",\"Pepsi Max (L3)\",\"7up Free (L3)\",\"7up Free (L3)\",\"Pepsi Regular (L3)\",\"Pepsi Regular (L3)\",\"Mountain Dew (L3)\",\"Mountain Dew (L3)\",\"7up (L3)\",\"Mountain Dew (L3)\",\"Pepsi Max (L3)\",\"Pepsi Regular (L3)\",\"Pepsi Max (L3)\",\"Lipton (L3)\",\"Mountain Dew (L3)\",\"Lipton (L3)\",\"Pepsi Regular (L3)\",\"7up Free (L3)\",\"7up (L3)\",\"Lipton (L3)\",\"Pepsi Regular (L3)\",\"7up (L3)\",\"7up (L3)\",\"Pepsi Max (L3)\",\"7up (L3)\",\"Pepsi Max (L3)\",\"Pepsi Regular (L3)\",\"7up (L3)\",\"Pepsi Max (L3)\",\"Mountain Dew (L3)\",\"Lipton (L3)\",\"Pepsi Max (L3)\",\"7up Free (L3)\",\"7up Free (L3)\",\"Pepsi Max (L3)\",\"7up (L3)\",\"Pepsi Max (L3)\",\"7up Free (L3)\",\"Pepsi Regular (L3)\",\"7up Free (L3)\",\"Lipton (L3)\",\"Lipton (L3)\",\"Pepsi Regular (L3)\",\"7up (L3)\",\"Pepsi Max (L3)\",\"Pepsi Max (L3)\",\"7up Free (L3)\",\"Pepsi Max (L3)\",\"7up Free (L3)\",\"Pepsi Max (L3)\",\"7up Free (L3)\",\"Lipton (L3)\",\"7up (L3)\",\"7up (L3)\",\"7up (L3)\",\"Lipton (L3)\",\"7up (L3)\",\"Mountain Dew (L3)\",\"Pepsi Max (L3)\",\"Mountain Dew (L3)\",\"Pepsi Max (L3)\",\"Lipton (L3)\",\"Pepsi Regular (L3)\",\"Lipton (L3)\",\"Pepsi Max (L3)\",\"7up Free (L3)\",\"7up (L3)\",\"Pepsi Regular (L3)\",\"7up Free (L3)\",\"Pepsi Max (L3)\",\"Pepsi Regular (L3)\",\"Lipton (L3)\",\"Pepsi Regular (L3)\",\"7up Free (L3)\",\"7up (L3)\",\"Pepsi Max (L3)\",\"7up Free (L3)\",\"Pepsi Regular (L3)\",\"Mountain Dew (L3)\",\"Mountain Dew (L3)\",\"Pepsi Regular (L3)\",\"Pepsi Regular (L3)\",\"Mountain Dew (L3)\",\"Pepsi Regular (L3)\",\"Lipton (L3)\",\"Pepsi Regular (L3)\",\"Mountain Dew (L3)\",\"7up Free (L3)\",\"Pepsi Regular (L3)\",\"Pepsi Regular (L3)\",\"Pepsi Max (L3)\",\"Pepsi Regular (L3)\",\"Lipton (L3)\",\"Lipton (L3)\",\"7up Free (L3)\",\"Pepsi Max (L3)\",\"Pepsi Regular (L3)\",\"Pepsi Regular (L3)\",\"7up Free (L3)\",\"7up Free (L3)\",\"Pepsi Regular (L3)\",\"Lipton (L3)\",\"Pepsi Max (L3)\",\"Pepsi Max (L3)\",\"Pepsi Max (L3)\",\"7up (L3)\",\"7up (L3)\",\"Pepsi Regular (L3)\",\"7up (L3)\",\"7up (L3)\",\"Lipton (L3)\",\"Mountain Dew (L3)\",\"7up (L3)\",\"7up Free (L3)\",\"Lipton (L3)\",\"Lipton (L3)\",\"7up (L3)\",\"Pepsi Max (L3)\",\"7up Free (L3)\",\"Pepsi Regular (L3)\",\"Pepsi Max (L3)\",\"Pepsi Regular (L3)\",\"Mountain Dew (L3)\",\"7up Free (L3)\",\"Pepsi Max (L3)\",\"Pepsi Max (L3)\",\"Mountain Dew (L3)\",\"Mountain Dew (L3)\",\"7up (L3)\",\"7up (L3)\",\"7up (L3)\",\"Lipton (L3)\",\"Pepsi Regular (L3)\",\"Pepsi Max (L3)\",\"7up Free (L3)\",\"7up Free (L3)\",\"Lipton (L3)\",\"Pepsi Regular (L3)\",\"7up (L3)\",\"Pepsi Regular (L3)\",\"7up Free (L3)\",\"Pepsi Max (L3)\",\"Mountain Dew (L3)\",\"Pepsi Regular (L3)\",\"Pepsi Max (L3)\",\"7up Free (L3)\",\"Pepsi Max (L3)\",\"Lipton (L3)\",\"Pepsi Regular (L3)\",\"Lipton (L3)\",\"7up Free (L3)\",\"Pepsi Max (L3)\",\"Pepsi Max (L3)\",\"Mountain Dew (L3)\",\"Pepsi Regular (L3)\",\"Pepsi Regular (L3)\",\"Pepsi Regular (L3)\",\"Lipton (L3)\",\"Pepsi Max (L3)\",\"7up Free (L3)\",\"Mountain Dew (L3)\",\"7up (L3)\",\"7up Free (L3)\",\"Pepsi Max (L3)\",\"7up Free (L3)\",\"7up (L3)\",\"7up (L3)\",\"Pepsi Regular (L3)\",\"Mountain Dew (L3)\",\"Pepsi Max (L3)\",\"Lipton (L3)\",\"7up (L3)\",\"Mountain Dew (L3)\",\"7up Free (L3)\",\"Pepsi Regular (L3)\",\"Pepsi Max (L3)\",\"Lipton (L3)\",\"Pepsi Regular (L3)\",\"Pepsi Max (L3)\",\"Mountain Dew (L3)\",\"Pepsi Max (L3)\",\"7up (L3)\",\"Pepsi Regular (L3)\",\"Pepsi Regular (L3)\",\"7up (L3)\",\"7up Free (L3)\",\"Pepsi Regular (L3)\",\"Lipton (L3)\",\"Pepsi Max (L3)\",\"Lipton (L3)\",\"Mountain Dew (L3)\",\"Lipton (L3)\",\"Pepsi Max (L3)\",\"Mountain Dew (L3)\",\"7up Free (L3)\",\"7up Free (L3)\",\"Pepsi Max (L3)\",\"7up Free (L3)\",\"Pepsi Regular (L3)\",\"Mountain Dew (L3)\",\"7up Free (L3)\",\"Pepsi Regular (L3)\",\"Pepsi Max (L3)\",\"7up (L3)\",\"Pepsi Regular (L3)\",\"7up (L3)\",\"Pepsi Max (L3)\",\"7up (L3)\",\"Pepsi Max (L3)\",\"Pepsi Regular (L3)\",\"Mountain Dew (L3)\",\"Lipton (L3)\",\"Lipton (L3)\",\"7up (L3)\",\"7up Free (L3)\",\"7up (L3)\",\"7up Free (L3)\",\"7up (L3)\",\"7up Free (L3)\",\"Pepsi Regular (L3)\",\"Pepsi Regular (L3)\",\"Mountain Dew (L3)\",\"Pepsi Regular (L3)\",\"Pepsi Max (L3)\",\"Pepsi Max (L3)\",\"Lipton (L3)\",\"Mountain Dew (L3)\",\"Pepsi Max (L3)\",\"7up Free (L3)\",\"Pepsi Regular (L3)\",\"Pepsi Regular (L3)\",\"Mountain Dew (L3)\",\"7up (L3)\",\"Pepsi Regular (L3)\",\"Pepsi Max (L3)\",\"7up (L3)\",\"7up Free (L3)\",\"Pepsi Max (L3)\",\"7up (L3)\",\"7up (L3)\",\"7up Free (L3)\",\"7up Free (L3)\",\"7up (L3)\",\"Lipton (L3)\",\"Pepsi Max (L3)\",\"Pepsi Max (L3)\",\"Pepsi Regular (L3)\",\"Pepsi Regular (L3)\",\"Lipton (L3)\",\"7up Free (L3)\",\"Lipton (L3)\",\"Lipton (L3)\",\"7up Free (L3)\",\"Lipton (L3)\",\"Pepsi Max (L3)\",\"Mountain Dew (L3)\",\"Pepsi Regular (L3)\",\"Pepsi Max (L3)\",\"7up (L3)\",\"Mountain Dew (L3)\",\"7up Free (L3)\",\"7up (L3)\",\"Pepsi Max (L3)\",\"Pepsi Max (L3)\",\"Lipton (L3)\",\"Pepsi Regular (L3)\",\"7up (L3)\",\"7up (L3)\",\"Lipton (L3)\",\"7up Free (L3)\",\"Pepsi Max (L3)\",\"Pepsi Regular (L3)\",\"7up Free (L3)\",\"Lipton (L3)\",\"Pepsi Max (L3)\",\"Pepsi Max (L3)\",\"Pepsi Max (L3)\",\"7up (L3)\",\"Lipton (L3)\",\"7up (L3)\",\"Pepsi Regular (L3)\",\"7up Free (L3)\",\"7up Free (L3)\",\"Mountain Dew (L3)\",\"Lipton (L3)\",\"Pepsi Max (L3)\",\"7up Free (L3)\",\"Mountain Dew (L3)\",\"Pepsi Max (L3)\",\"Pepsi Max (L3)\",\"Pepsi Regular (L3)\",\"Lipton (L3)\",\"Pepsi Regular (L3)\",\"Mountain Dew (L3)\",\"7up Free (L3)\",\"Pepsi Regular (L3)\",\"Pepsi Regular (L3)\",\"7up Free (L3)\",\"Pepsi Regular (L3)\",\"7up Free (L3)\",\"Pepsi Regular (L3)\",\"7up (L3)\",\"Mountain Dew (L3)\",\"7up (L3)\",\"Mountain Dew (L3)\",\"7up Free (L3)\",\"Pepsi Max (L3)\",\"7up Free (L3)\",\"Pepsi Max (L3)\",\"Lipton (L3)\",\"7up (L3)\",\"Pepsi Max (L3)\",\"Lipton (L3)\",\"Mountain Dew (L3)\",\"7up Free (L3)\",\"Pepsi Regular (L3)\",\"7up Free (L3)\",\"Pepsi Regular (L3)\",\"Mountain Dew (L3)\",\"Pepsi Max (L3)\",\"Mountain Dew (L3)\",\"Pepsi Regular (L3)\",\"Pepsi Regular (L3)\",\"Lipton (L3)\",\"Pepsi Regular (L3)\",\"Pepsi Regular (L3)\",\"7up Free (L3)\",\"Lipton (L3)\",\"Pepsi Regular (L3)\",\"Pepsi Regular (L3)\",\"Pepsi Regular (L3)\",\"7up (L3)\",\"Pepsi Max (L3)\",\"Mountain Dew (L3)\",\"Mountain Dew (L3)\",\"Pepsi Max (L3)\",\"7up (L3)\",\"Pepsi Max (L3)\",\"Lipton (L3)\",\"7up Free (L3)\",\"7up (L3)\",\"7up Free (L3)\",\"Lipton (L3)\",\"Pepsi Max (L3)\",\"Pepsi Max (L3)\",\"7up Free (L3)\",\"7up (L3)\",\"7up (L3)\",\"7up (L3)\",\"7up (L3)\",\"Pepsi Regular (L3)\",\"7up Free (L3)\",\"7up Free (L3)\",\"Lipton (L3)\",\"7up Free (L3)\",\"Pepsi Regular (L3)\",\"Pepsi Max (L3)\",\"Pepsi Regular (L3)\",\"7up Free (L3)\",\"7up (L3)\",\"Lipton (L3)\",\"7up Free (L3)\",\"7up Free (L3)\",\"Mountain Dew (L3)\",\"Pepsi Max (L3)\",\"Pepsi Regular (L3)\",\"Lipton (L3)\",\"7up (L3)\",\"Pepsi Max (L3)\",\"Pepsi Max (L3)\",\"7up (L3)\",\"7up Free (L3)\",\"7up Free (L3)\",\"Lipton (L3)\",\"Pepsi Max (L3)\",\"Mountain Dew (L3)\",\"Pepsi Regular (L3)\",\"Pepsi Max (L3)\",\"Mountain Dew (L3)\",\"Pepsi Regular (L3)\",\"Pepsi Max (L3)\",\"Pepsi Regular (L3)\",\"Pepsi Max (L3)\",\"Lipton (L3)\",\"7up (L3)\",\"7up (L3)\",\"Pepsi Regular (L3)\",\"Mountain Dew (L3)\",\"7up (L3)\",\"Pepsi Regular (L3)\",\"Lipton (L3)\",\"Mountain Dew (L3)\",\"Pepsi Max (L3)\",\"Pepsi Max (L3)\",\"7up Free (L3)\",\"7up Free (L3)\",\"7up (L3)\",\"Pepsi Max (L3)\",\"Pepsi Regular (L3)\",\"Pepsi Regular (L3)\",\"Lipton (L3)\",\"Mountain Dew (L3)\",\"Mountain Dew (L3)\",\"Lipton (L3)\",\"Pepsi Max (L3)\",\"Pepsi Regular (L3)\",\"7up Free (L3)\",\"Pepsi Regular (L3)\",\"Pepsi Regular (L3)\",\"7up Free (L3)\",\"Pepsi Regular (L3)\",\"Lipton (L3)\",\"Pepsi Max (L3)\",\"7up Free (L3)\",\"7up (L3)\",\"7up Free (L3)\",\"Mountain Dew (L3)\",\"7up (L3)\",\"7up (L3)\",\"Lipton (L3)\",\"Pepsi Max (L3)\",\"7up Free (L3)\",\"Pepsi Max (L3)\",\"Pepsi Max (L3)\",\"7up (L3)\",\"Pepsi Max (L3)\",\"Lipton (L3)\",\"7up (L3)\",\"7up Free (L3)\",\"Pepsi Regular (L3)\",\"Mountain Dew (L3)\",\"7up (L3)\",\"Mountain Dew (L3)\",\"Pepsi Regular (L3)\",\"Lipton (L3)\",\"Pepsi Regular (L3)\",\"Pepsi Max (L3)\"],\"x0\":\" \",\"xaxis\":\"x2\",\"y\":[34297.395969088364,376371.6230019796,204094.2248490698,20454.005903362384,78971.96959557036,1854979.9933780893,314354.5222714561,135789.36338083734,146982.14373771602,36744.908526061445,35732.59459116749,10365.666805210176,9159066.190922344,142643.44536571964,122161.56051650898,17068.677660915935,460671.4335026381,83274.05549724207,686853.0429085685,2521703.796326954,72078.55416933775,2100111.241044571,10681.570660711644,368979.1180883814,193217.05775855383,99292.75887089389,1271376.84656189,1851080.885927032,9208.97938049918,1485.7030143779984,65880.60484808353,114214.14130028954,70126.82014469578,1607574.0456348227,54525.1755862856,9224.884292688424,250322.3285171853,647593.3125752892,1004129.6960965954,1052390.2242291465,154587.69451860824,151776.04207026272,421721.20349693205,311120.86218678014,191676.7486421562,57389.50568145794,13131.459004036547,162902.67201115863,162759.71096067008,9676396.55907237,69302.9735194043,719275.2037646263,864592.2629320972,19655.935415243075,1825216.3497777432,114642.772607835,87711.84828781358,105868.78755644476,2185992.599663269,1830788.5638204191,78712.61966989074,85035.20179214247,607250.8083661493,80772.49512162477,11897.001120089044,309567.536438117,22991.060421407088,1040915.5248568192,362154.39617338136,174903.04889646574,310512.9655590231,153406.3070171113,4657.752918219411,50344.87118975999,21617.929878199124,50850.25677512979,447496.10786668834,1722087.5148816863,36319.49307165048,10132.837981585457,8730.354413080386,1359168.3796749625,192058.3978499926,195816.13280451985,929.8852437074244,336105.88011524937,442842.9022282023,1042737.081991927,201330.17900290943,195259.95068790377,64655.47145032158,17322.388396159295,2106423.3130331864,9913.84472325347,15229.00537501849,108883.1082384134,45879.58157101294,194375.7986798448,95734.87703676573,25687.368354314454,94306.65094820118,1070921.3049389587,2971511.39813882,216674.3710946581,52614.12227990955,593942.2484906976,75310.10263960606,86546.85001373693,199716.4519242285,293497.1117200764,2762663.8623347166,295028.3579776405,9426.005681457948,2061711.955717738,1304897.9549921455,43451.00138778328,548786.119349362,12573850.969158806,43951.49098645326,1106104.7283255726,152664.89612759155,970709.8159249892,122439.03679157892,2344058.304509239,271460.49044402025,306278.2752037646,1413.848245546061,140029.30547434714,615373.1719301459,40746.14837305305,9617.009842166068,393516.76963502006,74826.79830648172,126539.39684261694,34586.398503564946,33523.877621466265,485769.6138862865,1182113.5232083858,286841.753960818,223824.77298824256,1077233.6407120668,220002.64348058865,11564.34876332307,42561.53445154382,116231.10113910944,2006110.3780828863,448285.6438398625,99838.51406116813,1434733.1246962023,2155775.256599015,98599.36739625088,73141.16028298099,241540.5451100012,90623.55743784914,869314.3998365657,147304.69944277333,165850.19365564658,240064.25450677337,1896348.932428339,8225.257655727459,41739.87164765802,54815.01624992075,2138.736060713476,657783.9962875036,1968366.6442416364,777216.4026121321,342200.0838305637,62656.2383324058,270766.7115171924,28263.728135402565,11717133.867759043,584073.0946158236,156433.91826872277,459201.46456925885,11759.247227955731,242854.25654970307,825929.5338950215,1398077.239720189,234117.4772636013,49642.68303060167,453079.49109916657,75731.47097983136,3013392.549014311,112877.10016695668,89930.45585510698,81047.37131304023,12671.79983918973,174296.3797876762,1908551.1472106967,64424.03987398998,82918.33366906652,1106911.2030038116,3774.4887599839385,232377.61780307567,311656.59760625,551830.1832296605,47989.63389290822,47794.99200439583,276816.72983311384,85757.98791767348,1779800.6769846354,2137516.019245807,874043.682909132,883778.1448789388,633915.9933217333,13896770.634012671,2727204.3211485487,350075.1657238663,136417.9693278761,115891.54759145631,20638.084436397967,46109.17347530521,128923.62260748276,1048286.7674511988,1369.8195881735503,1429954.6328714434,302972.6106528218,2677852.757602868,143831.89772037225,693856.0298126846,344973.0768634689,571161.9691024494,55327.72183927076,50624.28409403112,21947.47557290089,237207.88218635743,3924.538403556107,226203.12356906864,266983.9119285961,161835.08273865297,97490.71875902588,2245735.412425239,176860.89762104358,468507.61167428654,1944245.890365121,19464.18885123949,12770719.47063464,47183.25783886216,174630.33539270036,973766.088071404,11845.311399723854,300333.1490000212,932690.8871246118,11802.589589512025,1011623.23180912,2099138.8100286718,3003307.991729657,474625.8268581855,76407.2321369573,91915.88401372284,32070.245081118403,1088796.7496283983,63797.1053799497,115198.26101891116,1443260.5982966195,65925.4401104591,309603.1080709813,344308.88392637006,91099.07152367334,438084.2250604073,10987.43950462477,192337.2102033772,287059.8807351729,152992.8567906279,2398.6812536543785,2439380.35476531,152643.734193712,302001.9135911182,31229.40883003529,1967502.233133502,696546.3075806783,58131.089163314624,11807377.521080917,480248.2159588035,125493.49625476392,301485.7460338985,399943.1889428192,27799.84924587716,601534.6276584503,199373.0486851282,2607643.205050439,1054386.0080449162,1085059.273139701,103384.94030894028,92339.32988163334,13255.914481677031,86197.8189964284,2021779.7796805988,870973.6265172276,207459.0463040584,1492144.0896634802,122812.69152465956,45946.17915348742,1642085.0985889696,162071.55519256374,311299.1553542369,107349.9221573338,350901.80552718154,47753.36538326066,778523.5887934739,60504.8713306517,164793.5126415081,506454.60117081006,148935.01617841818,16355.798251764669,79772.16402612132,576737.781167006,14761.484434989045,138851.28880685862,319487.7969468768,210844.4960655992,1219854.9847308616,51530.94352003832,183119.15211372773,30500.578255813547,49100.65680013808,510976.4625534509,11369.960479877143,2228968.41912464,13225755.891527489,106715.95381781296,356247.3093537218,1110572.689552176,1266616.6603699818,310316.8858660965,644766.3709819448,191911.6951385317,375363.6393831057,2882205.9950339203,105712.72961973328,65701.26353159145,260730.62591139323,933191.1872854044,2960407.620832247,330683.31879565766,3647.68620599776,186616.62295196296,2411275.506681789,177807.76031503384,48498.84782199038,1317455.626721521,78397.8366917219,47132.14864074729,2064473.571569463,75888.8082792544,135100.19513500945,313828.81094446755,216877.1949870732,12398.87850203941,316922.2524356654,257955.8022725832,503292.2516607609,1015832.6770128142,197929.09272787475,2017784.1609546824,129415.9334427592,1948755.726965968,9780.702063359,695304.0125957185,31914.78869766754,2169078.6915387493,468567.2299986616,33798.11275563038,849263.3769980205,1562572.6120617387,1293227.672891732,180327.70001338475,140729.30844064584,206646.31307545456,1207033.968989736,108423.09226152318,12931426.045909563,371710.40767014434,83987.10840912133,1534608.0674589474,130280.67388501827,34381.749593175206,10634.28934295154,38895.2611005051,3163.7232041591237,62839.81669989363,28072.795220953416,294266.052848478,375453.7153142238,85027.72044268173,84366.48226666574,37529.780983846766,219788.50922488436,92671.3869433897,1024731.9881193072,180099.9867561799,1391180.6724761014,245019.93944773977,42629.28846343508,226245.2291955788,2492830.109261516,10018.266609370708,67437.3486215508,8882.517452959783,31500.33814008862,188594.89408466185,60014.249460560895,44587.79525811359,189886.8040830416,344103.25095693645,1542.7641543327725,83196.89587639924,132014.3991321071,642688.8624756082,1206886.222904764,140721.0555606433,37848.59296386832,1172553.4686832966,348446.58091058314,151523.86577670075,421500.28785920347,48162.7334399414,833296.3274087199,2176313.5685755145,1433297.739392616,106866.12822553945,11732169.515790436,252543.58837079885,130091.60765395944,1799985.184497686,447053.3204652244,10942.085509666931,272927.96378429834,951417.7932132469,393152.2405303164,539381.3740569765,101695.60347438944,43669.911872239405,1803962.3552026025,1036212.2823575408,167743.52121829058,8073.094615823547,99913.5795238565,59886.1971444774,185403.7322212282,220008.26858185456,360459.9851910845,306240.8039472755,36440.17738265483,546042.753587455,1686422.661021606,1021965.48600327,262238.5824885702,8034.032890992088,923719.849163931,51336.52884299734,11175.973737786451,185953.95306897355,250399.60390569412,112481.01179068074,38067.145597486495,100802.81501623776,2233147.3586327867,94278.57019189453,511840.46921868506,2704018.777341796,31843.99061661254,79338.81993089261,13584262.451090328,1912.6048762618611,816912.9641501062,132196.72708572555,299182.0884377224,74531.12053248259,257105.39744686615,1410549.5833127866,123046.45431128611,329658.85363465373,208084.9841144604,3004664.8714715424,52964.78008604926,1001472.7762005735,29107.04599409664,184646.53089402968,125054.94071981571,8591.425799032075,272963.44071629347,11136.030939822676,100807.92233802738,1578557.8747895432,61627.318905377135,46108.395032158536,105442.11223403168,8533.810486569499,445266.3229528796,596053.7767077833,501825.3576888125,237346.75869002411,467211.6528117226,63811.6805944221,114694.920149627,214672.65397702053,26668.157770529684,13924665.73048826,993632.6795559094,247952.81558372203,2232423.5451170523,1133045.9368593832,2388.114375884976,2360408.9276027987,125343.33018675196,115494.26762467154,70500.65097583567,41169.05047621396,37395.060963840144,285393.5985854473,147858.78833134912,1735358.908652864,533035.6995977542,1045487.76012792,51328.769601558255,969981.2136411348,424229.5125851514,1871824.466548787,97238.51342749008,1594887.3361253373,559138.4604059091,592168.3585412072,25773.94137496213,1446233.6829795777,926173.7784539602,113340.61179034613,103665.1849555839,60318.99423122441,871757.4144447459,947164.4276626772,174657.55390868807,2456795.8914218093,352310.63409420726,6789.810711996224,110461.4907751157,193161.47950377944,245995.7835339866,2567.753411340373,279790.3326555269,55881.68309193888,71405.76048903509,58579.906351398,245344.32084908392,7392.653203701226,52101.72996960261,445572.00520418736,28550.647045148748,34536.63396335406,724274.0625418272,191390.19605080556,9051.587497270224,90492.87264094457,9739060.125006163,188107.5109367185,28582.38290138285,150676.03164427663,288522.0037618085,272026.82747106435,94169.45749649532,1051473.5511049433,265639.3313279748,185368.6660373504,95487.10840912133,29806.555690968136,522385.952568808,1806539.9463202609,54000.32594661614,108317.83149722092,52699.45814283602,2557570.5515205744,90174.6081379048,2028092.6916655512,192889.74167506144,59482.85058485907,11545662.153670585,8003.513133044036,195622.0791388699,287384.59063616133,910090.0804843856,2119033.169499764,392770.68300296576,37371.189759990986,771024.4963093419,878493.5759953647,36672.00045789803,256625.6720106303,797483.8784668165,96123.5056673688,8652.159517586808,76848.37996555197,89.35491155523307,365915.334774538,23976.259747944743,9042.352046099766,3588.5116904891056,389128.2959852909,55111.12086570907,100246.4604717935,636620.1057392238,264665.6921657168,157587.1653293696,121991.645121977,1968418.517889724,1102766.4860904666,330685.54463290673,2100892.975139659,13782844.434425484,166701.00568498025,2819279.585496608,43817.777715159245,100264.4079378386,273459.1026607398,290162.8181158553,29032.655174600048,238323.23374638084,241767.3204359541,180144.61828915204,698062.6725042795,81001.74299239888,606040.6452628688,2096237.596246645,22482.30047973625,87446.30969405366,14906.588661211812,566835.0646041295,62914.44527414004,981337.4232497727,52057.7761653505,114495.60770114051,294037.2165435038,95639.02841081204,38418.88424851888,213812.88877304463,66435.80973984348,410398.91733531526,94549.0408797278,200197.4738117546,1207066.7033542793,62413.95733270872,6855.564870062626,1169245.468570583,266715.7721217586,1105659.5148746418,17993.173796960968,73851.81930163506,109110.6211210753,32814.75708650047,876939.3265816856,311093.23156255943,8365.40798010609,249372.6726451713,2090877.40308412,2700714.368641056,9613.097292765917,158102.72752248985,240511.60067064452,143753.79174797295,1596162.3533582513,1884452.6451360665,81093.61521242946,14310.76483061295,108135.50964051482,106530.7355251386,365441.52994300926,1205175.7205201725,388034.7027965242,19387.98584989398,2050.946126534839,29956.63806330264,72486.58258019538,74882.99296245942,1241237.3672976266,577621.5051380707,1265584.6935253218,1913489.6409374936,115596.74681056407,745942.7747212107,121748.45371355308,300841.679750516,731579.0674730367,70054.79630581953,406366.91102863743,12652965.520313062,74824.22465182138,38736.60987791734,215496.7101787211,262402.5683148648,48258.103034102845,36822.82163814784,3391.967763978,460588.92379872,94165.227223096,1566569.737870988,991092.859960691,301786.721661398,3482.321613491,359128.547829213,64397.071565943,250696.634519877,241078.499098294,38857.156946312,745673.687769899,563365.011658788,2845438.683930593,274489.665593542,18141.892034689,321262.608046326,120009.84833008,111719.09364367,136778.93387248,57893.829295612,41008.273865293,8909.258698302,1307569.244750023,88493.728558043,78607.338344382,2498191.900833373,14815628.237867463,1851436.730819364,769221.568054214,121190.253111945,104483.304333125,1270442.919487436,47917.039442632,358350.351877028,35035.504709303,1179755.864617163,150567.36636422,1700379.484759041,77568.360654581,11817.9960973,482446.084302552,203606.315118387,78611.64610822,2789422.562397415,45056.603241918,489731.868998895,379306.000929886,1501.558614471,366968.639267931,840563.337865345,196195.228350228,38646.080040577,265107.932132466,58920.810056849,128068.022514494,54778.840531724,113988.682873909,15023.986812536,767879.162469266,1847830.664022591,9739.012208266,729744.905003767,130166.523426768,75371.66526949,325133.96159292,48152.476523919,2076134.033799918,312715.88131283,3451.142279487,2600475.315773532,101538.482807691,37561.235056674,243410.502067585,323061.095926113,1223161.109663059,857590.691989599,142005.198798195,79701.862588321,1346003.398878506,1822674.050566031,238540.553123213,13173110.603509627,131566.912992326,440024.607176317,110012.271667383,22362.683423385,134893.971948462,1845970.157376038,40910.2097173,49063.774629631,865671.68886885,92202.399737943,151248.159602121,426673.094263594,394678.995864828,94034.761505568,467928.687452889,1589825.171007304,153134.030277626,1373990.410558422,54319.739632132,302609.860305876,935186.161969102,480667.294808845,340682.9549217,249086.121392291,12784914.616968654,45.7986094,79302.616006707,166701.35345854,986530.746092015,470651.095785226,81390.830063471,2105301.82525202,3185914.985946054,212553.774840966,1088774.907892049,135627.644361161,268931.038706472,1323603.925242862,435577.701774531,95936.841771572,22657.414778131,53269.147182519,79621.355307744,2679.76020232,165327.090656767,15308.024486978,12583.038047805,1900579.561545018,294264.064338196,101061.307263671,51804.364824977,15992.124153769,1229491.803625145,376188.333462483,2035189.275675748,462035.781209272,73714.991933949,40695.476671856,829271.484223649,696733.557938189,173370.457123134,80319.401492045,55198.204687467,2132092.495403409,1533493.899389235,335232.153177461,1801768.981634766,2433265.147619283,43022.796277641,96514.247673526,82299.893274535,212753.497636541,556479.542507026,1800.595971906,1266922.558875118,229202.943932146,136482.215944714,451893.397814769,150238.709291102,0.443808866,3110356.073841342,451693.932146554,101146.576683832,189635.867804837,118063.302642424,88567.089106959,387428.132903143,9112.875388333,985290.247476278,16677.562291743,981788.232724916,14138482.706649387],\"y0\":\" \",\"yaxis\":\"y2\",\"type\":\"box\"}],                        {\"template\":{\"data\":{\"histogram2dcontour\":[{\"type\":\"histogram2dcontour\",\"colorbar\":{\"outlinewidth\":0,\"ticks\":\"\"},\"colorscale\":[[0.0,\"#0d0887\"],[0.1111111111111111,\"#46039f\"],[0.2222222222222222,\"#7201a8\"],[0.3333333333333333,\"#9c179e\"],[0.4444444444444444,\"#bd3786\"],[0.5555555555555556,\"#d8576b\"],[0.6666666666666666,\"#ed7953\"],[0.7777777777777778,\"#fb9f3a\"],[0.8888888888888888,\"#fdca26\"],[1.0,\"#f0f921\"]]}],\"choropleth\":[{\"type\":\"choropleth\",\"colorbar\":{\"outlinewidth\":0,\"ticks\":\"\"}}],\"histogram2d\":[{\"type\":\"histogram2d\",\"colorbar\":{\"outlinewidth\":0,\"ticks\":\"\"},\"colorscale\":[[0.0,\"#0d0887\"],[0.1111111111111111,\"#46039f\"],[0.2222222222222222,\"#7201a8\"],[0.3333333333333333,\"#9c179e\"],[0.4444444444444444,\"#bd3786\"],[0.5555555555555556,\"#d8576b\"],[0.6666666666666666,\"#ed7953\"],[0.7777777777777778,\"#fb9f3a\"],[0.8888888888888888,\"#fdca26\"],[1.0,\"#f0f921\"]]}],\"heatmap\":[{\"type\":\"heatmap\",\"colorbar\":{\"outlinewidth\":0,\"ticks\":\"\"},\"colorscale\":[[0.0,\"#0d0887\"],[0.1111111111111111,\"#46039f\"],[0.2222222222222222,\"#7201a8\"],[0.3333333333333333,\"#9c179e\"],[0.4444444444444444,\"#bd3786\"],[0.5555555555555556,\"#d8576b\"],[0.6666666666666666,\"#ed7953\"],[0.7777777777777778,\"#fb9f3a\"],[0.8888888888888888,\"#fdca26\"],[1.0,\"#f0f921\"]]}],\"heatmapgl\":[{\"type\":\"heatmapgl\",\"colorbar\":{\"outlinewidth\":0,\"ticks\":\"\"},\"colorscale\":[[0.0,\"#0d0887\"],[0.1111111111111111,\"#46039f\"],[0.2222222222222222,\"#7201a8\"],[0.3333333333333333,\"#9c179e\"],[0.4444444444444444,\"#bd3786\"],[0.5555555555555556,\"#d8576b\"],[0.6666666666666666,\"#ed7953\"],[0.7777777777777778,\"#fb9f3a\"],[0.8888888888888888,\"#fdca26\"],[1.0,\"#f0f921\"]]}],\"contourcarpet\":[{\"type\":\"contourcarpet\",\"colorbar\":{\"outlinewidth\":0,\"ticks\":\"\"}}],\"contour\":[{\"type\":\"contour\",\"colorbar\":{\"outlinewidth\":0,\"ticks\":\"\"},\"colorscale\":[[0.0,\"#0d0887\"],[0.1111111111111111,\"#46039f\"],[0.2222222222222222,\"#7201a8\"],[0.3333333333333333,\"#9c179e\"],[0.4444444444444444,\"#bd3786\"],[0.5555555555555556,\"#d8576b\"],[0.6666666666666666,\"#ed7953\"],[0.7777777777777778,\"#fb9f3a\"],[0.8888888888888888,\"#fdca26\"],[1.0,\"#f0f921\"]]}],\"surface\":[{\"type\":\"surface\",\"colorbar\":{\"outlinewidth\":0,\"ticks\":\"\"},\"colorscale\":[[0.0,\"#0d0887\"],[0.1111111111111111,\"#46039f\"],[0.2222222222222222,\"#7201a8\"],[0.3333333333333333,\"#9c179e\"],[0.4444444444444444,\"#bd3786\"],[0.5555555555555556,\"#d8576b\"],[0.6666666666666666,\"#ed7953\"],[0.7777777777777778,\"#fb9f3a\"],[0.8888888888888888,\"#fdca26\"],[1.0,\"#f0f921\"]]}],\"mesh3d\":[{\"type\":\"mesh3d\",\"colorbar\":{\"outlinewidth\":0,\"ticks\":\"\"}}],\"scatter\":[{\"fillpattern\":{\"fillmode\":\"overlay\",\"size\":10,\"solidity\":0.2},\"type\":\"scatter\"}],\"parcoords\":[{\"type\":\"parcoords\",\"line\":{\"colorbar\":{\"outlinewidth\":0,\"ticks\":\"\"}}}],\"scatterpolargl\":[{\"type\":\"scatterpolargl\",\"marker\":{\"colorbar\":{\"outlinewidth\":0,\"ticks\":\"\"}}}],\"bar\":[{\"error_x\":{\"color\":\"#2a3f5f\"},\"error_y\":{\"color\":\"#2a3f5f\"},\"marker\":{\"line\":{\"color\":\"#E5ECF6\",\"width\":0.5},\"pattern\":{\"fillmode\":\"overlay\",\"size\":10,\"solidity\":0.2}},\"type\":\"bar\"}],\"scattergeo\":[{\"type\":\"scattergeo\",\"marker\":{\"colorbar\":{\"outlinewidth\":0,\"ticks\":\"\"}}}],\"scatterpolar\":[{\"type\":\"scatterpolar\",\"marker\":{\"colorbar\":{\"outlinewidth\":0,\"ticks\":\"\"}}}],\"histogram\":[{\"marker\":{\"pattern\":{\"fillmode\":\"overlay\",\"size\":10,\"solidity\":0.2}},\"type\":\"histogram\"}],\"scattergl\":[{\"type\":\"scattergl\",\"marker\":{\"colorbar\":{\"outlinewidth\":0,\"ticks\":\"\"}}}],\"scatter3d\":[{\"type\":\"scatter3d\",\"line\":{\"colorbar\":{\"outlinewidth\":0,\"ticks\":\"\"}},\"marker\":{\"colorbar\":{\"outlinewidth\":0,\"ticks\":\"\"}}}],\"scattermapbox\":[{\"type\":\"scattermapbox\",\"marker\":{\"colorbar\":{\"outlinewidth\":0,\"ticks\":\"\"}}}],\"scatterternary\":[{\"type\":\"scatterternary\",\"marker\":{\"colorbar\":{\"outlinewidth\":0,\"ticks\":\"\"}}}],\"scattercarpet\":[{\"type\":\"scattercarpet\",\"marker\":{\"colorbar\":{\"outlinewidth\":0,\"ticks\":\"\"}}}],\"carpet\":[{\"aaxis\":{\"endlinecolor\":\"#2a3f5f\",\"gridcolor\":\"white\",\"linecolor\":\"white\",\"minorgridcolor\":\"white\",\"startlinecolor\":\"#2a3f5f\"},\"baxis\":{\"endlinecolor\":\"#2a3f5f\",\"gridcolor\":\"white\",\"linecolor\":\"white\",\"minorgridcolor\":\"white\",\"startlinecolor\":\"#2a3f5f\"},\"type\":\"carpet\"}],\"table\":[{\"cells\":{\"fill\":{\"color\":\"#EBF0F8\"},\"line\":{\"color\":\"white\"}},\"header\":{\"fill\":{\"color\":\"#C8D4E3\"},\"line\":{\"color\":\"white\"}},\"type\":\"table\"}],\"barpolar\":[{\"marker\":{\"line\":{\"color\":\"#E5ECF6\",\"width\":0.5},\"pattern\":{\"fillmode\":\"overlay\",\"size\":10,\"solidity\":0.2}},\"type\":\"barpolar\"}],\"pie\":[{\"automargin\":true,\"type\":\"pie\"}]},\"layout\":{\"autotypenumbers\":\"strict\",\"colorway\":[\"#636efa\",\"#EF553B\",\"#00cc96\",\"#ab63fa\",\"#FFA15A\",\"#19d3f3\",\"#FF6692\",\"#B6E880\",\"#FF97FF\",\"#FECB52\"],\"font\":{\"color\":\"#2a3f5f\"},\"hovermode\":\"closest\",\"hoverlabel\":{\"align\":\"left\"},\"paper_bgcolor\":\"white\",\"plot_bgcolor\":\"#E5ECF6\",\"polar\":{\"bgcolor\":\"#E5ECF6\",\"angularaxis\":{\"gridcolor\":\"white\",\"linecolor\":\"white\",\"ticks\":\"\"},\"radialaxis\":{\"gridcolor\":\"white\",\"linecolor\":\"white\",\"ticks\":\"\"}},\"ternary\":{\"bgcolor\":\"#E5ECF6\",\"aaxis\":{\"gridcolor\":\"white\",\"linecolor\":\"white\",\"ticks\":\"\"},\"baxis\":{\"gridcolor\":\"white\",\"linecolor\":\"white\",\"ticks\":\"\"},\"caxis\":{\"gridcolor\":\"white\",\"linecolor\":\"white\",\"ticks\":\"\"}},\"coloraxis\":{\"colorbar\":{\"outlinewidth\":0,\"ticks\":\"\"}},\"colorscale\":{\"sequential\":[[0.0,\"#0d0887\"],[0.1111111111111111,\"#46039f\"],[0.2222222222222222,\"#7201a8\"],[0.3333333333333333,\"#9c179e\"],[0.4444444444444444,\"#bd3786\"],[0.5555555555555556,\"#d8576b\"],[0.6666666666666666,\"#ed7953\"],[0.7777777777777778,\"#fb9f3a\"],[0.8888888888888888,\"#fdca26\"],[1.0,\"#f0f921\"]],\"sequentialminus\":[[0.0,\"#0d0887\"],[0.1111111111111111,\"#46039f\"],[0.2222222222222222,\"#7201a8\"],[0.3333333333333333,\"#9c179e\"],[0.4444444444444444,\"#bd3786\"],[0.5555555555555556,\"#d8576b\"],[0.6666666666666666,\"#ed7953\"],[0.7777777777777778,\"#fb9f3a\"],[0.8888888888888888,\"#fdca26\"],[1.0,\"#f0f921\"]],\"diverging\":[[0,\"#8e0152\"],[0.1,\"#c51b7d\"],[0.2,\"#de77ae\"],[0.3,\"#f1b6da\"],[0.4,\"#fde0ef\"],[0.5,\"#f7f7f7\"],[0.6,\"#e6f5d0\"],[0.7,\"#b8e186\"],[0.8,\"#7fbc41\"],[0.9,\"#4d9221\"],[1,\"#276419\"]]},\"xaxis\":{\"gridcolor\":\"white\",\"linecolor\":\"white\",\"ticks\":\"\",\"title\":{\"standoff\":15},\"zerolinecolor\":\"white\",\"automargin\":true,\"zerolinewidth\":2},\"yaxis\":{\"gridcolor\":\"white\",\"linecolor\":\"white\",\"ticks\":\"\",\"title\":{\"standoff\":15},\"zerolinecolor\":\"white\",\"automargin\":true,\"zerolinewidth\":2},\"scene\":{\"xaxis\":{\"backgroundcolor\":\"#E5ECF6\",\"gridcolor\":\"white\",\"linecolor\":\"white\",\"showbackground\":true,\"ticks\":\"\",\"zerolinecolor\":\"white\",\"gridwidth\":2},\"yaxis\":{\"backgroundcolor\":\"#E5ECF6\",\"gridcolor\":\"white\",\"linecolor\":\"white\",\"showbackground\":true,\"ticks\":\"\",\"zerolinecolor\":\"white\",\"gridwidth\":2},\"zaxis\":{\"backgroundcolor\":\"#E5ECF6\",\"gridcolor\":\"white\",\"linecolor\":\"white\",\"showbackground\":true,\"ticks\":\"\",\"zerolinecolor\":\"white\",\"gridwidth\":2}},\"shapedefaults\":{\"line\":{\"color\":\"#2a3f5f\"}},\"annotationdefaults\":{\"arrowcolor\":\"#2a3f5f\",\"arrowhead\":0,\"arrowwidth\":1},\"geo\":{\"bgcolor\":\"white\",\"landcolor\":\"#E5ECF6\",\"subunitcolor\":\"white\",\"showland\":true,\"showlakes\":true,\"lakecolor\":\"white\"},\"title\":{\"x\":0.05},\"mapbox\":{\"style\":\"light\"}}},\"xaxis\":{\"anchor\":\"y\",\"domain\":[0.0,0.45],\"tickangle\":45},\"yaxis\":{\"anchor\":\"x\",\"domain\":[0.0,1.0]},\"xaxis2\":{\"anchor\":\"y2\",\"domain\":[0.55,1.0],\"tickangle\":45},\"yaxis2\":{\"anchor\":\"x2\",\"domain\":[0.0,1.0]},\"annotations\":[{\"font\":{\"size\":16},\"showarrow\":false,\"text\":\"Distribución de Amount por Pais\",\"x\":0.225,\"xanchor\":\"center\",\"xref\":\"paper\",\"y\":1.0,\"yanchor\":\"bottom\",\"yref\":\"paper\"},{\"font\":{\"size\":16},\"showarrow\":false,\"text\":\"Distribución de Amount por Submarca\",\"x\":0.775,\"xanchor\":\"center\",\"xref\":\"paper\",\"y\":1.0,\"yanchor\":\"bottom\",\"yref\":\"paper\"}],\"title\":{\"text\":\"Distribución de Amount por Pais y Submarca (datos completos)\"},\"width\":1000,\"height\":600,\"showlegend\":false},                        {\"responsive\": true}                    ).then(function(){\n",
              "                            \n",
              "var gd = document.getElementById('82173ff3-dd0d-4e00-b7db-6648ccad41f6');\n",
              "var x = new MutationObserver(function (mutations, observer) {{\n",
              "        var display = window.getComputedStyle(gd).display;\n",
              "        if (!display || display === 'none') {{\n",
              "            console.log([gd, 'removed!']);\n",
              "            Plotly.purge(gd);\n",
              "            observer.disconnect();\n",
              "        }}\n",
              "}});\n",
              "\n",
              "// Listen for the removal of the full notebook cells\n",
              "var notebookContainer = gd.closest('#notebook-container');\n",
              "if (notebookContainer) {{\n",
              "    x.observe(notebookContainer, {childList: true});\n",
              "}}\n",
              "\n",
              "// Listen for the clearing of the current output cell\n",
              "var outputEl = gd.closest('.output');\n",
              "if (outputEl) {{\n",
              "    x.observe(outputEl, {childList: true});\n",
              "}}\n",
              "\n",
              "                        })                };                            </script>        </div>\n",
              "</body>\n",
              "</html>"
            ]
          },
          "metadata": {}
        }
      ]
    },
    {
      "cell_type": "markdown",
      "source": [
        "En la gráfica de la columna de países, **Gran Bretaña** se destaca con una distribución de ventas que incluye valores extremadamente altos en comparación con los otros países. Observamos que la caja de distribución de Gran Bretaña tiene un rango intercuartil amplio, lo que indica variabilidad en las ventas medianas. Además, existen varios valores atípicos que superan los 10 millones, llegando hasta aproximadamente 14 millones, lo que resalta la importancia de Gran Bretaña como un mercado significativo con picos de ventas muy altos.\n",
        "\n",
        "En la gráfica de la columna de marcas, **Pepsi Max (L3)** muestra una distribución de ventas considerablemente amplia. Su rango intercuartil es uno de los mayores entre todas las marcas, indicando una gran variabilidad en el volumen de ventas. La mediana se sitúa en una posición elevada en comparación con otras marcas, lo que sugiere que, en promedio, las ventas de Pepsi Max son consistentemente altas. Además, existen outliers en el rango superior, algunos alcanzando hasta 14 millones, lo que confirma que Pepsi Max experimenta picos de demanda en ciertos períodos, unicamnete en el país de Gran Bretaña.\n",
        "\n",
        "\n",
        "**Pepsi y Gran bretaña**\n",
        "\n",
        "Observamos que existen valores atípicos asociados al Reino Unido, especialmente relacionados con la marca Pepsi Max. Aunque es comprensible que haya diferencias debido a la mayor población del Reino Unido (68.35 millones) en comparación con la de España (48.37 millones), la magnitud de esta discrepancia es considerablemente excesiva. La variación supera los 10^7 mienstres que el resto oscilan en torno al valor de 10^6, lo cual no se ajusta a una diferencia poblacional plausible, sino que indica la presencia de datos fuera de escala. Estos registros serán considerados como *outliers* y eliminados temporalemnte para favorecer la visualización de la distribución de los datos, en marcas y países.\n"
      ],
      "metadata": {
        "id": "h9jI9cORZJuP"
      }
    },
    {
      "cell_type": "code",
      "source": [
        "# Filtrar los datos de Pepsi Max en Great Britain\n",
        "df_max_GB = df_actual[(df_actual[\"SUBBRAND\"] == \"Pepsi Max (L3)\") & (df_actual[\"COUNTRY\"] == \"Great Britain\")]\n",
        "\n",
        "# Convertir las fechas para mostrar solo el mes y el año\n",
        "df_max_GB[\"Fecha\"] = pd.to_datetime(df_max_GB[\"Fecha\"]).dt.to_period(\"M\").astype(str)\n",
        "\n",
        "# Crear la gráfica de líneas\n",
        "fig = px.line(df_max_GB, x=\"Fecha\", y=\"AMOUNT\", title=\"Pepsi Max en Gran Bretaña\", labels={\"Fecha\": \"Mes y Año\", \"AMOUNT\": \"Ventas\"})\n",
        "\n",
        "# Ajustar el diseño de las etiquetas de fecha\n",
        "fig.update_xaxes(tickangle=45, tickfont=dict(size=10))\n",
        "\n",
        "# Mostrar la gráfica\n",
        "fig.show()"
      ],
      "metadata": {
        "colab": {
          "base_uri": "https://localhost:8080/",
          "height": 681
        },
        "id": "kRLWP6FWaqJm",
        "outputId": "257d7ca6-435c-4c24-b5da-5908b3933ca0"
      },
      "execution_count": 498,
      "outputs": [
        {
          "output_type": "stream",
          "name": "stderr",
          "text": [
            "<ipython-input-498-417c37306c05>:5: SettingWithCopyWarning:\n",
            "\n",
            "\n",
            "A value is trying to be set on a copy of a slice from a DataFrame.\n",
            "Try using .loc[row_indexer,col_indexer] = value instead\n",
            "\n",
            "See the caveats in the documentation: https://pandas.pydata.org/pandas-docs/stable/user_guide/indexing.html#returning-a-view-versus-a-copy\n",
            "\n"
          ]
        },
        {
          "output_type": "display_data",
          "data": {
            "text/html": [
              "<html>\n",
              "<head><meta charset=\"utf-8\" /></head>\n",
              "<body>\n",
              "    <div>            <script src=\"https://cdnjs.cloudflare.com/ajax/libs/mathjax/2.7.5/MathJax.js?config=TeX-AMS-MML_SVG\"></script><script type=\"text/javascript\">if (window.MathJax && window.MathJax.Hub && window.MathJax.Hub.Config) {window.MathJax.Hub.Config({SVG: {font: \"STIX-Web\"}});}</script>                <script type=\"text/javascript\">window.PlotlyConfig = {MathJaxConfig: 'local'};</script>\n",
              "        <script charset=\"utf-8\" src=\"https://cdn.plot.ly/plotly-2.35.2.min.js\"></script>                <div id=\"2d763967-0a6f-4ac6-9f4e-332697eee43f\" class=\"plotly-graph-div\" style=\"height:525px; width:100%;\"></div>            <script type=\"text/javascript\">                                    window.PLOTLYENV=window.PLOTLYENV || {};                                    if (document.getElementById(\"2d763967-0a6f-4ac6-9f4e-332697eee43f\")) {                    Plotly.newPlot(                        \"2d763967-0a6f-4ac6-9f4e-332697eee43f\",                        [{\"hovertemplate\":\"Mes y Año=%{x}\\u003cbr\\u003eVentas=%{y}\\u003cextra\\u003e\\u003c\\u002fextra\\u003e\",\"legendgroup\":\"\",\"line\":{\"color\":\"#636efa\",\"dash\":\"solid\"},\"marker\":{\"symbol\":\"circle\"},\"mode\":\"lines\",\"name\":\"\",\"orientation\":\"v\",\"showlegend\":false,\"x\":[\"2023-01\",\"2023-02\",\"2023-03\",\"2023-04\",\"2023-05\",\"2023-06\",\"2023-07\",\"2023-08\",\"2023-09\",\"2023-10\",\"2023-11\",\"2023-12\",\"2024-01\",\"2024-02\",\"2024-03\",\"2024-04\",\"2024-05\",\"2024-06\",\"2024-07\",\"2024-08\"],\"xaxis\":\"x\",\"y\":[9159066.190922344,9676396.55907237,12573850.969158806,11717133.867759043,13896770.634012671,12770719.47063464,11807377.521080917,13225755.891527489,12931426.045909563,11732169.515790436,13584262.451090328,13924665.73048826,9739060.125006163,11545662.153670585,13782844.434425484,12652965.520313062,14815628.237867463,13173110.603509627,12784914.616968654,14138482.706649387],\"yaxis\":\"y\",\"type\":\"scatter\"}],                        {\"template\":{\"data\":{\"histogram2dcontour\":[{\"type\":\"histogram2dcontour\",\"colorbar\":{\"outlinewidth\":0,\"ticks\":\"\"},\"colorscale\":[[0.0,\"#0d0887\"],[0.1111111111111111,\"#46039f\"],[0.2222222222222222,\"#7201a8\"],[0.3333333333333333,\"#9c179e\"],[0.4444444444444444,\"#bd3786\"],[0.5555555555555556,\"#d8576b\"],[0.6666666666666666,\"#ed7953\"],[0.7777777777777778,\"#fb9f3a\"],[0.8888888888888888,\"#fdca26\"],[1.0,\"#f0f921\"]]}],\"choropleth\":[{\"type\":\"choropleth\",\"colorbar\":{\"outlinewidth\":0,\"ticks\":\"\"}}],\"histogram2d\":[{\"type\":\"histogram2d\",\"colorbar\":{\"outlinewidth\":0,\"ticks\":\"\"},\"colorscale\":[[0.0,\"#0d0887\"],[0.1111111111111111,\"#46039f\"],[0.2222222222222222,\"#7201a8\"],[0.3333333333333333,\"#9c179e\"],[0.4444444444444444,\"#bd3786\"],[0.5555555555555556,\"#d8576b\"],[0.6666666666666666,\"#ed7953\"],[0.7777777777777778,\"#fb9f3a\"],[0.8888888888888888,\"#fdca26\"],[1.0,\"#f0f921\"]]}],\"heatmap\":[{\"type\":\"heatmap\",\"colorbar\":{\"outlinewidth\":0,\"ticks\":\"\"},\"colorscale\":[[0.0,\"#0d0887\"],[0.1111111111111111,\"#46039f\"],[0.2222222222222222,\"#7201a8\"],[0.3333333333333333,\"#9c179e\"],[0.4444444444444444,\"#bd3786\"],[0.5555555555555556,\"#d8576b\"],[0.6666666666666666,\"#ed7953\"],[0.7777777777777778,\"#fb9f3a\"],[0.8888888888888888,\"#fdca26\"],[1.0,\"#f0f921\"]]}],\"heatmapgl\":[{\"type\":\"heatmapgl\",\"colorbar\":{\"outlinewidth\":0,\"ticks\":\"\"},\"colorscale\":[[0.0,\"#0d0887\"],[0.1111111111111111,\"#46039f\"],[0.2222222222222222,\"#7201a8\"],[0.3333333333333333,\"#9c179e\"],[0.4444444444444444,\"#bd3786\"],[0.5555555555555556,\"#d8576b\"],[0.6666666666666666,\"#ed7953\"],[0.7777777777777778,\"#fb9f3a\"],[0.8888888888888888,\"#fdca26\"],[1.0,\"#f0f921\"]]}],\"contourcarpet\":[{\"type\":\"contourcarpet\",\"colorbar\":{\"outlinewidth\":0,\"ticks\":\"\"}}],\"contour\":[{\"type\":\"contour\",\"colorbar\":{\"outlinewidth\":0,\"ticks\":\"\"},\"colorscale\":[[0.0,\"#0d0887\"],[0.1111111111111111,\"#46039f\"],[0.2222222222222222,\"#7201a8\"],[0.3333333333333333,\"#9c179e\"],[0.4444444444444444,\"#bd3786\"],[0.5555555555555556,\"#d8576b\"],[0.6666666666666666,\"#ed7953\"],[0.7777777777777778,\"#fb9f3a\"],[0.8888888888888888,\"#fdca26\"],[1.0,\"#f0f921\"]]}],\"surface\":[{\"type\":\"surface\",\"colorbar\":{\"outlinewidth\":0,\"ticks\":\"\"},\"colorscale\":[[0.0,\"#0d0887\"],[0.1111111111111111,\"#46039f\"],[0.2222222222222222,\"#7201a8\"],[0.3333333333333333,\"#9c179e\"],[0.4444444444444444,\"#bd3786\"],[0.5555555555555556,\"#d8576b\"],[0.6666666666666666,\"#ed7953\"],[0.7777777777777778,\"#fb9f3a\"],[0.8888888888888888,\"#fdca26\"],[1.0,\"#f0f921\"]]}],\"mesh3d\":[{\"type\":\"mesh3d\",\"colorbar\":{\"outlinewidth\":0,\"ticks\":\"\"}}],\"scatter\":[{\"fillpattern\":{\"fillmode\":\"overlay\",\"size\":10,\"solidity\":0.2},\"type\":\"scatter\"}],\"parcoords\":[{\"type\":\"parcoords\",\"line\":{\"colorbar\":{\"outlinewidth\":0,\"ticks\":\"\"}}}],\"scatterpolargl\":[{\"type\":\"scatterpolargl\",\"marker\":{\"colorbar\":{\"outlinewidth\":0,\"ticks\":\"\"}}}],\"bar\":[{\"error_x\":{\"color\":\"#2a3f5f\"},\"error_y\":{\"color\":\"#2a3f5f\"},\"marker\":{\"line\":{\"color\":\"#E5ECF6\",\"width\":0.5},\"pattern\":{\"fillmode\":\"overlay\",\"size\":10,\"solidity\":0.2}},\"type\":\"bar\"}],\"scattergeo\":[{\"type\":\"scattergeo\",\"marker\":{\"colorbar\":{\"outlinewidth\":0,\"ticks\":\"\"}}}],\"scatterpolar\":[{\"type\":\"scatterpolar\",\"marker\":{\"colorbar\":{\"outlinewidth\":0,\"ticks\":\"\"}}}],\"histogram\":[{\"marker\":{\"pattern\":{\"fillmode\":\"overlay\",\"size\":10,\"solidity\":0.2}},\"type\":\"histogram\"}],\"scattergl\":[{\"type\":\"scattergl\",\"marker\":{\"colorbar\":{\"outlinewidth\":0,\"ticks\":\"\"}}}],\"scatter3d\":[{\"type\":\"scatter3d\",\"line\":{\"colorbar\":{\"outlinewidth\":0,\"ticks\":\"\"}},\"marker\":{\"colorbar\":{\"outlinewidth\":0,\"ticks\":\"\"}}}],\"scattermapbox\":[{\"type\":\"scattermapbox\",\"marker\":{\"colorbar\":{\"outlinewidth\":0,\"ticks\":\"\"}}}],\"scatterternary\":[{\"type\":\"scatterternary\",\"marker\":{\"colorbar\":{\"outlinewidth\":0,\"ticks\":\"\"}}}],\"scattercarpet\":[{\"type\":\"scattercarpet\",\"marker\":{\"colorbar\":{\"outlinewidth\":0,\"ticks\":\"\"}}}],\"carpet\":[{\"aaxis\":{\"endlinecolor\":\"#2a3f5f\",\"gridcolor\":\"white\",\"linecolor\":\"white\",\"minorgridcolor\":\"white\",\"startlinecolor\":\"#2a3f5f\"},\"baxis\":{\"endlinecolor\":\"#2a3f5f\",\"gridcolor\":\"white\",\"linecolor\":\"white\",\"minorgridcolor\":\"white\",\"startlinecolor\":\"#2a3f5f\"},\"type\":\"carpet\"}],\"table\":[{\"cells\":{\"fill\":{\"color\":\"#EBF0F8\"},\"line\":{\"color\":\"white\"}},\"header\":{\"fill\":{\"color\":\"#C8D4E3\"},\"line\":{\"color\":\"white\"}},\"type\":\"table\"}],\"barpolar\":[{\"marker\":{\"line\":{\"color\":\"#E5ECF6\",\"width\":0.5},\"pattern\":{\"fillmode\":\"overlay\",\"size\":10,\"solidity\":0.2}},\"type\":\"barpolar\"}],\"pie\":[{\"automargin\":true,\"type\":\"pie\"}]},\"layout\":{\"autotypenumbers\":\"strict\",\"colorway\":[\"#636efa\",\"#EF553B\",\"#00cc96\",\"#ab63fa\",\"#FFA15A\",\"#19d3f3\",\"#FF6692\",\"#B6E880\",\"#FF97FF\",\"#FECB52\"],\"font\":{\"color\":\"#2a3f5f\"},\"hovermode\":\"closest\",\"hoverlabel\":{\"align\":\"left\"},\"paper_bgcolor\":\"white\",\"plot_bgcolor\":\"#E5ECF6\",\"polar\":{\"bgcolor\":\"#E5ECF6\",\"angularaxis\":{\"gridcolor\":\"white\",\"linecolor\":\"white\",\"ticks\":\"\"},\"radialaxis\":{\"gridcolor\":\"white\",\"linecolor\":\"white\",\"ticks\":\"\"}},\"ternary\":{\"bgcolor\":\"#E5ECF6\",\"aaxis\":{\"gridcolor\":\"white\",\"linecolor\":\"white\",\"ticks\":\"\"},\"baxis\":{\"gridcolor\":\"white\",\"linecolor\":\"white\",\"ticks\":\"\"},\"caxis\":{\"gridcolor\":\"white\",\"linecolor\":\"white\",\"ticks\":\"\"}},\"coloraxis\":{\"colorbar\":{\"outlinewidth\":0,\"ticks\":\"\"}},\"colorscale\":{\"sequential\":[[0.0,\"#0d0887\"],[0.1111111111111111,\"#46039f\"],[0.2222222222222222,\"#7201a8\"],[0.3333333333333333,\"#9c179e\"],[0.4444444444444444,\"#bd3786\"],[0.5555555555555556,\"#d8576b\"],[0.6666666666666666,\"#ed7953\"],[0.7777777777777778,\"#fb9f3a\"],[0.8888888888888888,\"#fdca26\"],[1.0,\"#f0f921\"]],\"sequentialminus\":[[0.0,\"#0d0887\"],[0.1111111111111111,\"#46039f\"],[0.2222222222222222,\"#7201a8\"],[0.3333333333333333,\"#9c179e\"],[0.4444444444444444,\"#bd3786\"],[0.5555555555555556,\"#d8576b\"],[0.6666666666666666,\"#ed7953\"],[0.7777777777777778,\"#fb9f3a\"],[0.8888888888888888,\"#fdca26\"],[1.0,\"#f0f921\"]],\"diverging\":[[0,\"#8e0152\"],[0.1,\"#c51b7d\"],[0.2,\"#de77ae\"],[0.3,\"#f1b6da\"],[0.4,\"#fde0ef\"],[0.5,\"#f7f7f7\"],[0.6,\"#e6f5d0\"],[0.7,\"#b8e186\"],[0.8,\"#7fbc41\"],[0.9,\"#4d9221\"],[1,\"#276419\"]]},\"xaxis\":{\"gridcolor\":\"white\",\"linecolor\":\"white\",\"ticks\":\"\",\"title\":{\"standoff\":15},\"zerolinecolor\":\"white\",\"automargin\":true,\"zerolinewidth\":2},\"yaxis\":{\"gridcolor\":\"white\",\"linecolor\":\"white\",\"ticks\":\"\",\"title\":{\"standoff\":15},\"zerolinecolor\":\"white\",\"automargin\":true,\"zerolinewidth\":2},\"scene\":{\"xaxis\":{\"backgroundcolor\":\"#E5ECF6\",\"gridcolor\":\"white\",\"linecolor\":\"white\",\"showbackground\":true,\"ticks\":\"\",\"zerolinecolor\":\"white\",\"gridwidth\":2},\"yaxis\":{\"backgroundcolor\":\"#E5ECF6\",\"gridcolor\":\"white\",\"linecolor\":\"white\",\"showbackground\":true,\"ticks\":\"\",\"zerolinecolor\":\"white\",\"gridwidth\":2},\"zaxis\":{\"backgroundcolor\":\"#E5ECF6\",\"gridcolor\":\"white\",\"linecolor\":\"white\",\"showbackground\":true,\"ticks\":\"\",\"zerolinecolor\":\"white\",\"gridwidth\":2}},\"shapedefaults\":{\"line\":{\"color\":\"#2a3f5f\"}},\"annotationdefaults\":{\"arrowcolor\":\"#2a3f5f\",\"arrowhead\":0,\"arrowwidth\":1},\"geo\":{\"bgcolor\":\"white\",\"landcolor\":\"#E5ECF6\",\"subunitcolor\":\"white\",\"showland\":true,\"showlakes\":true,\"lakecolor\":\"white\"},\"title\":{\"x\":0.05},\"mapbox\":{\"style\":\"light\"}}},\"xaxis\":{\"anchor\":\"y\",\"domain\":[0.0,1.0],\"title\":{\"text\":\"Mes y Año\"},\"tickfont\":{\"size\":10},\"tickangle\":45},\"yaxis\":{\"anchor\":\"x\",\"domain\":[0.0,1.0],\"title\":{\"text\":\"Ventas\"}},\"legend\":{\"tracegroupgap\":0},\"title\":{\"text\":\"Pepsi Max en Gran Bretaña\"}},                        {\"responsive\": true}                    ).then(function(){\n",
              "                            \n",
              "var gd = document.getElementById('2d763967-0a6f-4ac6-9f4e-332697eee43f');\n",
              "var x = new MutationObserver(function (mutations, observer) {{\n",
              "        var display = window.getComputedStyle(gd).display;\n",
              "        if (!display || display === 'none') {{\n",
              "            console.log([gd, 'removed!']);\n",
              "            Plotly.purge(gd);\n",
              "            observer.disconnect();\n",
              "        }}\n",
              "}});\n",
              "\n",
              "// Listen for the removal of the full notebook cells\n",
              "var notebookContainer = gd.closest('#notebook-container');\n",
              "if (notebookContainer) {{\n",
              "    x.observe(notebookContainer, {childList: true});\n",
              "}}\n",
              "\n",
              "// Listen for the clearing of the current output cell\n",
              "var outputEl = gd.closest('.output');\n",
              "if (outputEl) {{\n",
              "    x.observe(outputEl, {childList: true});\n",
              "}}\n",
              "\n",
              "                        })                };                            </script>        </div>\n",
              "</body>\n",
              "</html>"
            ]
          },
          "metadata": {}
        }
      ]
    },
    {
      "cell_type": "markdown",
      "source": [
        "**Distribución de ventas por países paises**\n",
        "\n",
        "Al analizar la distribución de las ventas por país y sub-marca sin incluir a Gran Bretaña, se confirma que este último tiene las ventas más altas. Sin embargo, observamos que países como Noruega tienen en general ventas bajas, con excepción de algunos casos específicos como las ventas de *Pepsi Max*, que se destacan. En este contexto, el máximo de ventas en Noruega, sin contar a *Pepsi Max*, apenas alcanza las 238,323 unidades. Un patrón similar se observa en Dinamarca, donde el máximo sin *Pepsi* llega a 394,678 ventas. En el caso de España, el volumen medio de ventas es el más bajo de todos los países, probablemente debido a una preferencia de los consumidores por la marca Coca-Cola.\n",
        "\n",
        "Para el resto de los países, la distribución indica una alta concentración de ventas en rangos bajos (miles de unidades), mientras que los valores más dispersos se encuentran en los cuartiles superiores. Esto podría sugerir que las ventas en millones no son frecuentes en todos los meses, ya que dependen de múltiples factores como la estacionalidad, situación económica o celebraciones. La popularidad de ciertos productos, como los de la marca *Pepsi*, también influye en estas variaciones, reflejando cómo la marca tiene un impacto notable en los volúmenes de venta en algunos mercados."
      ],
      "metadata": {
        "id": "wigLXwJrQTDq"
      }
    },
    {
      "cell_type": "code",
      "source": [
        "df_no_british = df_actual[~(df_actual[\"COUNTRY\"] == \"Great Britain\")]\n",
        "df_no_pepsi = df_actual[~(df_actual[\"SUBBRAND\"] == \"Pepsi Max (L3)\")]"
      ],
      "metadata": {
        "id": "YIEbfrkVL_bl"
      },
      "execution_count": 499,
      "outputs": []
    },
    {
      "cell_type": "code",
      "source": [
        "# Crear una figura de subplots con Plotly\n",
        "fig = sp.make_subplots(rows=1, cols=2, subplot_titles=(\"Distribución de Amount por Pais\", \"Distribución de Amount por Submarca\"))\n",
        "\n",
        "# Primer gráfico: Distribución de Amount por Country\n",
        "fig_country = px.box(df_no_british, x='COUNTRY', y='AMOUNT', title=\"Distribución de Amount por Pais\")\n",
        "for trace in fig_country.data:\n",
        "    fig.add_trace(trace, row=1, col=1)\n",
        "\n",
        "# Segundo gráfico: Distribución de Amount por Subbrand\n",
        "fig_subbrand = px.box(df_no_pepsi, x='SUBBRAND', y='AMOUNT', title=\"Distribución de Amount por Submarca\")\n",
        "for trace in fig_subbrand.data:\n",
        "    fig.add_trace(trace, row=1, col=2)\n",
        "\n",
        "# Puntos individuales solo para Pepsi\n",
        "df_pepsi = df_no_british[df_no_british[\"SUBBRAND\"].str.contains(\"Pepsi\", case=False)]\n",
        "fig.add_trace(\n",
        "    go.Scatter(\n",
        "        x=df_pepsi[\"COUNTRY\"],\n",
        "        y=df_pepsi[\"AMOUNT\"],\n",
        "        mode='markers',\n",
        "        name='Datos Pepsi',\n",
        "        marker=dict(color='red', size=6, opacity=0.6)\n",
        "    ),\n",
        "    row=1, col=1\n",
        ")\n",
        "\n",
        "# Ajustar el diseño de la figura\n",
        "fig.update_layout(\n",
        "    title=\"Distribución de Amount por Pais y Bubmarca\",\n",
        "    xaxis=dict(tickangle=45),  # Rotar etiquetas en el primer gráfico\n",
        "    xaxis2=dict(tickangle=45),  # Rotar etiquetas en el segundo gráfico\n",
        "    width=1000,\n",
        "    height=600,\n",
        "    showlegend=False\n",
        ")\n",
        "\n",
        "# Mostrar la gráfica\n",
        "fig.show()"
      ],
      "metadata": {
        "colab": {
          "base_uri": "https://localhost:8080/",
          "height": 617
        },
        "id": "kPehFL2mUUW6",
        "outputId": "4afd544b-e0ce-4dda-d7b9-e70842e755e8"
      },
      "execution_count": 543,
      "outputs": [
        {
          "output_type": "display_data",
          "data": {
            "text/html": [
              "<html>\n",
              "<head><meta charset=\"utf-8\" /></head>\n",
              "<body>\n",
              "    <div>            <script src=\"https://cdnjs.cloudflare.com/ajax/libs/mathjax/2.7.5/MathJax.js?config=TeX-AMS-MML_SVG\"></script><script type=\"text/javascript\">if (window.MathJax && window.MathJax.Hub && window.MathJax.Hub.Config) {window.MathJax.Hub.Config({SVG: {font: \"STIX-Web\"}});}</script>                <script type=\"text/javascript\">window.PlotlyConfig = {MathJaxConfig: 'local'};</script>\n",
              "        <script charset=\"utf-8\" src=\"https://cdn.plot.ly/plotly-2.35.2.min.js\"></script>                <div id=\"4ba99e3a-5061-4649-a898-07bb1c909a2b\" class=\"plotly-graph-div\" style=\"height:600px; width:1000px;\"></div>            <script type=\"text/javascript\">                                    window.PLOTLYENV=window.PLOTLYENV || {};                                    if (document.getElementById(\"4ba99e3a-5061-4649-a898-07bb1c909a2b\")) {                    Plotly.newPlot(                        \"4ba99e3a-5061-4649-a898-07bb1c909a2b\",                        [{\"alignmentgroup\":\"True\",\"hovertemplate\":\"COUNTRY=%{x}\\u003cbr\\u003eAMOUNT=%{y}\\u003cextra\\u003e\\u003c\\u002fextra\\u003e\",\"legendgroup\":\"\",\"marker\":{\"color\":\"#636efa\"},\"name\":\"\",\"notched\":false,\"offsetgroup\":\"\",\"orientation\":\"v\",\"showlegend\":false,\"x\":[\"Norway\",\"Czech\",\"Czech\",\"Denmark\",\"Spain\",\"Netherlands\",\"Hungary\",\"Denmark\",\"Hungary\",\"Norway\",\"Denmark\",\"Portugal\",\"Netherlands\",\"Hungary\",\"Hungary\",\"Spain\",\"Netherlands\",\"Norway\",\"Portugal\",\"Hungary\",\"Italy\",\"Portugal\",\"Spain\",\"Denmark\",\"Italy\",\"Spain\",\"Norway\",\"Czech\",\"Netherlands\",\"Czech\",\"Spain\",\"Norway\",\"Portugal\",\"Portugal\",\"Czech\",\"Italy\",\"Netherlands\",\"Portugal\",\"Czech\",\"Czech\",\"Hungary\",\"Portugal\",\"Spain\",\"Netherlands\",\"Czech\",\"Norway\",\"Norway\",\"Italy\",\"Netherlands\",\"Netherlands\",\"Denmark\",\"Italy\",\"Portugal\",\"Spain\",\"Hungary\",\"Spain\",\"Denmark\",\"Portugal\",\"Denmark\",\"Hungary\",\"Denmark\",\"Italy\",\"Spain\",\"Hungary\",\"Czech\",\"Netherlands\",\"Norway\",\"Spain\",\"Norway\",\"Netherlands\",\"Portugal\",\"Hungary\",\"Norway\",\"Czech\",\"Czech\",\"Hungary\",\"Spain\",\"Denmark\",\"Norway\",\"Italy\",\"Spain\",\"Norway\",\"Portugal\",\"Portugal\",\"Norway\",\"Spain\",\"Netherlands\",\"Denmark\",\"Portugal\",\"Denmark\",\"Netherlands\",\"Czech\",\"Czech\",\"Italy\",\"Portugal\",\"Norway\",\"Hungary\",\"Spain\",\"Netherlands\",\"Hungary\",\"Hungary\",\"Hungary\",\"Czech\",\"Netherlands\",\"Portugal\",\"Spain\",\"Italy\",\"Czech\",\"Denmark\",\"Norway\",\"Netherlands\",\"Hungary\",\"Spain\",\"Czech\",\"Czech\",\"Italy\",\"Norway\",\"Denmark\",\"Hungary\",\"Denmark\",\"Portugal\",\"Hungary\",\"Portugal\",\"Italy\",\"Denmark\",\"Portugal\",\"Italy\",\"Netherlands\",\"Spain\",\"Netherlands\",\"Denmark\",\"Netherlands\",\"Spain\",\"Czech\",\"Spain\",\"Czech\",\"Netherlands\",\"Norway\",\"Hungary\",\"Spain\",\"Norway\",\"Norway\",\"Netherlands\",\"Portugal\",\"Czech\",\"Hungary\",\"Norway\",\"Portugal\",\"Netherlands\",\"Portugal\",\"Spain\",\"Portugal\",\"Norway\",\"Czech\",\"Hungary\",\"Norway\",\"Czech\",\"Hungary\",\"Czech\",\"Norway\",\"Italy\",\"Hungary\",\"Spain\",\"Spain\",\"Netherlands\",\"Norway\",\"Czech\",\"Netherlands\",\"Denmark\",\"Denmark\",\"Portugal\",\"Spain\",\"Italy\",\"Portugal\",\"Netherlands\",\"Hungary\",\"Denmark\",\"Denmark\",\"Netherlands\",\"Spain\",\"Italy\",\"Norway\",\"Portugal\",\"Czech\",\"Hungary\",\"Hungary\",\"Czech\",\"Denmark\",\"Spain\",\"Czech\",\"Netherlands\",\"Norway\",\"Norway\",\"Hungary\",\"Italy\",\"Norway\",\"Portugal\",\"Portugal\",\"Czech\",\"Netherlands\",\"Netherlands\",\"Portugal\",\"Norway\",\"Denmark\",\"Netherlands\",\"Czech\",\"Spain\",\"Portugal\",\"Portugal\",\"Italy\",\"Italy\",\"Norway\",\"Hungary\",\"Spain\",\"Spain\",\"Denmark\",\"Netherlands\",\"Czech\",\"Spain\",\"Hungary\",\"Denmark\",\"Hungary\",\"Czech\",\"Netherlands\",\"Norway\",\"Portugal\",\"Portugal\",\"Hungary\",\"Norway\",\"Italy\",\"Netherlands\",\"Denmark\",\"Norway\",\"Hungary\",\"Norway\",\"Hungary\",\"Spain\",\"Denmark\",\"Czech\",\"Italy\",\"Portugal\",\"Denmark\",\"Czech\",\"Portugal\",\"Spain\",\"Spain\",\"Spain\",\"Czech\",\"Italy\",\"Netherlands\",\"Denmark\",\"Netherlands\",\"Spain\",\"Hungary\",\"Czech\",\"Portugal\",\"Norway\",\"Netherlands\",\"Hungary\",\"Portugal\",\"Netherlands\",\"Spain\",\"Spain\",\"Norway\",\"Portugal\",\"Italy\",\"Netherlands\",\"Portugal\",\"Portugal\",\"Denmark\",\"Italy\",\"Denmark\",\"Norway\",\"Hungary\",\"Norway\",\"Italy\",\"Spain\",\"Hungary\",\"Netherlands\",\"Hungary\",\"Czech\",\"Czech\",\"Denmark\",\"Spain\",\"Czech\",\"Portugal\",\"Czech\",\"Norway\",\"Denmark\",\"Norway\",\"Spain\",\"Netherlands\",\"Netherlands\",\"Hungary\",\"Czech\",\"Hungary\",\"Spain\",\"Netherlands\",\"Portugal\",\"Italy\",\"Hungary\",\"Denmark\",\"Netherlands\",\"Hungary\",\"Portugal\",\"Denmark\",\"Netherlands\",\"Norway\",\"Czech\",\"Czech\",\"Norway\",\"Hungary\",\"Norway\",\"Italy\",\"Italy\",\"Spain\",\"Netherlands\",\"Spain\",\"Czech\",\"Hungary\",\"Netherlands\",\"Portugal\",\"Denmark\",\"Spain\",\"Norway\",\"Norway\",\"Czech\",\"Denmark\",\"Czech\",\"Portugal\",\"Hungary\",\"Spain\",\"Denmark\",\"Portugal\",\"Spain\",\"Hungary\",\"Netherlands\",\"Czech\",\"Hungary\",\"Norway\",\"Italy\",\"Czech\",\"Norway\",\"Denmark\",\"Portugal\",\"Czech\",\"Hungary\",\"Italy\",\"Czech\",\"Norway\",\"Spain\",\"Netherlands\",\"Portugal\",\"Netherlands\",\"Norway\",\"Portugal\",\"Spain\",\"Hungary\",\"Norway\",\"Czech\",\"Denmark\",\"Italy\",\"Portugal\",\"Denmark\",\"Spain\",\"Netherlands\",\"Spain\",\"Hungary\",\"Netherlands\",\"Netherlands\",\"Hungary\",\"Portugal\",\"Norway\",\"Hungary\",\"Norway\",\"Spain\",\"Hungary\",\"Italy\",\"Portugal\",\"Czech\",\"Hungary\",\"Denmark\",\"Portugal\",\"Italy\",\"Portugal\",\"Spain\",\"Czech\",\"Czech\",\"Italy\",\"Portugal\",\"Spain\",\"Norway\",\"Netherlands\",\"Norway\",\"Czech\",\"Denmark\",\"Denmark\",\"Hungary\",\"Norway\",\"Netherlands\",\"Netherlands\",\"Denmark\",\"Spain\",\"Czech\",\"Netherlands\",\"Spain\",\"Portugal\",\"Portugal\",\"Denmark\",\"Hungary\",\"Netherlands\",\"Denmark\",\"Italy\",\"Netherlands\",\"Spain\",\"Italy\",\"Spain\",\"Netherlands\",\"Czech\",\"Denmark\",\"Spain\",\"Norway\",\"Czech\",\"Portugal\",\"Netherlands\",\"Czech\",\"Hungary\",\"Spain\",\"Netherlands\",\"Portugal\",\"Norway\",\"Hungary\",\"Hungary\",\"Italy\",\"Norway\",\"Norway\",\"Portugal\",\"Spain\",\"Czech\",\"Hungary\",\"Norway\",\"Denmark\",\"Czech\",\"Hungary\",\"Netherlands\",\"Italy\",\"Spain\",\"Portugal\",\"Norway\",\"Denmark\",\"Hungary\",\"Spain\",\"Netherlands\",\"Spain\",\"Czech\",\"Netherlands\",\"Portugal\",\"Norway\",\"Czech\",\"Italy\",\"Netherlands\",\"Portugal\",\"Norway\",\"Czech\",\"Czech\",\"Spain\",\"Hungary\",\"Hungary\",\"Spain\",\"Czech\",\"Hungary\",\"Denmark\",\"Norway\",\"Netherlands\",\"Denmark\",\"Norway\",\"Portugal\",\"Italy\",\"Denmark\",\"Portugal\",\"Netherlands\",\"Netherlands\",\"Denmark\",\"Portugal\",\"Portugal\",\"Denmark\",\"Italy\",\"Czech\",\"Spain\",\"Hungary\",\"Denmark\",\"Czech\",\"Italy\",\"Spain\",\"Spain\",\"Portugal\",\"Czech\",\"Norway\",\"Hungary\",\"Denmark\",\"Czech\",\"Hungary\",\"Norway\",\"Hungary\",\"Netherlands\",\"Netherlands\",\"Norway\",\"Spain\",\"Czech\",\"Czech\",\"Norway\",\"Italy\",\"Norway\",\"Netherlands\",\"Hungary\",\"Spain\",\"Portugal\",\"Portugal\",\"Netherlands\",\"Netherlands\",\"Hungary\",\"Italy\",\"Denmark\",\"Norway\",\"Spain\",\"Denmark\",\"Denmark\",\"Norway\",\"Czech\",\"Italy\",\"Czech\",\"Portugal\",\"Norway\",\"Norway\",\"Norway\",\"Czech\",\"Hungary\",\"Spain\",\"Czech\",\"Denmark\",\"Portugal\",\"Netherlands\",\"Spain\",\"Czech\",\"Portugal\",\"Spain\",\"Czech\",\"Netherlands\",\"Portugal\",\"Hungary\",\"Hungary\",\"Spain\",\"Netherlands\",\"Portugal\",\"Italy\",\"Hungary\",\"Netherlands\",\"Czech\",\"Czech\",\"Denmark\",\"Norway\",\"Portugal\",\"Denmark\",\"Norway\",\"Spain\",\"Portugal\",\"Netherlands\",\"Hungary\",\"Hungary\",\"Italy\",\"Netherlands\",\"Spain\",\"Portugal\",\"Czech\",\"Czech\",\"Norway\",\"Norway\",\"Hungary\",\"Spain\",\"Netherlands\",\"Hungary\",\"Netherlands\",\"Italy\",\"Spain\",\"Portugal\",\"Portugal\",\"Czech\",\"Spain\",\"Hungary\",\"Czech\",\"Norway\",\"Italy\",\"Denmark\",\"Denmark\",\"Norway\",\"Czech\",\"Spain\",\"Netherlands\",\"Czech\",\"Czech\",\"Czech\",\"Spain\",\"Portugal\",\"Portugal\",\"Denmark\",\"Portugal\",\"Hungary\",\"Denmark\",\"Italy\",\"Italy\",\"Hungary\",\"Netherlands\",\"Spain\",\"Netherlands\",\"Czech\",\"Denmark\",\"Spain\",\"Netherlands\",\"Hungary\",\"Hungary\",\"Norway\",\"Netherlands\",\"Czech\",\"Norway\",\"Denmark\",\"Norway\",\"Hungary\",\"Portugal\",\"Italy\",\"Spain\",\"Norway\",\"Portugal\",\"Hungary\",\"Norway\",\"Denmark\",\"Hungary\",\"Hungary\",\"Czech\",\"Czech\",\"Norway\",\"Portugal\",\"Czech\",\"Netherlands\",\"Hungary\",\"Spain\",\"Norway\",\"Czech\",\"Spain\",\"Hungary\",\"Spain\",\"Spain\",\"Czech\",\"Norway\",\"Italy\",\"Denmark\",\"Norway\",\"Denmark\",\"Czech\",\"Denmark\",\"Italy\",\"Netherlands\",\"Portugal\",\"Portugal\",\"Spain\",\"Netherlands\",\"Portugal\",\"Netherlands\",\"Portugal\",\"Netherlands\",\"Italy\",\"Netherlands\",\"Norway\",\"Denmark\",\"Hungary\",\"Netherlands\",\"Czech\",\"Denmark\",\"Spain\",\"Portugal\",\"Netherlands\",\"Netherlands\",\"Denmark\",\"Italy\",\"Czech\",\"Hungary\",\"Portugal\",\"Czech\",\"Czech\",\"Portugal\",\"Portugal\",\"Hungary\",\"Hungary\",\"Italy\",\"Denmark\",\"Hungary\",\"Spain\",\"Portugal\",\"Netherlands\",\"Czech\",\"Spain\",\"Italy\",\"Norway\",\"Czech\",\"Norway\",\"Spain\",\"Spain\",\"Norway\",\"Norway\",\"Portugal\",\"Spain\",\"Norway\",\"Italy\",\"Netherlands\",\"Denmark\",\"Czech\",\"Hungary\",\"Denmark\",\"Hungary\",\"Spain\",\"Czech\",\"Norway\",\"Italy\",\"Portugal\",\"Netherlands\",\"Denmark\",\"Denmark\",\"Spain\",\"Hungary\",\"Portugal\",\"Norway\",\"Portugal\",\"Italy\",\"Netherlands\",\"Czech\",\"Spain\",\"Czech\",\"Norway\",\"Hungary\",\"Netherlands\",\"Portugal\",\"Netherlands\",\"Czech\",\"Norway\",\"Czech\",\"Spain\",\"Hungary\"],\"x0\":\" \",\"xaxis\":\"x\",\"y\":[34297.395969088364,376371.6230019796,204094.2248490698,20454.005903362384,78971.96959557036,1854979.9933780893,314354.5222714561,135789.36338083734,36744.908526061445,35732.59459116749,10365.666805210176,142643.44536571964,122161.56051650898,17068.677660915935,460671.4335026381,83274.05549724207,686853.0429085685,2521703.796326954,72078.55416933775,2100111.241044571,10681.570660711644,193217.05775855383,99292.75887089389,1271376.84656189,1851080.885927032,9208.97938049918,1485.7030143779984,65880.60484808353,114214.14130028954,70126.82014469578,54525.1755862856,9224.884292688424,250322.3285171853,647593.3125752892,1052390.2242291465,154587.69451860824,421721.20349693205,311120.86218678014,191676.7486421562,57389.50568145794,13131.459004036547,162759.71096067008,69302.9735194043,719275.2037646263,864592.2629320972,19655.935415243075,1825216.3497777432,114642.772607835,87711.84828781358,105868.78755644476,2185992.599663269,1830788.5638204191,78712.61966989074,85035.20179214247,607250.8083661493,80772.49512162477,11897.001120089044,309567.536438117,22991.060421407088,362154.39617338136,174903.04889646574,4657.752918219411,50344.87118975999,21617.929878199124,50850.25677512979,447496.10786668834,36319.49307165048,10132.837981585457,8730.354413080386,1359168.3796749625,192058.3978499926,195816.13280451985,929.8852437074244,336105.88011524937,442842.9022282023,1042737.081991927,64655.47145032158,17322.388396159295,9913.84472325347,15229.00537501849,108883.1082384134,45879.58157101294,194375.7986798448,95734.87703676573,25687.368354314454,94306.65094820118,1070921.3049389587,2971511.39813882,216674.3710946581,52614.12227990955,593942.2484906976,75310.10263960606,86546.85001373693,199716.4519242285,293497.1117200764,2762663.8623347166,295028.3579776405,9426.005681457948,2061711.955717738,43451.00138778328,548786.119349362,43951.49098645326,1106104.7283255726,152664.89612759155,970709.8159249892,122439.03679157892,2344058.304509239,271460.49044402025,306278.2752037646,1413.848245546061,140029.30547434714,40746.14837305305,9617.009842166068,393516.76963502006,74826.79830648172,126539.39684261694,34586.398503564946,33523.877621466265,485769.6138862865,286841.753960818,223824.77298824256,1077233.6407120668,220002.64348058865,11564.34876332307,42561.53445154382,116231.10113910944,2006110.3780828863,448285.6438398625,99838.51406116813,1434733.1246962023,2155775.256599015,98599.36739625088,73141.16028298099,241540.5451100012,90623.55743784914,869314.3998365657,147304.69944277333,8225.257655727459,41739.87164765802,54815.01624992075,2138.736060713476,1968366.6442416364,777216.4026121321,342200.0838305637,62656.2383324058,270766.7115171924,28263.728135402565,584073.0946158236,156433.91826872277,459201.46456925885,11759.247227955731,234117.4772636013,49642.68303060167,453079.49109916657,75731.47097983136,3013392.549014311,112877.10016695668,89930.45585510698,81047.37131304023,12671.79983918973,174296.3797876762,1908551.1472106967,64424.03987398998,82918.33366906652,1106911.2030038116,3774.4887599839385,311656.59760625,551830.1832296605,47989.63389290822,47794.99200439583,276816.72983311384,85757.98791767348,1779800.6769846354,874043.682909132,883778.1448789388,633915.9933217333,2727204.3211485487,350075.1657238663,136417.9693278761,115891.54759145631,20638.084436397967,46109.17347530521,128923.62260748276,1048286.7674511988,1369.8195881735503,1429954.6328714434,302972.6106528218,2677852.757602868,143831.89772037225,693856.0298126846,571161.9691024494,55327.72183927076,50624.28409403112,21947.47557290089,237207.88218635743,3924.538403556107,266983.9119285961,161835.08273865297,97490.71875902588,2245735.412425239,176860.89762104358,468507.61167428654,19464.18885123949,47183.25783886216,174630.33539270036,973766.088071404,11845.311399723854,300333.1490000212,932690.8871246118,11802.589589512025,2099138.8100286718,3003307.991729657,474625.8268581855,76407.2321369573,91915.88401372284,32070.245081118403,1088796.7496283983,63797.1053799497,115198.26101891116,65925.4401104591,309603.1080709813,344308.88392637006,91099.07152367334,438084.2250604073,10987.43950462477,192337.2102033772,287059.8807351729,152992.8567906279,2398.6812536543785,2439380.35476531,152643.734193712,31229.40883003529,1967502.233133502,696546.3075806783,58131.089163314624,480248.2159588035,125493.49625476392,301485.7460338985,399943.1889428192,27799.84924587716,601534.6276584503,2607643.205050439,1054386.0080449162,1085059.273139701,103384.94030894028,92339.32988163334,13255.914481677031,86197.8189964284,207459.0463040584,122812.69152465956,45946.17915348742,1642085.0985889696,162071.55519256374,311299.1553542369,107349.9221573338,350901.80552718154,47753.36538326066,778523.5887934739,60504.8713306517,164793.5126415081,506454.60117081006,148935.01617841818,16355.798251764669,79772.16402612132,576737.781167006,14761.484434989045,138851.28880685862,210844.4960655992,1219854.9847308616,51530.94352003832,183119.15211372773,30500.578255813547,49100.65680013808,510976.4625534509,11369.960479877143,2228968.41912464,106715.95381781296,356247.3093537218,1110572.689552176,1266616.6603699818,310316.8858660965,375363.6393831057,2882205.9950339203,105712.72961973328,65701.26353159145,260730.62591139323,933191.1872854044,2960407.620832247,330683.31879565766,3647.68620599776,186616.62295196296,2411275.506681789,177807.76031503384,48498.84782199038,78397.8366917219,47132.14864074729,75888.8082792544,135100.19513500945,216877.1949870732,12398.87850203941,316922.2524356654,257955.8022725832,503292.2516607609,1015832.6770128142,197929.09272787475,2017784.1609546824,129415.9334427592,9780.702063359,695304.0125957185,31914.78869766754,2169078.6915387493,468567.2299986616,33798.11275563038,1562572.6120617387,180327.70001338475,140729.30844064584,1207033.968989736,108423.09226152318,371710.40767014434,83987.10840912133,1534608.0674589474,130280.67388501827,34381.749593175206,10634.28934295154,38895.2611005051,3163.7232041591237,62839.81669989363,28072.795220953416,294266.052848478,375453.7153142238,85027.72044268173,84366.48226666574,37529.780983846766,219788.50922488436,92671.3869433897,1024731.9881193072,1391180.6724761014,245019.93944773977,42629.28846343508,2492830.109261516,10018.266609370708,67437.3486215508,8882.517452959783,31500.33814008862,188594.89408466185,60014.249460560895,44587.79525811359,189886.8040830416,344103.25095693645,1542.7641543327725,83196.89587639924,132014.3991321071,1206886.222904764,140721.0555606433,37848.59296386832,348446.58091058314,151523.86577670075,421500.28785920347,48162.7334399414,833296.3274087199,2176313.5685755145,1433297.739392616,106866.12822553945,252543.58837079885,130091.60765395944,447053.3204652244,10942.085509666931,272927.96378429834,951417.7932132469,393152.2405303164,539381.3740569765,101695.60347438944,43669.911872239405,1036212.2823575408,8073.094615823547,99913.5795238565,59886.1971444774,185403.7322212282,220008.26858185456,360459.9851910845,306240.8039472755,36440.17738265483,546042.753587455,1686422.661021606,262238.5824885702,8034.032890992088,923719.849163931,51336.52884299734,11175.973737786451,185953.95306897355,112481.01179068074,38067.145597486495,100802.81501623776,2233147.3586327867,94278.57019189453,2704018.777341796,31843.99061661254,79338.81993089261,1912.6048762618611,816912.9641501062,132196.72708572555,299182.0884377224,74531.12053248259,257105.39744686615,1410549.5833127866,123046.45431128611,329658.85363465373,208084.9841144604,3004664.8714715424,52964.78008604926,1001472.7762005735,29107.04599409664,184646.53089402968,125054.94071981571,8591.425799032075,11136.030939822676,100807.92233802738,1578557.8747895432,61627.318905377135,46108.395032158536,105442.11223403168,8533.810486569499,445266.3229528796,596053.7767077833,501825.3576888125,237346.75869002411,467211.6528117226,63811.6805944221,114694.920149627,214672.65397702053,26668.157770529684,993632.6795559094,247952.81558372203,2232423.5451170523,2388.114375884976,2360408.9276027987,125343.33018675196,115494.26762467154,70500.65097583567,41169.05047621396,37395.060963840144,285393.5985854473,1045487.76012792,51328.769601558255,424229.5125851514,1871824.466548787,97238.51342749008,592168.3585412072,25773.94137496213,1446233.6829795777,926173.7784539602,113340.61179034613,103665.1849555839,60318.99423122441,871757.4144447459,947164.4276626772,174657.55390868807,2456795.8914218093,352310.63409420726,6789.810711996224,110461.4907751157,193161.47950377944,2567.753411340373,279790.3326555269,55881.68309193888,71405.76048903509,58579.906351398,245344.32084908392,7392.653203701226,52101.72996960261,445572.00520418736,28550.647045148748,34536.63396335406,724274.0625418272,191390.19605080556,9051.587497270224,90492.87264094457,188107.5109367185,28582.38290138285,288522.0037618085,94169.45749649532,1051473.5511049433,265639.3313279748,185368.6660373504,95487.10840912133,29806.555690968136,1806539.9463202609,54000.32594661614,108317.83149722092,52699.45814283602,2557570.5515205744,90174.6081379048,192889.74167506144,59482.85058485907,8003.513133044036,195622.0791388699,287384.59063616133,2119033.169499764,392770.68300296576,37371.189759990986,771024.4963093419,878493.5759953647,36672.00045789803,256625.6720106303,797483.8784668165,96123.5056673688,8652.159517586808,76848.37996555197,89.35491155523307,365915.334774538,23976.259747944743,9042.352046099766,3588.5116904891056,389128.2959852909,55111.12086570907,100246.4604717935,636620.1057392238,264665.6921657168,121991.645121977,1102766.4860904666,330685.54463290673,2100892.975139659,2819279.585496608,43817.777715159245,100264.4079378386,273459.1026607398,29032.655174600048,238323.23374638084,241767.3204359541,180144.61828915204,81001.74299239888,606040.6452628688,2096237.596246645,22482.30047973625,87446.30969405366,14906.588661211812,566835.0646041295,62914.44527414004,981337.4232497727,52057.7761653505,114495.60770114051,294037.2165435038,95639.02841081204,38418.88424851888,213812.88877304463,66435.80973984348,410398.91733531526,94549.0408797278,200197.4738117546,1207066.7033542793,62413.95733270872,6855.564870062626,1169245.468570583,266715.7721217586,17993.173796960968,73851.81930163506,109110.6211210753,32814.75708650047,876939.3265816856,311093.23156255943,8365.40798010609,249372.6726451713,2090877.40308412,2700714.368641056,9613.097292765917,240511.60067064452,143753.79174797295,1596162.3533582513,81093.61521242946,14310.76483061295,108135.50964051482,106530.7355251386,365441.52994300926,388034.7027965242,19387.98584989398,2050.946126534839,29956.63806330264,72486.58258019538,74882.99296245942,1241237.3672976266,577621.5051380707,1265584.6935253218,1913489.6409374936,115596.74681056407,745942.7747212107,121748.45371355308,300841.679750516,70054.79630581953,406366.91102863743,74824.22465182138,38736.60987791734,215496.7101787211,48258.103034102845,36822.82163814784,3391.967763978,460588.92379872,94165.227223096,1566569.737870988,991092.859960691,3482.321613491,359128.547829213,64397.071565943,250696.634519877,241078.499098294,38857.156946312,745673.687769899,563365.011658788,2845438.683930593,274489.665593542,18141.892034689,321262.608046326,120009.84833008,111719.09364367,136778.93387248,57893.829295612,41008.273865293,8909.258698302,1307569.244750023,88493.728558043,78607.338344382,2498191.900833373,121190.253111945,104483.304333125,47917.039442632,358350.351877028,35035.504709303,1179755.864617163,150567.36636422,1700379.484759041,77568.360654581,11817.9960973,482446.084302552,78611.64610822,2789422.562397415,45056.603241918,489731.868998895,379306.000929886,1501.558614471,366968.639267931,38646.080040577,265107.932132466,58920.810056849,128068.022514494,54778.840531724,113988.682873909,15023.986812536,767879.162469266,9739.012208266,729744.905003767,130166.523426768,75371.66526949,325133.96159292,48152.476523919,2076134.033799918,312715.88131283,3451.142279487,2600475.315773532,101538.482807691,37561.235056674,243410.502067585,1223161.109663059,857590.691989599,142005.198798195,79701.862588321,1822674.050566031,238540.553123213,131566.912992326,440024.607176317,110012.271667383,22362.683423385,134893.971948462,40910.2097173,49063.774629631,92202.399737943,151248.159602121,426673.094263594,394678.995864828,94034.761505568,467928.687452889,1589825.171007304,153134.030277626,54319.739632132,302609.860305876,935186.161969102,480667.294808845,249086.121392291,45.7986094,79302.616006707,166701.35345854,986530.746092015,470651.095785226,81390.830063471,2105301.82525202,3185914.985946054,1088774.907892049,135627.644361161,268931.038706472,1323603.925242862,435577.701774531,95936.841771572,22657.414778131,53269.147182519,79621.355307744,2679.76020232,165327.090656767,15308.024486978,12583.038047805,1900579.561545018,294264.064338196,101061.307263671,51804.364824977,15992.124153769,1229491.803625145,376188.333462483,462035.781209272,73714.991933949,40695.476671856,696733.557938189,173370.457123134,80319.401492045,55198.204687467,2132092.495403409,335232.153177461,1801768.981634766,2433265.147619283,43022.796277641,96514.247673526,82299.893274535,556479.542507026,1800.595971906,1266922.558875118,229202.943932146,136482.215944714,451893.397814769,150238.709291102,0.443808866,3110356.073841342,451693.932146554,101146.576683832,189635.867804837,118063.302642424,88567.089106959,9112.875388333,985290.247476278,16677.562291743,981788.232724916],\"y0\":\" \",\"yaxis\":\"y\",\"type\":\"box\"},{\"alignmentgroup\":\"True\",\"hovertemplate\":\"SUBBRAND=%{x}\\u003cbr\\u003eAMOUNT=%{y}\\u003cextra\\u003e\\u003c\\u002fextra\\u003e\",\"legendgroup\":\"\",\"marker\":{\"color\":\"#636efa\"},\"name\":\"\",\"notched\":false,\"offsetgroup\":\"\",\"orientation\":\"v\",\"showlegend\":false,\"x\":[\"Pepsi Regular (L3)\",\"Lipton (L3)\",\"Mountain Dew (L3)\",\"7up (L3)\",\"Lipton (L3)\",\"Lipton (L3)\",\"Pepsi Regular (L3)\",\"7up (L3)\",\"Mountain Dew (L3)\",\"7up Free (L3)\",\"7up Free (L3)\",\"7up (L3)\",\"7up Free (L3)\",\"7up Free (L3)\",\"Pepsi Regular (L3)\",\"7up (L3)\",\"Lipton (L3)\",\"Pepsi Regular (L3)\",\"Pepsi Regular (L3)\",\"Pepsi Regular (L3)\",\"Lipton (L3)\",\"7up (L3)\",\"7up (L3)\",\"7up Free (L3)\",\"Mountain Dew (L3)\",\"Pepsi Regular (L3)\",\"7up Free (L3)\",\"Mountain Dew (L3)\",\"7up (L3)\",\"Lipton (L3)\",\"7up Free (L3)\",\"Pepsi Regular (L3)\",\"Mountain Dew (L3)\",\"Pepsi Regular (L3)\",\"7up (L3)\",\"Lipton (L3)\",\"Mountain Dew (L3)\",\"7up Free (L3)\",\"Mountain Dew (L3)\",\"7up (L3)\",\"Pepsi Regular (L3)\",\"7up Free (L3)\",\"7up (L3)\",\"7up Free (L3)\",\"Pepsi Regular (L3)\",\"7up Free (L3)\",\"Pepsi Regular (L3)\",\"Pepsi Regular (L3)\",\"7up Free (L3)\",\"Lipton (L3)\",\"Mountain Dew (L3)\",\"7up Free (L3)\",\"Pepsi Regular (L3)\",\"Lipton (L3)\",\"7up (L3)\",\"7up (L3)\",\"7up Free (L3)\",\"Mountain Dew (L3)\",\"7up (L3)\",\"Pepsi Regular (L3)\",\"Pepsi Regular (L3)\",\"Pepsi Regular (L3)\",\"Lipton (L3)\",\"Mountain Dew (L3)\",\"Lipton (L3)\",\"Pepsi Regular (L3)\",\"Lipton (L3)\",\"7up (L3)\",\"Pepsi Regular (L3)\",\"Mountain Dew (L3)\",\"7up (L3)\",\"7up Free (L3)\",\"7up Free (L3)\",\"Pepsi Regular (L3)\",\"Mountain Dew (L3)\",\"7up (L3)\",\"Pepsi Regular (L3)\",\"7up Free (L3)\",\"7up Free (L3)\",\"7up (L3)\",\"Pepsi Regular (L3)\",\"Mountain Dew (L3)\",\"Pepsi Regular (L3)\",\"7up (L3)\",\"Mountain Dew (L3)\",\"7up (L3)\",\"Lipton (L3)\",\"Lipton (L3)\",\"Lipton (L3)\",\"7up Free (L3)\",\"7up Free (L3)\",\"Mountain Dew (L3)\",\"Pepsi Regular (L3)\",\"7up Free (L3)\",\"Lipton (L3)\",\"Pepsi Regular (L3)\",\"Pepsi Regular (L3)\",\"Lipton (L3)\",\"Pepsi Regular (L3)\",\"7up (L3)\",\"7up (L3)\",\"Lipton (L3)\",\"Mountain Dew (L3)\",\"Lipton (L3)\",\"Mountain Dew (L3)\",\"Pepsi Regular (L3)\",\"7up Free (L3)\",\"7up Free (L3)\",\"Pepsi Regular (L3)\",\"Pepsi Regular (L3)\",\"Pepsi Regular (L3)\",\"7up (L3)\",\"Mountain Dew (L3)\",\"7up Free (L3)\",\"Pepsi Regular (L3)\",\"Pepsi Regular (L3)\",\"Pepsi Regular (L3)\",\"Lipton (L3)\",\"7up (L3)\",\"7up (L3)\",\"Lipton (L3)\",\"Pepsi Regular (L3)\",\"7up Free (L3)\",\"Mountain Dew (L3)\",\"7up (L3)\",\"Pepsi Regular (L3)\",\"Mountain Dew (L3)\",\"7up Free (L3)\",\"7up Free (L3)\",\"7up (L3)\",\"Lipton (L3)\",\"7up (L3)\",\"7up (L3)\",\"Lipton (L3)\",\"7up Free (L3)\",\"Lipton (L3)\",\"7up Free (L3)\",\"7up (L3)\",\"Lipton (L3)\",\"7up (L3)\",\"Lipton (L3)\",\"7up Free (L3)\",\"Pepsi Regular (L3)\",\"Lipton (L3)\",\"Mountain Dew (L3)\",\"Mountain Dew (L3)\",\"7up (L3)\",\"Mountain Dew (L3)\",\"Pepsi Regular (L3)\",\"7up Free (L3)\",\"7up (L3)\",\"7up (L3)\",\"Mountain Dew (L3)\",\"Lipton (L3)\",\"Pepsi Regular (L3)\",\"7up Free (L3)\",\"Mountain Dew (L3)\",\"Pepsi Regular (L3)\",\"Pepsi Regular (L3)\",\"Pepsi Regular (L3)\",\"Lipton (L3)\",\"Lipton (L3)\",\"Pepsi Regular (L3)\",\"7up (L3)\",\"Pepsi Regular (L3)\",\"7up (L3)\",\"7up Free (L3)\",\"7up Free (L3)\",\"Pepsi Regular (L3)\",\"7up Free (L3)\",\"Pepsi Regular (L3)\",\"Lipton (L3)\",\"Pepsi Regular (L3)\",\"7up (L3)\",\"Pepsi Regular (L3)\",\"Pepsi Regular (L3)\",\"7up Free (L3)\",\"Mountain Dew (L3)\",\"7up (L3)\",\"Mountain Dew (L3)\",\"7up Free (L3)\",\"Mountain Dew (L3)\",\"Lipton (L3)\",\"7up (L3)\",\"7up (L3)\",\"Pepsi Regular (L3)\",\"Mountain Dew (L3)\",\"Mountain Dew (L3)\",\"7up Free (L3)\",\"Pepsi Regular (L3)\",\"Lipton (L3)\",\"Pepsi Regular (L3)\",\"Lipton (L3)\",\"7up (L3)\",\"Lipton (L3)\",\"Pepsi Regular (L3)\",\"7up Free (L3)\",\"7up (L3)\",\"7up Free (L3)\",\"7up (L3)\",\"7up Free (L3)\",\"7up Free (L3)\",\"Pepsi Regular (L3)\",\"Lipton (L3)\",\"7up (L3)\",\"Pepsi Regular (L3)\",\"Mountain Dew (L3)\",\"7up Free (L3)\",\"7up Free (L3)\",\"7up (L3)\",\"Pepsi Regular (L3)\",\"7up Free (L3)\",\"7up (L3)\",\"7up Free (L3)\",\"Lipton (L3)\",\"7up Free (L3)\",\"Pepsi Regular (L3)\",\"Lipton (L3)\",\"7up (L3)\",\"7up (L3)\",\"Mountain Dew (L3)\",\"Pepsi Regular (L3)\",\"Lipton (L3)\",\"7up (L3)\",\"7up Free (L3)\",\"Lipton (L3)\",\"Mountain Dew (L3)\",\"Pepsi Regular (L3)\",\"Lipton (L3)\",\"7up Free (L3)\",\"7up (L3)\",\"Mountain Dew (L3)\",\"Lipton (L3)\",\"Pepsi Regular (L3)\",\"Pepsi Regular (L3)\",\"Pepsi Regular (L3)\",\"Pepsi Regular (L3)\",\"Mountain Dew (L3)\",\"7up Free (L3)\",\"Pepsi Regular (L3)\",\"Lipton (L3)\",\"7up Free (L3)\",\"7up (L3)\",\"7up (L3)\",\"7up (L3)\",\"7up (L3)\",\"Lipton (L3)\",\"Mountain Dew (L3)\",\"7up Free (L3)\",\"Pepsi Regular (L3)\",\"Mountain Dew (L3)\",\"Pepsi Regular (L3)\",\"7up (L3)\",\"Lipton (L3)\",\"Pepsi Regular (L3)\",\"Lipton (L3)\",\"Lipton (L3)\",\"Mountain Dew (L3)\",\"7up Free (L3)\",\"7up (L3)\",\"Pepsi Regular (L3)\",\"Pepsi Regular (L3)\",\"Pepsi Regular (L3)\",\"7up (L3)\",\"Pepsi Regular (L3)\",\"Lipton (L3)\",\"7up Free (L3)\",\"7up Free (L3)\",\"7up Free (L3)\",\"Mountain Dew (L3)\",\"Mountain Dew (L3)\",\"Pepsi Regular (L3)\",\"7up Free (L3)\",\"7up Free (L3)\",\"7up (L3)\",\"Pepsi Regular (L3)\",\"7up (L3)\",\"Lipton (L3)\",\"Pepsi Regular (L3)\",\"Pepsi Regular (L3)\",\"Pepsi Regular (L3)\",\"7up (L3)\",\"Pepsi Regular (L3)\",\"Mountain Dew (L3)\",\"Pepsi Regular (L3)\",\"Mountain Dew (L3)\",\"7up Free (L3)\",\"Lipton (L3)\",\"Pepsi Regular (L3)\",\"7up Free (L3)\",\"Pepsi Regular (L3)\",\"Mountain Dew (L3)\",\"7up Free (L3)\",\"Lipton (L3)\",\"7up Free (L3)\",\"Mountain Dew (L3)\",\"Lipton (L3)\",\"Pepsi Regular (L3)\",\"7up (L3)\",\"7up (L3)\",\"7up Free (L3)\",\"Lipton (L3)\",\"7up (L3)\",\"Mountain Dew (L3)\",\"7up (L3)\",\"Mountain Dew (L3)\",\"Pepsi Regular (L3)\",\"7up (L3)\",\"Pepsi Regular (L3)\",\"Mountain Dew (L3)\",\"Lipton (L3)\",\"Lipton (L3)\",\"Mountain Dew (L3)\",\"7up (L3)\",\"7up (L3)\",\"Mountain Dew (L3)\",\"Mountain Dew (L3)\",\"7up Free (L3)\",\"7up (L3)\",\"7up Free (L3)\",\"7up (L3)\",\"7up Free (L3)\",\"7up Free (L3)\",\"Lipton (L3)\",\"Lipton (L3)\",\"7up (L3)\",\"Pepsi Regular (L3)\",\"7up Free (L3)\",\"7up (L3)\",\"Pepsi Regular (L3)\",\"7up Free (L3)\",\"Pepsi Regular (L3)\",\"Pepsi Regular (L3)\",\"7up Free (L3)\",\"Pepsi Regular (L3)\",\"Pepsi Regular (L3)\",\"Pepsi Regular (L3)\",\"Lipton (L3)\",\"Lipton (L3)\",\"Pepsi Regular (L3)\",\"7up Free (L3)\",\"7up Free (L3)\",\"Pepsi Regular (L3)\",\"Pepsi Regular (L3)\",\"Mountain Dew (L3)\",\"Mountain Dew (L3)\",\"7up (L3)\",\"Mountain Dew (L3)\",\"Pepsi Regular (L3)\",\"Lipton (L3)\",\"Mountain Dew (L3)\",\"Lipton (L3)\",\"Pepsi Regular (L3)\",\"7up Free (L3)\",\"7up (L3)\",\"Lipton (L3)\",\"Pepsi Regular (L3)\",\"7up (L3)\",\"7up (L3)\",\"7up (L3)\",\"Pepsi Regular (L3)\",\"7up (L3)\",\"Mountain Dew (L3)\",\"Lipton (L3)\",\"7up Free (L3)\",\"7up Free (L3)\",\"7up (L3)\",\"7up Free (L3)\",\"Pepsi Regular (L3)\",\"7up Free (L3)\",\"Lipton (L3)\",\"Lipton (L3)\",\"Pepsi Regular (L3)\",\"7up (L3)\",\"7up Free (L3)\",\"7up Free (L3)\",\"7up Free (L3)\",\"Lipton (L3)\",\"7up (L3)\",\"7up (L3)\",\"7up (L3)\",\"Lipton (L3)\",\"7up (L3)\",\"Mountain Dew (L3)\",\"Mountain Dew (L3)\",\"Lipton (L3)\",\"Pepsi Regular (L3)\",\"Lipton (L3)\",\"7up Free (L3)\",\"7up (L3)\",\"Pepsi Regular (L3)\",\"7up Free (L3)\",\"Pepsi Regular (L3)\",\"Lipton (L3)\",\"Pepsi Regular (L3)\",\"7up Free (L3)\",\"7up (L3)\",\"7up Free (L3)\",\"Pepsi Regular (L3)\",\"Mountain Dew (L3)\",\"Mountain Dew (L3)\",\"Pepsi Regular (L3)\",\"Pepsi Regular (L3)\",\"Mountain Dew (L3)\",\"Pepsi Regular (L3)\",\"Lipton (L3)\",\"Pepsi Regular (L3)\",\"Mountain Dew (L3)\",\"7up Free (L3)\",\"Pepsi Regular (L3)\",\"Pepsi Regular (L3)\",\"Pepsi Regular (L3)\",\"Lipton (L3)\",\"Lipton (L3)\",\"7up Free (L3)\",\"Pepsi Regular (L3)\",\"Pepsi Regular (L3)\",\"7up Free (L3)\",\"7up Free (L3)\",\"Pepsi Regular (L3)\",\"Lipton (L3)\",\"7up (L3)\",\"7up (L3)\",\"Pepsi Regular (L3)\",\"7up (L3)\",\"7up (L3)\",\"Lipton (L3)\",\"Mountain Dew (L3)\",\"7up (L3)\",\"7up Free (L3)\",\"Lipton (L3)\",\"Lipton (L3)\",\"7up (L3)\",\"7up Free (L3)\",\"Pepsi Regular (L3)\",\"Pepsi Regular (L3)\",\"Mountain Dew (L3)\",\"7up Free (L3)\",\"Mountain Dew (L3)\",\"Mountain Dew (L3)\",\"7up (L3)\",\"7up (L3)\",\"7up (L3)\",\"Lipton (L3)\",\"Pepsi Regular (L3)\",\"7up Free (L3)\",\"7up Free (L3)\",\"Lipton (L3)\",\"Pepsi Regular (L3)\",\"7up (L3)\",\"Pepsi Regular (L3)\",\"7up Free (L3)\",\"Mountain Dew (L3)\",\"Pepsi Regular (L3)\",\"7up Free (L3)\",\"Lipton (L3)\",\"Pepsi Regular (L3)\",\"Lipton (L3)\",\"7up Free (L3)\",\"Mountain Dew (L3)\",\"Pepsi Regular (L3)\",\"Pepsi Regular (L3)\",\"Pepsi Regular (L3)\",\"Lipton (L3)\",\"7up Free (L3)\",\"Mountain Dew (L3)\",\"7up (L3)\",\"7up Free (L3)\",\"7up Free (L3)\",\"7up (L3)\",\"7up (L3)\",\"Pepsi Regular (L3)\",\"Mountain Dew (L3)\",\"Lipton (L3)\",\"7up (L3)\",\"Mountain Dew (L3)\",\"7up Free (L3)\",\"Pepsi Regular (L3)\",\"Lipton (L3)\",\"Pepsi Regular (L3)\",\"Mountain Dew (L3)\",\"7up (L3)\",\"Pepsi Regular (L3)\",\"Pepsi Regular (L3)\",\"7up (L3)\",\"7up Free (L3)\",\"Pepsi Regular (L3)\",\"Lipton (L3)\",\"Lipton (L3)\",\"Mountain Dew (L3)\",\"Lipton (L3)\",\"Mountain Dew (L3)\",\"7up Free (L3)\",\"7up Free (L3)\",\"7up Free (L3)\",\"Pepsi Regular (L3)\",\"Mountain Dew (L3)\",\"7up Free (L3)\",\"Pepsi Regular (L3)\",\"7up (L3)\",\"Pepsi Regular (L3)\",\"7up (L3)\",\"7up (L3)\",\"Pepsi Regular (L3)\",\"Mountain Dew (L3)\",\"Lipton (L3)\",\"Lipton (L3)\",\"7up (L3)\",\"7up Free (L3)\",\"7up (L3)\",\"7up Free (L3)\",\"7up (L3)\",\"7up Free (L3)\",\"Pepsi Regular (L3)\",\"Pepsi Regular (L3)\",\"Mountain Dew (L3)\",\"Pepsi Regular (L3)\",\"Lipton (L3)\",\"Mountain Dew (L3)\",\"7up Free (L3)\",\"Pepsi Regular (L3)\",\"Pepsi Regular (L3)\",\"Mountain Dew (L3)\",\"7up (L3)\",\"Pepsi Regular (L3)\",\"7up (L3)\",\"7up Free (L3)\",\"7up (L3)\",\"7up (L3)\",\"7up Free (L3)\",\"7up Free (L3)\",\"7up (L3)\",\"Lipton (L3)\",\"Pepsi Regular (L3)\",\"Pepsi Regular (L3)\",\"Lipton (L3)\",\"7up Free (L3)\",\"Lipton (L3)\",\"Lipton (L3)\",\"7up Free (L3)\",\"Lipton (L3)\",\"Mountain Dew (L3)\",\"Pepsi Regular (L3)\",\"7up (L3)\",\"Mountain Dew (L3)\",\"7up Free (L3)\",\"7up (L3)\",\"Lipton (L3)\",\"Pepsi Regular (L3)\",\"7up (L3)\",\"7up (L3)\",\"Lipton (L3)\",\"7up Free (L3)\",\"Pepsi Regular (L3)\",\"7up Free (L3)\",\"Lipton (L3)\",\"7up (L3)\",\"Lipton (L3)\",\"7up (L3)\",\"Pepsi Regular (L3)\",\"7up Free (L3)\",\"7up Free (L3)\",\"Mountain Dew (L3)\",\"Lipton (L3)\",\"7up Free (L3)\",\"Mountain Dew (L3)\",\"Pepsi Regular (L3)\",\"Lipton (L3)\",\"Pepsi Regular (L3)\",\"Mountain Dew (L3)\",\"7up Free (L3)\",\"Pepsi Regular (L3)\",\"Pepsi Regular (L3)\",\"7up Free (L3)\",\"Pepsi Regular (L3)\",\"7up Free (L3)\",\"Pepsi Regular (L3)\",\"7up (L3)\",\"Mountain Dew (L3)\",\"7up (L3)\",\"Mountain Dew (L3)\",\"7up Free (L3)\",\"7up Free (L3)\",\"Lipton (L3)\",\"7up (L3)\",\"Lipton (L3)\",\"Mountain Dew (L3)\",\"7up Free (L3)\",\"Pepsi Regular (L3)\",\"7up Free (L3)\",\"Pepsi Regular (L3)\",\"Mountain Dew (L3)\",\"Mountain Dew (L3)\",\"Pepsi Regular (L3)\",\"Pepsi Regular (L3)\",\"Lipton (L3)\",\"Pepsi Regular (L3)\",\"Pepsi Regular (L3)\",\"7up Free (L3)\",\"Lipton (L3)\",\"Pepsi Regular (L3)\",\"Pepsi Regular (L3)\",\"Pepsi Regular (L3)\",\"7up (L3)\",\"Mountain Dew (L3)\",\"Mountain Dew (L3)\",\"7up (L3)\",\"Lipton (L3)\",\"7up Free (L3)\",\"7up (L3)\",\"7up Free (L3)\",\"Lipton (L3)\",\"7up Free (L3)\",\"7up (L3)\",\"7up (L3)\",\"7up (L3)\",\"7up (L3)\",\"Pepsi Regular (L3)\",\"7up Free (L3)\",\"7up Free (L3)\",\"Lipton (L3)\",\"7up Free (L3)\",\"Pepsi Regular (L3)\",\"Pepsi Regular (L3)\",\"7up Free (L3)\",\"7up (L3)\",\"Lipton (L3)\",\"7up Free (L3)\",\"7up Free (L3)\",\"Mountain Dew (L3)\",\"Pepsi Regular (L3)\",\"Lipton (L3)\",\"7up (L3)\",\"7up (L3)\",\"7up Free (L3)\",\"7up Free (L3)\",\"Lipton (L3)\",\"Mountain Dew (L3)\",\"Pepsi Regular (L3)\",\"Mountain Dew (L3)\",\"Pepsi Regular (L3)\",\"Pepsi Regular (L3)\",\"Lipton (L3)\",\"7up (L3)\",\"7up (L3)\",\"Pepsi Regular (L3)\",\"Mountain Dew (L3)\",\"7up (L3)\",\"Pepsi Regular (L3)\",\"Lipton (L3)\",\"Mountain Dew (L3)\",\"7up Free (L3)\",\"7up Free (L3)\",\"7up (L3)\",\"Pepsi Regular (L3)\",\"Pepsi Regular (L3)\",\"Lipton (L3)\",\"Mountain Dew (L3)\",\"Mountain Dew (L3)\",\"Lipton (L3)\",\"Pepsi Regular (L3)\",\"7up Free (L3)\",\"Pepsi Regular (L3)\",\"Pepsi Regular (L3)\",\"7up Free (L3)\",\"Pepsi Regular (L3)\",\"Lipton (L3)\",\"7up Free (L3)\",\"7up (L3)\",\"7up Free (L3)\",\"Mountain Dew (L3)\",\"7up (L3)\",\"7up (L3)\",\"Lipton (L3)\",\"7up Free (L3)\",\"7up (L3)\",\"Lipton (L3)\",\"7up (L3)\",\"7up Free (L3)\",\"Pepsi Regular (L3)\",\"Mountain Dew (L3)\",\"7up (L3)\",\"Mountain Dew (L3)\",\"Pepsi Regular (L3)\",\"Lipton (L3)\",\"Pepsi Regular (L3)\"],\"x0\":\" \",\"xaxis\":\"x2\",\"y\":[34297.395969088364,204094.2248490698,20454.005903362384,78971.96959557036,1854979.9933780893,314354.5222714561,135789.36338083734,146982.14373771602,36744.908526061445,35732.59459116749,10365.666805210176,122161.56051650898,17068.677660915935,72078.55416933775,2100111.241044571,10681.570660711644,368979.1180883814,193217.05775855383,99292.75887089389,1851080.885927032,9208.97938049918,1485.7030143779984,65880.60484808353,114214.14130028954,70126.82014469578,1607574.0456348227,54525.1755862856,9224.884292688424,250322.3285171853,647593.3125752892,1004129.6960965954,1052390.2242291465,151776.04207026272,421721.20349693205,311120.86218678014,191676.7486421562,57389.50568145794,13131.459004036547,162902.67201115863,69302.9735194043,864592.2629320972,19655.935415243075,87711.84828781358,105868.78755644476,1830788.5638204191,78712.61966989074,85035.20179214247,607250.8083661493,11897.001120089044,309567.536438117,22991.060421407088,1040915.5248568192,174903.04889646574,310512.9655590231,153406.3070171113,4657.752918219411,50344.87118975999,21617.929878199124,50850.25677512979,447496.10786668834,1722087.5148816863,36319.49307165048,10132.837981585457,8730.354413080386,1359168.3796749625,192058.3978499926,195816.13280451985,929.8852437074244,1042737.081991927,201330.17900290943,195259.95068790377,64655.47145032158,17322.388396159295,2106423.3130331864,9913.84472325347,15229.00537501849,45879.58157101294,95734.87703676573,25687.368354314454,94306.65094820118,216674.3710946581,52614.12227990955,593942.2484906976,75310.10263960606,86546.85001373693,293497.1117200764,295028.3579776405,9426.005681457948,2061711.955717738,1304897.9549921455,43451.00138778328,43951.49098645326,1106104.7283255726,152664.89612759155,970709.8159249892,122439.03679157892,2344058.304509239,271460.49044402025,306278.2752037646,1413.848245546061,140029.30547434714,615373.1719301459,40746.14837305305,9617.009842166068,74826.79830648172,34586.398503564946,33523.877621466265,1182113.5232083858,286841.753960818,223824.77298824256,1077233.6407120668,11564.34876332307,42561.53445154382,116231.10113910944,2006110.3780828863,448285.6438398625,99838.51406116813,1434733.1246962023,98599.36739625088,73141.16028298099,241540.5451100012,869314.3998365657,147304.69944277333,165850.19365564658,240064.25450677337,1896348.932428339,8225.257655727459,41739.87164765802,54815.01624992075,2138.736060713476,657783.9962875036,342200.0838305637,62656.2383324058,270766.7115171924,28263.728135402565,584073.0946158236,156433.91826872277,459201.46456925885,11759.247227955731,242854.25654970307,825929.5338950215,1398077.239720189,49642.68303060167,75731.47097983136,112877.10016695668,89930.45585510698,81047.37131304023,12671.79983918973,1908551.1472106967,64424.03987398998,82918.33366906652,3774.4887599839385,232377.61780307567,311656.59760625,551830.1832296605,47989.63389290822,47794.99200439583,276816.72983311384,1779800.6769846354,2137516.019245807,874043.682909132,883778.1448789388,350075.1657238663,136417.9693278761,115891.54759145631,20638.084436397967,46109.17347530521,128923.62260748276,1048286.7674511988,1369.8195881735503,1429954.6328714434,302972.6106528218,143831.89772037225,344973.0768634689,571161.9691024494,55327.72183927076,50624.28409403112,21947.47557290089,3924.538403556107,226203.12356906864,161835.08273865297,97490.71875902588,2245735.412425239,176860.89762104358,468507.61167428654,1944245.890365121,19464.18885123949,47183.25783886216,174630.33539270036,973766.088071404,11845.311399723854,300333.1490000212,932690.8871246118,11802.589589512025,1011623.23180912,2099138.8100286718,76407.2321369573,91915.88401372284,32070.245081118403,63797.1053799497,1443260.5982966195,65925.4401104591,309603.1080709813,344308.88392637006,91099.07152367334,438084.2250604073,10987.43950462477,192337.2102033772,152992.8567906279,2398.6812536543785,2439380.35476531,152643.734193712,302001.9135911182,31229.40883003529,696546.3075806783,58131.089163314624,301485.7460338985,399943.1889428192,27799.84924587716,601534.6276584503,199373.0486851282,1054386.0080449162,1085059.273139701,103384.94030894028,92339.32988163334,13255.914481677031,86197.8189964284,2021779.7796805988,870973.6265172276,1492144.0896634802,122812.69152465956,45946.17915348742,1642085.0985889696,162071.55519256374,311299.1553542369,350901.80552718154,47753.36538326066,60504.8713306517,164793.5126415081,506454.60117081006,16355.798251764669,79772.16402612132,576737.781167006,14761.484434989045,138851.28880685862,319487.7969468768,1219854.9847308616,51530.94352003832,30500.578255813547,49100.65680013808,11369.960479877143,2228968.41912464,106715.95381781296,356247.3093537218,1266616.6603699818,310316.8858660965,644766.3709819448,191911.6951385317,105712.72961973328,65701.26353159145,260730.62591139323,933191.1872854044,330683.31879565766,3647.68620599776,186616.62295196296,2411275.506681789,177807.76031503384,48498.84782199038,1317455.626721521,78397.8366917219,47132.14864074729,2064473.571569463,75888.8082792544,135100.19513500945,313828.81094446755,216877.1949870732,12398.87850203941,316922.2524356654,257955.8022725832,503292.2516607609,1015832.6770128142,129415.9334427592,1948755.726965968,9780.702063359,695304.0125957185,31914.78869766754,33798.11275563038,849263.3769980205,1562572.6120617387,1293227.672891732,140729.30844064584,206646.31307545456,83987.10840912133,1534608.0674589474,130280.67388501827,34381.749593175206,10634.28934295154,38895.2611005051,3163.7232041591237,62839.81669989363,28072.795220953416,294266.052848478,375453.7153142238,85027.72044268173,84366.48226666574,37529.780983846766,219788.50922488436,92671.3869433897,1024731.9881193072,180099.9867561799,1391180.6724761014,245019.93944773977,42629.28846343508,226245.2291955788,10018.266609370708,67437.3486215508,8882.517452959783,31500.33814008862,60014.249460560895,44587.79525811359,1542.7641543327725,83196.89587639924,132014.3991321071,642688.8624756082,1206886.222904764,140721.0555606433,37848.59296386832,1172553.4686832966,348446.58091058314,151523.86577670075,48162.7334399414,833296.3274087199,1433297.739392616,106866.12822553945,252543.58837079885,1799985.184497686,447053.3204652244,10942.085509666931,272927.96378429834,393152.2405303164,101695.60347438944,43669.911872239405,1803962.3552026025,1036212.2823575408,167743.52121829058,8073.094615823547,99913.5795238565,59886.1971444774,220008.26858185456,306240.8039472755,36440.17738265483,546042.753587455,1686422.661021606,1021965.48600327,262238.5824885702,8034.032890992088,923719.849163931,51336.52884299734,11175.973737786451,250399.60390569412,38067.145597486495,100802.81501623776,94278.57019189453,511840.46921868506,31843.99061661254,79338.81993089261,1912.6048762618611,132196.72708572555,299182.0884377224,74531.12053248259,257105.39744686615,1410549.5833127866,123046.45431128611,329658.85363465373,52964.78008604926,29107.04599409664,125054.94071981571,8591.425799032075,272963.44071629347,11136.030939822676,100807.92233802738,1578557.8747895432,61627.318905377135,46108.395032158536,8533.810486569499,596053.7767077833,501825.3576888125,237346.75869002411,63811.6805944221,114694.920149627,214672.65397702053,26668.157770529684,993632.6795559094,247952.81558372203,2232423.5451170523,1133045.9368593832,2388.114375884976,125343.33018675196,115494.26762467154,70500.65097583567,41169.05047621396,37395.060963840144,285393.5985854473,147858.78833134912,1735358.908652864,533035.6995977542,1045487.76012792,51328.769601558255,969981.2136411348,424229.5125851514,1871824.466548787,1594887.3361253373,559138.4604059091,592168.3585412072,25773.94137496213,926173.7784539602,113340.61179034613,103665.1849555839,60318.99423122441,871757.4144447459,947164.4276626772,6789.810711996224,110461.4907751157,193161.47950377944,245995.7835339866,2567.753411340373,279790.3326555269,55881.68309193888,71405.76048903509,58579.906351398,245344.32084908392,7392.653203701226,52101.72996960261,28550.647045148748,34536.63396335406,191390.19605080556,9051.587497270224,90492.87264094457,28582.38290138285,150676.03164427663,288522.0037618085,272026.82747106435,94169.45749649532,1051473.5511049433,265639.3313279748,95487.10840912133,29806.555690968136,522385.952568808,1806539.9463202609,54000.32594661614,108317.83149722092,52699.45814283602,90174.6081379048,2028092.6916655512,59482.85058485907,8003.513133044036,195622.0791388699,287384.59063616133,910090.0804843856,37371.189759990986,771024.4963093419,878493.5759953647,36672.00045789803,256625.6720106303,96123.5056673688,8652.159517586808,76848.37996555197,89.35491155523307,23976.259747944743,9042.352046099766,3588.5116904891056,389128.2959852909,55111.12086570907,636620.1057392238,264665.6921657168,157587.1653293696,121991.645121977,1968418.517889724,330685.54463290673,2100892.975139659,166701.00568498025,43817.777715159245,100264.4079378386,273459.1026607398,290162.8181158553,29032.655174600048,238323.23374638084,241767.3204359541,698062.6725042795,81001.74299239888,606040.6452628688,22482.30047973625,87446.30969405366,14906.588661211812,62914.44527414004,981337.4232497727,52057.7761653505,114495.60770114051,294037.2165435038,38418.88424851888,213812.88877304463,66435.80973984348,94549.0408797278,1207066.7033542793,62413.95733270872,6855.564870062626,1169245.468570583,266715.7721217586,1105659.5148746418,17993.173796960968,73851.81930163506,109110.6211210753,32814.75708650047,876939.3265816856,311093.23156255943,8365.40798010609,249372.6726451713,9613.097292765917,158102.72752248985,143753.79174797295,1596162.3533582513,1884452.6451360665,81093.61521242946,14310.76483061295,108135.50964051482,365441.52994300926,1205175.7205201725,19387.98584989398,2050.946126534839,29956.63806330264,72486.58258019538,74882.99296245942,1241237.3672976266,1913489.6409374936,115596.74681056407,745942.7747212107,121748.45371355308,300841.679750516,731579.0674730367,70054.79630581953,406366.91102863743,74824.22465182138,38736.60987791734,262402.5683148648,48258.103034102845,36822.82163814784,3391.967763978,1566569.737870988,991092.859960691,301786.721661398,3482.321613491,359128.547829213,64397.071565943,241078.499098294,38857.156946312,745673.687769899,18141.892034689,321262.608046326,120009.84833008,111719.09364367,136778.93387248,57893.829295612,41008.273865293,8909.258698302,88493.728558043,78607.338344382,1851436.730819364,769221.568054214,121190.253111945,104483.304333125,1270442.919487436,47917.039442632,358350.351877028,35035.504709303,1179755.864617163,150567.36636422,1700379.484759041,77568.360654581,11817.9960973,482446.084302552,203606.315118387,78611.64610822,45056.603241918,379306.000929886,1501.558614471,840563.337865345,196195.228350228,38646.080040577,265107.932132466,58920.810056849,128068.022514494,54778.840531724,15023.986812536,767879.162469266,1847830.664022591,9739.012208266,729744.905003767,130166.523426768,75371.66526949,325133.96159292,48152.476523919,2076134.033799918,312715.88131283,3451.142279487,101538.482807691,37561.235056674,323061.095926113,857590.691989599,142005.198798195,79701.862588321,1346003.398878506,1822674.050566031,131566.912992326,440024.607176317,110012.271667383,22362.683423385,134893.971948462,1845970.157376038,40910.2097173,49063.774629631,865671.68886885,92202.399737943,151248.159602121,394678.995864828,94034.761505568,467928.687452889,1589825.171007304,153134.030277626,1373990.410558422,54319.739632132,935186.161969102,480667.294808845,340682.9549217,45.7986094,79302.616006707,166701.35345854,986530.746092015,81390.830063471,2105301.82525202,212553.774840966,1088774.907892049,268931.038706472,435577.701774531,95936.841771572,22657.414778131,53269.147182519,79621.355307744,2679.76020232,165327.090656767,15308.024486978,12583.038047805,101061.307263671,51804.364824977,15992.124153769,376188.333462483,2035189.275675748,462035.781209272,73714.991933949,40695.476671856,829271.484223649,173370.457123134,80319.401492045,55198.204687467,2132092.495403409,1533493.899389235,335232.153177461,1801768.981634766,43022.796277641,96514.247673526,82299.893274535,212753.497636541,556479.542507026,1800.595971906,1266922.558875118,136482.215944714,0.443808866,451693.932146554,101146.576683832,189635.867804837,118063.302642424,88567.089106959,387428.132903143,9112.875388333,985290.247476278,16677.562291743,981788.232724916],\"y0\":\" \",\"yaxis\":\"y2\",\"type\":\"box\"},{\"marker\":{\"color\":\"red\",\"opacity\":0.6,\"size\":6},\"mode\":\"markers\",\"name\":\"Datos Pepsi\",\"x\":[\"Norway\",\"Czech\",\"Denmark\",\"Portugal\",\"Hungary\",\"Spain\",\"Netherlands\",\"Norway\",\"Hungary\",\"Portugal\",\"Spain\",\"Denmark\",\"Italy\",\"Czech\",\"Italy\",\"Netherlands\",\"Portugal\",\"Netherlands\",\"Czech\",\"Norway\",\"Italy\",\"Denmark\",\"Italy\",\"Spain\",\"Hungary\",\"Spain\",\"Hungary\",\"Denmark\",\"Netherlands\",\"Norway\",\"Portugal\",\"Czech\",\"Czech\",\"Hungary\",\"Spain\",\"Norway\",\"Portugal\",\"Netherlands\",\"Denmark\",\"Portugal\",\"Netherlands\",\"Italy\",\"Norway\",\"Hungary\",\"Czech\",\"Spain\",\"Italy\",\"Denmark\",\"Czech\",\"Italy\",\"Norway\",\"Hungary\",\"Denmark\",\"Portugal\",\"Hungary\",\"Portugal\",\"Italy\",\"Netherlands\",\"Spain\",\"Denmark\",\"Spain\",\"Czech\",\"Norway\",\"Netherlands\",\"Portugal\",\"Norway\",\"Czech\",\"Norway\",\"Italy\",\"Hungary\",\"Netherlands\",\"Netherlands\",\"Portugal\",\"Spain\",\"Italy\",\"Hungary\",\"Denmark\",\"Denmark\",\"Spain\",\"Czech\",\"Hungary\",\"Denmark\",\"Spain\",\"Czech\",\"Netherlands\",\"Norway\",\"Italy\",\"Portugal\",\"Czech\",\"Portugal\",\"Italy\",\"Norway\",\"Hungary\",\"Netherlands\",\"Spain\",\"Denmark\",\"Netherlands\",\"Portugal\",\"Italy\",\"Norway\",\"Hungary\",\"Spain\",\"Denmark\",\"Denmark\",\"Czech\",\"Italy\",\"Spain\",\"Hungary\",\"Czech\",\"Portugal\",\"Norway\",\"Netherlands\",\"Netherlands\",\"Spain\",\"Portugal\",\"Italy\",\"Norway\",\"Hungary\",\"Italy\",\"Netherlands\",\"Hungary\",\"Czech\",\"Denmark\",\"Portugal\",\"Czech\",\"Norway\",\"Denmark\",\"Spain\",\"Portugal\",\"Denmark\",\"Netherlands\",\"Hungary\",\"Portugal\",\"Denmark\",\"Czech\",\"Norway\",\"Hungary\",\"Italy\",\"Italy\",\"Spain\",\"Netherlands\",\"Spain\",\"Czech\",\"Norway\",\"Portugal\",\"Hungary\",\"Norway\",\"Portugal\",\"Italy\",\"Czech\",\"Norway\",\"Spain\",\"Hungary\",\"Czech\",\"Denmark\",\"Italy\",\"Denmark\",\"Spain\",\"Netherlands\",\"Netherlands\",\"Netherlands\",\"Hungary\",\"Hungary\",\"Italy\",\"Portugal\",\"Czech\",\"Italy\",\"Czech\",\"Portugal\",\"Spain\",\"Norway\",\"Norway\",\"Denmark\",\"Netherlands\",\"Denmark\",\"Spain\",\"Portugal\",\"Denmark\",\"Netherlands\",\"Italy\",\"Spain\",\"Czech\",\"Netherlands\",\"Hungary\",\"Portugal\",\"Hungary\",\"Italy\",\"Norway\",\"Spain\",\"Norway\",\"Denmark\",\"Czech\",\"Netherlands\",\"Italy\",\"Spain\",\"Denmark\",\"Hungary\",\"Spain\",\"Czech\",\"Portugal\",\"Norway\",\"Czech\",\"Portugal\",\"Hungary\",\"Norway\",\"Netherlands\",\"Denmark\",\"Italy\",\"Denmark\",\"Portugal\",\"Italy\",\"Spain\",\"Denmark\",\"Italy\",\"Portugal\",\"Norway\",\"Hungary\",\"Czech\",\"Hungary\",\"Norway\",\"Netherlands\",\"Czech\",\"Netherlands\",\"Spain\",\"Netherlands\",\"Italy\",\"Denmark\",\"Spain\",\"Denmark\",\"Norway\",\"Italy\",\"Norway\",\"Hungary\",\"Czech\",\"Netherlands\",\"Spain\",\"Portugal\",\"Czech\",\"Portugal\",\"Hungary\",\"Czech\",\"Denmark\",\"Portugal\",\"Denmark\",\"Norway\",\"Portugal\",\"Hungary\",\"Netherlands\",\"Spain\",\"Czech\",\"Hungary\",\"Netherlands\",\"Italy\",\"Spain\",\"Norway\",\"Italy\",\"Czech\",\"Spain\",\"Czech\",\"Portugal\",\"Portugal\",\"Hungary\",\"Denmark\",\"Italy\",\"Spain\",\"Netherlands\",\"Norway\",\"Netherlands\",\"Norway\",\"Denmark\",\"Hungary\",\"Italy\",\"Norway\",\"Hungary\",\"Czech\",\"Portugal\",\"Netherlands\",\"Spain\",\"Czech\",\"Hungary\",\"Spain\",\"Norway\",\"Italy\",\"Denmark\",\"Denmark\",\"Italy\",\"Netherlands\",\"Portugal\",\"Netherlands\",\"Czech\",\"Denmark\",\"Italy\",\"Czech\",\"Portugal\",\"Hungary\",\"Italy\",\"Denmark\",\"Hungary\",\"Spain\",\"Portugal\",\"Netherlands\",\"Norway\",\"Spain\",\"Norway\",\"Portugal\",\"Netherlands\",\"Denmark\",\"Hungary\",\"Spain\",\"Norway\",\"Italy\",\"Portugal\",\"Denmark\",\"Italy\",\"Czech\",\"Spain\",\"Norway\",\"Netherlands\",\"Czech\",\"Hungary\"],\"y\":[34297.395969088364,376371.6230019796,135789.36338083734,142643.44536571964,460671.4335026381,83274.05549724207,686853.0429085685,2521703.796326954,2100111.241044571,193217.05775855383,99292.75887089389,1271376.84656189,1851080.885927032,1052390.2242291465,154587.69451860824,421721.20349693205,162759.71096067008,719275.2037646263,864592.2629320972,1825216.3497777432,114642.772607835,2185992.599663269,1830788.5638204191,85035.20179214247,607250.8083661493,80772.49512162477,362154.39617338136,174903.04889646574,447496.10786668834,36319.49307165048,192058.3978499926,336105.88011524937,442842.9022282023,1042737.081991927,108883.1082384134,45879.58157101294,194375.7986798448,1070921.3049389587,2971511.39813882,216674.3710946581,593942.2484906976,199716.4519242285,2762663.8623347166,548786.119349362,1106104.7283255726,122439.03679157892,2344058.304509239,306278.2752037646,393516.76963502006,126539.39684261694,34586.398503564946,485769.6138862865,286841.753960818,223824.77298824256,1077233.6407120668,220002.64348058865,2006110.3780828863,448285.6438398625,99838.51406116813,2155775.256599015,90623.55743784914,869314.3998365657,1968366.6442416364,777216.4026121321,234117.4772636013,49642.68303060167,453079.49109916657,3013392.549014311,174296.3797876762,1908551.1472106967,1106911.2030038116,551830.1832296605,276816.72983311384,85757.98791767348,1779800.6769846354,633915.9933217333,2727204.3211485487,350075.1657238663,115891.54759145631,1048286.7674511988,1429954.6328714434,2677852.757602868,143831.89772037225,693856.0298126846,571161.9691024494,55327.72183927076,237207.88218635743,266983.9119285961,973766.088071404,300333.1490000212,2099138.8100286718,3003307.991729657,474625.8268581855,1088796.7496283983,115198.26101891116,309603.1080709813,438084.2250604073,287059.8807351729,2439380.35476531,1967502.233133502,480248.2159588035,125493.49625476392,301485.7460338985,2607643.205050439,1054386.0080449162,207459.0463040584,162071.55519256374,311299.1553542369,107349.9221573338,350901.80552718154,47753.36538326066,778523.5887934739,506454.60117081006,148935.01617841818,210844.4960655992,183119.15211372773,49100.65680013808,510976.4625534509,2228968.41912464,1110572.689552176,1266616.6603699818,375363.6393831057,2882205.9950339203,260730.62591139323,933191.1872854044,2960407.620832247,330683.31879565766,186616.62295196296,216877.1949870732,257955.8022725832,503292.2516607609,1015832.6770128142,197929.09272787475,2017784.1609546824,695304.0125957185,2169078.6915387493,468567.2299986616,1562572.6120617387,180327.70001338475,140729.30844064584,1207033.968989736,108423.09226152318,371710.40767014434,38895.2611005051,219788.50922488436,1024731.9881193072,2492830.109261516,188594.89408466185,189886.8040830416,344103.25095693645,37848.59296386832,151523.86577670075,421500.28785920347,833296.3274087199,2176313.5685755145,1433297.739392616,252543.58837079885,130091.60765395944,447053.3204652244,951417.7932132469,393152.2405303164,539381.3740569765,1036212.2823575408,185403.7322212282,220008.26858185456,360459.9851910845,1686422.661021606,923719.849163931,185953.95306897355,112481.01179068074,38067.145597486495,2233147.3586327867,2704018.777341796,816912.9641501062,299182.0884377224,123046.45431128611,208084.9841144604,3004664.8714715424,1001472.7762005735,184646.53089402968,105442.11223403168,445266.3229528796,501825.3576888125,467211.6528117226,214672.65397702053,993632.6795559094,2232423.5451170523,2360408.9276027987,115494.26762467154,37395.060963840144,285393.5985854473,1045487.76012792,424229.5125851514,1871824.466548787,97238.51342749008,1446233.6829795777,926173.7784539602,113340.61179034613,871757.4144447459,174657.55390868807,2456795.8914218093,352310.63409420726,193161.47950377944,445572.00520418736,34536.63396335406,724274.0625418272,191390.19605080556,188107.5109367185,265639.3313279748,185368.6660373504,1806539.9463202609,108317.83149722092,2557570.5515205744,192889.74167506144,195622.0791388699,2119033.169499764,392770.68300296576,771024.4963093419,878493.5759953647,36672.00045789803,797483.8784668165,365915.334774538,389128.2959852909,100246.4604717935,1102766.4860904666,2100892.975139659,2819279.585496608,100264.4079378386,273459.1026607398,238323.23374638084,180144.61828915204,2096237.596246645,566835.0646041295,981337.4232497727,294037.2165435038,95639.02841081204,213812.88877304463,410398.91733531526,200197.4738117546,1207066.7033542793,876939.3265816856,311093.23156255943,249372.6726451713,2090877.40308412,2700714.368641056,240511.60067064452,1596162.3533582513,108135.50964051482,106530.7355251386,388034.7027965242,577621.5051380707,1265584.6935253218,1913489.6409374936,115596.74681056407,38736.60987791734,215496.7101787211,460588.92379872,94165.227223096,991092.859960691,250696.634519877,241078.499098294,563365.011658788,2845438.683930593,274489.665593542,111719.09364367,1307569.244750023,2498191.900833373,121190.253111945,47917.039442632,358350.351877028,1179755.864617163,1700379.484759041,2789422.562397415,489731.868998895,366968.639267931,265107.932132466,128068.022514494,113988.682873909,767879.162469266,729744.905003767,130166.523426768,48152.476523919,2076134.033799918,312715.88131283,2600475.315773532,243410.502067585,1223161.109663059,238540.553123213,151248.159602121,426673.094263594,394678.995864828,302609.860305876,935186.161969102,249086.121392291,470651.095785226,2105301.82525202,3185914.985946054,1088774.907892049,135627.644361161,268931.038706472,1323603.925242862,53269.147182519,165327.090656767,1900579.561545018,294264.064338196,1229491.803625145,376188.333462483,696733.557938189,173370.457123134,55198.204687467,2132092.495403409,335232.153177461,2433265.147619283,229202.943932146,451893.397814769,150238.709291102,3110356.073841342,118063.302642424,985290.247476278,981788.232724916],\"type\":\"scatter\",\"xaxis\":\"x\",\"yaxis\":\"y\"}],                        {\"template\":{\"data\":{\"histogram2dcontour\":[{\"type\":\"histogram2dcontour\",\"colorbar\":{\"outlinewidth\":0,\"ticks\":\"\"},\"colorscale\":[[0.0,\"#0d0887\"],[0.1111111111111111,\"#46039f\"],[0.2222222222222222,\"#7201a8\"],[0.3333333333333333,\"#9c179e\"],[0.4444444444444444,\"#bd3786\"],[0.5555555555555556,\"#d8576b\"],[0.6666666666666666,\"#ed7953\"],[0.7777777777777778,\"#fb9f3a\"],[0.8888888888888888,\"#fdca26\"],[1.0,\"#f0f921\"]]}],\"choropleth\":[{\"type\":\"choropleth\",\"colorbar\":{\"outlinewidth\":0,\"ticks\":\"\"}}],\"histogram2d\":[{\"type\":\"histogram2d\",\"colorbar\":{\"outlinewidth\":0,\"ticks\":\"\"},\"colorscale\":[[0.0,\"#0d0887\"],[0.1111111111111111,\"#46039f\"],[0.2222222222222222,\"#7201a8\"],[0.3333333333333333,\"#9c179e\"],[0.4444444444444444,\"#bd3786\"],[0.5555555555555556,\"#d8576b\"],[0.6666666666666666,\"#ed7953\"],[0.7777777777777778,\"#fb9f3a\"],[0.8888888888888888,\"#fdca26\"],[1.0,\"#f0f921\"]]}],\"heatmap\":[{\"type\":\"heatmap\",\"colorbar\":{\"outlinewidth\":0,\"ticks\":\"\"},\"colorscale\":[[0.0,\"#0d0887\"],[0.1111111111111111,\"#46039f\"],[0.2222222222222222,\"#7201a8\"],[0.3333333333333333,\"#9c179e\"],[0.4444444444444444,\"#bd3786\"],[0.5555555555555556,\"#d8576b\"],[0.6666666666666666,\"#ed7953\"],[0.7777777777777778,\"#fb9f3a\"],[0.8888888888888888,\"#fdca26\"],[1.0,\"#f0f921\"]]}],\"heatmapgl\":[{\"type\":\"heatmapgl\",\"colorbar\":{\"outlinewidth\":0,\"ticks\":\"\"},\"colorscale\":[[0.0,\"#0d0887\"],[0.1111111111111111,\"#46039f\"],[0.2222222222222222,\"#7201a8\"],[0.3333333333333333,\"#9c179e\"],[0.4444444444444444,\"#bd3786\"],[0.5555555555555556,\"#d8576b\"],[0.6666666666666666,\"#ed7953\"],[0.7777777777777778,\"#fb9f3a\"],[0.8888888888888888,\"#fdca26\"],[1.0,\"#f0f921\"]]}],\"contourcarpet\":[{\"type\":\"contourcarpet\",\"colorbar\":{\"outlinewidth\":0,\"ticks\":\"\"}}],\"contour\":[{\"type\":\"contour\",\"colorbar\":{\"outlinewidth\":0,\"ticks\":\"\"},\"colorscale\":[[0.0,\"#0d0887\"],[0.1111111111111111,\"#46039f\"],[0.2222222222222222,\"#7201a8\"],[0.3333333333333333,\"#9c179e\"],[0.4444444444444444,\"#bd3786\"],[0.5555555555555556,\"#d8576b\"],[0.6666666666666666,\"#ed7953\"],[0.7777777777777778,\"#fb9f3a\"],[0.8888888888888888,\"#fdca26\"],[1.0,\"#f0f921\"]]}],\"surface\":[{\"type\":\"surface\",\"colorbar\":{\"outlinewidth\":0,\"ticks\":\"\"},\"colorscale\":[[0.0,\"#0d0887\"],[0.1111111111111111,\"#46039f\"],[0.2222222222222222,\"#7201a8\"],[0.3333333333333333,\"#9c179e\"],[0.4444444444444444,\"#bd3786\"],[0.5555555555555556,\"#d8576b\"],[0.6666666666666666,\"#ed7953\"],[0.7777777777777778,\"#fb9f3a\"],[0.8888888888888888,\"#fdca26\"],[1.0,\"#f0f921\"]]}],\"mesh3d\":[{\"type\":\"mesh3d\",\"colorbar\":{\"outlinewidth\":0,\"ticks\":\"\"}}],\"scatter\":[{\"fillpattern\":{\"fillmode\":\"overlay\",\"size\":10,\"solidity\":0.2},\"type\":\"scatter\"}],\"parcoords\":[{\"type\":\"parcoords\",\"line\":{\"colorbar\":{\"outlinewidth\":0,\"ticks\":\"\"}}}],\"scatterpolargl\":[{\"type\":\"scatterpolargl\",\"marker\":{\"colorbar\":{\"outlinewidth\":0,\"ticks\":\"\"}}}],\"bar\":[{\"error_x\":{\"color\":\"#2a3f5f\"},\"error_y\":{\"color\":\"#2a3f5f\"},\"marker\":{\"line\":{\"color\":\"#E5ECF6\",\"width\":0.5},\"pattern\":{\"fillmode\":\"overlay\",\"size\":10,\"solidity\":0.2}},\"type\":\"bar\"}],\"scattergeo\":[{\"type\":\"scattergeo\",\"marker\":{\"colorbar\":{\"outlinewidth\":0,\"ticks\":\"\"}}}],\"scatterpolar\":[{\"type\":\"scatterpolar\",\"marker\":{\"colorbar\":{\"outlinewidth\":0,\"ticks\":\"\"}}}],\"histogram\":[{\"marker\":{\"pattern\":{\"fillmode\":\"overlay\",\"size\":10,\"solidity\":0.2}},\"type\":\"histogram\"}],\"scattergl\":[{\"type\":\"scattergl\",\"marker\":{\"colorbar\":{\"outlinewidth\":0,\"ticks\":\"\"}}}],\"scatter3d\":[{\"type\":\"scatter3d\",\"line\":{\"colorbar\":{\"outlinewidth\":0,\"ticks\":\"\"}},\"marker\":{\"colorbar\":{\"outlinewidth\":0,\"ticks\":\"\"}}}],\"scattermapbox\":[{\"type\":\"scattermapbox\",\"marker\":{\"colorbar\":{\"outlinewidth\":0,\"ticks\":\"\"}}}],\"scatterternary\":[{\"type\":\"scatterternary\",\"marker\":{\"colorbar\":{\"outlinewidth\":0,\"ticks\":\"\"}}}],\"scattercarpet\":[{\"type\":\"scattercarpet\",\"marker\":{\"colorbar\":{\"outlinewidth\":0,\"ticks\":\"\"}}}],\"carpet\":[{\"aaxis\":{\"endlinecolor\":\"#2a3f5f\",\"gridcolor\":\"white\",\"linecolor\":\"white\",\"minorgridcolor\":\"white\",\"startlinecolor\":\"#2a3f5f\"},\"baxis\":{\"endlinecolor\":\"#2a3f5f\",\"gridcolor\":\"white\",\"linecolor\":\"white\",\"minorgridcolor\":\"white\",\"startlinecolor\":\"#2a3f5f\"},\"type\":\"carpet\"}],\"table\":[{\"cells\":{\"fill\":{\"color\":\"#EBF0F8\"},\"line\":{\"color\":\"white\"}},\"header\":{\"fill\":{\"color\":\"#C8D4E3\"},\"line\":{\"color\":\"white\"}},\"type\":\"table\"}],\"barpolar\":[{\"marker\":{\"line\":{\"color\":\"#E5ECF6\",\"width\":0.5},\"pattern\":{\"fillmode\":\"overlay\",\"size\":10,\"solidity\":0.2}},\"type\":\"barpolar\"}],\"pie\":[{\"automargin\":true,\"type\":\"pie\"}]},\"layout\":{\"autotypenumbers\":\"strict\",\"colorway\":[\"#636efa\",\"#EF553B\",\"#00cc96\",\"#ab63fa\",\"#FFA15A\",\"#19d3f3\",\"#FF6692\",\"#B6E880\",\"#FF97FF\",\"#FECB52\"],\"font\":{\"color\":\"#2a3f5f\"},\"hovermode\":\"closest\",\"hoverlabel\":{\"align\":\"left\"},\"paper_bgcolor\":\"white\",\"plot_bgcolor\":\"#E5ECF6\",\"polar\":{\"bgcolor\":\"#E5ECF6\",\"angularaxis\":{\"gridcolor\":\"white\",\"linecolor\":\"white\",\"ticks\":\"\"},\"radialaxis\":{\"gridcolor\":\"white\",\"linecolor\":\"white\",\"ticks\":\"\"}},\"ternary\":{\"bgcolor\":\"#E5ECF6\",\"aaxis\":{\"gridcolor\":\"white\",\"linecolor\":\"white\",\"ticks\":\"\"},\"baxis\":{\"gridcolor\":\"white\",\"linecolor\":\"white\",\"ticks\":\"\"},\"caxis\":{\"gridcolor\":\"white\",\"linecolor\":\"white\",\"ticks\":\"\"}},\"coloraxis\":{\"colorbar\":{\"outlinewidth\":0,\"ticks\":\"\"}},\"colorscale\":{\"sequential\":[[0.0,\"#0d0887\"],[0.1111111111111111,\"#46039f\"],[0.2222222222222222,\"#7201a8\"],[0.3333333333333333,\"#9c179e\"],[0.4444444444444444,\"#bd3786\"],[0.5555555555555556,\"#d8576b\"],[0.6666666666666666,\"#ed7953\"],[0.7777777777777778,\"#fb9f3a\"],[0.8888888888888888,\"#fdca26\"],[1.0,\"#f0f921\"]],\"sequentialminus\":[[0.0,\"#0d0887\"],[0.1111111111111111,\"#46039f\"],[0.2222222222222222,\"#7201a8\"],[0.3333333333333333,\"#9c179e\"],[0.4444444444444444,\"#bd3786\"],[0.5555555555555556,\"#d8576b\"],[0.6666666666666666,\"#ed7953\"],[0.7777777777777778,\"#fb9f3a\"],[0.8888888888888888,\"#fdca26\"],[1.0,\"#f0f921\"]],\"diverging\":[[0,\"#8e0152\"],[0.1,\"#c51b7d\"],[0.2,\"#de77ae\"],[0.3,\"#f1b6da\"],[0.4,\"#fde0ef\"],[0.5,\"#f7f7f7\"],[0.6,\"#e6f5d0\"],[0.7,\"#b8e186\"],[0.8,\"#7fbc41\"],[0.9,\"#4d9221\"],[1,\"#276419\"]]},\"xaxis\":{\"gridcolor\":\"white\",\"linecolor\":\"white\",\"ticks\":\"\",\"title\":{\"standoff\":15},\"zerolinecolor\":\"white\",\"automargin\":true,\"zerolinewidth\":2},\"yaxis\":{\"gridcolor\":\"white\",\"linecolor\":\"white\",\"ticks\":\"\",\"title\":{\"standoff\":15},\"zerolinecolor\":\"white\",\"automargin\":true,\"zerolinewidth\":2},\"scene\":{\"xaxis\":{\"backgroundcolor\":\"#E5ECF6\",\"gridcolor\":\"white\",\"linecolor\":\"white\",\"showbackground\":true,\"ticks\":\"\",\"zerolinecolor\":\"white\",\"gridwidth\":2},\"yaxis\":{\"backgroundcolor\":\"#E5ECF6\",\"gridcolor\":\"white\",\"linecolor\":\"white\",\"showbackground\":true,\"ticks\":\"\",\"zerolinecolor\":\"white\",\"gridwidth\":2},\"zaxis\":{\"backgroundcolor\":\"#E5ECF6\",\"gridcolor\":\"white\",\"linecolor\":\"white\",\"showbackground\":true,\"ticks\":\"\",\"zerolinecolor\":\"white\",\"gridwidth\":2}},\"shapedefaults\":{\"line\":{\"color\":\"#2a3f5f\"}},\"annotationdefaults\":{\"arrowcolor\":\"#2a3f5f\",\"arrowhead\":0,\"arrowwidth\":1},\"geo\":{\"bgcolor\":\"white\",\"landcolor\":\"#E5ECF6\",\"subunitcolor\":\"white\",\"showland\":true,\"showlakes\":true,\"lakecolor\":\"white\"},\"title\":{\"x\":0.05},\"mapbox\":{\"style\":\"light\"}}},\"xaxis\":{\"anchor\":\"y\",\"domain\":[0.0,0.45],\"tickangle\":45},\"yaxis\":{\"anchor\":\"x\",\"domain\":[0.0,1.0]},\"xaxis2\":{\"anchor\":\"y2\",\"domain\":[0.55,1.0],\"tickangle\":45},\"yaxis2\":{\"anchor\":\"x2\",\"domain\":[0.0,1.0]},\"annotations\":[{\"font\":{\"size\":16},\"showarrow\":false,\"text\":\"Distribución de Amount por Pais\",\"x\":0.225,\"xanchor\":\"center\",\"xref\":\"paper\",\"y\":1.0,\"yanchor\":\"bottom\",\"yref\":\"paper\"},{\"font\":{\"size\":16},\"showarrow\":false,\"text\":\"Distribución de Amount por Submarca\",\"x\":0.775,\"xanchor\":\"center\",\"xref\":\"paper\",\"y\":1.0,\"yanchor\":\"bottom\",\"yref\":\"paper\"}],\"title\":{\"text\":\"Distribución de Amount por Pais y Bubmarca\"},\"width\":1000,\"height\":600,\"showlegend\":false},                        {\"responsive\": true}                    ).then(function(){\n",
              "                            \n",
              "var gd = document.getElementById('4ba99e3a-5061-4649-a898-07bb1c909a2b');\n",
              "var x = new MutationObserver(function (mutations, observer) {{\n",
              "        var display = window.getComputedStyle(gd).display;\n",
              "        if (!display || display === 'none') {{\n",
              "            console.log([gd, 'removed!']);\n",
              "            Plotly.purge(gd);\n",
              "            observer.disconnect();\n",
              "        }}\n",
              "}});\n",
              "\n",
              "// Listen for the removal of the full notebook cells\n",
              "var notebookContainer = gd.closest('#notebook-container');\n",
              "if (notebookContainer) {{\n",
              "    x.observe(notebookContainer, {childList: true});\n",
              "}}\n",
              "\n",
              "// Listen for the clearing of the current output cell\n",
              "var outputEl = gd.closest('.output');\n",
              "if (outputEl) {{\n",
              "    x.observe(outputEl, {childList: true});\n",
              "}}\n",
              "\n",
              "                        })                };                            </script>        </div>\n",
              "</body>\n",
              "</html>"
            ]
          },
          "metadata": {}
        }
      ]
    },
    {
      "cell_type": "markdown",
      "source": [
        "### **Distirbución de meses y años**"
      ],
      "metadata": {
        "id": "vsyAyn267zqY"
      }
    },
    {
      "cell_type": "code",
      "source": [
        "# Agrupar los datos por mes/año y marca, sumando la cantidad\n",
        "df_grouped = df_actual.groupby([\"Fecha\", \"SUBBRAND\"])[\"AMOUNT\"].sum().reset_index()\n",
        "\n",
        "# Crear el histograma\n",
        "fig = px.bar(df_grouped, x=\"Fecha\", y=\"AMOUNT\", color=\"SUBBRAND\", title=\"Cantidad por Marca en cada Mes y Año\",\n",
        "             labels={\"Fecha\": \"Fecha\", \"AMOUNT\": \"Cantidad\", \"SUBBRAND\": \"Marca\"})\n",
        "\n",
        "# Ajustar el diseño para una mejor visualización\n",
        "fig.update_layout(\n",
        "    xaxis=dict(tickangle=45),  # Rotar etiquetas para legibilidad\n",
        "    barmode='stack'            # Apilar las barras para ver el total por mes/año\n",
        ")\n",
        "\n",
        "# Mostrar la gráfica\n",
        "fig.show()"
      ],
      "metadata": {
        "colab": {
          "base_uri": "https://localhost:8080/",
          "height": 542
        },
        "id": "sJg3OyHyW9Ts",
        "outputId": "9df81119-f4d4-4df9-e56a-6d66b427275e"
      },
      "execution_count": 501,
      "outputs": [
        {
          "output_type": "display_data",
          "data": {
            "text/html": [
              "<html>\n",
              "<head><meta charset=\"utf-8\" /></head>\n",
              "<body>\n",
              "    <div>            <script src=\"https://cdnjs.cloudflare.com/ajax/libs/mathjax/2.7.5/MathJax.js?config=TeX-AMS-MML_SVG\"></script><script type=\"text/javascript\">if (window.MathJax && window.MathJax.Hub && window.MathJax.Hub.Config) {window.MathJax.Hub.Config({SVG: {font: \"STIX-Web\"}});}</script>                <script type=\"text/javascript\">window.PlotlyConfig = {MathJaxConfig: 'local'};</script>\n",
              "        <script charset=\"utf-8\" src=\"https://cdn.plot.ly/plotly-2.35.2.min.js\"></script>                <div id=\"d32356b1-cb28-44d0-b64f-fbc305ef97a8\" class=\"plotly-graph-div\" style=\"height:525px; width:100%;\"></div>            <script type=\"text/javascript\">                                    window.PLOTLYENV=window.PLOTLYENV || {};                                    if (document.getElementById(\"d32356b1-cb28-44d0-b64f-fbc305ef97a8\")) {                    Plotly.newPlot(                        \"d32356b1-cb28-44d0-b64f-fbc305ef97a8\",                        [{\"alignmentgroup\":\"True\",\"hovertemplate\":\"Marca=7up (L3)\\u003cbr\\u003eFecha=%{x}\\u003cbr\\u003eCantidad=%{y}\\u003cextra\\u003e\\u003c\\u002fextra\\u003e\",\"legendgroup\":\"7up (L3)\",\"marker\":{\"color\":\"#636efa\",\"pattern\":{\"shape\":\"\"}},\"name\":\"7up (L3)\",\"offsetgroup\":\"7up (L3)\",\"orientation\":\"v\",\"showlegend\":true,\"textposition\":\"auto\",\"x\":[\"2023-01-01T00:00:00\",\"2023-02-01T00:00:00\",\"2023-03-01T00:00:00\",\"2023-04-01T00:00:00\",\"2023-05-01T00:00:00\",\"2023-06-01T00:00:00\",\"2023-07-01T00:00:00\",\"2023-08-01T00:00:00\",\"2023-09-01T00:00:00\",\"2023-10-01T00:00:00\",\"2023-11-01T00:00:00\",\"2023-12-01T00:00:00\",\"2024-01-01T00:00:00\",\"2024-02-01T00:00:00\",\"2024-03-01T00:00:00\",\"2024-04-01T00:00:00\",\"2024-05-01T00:00:00\",\"2024-06-01T00:00:00\",\"2024-07-01T00:00:00\",\"2024-08-01T00:00:00\"],\"xaxis\":\"x\",\"y\":[676485.8808901538,677979.8859481659,815045.975090699,830364.1891730113,1026851.9686253266,1161781.7035455396,1251031.7751063732,1225903.2549111326,981467.3603742084,879659.5328344593,777779.6883914042,893276.6010596864,777844.3326528851,774341.5467820334,818093.2766178242,847587.4091484506,1006827.196360769,980115.2216754771,1064825.429684474,1159361.663702068],\"yaxis\":\"y\",\"type\":\"bar\"},{\"alignmentgroup\":\"True\",\"hovertemplate\":\"Marca=7up Free (L3)\\u003cbr\\u003eFecha=%{x}\\u003cbr\\u003eCantidad=%{y}\\u003cextra\\u003e\\u003c\\u002fextra\\u003e\",\"legendgroup\":\"7up Free (L3)\",\"marker\":{\"color\":\"#EF553B\",\"pattern\":{\"shape\":\"\"}},\"name\":\"7up Free (L3)\",\"offsetgroup\":\"7up Free (L3)\",\"orientation\":\"v\",\"showlegend\":true,\"textposition\":\"auto\",\"x\":[\"2023-01-01T00:00:00\",\"2023-02-01T00:00:00\",\"2023-03-01T00:00:00\",\"2023-04-01T00:00:00\",\"2023-05-01T00:00:00\",\"2023-06-01T00:00:00\",\"2023-07-01T00:00:00\",\"2023-08-01T00:00:00\",\"2023-09-01T00:00:00\",\"2023-10-01T00:00:00\",\"2023-11-01T00:00:00\",\"2023-12-01T00:00:00\",\"2024-01-01T00:00:00\",\"2024-02-01T00:00:00\",\"2024-03-01T00:00:00\",\"2024-04-01T00:00:00\",\"2024-05-01T00:00:00\",\"2024-06-01T00:00:00\",\"2024-07-01T00:00:00\",\"2024-08-01T00:00:00\"],\"xaxis\":\"x\",\"y\":[1308114.5062098019,1320526.1988122833,1704413.9577450813,1603991.817444716,1843327.4474267715,2004753.2178505387,2171817.7187261805,1924541.2194017214,1780355.366576719,1618881.7587554858,1485241.659515612,1555995.8722110486,1337362.7602403965,1267755.1736390388,1610298.5858033998,1712813.5616556644,1842466.510799349,1916182.315386081,2049339.5558917369,2218119.746271655],\"yaxis\":\"y\",\"type\":\"bar\"},{\"alignmentgroup\":\"True\",\"hovertemplate\":\"Marca=Lipton (L3)\\u003cbr\\u003eFecha=%{x}\\u003cbr\\u003eCantidad=%{y}\\u003cextra\\u003e\\u003c\\u002fextra\\u003e\",\"legendgroup\":\"Lipton (L3)\",\"marker\":{\"color\":\"#00cc96\",\"pattern\":{\"shape\":\"\"}},\"name\":\"Lipton (L3)\",\"offsetgroup\":\"Lipton (L3)\",\"orientation\":\"v\",\"showlegend\":true,\"textposition\":\"auto\",\"x\":[\"2023-01-01T00:00:00\",\"2023-02-01T00:00:00\",\"2023-03-01T00:00:00\",\"2023-04-01T00:00:00\",\"2023-05-01T00:00:00\",\"2023-06-01T00:00:00\",\"2023-07-01T00:00:00\",\"2023-08-01T00:00:00\",\"2023-09-01T00:00:00\",\"2023-10-01T00:00:00\",\"2023-11-01T00:00:00\",\"2023-12-01T00:00:00\",\"2024-01-01T00:00:00\",\"2024-02-01T00:00:00\",\"2024-03-01T00:00:00\",\"2024-04-01T00:00:00\",\"2024-05-01T00:00:00\",\"2024-06-01T00:00:00\",\"2024-07-01T00:00:00\",\"2024-08-01T00:00:00\"],\"xaxis\":\"x\",\"y\":[3399210.150542785,2376874.601100364,4223709.797675991,3198514.4820688893,2982898.6774971294,4849176.337337887,4707863.409251072,4958816.855866179,3005694.039084063,3769645.7465981785,3039813.0404040604,3201538.3511678586,2630998.5533181056,2762493.3851928106,3052657.216276655,3435580.897563793,3770765.408268942,4235007.055152047,4373580.627038523,4828370.300381102],\"yaxis\":\"y\",\"type\":\"bar\"},{\"alignmentgroup\":\"True\",\"hovertemplate\":\"Marca=Mountain Dew (L3)\\u003cbr\\u003eFecha=%{x}\\u003cbr\\u003eCantidad=%{y}\\u003cextra\\u003e\\u003c\\u002fextra\\u003e\",\"legendgroup\":\"Mountain Dew (L3)\",\"marker\":{\"color\":\"#ab63fa\",\"pattern\":{\"shape\":\"\"}},\"name\":\"Mountain Dew (L3)\",\"offsetgroup\":\"Mountain Dew (L3)\",\"orientation\":\"v\",\"showlegend\":true,\"textposition\":\"auto\",\"x\":[\"2023-01-01T00:00:00\",\"2023-02-01T00:00:00\",\"2023-03-01T00:00:00\",\"2023-04-01T00:00:00\",\"2023-05-01T00:00:00\",\"2023-06-01T00:00:00\",\"2023-07-01T00:00:00\",\"2023-08-01T00:00:00\",\"2023-09-01T00:00:00\",\"2023-10-01T00:00:00\",\"2023-11-01T00:00:00\",\"2023-12-01T00:00:00\",\"2024-01-01T00:00:00\",\"2024-02-01T00:00:00\",\"2024-03-01T00:00:00\",\"2024-04-01T00:00:00\",\"2024-05-01T00:00:00\",\"2024-06-01T00:00:00\",\"2024-07-01T00:00:00\",\"2024-08-01T00:00:00\"],\"xaxis\":\"x\",\"y\":[288326.66093707073,273631.52240530314,394356.48700626264,332209.93244245264,495651.9656687249,412288.7645910971,403009.3576703205,380342.58447091636,367751.273872338,336578.9222779723,366421.5605531409,314170.6953021268,295520.4547364268,348896.24361056124,384656.7826551746,370644.07840094966,439523.227758487,405097.773558853,440468.73789211805,424843.93073763803],\"yaxis\":\"y\",\"type\":\"bar\"},{\"alignmentgroup\":\"True\",\"hovertemplate\":\"Marca=Pepsi Max (L3)\\u003cbr\\u003eFecha=%{x}\\u003cbr\\u003eCantidad=%{y}\\u003cextra\\u003e\\u003c\\u002fextra\\u003e\",\"legendgroup\":\"Pepsi Max (L3)\",\"marker\":{\"color\":\"#FFA15A\",\"pattern\":{\"shape\":\"\"}},\"name\":\"Pepsi Max (L3)\",\"offsetgroup\":\"Pepsi Max (L3)\",\"orientation\":\"v\",\"showlegend\":true,\"textposition\":\"auto\",\"x\":[\"2023-01-01T00:00:00\",\"2023-02-01T00:00:00\",\"2023-03-01T00:00:00\",\"2023-04-01T00:00:00\",\"2023-05-01T00:00:00\",\"2023-06-01T00:00:00\",\"2023-07-01T00:00:00\",\"2023-08-01T00:00:00\",\"2023-09-01T00:00:00\",\"2023-10-01T00:00:00\",\"2023-11-01T00:00:00\",\"2023-12-01T00:00:00\",\"2024-01-01T00:00:00\",\"2024-02-01T00:00:00\",\"2024-03-01T00:00:00\",\"2024-04-01T00:00:00\",\"2024-05-01T00:00:00\",\"2024-06-01T00:00:00\",\"2024-07-01T00:00:00\",\"2024-08-01T00:00:00\"],\"xaxis\":\"x\",\"y\":[14856548.128605945,15463315.967256768,20873551.914991353,17934944.15249419,22325446.036569193,21328548.8814003,18368657.109468464,21608180.963240135,19652280.39006432,18626907.831478518,20722021.60754396,21701863.908770297,15624249.97952067,18256940.63911945,21254343.204710368,20238337.239872657,23110133.530175477,21238809.837675165,20779660.905810736,22733928.40504956],\"yaxis\":\"y\",\"type\":\"bar\"},{\"alignmentgroup\":\"True\",\"hovertemplate\":\"Marca=Pepsi Regular (L3)\\u003cbr\\u003eFecha=%{x}\\u003cbr\\u003eCantidad=%{y}\\u003cextra\\u003e\\u003c\\u002fextra\\u003e\",\"legendgroup\":\"Pepsi Regular (L3)\",\"marker\":{\"color\":\"#19d3f3\",\"pattern\":{\"shape\":\"\"}},\"name\":\"Pepsi Regular (L3)\",\"offsetgroup\":\"Pepsi Regular (L3)\",\"orientation\":\"v\",\"showlegend\":true,\"textposition\":\"auto\",\"x\":[\"2023-01-01T00:00:00\",\"2023-02-01T00:00:00\",\"2023-03-01T00:00:00\",\"2023-04-01T00:00:00\",\"2023-05-01T00:00:00\",\"2023-06-01T00:00:00\",\"2023-07-01T00:00:00\",\"2023-08-01T00:00:00\",\"2023-09-01T00:00:00\",\"2023-10-01T00:00:00\",\"2023-11-01T00:00:00\",\"2023-12-01T00:00:00\",\"2024-01-01T00:00:00\",\"2024-02-01T00:00:00\",\"2024-03-01T00:00:00\",\"2024-04-01T00:00:00\",\"2024-05-01T00:00:00\",\"2024-06-01T00:00:00\",\"2024-07-01T00:00:00\",\"2024-08-01T00:00:00\"],\"xaxis\":\"x\",\"y\":[7495474.1763118785,5960531.399477292,7884536.9410116365,6942384.434413514,8218410.920301037,7827363.267069736,7127141.995042373,7826835.663979451,6380214.847097808,6200069.116219806,6523773.345204347,7161683.832293537,6221301.429466267,6479530.248697774,7377612.469294943,7093978.736550224,6602920.177329828,6305799.601206019,7008687.484501916,7192412.70237332],\"yaxis\":\"y\",\"type\":\"bar\"}],                        {\"template\":{\"data\":{\"histogram2dcontour\":[{\"type\":\"histogram2dcontour\",\"colorbar\":{\"outlinewidth\":0,\"ticks\":\"\"},\"colorscale\":[[0.0,\"#0d0887\"],[0.1111111111111111,\"#46039f\"],[0.2222222222222222,\"#7201a8\"],[0.3333333333333333,\"#9c179e\"],[0.4444444444444444,\"#bd3786\"],[0.5555555555555556,\"#d8576b\"],[0.6666666666666666,\"#ed7953\"],[0.7777777777777778,\"#fb9f3a\"],[0.8888888888888888,\"#fdca26\"],[1.0,\"#f0f921\"]]}],\"choropleth\":[{\"type\":\"choropleth\",\"colorbar\":{\"outlinewidth\":0,\"ticks\":\"\"}}],\"histogram2d\":[{\"type\":\"histogram2d\",\"colorbar\":{\"outlinewidth\":0,\"ticks\":\"\"},\"colorscale\":[[0.0,\"#0d0887\"],[0.1111111111111111,\"#46039f\"],[0.2222222222222222,\"#7201a8\"],[0.3333333333333333,\"#9c179e\"],[0.4444444444444444,\"#bd3786\"],[0.5555555555555556,\"#d8576b\"],[0.6666666666666666,\"#ed7953\"],[0.7777777777777778,\"#fb9f3a\"],[0.8888888888888888,\"#fdca26\"],[1.0,\"#f0f921\"]]}],\"heatmap\":[{\"type\":\"heatmap\",\"colorbar\":{\"outlinewidth\":0,\"ticks\":\"\"},\"colorscale\":[[0.0,\"#0d0887\"],[0.1111111111111111,\"#46039f\"],[0.2222222222222222,\"#7201a8\"],[0.3333333333333333,\"#9c179e\"],[0.4444444444444444,\"#bd3786\"],[0.5555555555555556,\"#d8576b\"],[0.6666666666666666,\"#ed7953\"],[0.7777777777777778,\"#fb9f3a\"],[0.8888888888888888,\"#fdca26\"],[1.0,\"#f0f921\"]]}],\"heatmapgl\":[{\"type\":\"heatmapgl\",\"colorbar\":{\"outlinewidth\":0,\"ticks\":\"\"},\"colorscale\":[[0.0,\"#0d0887\"],[0.1111111111111111,\"#46039f\"],[0.2222222222222222,\"#7201a8\"],[0.3333333333333333,\"#9c179e\"],[0.4444444444444444,\"#bd3786\"],[0.5555555555555556,\"#d8576b\"],[0.6666666666666666,\"#ed7953\"],[0.7777777777777778,\"#fb9f3a\"],[0.8888888888888888,\"#fdca26\"],[1.0,\"#f0f921\"]]}],\"contourcarpet\":[{\"type\":\"contourcarpet\",\"colorbar\":{\"outlinewidth\":0,\"ticks\":\"\"}}],\"contour\":[{\"type\":\"contour\",\"colorbar\":{\"outlinewidth\":0,\"ticks\":\"\"},\"colorscale\":[[0.0,\"#0d0887\"],[0.1111111111111111,\"#46039f\"],[0.2222222222222222,\"#7201a8\"],[0.3333333333333333,\"#9c179e\"],[0.4444444444444444,\"#bd3786\"],[0.5555555555555556,\"#d8576b\"],[0.6666666666666666,\"#ed7953\"],[0.7777777777777778,\"#fb9f3a\"],[0.8888888888888888,\"#fdca26\"],[1.0,\"#f0f921\"]]}],\"surface\":[{\"type\":\"surface\",\"colorbar\":{\"outlinewidth\":0,\"ticks\":\"\"},\"colorscale\":[[0.0,\"#0d0887\"],[0.1111111111111111,\"#46039f\"],[0.2222222222222222,\"#7201a8\"],[0.3333333333333333,\"#9c179e\"],[0.4444444444444444,\"#bd3786\"],[0.5555555555555556,\"#d8576b\"],[0.6666666666666666,\"#ed7953\"],[0.7777777777777778,\"#fb9f3a\"],[0.8888888888888888,\"#fdca26\"],[1.0,\"#f0f921\"]]}],\"mesh3d\":[{\"type\":\"mesh3d\",\"colorbar\":{\"outlinewidth\":0,\"ticks\":\"\"}}],\"scatter\":[{\"fillpattern\":{\"fillmode\":\"overlay\",\"size\":10,\"solidity\":0.2},\"type\":\"scatter\"}],\"parcoords\":[{\"type\":\"parcoords\",\"line\":{\"colorbar\":{\"outlinewidth\":0,\"ticks\":\"\"}}}],\"scatterpolargl\":[{\"type\":\"scatterpolargl\",\"marker\":{\"colorbar\":{\"outlinewidth\":0,\"ticks\":\"\"}}}],\"bar\":[{\"error_x\":{\"color\":\"#2a3f5f\"},\"error_y\":{\"color\":\"#2a3f5f\"},\"marker\":{\"line\":{\"color\":\"#E5ECF6\",\"width\":0.5},\"pattern\":{\"fillmode\":\"overlay\",\"size\":10,\"solidity\":0.2}},\"type\":\"bar\"}],\"scattergeo\":[{\"type\":\"scattergeo\",\"marker\":{\"colorbar\":{\"outlinewidth\":0,\"ticks\":\"\"}}}],\"scatterpolar\":[{\"type\":\"scatterpolar\",\"marker\":{\"colorbar\":{\"outlinewidth\":0,\"ticks\":\"\"}}}],\"histogram\":[{\"marker\":{\"pattern\":{\"fillmode\":\"overlay\",\"size\":10,\"solidity\":0.2}},\"type\":\"histogram\"}],\"scattergl\":[{\"type\":\"scattergl\",\"marker\":{\"colorbar\":{\"outlinewidth\":0,\"ticks\":\"\"}}}],\"scatter3d\":[{\"type\":\"scatter3d\",\"line\":{\"colorbar\":{\"outlinewidth\":0,\"ticks\":\"\"}},\"marker\":{\"colorbar\":{\"outlinewidth\":0,\"ticks\":\"\"}}}],\"scattermapbox\":[{\"type\":\"scattermapbox\",\"marker\":{\"colorbar\":{\"outlinewidth\":0,\"ticks\":\"\"}}}],\"scatterternary\":[{\"type\":\"scatterternary\",\"marker\":{\"colorbar\":{\"outlinewidth\":0,\"ticks\":\"\"}}}],\"scattercarpet\":[{\"type\":\"scattercarpet\",\"marker\":{\"colorbar\":{\"outlinewidth\":0,\"ticks\":\"\"}}}],\"carpet\":[{\"aaxis\":{\"endlinecolor\":\"#2a3f5f\",\"gridcolor\":\"white\",\"linecolor\":\"white\",\"minorgridcolor\":\"white\",\"startlinecolor\":\"#2a3f5f\"},\"baxis\":{\"endlinecolor\":\"#2a3f5f\",\"gridcolor\":\"white\",\"linecolor\":\"white\",\"minorgridcolor\":\"white\",\"startlinecolor\":\"#2a3f5f\"},\"type\":\"carpet\"}],\"table\":[{\"cells\":{\"fill\":{\"color\":\"#EBF0F8\"},\"line\":{\"color\":\"white\"}},\"header\":{\"fill\":{\"color\":\"#C8D4E3\"},\"line\":{\"color\":\"white\"}},\"type\":\"table\"}],\"barpolar\":[{\"marker\":{\"line\":{\"color\":\"#E5ECF6\",\"width\":0.5},\"pattern\":{\"fillmode\":\"overlay\",\"size\":10,\"solidity\":0.2}},\"type\":\"barpolar\"}],\"pie\":[{\"automargin\":true,\"type\":\"pie\"}]},\"layout\":{\"autotypenumbers\":\"strict\",\"colorway\":[\"#636efa\",\"#EF553B\",\"#00cc96\",\"#ab63fa\",\"#FFA15A\",\"#19d3f3\",\"#FF6692\",\"#B6E880\",\"#FF97FF\",\"#FECB52\"],\"font\":{\"color\":\"#2a3f5f\"},\"hovermode\":\"closest\",\"hoverlabel\":{\"align\":\"left\"},\"paper_bgcolor\":\"white\",\"plot_bgcolor\":\"#E5ECF6\",\"polar\":{\"bgcolor\":\"#E5ECF6\",\"angularaxis\":{\"gridcolor\":\"white\",\"linecolor\":\"white\",\"ticks\":\"\"},\"radialaxis\":{\"gridcolor\":\"white\",\"linecolor\":\"white\",\"ticks\":\"\"}},\"ternary\":{\"bgcolor\":\"#E5ECF6\",\"aaxis\":{\"gridcolor\":\"white\",\"linecolor\":\"white\",\"ticks\":\"\"},\"baxis\":{\"gridcolor\":\"white\",\"linecolor\":\"white\",\"ticks\":\"\"},\"caxis\":{\"gridcolor\":\"white\",\"linecolor\":\"white\",\"ticks\":\"\"}},\"coloraxis\":{\"colorbar\":{\"outlinewidth\":0,\"ticks\":\"\"}},\"colorscale\":{\"sequential\":[[0.0,\"#0d0887\"],[0.1111111111111111,\"#46039f\"],[0.2222222222222222,\"#7201a8\"],[0.3333333333333333,\"#9c179e\"],[0.4444444444444444,\"#bd3786\"],[0.5555555555555556,\"#d8576b\"],[0.6666666666666666,\"#ed7953\"],[0.7777777777777778,\"#fb9f3a\"],[0.8888888888888888,\"#fdca26\"],[1.0,\"#f0f921\"]],\"sequentialminus\":[[0.0,\"#0d0887\"],[0.1111111111111111,\"#46039f\"],[0.2222222222222222,\"#7201a8\"],[0.3333333333333333,\"#9c179e\"],[0.4444444444444444,\"#bd3786\"],[0.5555555555555556,\"#d8576b\"],[0.6666666666666666,\"#ed7953\"],[0.7777777777777778,\"#fb9f3a\"],[0.8888888888888888,\"#fdca26\"],[1.0,\"#f0f921\"]],\"diverging\":[[0,\"#8e0152\"],[0.1,\"#c51b7d\"],[0.2,\"#de77ae\"],[0.3,\"#f1b6da\"],[0.4,\"#fde0ef\"],[0.5,\"#f7f7f7\"],[0.6,\"#e6f5d0\"],[0.7,\"#b8e186\"],[0.8,\"#7fbc41\"],[0.9,\"#4d9221\"],[1,\"#276419\"]]},\"xaxis\":{\"gridcolor\":\"white\",\"linecolor\":\"white\",\"ticks\":\"\",\"title\":{\"standoff\":15},\"zerolinecolor\":\"white\",\"automargin\":true,\"zerolinewidth\":2},\"yaxis\":{\"gridcolor\":\"white\",\"linecolor\":\"white\",\"ticks\":\"\",\"title\":{\"standoff\":15},\"zerolinecolor\":\"white\",\"automargin\":true,\"zerolinewidth\":2},\"scene\":{\"xaxis\":{\"backgroundcolor\":\"#E5ECF6\",\"gridcolor\":\"white\",\"linecolor\":\"white\",\"showbackground\":true,\"ticks\":\"\",\"zerolinecolor\":\"white\",\"gridwidth\":2},\"yaxis\":{\"backgroundcolor\":\"#E5ECF6\",\"gridcolor\":\"white\",\"linecolor\":\"white\",\"showbackground\":true,\"ticks\":\"\",\"zerolinecolor\":\"white\",\"gridwidth\":2},\"zaxis\":{\"backgroundcolor\":\"#E5ECF6\",\"gridcolor\":\"white\",\"linecolor\":\"white\",\"showbackground\":true,\"ticks\":\"\",\"zerolinecolor\":\"white\",\"gridwidth\":2}},\"shapedefaults\":{\"line\":{\"color\":\"#2a3f5f\"}},\"annotationdefaults\":{\"arrowcolor\":\"#2a3f5f\",\"arrowhead\":0,\"arrowwidth\":1},\"geo\":{\"bgcolor\":\"white\",\"landcolor\":\"#E5ECF6\",\"subunitcolor\":\"white\",\"showland\":true,\"showlakes\":true,\"lakecolor\":\"white\"},\"title\":{\"x\":0.05},\"mapbox\":{\"style\":\"light\"}}},\"xaxis\":{\"anchor\":\"y\",\"domain\":[0.0,1.0],\"title\":{\"text\":\"Fecha\"},\"tickangle\":45},\"yaxis\":{\"anchor\":\"x\",\"domain\":[0.0,1.0],\"title\":{\"text\":\"Cantidad\"}},\"legend\":{\"title\":{\"text\":\"Marca\"},\"tracegroupgap\":0},\"title\":{\"text\":\"Cantidad por Marca en cada Mes y Año\"},\"barmode\":\"stack\"},                        {\"responsive\": true}                    ).then(function(){\n",
              "                            \n",
              "var gd = document.getElementById('d32356b1-cb28-44d0-b64f-fbc305ef97a8');\n",
              "var x = new MutationObserver(function (mutations, observer) {{\n",
              "        var display = window.getComputedStyle(gd).display;\n",
              "        if (!display || display === 'none') {{\n",
              "            console.log([gd, 'removed!']);\n",
              "            Plotly.purge(gd);\n",
              "            observer.disconnect();\n",
              "        }}\n",
              "}});\n",
              "\n",
              "// Listen for the removal of the full notebook cells\n",
              "var notebookContainer = gd.closest('#notebook-container');\n",
              "if (notebookContainer) {{\n",
              "    x.observe(notebookContainer, {childList: true});\n",
              "}}\n",
              "\n",
              "// Listen for the clearing of the current output cell\n",
              "var outputEl = gd.closest('.output');\n",
              "if (outputEl) {{\n",
              "    x.observe(outputEl, {childList: true});\n",
              "}}\n",
              "\n",
              "                        })                };                            </script>        </div>\n",
              "</body>\n",
              "</html>"
            ]
          },
          "metadata": {}
        }
      ]
    },
    {
      "cell_type": "markdown",
      "source": [
        "Observamos que Pepsi Max (L3) (en color naranja) es consistentemente la marca con la mayor cantidad de ventas en la mayoría de los meses, con una contribución significativa al total mensual. Pepsi Regular (L3) (en color azul claro) también mantiene una presencia notable, posicionándose generalmente como la segunda mayor contribuyente en cada mes. Las otras marcas, como 7up (L3), 7up Free (L3), Lipton (L3), y Mountain Dew (L3), muestran contribuciones menores en comparación, con cantidades de ventas más reducidas y menos variabilidad entre los meses.\n",
        "\n",
        "Enero se destaca consistentemente como una época de ventas bajas, mostrando los valores más reducidos en comparación con otros meses del año. Esta tendencia podría asociarse con un período de menor consumo después de las festividades de fin de año, cuando la demanda disminuye.\n",
        "\n",
        "Por otro lado, agosto se presenta como la época alta, con un aumento notable en las ventas totales. Este incremento es evidente en la altura de las barras en comparación con otros meses, reflejando un repunte en el consumo, probablemente debido a las vacaciones de verano y el clima cálido en muchas regiones, que tiende a estimular el consumo de bebidas. Este patrón de baja en enero y alza en agosto se repite en ambos años observados, sugiriendo una estacionalidad consistente en la demanda de estas marcas a lo largo del tiempo.\n"
      ],
      "metadata": {
        "id": "RCnwKWrlZUJS"
      }
    },
    {
      "cell_type": "code",
      "source": [
        "# Agrupar los datos por mes/año y sumar el AMOUNT de todas las marcas\n",
        "df_total = df_actual.groupby(\"Fecha\")[\"AMOUNT\"].sum().reset_index()\n",
        "\n",
        "# Convertir 'Fecha' a formato de fecha y ordenar los datos\n",
        "df_total[\"Fecha\"] = pd.to_datetime(df_total[\"Fecha\"])\n",
        "df_total = df_total.sort_values(\"Fecha\")\n",
        "\n",
        "# Calcular la media móvil de 3 meses para ver la estacionalidad general\n",
        "df_total[\"Moving_Avg\"] = df_total[\"AMOUNT\"].rolling(window=3, min_periods=1).mean()\n",
        "\n",
        "# Crear el gráfico de barras con la suma total por mes/año\n",
        "fig = px.bar(df_total, x=\"Fecha\", y=\"AMOUNT\", title=\"Cantidad Total por Mes y Año con Estacionalidad\",\n",
        "             labels={\"Fecha\": \"Fecha\", \"AMOUNT\": \"Ventas total\"})\n",
        "\n",
        "# Añadir la línea de estacionalidad general\n",
        "fig.add_trace(go.Scatter(\n",
        "    x=df_total[\"Fecha\"],\n",
        "    y=df_total[\"Moving_Avg\"],\n",
        "    mode='lines',\n",
        "    name=\"Estacionalidad Total\",\n",
        "    line=dict(color=\"black\", width=2)  # Ajusta el color y ancho de la línea si lo deseas\n",
        "))\n",
        "\n",
        "# Filtrar todos los puntos de agosto y febrero\n",
        "august_points = df_total[df_total[\"Fecha\"].dt.month == 8]\n",
        "february_points = df_total[df_total[\"Fecha\"].dt.month == 2]\n",
        "\n",
        "# Añadir puntos máximos en agosto con una única entrada en la leyenda\n",
        "fig.add_trace(go.Scatter(\n",
        "    x=august_points[\"Fecha\"],\n",
        "    y=august_points[\"Moving_Avg\"],\n",
        "    mode='markers+text',\n",
        "    name=\"Agosto\",\n",
        "    marker=dict(color=\"blue\", size=10),\n",
        "    text=[\"Máximo\"] * len(august_points),\n",
        "    textposition=\"top center\"\n",
        "))\n",
        "\n",
        "# Añadir puntos mínimos en febrero con una única entrada en la leyenda\n",
        "fig.add_trace(go.Scatter(\n",
        "    x=february_points[\"Fecha\"],\n",
        "    y=february_points[\"Moving_Avg\"],\n",
        "    mode='markers+text',\n",
        "    name=\"Febrero\",\n",
        "    marker=dict(color=\"green\", size=10),\n",
        "    text=[\"Mínimo\"] * len(february_points),\n",
        "    textposition=\"top center\"\n",
        "))\n",
        "\n",
        "# Ajustar el diseño para una mejor visualización\n",
        "fig.update_layout(\n",
        "    xaxis=dict(tickangle=45),  # Rotar etiquetas para legibilidad\n",
        ")\n",
        "\n",
        "# Mostrar la gráfica\n",
        "fig.show()"
      ],
      "metadata": {
        "colab": {
          "base_uri": "https://localhost:8080/",
          "height": 542
        },
        "id": "7L2yxlJKaCjT",
        "outputId": "0d8d5dc9-7233-46b3-84e7-8a9c230acf39"
      },
      "execution_count": 502,
      "outputs": [
        {
          "output_type": "display_data",
          "data": {
            "text/html": [
              "<html>\n",
              "<head><meta charset=\"utf-8\" /></head>\n",
              "<body>\n",
              "    <div>            <script src=\"https://cdnjs.cloudflare.com/ajax/libs/mathjax/2.7.5/MathJax.js?config=TeX-AMS-MML_SVG\"></script><script type=\"text/javascript\">if (window.MathJax && window.MathJax.Hub && window.MathJax.Hub.Config) {window.MathJax.Hub.Config({SVG: {font: \"STIX-Web\"}});}</script>                <script type=\"text/javascript\">window.PlotlyConfig = {MathJaxConfig: 'local'};</script>\n",
              "        <script charset=\"utf-8\" src=\"https://cdn.plot.ly/plotly-2.35.2.min.js\"></script>                <div id=\"96a02d4b-04f0-4694-badf-fd0720a4985e\" class=\"plotly-graph-div\" style=\"height:525px; width:100%;\"></div>            <script type=\"text/javascript\">                                    window.PLOTLYENV=window.PLOTLYENV || {};                                    if (document.getElementById(\"96a02d4b-04f0-4694-badf-fd0720a4985e\")) {                    Plotly.newPlot(                        \"96a02d4b-04f0-4694-badf-fd0720a4985e\",                        [{\"alignmentgroup\":\"True\",\"hovertemplate\":\"Fecha=%{x}\\u003cbr\\u003eVentas total=%{y}\\u003cextra\\u003e\\u003c\\u002fextra\\u003e\",\"legendgroup\":\"\",\"marker\":{\"color\":\"#636efa\",\"pattern\":{\"shape\":\"\"}},\"name\":\"\",\"offsetgroup\":\"\",\"orientation\":\"v\",\"showlegend\":false,\"textposition\":\"auto\",\"x\":[\"2023-01-01T00:00:00\",\"2023-02-01T00:00:00\",\"2023-03-01T00:00:00\",\"2023-04-01T00:00:00\",\"2023-05-01T00:00:00\",\"2023-06-01T00:00:00\",\"2023-07-01T00:00:00\",\"2023-08-01T00:00:00\",\"2023-09-01T00:00:00\",\"2023-10-01T00:00:00\",\"2023-11-01T00:00:00\",\"2023-12-01T00:00:00\",\"2024-01-01T00:00:00\",\"2024-02-01T00:00:00\",\"2024-03-01T00:00:00\",\"2024-04-01T00:00:00\",\"2024-05-01T00:00:00\",\"2024-06-01T00:00:00\",\"2024-07-01T00:00:00\",\"2024-08-01T00:00:00\"],\"xaxis\":\"x\",\"y\":[28024159.503497634,26072859.575000174,35895615.073521025,30842409.00803677,36892587.01608818,37583912.17179509,34029521.36526478,37924620.541869536,32167763.277069457,31431742.90816442,32915050.901612524,34828529.26080456,26887277.50993475,29889957.237041667,34497661.53535836,33698941.92319174,36772636.05069285,35081011.804653645,35716562.74081951,38557036.74851534],\"yaxis\":\"y\",\"type\":\"bar\"},{\"line\":{\"color\":\"black\",\"width\":2},\"mode\":\"lines\",\"name\":\"Estacionalidad Total\",\"x\":[\"2023-01-01T00:00:00\",\"2023-02-01T00:00:00\",\"2023-03-01T00:00:00\",\"2023-04-01T00:00:00\",\"2023-05-01T00:00:00\",\"2023-06-01T00:00:00\",\"2023-07-01T00:00:00\",\"2023-08-01T00:00:00\",\"2023-09-01T00:00:00\",\"2023-10-01T00:00:00\",\"2023-11-01T00:00:00\",\"2023-12-01T00:00:00\",\"2024-01-01T00:00:00\",\"2024-02-01T00:00:00\",\"2024-03-01T00:00:00\",\"2024-04-01T00:00:00\",\"2024-05-01T00:00:00\",\"2024-06-01T00:00:00\",\"2024-07-01T00:00:00\",\"2024-08-01T00:00:00\"],\"y\":[28024159.503497634,27048509.539248906,29997544.71733961,30936961.218852658,34543537.03254866,35106302.73197335,36168673.51771602,36512684.69297647,34707301.72806793,33841375.57570114,32171519.0289488,33058441.023527164,31543619.22411728,30535254.669260323,30424965.42744493,32695520.231863927,34989746.50308099,35184196.59284609,35856736.86538867,36451537.09799617],\"type\":\"scatter\"},{\"marker\":{\"color\":\"blue\",\"size\":10},\"mode\":\"markers+text\",\"name\":\"Agosto\",\"text\":[\"Máximo\",\"Máximo\"],\"textposition\":\"top center\",\"x\":[\"2023-08-01T00:00:00\",\"2024-08-01T00:00:00\"],\"y\":[36512684.69297647,36451537.09799617],\"type\":\"scatter\"},{\"marker\":{\"color\":\"green\",\"size\":10},\"mode\":\"markers+text\",\"name\":\"Febrero\",\"text\":[\"Mínimo\",\"Mínimo\"],\"textposition\":\"top center\",\"x\":[\"2023-02-01T00:00:00\",\"2024-02-01T00:00:00\"],\"y\":[27048509.539248906,30535254.669260323],\"type\":\"scatter\"}],                        {\"template\":{\"data\":{\"histogram2dcontour\":[{\"type\":\"histogram2dcontour\",\"colorbar\":{\"outlinewidth\":0,\"ticks\":\"\"},\"colorscale\":[[0.0,\"#0d0887\"],[0.1111111111111111,\"#46039f\"],[0.2222222222222222,\"#7201a8\"],[0.3333333333333333,\"#9c179e\"],[0.4444444444444444,\"#bd3786\"],[0.5555555555555556,\"#d8576b\"],[0.6666666666666666,\"#ed7953\"],[0.7777777777777778,\"#fb9f3a\"],[0.8888888888888888,\"#fdca26\"],[1.0,\"#f0f921\"]]}],\"choropleth\":[{\"type\":\"choropleth\",\"colorbar\":{\"outlinewidth\":0,\"ticks\":\"\"}}],\"histogram2d\":[{\"type\":\"histogram2d\",\"colorbar\":{\"outlinewidth\":0,\"ticks\":\"\"},\"colorscale\":[[0.0,\"#0d0887\"],[0.1111111111111111,\"#46039f\"],[0.2222222222222222,\"#7201a8\"],[0.3333333333333333,\"#9c179e\"],[0.4444444444444444,\"#bd3786\"],[0.5555555555555556,\"#d8576b\"],[0.6666666666666666,\"#ed7953\"],[0.7777777777777778,\"#fb9f3a\"],[0.8888888888888888,\"#fdca26\"],[1.0,\"#f0f921\"]]}],\"heatmap\":[{\"type\":\"heatmap\",\"colorbar\":{\"outlinewidth\":0,\"ticks\":\"\"},\"colorscale\":[[0.0,\"#0d0887\"],[0.1111111111111111,\"#46039f\"],[0.2222222222222222,\"#7201a8\"],[0.3333333333333333,\"#9c179e\"],[0.4444444444444444,\"#bd3786\"],[0.5555555555555556,\"#d8576b\"],[0.6666666666666666,\"#ed7953\"],[0.7777777777777778,\"#fb9f3a\"],[0.8888888888888888,\"#fdca26\"],[1.0,\"#f0f921\"]]}],\"heatmapgl\":[{\"type\":\"heatmapgl\",\"colorbar\":{\"outlinewidth\":0,\"ticks\":\"\"},\"colorscale\":[[0.0,\"#0d0887\"],[0.1111111111111111,\"#46039f\"],[0.2222222222222222,\"#7201a8\"],[0.3333333333333333,\"#9c179e\"],[0.4444444444444444,\"#bd3786\"],[0.5555555555555556,\"#d8576b\"],[0.6666666666666666,\"#ed7953\"],[0.7777777777777778,\"#fb9f3a\"],[0.8888888888888888,\"#fdca26\"],[1.0,\"#f0f921\"]]}],\"contourcarpet\":[{\"type\":\"contourcarpet\",\"colorbar\":{\"outlinewidth\":0,\"ticks\":\"\"}}],\"contour\":[{\"type\":\"contour\",\"colorbar\":{\"outlinewidth\":0,\"ticks\":\"\"},\"colorscale\":[[0.0,\"#0d0887\"],[0.1111111111111111,\"#46039f\"],[0.2222222222222222,\"#7201a8\"],[0.3333333333333333,\"#9c179e\"],[0.4444444444444444,\"#bd3786\"],[0.5555555555555556,\"#d8576b\"],[0.6666666666666666,\"#ed7953\"],[0.7777777777777778,\"#fb9f3a\"],[0.8888888888888888,\"#fdca26\"],[1.0,\"#f0f921\"]]}],\"surface\":[{\"type\":\"surface\",\"colorbar\":{\"outlinewidth\":0,\"ticks\":\"\"},\"colorscale\":[[0.0,\"#0d0887\"],[0.1111111111111111,\"#46039f\"],[0.2222222222222222,\"#7201a8\"],[0.3333333333333333,\"#9c179e\"],[0.4444444444444444,\"#bd3786\"],[0.5555555555555556,\"#d8576b\"],[0.6666666666666666,\"#ed7953\"],[0.7777777777777778,\"#fb9f3a\"],[0.8888888888888888,\"#fdca26\"],[1.0,\"#f0f921\"]]}],\"mesh3d\":[{\"type\":\"mesh3d\",\"colorbar\":{\"outlinewidth\":0,\"ticks\":\"\"}}],\"scatter\":[{\"fillpattern\":{\"fillmode\":\"overlay\",\"size\":10,\"solidity\":0.2},\"type\":\"scatter\"}],\"parcoords\":[{\"type\":\"parcoords\",\"line\":{\"colorbar\":{\"outlinewidth\":0,\"ticks\":\"\"}}}],\"scatterpolargl\":[{\"type\":\"scatterpolargl\",\"marker\":{\"colorbar\":{\"outlinewidth\":0,\"ticks\":\"\"}}}],\"bar\":[{\"error_x\":{\"color\":\"#2a3f5f\"},\"error_y\":{\"color\":\"#2a3f5f\"},\"marker\":{\"line\":{\"color\":\"#E5ECF6\",\"width\":0.5},\"pattern\":{\"fillmode\":\"overlay\",\"size\":10,\"solidity\":0.2}},\"type\":\"bar\"}],\"scattergeo\":[{\"type\":\"scattergeo\",\"marker\":{\"colorbar\":{\"outlinewidth\":0,\"ticks\":\"\"}}}],\"scatterpolar\":[{\"type\":\"scatterpolar\",\"marker\":{\"colorbar\":{\"outlinewidth\":0,\"ticks\":\"\"}}}],\"histogram\":[{\"marker\":{\"pattern\":{\"fillmode\":\"overlay\",\"size\":10,\"solidity\":0.2}},\"type\":\"histogram\"}],\"scattergl\":[{\"type\":\"scattergl\",\"marker\":{\"colorbar\":{\"outlinewidth\":0,\"ticks\":\"\"}}}],\"scatter3d\":[{\"type\":\"scatter3d\",\"line\":{\"colorbar\":{\"outlinewidth\":0,\"ticks\":\"\"}},\"marker\":{\"colorbar\":{\"outlinewidth\":0,\"ticks\":\"\"}}}],\"scattermapbox\":[{\"type\":\"scattermapbox\",\"marker\":{\"colorbar\":{\"outlinewidth\":0,\"ticks\":\"\"}}}],\"scatterternary\":[{\"type\":\"scatterternary\",\"marker\":{\"colorbar\":{\"outlinewidth\":0,\"ticks\":\"\"}}}],\"scattercarpet\":[{\"type\":\"scattercarpet\",\"marker\":{\"colorbar\":{\"outlinewidth\":0,\"ticks\":\"\"}}}],\"carpet\":[{\"aaxis\":{\"endlinecolor\":\"#2a3f5f\",\"gridcolor\":\"white\",\"linecolor\":\"white\",\"minorgridcolor\":\"white\",\"startlinecolor\":\"#2a3f5f\"},\"baxis\":{\"endlinecolor\":\"#2a3f5f\",\"gridcolor\":\"white\",\"linecolor\":\"white\",\"minorgridcolor\":\"white\",\"startlinecolor\":\"#2a3f5f\"},\"type\":\"carpet\"}],\"table\":[{\"cells\":{\"fill\":{\"color\":\"#EBF0F8\"},\"line\":{\"color\":\"white\"}},\"header\":{\"fill\":{\"color\":\"#C8D4E3\"},\"line\":{\"color\":\"white\"}},\"type\":\"table\"}],\"barpolar\":[{\"marker\":{\"line\":{\"color\":\"#E5ECF6\",\"width\":0.5},\"pattern\":{\"fillmode\":\"overlay\",\"size\":10,\"solidity\":0.2}},\"type\":\"barpolar\"}],\"pie\":[{\"automargin\":true,\"type\":\"pie\"}]},\"layout\":{\"autotypenumbers\":\"strict\",\"colorway\":[\"#636efa\",\"#EF553B\",\"#00cc96\",\"#ab63fa\",\"#FFA15A\",\"#19d3f3\",\"#FF6692\",\"#B6E880\",\"#FF97FF\",\"#FECB52\"],\"font\":{\"color\":\"#2a3f5f\"},\"hovermode\":\"closest\",\"hoverlabel\":{\"align\":\"left\"},\"paper_bgcolor\":\"white\",\"plot_bgcolor\":\"#E5ECF6\",\"polar\":{\"bgcolor\":\"#E5ECF6\",\"angularaxis\":{\"gridcolor\":\"white\",\"linecolor\":\"white\",\"ticks\":\"\"},\"radialaxis\":{\"gridcolor\":\"white\",\"linecolor\":\"white\",\"ticks\":\"\"}},\"ternary\":{\"bgcolor\":\"#E5ECF6\",\"aaxis\":{\"gridcolor\":\"white\",\"linecolor\":\"white\",\"ticks\":\"\"},\"baxis\":{\"gridcolor\":\"white\",\"linecolor\":\"white\",\"ticks\":\"\"},\"caxis\":{\"gridcolor\":\"white\",\"linecolor\":\"white\",\"ticks\":\"\"}},\"coloraxis\":{\"colorbar\":{\"outlinewidth\":0,\"ticks\":\"\"}},\"colorscale\":{\"sequential\":[[0.0,\"#0d0887\"],[0.1111111111111111,\"#46039f\"],[0.2222222222222222,\"#7201a8\"],[0.3333333333333333,\"#9c179e\"],[0.4444444444444444,\"#bd3786\"],[0.5555555555555556,\"#d8576b\"],[0.6666666666666666,\"#ed7953\"],[0.7777777777777778,\"#fb9f3a\"],[0.8888888888888888,\"#fdca26\"],[1.0,\"#f0f921\"]],\"sequentialminus\":[[0.0,\"#0d0887\"],[0.1111111111111111,\"#46039f\"],[0.2222222222222222,\"#7201a8\"],[0.3333333333333333,\"#9c179e\"],[0.4444444444444444,\"#bd3786\"],[0.5555555555555556,\"#d8576b\"],[0.6666666666666666,\"#ed7953\"],[0.7777777777777778,\"#fb9f3a\"],[0.8888888888888888,\"#fdca26\"],[1.0,\"#f0f921\"]],\"diverging\":[[0,\"#8e0152\"],[0.1,\"#c51b7d\"],[0.2,\"#de77ae\"],[0.3,\"#f1b6da\"],[0.4,\"#fde0ef\"],[0.5,\"#f7f7f7\"],[0.6,\"#e6f5d0\"],[0.7,\"#b8e186\"],[0.8,\"#7fbc41\"],[0.9,\"#4d9221\"],[1,\"#276419\"]]},\"xaxis\":{\"gridcolor\":\"white\",\"linecolor\":\"white\",\"ticks\":\"\",\"title\":{\"standoff\":15},\"zerolinecolor\":\"white\",\"automargin\":true,\"zerolinewidth\":2},\"yaxis\":{\"gridcolor\":\"white\",\"linecolor\":\"white\",\"ticks\":\"\",\"title\":{\"standoff\":15},\"zerolinecolor\":\"white\",\"automargin\":true,\"zerolinewidth\":2},\"scene\":{\"xaxis\":{\"backgroundcolor\":\"#E5ECF6\",\"gridcolor\":\"white\",\"linecolor\":\"white\",\"showbackground\":true,\"ticks\":\"\",\"zerolinecolor\":\"white\",\"gridwidth\":2},\"yaxis\":{\"backgroundcolor\":\"#E5ECF6\",\"gridcolor\":\"white\",\"linecolor\":\"white\",\"showbackground\":true,\"ticks\":\"\",\"zerolinecolor\":\"white\",\"gridwidth\":2},\"zaxis\":{\"backgroundcolor\":\"#E5ECF6\",\"gridcolor\":\"white\",\"linecolor\":\"white\",\"showbackground\":true,\"ticks\":\"\",\"zerolinecolor\":\"white\",\"gridwidth\":2}},\"shapedefaults\":{\"line\":{\"color\":\"#2a3f5f\"}},\"annotationdefaults\":{\"arrowcolor\":\"#2a3f5f\",\"arrowhead\":0,\"arrowwidth\":1},\"geo\":{\"bgcolor\":\"white\",\"landcolor\":\"#E5ECF6\",\"subunitcolor\":\"white\",\"showland\":true,\"showlakes\":true,\"lakecolor\":\"white\"},\"title\":{\"x\":0.05},\"mapbox\":{\"style\":\"light\"}}},\"xaxis\":{\"anchor\":\"y\",\"domain\":[0.0,1.0],\"title\":{\"text\":\"Fecha\"},\"tickangle\":45},\"yaxis\":{\"anchor\":\"x\",\"domain\":[0.0,1.0],\"title\":{\"text\":\"Ventas total\"}},\"legend\":{\"tracegroupgap\":0},\"title\":{\"text\":\"Cantidad Total por Mes y Año con Estacionalidad\"},\"barmode\":\"relative\"},                        {\"responsive\": true}                    ).then(function(){\n",
              "                            \n",
              "var gd = document.getElementById('96a02d4b-04f0-4694-badf-fd0720a4985e');\n",
              "var x = new MutationObserver(function (mutations, observer) {{\n",
              "        var display = window.getComputedStyle(gd).display;\n",
              "        if (!display || display === 'none') {{\n",
              "            console.log([gd, 'removed!']);\n",
              "            Plotly.purge(gd);\n",
              "            observer.disconnect();\n",
              "        }}\n",
              "}});\n",
              "\n",
              "// Listen for the removal of the full notebook cells\n",
              "var notebookContainer = gd.closest('#notebook-container');\n",
              "if (notebookContainer) {{\n",
              "    x.observe(notebookContainer, {childList: true});\n",
              "}}\n",
              "\n",
              "// Listen for the clearing of the current output cell\n",
              "var outputEl = gd.closest('.output');\n",
              "if (outputEl) {{\n",
              "    x.observe(outputEl, {childList: true});\n",
              "}}\n",
              "\n",
              "                        })                };                            </script>        </div>\n",
              "</body>\n",
              "</html>"
            ]
          },
          "metadata": {}
        }
      ]
    },
    {
      "cell_type": "markdown",
      "source": [
        "La gráfica muestra las ventas totales mensuales con una línea que representa la tendencia general a lo largo del tiempo. Esta línea de media móvil de 3 meses se usa para suavizar los datos y ayudar a identificar patrones estacionales.\n",
        "\n",
        "Podemos observar que, en general, durante los meses de enero y febrero se produce un ligero declive en las ventas, mientras que en los meses de verano, especialmente entre junio y agosto, las ventas tienden a aumentar. Esto podría reflejar patrones de comportamiento de los consumidores o factores estacionales que afectan la demanda en esos periodos. La línea de media móvil permite ver estos patrones de manera más clara, sin dejarse influenciar por variaciones puntuales en los datos. Esta gráfica, sirve para complementar la información que observamso en la gráfica anterior a esta, donde apreciamso la distribución de las maras en cada mes, y que lso patrones estacionales se muestran en cada marca."
      ],
      "metadata": {
        "id": "F0SYMKoj1v5_"
      }
    },
    {
      "cell_type": "markdown",
      "source": [
        "## **Tendencia y estacionalidad**\n",
        "\n",
        "La **tendencia** refleja la dirección general de crecimiento o decrecimiento en una serie temporal a lo largo del tiempo, mientras que la **estacionalidad** muestra patrones cíclicos y recurrentes en intervalos regulares, influenciados por factores externos como el clima o eventos específicos."
      ],
      "metadata": {
        "id": "JHAfg5CnoKWh"
      }
    },
    {
      "cell_type": "markdown",
      "source": [
        "### **País con menos ventas y Marca con más ventas**\n",
        "\n",
        "- Pais con más ventas: Gran Bretaña\n",
        "- Pais con menos ventas: Spain\n",
        "- Marca con más ventas: Pepsi Max\n",
        "- Marca con menos ventas: Mountain Dew"
      ],
      "metadata": {
        "id": "ksu1UQVroK5i"
      }
    },
    {
      "cell_type": "code",
      "source": [
        "# Calcular la media de AMOUNT por COUNTRY y ordenar de mayor a menor\n",
        "df_country_mean = df_actual.groupby('COUNTRY')['AMOUNT'].mean().reset_index()\n",
        "df_country_mean.columns = ['COUNTRY', 'MEAN_AMOUNT_COUNTRY']\n",
        "df_country_mean = df_country_mean.sort_values(by='MEAN_AMOUNT_COUNTRY', ascending=False)\n",
        "\n",
        "# Calcular la media de AMOUNT por SUBBRAND y ordenar de mayor a menor\n",
        "df_subbrand_mean = df_actual.groupby('SUBBRAND')['AMOUNT'].mean().reset_index()\n",
        "df_subbrand_mean.columns = ['SUBBRAND', 'MEAN_AMOUNT_SUBBRAND']\n",
        "df_subbrand_mean = df_subbrand_mean.sort_values(by='MEAN_AMOUNT_SUBBRAND', ascending=False)\n",
        "\n",
        "# Crear el gráfico de barras para la media de AMOUNT por COUNTRY\n",
        "fig_country = px.bar(df_country_mean, x='COUNTRY', y='MEAN_AMOUNT_COUNTRY', title='Media de Ventas - Country',\n",
        "                     labels={'COUNTRY': 'Country', 'MEAN_AMOUNT_COUNTRY': 'Media de Ventas'})\n",
        "fig_country.update_traces(text=df_country_mean['MEAN_AMOUNT_COUNTRY'].round(2).astype(str), textposition='outside')\n",
        "\n",
        "# Crear el gráfico de barras para la media de AMOUNT por SUBBRAND\n",
        "fig_subbrand = px.bar(df_subbrand_mean, x='SUBBRAND', y='MEAN_AMOUNT_SUBBRAND', title='Media de Ventas - Subbrand',\n",
        "                      labels={'SUBBRAND': 'Subbrand', 'MEAN_AMOUNT_SUBBRAND': 'Media de Ventas'})\n",
        "fig_subbrand.update_traces(text=df_subbrand_mean['MEAN_AMOUNT_SUBBRAND'].round(2).astype(str), textposition='outside')\n",
        "\n",
        "# Crear un layout de subplots y agregar ambos gráficos\n",
        "fig = make_subplots(rows=1, cols=2, subplot_titles=(\"Media de Ventas - Country\", \"Media de Ventas - Subbrand\"))\n",
        "\n",
        "# Añadir gráficos al layout\n",
        "fig.add_traces(fig_country['data'], rows=1, cols=1)\n",
        "fig.add_traces(fig_subbrand['data'], rows=1, cols=2)\n",
        "\n",
        "# Ajustar el diseño y mostrar\n",
        "fig.update_layout(title_text=\"Media de Ventas por Pais y Submarca\", showlegend=False)\n",
        "fig.show()\n"
      ],
      "metadata": {
        "colab": {
          "base_uri": "https://localhost:8080/",
          "height": 542
        },
        "id": "LmwD-x-_39Bg",
        "outputId": "3b09bf43-7c95-4d7c-ff3e-63e4d6940848"
      },
      "execution_count": 503,
      "outputs": [
        {
          "output_type": "display_data",
          "data": {
            "text/html": [
              "<html>\n",
              "<head><meta charset=\"utf-8\" /></head>\n",
              "<body>\n",
              "    <div>            <script src=\"https://cdnjs.cloudflare.com/ajax/libs/mathjax/2.7.5/MathJax.js?config=TeX-AMS-MML_SVG\"></script><script type=\"text/javascript\">if (window.MathJax && window.MathJax.Hub && window.MathJax.Hub.Config) {window.MathJax.Hub.Config({SVG: {font: \"STIX-Web\"}});}</script>                <script type=\"text/javascript\">window.PlotlyConfig = {MathJaxConfig: 'local'};</script>\n",
              "        <script charset=\"utf-8\" src=\"https://cdn.plot.ly/plotly-2.35.2.min.js\"></script>                <div id=\"2ac157de-7a82-4437-b36f-d99e867fff54\" class=\"plotly-graph-div\" style=\"height:525px; width:100%;\"></div>            <script type=\"text/javascript\">                                    window.PLOTLYENV=window.PLOTLYENV || {};                                    if (document.getElementById(\"2ac157de-7a82-4437-b36f-d99e867fff54\")) {                    Plotly.newPlot(                        \"2ac157de-7a82-4437-b36f-d99e867fff54\",                        [{\"alignmentgroup\":\"True\",\"hovertemplate\":\"Country=%{x}\\u003cbr\\u003eMedia de Ventas=%{y}\\u003cextra\\u003e\\u003c\\u002fextra\\u003e\",\"legendgroup\":\"\",\"marker\":{\"color\":\"#636efa\",\"pattern\":{\"shape\":\"\"}},\"name\":\"\",\"offsetgroup\":\"\",\"orientation\":\"v\",\"showlegend\":false,\"text\":[\"2789821.7\",\"724233.95\",\"707458.45\",\"639594.29\",\"511521.17\",\"413980.19\",\"352404.75\",\"330389.15\",\"81312.66\"],\"textposition\":\"outside\",\"x\":[\"Great Britain\",\"Italy\",\"Denmark\",\"Netherlands\",\"Norway\",\"Hungary\",\"Portugal\",\"Czech\",\"Spain\"],\"xaxis\":\"x\",\"y\":[2789821.6979402574,724233.9494410123,707458.446907691,639594.287739604,511521.1695795354,413980.1859296903,352404.74559402105,330389.1548113457,81312.65977520084],\"yaxis\":\"y\",\"type\":\"bar\"},{\"alignmentgroup\":\"True\",\"hovertemplate\":\"Subbrand=%{x}\\u003cbr\\u003eMedia de Ventas=%{y}\\u003cextra\\u003e\\u003c\\u002fextra\\u003e\",\"legendgroup\":\"\",\"marker\":{\"color\":\"#636efa\",\"pattern\":{\"shape\":\"\"}},\"name\":\"\",\"offsetgroup\":\"\",\"orientation\":\"v\",\"showlegend\":false,\"text\":[\"2203881.5\",\"776837.02\",\"611791.67\",\"233172.1\",\"133047.31\",\"74743.91\"],\"textposition\":\"outside\",\"x\":[\"Pepsi Max (L3)\",\"Pepsi Regular (L3)\",\"Lipton (L3)\",\"7up Free (L3)\",\"7up (L3)\",\"Mountain Dew (L3)\"],\"xaxis\":\"x2\",\"y\":[2203881.503521208,776837.0154880149,611791.6716956843,233172.1017031516,133047.31351838674,74743.90956547935],\"yaxis\":\"y2\",\"type\":\"bar\"}],                        {\"template\":{\"data\":{\"histogram2dcontour\":[{\"type\":\"histogram2dcontour\",\"colorbar\":{\"outlinewidth\":0,\"ticks\":\"\"},\"colorscale\":[[0.0,\"#0d0887\"],[0.1111111111111111,\"#46039f\"],[0.2222222222222222,\"#7201a8\"],[0.3333333333333333,\"#9c179e\"],[0.4444444444444444,\"#bd3786\"],[0.5555555555555556,\"#d8576b\"],[0.6666666666666666,\"#ed7953\"],[0.7777777777777778,\"#fb9f3a\"],[0.8888888888888888,\"#fdca26\"],[1.0,\"#f0f921\"]]}],\"choropleth\":[{\"type\":\"choropleth\",\"colorbar\":{\"outlinewidth\":0,\"ticks\":\"\"}}],\"histogram2d\":[{\"type\":\"histogram2d\",\"colorbar\":{\"outlinewidth\":0,\"ticks\":\"\"},\"colorscale\":[[0.0,\"#0d0887\"],[0.1111111111111111,\"#46039f\"],[0.2222222222222222,\"#7201a8\"],[0.3333333333333333,\"#9c179e\"],[0.4444444444444444,\"#bd3786\"],[0.5555555555555556,\"#d8576b\"],[0.6666666666666666,\"#ed7953\"],[0.7777777777777778,\"#fb9f3a\"],[0.8888888888888888,\"#fdca26\"],[1.0,\"#f0f921\"]]}],\"heatmap\":[{\"type\":\"heatmap\",\"colorbar\":{\"outlinewidth\":0,\"ticks\":\"\"},\"colorscale\":[[0.0,\"#0d0887\"],[0.1111111111111111,\"#46039f\"],[0.2222222222222222,\"#7201a8\"],[0.3333333333333333,\"#9c179e\"],[0.4444444444444444,\"#bd3786\"],[0.5555555555555556,\"#d8576b\"],[0.6666666666666666,\"#ed7953\"],[0.7777777777777778,\"#fb9f3a\"],[0.8888888888888888,\"#fdca26\"],[1.0,\"#f0f921\"]]}],\"heatmapgl\":[{\"type\":\"heatmapgl\",\"colorbar\":{\"outlinewidth\":0,\"ticks\":\"\"},\"colorscale\":[[0.0,\"#0d0887\"],[0.1111111111111111,\"#46039f\"],[0.2222222222222222,\"#7201a8\"],[0.3333333333333333,\"#9c179e\"],[0.4444444444444444,\"#bd3786\"],[0.5555555555555556,\"#d8576b\"],[0.6666666666666666,\"#ed7953\"],[0.7777777777777778,\"#fb9f3a\"],[0.8888888888888888,\"#fdca26\"],[1.0,\"#f0f921\"]]}],\"contourcarpet\":[{\"type\":\"contourcarpet\",\"colorbar\":{\"outlinewidth\":0,\"ticks\":\"\"}}],\"contour\":[{\"type\":\"contour\",\"colorbar\":{\"outlinewidth\":0,\"ticks\":\"\"},\"colorscale\":[[0.0,\"#0d0887\"],[0.1111111111111111,\"#46039f\"],[0.2222222222222222,\"#7201a8\"],[0.3333333333333333,\"#9c179e\"],[0.4444444444444444,\"#bd3786\"],[0.5555555555555556,\"#d8576b\"],[0.6666666666666666,\"#ed7953\"],[0.7777777777777778,\"#fb9f3a\"],[0.8888888888888888,\"#fdca26\"],[1.0,\"#f0f921\"]]}],\"surface\":[{\"type\":\"surface\",\"colorbar\":{\"outlinewidth\":0,\"ticks\":\"\"},\"colorscale\":[[0.0,\"#0d0887\"],[0.1111111111111111,\"#46039f\"],[0.2222222222222222,\"#7201a8\"],[0.3333333333333333,\"#9c179e\"],[0.4444444444444444,\"#bd3786\"],[0.5555555555555556,\"#d8576b\"],[0.6666666666666666,\"#ed7953\"],[0.7777777777777778,\"#fb9f3a\"],[0.8888888888888888,\"#fdca26\"],[1.0,\"#f0f921\"]]}],\"mesh3d\":[{\"type\":\"mesh3d\",\"colorbar\":{\"outlinewidth\":0,\"ticks\":\"\"}}],\"scatter\":[{\"fillpattern\":{\"fillmode\":\"overlay\",\"size\":10,\"solidity\":0.2},\"type\":\"scatter\"}],\"parcoords\":[{\"type\":\"parcoords\",\"line\":{\"colorbar\":{\"outlinewidth\":0,\"ticks\":\"\"}}}],\"scatterpolargl\":[{\"type\":\"scatterpolargl\",\"marker\":{\"colorbar\":{\"outlinewidth\":0,\"ticks\":\"\"}}}],\"bar\":[{\"error_x\":{\"color\":\"#2a3f5f\"},\"error_y\":{\"color\":\"#2a3f5f\"},\"marker\":{\"line\":{\"color\":\"#E5ECF6\",\"width\":0.5},\"pattern\":{\"fillmode\":\"overlay\",\"size\":10,\"solidity\":0.2}},\"type\":\"bar\"}],\"scattergeo\":[{\"type\":\"scattergeo\",\"marker\":{\"colorbar\":{\"outlinewidth\":0,\"ticks\":\"\"}}}],\"scatterpolar\":[{\"type\":\"scatterpolar\",\"marker\":{\"colorbar\":{\"outlinewidth\":0,\"ticks\":\"\"}}}],\"histogram\":[{\"marker\":{\"pattern\":{\"fillmode\":\"overlay\",\"size\":10,\"solidity\":0.2}},\"type\":\"histogram\"}],\"scattergl\":[{\"type\":\"scattergl\",\"marker\":{\"colorbar\":{\"outlinewidth\":0,\"ticks\":\"\"}}}],\"scatter3d\":[{\"type\":\"scatter3d\",\"line\":{\"colorbar\":{\"outlinewidth\":0,\"ticks\":\"\"}},\"marker\":{\"colorbar\":{\"outlinewidth\":0,\"ticks\":\"\"}}}],\"scattermapbox\":[{\"type\":\"scattermapbox\",\"marker\":{\"colorbar\":{\"outlinewidth\":0,\"ticks\":\"\"}}}],\"scatterternary\":[{\"type\":\"scatterternary\",\"marker\":{\"colorbar\":{\"outlinewidth\":0,\"ticks\":\"\"}}}],\"scattercarpet\":[{\"type\":\"scattercarpet\",\"marker\":{\"colorbar\":{\"outlinewidth\":0,\"ticks\":\"\"}}}],\"carpet\":[{\"aaxis\":{\"endlinecolor\":\"#2a3f5f\",\"gridcolor\":\"white\",\"linecolor\":\"white\",\"minorgridcolor\":\"white\",\"startlinecolor\":\"#2a3f5f\"},\"baxis\":{\"endlinecolor\":\"#2a3f5f\",\"gridcolor\":\"white\",\"linecolor\":\"white\",\"minorgridcolor\":\"white\",\"startlinecolor\":\"#2a3f5f\"},\"type\":\"carpet\"}],\"table\":[{\"cells\":{\"fill\":{\"color\":\"#EBF0F8\"},\"line\":{\"color\":\"white\"}},\"header\":{\"fill\":{\"color\":\"#C8D4E3\"},\"line\":{\"color\":\"white\"}},\"type\":\"table\"}],\"barpolar\":[{\"marker\":{\"line\":{\"color\":\"#E5ECF6\",\"width\":0.5},\"pattern\":{\"fillmode\":\"overlay\",\"size\":10,\"solidity\":0.2}},\"type\":\"barpolar\"}],\"pie\":[{\"automargin\":true,\"type\":\"pie\"}]},\"layout\":{\"autotypenumbers\":\"strict\",\"colorway\":[\"#636efa\",\"#EF553B\",\"#00cc96\",\"#ab63fa\",\"#FFA15A\",\"#19d3f3\",\"#FF6692\",\"#B6E880\",\"#FF97FF\",\"#FECB52\"],\"font\":{\"color\":\"#2a3f5f\"},\"hovermode\":\"closest\",\"hoverlabel\":{\"align\":\"left\"},\"paper_bgcolor\":\"white\",\"plot_bgcolor\":\"#E5ECF6\",\"polar\":{\"bgcolor\":\"#E5ECF6\",\"angularaxis\":{\"gridcolor\":\"white\",\"linecolor\":\"white\",\"ticks\":\"\"},\"radialaxis\":{\"gridcolor\":\"white\",\"linecolor\":\"white\",\"ticks\":\"\"}},\"ternary\":{\"bgcolor\":\"#E5ECF6\",\"aaxis\":{\"gridcolor\":\"white\",\"linecolor\":\"white\",\"ticks\":\"\"},\"baxis\":{\"gridcolor\":\"white\",\"linecolor\":\"white\",\"ticks\":\"\"},\"caxis\":{\"gridcolor\":\"white\",\"linecolor\":\"white\",\"ticks\":\"\"}},\"coloraxis\":{\"colorbar\":{\"outlinewidth\":0,\"ticks\":\"\"}},\"colorscale\":{\"sequential\":[[0.0,\"#0d0887\"],[0.1111111111111111,\"#46039f\"],[0.2222222222222222,\"#7201a8\"],[0.3333333333333333,\"#9c179e\"],[0.4444444444444444,\"#bd3786\"],[0.5555555555555556,\"#d8576b\"],[0.6666666666666666,\"#ed7953\"],[0.7777777777777778,\"#fb9f3a\"],[0.8888888888888888,\"#fdca26\"],[1.0,\"#f0f921\"]],\"sequentialminus\":[[0.0,\"#0d0887\"],[0.1111111111111111,\"#46039f\"],[0.2222222222222222,\"#7201a8\"],[0.3333333333333333,\"#9c179e\"],[0.4444444444444444,\"#bd3786\"],[0.5555555555555556,\"#d8576b\"],[0.6666666666666666,\"#ed7953\"],[0.7777777777777778,\"#fb9f3a\"],[0.8888888888888888,\"#fdca26\"],[1.0,\"#f0f921\"]],\"diverging\":[[0,\"#8e0152\"],[0.1,\"#c51b7d\"],[0.2,\"#de77ae\"],[0.3,\"#f1b6da\"],[0.4,\"#fde0ef\"],[0.5,\"#f7f7f7\"],[0.6,\"#e6f5d0\"],[0.7,\"#b8e186\"],[0.8,\"#7fbc41\"],[0.9,\"#4d9221\"],[1,\"#276419\"]]},\"xaxis\":{\"gridcolor\":\"white\",\"linecolor\":\"white\",\"ticks\":\"\",\"title\":{\"standoff\":15},\"zerolinecolor\":\"white\",\"automargin\":true,\"zerolinewidth\":2},\"yaxis\":{\"gridcolor\":\"white\",\"linecolor\":\"white\",\"ticks\":\"\",\"title\":{\"standoff\":15},\"zerolinecolor\":\"white\",\"automargin\":true,\"zerolinewidth\":2},\"scene\":{\"xaxis\":{\"backgroundcolor\":\"#E5ECF6\",\"gridcolor\":\"white\",\"linecolor\":\"white\",\"showbackground\":true,\"ticks\":\"\",\"zerolinecolor\":\"white\",\"gridwidth\":2},\"yaxis\":{\"backgroundcolor\":\"#E5ECF6\",\"gridcolor\":\"white\",\"linecolor\":\"white\",\"showbackground\":true,\"ticks\":\"\",\"zerolinecolor\":\"white\",\"gridwidth\":2},\"zaxis\":{\"backgroundcolor\":\"#E5ECF6\",\"gridcolor\":\"white\",\"linecolor\":\"white\",\"showbackground\":true,\"ticks\":\"\",\"zerolinecolor\":\"white\",\"gridwidth\":2}},\"shapedefaults\":{\"line\":{\"color\":\"#2a3f5f\"}},\"annotationdefaults\":{\"arrowcolor\":\"#2a3f5f\",\"arrowhead\":0,\"arrowwidth\":1},\"geo\":{\"bgcolor\":\"white\",\"landcolor\":\"#E5ECF6\",\"subunitcolor\":\"white\",\"showland\":true,\"showlakes\":true,\"lakecolor\":\"white\"},\"title\":{\"x\":0.05},\"mapbox\":{\"style\":\"light\"}}},\"xaxis\":{\"anchor\":\"y\",\"domain\":[0.0,0.45]},\"yaxis\":{\"anchor\":\"x\",\"domain\":[0.0,1.0]},\"xaxis2\":{\"anchor\":\"y2\",\"domain\":[0.55,1.0]},\"yaxis2\":{\"anchor\":\"x2\",\"domain\":[0.0,1.0]},\"annotations\":[{\"font\":{\"size\":16},\"showarrow\":false,\"text\":\"Media de Ventas - Country\",\"x\":0.225,\"xanchor\":\"center\",\"xref\":\"paper\",\"y\":1.0,\"yanchor\":\"bottom\",\"yref\":\"paper\"},{\"font\":{\"size\":16},\"showarrow\":false,\"text\":\"Media de Ventas - Subbrand\",\"x\":0.775,\"xanchor\":\"center\",\"xref\":\"paper\",\"y\":1.0,\"yanchor\":\"bottom\",\"yref\":\"paper\"}],\"title\":{\"text\":\"Media de Ventas por Pais y Submarca\"},\"showlegend\":false},                        {\"responsive\": true}                    ).then(function(){\n",
              "                            \n",
              "var gd = document.getElementById('2ac157de-7a82-4437-b36f-d99e867fff54');\n",
              "var x = new MutationObserver(function (mutations, observer) {{\n",
              "        var display = window.getComputedStyle(gd).display;\n",
              "        if (!display || display === 'none') {{\n",
              "            console.log([gd, 'removed!']);\n",
              "            Plotly.purge(gd);\n",
              "            observer.disconnect();\n",
              "        }}\n",
              "}});\n",
              "\n",
              "// Listen for the removal of the full notebook cells\n",
              "var notebookContainer = gd.closest('#notebook-container');\n",
              "if (notebookContainer) {{\n",
              "    x.observe(notebookContainer, {childList: true});\n",
              "}}\n",
              "\n",
              "// Listen for the clearing of the current output cell\n",
              "var outputEl = gd.closest('.output');\n",
              "if (outputEl) {{\n",
              "    x.observe(outputEl, {childList: true});\n",
              "}}\n",
              "\n",
              "                        })                };                            </script>        </div>\n",
              "</body>\n",
              "</html>"
            ]
          },
          "metadata": {}
        }
      ]
    },
    {
      "cell_type": "markdown",
      "source": [
        "### **España: menor venta**"
      ],
      "metadata": {
        "id": "LKy5AIJVst-3"
      }
    },
    {
      "cell_type": "code",
      "source": [
        "import numpy as np\n",
        "import pandas as pd\n",
        "import plotly.express as px\n",
        "import plotly.graph_objects as go\n",
        "from scipy.stats import linregress\n",
        "\n",
        "# Filtrar datos para España y calcular las ventas por mes\n",
        "df_spain = df_actual[df_actual['COUNTRY'] == 'Spain'].groupby('Fecha')['AMOUNT'].sum().reset_index()\n",
        "\n",
        "# Cálculo de la tendencia\n",
        "x = np.arange(len(df_spain))\n",
        "y = df_spain['AMOUNT'].values\n",
        "pendiente, intercepto, _, _, _ = linregress(x, y)\n",
        "tendencia = pendiente * x + intercepto\n",
        "\n",
        "# Creación del gráfico original\n",
        "fig = px.line(df_spain, x='Fecha', y='AMOUNT', title='Tendencia y estacionalidad para España (mínima ventas)',\n",
        "              labels={'Fecha': 'Fecha', 'AMOUNT': 'Cantidad de ventas'})\n",
        "fig.update_traces(marker=dict(size=10))  # Ajuste del tamaño de los marcadores\n",
        "\n",
        "# Añadir la línea de tendencia como línea discontinua\n",
        "fig.add_trace(go.Scatter(\n",
        "    x=df_spain['Fecha'],\n",
        "    y=tendencia,\n",
        "    mode='lines',\n",
        "    name='Tendencia',\n",
        "    line=dict(color='red')  # Línea roja discontinua\n",
        "))\n",
        "\n",
        "# Resaltar los puntos de agosto y febrero\n",
        "df_spain['Fecha'] = pd.to_datetime(df_spain['Fecha'])  # Asegurarse de que 'Fecha' esté en formato de fecha\n",
        "\n",
        "# Filtrar para agosto y febrero\n",
        "agosto = df_spain[df_spain['Fecha'].dt.month == 8]\n",
        "febrero = df_spain[df_spain['Fecha'].dt.month == 2]\n",
        "\n",
        "# Añadir puntos grandes en agosto\n",
        "fig.add_trace(go.Scatter(\n",
        "    x=agosto['Fecha'],\n",
        "    y=agosto['AMOUNT'],\n",
        "    mode='markers',\n",
        "    name='Maximo-Agosto',\n",
        "    marker=dict(color='blue', size=12, symbol='circle')  # Punto grande en azul para agosto\n",
        "))\n",
        "\n",
        "# Añadir puntos grandes en febrero\n",
        "fig.add_trace(go.Scatter(\n",
        "    x=febrero['Fecha'],\n",
        "    y=febrero['AMOUNT'],\n",
        "    mode='markers',\n",
        "    name='Mínimo-Febrero',\n",
        "    marker=dict(color='green', size=12, symbol='circle')  # Punto grande en verde para febrero\n",
        "))\n",
        "\n",
        "# Mostrar el gráfico\n",
        "fig.show()\n"
      ],
      "metadata": {
        "colab": {
          "base_uri": "https://localhost:8080/",
          "height": 542
        },
        "id": "pyPIjgaY6y-l",
        "outputId": "6b3fc8df-49a4-4d33-e911-58c6c757b259"
      },
      "execution_count": 504,
      "outputs": [
        {
          "output_type": "display_data",
          "data": {
            "text/html": [
              "<html>\n",
              "<head><meta charset=\"utf-8\" /></head>\n",
              "<body>\n",
              "    <div>            <script src=\"https://cdnjs.cloudflare.com/ajax/libs/mathjax/2.7.5/MathJax.js?config=TeX-AMS-MML_SVG\"></script><script type=\"text/javascript\">if (window.MathJax && window.MathJax.Hub && window.MathJax.Hub.Config) {window.MathJax.Hub.Config({SVG: {font: \"STIX-Web\"}});}</script>                <script type=\"text/javascript\">window.PlotlyConfig = {MathJaxConfig: 'local'};</script>\n",
              "        <script charset=\"utf-8\" src=\"https://cdn.plot.ly/plotly-2.35.2.min.js\"></script>                <div id=\"c96910cd-a43c-478e-8e18-3c6582196c76\" class=\"plotly-graph-div\" style=\"height:525px; width:100%;\"></div>            <script type=\"text/javascript\">                                    window.PLOTLYENV=window.PLOTLYENV || {};                                    if (document.getElementById(\"c96910cd-a43c-478e-8e18-3c6582196c76\")) {                    Plotly.newPlot(                        \"c96910cd-a43c-478e-8e18-3c6582196c76\",                        [{\"hovertemplate\":\"Fecha=%{x}\\u003cbr\\u003eCantidad de ventas=%{y}\\u003cextra\\u003e\\u003c\\u002fextra\\u003e\",\"legendgroup\":\"\",\"line\":{\"color\":\"#636efa\",\"dash\":\"solid\"},\"marker\":{\"symbol\":\"circle\",\"size\":10},\"mode\":\"lines\",\"name\":\"\",\"orientation\":\"v\",\"showlegend\":false,\"x\":[\"2023-01-01T00:00:00\",\"2023-02-01T00:00:00\",\"2023-03-01T00:00:00\",\"2023-04-01T00:00:00\",\"2023-05-01T00:00:00\",\"2023-06-01T00:00:00\",\"2023-07-01T00:00:00\",\"2023-08-01T00:00:00\",\"2023-09-01T00:00:00\",\"2023-10-01T00:00:00\",\"2023-11-01T00:00:00\",\"2023-12-01T00:00:00\",\"2024-01-01T00:00:00\",\"2024-02-01T00:00:00\",\"2024-03-01T00:00:00\",\"2024-04-01T00:00:00\",\"2024-05-01T00:00:00\",\"2024-06-01T00:00:00\",\"2024-07-01T00:00:00\",\"2024-08-01T00:00:00\"],\"xaxis\":\"x\",\"y\":[325272.9389304911,295588.379604517,399710.27310997306,328035.2578740851,360751.156280142,439198.58628968743,496545.2361195783,564336.120819692,420041.9805910407,468425.84176011605,418006.19904929807,394147.40859018476,349696.53314179694,352899.0356524695,332109.25623269676,376678.36889674753,356759.011785592,408967.746366754,506234.36278204597,537862.283643176],\"yaxis\":\"y\",\"type\":\"scatter\"},{\"line\":{\"color\":\"red\"},\"mode\":\"lines\",\"name\":\"Tendencia\",\"x\":[\"2023-01-01T00:00:00\",\"2023-02-01T00:00:00\",\"2023-03-01T00:00:00\",\"2023-04-01T00:00:00\",\"2023-05-01T00:00:00\",\"2023-06-01T00:00:00\",\"2023-07-01T00:00:00\",\"2023-08-01T00:00:00\",\"2023-09-01T00:00:00\",\"2023-10-01T00:00:00\",\"2023-11-01T00:00:00\",\"2023-12-01T00:00:00\",\"2024-01-01T00:00:00\",\"2024-02-01T00:00:00\",\"2024-03-01T00:00:00\",\"2024-04-01T00:00:00\",\"2024-05-01T00:00:00\",\"2024-06-01T00:00:00\",\"2024-07-01T00:00:00\",\"2024-08-01T00:00:00\"],\"y\":[369870.2929391654,373732.7146167274,377595.1362942893,381457.5579718513,385319.97964941326,389182.40132697526,393044.82300453726,396907.2446820992,400769.6663596612,404632.08803722315,408494.50971478515,412356.9313923471,416219.3530699091,420081.7747474711,423944.19642503303,427806.61810259504,431669.039780157,435531.461457719,439393.8831352809,443256.3048128429],\"type\":\"scatter\"},{\"marker\":{\"color\":\"blue\",\"size\":12,\"symbol\":\"circle\"},\"mode\":\"markers\",\"name\":\"Maximo-Agosto\",\"x\":[\"2023-08-01T00:00:00\",\"2024-08-01T00:00:00\"],\"y\":[564336.120819692,537862.283643176],\"type\":\"scatter\"},{\"marker\":{\"color\":\"green\",\"size\":12,\"symbol\":\"circle\"},\"mode\":\"markers\",\"name\":\"Mínimo-Febrero\",\"x\":[\"2023-02-01T00:00:00\",\"2024-02-01T00:00:00\"],\"y\":[295588.379604517,352899.0356524695],\"type\":\"scatter\"}],                        {\"template\":{\"data\":{\"histogram2dcontour\":[{\"type\":\"histogram2dcontour\",\"colorbar\":{\"outlinewidth\":0,\"ticks\":\"\"},\"colorscale\":[[0.0,\"#0d0887\"],[0.1111111111111111,\"#46039f\"],[0.2222222222222222,\"#7201a8\"],[0.3333333333333333,\"#9c179e\"],[0.4444444444444444,\"#bd3786\"],[0.5555555555555556,\"#d8576b\"],[0.6666666666666666,\"#ed7953\"],[0.7777777777777778,\"#fb9f3a\"],[0.8888888888888888,\"#fdca26\"],[1.0,\"#f0f921\"]]}],\"choropleth\":[{\"type\":\"choropleth\",\"colorbar\":{\"outlinewidth\":0,\"ticks\":\"\"}}],\"histogram2d\":[{\"type\":\"histogram2d\",\"colorbar\":{\"outlinewidth\":0,\"ticks\":\"\"},\"colorscale\":[[0.0,\"#0d0887\"],[0.1111111111111111,\"#46039f\"],[0.2222222222222222,\"#7201a8\"],[0.3333333333333333,\"#9c179e\"],[0.4444444444444444,\"#bd3786\"],[0.5555555555555556,\"#d8576b\"],[0.6666666666666666,\"#ed7953\"],[0.7777777777777778,\"#fb9f3a\"],[0.8888888888888888,\"#fdca26\"],[1.0,\"#f0f921\"]]}],\"heatmap\":[{\"type\":\"heatmap\",\"colorbar\":{\"outlinewidth\":0,\"ticks\":\"\"},\"colorscale\":[[0.0,\"#0d0887\"],[0.1111111111111111,\"#46039f\"],[0.2222222222222222,\"#7201a8\"],[0.3333333333333333,\"#9c179e\"],[0.4444444444444444,\"#bd3786\"],[0.5555555555555556,\"#d8576b\"],[0.6666666666666666,\"#ed7953\"],[0.7777777777777778,\"#fb9f3a\"],[0.8888888888888888,\"#fdca26\"],[1.0,\"#f0f921\"]]}],\"heatmapgl\":[{\"type\":\"heatmapgl\",\"colorbar\":{\"outlinewidth\":0,\"ticks\":\"\"},\"colorscale\":[[0.0,\"#0d0887\"],[0.1111111111111111,\"#46039f\"],[0.2222222222222222,\"#7201a8\"],[0.3333333333333333,\"#9c179e\"],[0.4444444444444444,\"#bd3786\"],[0.5555555555555556,\"#d8576b\"],[0.6666666666666666,\"#ed7953\"],[0.7777777777777778,\"#fb9f3a\"],[0.8888888888888888,\"#fdca26\"],[1.0,\"#f0f921\"]]}],\"contourcarpet\":[{\"type\":\"contourcarpet\",\"colorbar\":{\"outlinewidth\":0,\"ticks\":\"\"}}],\"contour\":[{\"type\":\"contour\",\"colorbar\":{\"outlinewidth\":0,\"ticks\":\"\"},\"colorscale\":[[0.0,\"#0d0887\"],[0.1111111111111111,\"#46039f\"],[0.2222222222222222,\"#7201a8\"],[0.3333333333333333,\"#9c179e\"],[0.4444444444444444,\"#bd3786\"],[0.5555555555555556,\"#d8576b\"],[0.6666666666666666,\"#ed7953\"],[0.7777777777777778,\"#fb9f3a\"],[0.8888888888888888,\"#fdca26\"],[1.0,\"#f0f921\"]]}],\"surface\":[{\"type\":\"surface\",\"colorbar\":{\"outlinewidth\":0,\"ticks\":\"\"},\"colorscale\":[[0.0,\"#0d0887\"],[0.1111111111111111,\"#46039f\"],[0.2222222222222222,\"#7201a8\"],[0.3333333333333333,\"#9c179e\"],[0.4444444444444444,\"#bd3786\"],[0.5555555555555556,\"#d8576b\"],[0.6666666666666666,\"#ed7953\"],[0.7777777777777778,\"#fb9f3a\"],[0.8888888888888888,\"#fdca26\"],[1.0,\"#f0f921\"]]}],\"mesh3d\":[{\"type\":\"mesh3d\",\"colorbar\":{\"outlinewidth\":0,\"ticks\":\"\"}}],\"scatter\":[{\"fillpattern\":{\"fillmode\":\"overlay\",\"size\":10,\"solidity\":0.2},\"type\":\"scatter\"}],\"parcoords\":[{\"type\":\"parcoords\",\"line\":{\"colorbar\":{\"outlinewidth\":0,\"ticks\":\"\"}}}],\"scatterpolargl\":[{\"type\":\"scatterpolargl\",\"marker\":{\"colorbar\":{\"outlinewidth\":0,\"ticks\":\"\"}}}],\"bar\":[{\"error_x\":{\"color\":\"#2a3f5f\"},\"error_y\":{\"color\":\"#2a3f5f\"},\"marker\":{\"line\":{\"color\":\"#E5ECF6\",\"width\":0.5},\"pattern\":{\"fillmode\":\"overlay\",\"size\":10,\"solidity\":0.2}},\"type\":\"bar\"}],\"scattergeo\":[{\"type\":\"scattergeo\",\"marker\":{\"colorbar\":{\"outlinewidth\":0,\"ticks\":\"\"}}}],\"scatterpolar\":[{\"type\":\"scatterpolar\",\"marker\":{\"colorbar\":{\"outlinewidth\":0,\"ticks\":\"\"}}}],\"histogram\":[{\"marker\":{\"pattern\":{\"fillmode\":\"overlay\",\"size\":10,\"solidity\":0.2}},\"type\":\"histogram\"}],\"scattergl\":[{\"type\":\"scattergl\",\"marker\":{\"colorbar\":{\"outlinewidth\":0,\"ticks\":\"\"}}}],\"scatter3d\":[{\"type\":\"scatter3d\",\"line\":{\"colorbar\":{\"outlinewidth\":0,\"ticks\":\"\"}},\"marker\":{\"colorbar\":{\"outlinewidth\":0,\"ticks\":\"\"}}}],\"scattermapbox\":[{\"type\":\"scattermapbox\",\"marker\":{\"colorbar\":{\"outlinewidth\":0,\"ticks\":\"\"}}}],\"scatterternary\":[{\"type\":\"scatterternary\",\"marker\":{\"colorbar\":{\"outlinewidth\":0,\"ticks\":\"\"}}}],\"scattercarpet\":[{\"type\":\"scattercarpet\",\"marker\":{\"colorbar\":{\"outlinewidth\":0,\"ticks\":\"\"}}}],\"carpet\":[{\"aaxis\":{\"endlinecolor\":\"#2a3f5f\",\"gridcolor\":\"white\",\"linecolor\":\"white\",\"minorgridcolor\":\"white\",\"startlinecolor\":\"#2a3f5f\"},\"baxis\":{\"endlinecolor\":\"#2a3f5f\",\"gridcolor\":\"white\",\"linecolor\":\"white\",\"minorgridcolor\":\"white\",\"startlinecolor\":\"#2a3f5f\"},\"type\":\"carpet\"}],\"table\":[{\"cells\":{\"fill\":{\"color\":\"#EBF0F8\"},\"line\":{\"color\":\"white\"}},\"header\":{\"fill\":{\"color\":\"#C8D4E3\"},\"line\":{\"color\":\"white\"}},\"type\":\"table\"}],\"barpolar\":[{\"marker\":{\"line\":{\"color\":\"#E5ECF6\",\"width\":0.5},\"pattern\":{\"fillmode\":\"overlay\",\"size\":10,\"solidity\":0.2}},\"type\":\"barpolar\"}],\"pie\":[{\"automargin\":true,\"type\":\"pie\"}]},\"layout\":{\"autotypenumbers\":\"strict\",\"colorway\":[\"#636efa\",\"#EF553B\",\"#00cc96\",\"#ab63fa\",\"#FFA15A\",\"#19d3f3\",\"#FF6692\",\"#B6E880\",\"#FF97FF\",\"#FECB52\"],\"font\":{\"color\":\"#2a3f5f\"},\"hovermode\":\"closest\",\"hoverlabel\":{\"align\":\"left\"},\"paper_bgcolor\":\"white\",\"plot_bgcolor\":\"#E5ECF6\",\"polar\":{\"bgcolor\":\"#E5ECF6\",\"angularaxis\":{\"gridcolor\":\"white\",\"linecolor\":\"white\",\"ticks\":\"\"},\"radialaxis\":{\"gridcolor\":\"white\",\"linecolor\":\"white\",\"ticks\":\"\"}},\"ternary\":{\"bgcolor\":\"#E5ECF6\",\"aaxis\":{\"gridcolor\":\"white\",\"linecolor\":\"white\",\"ticks\":\"\"},\"baxis\":{\"gridcolor\":\"white\",\"linecolor\":\"white\",\"ticks\":\"\"},\"caxis\":{\"gridcolor\":\"white\",\"linecolor\":\"white\",\"ticks\":\"\"}},\"coloraxis\":{\"colorbar\":{\"outlinewidth\":0,\"ticks\":\"\"}},\"colorscale\":{\"sequential\":[[0.0,\"#0d0887\"],[0.1111111111111111,\"#46039f\"],[0.2222222222222222,\"#7201a8\"],[0.3333333333333333,\"#9c179e\"],[0.4444444444444444,\"#bd3786\"],[0.5555555555555556,\"#d8576b\"],[0.6666666666666666,\"#ed7953\"],[0.7777777777777778,\"#fb9f3a\"],[0.8888888888888888,\"#fdca26\"],[1.0,\"#f0f921\"]],\"sequentialminus\":[[0.0,\"#0d0887\"],[0.1111111111111111,\"#46039f\"],[0.2222222222222222,\"#7201a8\"],[0.3333333333333333,\"#9c179e\"],[0.4444444444444444,\"#bd3786\"],[0.5555555555555556,\"#d8576b\"],[0.6666666666666666,\"#ed7953\"],[0.7777777777777778,\"#fb9f3a\"],[0.8888888888888888,\"#fdca26\"],[1.0,\"#f0f921\"]],\"diverging\":[[0,\"#8e0152\"],[0.1,\"#c51b7d\"],[0.2,\"#de77ae\"],[0.3,\"#f1b6da\"],[0.4,\"#fde0ef\"],[0.5,\"#f7f7f7\"],[0.6,\"#e6f5d0\"],[0.7,\"#b8e186\"],[0.8,\"#7fbc41\"],[0.9,\"#4d9221\"],[1,\"#276419\"]]},\"xaxis\":{\"gridcolor\":\"white\",\"linecolor\":\"white\",\"ticks\":\"\",\"title\":{\"standoff\":15},\"zerolinecolor\":\"white\",\"automargin\":true,\"zerolinewidth\":2},\"yaxis\":{\"gridcolor\":\"white\",\"linecolor\":\"white\",\"ticks\":\"\",\"title\":{\"standoff\":15},\"zerolinecolor\":\"white\",\"automargin\":true,\"zerolinewidth\":2},\"scene\":{\"xaxis\":{\"backgroundcolor\":\"#E5ECF6\",\"gridcolor\":\"white\",\"linecolor\":\"white\",\"showbackground\":true,\"ticks\":\"\",\"zerolinecolor\":\"white\",\"gridwidth\":2},\"yaxis\":{\"backgroundcolor\":\"#E5ECF6\",\"gridcolor\":\"white\",\"linecolor\":\"white\",\"showbackground\":true,\"ticks\":\"\",\"zerolinecolor\":\"white\",\"gridwidth\":2},\"zaxis\":{\"backgroundcolor\":\"#E5ECF6\",\"gridcolor\":\"white\",\"linecolor\":\"white\",\"showbackground\":true,\"ticks\":\"\",\"zerolinecolor\":\"white\",\"gridwidth\":2}},\"shapedefaults\":{\"line\":{\"color\":\"#2a3f5f\"}},\"annotationdefaults\":{\"arrowcolor\":\"#2a3f5f\",\"arrowhead\":0,\"arrowwidth\":1},\"geo\":{\"bgcolor\":\"white\",\"landcolor\":\"#E5ECF6\",\"subunitcolor\":\"white\",\"showland\":true,\"showlakes\":true,\"lakecolor\":\"white\"},\"title\":{\"x\":0.05},\"mapbox\":{\"style\":\"light\"}}},\"xaxis\":{\"anchor\":\"y\",\"domain\":[0.0,1.0],\"title\":{\"text\":\"Fecha\"}},\"yaxis\":{\"anchor\":\"x\",\"domain\":[0.0,1.0],\"title\":{\"text\":\"Cantidad de ventas\"}},\"legend\":{\"tracegroupgap\":0},\"title\":{\"text\":\"Tendencia y estacionalidad para España (mínima ventas)\"}},                        {\"responsive\": true}                    ).then(function(){\n",
              "                            \n",
              "var gd = document.getElementById('c96910cd-a43c-478e-8e18-3c6582196c76');\n",
              "var x = new MutationObserver(function (mutations, observer) {{\n",
              "        var display = window.getComputedStyle(gd).display;\n",
              "        if (!display || display === 'none') {{\n",
              "            console.log([gd, 'removed!']);\n",
              "            Plotly.purge(gd);\n",
              "            observer.disconnect();\n",
              "        }}\n",
              "}});\n",
              "\n",
              "// Listen for the removal of the full notebook cells\n",
              "var notebookContainer = gd.closest('#notebook-container');\n",
              "if (notebookContainer) {{\n",
              "    x.observe(notebookContainer, {childList: true});\n",
              "}}\n",
              "\n",
              "// Listen for the clearing of the current output cell\n",
              "var outputEl = gd.closest('.output');\n",
              "if (outputEl) {{\n",
              "    x.observe(outputEl, {childList: true});\n",
              "}}\n",
              "\n",
              "                        })                };                            </script>        </div>\n",
              "</body>\n",
              "</html>"
            ]
          },
          "metadata": {}
        }
      ]
    },
    {
      "cell_type": "markdown",
      "source": [
        "Como se observa"
      ],
      "metadata": {
        "id": "6RdN3t9M-eY9"
      }
    },
    {
      "cell_type": "markdown",
      "source": [
        "**Análisis de la Tendencia**\n",
        "\n",
        "La línea de tendencia roja discontinua tiene una pendiente ascendente, lo que sugiere un crecimiento gradual de las ventas de la marca PepsiCo, que comprende las 6 submarcas anteriores en Europa, en España a lo largo del tiempo. Al formar parte de la misma marca, se analiza como la suma de las ventas.\n",
        "Aunque el crecimiento no es pronunciado, se observa que, en promedio, las ventas han estado aumentando. Esta tendencia ascendente implica que la demanda de esta marca podría estar ganando popularidad en el mercado español o que ciertos factores están favoreciendo el incremento de las ventas, como campañas de marketing, cambios en las preferencias de los consumidores o eventos estacionales recurrentes que favorecen las ventas.\n",
        "\n",
        "**Análisis de la Estacionalidad**\n",
        "\n",
        "Observando la línea azul de las ventas mensuales, se puede identificar un comportamiento estacional claro, con picos altos y bajos recurrentes en determinados períodos del año. Este patrón sugiere que las ventas están influenciadas por factores estacionales específicos. Algunos puntos clave incluyen:\n",
        "\n",
        "- Picos altos en verano (Julio y Agosto): En ambos años analizados, las ventas alcanzan sus niveles más altos en julio y agosto, con el punto máximo en julio de 2023, donde superan las 550,000 unidades. Este aumento coincide con los meses más cálidos, lo que probablemente favorece el consumo de bebidas, impulsando así la demanda.\n",
        "\n",
        "- Picos bajos en invierno (Enero y Febrero): En contraste, los niveles de ventas más bajos se observan consistentemente en enero y febrero de cada año. En el período de diciembre 2023 a enero 2024, las ventas caen por debajo de las 400,000 unidades, probablemente debido a una reducción en el consumo después de las festividades, cuando los consumidores tienden a ajustar sus gastos.\n",
        "\n",
        "- Patrón de recuperación en verano: Al acercarse el verano de 2024, las ventas comienzan a aumentar nuevamente, reflejando un patrón estacional similar al del año anterior. Esto refuerza la influencia de factores climáticos y vacacionales en la demanda, con un volumen de ventas significativamente mayor en los meses cálidos."
      ],
      "metadata": {
        "id": "CYuceSLPk8YQ"
      }
    },
    {
      "cell_type": "markdown",
      "source": [
        "### **Pepsi Max (L3): máxima venta**"
      ],
      "metadata": {
        "id": "lhw2Lu_7oK8y"
      }
    },
    {
      "cell_type": "code",
      "source": [
        "# Filtrar datos para Pepsi Max y calcular las ventas por fecha\n",
        "df_pepsi = df_actual[df_actual['SUBBRAND'] == 'Pepsi Max (L3)'].groupby('Fecha')['AMOUNT'].sum().reset_index()\n",
        "\n",
        "# Cálculo de la tendencia\n",
        "x = np.arange(len(df_pepsi))\n",
        "y = df_pepsi['AMOUNT'].values\n",
        "pendiente, intercepto, _, _, _ = linregress(x, y)\n",
        "tendencia = pendiente * x + intercepto\n",
        "\n",
        "# Creación del gráfico original\n",
        "fig = px.line(df_pepsi, x='Fecha', y='AMOUNT', title='Tendencia y estacionalidad para Pepsi Max (máxima venta)',\n",
        "              labels={'Fecha': 'Fecha', 'AMOUNT': 'Cantidad de ventas'})\n",
        "fig.update_traces(marker=dict(size=10))  # Ajuste del tamaño de los marcadores\n",
        "\n",
        "# Añadir la línea de tendencia como línea discontinua\n",
        "fig.add_trace(go.Scatter(\n",
        "    x=df_pepsi['Fecha'],\n",
        "    y=tendencia,\n",
        "    mode='lines',\n",
        "    name='Tendencia',\n",
        "    line=dict(color='red')  # Línea roja discontinua\n",
        "))\n",
        "\n",
        "# Aplicar el patrón de mínimos y máximos\n",
        "min_indices = list(range(0, len(df_pepsi), 3))  # Mínimos cada 3 meses\n",
        "\n",
        "# Cálculo de índices para máximos con el nuevo patrón: 2, 1, 1, 2, 2, ...\n",
        "max_indices = []\n",
        "max_pattern = [2, 1, 1, 2]  # Patrón de alternancia\n",
        "pattern_length = len(max_pattern)\n",
        "\n",
        "for i, min_idx in enumerate(min_indices):\n",
        "    max_idx = min_idx + max_pattern[i % pattern_length]  # Aplicar el patrón de alternancia\n",
        "\n",
        "    if max_idx < len(df_pepsi):  # Asegurarse de que el índice está en el rango de datos\n",
        "        max_indices.append(max_idx)\n",
        "\n",
        "# Añadir puntos para los mínimos\n",
        "fig.add_trace(go.Scatter(\n",
        "    x=df_pepsi['Fecha'].iloc[min_indices],\n",
        "    y=df_pepsi['AMOUNT'].iloc[min_indices],\n",
        "    mode='markers',\n",
        "    name='Mínimos',\n",
        "    marker=dict(color='blue', size=12, symbol='circle')  # Punto grande en azul para mínimos\n",
        "))\n",
        "\n",
        "# Añadir puntos para los máximos\n",
        "fig.add_trace(go.Scatter(\n",
        "    x=df_pepsi['Fecha'].iloc[max_indices],\n",
        "    y=df_pepsi['AMOUNT'].iloc[max_indices],\n",
        "    mode='markers',\n",
        "    name='Máximos',\n",
        "    marker=dict(color='green', size=12, symbol='circle')  # Punto grande en verde para máximos\n",
        "))\n",
        "\n",
        "# Mostrar el gráfico\n",
        "fig.show()\n"
      ],
      "metadata": {
        "colab": {
          "base_uri": "https://localhost:8080/",
          "height": 542
        },
        "id": "Lrv_Hma89A9O",
        "outputId": "afe4a5bc-0411-4ccc-da4c-45d2c67a52c2"
      },
      "execution_count": 505,
      "outputs": [
        {
          "output_type": "display_data",
          "data": {
            "text/html": [
              "<html>\n",
              "<head><meta charset=\"utf-8\" /></head>\n",
              "<body>\n",
              "    <div>            <script src=\"https://cdnjs.cloudflare.com/ajax/libs/mathjax/2.7.5/MathJax.js?config=TeX-AMS-MML_SVG\"></script><script type=\"text/javascript\">if (window.MathJax && window.MathJax.Hub && window.MathJax.Hub.Config) {window.MathJax.Hub.Config({SVG: {font: \"STIX-Web\"}});}</script>                <script type=\"text/javascript\">window.PlotlyConfig = {MathJaxConfig: 'local'};</script>\n",
              "        <script charset=\"utf-8\" src=\"https://cdn.plot.ly/plotly-2.35.2.min.js\"></script>                <div id=\"81a5cb2d-ed2f-45ca-8ce5-3bb549b798ac\" class=\"plotly-graph-div\" style=\"height:525px; width:100%;\"></div>            <script type=\"text/javascript\">                                    window.PLOTLYENV=window.PLOTLYENV || {};                                    if (document.getElementById(\"81a5cb2d-ed2f-45ca-8ce5-3bb549b798ac\")) {                    Plotly.newPlot(                        \"81a5cb2d-ed2f-45ca-8ce5-3bb549b798ac\",                        [{\"hovertemplate\":\"Fecha=%{x}\\u003cbr\\u003eCantidad de ventas=%{y}\\u003cextra\\u003e\\u003c\\u002fextra\\u003e\",\"legendgroup\":\"\",\"line\":{\"color\":\"#636efa\",\"dash\":\"solid\"},\"marker\":{\"symbol\":\"circle\",\"size\":10},\"mode\":\"lines\",\"name\":\"\",\"orientation\":\"v\",\"showlegend\":false,\"x\":[\"2023-01-01T00:00:00\",\"2023-02-01T00:00:00\",\"2023-03-01T00:00:00\",\"2023-04-01T00:00:00\",\"2023-05-01T00:00:00\",\"2023-06-01T00:00:00\",\"2023-07-01T00:00:00\",\"2023-08-01T00:00:00\",\"2023-09-01T00:00:00\",\"2023-10-01T00:00:00\",\"2023-11-01T00:00:00\",\"2023-12-01T00:00:00\",\"2024-01-01T00:00:00\",\"2024-02-01T00:00:00\",\"2024-03-01T00:00:00\",\"2024-04-01T00:00:00\",\"2024-05-01T00:00:00\",\"2024-06-01T00:00:00\",\"2024-07-01T00:00:00\",\"2024-08-01T00:00:00\"],\"xaxis\":\"x\",\"y\":[14856548.128605945,15463315.967256768,20873551.914991353,17934944.15249419,22325446.036569193,21328548.8814003,18368657.109468464,21608180.963240135,19652280.39006432,18626907.831478518,20722021.60754396,21701863.908770297,15624249.97952067,18256940.63911945,21254343.204710368,20238337.239872657,23110133.530175477,21238809.837675165,20779660.905810736,22733928.40504956],\"yaxis\":\"y\",\"type\":\"scatter\"},{\"line\":{\"color\":\"red\"},\"mode\":\"lines\",\"name\":\"Tendencia\",\"x\":[\"2023-01-01T00:00:00\",\"2023-02-01T00:00:00\",\"2023-03-01T00:00:00\",\"2023-04-01T00:00:00\",\"2023-05-01T00:00:00\",\"2023-06-01T00:00:00\",\"2023-07-01T00:00:00\",\"2023-08-01T00:00:00\",\"2023-09-01T00:00:00\",\"2023-10-01T00:00:00\",\"2023-11-01T00:00:00\",\"2023-12-01T00:00:00\",\"2024-01-01T00:00:00\",\"2024-02-01T00:00:00\",\"2024-03-01T00:00:00\",\"2024-04-01T00:00:00\",\"2024-05-01T00:00:00\",\"2024-06-01T00:00:00\",\"2024-07-01T00:00:00\",\"2024-08-01T00:00:00\"],\"y\":[17929786.630082075,18130328.40919879,18330870.188315507,18531411.967432223,18731953.746548936,18932495.525665652,19133037.30478237,19333579.083899084,19534120.8630158,19734662.642132513,19935204.42124923,20135746.200365946,20336287.979482662,20536829.75859938,20737371.537716094,20937913.316832807,21138455.095949523,21338996.87506624,21539538.654182956,21740080.43329967],\"type\":\"scatter\"},{\"marker\":{\"color\":\"blue\",\"size\":12,\"symbol\":\"circle\"},\"mode\":\"markers\",\"name\":\"Mínimos\",\"x\":[\"2023-01-01T00:00:00\",\"2023-04-01T00:00:00\",\"2023-07-01T00:00:00\",\"2023-10-01T00:00:00\",\"2024-01-01T00:00:00\",\"2024-04-01T00:00:00\",\"2024-07-01T00:00:00\"],\"y\":[14856548.128605945,17934944.15249419,18368657.109468464,18626907.831478518,15624249.97952067,20238337.239872657,20779660.905810736],\"type\":\"scatter\"},{\"marker\":{\"color\":\"green\",\"size\":12,\"symbol\":\"circle\"},\"mode\":\"markers\",\"name\":\"Máximos\",\"x\":[\"2023-03-01T00:00:00\",\"2023-05-01T00:00:00\",\"2023-08-01T00:00:00\",\"2023-12-01T00:00:00\",\"2024-03-01T00:00:00\",\"2024-05-01T00:00:00\",\"2024-08-01T00:00:00\"],\"y\":[20873551.914991353,22325446.036569193,21608180.963240135,21701863.908770297,21254343.204710368,23110133.530175477,22733928.40504956],\"type\":\"scatter\"}],                        {\"template\":{\"data\":{\"histogram2dcontour\":[{\"type\":\"histogram2dcontour\",\"colorbar\":{\"outlinewidth\":0,\"ticks\":\"\"},\"colorscale\":[[0.0,\"#0d0887\"],[0.1111111111111111,\"#46039f\"],[0.2222222222222222,\"#7201a8\"],[0.3333333333333333,\"#9c179e\"],[0.4444444444444444,\"#bd3786\"],[0.5555555555555556,\"#d8576b\"],[0.6666666666666666,\"#ed7953\"],[0.7777777777777778,\"#fb9f3a\"],[0.8888888888888888,\"#fdca26\"],[1.0,\"#f0f921\"]]}],\"choropleth\":[{\"type\":\"choropleth\",\"colorbar\":{\"outlinewidth\":0,\"ticks\":\"\"}}],\"histogram2d\":[{\"type\":\"histogram2d\",\"colorbar\":{\"outlinewidth\":0,\"ticks\":\"\"},\"colorscale\":[[0.0,\"#0d0887\"],[0.1111111111111111,\"#46039f\"],[0.2222222222222222,\"#7201a8\"],[0.3333333333333333,\"#9c179e\"],[0.4444444444444444,\"#bd3786\"],[0.5555555555555556,\"#d8576b\"],[0.6666666666666666,\"#ed7953\"],[0.7777777777777778,\"#fb9f3a\"],[0.8888888888888888,\"#fdca26\"],[1.0,\"#f0f921\"]]}],\"heatmap\":[{\"type\":\"heatmap\",\"colorbar\":{\"outlinewidth\":0,\"ticks\":\"\"},\"colorscale\":[[0.0,\"#0d0887\"],[0.1111111111111111,\"#46039f\"],[0.2222222222222222,\"#7201a8\"],[0.3333333333333333,\"#9c179e\"],[0.4444444444444444,\"#bd3786\"],[0.5555555555555556,\"#d8576b\"],[0.6666666666666666,\"#ed7953\"],[0.7777777777777778,\"#fb9f3a\"],[0.8888888888888888,\"#fdca26\"],[1.0,\"#f0f921\"]]}],\"heatmapgl\":[{\"type\":\"heatmapgl\",\"colorbar\":{\"outlinewidth\":0,\"ticks\":\"\"},\"colorscale\":[[0.0,\"#0d0887\"],[0.1111111111111111,\"#46039f\"],[0.2222222222222222,\"#7201a8\"],[0.3333333333333333,\"#9c179e\"],[0.4444444444444444,\"#bd3786\"],[0.5555555555555556,\"#d8576b\"],[0.6666666666666666,\"#ed7953\"],[0.7777777777777778,\"#fb9f3a\"],[0.8888888888888888,\"#fdca26\"],[1.0,\"#f0f921\"]]}],\"contourcarpet\":[{\"type\":\"contourcarpet\",\"colorbar\":{\"outlinewidth\":0,\"ticks\":\"\"}}],\"contour\":[{\"type\":\"contour\",\"colorbar\":{\"outlinewidth\":0,\"ticks\":\"\"},\"colorscale\":[[0.0,\"#0d0887\"],[0.1111111111111111,\"#46039f\"],[0.2222222222222222,\"#7201a8\"],[0.3333333333333333,\"#9c179e\"],[0.4444444444444444,\"#bd3786\"],[0.5555555555555556,\"#d8576b\"],[0.6666666666666666,\"#ed7953\"],[0.7777777777777778,\"#fb9f3a\"],[0.8888888888888888,\"#fdca26\"],[1.0,\"#f0f921\"]]}],\"surface\":[{\"type\":\"surface\",\"colorbar\":{\"outlinewidth\":0,\"ticks\":\"\"},\"colorscale\":[[0.0,\"#0d0887\"],[0.1111111111111111,\"#46039f\"],[0.2222222222222222,\"#7201a8\"],[0.3333333333333333,\"#9c179e\"],[0.4444444444444444,\"#bd3786\"],[0.5555555555555556,\"#d8576b\"],[0.6666666666666666,\"#ed7953\"],[0.7777777777777778,\"#fb9f3a\"],[0.8888888888888888,\"#fdca26\"],[1.0,\"#f0f921\"]]}],\"mesh3d\":[{\"type\":\"mesh3d\",\"colorbar\":{\"outlinewidth\":0,\"ticks\":\"\"}}],\"scatter\":[{\"fillpattern\":{\"fillmode\":\"overlay\",\"size\":10,\"solidity\":0.2},\"type\":\"scatter\"}],\"parcoords\":[{\"type\":\"parcoords\",\"line\":{\"colorbar\":{\"outlinewidth\":0,\"ticks\":\"\"}}}],\"scatterpolargl\":[{\"type\":\"scatterpolargl\",\"marker\":{\"colorbar\":{\"outlinewidth\":0,\"ticks\":\"\"}}}],\"bar\":[{\"error_x\":{\"color\":\"#2a3f5f\"},\"error_y\":{\"color\":\"#2a3f5f\"},\"marker\":{\"line\":{\"color\":\"#E5ECF6\",\"width\":0.5},\"pattern\":{\"fillmode\":\"overlay\",\"size\":10,\"solidity\":0.2}},\"type\":\"bar\"}],\"scattergeo\":[{\"type\":\"scattergeo\",\"marker\":{\"colorbar\":{\"outlinewidth\":0,\"ticks\":\"\"}}}],\"scatterpolar\":[{\"type\":\"scatterpolar\",\"marker\":{\"colorbar\":{\"outlinewidth\":0,\"ticks\":\"\"}}}],\"histogram\":[{\"marker\":{\"pattern\":{\"fillmode\":\"overlay\",\"size\":10,\"solidity\":0.2}},\"type\":\"histogram\"}],\"scattergl\":[{\"type\":\"scattergl\",\"marker\":{\"colorbar\":{\"outlinewidth\":0,\"ticks\":\"\"}}}],\"scatter3d\":[{\"type\":\"scatter3d\",\"line\":{\"colorbar\":{\"outlinewidth\":0,\"ticks\":\"\"}},\"marker\":{\"colorbar\":{\"outlinewidth\":0,\"ticks\":\"\"}}}],\"scattermapbox\":[{\"type\":\"scattermapbox\",\"marker\":{\"colorbar\":{\"outlinewidth\":0,\"ticks\":\"\"}}}],\"scatterternary\":[{\"type\":\"scatterternary\",\"marker\":{\"colorbar\":{\"outlinewidth\":0,\"ticks\":\"\"}}}],\"scattercarpet\":[{\"type\":\"scattercarpet\",\"marker\":{\"colorbar\":{\"outlinewidth\":0,\"ticks\":\"\"}}}],\"carpet\":[{\"aaxis\":{\"endlinecolor\":\"#2a3f5f\",\"gridcolor\":\"white\",\"linecolor\":\"white\",\"minorgridcolor\":\"white\",\"startlinecolor\":\"#2a3f5f\"},\"baxis\":{\"endlinecolor\":\"#2a3f5f\",\"gridcolor\":\"white\",\"linecolor\":\"white\",\"minorgridcolor\":\"white\",\"startlinecolor\":\"#2a3f5f\"},\"type\":\"carpet\"}],\"table\":[{\"cells\":{\"fill\":{\"color\":\"#EBF0F8\"},\"line\":{\"color\":\"white\"}},\"header\":{\"fill\":{\"color\":\"#C8D4E3\"},\"line\":{\"color\":\"white\"}},\"type\":\"table\"}],\"barpolar\":[{\"marker\":{\"line\":{\"color\":\"#E5ECF6\",\"width\":0.5},\"pattern\":{\"fillmode\":\"overlay\",\"size\":10,\"solidity\":0.2}},\"type\":\"barpolar\"}],\"pie\":[{\"automargin\":true,\"type\":\"pie\"}]},\"layout\":{\"autotypenumbers\":\"strict\",\"colorway\":[\"#636efa\",\"#EF553B\",\"#00cc96\",\"#ab63fa\",\"#FFA15A\",\"#19d3f3\",\"#FF6692\",\"#B6E880\",\"#FF97FF\",\"#FECB52\"],\"font\":{\"color\":\"#2a3f5f\"},\"hovermode\":\"closest\",\"hoverlabel\":{\"align\":\"left\"},\"paper_bgcolor\":\"white\",\"plot_bgcolor\":\"#E5ECF6\",\"polar\":{\"bgcolor\":\"#E5ECF6\",\"angularaxis\":{\"gridcolor\":\"white\",\"linecolor\":\"white\",\"ticks\":\"\"},\"radialaxis\":{\"gridcolor\":\"white\",\"linecolor\":\"white\",\"ticks\":\"\"}},\"ternary\":{\"bgcolor\":\"#E5ECF6\",\"aaxis\":{\"gridcolor\":\"white\",\"linecolor\":\"white\",\"ticks\":\"\"},\"baxis\":{\"gridcolor\":\"white\",\"linecolor\":\"white\",\"ticks\":\"\"},\"caxis\":{\"gridcolor\":\"white\",\"linecolor\":\"white\",\"ticks\":\"\"}},\"coloraxis\":{\"colorbar\":{\"outlinewidth\":0,\"ticks\":\"\"}},\"colorscale\":{\"sequential\":[[0.0,\"#0d0887\"],[0.1111111111111111,\"#46039f\"],[0.2222222222222222,\"#7201a8\"],[0.3333333333333333,\"#9c179e\"],[0.4444444444444444,\"#bd3786\"],[0.5555555555555556,\"#d8576b\"],[0.6666666666666666,\"#ed7953\"],[0.7777777777777778,\"#fb9f3a\"],[0.8888888888888888,\"#fdca26\"],[1.0,\"#f0f921\"]],\"sequentialminus\":[[0.0,\"#0d0887\"],[0.1111111111111111,\"#46039f\"],[0.2222222222222222,\"#7201a8\"],[0.3333333333333333,\"#9c179e\"],[0.4444444444444444,\"#bd3786\"],[0.5555555555555556,\"#d8576b\"],[0.6666666666666666,\"#ed7953\"],[0.7777777777777778,\"#fb9f3a\"],[0.8888888888888888,\"#fdca26\"],[1.0,\"#f0f921\"]],\"diverging\":[[0,\"#8e0152\"],[0.1,\"#c51b7d\"],[0.2,\"#de77ae\"],[0.3,\"#f1b6da\"],[0.4,\"#fde0ef\"],[0.5,\"#f7f7f7\"],[0.6,\"#e6f5d0\"],[0.7,\"#b8e186\"],[0.8,\"#7fbc41\"],[0.9,\"#4d9221\"],[1,\"#276419\"]]},\"xaxis\":{\"gridcolor\":\"white\",\"linecolor\":\"white\",\"ticks\":\"\",\"title\":{\"standoff\":15},\"zerolinecolor\":\"white\",\"automargin\":true,\"zerolinewidth\":2},\"yaxis\":{\"gridcolor\":\"white\",\"linecolor\":\"white\",\"ticks\":\"\",\"title\":{\"standoff\":15},\"zerolinecolor\":\"white\",\"automargin\":true,\"zerolinewidth\":2},\"scene\":{\"xaxis\":{\"backgroundcolor\":\"#E5ECF6\",\"gridcolor\":\"white\",\"linecolor\":\"white\",\"showbackground\":true,\"ticks\":\"\",\"zerolinecolor\":\"white\",\"gridwidth\":2},\"yaxis\":{\"backgroundcolor\":\"#E5ECF6\",\"gridcolor\":\"white\",\"linecolor\":\"white\",\"showbackground\":true,\"ticks\":\"\",\"zerolinecolor\":\"white\",\"gridwidth\":2},\"zaxis\":{\"backgroundcolor\":\"#E5ECF6\",\"gridcolor\":\"white\",\"linecolor\":\"white\",\"showbackground\":true,\"ticks\":\"\",\"zerolinecolor\":\"white\",\"gridwidth\":2}},\"shapedefaults\":{\"line\":{\"color\":\"#2a3f5f\"}},\"annotationdefaults\":{\"arrowcolor\":\"#2a3f5f\",\"arrowhead\":0,\"arrowwidth\":1},\"geo\":{\"bgcolor\":\"white\",\"landcolor\":\"#E5ECF6\",\"subunitcolor\":\"white\",\"showland\":true,\"showlakes\":true,\"lakecolor\":\"white\"},\"title\":{\"x\":0.05},\"mapbox\":{\"style\":\"light\"}}},\"xaxis\":{\"anchor\":\"y\",\"domain\":[0.0,1.0],\"title\":{\"text\":\"Fecha\"}},\"yaxis\":{\"anchor\":\"x\",\"domain\":[0.0,1.0],\"title\":{\"text\":\"Cantidad de ventas\"}},\"legend\":{\"tracegroupgap\":0},\"title\":{\"text\":\"Tendencia y estacionalidad para Pepsi Max (máxima venta)\"}},                        {\"responsive\": true}                    ).then(function(){\n",
              "                            \n",
              "var gd = document.getElementById('81a5cb2d-ed2f-45ca-8ce5-3bb549b798ac');\n",
              "var x = new MutationObserver(function (mutations, observer) {{\n",
              "        var display = window.getComputedStyle(gd).display;\n",
              "        if (!display || display === 'none') {{\n",
              "            console.log([gd, 'removed!']);\n",
              "            Plotly.purge(gd);\n",
              "            observer.disconnect();\n",
              "        }}\n",
              "}});\n",
              "\n",
              "// Listen for the removal of the full notebook cells\n",
              "var notebookContainer = gd.closest('#notebook-container');\n",
              "if (notebookContainer) {{\n",
              "    x.observe(notebookContainer, {childList: true});\n",
              "}}\n",
              "\n",
              "// Listen for the clearing of the current output cell\n",
              "var outputEl = gd.closest('.output');\n",
              "if (outputEl) {{\n",
              "    x.observe(outputEl, {childList: true});\n",
              "}}\n",
              "\n",
              "                        })                };                            </script>        </div>\n",
              "</body>\n",
              "</html>"
            ]
          },
          "metadata": {}
        }
      ]
    },
    {
      "cell_type": "markdown",
      "source": [
        "La gráfica muestra la tendencia y estacionalidad de las ventas de Pepsi Max en España desde el 1 de enero hasta agosto del año siguiente. La serie temporal incluye tanto una línea de tendencia, calculada con regresión lineal, como puntos específicos marcados como mínimos y máximos, siguiendo un patrón preestablecido.\n",
        "\n",
        "**Tendencia ascendente:**\n",
        "\n",
        "Se aprecia claramente una tendencia positiva en el número de ventas. La línea de tendencia roja discontinua muestra una pendiente ascendente, lo que sugiere un crecimiento consistente en la demanda de Pepsi Max a lo largo del tiempo. Este patrón indica una expansión en el mercado o una popularidad creciente de la marca, posiblemente impulsada por factores como el posicionamiento en el mercado y estrategias de marketing.\n",
        "\n",
        "**Análisis de la Estacionalidad**\n",
        "\n",
        "- **Mínimos (trimestrales):** Se destacan cada 3 meses, lo que podría indicar una caída periódica en las ventas de Pepsi Max en estos intervalos. La aparición regular de estos mínimos sugiere que hay ciertos momentos, cada trimestre, donde la demanda disminuye, posiblemente reflejando una tendencia estacional en el consumo.\n",
        "\n",
        "- **Máximos:** Se identifican en un patrón alternante: 2 meses después de un mínimo, luego 1 mes después, seguido nuevamente por 1 mes y luego 2 meses después, y así sucesivamente. Este patrón sugiere que después de cada descenso en las ventas, hay una recuperación que sigue esta secuencia. Esto podría estar relacionado con promociones, eventos o cambios estacionales que impulsan temporalmente las ventas."
      ],
      "metadata": {
        "id": "-eFCUUyq9nqZ"
      }
    },
    {
      "cell_type": "markdown",
      "source": [
        "## **Análisis de datos de predicción**\n",
        "\n",
        "En primer lugar, ajustaremos el formato de los valores en la columna de predicciones, transformando el formato AI_P(mes)F en un valor numérico de mes. Esto permitirá una mejor interpretación temporal de las predicciones y su comparación con los datos reales. Posteriormente, realizaremos un análisis inicial mediante el cálculo de estadísticos descriptivos para los campos numéricos (año, mes y volumen de ventas) en ambos conjuntos. Esta revisión es fundamental para evaluar la coherencia y cobertura temporal de los datos, y nos permitirá verificar si los periodos de predicción se alinean con los años de datos reales disponibles. Finalmente, determinaremos el número de países y sub-marcas representados en los datos, lo cual aportará claridad sobre la complejidad y dimensión del problema de análisis y modelado.\n",
        "\n",
        "\n",
        "Finalmente, calculamos los estadísticos básicos para las columnas numéricas en los datos reales y en las predicciones para observar la distribución de cada subconjunto."
      ],
      "metadata": {
        "id": "qHpCdHJPjyi4"
      }
    },
    {
      "cell_type": "code",
      "source": [
        "# Primero hay que cambair a dos dataset\n",
        "df_forecast['FORECAST_YEAR'] = df_forecast['FORECAST_YEAR'].astype(int)"
      ],
      "metadata": {
        "colab": {
          "base_uri": "https://localhost:8080/"
        },
        "id": "_BYlc_xIJSs1",
        "outputId": "ebb5fefd-6376-4172-9a66-c08353f239c1"
      },
      "execution_count": 506,
      "outputs": [
        {
          "output_type": "stream",
          "name": "stderr",
          "text": [
            "<ipython-input-506-ca7a3dae5826>:2: SettingWithCopyWarning:\n",
            "\n",
            "\n",
            "A value is trying to be set on a copy of a slice from a DataFrame.\n",
            "Try using .loc[row_indexer,col_indexer] = value instead\n",
            "\n",
            "See the caveats in the documentation: https://pandas.pydata.org/pandas-docs/stable/user_guide/indexing.html#returning-a-view-versus-a-copy\n",
            "\n"
          ]
        }
      ]
    },
    {
      "cell_type": "markdown",
      "source": [
        "Los datos se ajustarán como si fueran 1 día después para facilitar futuras representaciones. Por tanto, el dato AI_P02F del 2023, que sería 31 de Enero del 2023, se considerará 1 de Febrero del 2023, que para la finalidad del ejericio no cambia la lógica."
      ],
      "metadata": {
        "id": "Sq4K3ckTY5Yj"
      }
    },
    {
      "cell_type": "code",
      "source": [
        "# cambiar a 12 es 1 y el resto van a su mes\n",
        "import re\n",
        "\n",
        "def extract_number(text):\n",
        "    match = re.search(r'\\d+', text) # Mira lo que sea texto\n",
        "    if match:\n",
        "        return int(match.group(0)) #Coge lo que no sea letra\n",
        "    else:\n",
        "        return 1  # Si no hya nada es proque es el mes enero\n",
        "\n",
        "df_forecast['FORECAST'] = df_forecast['FORECAST'].apply(extract_number)"
      ],
      "metadata": {
        "colab": {
          "base_uri": "https://localhost:8080/"
        },
        "id": "2_yvQOH3L7ps",
        "outputId": "cbfafa97-105b-49cf-c6a5-4e34b12c9f7b"
      },
      "execution_count": 507,
      "outputs": [
        {
          "output_type": "stream",
          "name": "stderr",
          "text": [
            "<ipython-input-507-3074409a2ed1>:11: SettingWithCopyWarning:\n",
            "\n",
            "\n",
            "A value is trying to be set on a copy of a slice from a DataFrame.\n",
            "Try using .loc[row_indexer,col_indexer] = value instead\n",
            "\n",
            "See the caveats in the documentation: https://pandas.pydata.org/pandas-docs/stable/user_guide/indexing.html#returning-a-view-versus-a-copy\n",
            "\n"
          ]
        }
      ]
    },
    {
      "cell_type": "code",
      "source": [
        "df_forecast[['YEAR', 'MONTH', 'FORECAST', 'FORECAST_YEAR', 'AMOUNT']].describe()"
      ],
      "metadata": {
        "colab": {
          "base_uri": "https://localhost:8080/",
          "height": 300
        },
        "id": "AloZdGHFZ4Sa",
        "outputId": "f654ae83-d8fe-48ae-cc25-7d7982a20433"
      },
      "execution_count": 508,
      "outputs": [
        {
          "output_type": "execute_result",
          "data": {
            "text/plain": [
              "               YEAR         MONTH      FORECAST  FORECAST_YEAR        AMOUNT\n",
              "count  17766.000000  17766.000000  17766.000000        17766.0  1.776600e+04\n",
              "mean    2023.732298      6.514860      6.802432         2023.0  9.837240e+05\n",
              "std        0.590992      3.472165      3.430173            0.0  1.915109e+06\n",
              "min     2023.000000      1.000000      1.000000         2023.0  0.000000e+00\n",
              "25%     2023.000000      3.000000      4.000000         2023.0  8.917303e+04\n",
              "50%     2024.000000      7.000000      7.000000         2023.0  3.239128e+05\n",
              "75%     2024.000000     10.000000     10.000000         2023.0  1.100389e+06\n",
              "max     2025.000000     12.000000     12.000000         2023.0  1.373810e+07"
            ],
            "text/html": [
              "\n",
              "  <div id=\"df-2455997d-42a4-4b6d-ac1d-354801906282\" class=\"colab-df-container\">\n",
              "    <div>\n",
              "<style scoped>\n",
              "    .dataframe tbody tr th:only-of-type {\n",
              "        vertical-align: middle;\n",
              "    }\n",
              "\n",
              "    .dataframe tbody tr th {\n",
              "        vertical-align: top;\n",
              "    }\n",
              "\n",
              "    .dataframe thead th {\n",
              "        text-align: right;\n",
              "    }\n",
              "</style>\n",
              "<table border=\"1\" class=\"dataframe\">\n",
              "  <thead>\n",
              "    <tr style=\"text-align: right;\">\n",
              "      <th></th>\n",
              "      <th>YEAR</th>\n",
              "      <th>MONTH</th>\n",
              "      <th>FORECAST</th>\n",
              "      <th>FORECAST_YEAR</th>\n",
              "      <th>AMOUNT</th>\n",
              "    </tr>\n",
              "  </thead>\n",
              "  <tbody>\n",
              "    <tr>\n",
              "      <th>count</th>\n",
              "      <td>17766.000000</td>\n",
              "      <td>17766.000000</td>\n",
              "      <td>17766.000000</td>\n",
              "      <td>17766.0</td>\n",
              "      <td>1.776600e+04</td>\n",
              "    </tr>\n",
              "    <tr>\n",
              "      <th>mean</th>\n",
              "      <td>2023.732298</td>\n",
              "      <td>6.514860</td>\n",
              "      <td>6.802432</td>\n",
              "      <td>2023.0</td>\n",
              "      <td>9.837240e+05</td>\n",
              "    </tr>\n",
              "    <tr>\n",
              "      <th>std</th>\n",
              "      <td>0.590992</td>\n",
              "      <td>3.472165</td>\n",
              "      <td>3.430173</td>\n",
              "      <td>0.0</td>\n",
              "      <td>1.915109e+06</td>\n",
              "    </tr>\n",
              "    <tr>\n",
              "      <th>min</th>\n",
              "      <td>2023.000000</td>\n",
              "      <td>1.000000</td>\n",
              "      <td>1.000000</td>\n",
              "      <td>2023.0</td>\n",
              "      <td>0.000000e+00</td>\n",
              "    </tr>\n",
              "    <tr>\n",
              "      <th>25%</th>\n",
              "      <td>2023.000000</td>\n",
              "      <td>3.000000</td>\n",
              "      <td>4.000000</td>\n",
              "      <td>2023.0</td>\n",
              "      <td>8.917303e+04</td>\n",
              "    </tr>\n",
              "    <tr>\n",
              "      <th>50%</th>\n",
              "      <td>2024.000000</td>\n",
              "      <td>7.000000</td>\n",
              "      <td>7.000000</td>\n",
              "      <td>2023.0</td>\n",
              "      <td>3.239128e+05</td>\n",
              "    </tr>\n",
              "    <tr>\n",
              "      <th>75%</th>\n",
              "      <td>2024.000000</td>\n",
              "      <td>10.000000</td>\n",
              "      <td>10.000000</td>\n",
              "      <td>2023.0</td>\n",
              "      <td>1.100389e+06</td>\n",
              "    </tr>\n",
              "    <tr>\n",
              "      <th>max</th>\n",
              "      <td>2025.000000</td>\n",
              "      <td>12.000000</td>\n",
              "      <td>12.000000</td>\n",
              "      <td>2023.0</td>\n",
              "      <td>1.373810e+07</td>\n",
              "    </tr>\n",
              "  </tbody>\n",
              "</table>\n",
              "</div>\n",
              "    <div class=\"colab-df-buttons\">\n",
              "\n",
              "  <div class=\"colab-df-container\">\n",
              "    <button class=\"colab-df-convert\" onclick=\"convertToInteractive('df-2455997d-42a4-4b6d-ac1d-354801906282')\"\n",
              "            title=\"Convert this dataframe to an interactive table.\"\n",
              "            style=\"display:none;\">\n",
              "\n",
              "  <svg xmlns=\"http://www.w3.org/2000/svg\" height=\"24px\" viewBox=\"0 -960 960 960\">\n",
              "    <path d=\"M120-120v-720h720v720H120Zm60-500h600v-160H180v160Zm220 220h160v-160H400v160Zm0 220h160v-160H400v160ZM180-400h160v-160H180v160Zm440 0h160v-160H620v160ZM180-180h160v-160H180v160Zm440 0h160v-160H620v160Z\"/>\n",
              "  </svg>\n",
              "    </button>\n",
              "\n",
              "  <style>\n",
              "    .colab-df-container {\n",
              "      display:flex;\n",
              "      gap: 12px;\n",
              "    }\n",
              "\n",
              "    .colab-df-convert {\n",
              "      background-color: #E8F0FE;\n",
              "      border: none;\n",
              "      border-radius: 50%;\n",
              "      cursor: pointer;\n",
              "      display: none;\n",
              "      fill: #1967D2;\n",
              "      height: 32px;\n",
              "      padding: 0 0 0 0;\n",
              "      width: 32px;\n",
              "    }\n",
              "\n",
              "    .colab-df-convert:hover {\n",
              "      background-color: #E2EBFA;\n",
              "      box-shadow: 0px 1px 2px rgba(60, 64, 67, 0.3), 0px 1px 3px 1px rgba(60, 64, 67, 0.15);\n",
              "      fill: #174EA6;\n",
              "    }\n",
              "\n",
              "    .colab-df-buttons div {\n",
              "      margin-bottom: 4px;\n",
              "    }\n",
              "\n",
              "    [theme=dark] .colab-df-convert {\n",
              "      background-color: #3B4455;\n",
              "      fill: #D2E3FC;\n",
              "    }\n",
              "\n",
              "    [theme=dark] .colab-df-convert:hover {\n",
              "      background-color: #434B5C;\n",
              "      box-shadow: 0px 1px 3px 1px rgba(0, 0, 0, 0.15);\n",
              "      filter: drop-shadow(0px 1px 2px rgba(0, 0, 0, 0.3));\n",
              "      fill: #FFFFFF;\n",
              "    }\n",
              "  </style>\n",
              "\n",
              "    <script>\n",
              "      const buttonEl =\n",
              "        document.querySelector('#df-2455997d-42a4-4b6d-ac1d-354801906282 button.colab-df-convert');\n",
              "      buttonEl.style.display =\n",
              "        google.colab.kernel.accessAllowed ? 'block' : 'none';\n",
              "\n",
              "      async function convertToInteractive(key) {\n",
              "        const element = document.querySelector('#df-2455997d-42a4-4b6d-ac1d-354801906282');\n",
              "        const dataTable =\n",
              "          await google.colab.kernel.invokeFunction('convertToInteractive',\n",
              "                                                    [key], {});\n",
              "        if (!dataTable) return;\n",
              "\n",
              "        const docLinkHtml = 'Like what you see? Visit the ' +\n",
              "          '<a target=\"_blank\" href=https://colab.research.google.com/notebooks/data_table.ipynb>data table notebook</a>'\n",
              "          + ' to learn more about interactive tables.';\n",
              "        element.innerHTML = '';\n",
              "        dataTable['output_type'] = 'display_data';\n",
              "        await google.colab.output.renderOutput(dataTable, element);\n",
              "        const docLink = document.createElement('div');\n",
              "        docLink.innerHTML = docLinkHtml;\n",
              "        element.appendChild(docLink);\n",
              "      }\n",
              "    </script>\n",
              "  </div>\n",
              "\n",
              "\n",
              "<div id=\"df-7c244940-732b-4faf-a76c-e29f3555bdf9\">\n",
              "  <button class=\"colab-df-quickchart\" onclick=\"quickchart('df-7c244940-732b-4faf-a76c-e29f3555bdf9')\"\n",
              "            title=\"Suggest charts\"\n",
              "            style=\"display:none;\">\n",
              "\n",
              "<svg xmlns=\"http://www.w3.org/2000/svg\" height=\"24px\"viewBox=\"0 0 24 24\"\n",
              "     width=\"24px\">\n",
              "    <g>\n",
              "        <path d=\"M19 3H5c-1.1 0-2 .9-2 2v14c0 1.1.9 2 2 2h14c1.1 0 2-.9 2-2V5c0-1.1-.9-2-2-2zM9 17H7v-7h2v7zm4 0h-2V7h2v10zm4 0h-2v-4h2v4z\"/>\n",
              "    </g>\n",
              "</svg>\n",
              "  </button>\n",
              "\n",
              "<style>\n",
              "  .colab-df-quickchart {\n",
              "      --bg-color: #E8F0FE;\n",
              "      --fill-color: #1967D2;\n",
              "      --hover-bg-color: #E2EBFA;\n",
              "      --hover-fill-color: #174EA6;\n",
              "      --disabled-fill-color: #AAA;\n",
              "      --disabled-bg-color: #DDD;\n",
              "  }\n",
              "\n",
              "  [theme=dark] .colab-df-quickchart {\n",
              "      --bg-color: #3B4455;\n",
              "      --fill-color: #D2E3FC;\n",
              "      --hover-bg-color: #434B5C;\n",
              "      --hover-fill-color: #FFFFFF;\n",
              "      --disabled-bg-color: #3B4455;\n",
              "      --disabled-fill-color: #666;\n",
              "  }\n",
              "\n",
              "  .colab-df-quickchart {\n",
              "    background-color: var(--bg-color);\n",
              "    border: none;\n",
              "    border-radius: 50%;\n",
              "    cursor: pointer;\n",
              "    display: none;\n",
              "    fill: var(--fill-color);\n",
              "    height: 32px;\n",
              "    padding: 0;\n",
              "    width: 32px;\n",
              "  }\n",
              "\n",
              "  .colab-df-quickchart:hover {\n",
              "    background-color: var(--hover-bg-color);\n",
              "    box-shadow: 0 1px 2px rgba(60, 64, 67, 0.3), 0 1px 3px 1px rgba(60, 64, 67, 0.15);\n",
              "    fill: var(--button-hover-fill-color);\n",
              "  }\n",
              "\n",
              "  .colab-df-quickchart-complete:disabled,\n",
              "  .colab-df-quickchart-complete:disabled:hover {\n",
              "    background-color: var(--disabled-bg-color);\n",
              "    fill: var(--disabled-fill-color);\n",
              "    box-shadow: none;\n",
              "  }\n",
              "\n",
              "  .colab-df-spinner {\n",
              "    border: 2px solid var(--fill-color);\n",
              "    border-color: transparent;\n",
              "    border-bottom-color: var(--fill-color);\n",
              "    animation:\n",
              "      spin 1s steps(1) infinite;\n",
              "  }\n",
              "\n",
              "  @keyframes spin {\n",
              "    0% {\n",
              "      border-color: transparent;\n",
              "      border-bottom-color: var(--fill-color);\n",
              "      border-left-color: var(--fill-color);\n",
              "    }\n",
              "    20% {\n",
              "      border-color: transparent;\n",
              "      border-left-color: var(--fill-color);\n",
              "      border-top-color: var(--fill-color);\n",
              "    }\n",
              "    30% {\n",
              "      border-color: transparent;\n",
              "      border-left-color: var(--fill-color);\n",
              "      border-top-color: var(--fill-color);\n",
              "      border-right-color: var(--fill-color);\n",
              "    }\n",
              "    40% {\n",
              "      border-color: transparent;\n",
              "      border-right-color: var(--fill-color);\n",
              "      border-top-color: var(--fill-color);\n",
              "    }\n",
              "    60% {\n",
              "      border-color: transparent;\n",
              "      border-right-color: var(--fill-color);\n",
              "    }\n",
              "    80% {\n",
              "      border-color: transparent;\n",
              "      border-right-color: var(--fill-color);\n",
              "      border-bottom-color: var(--fill-color);\n",
              "    }\n",
              "    90% {\n",
              "      border-color: transparent;\n",
              "      border-bottom-color: var(--fill-color);\n",
              "    }\n",
              "  }\n",
              "</style>\n",
              "\n",
              "  <script>\n",
              "    async function quickchart(key) {\n",
              "      const quickchartButtonEl =\n",
              "        document.querySelector('#' + key + ' button');\n",
              "      quickchartButtonEl.disabled = true;  // To prevent multiple clicks.\n",
              "      quickchartButtonEl.classList.add('colab-df-spinner');\n",
              "      try {\n",
              "        const charts = await google.colab.kernel.invokeFunction(\n",
              "            'suggestCharts', [key], {});\n",
              "      } catch (error) {\n",
              "        console.error('Error during call to suggestCharts:', error);\n",
              "      }\n",
              "      quickchartButtonEl.classList.remove('colab-df-spinner');\n",
              "      quickchartButtonEl.classList.add('colab-df-quickchart-complete');\n",
              "    }\n",
              "    (() => {\n",
              "      let quickchartButtonEl =\n",
              "        document.querySelector('#df-7c244940-732b-4faf-a76c-e29f3555bdf9 button');\n",
              "      quickchartButtonEl.style.display =\n",
              "        google.colab.kernel.accessAllowed ? 'block' : 'none';\n",
              "    })();\n",
              "  </script>\n",
              "</div>\n",
              "\n",
              "    </div>\n",
              "  </div>\n"
            ],
            "application/vnd.google.colaboratory.intrinsic+json": {
              "type": "dataframe",
              "summary": "{\n  \"name\": \"df_forecast[['YEAR', 'MONTH', 'FORECAST', 'FORECAST_YEAR', 'AMOUNT']]\",\n  \"rows\": 8,\n  \"fields\": [\n    {\n      \"column\": \"YEAR\",\n      \"properties\": {\n        \"dtype\": \"number\",\n        \"std\": 5711.94401866726,\n        \"min\": 0.5909919347434179,\n        \"max\": 17766.0,\n        \"num_unique_values\": 6,\n        \"samples\": [\n          17766.0,\n          2023.7322976471912,\n          2025.0\n        ],\n        \"semantic_type\": \"\",\n        \"description\": \"\"\n      }\n    },\n    {\n      \"column\": \"MONTH\",\n      \"properties\": {\n        \"dtype\": \"number\",\n        \"std\": 6279.059428466604,\n        \"min\": 1.0,\n        \"max\": 17766.0,\n        \"num_unique_values\": 8,\n        \"samples\": [\n          6.514859844647079,\n          7.0,\n          17766.0\n        ],\n        \"semantic_type\": \"\",\n        \"description\": \"\"\n      }\n    },\n    {\n      \"column\": \"FORECAST\",\n      \"properties\": {\n        \"dtype\": \"number\",\n        \"std\": 6278.996460539444,\n        \"min\": 1.0,\n        \"max\": 17766.0,\n        \"num_unique_values\": 8,\n        \"samples\": [\n          6.802431610942249,\n          7.0,\n          17766.0\n        ],\n        \"semantic_type\": \"\",\n        \"description\": \"\"\n      }\n    },\n    {\n      \"column\": \"FORECAST_YEAR\",\n      \"properties\": {\n        \"dtype\": \"number\",\n        \"std\": 5712.202202303416,\n        \"min\": 0.0,\n        \"max\": 17766.0,\n        \"num_unique_values\": 3,\n        \"samples\": [\n          17766.0,\n          2023.0,\n          0.0\n        ],\n        \"semantic_type\": \"\",\n        \"description\": \"\"\n      }\n    },\n    {\n      \"column\": \"AMOUNT\",\n      \"properties\": {\n        \"dtype\": \"number\",\n        \"std\": 4681794.639801244,\n        \"min\": 0.0,\n        \"max\": 13738097.17265834,\n        \"num_unique_values\": 8,\n        \"samples\": [\n          983723.9670663896,\n          323912.8339248713,\n          17766.0\n        ],\n        \"semantic_type\": \"\",\n        \"description\": \"\"\n      }\n    }\n  ]\n}"
            }
          },
          "metadata": {},
          "execution_count": 508
        }
      ]
    },
    {
      "cell_type": "markdown",
      "source": [
        "1. **Año de Predicción:**\n",
        "\n",
        "Los años abarcan desde 2023 hasta 2025, con una media cercana a 2024. Esto indica que el horizonte de predicción cubre aproximadamente tres años, con una mayoría concentrada en 2023 y 2024.\n",
        "\n",
        "2. **Mes de Predicción:**\n",
        "\n",
        "Los valores en MONTH va de 1 a 12, cubriendo todos los meses. Esto garantiza que hay datos de predicción para todos los meses del año, permitiendo una evaluación de estacionalidad.\n",
        "\n",
        "3. **Volumen de Ventas (AMOUNT):**\n",
        "\n",
        "La media de ventas predichas es 983,724, pero existe una alta variabilidad (desviación estándar de 1,915,109) con valores que oscilan desde 0 hasta 13,738,100. Esto indica una amplia distribución en los volúmenes de ventas esperados, posiblemente debido a variaciones entre países, productos, o estacionalidad en el tiempo. El 0 implica que no se predijo ninguna venta (observar más adelante).\n",
        "\n",
        "4. **Consistencia Temporal:**\n",
        "\n",
        "El valor constante en FORECAST_YEAR (2023) sugiere que todas las predicciones se han realizado con base en los datos observados de ese año, lo cual puede ser relevante al evaluar la precisión de estos pronósticos."
      ],
      "metadata": {
        "id": "UuZKS7oPmW85"
      }
    },
    {
      "cell_type": "markdown",
      "source": [
        "**Horizonte de predicción**\n",
        "\n",
        "El horizonte de predicción es el periodo de tiempo hacia el futuro para el cual un modelo o método de pronóstico realiza sus estimaciones. En otras palabras, es la extensión temporal que cubre la predicción, definida en unidades de tiempo como días, meses, trimestres o años. En nuestro caso se basa en meses.\n",
        "\n",
        "Para ello, hay que tener en cuanta que hablamos de una sub-marca, en un lugar, y con la predicción qu ese haya hecho en un mes en particular.\n",
        "\n",
        "El horizonte de predicción conincide para todas las marcas, paises y mes en el que se hizo la predicción."
      ],
      "metadata": {
        "id": "T3aFTR3loKNT"
      }
    },
    {
      "cell_type": "code",
      "source": [
        "# Sacar el horizonte de predicción\n",
        "\n",
        "def horizonte(df):\n",
        "  i = 0\n",
        "  for year in range(2023, 2026, 1):\n",
        "    df_year = df[df['YEAR'] == year]\n",
        "    for month in range(1, 13, 1):\n",
        "      if month in df_year['MONTH'].values:\n",
        "        i = i + 1\n",
        "  return i"
      ],
      "metadata": {
        "id": "EmqWptbYooMP"
      },
      "execution_count": 509,
      "outputs": []
    },
    {
      "cell_type": "code",
      "source": [
        "print(f'El horizonte de predicción es de {horizonte(df_forecast[(df_forecast[\"SUBBRAND\"] == \"Lipton (L3)\") & (df_forecast[\"COUNTRY\"] == \"Spain\") & (df_forecast[\"FORECAST\"] == 1)])} meses : Lipton')\n"
      ],
      "metadata": {
        "colab": {
          "base_uri": "https://localhost:8080/"
        },
        "id": "Sp1qF7iM6Gda",
        "outputId": "374e3e06-3b5a-48f1-d486-5820ab0fdb8f"
      },
      "execution_count": 510,
      "outputs": [
        {
          "output_type": "stream",
          "name": "stdout",
          "text": [
            "El horizonte de predicción es de 18 meses : Lipton\n"
          ]
        }
      ]
    },
    {
      "cell_type": "code",
      "source": [
        "print(f'El horizonte de predicción es de {horizonte(df_forecast[(df_forecast[\"SUBBRAND\"] == \"7up (L3)\") & (df_forecast[\"COUNTRY\"] == \"Spain\") & (df_forecast[\"FORECAST\"] == 1) & (df_forecast[\"FORECAST\"] == 1)])} meses: 7up')"
      ],
      "metadata": {
        "colab": {
          "base_uri": "https://localhost:8080/"
        },
        "outputId": "064d073e-0d20-4834-cc3e-b3969c017d63",
        "id": "cKvfL-zn7mKT"
      },
      "execution_count": 511,
      "outputs": [
        {
          "output_type": "stream",
          "name": "stdout",
          "text": [
            "El horizonte de predicción es de 18 meses: 7up\n"
          ]
        }
      ]
    },
    {
      "cell_type": "markdown",
      "source": [
        "**¿Existen varias predicciones de una misma marca en un mismo pais y para un solo mes?**\n",
        "\n",
        "A continuación, realizaremos una comparación detallada de las predicciones para el mes de enero de 2024 de la compañía Lipton en España, con el objetivo de evaluar la precisión y evolución de estas proyecciones. Para ello:\n",
        "\n",
        "- **Predicciones para enero de 2024 realizadas a lo largo de 2023:** Dibujaremos las predicciones realizadas para enero de 2024 en cada uno de los meses de 2023, lo que permitirá observar cómo se han ajustado estas estimaciones a medida que se disponía de más datos reales durante el año. Este análisis mostrará si las proyecciones han sido consistentes o si han variado significativamente con el tiempo.\n",
        "\n",
        "- **Datos reales de 2023:** Incluir los datos reales de ventas mensuales de 2023 permitirá contextualizar la precisión de las predicciones. Al comparar estos valores con las proyecciones para enero de 2024, podremos ver si el modelo ha incorporado de manera efectiva los patrones y tendencias observadas durante el año anterior.\n",
        "\n",
        "- **Valor real de enero de 2024:** Finalmente, compararemos estas predicciones con el valor real de ventas en enero de 2024. Esto nos permitirá evaluar si los ajustes realizados en las proyecciones a lo largo de 2023 han llevado a una predicción acertada o si existe una discrepancia significativa."
      ],
      "metadata": {
        "id": "TBDsduCS8sNf"
      }
    },
    {
      "cell_type": "code",
      "source": [
        "# df_forecast[(df_forecast[\"SUBBRAND\"] == \"Lipton (L3)\") & (df_forecast[\"COUNTRY\"] == \"Spain\") & (df_forecast[\"MONTH\"] == 1) & (df_forecast[\"YEAR\"] == 2024)].sort_values(by=\"FORECAST\")\n"
      ],
      "metadata": {
        "id": "E49ezFbs82m7"
      },
      "execution_count": 512,
      "outputs": []
    },
    {
      "cell_type": "code",
      "source": [
        "# df_actual[(df_actual[\"SUBBRAND\"] == \"Lipton (L3)\") & (df_actual[\"COUNTRY\"] == \"Spain\") & (df_actual[\"YEAR\"] == 2023)].sort_values(by=\"MONTH\")"
      ],
      "metadata": {
        "id": "H5H_hO_UuD2X"
      },
      "execution_count": 513,
      "outputs": []
    },
    {
      "cell_type": "code",
      "source": [
        "# Filtrar prediccion hecha para enero, relaizada en todos los meses del 2023\n",
        "predic_enero = df_forecast[\n",
        "    (df_forecast[\"COUNTRY\"] == \"Spain\") &\n",
        "    (df_forecast[\"SUBBRAND\"] == \"Lipton (L3)\") &\n",
        "    (df_forecast[\"YEAR\"] == 2024) &\n",
        "    (df_forecast[\"MONTH\"] == 1)\n",
        "].sort_values(by=\"FORECAST\")\n",
        "\n",
        "# Filtrar prediccion hecha para enero, relaizada en todos los meses del 2023\n",
        "real_2023 = df_actual[\n",
        "    (df_actual[\"COUNTRY\"] == \"Spain\") &\n",
        "    (df_actual[\"SUBBRAND\"] == \"Lipton (L3)\") &\n",
        "    (df_actual[\"YEAR\"] == 2023)\n",
        "].sort_values(by=\"MONTH\")\n",
        "\n",
        "# Filtrar los índices que cumplen con las condiciones especificadas\n",
        "indices_valor1_24 = df_actual.index[\n",
        "    (df_actual[\"COUNTRY\"] == \"Spain\") &\n",
        "    (df_actual[\"SUBBRAND\"] == \"Lipton (L3)\") &\n",
        "    (df_actual[\"YEAR\"] == 2024) &\n",
        "    (df_actual[\"MONTH\"] == 1)\n",
        "]\n",
        "\n",
        "value = int(df_actual.loc[indices_valor1_24, 'AMOUNT'])"
      ],
      "metadata": {
        "id": "cr4RqfwRxrn7",
        "colab": {
          "base_uri": "https://localhost:8080/"
        },
        "outputId": "9c387b5a-032d-48ba-f8c8-753471aa7712"
      },
      "execution_count": 514,
      "outputs": [
        {
          "output_type": "stream",
          "name": "stderr",
          "text": [
            "<ipython-input-514-f650690ac5df>:24: FutureWarning:\n",
            "\n",
            "Calling int on a single element Series is deprecated and will raise a TypeError in the future. Use int(ser.iloc[0]) instead\n",
            "\n"
          ]
        }
      ]
    },
    {
      "cell_type": "code",
      "source": [
        "# Crear la figura\n",
        "fig = go.Figure()\n",
        "\n",
        "# Agregar la línea de predicciones para 1/24\n",
        "fig.add_trace(go.Scatter(\n",
        "    x=predic_enero[\"FORECAST\"],\n",
        "    y=predic_enero[\"AMOUNT\"],\n",
        "    mode='lines',\n",
        "    name='Predicciones para 1/24',\n",
        "    line=dict(color='blue', width=2)\n",
        "))\n",
        "\n",
        "# Agregar la línea de datos reales para 2023\n",
        "fig.add_trace(go.Scatter(\n",
        "    x=real_2023[\"MONTH\"],\n",
        "    y=real_2023[\"AMOUNT\"],\n",
        "    mode='lines',\n",
        "    name='Real del 2023',\n",
        "    line=dict(color='green', width=2)\n",
        "))\n",
        "\n",
        "# Agregar la línea horizontal para el valor real de 1/24\n",
        "fig.add_hline(\n",
        "    y=value,\n",
        "    line_color=\"red\",\n",
        "    line_dash=\"dot\",\n",
        "    line_width=2,\n",
        "    name=\"Valor real de 1/24\"\n",
        ")\n",
        "\n",
        "fig.add_trace(go.Scatter(\n",
        "    x=[None], y=[None],\n",
        "    mode='lines',\n",
        "    line=dict(color='red', dash='dot', width=2),\n",
        "    name=\"Valor real de 1/24\"\n",
        "))\n",
        "\n",
        "# Configurar el diseño de la leyenda y etiquetas\n",
        "fig.update_layout(\n",
        "    title=\"Predicción del 1 de Enero en España para Lipton: Precisión\",\n",
        "    xaxis_title=\"Meses\",\n",
        "    yaxis_title=\"Amount\",\n",
        "    legend_title=\"Series\",\n",
        "    legend=dict(\n",
        "        title_font_size=12,\n",
        "        font_size=10,\n",
        "        bordercolor=\"Black\",\n",
        "        borderwidth=1,\n",
        "        bgcolor=\"LightGray\"\n",
        "    )\n",
        ")\n",
        "\n",
        "# Mostrar la gráfica\n",
        "fig.show()\n"
      ],
      "metadata": {
        "colab": {
          "base_uri": "https://localhost:8080/",
          "height": 542
        },
        "id": "MIlYYe99PMcj",
        "outputId": "5e156c4d-d341-469b-a2d8-bf3c64958ea3"
      },
      "execution_count": 515,
      "outputs": [
        {
          "output_type": "display_data",
          "data": {
            "text/html": [
              "<html>\n",
              "<head><meta charset=\"utf-8\" /></head>\n",
              "<body>\n",
              "    <div>            <script src=\"https://cdnjs.cloudflare.com/ajax/libs/mathjax/2.7.5/MathJax.js?config=TeX-AMS-MML_SVG\"></script><script type=\"text/javascript\">if (window.MathJax && window.MathJax.Hub && window.MathJax.Hub.Config) {window.MathJax.Hub.Config({SVG: {font: \"STIX-Web\"}});}</script>                <script type=\"text/javascript\">window.PlotlyConfig = {MathJaxConfig: 'local'};</script>\n",
              "        <script charset=\"utf-8\" src=\"https://cdn.plot.ly/plotly-2.35.2.min.js\"></script>                <div id=\"2605b6bb-ddb5-430b-9396-04a7e017bfc0\" class=\"plotly-graph-div\" style=\"height:525px; width:100%;\"></div>            <script type=\"text/javascript\">                                    window.PLOTLYENV=window.PLOTLYENV || {};                                    if (document.getElementById(\"2605b6bb-ddb5-430b-9396-04a7e017bfc0\")) {                    Plotly.newPlot(                        \"2605b6bb-ddb5-430b-9396-04a7e017bfc0\",                        [{\"line\":{\"color\":\"blue\",\"width\":2},\"mode\":\"lines\",\"name\":\"Predicciones para 1\\u002f24\",\"x\":[1,2,3,4,5,6,7,8,9,10,11,12],\"y\":[6767.738847509074,6647.360589772469,12574.94364129255,12171.089746621965,13248.727321247376,12670.573619694456,12820.182302849373,12124.669695185055,11704.779148267997,13480.829252089465,9271.108395110963,9481.729039492018],\"type\":\"scatter\"},{\"line\":{\"color\":\"green\",\"width\":2},\"mode\":\"lines\",\"name\":\"Real del 2023\",\"x\":[1,2,3,4,5,6,7,8,9,10,11,12],\"y\":[9208.97938049918,10132.837981585457,9426.005681457948,9617.009842166068,11759.247227955731,11845.311399723854,13255.914481677031,16355.798251764669,10634.28934295154,10942.085509666931,8034.032890992088,8591.425799032075],\"type\":\"scatter\"},{\"line\":{\"color\":\"red\",\"dash\":\"dot\",\"width\":2},\"mode\":\"lines\",\"name\":\"Valor real de 1\\u002f24\",\"x\":[null],\"y\":[null],\"type\":\"scatter\"}],                        {\"template\":{\"data\":{\"histogram2dcontour\":[{\"type\":\"histogram2dcontour\",\"colorbar\":{\"outlinewidth\":0,\"ticks\":\"\"},\"colorscale\":[[0.0,\"#0d0887\"],[0.1111111111111111,\"#46039f\"],[0.2222222222222222,\"#7201a8\"],[0.3333333333333333,\"#9c179e\"],[0.4444444444444444,\"#bd3786\"],[0.5555555555555556,\"#d8576b\"],[0.6666666666666666,\"#ed7953\"],[0.7777777777777778,\"#fb9f3a\"],[0.8888888888888888,\"#fdca26\"],[1.0,\"#f0f921\"]]}],\"choropleth\":[{\"type\":\"choropleth\",\"colorbar\":{\"outlinewidth\":0,\"ticks\":\"\"}}],\"histogram2d\":[{\"type\":\"histogram2d\",\"colorbar\":{\"outlinewidth\":0,\"ticks\":\"\"},\"colorscale\":[[0.0,\"#0d0887\"],[0.1111111111111111,\"#46039f\"],[0.2222222222222222,\"#7201a8\"],[0.3333333333333333,\"#9c179e\"],[0.4444444444444444,\"#bd3786\"],[0.5555555555555556,\"#d8576b\"],[0.6666666666666666,\"#ed7953\"],[0.7777777777777778,\"#fb9f3a\"],[0.8888888888888888,\"#fdca26\"],[1.0,\"#f0f921\"]]}],\"heatmap\":[{\"type\":\"heatmap\",\"colorbar\":{\"outlinewidth\":0,\"ticks\":\"\"},\"colorscale\":[[0.0,\"#0d0887\"],[0.1111111111111111,\"#46039f\"],[0.2222222222222222,\"#7201a8\"],[0.3333333333333333,\"#9c179e\"],[0.4444444444444444,\"#bd3786\"],[0.5555555555555556,\"#d8576b\"],[0.6666666666666666,\"#ed7953\"],[0.7777777777777778,\"#fb9f3a\"],[0.8888888888888888,\"#fdca26\"],[1.0,\"#f0f921\"]]}],\"heatmapgl\":[{\"type\":\"heatmapgl\",\"colorbar\":{\"outlinewidth\":0,\"ticks\":\"\"},\"colorscale\":[[0.0,\"#0d0887\"],[0.1111111111111111,\"#46039f\"],[0.2222222222222222,\"#7201a8\"],[0.3333333333333333,\"#9c179e\"],[0.4444444444444444,\"#bd3786\"],[0.5555555555555556,\"#d8576b\"],[0.6666666666666666,\"#ed7953\"],[0.7777777777777778,\"#fb9f3a\"],[0.8888888888888888,\"#fdca26\"],[1.0,\"#f0f921\"]]}],\"contourcarpet\":[{\"type\":\"contourcarpet\",\"colorbar\":{\"outlinewidth\":0,\"ticks\":\"\"}}],\"contour\":[{\"type\":\"contour\",\"colorbar\":{\"outlinewidth\":0,\"ticks\":\"\"},\"colorscale\":[[0.0,\"#0d0887\"],[0.1111111111111111,\"#46039f\"],[0.2222222222222222,\"#7201a8\"],[0.3333333333333333,\"#9c179e\"],[0.4444444444444444,\"#bd3786\"],[0.5555555555555556,\"#d8576b\"],[0.6666666666666666,\"#ed7953\"],[0.7777777777777778,\"#fb9f3a\"],[0.8888888888888888,\"#fdca26\"],[1.0,\"#f0f921\"]]}],\"surface\":[{\"type\":\"surface\",\"colorbar\":{\"outlinewidth\":0,\"ticks\":\"\"},\"colorscale\":[[0.0,\"#0d0887\"],[0.1111111111111111,\"#46039f\"],[0.2222222222222222,\"#7201a8\"],[0.3333333333333333,\"#9c179e\"],[0.4444444444444444,\"#bd3786\"],[0.5555555555555556,\"#d8576b\"],[0.6666666666666666,\"#ed7953\"],[0.7777777777777778,\"#fb9f3a\"],[0.8888888888888888,\"#fdca26\"],[1.0,\"#f0f921\"]]}],\"mesh3d\":[{\"type\":\"mesh3d\",\"colorbar\":{\"outlinewidth\":0,\"ticks\":\"\"}}],\"scatter\":[{\"fillpattern\":{\"fillmode\":\"overlay\",\"size\":10,\"solidity\":0.2},\"type\":\"scatter\"}],\"parcoords\":[{\"type\":\"parcoords\",\"line\":{\"colorbar\":{\"outlinewidth\":0,\"ticks\":\"\"}}}],\"scatterpolargl\":[{\"type\":\"scatterpolargl\",\"marker\":{\"colorbar\":{\"outlinewidth\":0,\"ticks\":\"\"}}}],\"bar\":[{\"error_x\":{\"color\":\"#2a3f5f\"},\"error_y\":{\"color\":\"#2a3f5f\"},\"marker\":{\"line\":{\"color\":\"#E5ECF6\",\"width\":0.5},\"pattern\":{\"fillmode\":\"overlay\",\"size\":10,\"solidity\":0.2}},\"type\":\"bar\"}],\"scattergeo\":[{\"type\":\"scattergeo\",\"marker\":{\"colorbar\":{\"outlinewidth\":0,\"ticks\":\"\"}}}],\"scatterpolar\":[{\"type\":\"scatterpolar\",\"marker\":{\"colorbar\":{\"outlinewidth\":0,\"ticks\":\"\"}}}],\"histogram\":[{\"marker\":{\"pattern\":{\"fillmode\":\"overlay\",\"size\":10,\"solidity\":0.2}},\"type\":\"histogram\"}],\"scattergl\":[{\"type\":\"scattergl\",\"marker\":{\"colorbar\":{\"outlinewidth\":0,\"ticks\":\"\"}}}],\"scatter3d\":[{\"type\":\"scatter3d\",\"line\":{\"colorbar\":{\"outlinewidth\":0,\"ticks\":\"\"}},\"marker\":{\"colorbar\":{\"outlinewidth\":0,\"ticks\":\"\"}}}],\"scattermapbox\":[{\"type\":\"scattermapbox\",\"marker\":{\"colorbar\":{\"outlinewidth\":0,\"ticks\":\"\"}}}],\"scatterternary\":[{\"type\":\"scatterternary\",\"marker\":{\"colorbar\":{\"outlinewidth\":0,\"ticks\":\"\"}}}],\"scattercarpet\":[{\"type\":\"scattercarpet\",\"marker\":{\"colorbar\":{\"outlinewidth\":0,\"ticks\":\"\"}}}],\"carpet\":[{\"aaxis\":{\"endlinecolor\":\"#2a3f5f\",\"gridcolor\":\"white\",\"linecolor\":\"white\",\"minorgridcolor\":\"white\",\"startlinecolor\":\"#2a3f5f\"},\"baxis\":{\"endlinecolor\":\"#2a3f5f\",\"gridcolor\":\"white\",\"linecolor\":\"white\",\"minorgridcolor\":\"white\",\"startlinecolor\":\"#2a3f5f\"},\"type\":\"carpet\"}],\"table\":[{\"cells\":{\"fill\":{\"color\":\"#EBF0F8\"},\"line\":{\"color\":\"white\"}},\"header\":{\"fill\":{\"color\":\"#C8D4E3\"},\"line\":{\"color\":\"white\"}},\"type\":\"table\"}],\"barpolar\":[{\"marker\":{\"line\":{\"color\":\"#E5ECF6\",\"width\":0.5},\"pattern\":{\"fillmode\":\"overlay\",\"size\":10,\"solidity\":0.2}},\"type\":\"barpolar\"}],\"pie\":[{\"automargin\":true,\"type\":\"pie\"}]},\"layout\":{\"autotypenumbers\":\"strict\",\"colorway\":[\"#636efa\",\"#EF553B\",\"#00cc96\",\"#ab63fa\",\"#FFA15A\",\"#19d3f3\",\"#FF6692\",\"#B6E880\",\"#FF97FF\",\"#FECB52\"],\"font\":{\"color\":\"#2a3f5f\"},\"hovermode\":\"closest\",\"hoverlabel\":{\"align\":\"left\"},\"paper_bgcolor\":\"white\",\"plot_bgcolor\":\"#E5ECF6\",\"polar\":{\"bgcolor\":\"#E5ECF6\",\"angularaxis\":{\"gridcolor\":\"white\",\"linecolor\":\"white\",\"ticks\":\"\"},\"radialaxis\":{\"gridcolor\":\"white\",\"linecolor\":\"white\",\"ticks\":\"\"}},\"ternary\":{\"bgcolor\":\"#E5ECF6\",\"aaxis\":{\"gridcolor\":\"white\",\"linecolor\":\"white\",\"ticks\":\"\"},\"baxis\":{\"gridcolor\":\"white\",\"linecolor\":\"white\",\"ticks\":\"\"},\"caxis\":{\"gridcolor\":\"white\",\"linecolor\":\"white\",\"ticks\":\"\"}},\"coloraxis\":{\"colorbar\":{\"outlinewidth\":0,\"ticks\":\"\"}},\"colorscale\":{\"sequential\":[[0.0,\"#0d0887\"],[0.1111111111111111,\"#46039f\"],[0.2222222222222222,\"#7201a8\"],[0.3333333333333333,\"#9c179e\"],[0.4444444444444444,\"#bd3786\"],[0.5555555555555556,\"#d8576b\"],[0.6666666666666666,\"#ed7953\"],[0.7777777777777778,\"#fb9f3a\"],[0.8888888888888888,\"#fdca26\"],[1.0,\"#f0f921\"]],\"sequentialminus\":[[0.0,\"#0d0887\"],[0.1111111111111111,\"#46039f\"],[0.2222222222222222,\"#7201a8\"],[0.3333333333333333,\"#9c179e\"],[0.4444444444444444,\"#bd3786\"],[0.5555555555555556,\"#d8576b\"],[0.6666666666666666,\"#ed7953\"],[0.7777777777777778,\"#fb9f3a\"],[0.8888888888888888,\"#fdca26\"],[1.0,\"#f0f921\"]],\"diverging\":[[0,\"#8e0152\"],[0.1,\"#c51b7d\"],[0.2,\"#de77ae\"],[0.3,\"#f1b6da\"],[0.4,\"#fde0ef\"],[0.5,\"#f7f7f7\"],[0.6,\"#e6f5d0\"],[0.7,\"#b8e186\"],[0.8,\"#7fbc41\"],[0.9,\"#4d9221\"],[1,\"#276419\"]]},\"xaxis\":{\"gridcolor\":\"white\",\"linecolor\":\"white\",\"ticks\":\"\",\"title\":{\"standoff\":15},\"zerolinecolor\":\"white\",\"automargin\":true,\"zerolinewidth\":2},\"yaxis\":{\"gridcolor\":\"white\",\"linecolor\":\"white\",\"ticks\":\"\",\"title\":{\"standoff\":15},\"zerolinecolor\":\"white\",\"automargin\":true,\"zerolinewidth\":2},\"scene\":{\"xaxis\":{\"backgroundcolor\":\"#E5ECF6\",\"gridcolor\":\"white\",\"linecolor\":\"white\",\"showbackground\":true,\"ticks\":\"\",\"zerolinecolor\":\"white\",\"gridwidth\":2},\"yaxis\":{\"backgroundcolor\":\"#E5ECF6\",\"gridcolor\":\"white\",\"linecolor\":\"white\",\"showbackground\":true,\"ticks\":\"\",\"zerolinecolor\":\"white\",\"gridwidth\":2},\"zaxis\":{\"backgroundcolor\":\"#E5ECF6\",\"gridcolor\":\"white\",\"linecolor\":\"white\",\"showbackground\":true,\"ticks\":\"\",\"zerolinecolor\":\"white\",\"gridwidth\":2}},\"shapedefaults\":{\"line\":{\"color\":\"#2a3f5f\"}},\"annotationdefaults\":{\"arrowcolor\":\"#2a3f5f\",\"arrowhead\":0,\"arrowwidth\":1},\"geo\":{\"bgcolor\":\"white\",\"landcolor\":\"#E5ECF6\",\"subunitcolor\":\"white\",\"showland\":true,\"showlakes\":true,\"lakecolor\":\"white\"},\"title\":{\"x\":0.05},\"mapbox\":{\"style\":\"light\"}}},\"shapes\":[{\"line\":{\"color\":\"red\",\"dash\":\"dot\",\"width\":2},\"name\":\"Valor real de 1\\u002f24\",\"type\":\"line\",\"x0\":0,\"x1\":1,\"xref\":\"x domain\",\"y0\":7392,\"y1\":7392,\"yref\":\"y\"}],\"legend\":{\"title\":{\"text\":\"Series\",\"font\":{\"size\":12}},\"font\":{\"size\":10},\"bordercolor\":\"Black\",\"borderwidth\":1,\"bgcolor\":\"LightGray\"},\"title\":{\"text\":\"Predicción del 1 de Enero en España para Lipton: Precisión\"},\"xaxis\":{\"title\":{\"text\":\"Meses\"}},\"yaxis\":{\"title\":{\"text\":\"Amount\"}}},                        {\"responsive\": true}                    ).then(function(){\n",
              "                            \n",
              "var gd = document.getElementById('2605b6bb-ddb5-430b-9396-04a7e017bfc0');\n",
              "var x = new MutationObserver(function (mutations, observer) {{\n",
              "        var display = window.getComputedStyle(gd).display;\n",
              "        if (!display || display === 'none') {{\n",
              "            console.log([gd, 'removed!']);\n",
              "            Plotly.purge(gd);\n",
              "            observer.disconnect();\n",
              "        }}\n",
              "}});\n",
              "\n",
              "// Listen for the removal of the full notebook cells\n",
              "var notebookContainer = gd.closest('#notebook-container');\n",
              "if (notebookContainer) {{\n",
              "    x.observe(notebookContainer, {childList: true});\n",
              "}}\n",
              "\n",
              "// Listen for the clearing of the current output cell\n",
              "var outputEl = gd.closest('.output');\n",
              "if (outputEl) {{\n",
              "    x.observe(outputEl, {childList: true});\n",
              "}}\n",
              "\n",
              "                        })                };                            </script>        </div>\n",
              "</body>\n",
              "</html>"
            ]
          },
          "metadata": {}
        }
      ]
    },
    {
      "cell_type": "markdown",
      "source": [
        "Esta gráfica nos ayuda a comprender cómo funcionan las predicciones y cómo se crean. En cada mes, se muestran los datos predichos para el 1 de enero de 2024 (línea azul), basándose en la información disponible hasta ese momento. La línea verde representa los datos reales del 2023. Observamos que cuando hay un aumento en los datos reales, se refleja también en las predicciones. Además, en general, los valores predichos para el 1 de enero suelen ser más optimistas que los datos reales del mes donde se ha realizado la predicción. Además, podemos observar que en general los datos que mejor se ajustan son los de ese mimso mes un año antes (por la estacionalidad de los datos) o los datos realizados un mes antes de los datos."
      ],
      "metadata": {
        "id": "8QL5w3Y3uir4"
      }
    },
    {
      "cell_type": "markdown",
      "source": [
        "**Vamos a crear la columna Fecha**\n",
        "\n",
        "Para poder visulizar correctamente las series temporales."
      ],
      "metadata": {
        "id": "LQRjTmYMpt6w"
      }
    },
    {
      "cell_type": "code",
      "source": [
        "df_forecast['Fecha'] = pd.to_datetime(df_forecast[['YEAR', 'MONTH']].assign(DAY=1))\n",
        "df_forecast = df_forecast.sort_values(by=\"Fecha\")"
      ],
      "metadata": {
        "colab": {
          "base_uri": "https://localhost:8080/"
        },
        "id": "gzhPR4Jbpu34",
        "outputId": "c32b5a9c-3c82-4498-eb49-bdb660894e2b"
      },
      "execution_count": 516,
      "outputs": [
        {
          "output_type": "stream",
          "name": "stderr",
          "text": [
            "<ipython-input-516-1fb03de728ea>:1: SettingWithCopyWarning:\n",
            "\n",
            "\n",
            "A value is trying to be set on a copy of a slice from a DataFrame.\n",
            "Try using .loc[row_indexer,col_indexer] = value instead\n",
            "\n",
            "See the caveats in the documentation: https://pandas.pydata.org/pandas-docs/stable/user_guide/indexing.html#returning-a-view-versus-a-copy\n",
            "\n"
          ]
        }
      ]
    },
    {
      "cell_type": "markdown",
      "source": [
        "## **Errores de predicción**\n",
        "\n",
        "- Sales Amount over Time for {subbrand} (Spain)\n",
        "- Porcentaje de la desviación estandar del error de predicción por marca\n",
        "- Desviación estandar de la predicción en función de la diferencia temporal"
      ],
      "metadata": {
        "id": "27Pd5h_woLBU"
      }
    },
    {
      "cell_type": "code",
      "source": [
        "df_spain_act = df_actual[df_actual['COUNTRY'] == 'Spain']\n",
        "df_spain_for = df_forecast[df_forecast['COUNTRY'] == 'Spain']"
      ],
      "metadata": {
        "id": "ccBUSiNE4KIy"
      },
      "execution_count": 517,
      "outputs": []
    },
    {
      "cell_type": "markdown",
      "source": [
        "**Identificación de varias predicciones hechas en un mismo mes para un mismo dato real:**\n",
        "\n",
        "Por ejemplo, para Pepsi Regular en España, es posible que haya tres predicciones diferentes hechas en abril de 2023 para el dato real de enero de 2024. Este fenómeno introduce redundancia en las predicciones y dificulta el análisis de precisión.\n",
        "\n",
        "**Solución:**\n",
        "\n",
        "Para abordar este inconveniente y permitir un análisis preciso de la precisión del modelo, vamos a calcular la media de las predicciones realizadas en el mismo mes para cada dato real. Al agrupar y promediar las predicciones repetidas, podremos consolidar los datos, eliminando el ruido causado por múltiples predicciones y obteniendo una estimación más representativa de la predicción para cada dato real."
      ],
      "metadata": {
        "id": "JM7qQgwyusWp"
      }
    },
    {
      "cell_type": "code",
      "source": [
        "df_spain_for = df_spain_for.groupby(['SUBBRAND', 'FORECAST', 'Fecha'])['AMOUNT'].mean().reset_index()"
      ],
      "metadata": {
        "id": "Ies_HoEFwSRR"
      },
      "execution_count": 518,
      "outputs": []
    },
    {
      "cell_type": "markdown",
      "source": [
        "### **Pasos previos**\n",
        "\n",
        "**Diferencia de Fecha**"
      ],
      "metadata": {
        "id": "hfs9lcX7v8wN"
      }
    },
    {
      "cell_type": "code",
      "source": [
        "# Asignar siempre 2023 como el año y convertir 'FORECAST' a fecha con el primer día del mes\n",
        "df_spain_for['FechaReal'] = pd.to_datetime(df_spain_for.assign(year=2023, day=1)[['year', 'FORECAST', 'day']].rename(columns={'FORECAST': 'month'}))\n",
        "\n",
        "# Assuming df_spain_for has columns 'FechaReal' and 'Fecha'\n",
        "df_spain_for['Diferencia_Fechas'] = (df_spain_for['Fecha'] - df_spain_for['FechaReal']).dt.days / 30.44\n",
        "df_spain_for['Diferencia_Fechas'] = df_spain_for['Diferencia_Fechas'].round()  # Redondear a meses completos"
      ],
      "metadata": {
        "id": "Fr1JK0wNF4Iu"
      },
      "execution_count": 519,
      "outputs": []
    },
    {
      "cell_type": "markdown",
      "source": [
        "**Número de submarcas en España**\n",
        "\n",
        "El número de submarcas es 5: Pepsi Regular (L3), Pepsi Max (L3), 7up Free (L3), 7up (L3) y Lipton (L3). Donde no aparece ningún registro de Mountain Dew (L3)."
      ],
      "metadata": {
        "id": "zAuWKBAYsWqV"
      }
    },
    {
      "cell_type": "code",
      "source": [
        "# Agrupar por marca y contar la cantidad de registros\n",
        "brand_counts = df_spain_act.groupby('SUBBRAND')['SUBBRAND'].count()\n",
        "\n",
        "# Crear el gráfico de torta\n",
        "fig = px.pie(\n",
        "    brand_counts,\n",
        "    values=brand_counts.values,\n",
        "    names=brand_counts.index,\n",
        "    title='Cantidad de registros por marca en España'\n",
        ")\n",
        "\n",
        "fig.show()"
      ],
      "metadata": {
        "colab": {
          "base_uri": "https://localhost:8080/",
          "height": 542
        },
        "id": "SwDlkoJwsKbb",
        "outputId": "ea99cf93-bc3b-47de-8057-ab21465777a6"
      },
      "execution_count": 520,
      "outputs": [
        {
          "output_type": "display_data",
          "data": {
            "text/html": [
              "<html>\n",
              "<head><meta charset=\"utf-8\" /></head>\n",
              "<body>\n",
              "    <div>            <script src=\"https://cdnjs.cloudflare.com/ajax/libs/mathjax/2.7.5/MathJax.js?config=TeX-AMS-MML_SVG\"></script><script type=\"text/javascript\">if (window.MathJax && window.MathJax.Hub && window.MathJax.Hub.Config) {window.MathJax.Hub.Config({SVG: {font: \"STIX-Web\"}});}</script>                <script type=\"text/javascript\">window.PlotlyConfig = {MathJaxConfig: 'local'};</script>\n",
              "        <script charset=\"utf-8\" src=\"https://cdn.plot.ly/plotly-2.35.2.min.js\"></script>                <div id=\"94caeea2-f0f6-49ea-bc2b-3613e9ffb598\" class=\"plotly-graph-div\" style=\"height:525px; width:100%;\"></div>            <script type=\"text/javascript\">                                    window.PLOTLYENV=window.PLOTLYENV || {};                                    if (document.getElementById(\"94caeea2-f0f6-49ea-bc2b-3613e9ffb598\")) {                    Plotly.newPlot(                        \"94caeea2-f0f6-49ea-bc2b-3613e9ffb598\",                        [{\"domain\":{\"x\":[0.0,1.0],\"y\":[0.0,1.0]},\"hovertemplate\":\"index=%{label}\\u003cbr\\u003evalue=%{value}\\u003cextra\\u003e\\u003c\\u002fextra\\u003e\",\"labels\":[\"7up (L3)\",\"7up Free (L3)\",\"Lipton (L3)\",\"Pepsi Max (L3)\",\"Pepsi Regular (L3)\"],\"legendgroup\":\"\",\"name\":\"\",\"showlegend\":true,\"values\":[20,20,20,20,20],\"type\":\"pie\"}],                        {\"template\":{\"data\":{\"histogram2dcontour\":[{\"type\":\"histogram2dcontour\",\"colorbar\":{\"outlinewidth\":0,\"ticks\":\"\"},\"colorscale\":[[0.0,\"#0d0887\"],[0.1111111111111111,\"#46039f\"],[0.2222222222222222,\"#7201a8\"],[0.3333333333333333,\"#9c179e\"],[0.4444444444444444,\"#bd3786\"],[0.5555555555555556,\"#d8576b\"],[0.6666666666666666,\"#ed7953\"],[0.7777777777777778,\"#fb9f3a\"],[0.8888888888888888,\"#fdca26\"],[1.0,\"#f0f921\"]]}],\"choropleth\":[{\"type\":\"choropleth\",\"colorbar\":{\"outlinewidth\":0,\"ticks\":\"\"}}],\"histogram2d\":[{\"type\":\"histogram2d\",\"colorbar\":{\"outlinewidth\":0,\"ticks\":\"\"},\"colorscale\":[[0.0,\"#0d0887\"],[0.1111111111111111,\"#46039f\"],[0.2222222222222222,\"#7201a8\"],[0.3333333333333333,\"#9c179e\"],[0.4444444444444444,\"#bd3786\"],[0.5555555555555556,\"#d8576b\"],[0.6666666666666666,\"#ed7953\"],[0.7777777777777778,\"#fb9f3a\"],[0.8888888888888888,\"#fdca26\"],[1.0,\"#f0f921\"]]}],\"heatmap\":[{\"type\":\"heatmap\",\"colorbar\":{\"outlinewidth\":0,\"ticks\":\"\"},\"colorscale\":[[0.0,\"#0d0887\"],[0.1111111111111111,\"#46039f\"],[0.2222222222222222,\"#7201a8\"],[0.3333333333333333,\"#9c179e\"],[0.4444444444444444,\"#bd3786\"],[0.5555555555555556,\"#d8576b\"],[0.6666666666666666,\"#ed7953\"],[0.7777777777777778,\"#fb9f3a\"],[0.8888888888888888,\"#fdca26\"],[1.0,\"#f0f921\"]]}],\"heatmapgl\":[{\"type\":\"heatmapgl\",\"colorbar\":{\"outlinewidth\":0,\"ticks\":\"\"},\"colorscale\":[[0.0,\"#0d0887\"],[0.1111111111111111,\"#46039f\"],[0.2222222222222222,\"#7201a8\"],[0.3333333333333333,\"#9c179e\"],[0.4444444444444444,\"#bd3786\"],[0.5555555555555556,\"#d8576b\"],[0.6666666666666666,\"#ed7953\"],[0.7777777777777778,\"#fb9f3a\"],[0.8888888888888888,\"#fdca26\"],[1.0,\"#f0f921\"]]}],\"contourcarpet\":[{\"type\":\"contourcarpet\",\"colorbar\":{\"outlinewidth\":0,\"ticks\":\"\"}}],\"contour\":[{\"type\":\"contour\",\"colorbar\":{\"outlinewidth\":0,\"ticks\":\"\"},\"colorscale\":[[0.0,\"#0d0887\"],[0.1111111111111111,\"#46039f\"],[0.2222222222222222,\"#7201a8\"],[0.3333333333333333,\"#9c179e\"],[0.4444444444444444,\"#bd3786\"],[0.5555555555555556,\"#d8576b\"],[0.6666666666666666,\"#ed7953\"],[0.7777777777777778,\"#fb9f3a\"],[0.8888888888888888,\"#fdca26\"],[1.0,\"#f0f921\"]]}],\"surface\":[{\"type\":\"surface\",\"colorbar\":{\"outlinewidth\":0,\"ticks\":\"\"},\"colorscale\":[[0.0,\"#0d0887\"],[0.1111111111111111,\"#46039f\"],[0.2222222222222222,\"#7201a8\"],[0.3333333333333333,\"#9c179e\"],[0.4444444444444444,\"#bd3786\"],[0.5555555555555556,\"#d8576b\"],[0.6666666666666666,\"#ed7953\"],[0.7777777777777778,\"#fb9f3a\"],[0.8888888888888888,\"#fdca26\"],[1.0,\"#f0f921\"]]}],\"mesh3d\":[{\"type\":\"mesh3d\",\"colorbar\":{\"outlinewidth\":0,\"ticks\":\"\"}}],\"scatter\":[{\"fillpattern\":{\"fillmode\":\"overlay\",\"size\":10,\"solidity\":0.2},\"type\":\"scatter\"}],\"parcoords\":[{\"type\":\"parcoords\",\"line\":{\"colorbar\":{\"outlinewidth\":0,\"ticks\":\"\"}}}],\"scatterpolargl\":[{\"type\":\"scatterpolargl\",\"marker\":{\"colorbar\":{\"outlinewidth\":0,\"ticks\":\"\"}}}],\"bar\":[{\"error_x\":{\"color\":\"#2a3f5f\"},\"error_y\":{\"color\":\"#2a3f5f\"},\"marker\":{\"line\":{\"color\":\"#E5ECF6\",\"width\":0.5},\"pattern\":{\"fillmode\":\"overlay\",\"size\":10,\"solidity\":0.2}},\"type\":\"bar\"}],\"scattergeo\":[{\"type\":\"scattergeo\",\"marker\":{\"colorbar\":{\"outlinewidth\":0,\"ticks\":\"\"}}}],\"scatterpolar\":[{\"type\":\"scatterpolar\",\"marker\":{\"colorbar\":{\"outlinewidth\":0,\"ticks\":\"\"}}}],\"histogram\":[{\"marker\":{\"pattern\":{\"fillmode\":\"overlay\",\"size\":10,\"solidity\":0.2}},\"type\":\"histogram\"}],\"scattergl\":[{\"type\":\"scattergl\",\"marker\":{\"colorbar\":{\"outlinewidth\":0,\"ticks\":\"\"}}}],\"scatter3d\":[{\"type\":\"scatter3d\",\"line\":{\"colorbar\":{\"outlinewidth\":0,\"ticks\":\"\"}},\"marker\":{\"colorbar\":{\"outlinewidth\":0,\"ticks\":\"\"}}}],\"scattermapbox\":[{\"type\":\"scattermapbox\",\"marker\":{\"colorbar\":{\"outlinewidth\":0,\"ticks\":\"\"}}}],\"scatterternary\":[{\"type\":\"scatterternary\",\"marker\":{\"colorbar\":{\"outlinewidth\":0,\"ticks\":\"\"}}}],\"scattercarpet\":[{\"type\":\"scattercarpet\",\"marker\":{\"colorbar\":{\"outlinewidth\":0,\"ticks\":\"\"}}}],\"carpet\":[{\"aaxis\":{\"endlinecolor\":\"#2a3f5f\",\"gridcolor\":\"white\",\"linecolor\":\"white\",\"minorgridcolor\":\"white\",\"startlinecolor\":\"#2a3f5f\"},\"baxis\":{\"endlinecolor\":\"#2a3f5f\",\"gridcolor\":\"white\",\"linecolor\":\"white\",\"minorgridcolor\":\"white\",\"startlinecolor\":\"#2a3f5f\"},\"type\":\"carpet\"}],\"table\":[{\"cells\":{\"fill\":{\"color\":\"#EBF0F8\"},\"line\":{\"color\":\"white\"}},\"header\":{\"fill\":{\"color\":\"#C8D4E3\"},\"line\":{\"color\":\"white\"}},\"type\":\"table\"}],\"barpolar\":[{\"marker\":{\"line\":{\"color\":\"#E5ECF6\",\"width\":0.5},\"pattern\":{\"fillmode\":\"overlay\",\"size\":10,\"solidity\":0.2}},\"type\":\"barpolar\"}],\"pie\":[{\"automargin\":true,\"type\":\"pie\"}]},\"layout\":{\"autotypenumbers\":\"strict\",\"colorway\":[\"#636efa\",\"#EF553B\",\"#00cc96\",\"#ab63fa\",\"#FFA15A\",\"#19d3f3\",\"#FF6692\",\"#B6E880\",\"#FF97FF\",\"#FECB52\"],\"font\":{\"color\":\"#2a3f5f\"},\"hovermode\":\"closest\",\"hoverlabel\":{\"align\":\"left\"},\"paper_bgcolor\":\"white\",\"plot_bgcolor\":\"#E5ECF6\",\"polar\":{\"bgcolor\":\"#E5ECF6\",\"angularaxis\":{\"gridcolor\":\"white\",\"linecolor\":\"white\",\"ticks\":\"\"},\"radialaxis\":{\"gridcolor\":\"white\",\"linecolor\":\"white\",\"ticks\":\"\"}},\"ternary\":{\"bgcolor\":\"#E5ECF6\",\"aaxis\":{\"gridcolor\":\"white\",\"linecolor\":\"white\",\"ticks\":\"\"},\"baxis\":{\"gridcolor\":\"white\",\"linecolor\":\"white\",\"ticks\":\"\"},\"caxis\":{\"gridcolor\":\"white\",\"linecolor\":\"white\",\"ticks\":\"\"}},\"coloraxis\":{\"colorbar\":{\"outlinewidth\":0,\"ticks\":\"\"}},\"colorscale\":{\"sequential\":[[0.0,\"#0d0887\"],[0.1111111111111111,\"#46039f\"],[0.2222222222222222,\"#7201a8\"],[0.3333333333333333,\"#9c179e\"],[0.4444444444444444,\"#bd3786\"],[0.5555555555555556,\"#d8576b\"],[0.6666666666666666,\"#ed7953\"],[0.7777777777777778,\"#fb9f3a\"],[0.8888888888888888,\"#fdca26\"],[1.0,\"#f0f921\"]],\"sequentialminus\":[[0.0,\"#0d0887\"],[0.1111111111111111,\"#46039f\"],[0.2222222222222222,\"#7201a8\"],[0.3333333333333333,\"#9c179e\"],[0.4444444444444444,\"#bd3786\"],[0.5555555555555556,\"#d8576b\"],[0.6666666666666666,\"#ed7953\"],[0.7777777777777778,\"#fb9f3a\"],[0.8888888888888888,\"#fdca26\"],[1.0,\"#f0f921\"]],\"diverging\":[[0,\"#8e0152\"],[0.1,\"#c51b7d\"],[0.2,\"#de77ae\"],[0.3,\"#f1b6da\"],[0.4,\"#fde0ef\"],[0.5,\"#f7f7f7\"],[0.6,\"#e6f5d0\"],[0.7,\"#b8e186\"],[0.8,\"#7fbc41\"],[0.9,\"#4d9221\"],[1,\"#276419\"]]},\"xaxis\":{\"gridcolor\":\"white\",\"linecolor\":\"white\",\"ticks\":\"\",\"title\":{\"standoff\":15},\"zerolinecolor\":\"white\",\"automargin\":true,\"zerolinewidth\":2},\"yaxis\":{\"gridcolor\":\"white\",\"linecolor\":\"white\",\"ticks\":\"\",\"title\":{\"standoff\":15},\"zerolinecolor\":\"white\",\"automargin\":true,\"zerolinewidth\":2},\"scene\":{\"xaxis\":{\"backgroundcolor\":\"#E5ECF6\",\"gridcolor\":\"white\",\"linecolor\":\"white\",\"showbackground\":true,\"ticks\":\"\",\"zerolinecolor\":\"white\",\"gridwidth\":2},\"yaxis\":{\"backgroundcolor\":\"#E5ECF6\",\"gridcolor\":\"white\",\"linecolor\":\"white\",\"showbackground\":true,\"ticks\":\"\",\"zerolinecolor\":\"white\",\"gridwidth\":2},\"zaxis\":{\"backgroundcolor\":\"#E5ECF6\",\"gridcolor\":\"white\",\"linecolor\":\"white\",\"showbackground\":true,\"ticks\":\"\",\"zerolinecolor\":\"white\",\"gridwidth\":2}},\"shapedefaults\":{\"line\":{\"color\":\"#2a3f5f\"}},\"annotationdefaults\":{\"arrowcolor\":\"#2a3f5f\",\"arrowhead\":0,\"arrowwidth\":1},\"geo\":{\"bgcolor\":\"white\",\"landcolor\":\"#E5ECF6\",\"subunitcolor\":\"white\",\"showland\":true,\"showlakes\":true,\"lakecolor\":\"white\"},\"title\":{\"x\":0.05},\"mapbox\":{\"style\":\"light\"}}},\"legend\":{\"tracegroupgap\":0},\"title\":{\"text\":\"Cantidad de registros por marca en España\"}},                        {\"responsive\": true}                    ).then(function(){\n",
              "                            \n",
              "var gd = document.getElementById('94caeea2-f0f6-49ea-bc2b-3613e9ffb598');\n",
              "var x = new MutationObserver(function (mutations, observer) {{\n",
              "        var display = window.getComputedStyle(gd).display;\n",
              "        if (!display || display === 'none') {{\n",
              "            console.log([gd, 'removed!']);\n",
              "            Plotly.purge(gd);\n",
              "            observer.disconnect();\n",
              "        }}\n",
              "}});\n",
              "\n",
              "// Listen for the removal of the full notebook cells\n",
              "var notebookContainer = gd.closest('#notebook-container');\n",
              "if (notebookContainer) {{\n",
              "    x.observe(notebookContainer, {childList: true});\n",
              "}}\n",
              "\n",
              "// Listen for the clearing of the current output cell\n",
              "var outputEl = gd.closest('.output');\n",
              "if (outputEl) {{\n",
              "    x.observe(outputEl, {childList: true});\n",
              "}}\n",
              "\n",
              "                        })                };                            </script>        </div>\n",
              "</body>\n",
              "</html>"
            ]
          },
          "metadata": {}
        }
      ]
    },
    {
      "cell_type": "code",
      "source": [
        "# Merge the two dataframes on 'Fecha', 'SUBBRAND', and 'COUNTRY' to find corresponding values\n",
        "merged_df = pd.merge(df_spain_act, df_spain_for[['Fecha', 'SUBBRAND', 'AMOUNT', 'FechaReal', 'Diferencia_Fechas']],\n",
        "                     on=['Fecha', 'SUBBRAND'], how='inner', suffixes=('_act', '_for'))\n",
        "\n",
        "# Calcular la diferencia entre las columnas 'AMOUNT' de ambos dataframes\n",
        "merged_df['Diferencia_amount'] = merged_df['AMOUNT_act'] - merged_df['AMOUNT_for']"
      ],
      "metadata": {
        "id": "l5NOoJHlT0Gk"
      },
      "execution_count": 521,
      "outputs": []
    },
    {
      "cell_type": "code",
      "source": [
        "merged_df.describe()"
      ],
      "metadata": {
        "colab": {
          "base_uri": "https://localhost:8080/",
          "height": 317
        },
        "id": "4qGwRdQzar_p",
        "outputId": "70c64130-06f1-429c-877b-cebf512fce90"
      },
      "execution_count": 522,
      "outputs": [
        {
          "output_type": "execute_result",
          "data": {
            "text/plain": [
              "              YEAR       MONTH     AMOUNT_act                          Fecha  \\\n",
              "count   855.000000  855.000000     855.000000                            855   \n",
              "mean   2023.543860    6.192982   82715.986029  2023-12-22 23:43:09.473684224   \n",
              "min    2023.000000    1.000000    6855.564870            2023-01-01 00:00:00   \n",
              "25%    2023.000000    4.000000   63363.062934            2023-09-01 00:00:00   \n",
              "50%    2024.000000    6.000000   92671.386943            2024-01-01 00:00:00   \n",
              "75%    2024.000000    8.000000  111719.093644            2024-05-01 00:00:00   \n",
              "max    2024.000000   12.000000  186616.622952            2024-08-01 00:00:00   \n",
              "std       0.498364    3.243288   44334.137816                            NaN   \n",
              "\n",
              "          AMOUNT_for                      FechaReal  Diferencia_Fechas  \\\n",
              "count     855.000000                            855         855.000000   \n",
              "mean    80401.792988  2023-05-24 19:13:41.052631552           6.964912   \n",
              "min      4839.238140            2023-01-01 00:00:00           0.000000   \n",
              "25%     52874.923789            2023-03-01 00:00:00           3.000000   \n",
              "50%     81783.595995            2023-05-01 00:00:00           7.000000   \n",
              "75%    110645.593783            2023-08-01 00:00:00          10.000000   \n",
              "max    238326.723190            2023-12-01 00:00:00          17.000000   \n",
              "std     46296.948055                            NaN           4.628967   \n",
              "\n",
              "       Diferencia_amount  \n",
              "count         855.000000  \n",
              "mean         2314.193041  \n",
              "min        -64956.266067  \n",
              "25%         -5816.193854  \n",
              "50%           227.668007  \n",
              "75%         10884.747531  \n",
              "max         68485.220184  \n",
              "std         16821.692210  "
            ],
            "text/html": [
              "\n",
              "  <div id=\"df-9dcd0184-000d-4e92-a351-48563fb50032\" class=\"colab-df-container\">\n",
              "    <div>\n",
              "<style scoped>\n",
              "    .dataframe tbody tr th:only-of-type {\n",
              "        vertical-align: middle;\n",
              "    }\n",
              "\n",
              "    .dataframe tbody tr th {\n",
              "        vertical-align: top;\n",
              "    }\n",
              "\n",
              "    .dataframe thead th {\n",
              "        text-align: right;\n",
              "    }\n",
              "</style>\n",
              "<table border=\"1\" class=\"dataframe\">\n",
              "  <thead>\n",
              "    <tr style=\"text-align: right;\">\n",
              "      <th></th>\n",
              "      <th>YEAR</th>\n",
              "      <th>MONTH</th>\n",
              "      <th>AMOUNT_act</th>\n",
              "      <th>Fecha</th>\n",
              "      <th>AMOUNT_for</th>\n",
              "      <th>FechaReal</th>\n",
              "      <th>Diferencia_Fechas</th>\n",
              "      <th>Diferencia_amount</th>\n",
              "    </tr>\n",
              "  </thead>\n",
              "  <tbody>\n",
              "    <tr>\n",
              "      <th>count</th>\n",
              "      <td>855.000000</td>\n",
              "      <td>855.000000</td>\n",
              "      <td>855.000000</td>\n",
              "      <td>855</td>\n",
              "      <td>855.000000</td>\n",
              "      <td>855</td>\n",
              "      <td>855.000000</td>\n",
              "      <td>855.000000</td>\n",
              "    </tr>\n",
              "    <tr>\n",
              "      <th>mean</th>\n",
              "      <td>2023.543860</td>\n",
              "      <td>6.192982</td>\n",
              "      <td>82715.986029</td>\n",
              "      <td>2023-12-22 23:43:09.473684224</td>\n",
              "      <td>80401.792988</td>\n",
              "      <td>2023-05-24 19:13:41.052631552</td>\n",
              "      <td>6.964912</td>\n",
              "      <td>2314.193041</td>\n",
              "    </tr>\n",
              "    <tr>\n",
              "      <th>min</th>\n",
              "      <td>2023.000000</td>\n",
              "      <td>1.000000</td>\n",
              "      <td>6855.564870</td>\n",
              "      <td>2023-01-01 00:00:00</td>\n",
              "      <td>4839.238140</td>\n",
              "      <td>2023-01-01 00:00:00</td>\n",
              "      <td>0.000000</td>\n",
              "      <td>-64956.266067</td>\n",
              "    </tr>\n",
              "    <tr>\n",
              "      <th>25%</th>\n",
              "      <td>2023.000000</td>\n",
              "      <td>4.000000</td>\n",
              "      <td>63363.062934</td>\n",
              "      <td>2023-09-01 00:00:00</td>\n",
              "      <td>52874.923789</td>\n",
              "      <td>2023-03-01 00:00:00</td>\n",
              "      <td>3.000000</td>\n",
              "      <td>-5816.193854</td>\n",
              "    </tr>\n",
              "    <tr>\n",
              "      <th>50%</th>\n",
              "      <td>2024.000000</td>\n",
              "      <td>6.000000</td>\n",
              "      <td>92671.386943</td>\n",
              "      <td>2024-01-01 00:00:00</td>\n",
              "      <td>81783.595995</td>\n",
              "      <td>2023-05-01 00:00:00</td>\n",
              "      <td>7.000000</td>\n",
              "      <td>227.668007</td>\n",
              "    </tr>\n",
              "    <tr>\n",
              "      <th>75%</th>\n",
              "      <td>2024.000000</td>\n",
              "      <td>8.000000</td>\n",
              "      <td>111719.093644</td>\n",
              "      <td>2024-05-01 00:00:00</td>\n",
              "      <td>110645.593783</td>\n",
              "      <td>2023-08-01 00:00:00</td>\n",
              "      <td>10.000000</td>\n",
              "      <td>10884.747531</td>\n",
              "    </tr>\n",
              "    <tr>\n",
              "      <th>max</th>\n",
              "      <td>2024.000000</td>\n",
              "      <td>12.000000</td>\n",
              "      <td>186616.622952</td>\n",
              "      <td>2024-08-01 00:00:00</td>\n",
              "      <td>238326.723190</td>\n",
              "      <td>2023-12-01 00:00:00</td>\n",
              "      <td>17.000000</td>\n",
              "      <td>68485.220184</td>\n",
              "    </tr>\n",
              "    <tr>\n",
              "      <th>std</th>\n",
              "      <td>0.498364</td>\n",
              "      <td>3.243288</td>\n",
              "      <td>44334.137816</td>\n",
              "      <td>NaN</td>\n",
              "      <td>46296.948055</td>\n",
              "      <td>NaN</td>\n",
              "      <td>4.628967</td>\n",
              "      <td>16821.692210</td>\n",
              "    </tr>\n",
              "  </tbody>\n",
              "</table>\n",
              "</div>\n",
              "    <div class=\"colab-df-buttons\">\n",
              "\n",
              "  <div class=\"colab-df-container\">\n",
              "    <button class=\"colab-df-convert\" onclick=\"convertToInteractive('df-9dcd0184-000d-4e92-a351-48563fb50032')\"\n",
              "            title=\"Convert this dataframe to an interactive table.\"\n",
              "            style=\"display:none;\">\n",
              "\n",
              "  <svg xmlns=\"http://www.w3.org/2000/svg\" height=\"24px\" viewBox=\"0 -960 960 960\">\n",
              "    <path d=\"M120-120v-720h720v720H120Zm60-500h600v-160H180v160Zm220 220h160v-160H400v160Zm0 220h160v-160H400v160ZM180-400h160v-160H180v160Zm440 0h160v-160H620v160ZM180-180h160v-160H180v160Zm440 0h160v-160H620v160Z\"/>\n",
              "  </svg>\n",
              "    </button>\n",
              "\n",
              "  <style>\n",
              "    .colab-df-container {\n",
              "      display:flex;\n",
              "      gap: 12px;\n",
              "    }\n",
              "\n",
              "    .colab-df-convert {\n",
              "      background-color: #E8F0FE;\n",
              "      border: none;\n",
              "      border-radius: 50%;\n",
              "      cursor: pointer;\n",
              "      display: none;\n",
              "      fill: #1967D2;\n",
              "      height: 32px;\n",
              "      padding: 0 0 0 0;\n",
              "      width: 32px;\n",
              "    }\n",
              "\n",
              "    .colab-df-convert:hover {\n",
              "      background-color: #E2EBFA;\n",
              "      box-shadow: 0px 1px 2px rgba(60, 64, 67, 0.3), 0px 1px 3px 1px rgba(60, 64, 67, 0.15);\n",
              "      fill: #174EA6;\n",
              "    }\n",
              "\n",
              "    .colab-df-buttons div {\n",
              "      margin-bottom: 4px;\n",
              "    }\n",
              "\n",
              "    [theme=dark] .colab-df-convert {\n",
              "      background-color: #3B4455;\n",
              "      fill: #D2E3FC;\n",
              "    }\n",
              "\n",
              "    [theme=dark] .colab-df-convert:hover {\n",
              "      background-color: #434B5C;\n",
              "      box-shadow: 0px 1px 3px 1px rgba(0, 0, 0, 0.15);\n",
              "      filter: drop-shadow(0px 1px 2px rgba(0, 0, 0, 0.3));\n",
              "      fill: #FFFFFF;\n",
              "    }\n",
              "  </style>\n",
              "\n",
              "    <script>\n",
              "      const buttonEl =\n",
              "        document.querySelector('#df-9dcd0184-000d-4e92-a351-48563fb50032 button.colab-df-convert');\n",
              "      buttonEl.style.display =\n",
              "        google.colab.kernel.accessAllowed ? 'block' : 'none';\n",
              "\n",
              "      async function convertToInteractive(key) {\n",
              "        const element = document.querySelector('#df-9dcd0184-000d-4e92-a351-48563fb50032');\n",
              "        const dataTable =\n",
              "          await google.colab.kernel.invokeFunction('convertToInteractive',\n",
              "                                                    [key], {});\n",
              "        if (!dataTable) return;\n",
              "\n",
              "        const docLinkHtml = 'Like what you see? Visit the ' +\n",
              "          '<a target=\"_blank\" href=https://colab.research.google.com/notebooks/data_table.ipynb>data table notebook</a>'\n",
              "          + ' to learn more about interactive tables.';\n",
              "        element.innerHTML = '';\n",
              "        dataTable['output_type'] = 'display_data';\n",
              "        await google.colab.output.renderOutput(dataTable, element);\n",
              "        const docLink = document.createElement('div');\n",
              "        docLink.innerHTML = docLinkHtml;\n",
              "        element.appendChild(docLink);\n",
              "      }\n",
              "    </script>\n",
              "  </div>\n",
              "\n",
              "\n",
              "<div id=\"df-8e9c5fda-418c-4b5e-8e28-38af816731c8\">\n",
              "  <button class=\"colab-df-quickchart\" onclick=\"quickchart('df-8e9c5fda-418c-4b5e-8e28-38af816731c8')\"\n",
              "            title=\"Suggest charts\"\n",
              "            style=\"display:none;\">\n",
              "\n",
              "<svg xmlns=\"http://www.w3.org/2000/svg\" height=\"24px\"viewBox=\"0 0 24 24\"\n",
              "     width=\"24px\">\n",
              "    <g>\n",
              "        <path d=\"M19 3H5c-1.1 0-2 .9-2 2v14c0 1.1.9 2 2 2h14c1.1 0 2-.9 2-2V5c0-1.1-.9-2-2-2zM9 17H7v-7h2v7zm4 0h-2V7h2v10zm4 0h-2v-4h2v4z\"/>\n",
              "    </g>\n",
              "</svg>\n",
              "  </button>\n",
              "\n",
              "<style>\n",
              "  .colab-df-quickchart {\n",
              "      --bg-color: #E8F0FE;\n",
              "      --fill-color: #1967D2;\n",
              "      --hover-bg-color: #E2EBFA;\n",
              "      --hover-fill-color: #174EA6;\n",
              "      --disabled-fill-color: #AAA;\n",
              "      --disabled-bg-color: #DDD;\n",
              "  }\n",
              "\n",
              "  [theme=dark] .colab-df-quickchart {\n",
              "      --bg-color: #3B4455;\n",
              "      --fill-color: #D2E3FC;\n",
              "      --hover-bg-color: #434B5C;\n",
              "      --hover-fill-color: #FFFFFF;\n",
              "      --disabled-bg-color: #3B4455;\n",
              "      --disabled-fill-color: #666;\n",
              "  }\n",
              "\n",
              "  .colab-df-quickchart {\n",
              "    background-color: var(--bg-color);\n",
              "    border: none;\n",
              "    border-radius: 50%;\n",
              "    cursor: pointer;\n",
              "    display: none;\n",
              "    fill: var(--fill-color);\n",
              "    height: 32px;\n",
              "    padding: 0;\n",
              "    width: 32px;\n",
              "  }\n",
              "\n",
              "  .colab-df-quickchart:hover {\n",
              "    background-color: var(--hover-bg-color);\n",
              "    box-shadow: 0 1px 2px rgba(60, 64, 67, 0.3), 0 1px 3px 1px rgba(60, 64, 67, 0.15);\n",
              "    fill: var(--button-hover-fill-color);\n",
              "  }\n",
              "\n",
              "  .colab-df-quickchart-complete:disabled,\n",
              "  .colab-df-quickchart-complete:disabled:hover {\n",
              "    background-color: var(--disabled-bg-color);\n",
              "    fill: var(--disabled-fill-color);\n",
              "    box-shadow: none;\n",
              "  }\n",
              "\n",
              "  .colab-df-spinner {\n",
              "    border: 2px solid var(--fill-color);\n",
              "    border-color: transparent;\n",
              "    border-bottom-color: var(--fill-color);\n",
              "    animation:\n",
              "      spin 1s steps(1) infinite;\n",
              "  }\n",
              "\n",
              "  @keyframes spin {\n",
              "    0% {\n",
              "      border-color: transparent;\n",
              "      border-bottom-color: var(--fill-color);\n",
              "      border-left-color: var(--fill-color);\n",
              "    }\n",
              "    20% {\n",
              "      border-color: transparent;\n",
              "      border-left-color: var(--fill-color);\n",
              "      border-top-color: var(--fill-color);\n",
              "    }\n",
              "    30% {\n",
              "      border-color: transparent;\n",
              "      border-left-color: var(--fill-color);\n",
              "      border-top-color: var(--fill-color);\n",
              "      border-right-color: var(--fill-color);\n",
              "    }\n",
              "    40% {\n",
              "      border-color: transparent;\n",
              "      border-right-color: var(--fill-color);\n",
              "      border-top-color: var(--fill-color);\n",
              "    }\n",
              "    60% {\n",
              "      border-color: transparent;\n",
              "      border-right-color: var(--fill-color);\n",
              "    }\n",
              "    80% {\n",
              "      border-color: transparent;\n",
              "      border-right-color: var(--fill-color);\n",
              "      border-bottom-color: var(--fill-color);\n",
              "    }\n",
              "    90% {\n",
              "      border-color: transparent;\n",
              "      border-bottom-color: var(--fill-color);\n",
              "    }\n",
              "  }\n",
              "</style>\n",
              "\n",
              "  <script>\n",
              "    async function quickchart(key) {\n",
              "      const quickchartButtonEl =\n",
              "        document.querySelector('#' + key + ' button');\n",
              "      quickchartButtonEl.disabled = true;  // To prevent multiple clicks.\n",
              "      quickchartButtonEl.classList.add('colab-df-spinner');\n",
              "      try {\n",
              "        const charts = await google.colab.kernel.invokeFunction(\n",
              "            'suggestCharts', [key], {});\n",
              "      } catch (error) {\n",
              "        console.error('Error during call to suggestCharts:', error);\n",
              "      }\n",
              "      quickchartButtonEl.classList.remove('colab-df-spinner');\n",
              "      quickchartButtonEl.classList.add('colab-df-quickchart-complete');\n",
              "    }\n",
              "    (() => {\n",
              "      let quickchartButtonEl =\n",
              "        document.querySelector('#df-8e9c5fda-418c-4b5e-8e28-38af816731c8 button');\n",
              "      quickchartButtonEl.style.display =\n",
              "        google.colab.kernel.accessAllowed ? 'block' : 'none';\n",
              "    })();\n",
              "  </script>\n",
              "</div>\n",
              "\n",
              "    </div>\n",
              "  </div>\n"
            ],
            "application/vnd.google.colaboratory.intrinsic+json": {
              "type": "dataframe",
              "summary": "{\n  \"name\": \"merged_df\",\n  \"rows\": 8,\n  \"fields\": [\n    {\n      \"column\": \"YEAR\",\n      \"properties\": {\n        \"dtype\": \"number\",\n        \"std\": 773.2263279284673,\n        \"min\": 0.49836414265681056,\n        \"max\": 2024.0,\n        \"num_unique_values\": 5,\n        \"samples\": [\n          2023.5438596491229,\n          0.49836414265681056,\n          2023.0\n        ],\n        \"semantic_type\": \"\",\n        \"description\": \"\"\n      }\n    },\n    {\n      \"column\": \"MONTH\",\n      \"properties\": {\n        \"dtype\": \"number\",\n        \"std\": 300.2639571004748,\n        \"min\": 1.0,\n        \"max\": 855.0,\n        \"num_unique_values\": 8,\n        \"samples\": [\n          6.192982456140351,\n          8.0,\n          855.0\n        ],\n        \"semantic_type\": \"\",\n        \"description\": \"\"\n      }\n    },\n    {\n      \"column\": \"AMOUNT_act\",\n      \"properties\": {\n        \"dtype\": \"number\",\n        \"std\": 60214.57808473017,\n        \"min\": 855.0,\n        \"max\": 186616.62295196296,\n        \"num_unique_values\": 8,\n        \"samples\": [\n          82715.98602922943,\n          111719.09364367,\n          855.0\n        ],\n        \"semantic_type\": \"\",\n        \"description\": \"\"\n      }\n    },\n    {\n      \"column\": \"Fecha\",\n      \"properties\": {\n        \"dtype\": \"date\",\n        \"min\": \"1970-01-01 00:00:00.000000855\",\n        \"max\": \"2024-08-01 00:00:00\",\n        \"num_unique_values\": 7,\n        \"samples\": [\n          \"855\",\n          \"2023-12-22 23:43:09.473684224\",\n          \"2024-05-01 00:00:00\"\n        ],\n        \"semantic_type\": \"\",\n        \"description\": \"\"\n      }\n    },\n    {\n      \"column\": \"AMOUNT_for\",\n      \"properties\": {\n        \"dtype\": \"number\",\n        \"std\": 75330.43948363797,\n        \"min\": 855.0,\n        \"max\": 238326.72318997464,\n        \"num_unique_values\": 8,\n        \"samples\": [\n          80401.79298848718,\n          110645.59378285016,\n          855.0\n        ],\n        \"semantic_type\": \"\",\n        \"description\": \"\"\n      }\n    },\n    {\n      \"column\": \"FechaReal\",\n      \"properties\": {\n        \"dtype\": \"date\",\n        \"min\": \"1970-01-01 00:00:00.000000855\",\n        \"max\": \"2023-12-01 00:00:00\",\n        \"num_unique_values\": 7,\n        \"samples\": [\n          \"855\",\n          \"2023-05-24 19:13:41.052631552\",\n          \"2023-08-01 00:00:00\"\n        ],\n        \"semantic_type\": \"\",\n        \"description\": \"\"\n      }\n    },\n    {\n      \"column\": \"Diferencia_Fechas\",\n      \"properties\": {\n        \"dtype\": \"number\",\n        \"std\": 299.8765698287827,\n        \"min\": 0.0,\n        \"max\": 855.0,\n        \"num_unique_values\": 8,\n        \"samples\": [\n          6.964912280701754,\n          10.0,\n          855.0\n        ],\n        \"semantic_type\": \"\",\n        \"description\": \"\"\n      }\n    },\n    {\n      \"column\": \"Diferencia_amount\",\n      \"properties\": {\n        \"dtype\": \"number\",\n        \"std\": 36345.87759852361,\n        \"min\": -64956.266066840646,\n        \"max\": 68485.22018363433,\n        \"num_unique_values\": 8,\n        \"samples\": [\n          2314.193040742267,\n          10884.7475306349,\n          855.0\n        ],\n        \"semantic_type\": \"\",\n        \"description\": \"\"\n      }\n    }\n  ]\n}"
            }
          },
          "metadata": {},
          "execution_count": 522
        }
      ]
    },
    {
      "cell_type": "markdown",
      "source": [
        "#### **El análisis de las fechas:**\n",
        "\n",
        "- **Horizonte de Predicción:** La columna Diferencia_Fechas muestra que las predicciones se realizan en un horizonte de 18 meses, de 0 a 17 meses. Esto significa que las predicciones pueden proyectarse hasta 18 meses en el futuro respecto a la fecha de predicción inicial. Así certificamso los datos, que estudiamos anteriormente.\n",
        "\n",
        "- **Predicciones en 2023 y Ausencia de Comparaciones Directas para 2024:** Todas las predicciones fueron realizadas en 2023. Por lo tanto, cuando analizamos datos de 2024, no existen predicciones para el mismo mes de 2024 con una Diferencia_Fechas de 0. Esto implica que no es posible comparar el rendimiento de una predicción hecha para el mes actual (0 meses) con una predicción hecha para 17 meses en el futuro, ya que no hay datos correspondientes al mismo mes en 2024. Cualquier comparación entre predicciones a 0 y 17 meses es inadecuada porque se trata de periodos de tiempo distintos, con contextos y variables diferentes.\n",
        "\n",
        "- **Diferencia_Fechas** representa el número de meses entre la fecha real y la fecha de predicción, con una media de 6.65 meses. Esto sugiere que, en promedio, las predicciones se hacen para un horizonte de alrededor de medio año.\n",
        "La desviación estándar de 4.43 meses indica que existe una variabilidad considerable en los horizontes de predicción, con algunas predicciones a corto plazo y otras a largo plazo, lo que podría influir en la precisión de las mismas.\n",
        "- **Análisis del Error:** Dado que no podemos comparar directamente las predicciones hechas a diferentes horizontes de tiempo (por ejemplo, 0 meses vs. 17 meses), el análisis se centrará en calcular y comparar el error estándar y la media del error en función de Diferencia_Fechas. Esto permitirá evaluar cómo varía la precisión de las predicciones según el horizonte temporal, proporcionando una visión más completa de los errores en los distintos horizontes de predicción."
      ],
      "metadata": {
        "id": "wm_54OBqbF8t"
      }
    },
    {
      "cell_type": "markdown",
      "source": [
        "#### **El análisis de ventas:**\n",
        "\n",
        "- **AMOUNT_act** (cantidad real) tiene una media de 96,547.79, mientras que **AMOUNT_for** (cantidad predicha) tiene una media ligeramente superior, de 97,863.24. Esto indica que, en promedio, las predicciones tienden a ser un poco más optimistas que los valores reales.\n",
        "Los valores mínimos para ambas columnas también destacan diferencias: la venta real más baja es de 6,855.56 mientras que la predicción más baja es de 4,839.24, lo que indica que incluso en escenarios de baja demanda, las predicciones subestimaron las ventas.\n",
        "La desviación estándar de AMOUNT_act es de 40,746.28 y para AMOUNT_for es de 48,332.33, lo que sugiere una mayor variabilidad en las predicciones en comparación con los datos reales.\n",
        "\n",
        "- **Diferencia_amount** muestra la diferencia entre las ventas reales y las predichas. La media de -1,315.45 indica una ligera sobreestimación en las predicciones en general.\n",
        "Los valores de Diferencia_amount oscilan entre un mínimo de -165,740.15 y un máximo de 68,485.22, lo que indica que las predicciones a veces sobreestiman y otras subestiman de manera significativa. La desviación estándar de 23,905.86 refleja una alta variabilidad en la precisión de las predicciones, destacando posibles patrones estacionales o de comportamiento en las ventas que no han sido capturados con precisión por el modelo de predicción."
      ],
      "metadata": {
        "id": "yeIMdymsDK9I"
      }
    },
    {
      "cell_type": "markdown",
      "source": [
        "### **Gráficas de precisión**"
      ],
      "metadata": {
        "id": "8NTewc1yC1c-"
      }
    },
    {
      "cell_type": "code",
      "source": [
        "def graficar_serie_temporal(merged_df, marca, lineas):\n",
        "  # Filtrar datos para 7up en España\n",
        "  df_7up_spain = merged_df[(merged_df['SUBBRAND'] == marca)]\n",
        "\n",
        "  # Crear la figura de Plotly\n",
        "  fig = go.Figure()\n",
        "\n",
        "  # Agregar las predicciones para cada 'Diferencia_Fechas'\n",
        "  for diferencia in df_7up_spain['Diferencia_Fechas'].unique():\n",
        "      visible = True if diferencia in lineas else 'legendonly'  # Mostrar solo 0, 12, 17 al inicio\n",
        "      fig.add_trace(go.Scatter(\n",
        "          x=df_7up_spain[df_7up_spain['Diferencia_Fechas'] == diferencia]['Fecha'],\n",
        "          y=df_7up_spain[df_7up_spain['Diferencia_Fechas'] == diferencia]['AMOUNT_for'],\n",
        "          mode='lines',\n",
        "          name=f'Predicción: Diferencia - {diferencia} meses)',\n",
        "          line=dict(width=2),\n",
        "          visible=visible\n",
        "      ))\n",
        "\n",
        "  # Añadir la línea real como una línea roja más gruesa\n",
        "  fig.add_trace(go.Scatter(\n",
        "      x=df_7up_spain['Fecha'],\n",
        "      y=df_7up_spain['AMOUNT_act'],\n",
        "      mode='lines',\n",
        "      name='Valor Real',\n",
        "      line=dict(color='red', width=3),\n",
        "      visible=True\n",
        "  ))\n",
        "\n",
        "  # Configuración del título y etiquetas\n",
        "  fig.update_layout(\n",
        "      title=f'Serie temporal {marca}: Valor Real -vs- Predicciones<br><sup>Selecciona las líneas en la leyenda para mostrar u ocultar predicciones según Diferencia_Fechas</sup>',\n",
        "      xaxis_title='Fecha',\n",
        "      yaxis_title='Ventas'\n",
        "  )\n",
        "\n",
        "  # Mostrar la gráfica\n",
        "  fig.show()\n"
      ],
      "metadata": {
        "id": "4UGY2ZnTqBH_"
      },
      "execution_count": 523,
      "outputs": []
    },
    {
      "cell_type": "markdown",
      "source": [
        "Mostrar las predicciones para años como 2025 o más adelante no sería útil en este caso, ya que no contamos con datos reales para esos periodos y, por lo tanto, no podemos evaluar la precisión de las predicciones. Las predicciones sin datos reales equivalentes no aportan valor al análisis comparativo.\n",
        "\n",
        "La gráfica anterior, es un ejmplo para mostrar como son las predicciones en comparación con los datos reales. Por lo que solo se muestra un ejemplo, porque no ofrece información real sobre lo bueno que son las predicciones."
      ],
      "metadata": {
        "id": "-YF22IWQfZFJ"
      }
    },
    {
      "cell_type": "code",
      "source": [
        "def graficar_desviacion_normalizada_producto(merged_df, producto):\n",
        "    # Filtrar datos para el producto y país especificados\n",
        "    df_producto_pais = merged_df[(merged_df['SUBBRAND'] == producto)]\n",
        "\n",
        "    # Agrupar por 'Diferencia_Fechas' y calcular la desviación estándar y la media de 'Diferencia_amount'\n",
        "    std_by_horizon = df_producto_pais.groupby('Diferencia_Fechas')['Diferencia_amount'].agg(sum_abs=lambda x: x.abs().sum(), count='count', min = 'min', max = 'max')\n",
        "\n",
        "    # Normalizar la desviación estándar dividiéndola entre la media\n",
        "    std_by_horizon['normalized_std'] = (std_by_horizon['sum_abs'] / std_by_horizon['count'])\n",
        "\n",
        "    # Crear el gráfico de barras\n",
        "    fig = px.bar(\n",
        "        std_by_horizon,\n",
        "        x=std_by_horizon.index,\n",
        "        y='normalized_std',\n",
        "        labels={'Diferencia_Fechas': 'Horizonte de Predicción (Meses)', 'normalized_std': 'Media de Error Absoluto'},\n",
        "        title=f'Media de Error Absoluto para {producto} por Horizonte de Predicción'\n",
        "    )\n",
        "\n",
        "    # Mostrar el gráfico\n",
        "    fig.show()"
      ],
      "metadata": {
        "id": "r3DN3AgJoKs3"
      },
      "execution_count": 524,
      "outputs": []
    },
    {
      "cell_type": "markdown",
      "source": [
        "El error de precisión por cada marca se calcula sumando los errores absolutos en `Diferencia_amount` para cada marca y horizonte de predicción, y luego dividiendo esta suma por el número de predicciones realizadas en ese horizonte para dicha marca. Como hemos visto anteriormente, solo se analizan las predicciones que pueden compararse con datos reales, por lo que las predicciones a largo plazo suelen tener muy pocos registros disponibles, por lo que pueden tener errores menos representativos.\n",
        "\n",
        "Este método permite evaluar la precisión de las predicciones en distintos horizontes, ponderando el error en función del número de predicciones y resaltando la fiabilidad de las predicciones a corto plazo."
      ],
      "metadata": {
        "id": "_h_n-F4hDWdc"
      }
    },
    {
      "cell_type": "markdown",
      "source": [
        "#### **Precisión por cada marca y horizonte**"
      ],
      "metadata": {
        "id": "otnYcxe-EywD"
      }
    },
    {
      "cell_type": "code",
      "source": [
        "graficar_desviacion_normalizada_producto(merged_df, producto='7up (L3)')\n"
      ],
      "metadata": {
        "colab": {
          "base_uri": "https://localhost:8080/",
          "height": 542
        },
        "id": "4sojr5zrohke",
        "outputId": "727eb96f-fb3c-486e-ec22-aee681cba7e4"
      },
      "execution_count": 525,
      "outputs": [
        {
          "output_type": "display_data",
          "data": {
            "text/html": [
              "<html>\n",
              "<head><meta charset=\"utf-8\" /></head>\n",
              "<body>\n",
              "    <div>            <script src=\"https://cdnjs.cloudflare.com/ajax/libs/mathjax/2.7.5/MathJax.js?config=TeX-AMS-MML_SVG\"></script><script type=\"text/javascript\">if (window.MathJax && window.MathJax.Hub && window.MathJax.Hub.Config) {window.MathJax.Hub.Config({SVG: {font: \"STIX-Web\"}});}</script>                <script type=\"text/javascript\">window.PlotlyConfig = {MathJaxConfig: 'local'};</script>\n",
              "        <script charset=\"utf-8\" src=\"https://cdn.plot.ly/plotly-2.35.2.min.js\"></script>                <div id=\"6b71e2c3-09f3-417d-83c8-4fd784631813\" class=\"plotly-graph-div\" style=\"height:525px; width:100%;\"></div>            <script type=\"text/javascript\">                                    window.PLOTLYENV=window.PLOTLYENV || {};                                    if (document.getElementById(\"6b71e2c3-09f3-417d-83c8-4fd784631813\")) {                    Plotly.newPlot(                        \"6b71e2c3-09f3-417d-83c8-4fd784631813\",                        [{\"alignmentgroup\":\"True\",\"hovertemplate\":\"Horizonte de Predicción (Meses)=%{x}\\u003cbr\\u003eMedia de Error Absoluto=%{y}\\u003cextra\\u003e\\u003c\\u002fextra\\u003e\",\"legendgroup\":\"\",\"marker\":{\"color\":\"#636efa\",\"pattern\":{\"shape\":\"\"}},\"name\":\"\",\"offsetgroup\":\"\",\"orientation\":\"v\",\"showlegend\":false,\"textposition\":\"auto\",\"x\":[0.0,1.0,2.0,3.0,4.0,5.0,6.0,7.0,8.0,9.0,10.0,11.0,12.0,13.0,14.0,15.0,16.0,17.0],\"xaxis\":\"x\",\"y\":[15638.842564180877,16182.35750334448,15785.89661346801,13497.653953870462,14655.918443128203,15542.05053809437,15089.119851341055,15620.61233110657,15599.299942872529,14127.496083259653,16705.135469941,16142.41161719624,21716.244396084563,20727.13259198536,20174.570290946227,19985.363999513676,17482.33808914235,12951.456026408812],\"yaxis\":\"y\",\"type\":\"bar\"}],                        {\"template\":{\"data\":{\"histogram2dcontour\":[{\"type\":\"histogram2dcontour\",\"colorbar\":{\"outlinewidth\":0,\"ticks\":\"\"},\"colorscale\":[[0.0,\"#0d0887\"],[0.1111111111111111,\"#46039f\"],[0.2222222222222222,\"#7201a8\"],[0.3333333333333333,\"#9c179e\"],[0.4444444444444444,\"#bd3786\"],[0.5555555555555556,\"#d8576b\"],[0.6666666666666666,\"#ed7953\"],[0.7777777777777778,\"#fb9f3a\"],[0.8888888888888888,\"#fdca26\"],[1.0,\"#f0f921\"]]}],\"choropleth\":[{\"type\":\"choropleth\",\"colorbar\":{\"outlinewidth\":0,\"ticks\":\"\"}}],\"histogram2d\":[{\"type\":\"histogram2d\",\"colorbar\":{\"outlinewidth\":0,\"ticks\":\"\"},\"colorscale\":[[0.0,\"#0d0887\"],[0.1111111111111111,\"#46039f\"],[0.2222222222222222,\"#7201a8\"],[0.3333333333333333,\"#9c179e\"],[0.4444444444444444,\"#bd3786\"],[0.5555555555555556,\"#d8576b\"],[0.6666666666666666,\"#ed7953\"],[0.7777777777777778,\"#fb9f3a\"],[0.8888888888888888,\"#fdca26\"],[1.0,\"#f0f921\"]]}],\"heatmap\":[{\"type\":\"heatmap\",\"colorbar\":{\"outlinewidth\":0,\"ticks\":\"\"},\"colorscale\":[[0.0,\"#0d0887\"],[0.1111111111111111,\"#46039f\"],[0.2222222222222222,\"#7201a8\"],[0.3333333333333333,\"#9c179e\"],[0.4444444444444444,\"#bd3786\"],[0.5555555555555556,\"#d8576b\"],[0.6666666666666666,\"#ed7953\"],[0.7777777777777778,\"#fb9f3a\"],[0.8888888888888888,\"#fdca26\"],[1.0,\"#f0f921\"]]}],\"heatmapgl\":[{\"type\":\"heatmapgl\",\"colorbar\":{\"outlinewidth\":0,\"ticks\":\"\"},\"colorscale\":[[0.0,\"#0d0887\"],[0.1111111111111111,\"#46039f\"],[0.2222222222222222,\"#7201a8\"],[0.3333333333333333,\"#9c179e\"],[0.4444444444444444,\"#bd3786\"],[0.5555555555555556,\"#d8576b\"],[0.6666666666666666,\"#ed7953\"],[0.7777777777777778,\"#fb9f3a\"],[0.8888888888888888,\"#fdca26\"],[1.0,\"#f0f921\"]]}],\"contourcarpet\":[{\"type\":\"contourcarpet\",\"colorbar\":{\"outlinewidth\":0,\"ticks\":\"\"}}],\"contour\":[{\"type\":\"contour\",\"colorbar\":{\"outlinewidth\":0,\"ticks\":\"\"},\"colorscale\":[[0.0,\"#0d0887\"],[0.1111111111111111,\"#46039f\"],[0.2222222222222222,\"#7201a8\"],[0.3333333333333333,\"#9c179e\"],[0.4444444444444444,\"#bd3786\"],[0.5555555555555556,\"#d8576b\"],[0.6666666666666666,\"#ed7953\"],[0.7777777777777778,\"#fb9f3a\"],[0.8888888888888888,\"#fdca26\"],[1.0,\"#f0f921\"]]}],\"surface\":[{\"type\":\"surface\",\"colorbar\":{\"outlinewidth\":0,\"ticks\":\"\"},\"colorscale\":[[0.0,\"#0d0887\"],[0.1111111111111111,\"#46039f\"],[0.2222222222222222,\"#7201a8\"],[0.3333333333333333,\"#9c179e\"],[0.4444444444444444,\"#bd3786\"],[0.5555555555555556,\"#d8576b\"],[0.6666666666666666,\"#ed7953\"],[0.7777777777777778,\"#fb9f3a\"],[0.8888888888888888,\"#fdca26\"],[1.0,\"#f0f921\"]]}],\"mesh3d\":[{\"type\":\"mesh3d\",\"colorbar\":{\"outlinewidth\":0,\"ticks\":\"\"}}],\"scatter\":[{\"fillpattern\":{\"fillmode\":\"overlay\",\"size\":10,\"solidity\":0.2},\"type\":\"scatter\"}],\"parcoords\":[{\"type\":\"parcoords\",\"line\":{\"colorbar\":{\"outlinewidth\":0,\"ticks\":\"\"}}}],\"scatterpolargl\":[{\"type\":\"scatterpolargl\",\"marker\":{\"colorbar\":{\"outlinewidth\":0,\"ticks\":\"\"}}}],\"bar\":[{\"error_x\":{\"color\":\"#2a3f5f\"},\"error_y\":{\"color\":\"#2a3f5f\"},\"marker\":{\"line\":{\"color\":\"#E5ECF6\",\"width\":0.5},\"pattern\":{\"fillmode\":\"overlay\",\"size\":10,\"solidity\":0.2}},\"type\":\"bar\"}],\"scattergeo\":[{\"type\":\"scattergeo\",\"marker\":{\"colorbar\":{\"outlinewidth\":0,\"ticks\":\"\"}}}],\"scatterpolar\":[{\"type\":\"scatterpolar\",\"marker\":{\"colorbar\":{\"outlinewidth\":0,\"ticks\":\"\"}}}],\"histogram\":[{\"marker\":{\"pattern\":{\"fillmode\":\"overlay\",\"size\":10,\"solidity\":0.2}},\"type\":\"histogram\"}],\"scattergl\":[{\"type\":\"scattergl\",\"marker\":{\"colorbar\":{\"outlinewidth\":0,\"ticks\":\"\"}}}],\"scatter3d\":[{\"type\":\"scatter3d\",\"line\":{\"colorbar\":{\"outlinewidth\":0,\"ticks\":\"\"}},\"marker\":{\"colorbar\":{\"outlinewidth\":0,\"ticks\":\"\"}}}],\"scattermapbox\":[{\"type\":\"scattermapbox\",\"marker\":{\"colorbar\":{\"outlinewidth\":0,\"ticks\":\"\"}}}],\"scatterternary\":[{\"type\":\"scatterternary\",\"marker\":{\"colorbar\":{\"outlinewidth\":0,\"ticks\":\"\"}}}],\"scattercarpet\":[{\"type\":\"scattercarpet\",\"marker\":{\"colorbar\":{\"outlinewidth\":0,\"ticks\":\"\"}}}],\"carpet\":[{\"aaxis\":{\"endlinecolor\":\"#2a3f5f\",\"gridcolor\":\"white\",\"linecolor\":\"white\",\"minorgridcolor\":\"white\",\"startlinecolor\":\"#2a3f5f\"},\"baxis\":{\"endlinecolor\":\"#2a3f5f\",\"gridcolor\":\"white\",\"linecolor\":\"white\",\"minorgridcolor\":\"white\",\"startlinecolor\":\"#2a3f5f\"},\"type\":\"carpet\"}],\"table\":[{\"cells\":{\"fill\":{\"color\":\"#EBF0F8\"},\"line\":{\"color\":\"white\"}},\"header\":{\"fill\":{\"color\":\"#C8D4E3\"},\"line\":{\"color\":\"white\"}},\"type\":\"table\"}],\"barpolar\":[{\"marker\":{\"line\":{\"color\":\"#E5ECF6\",\"width\":0.5},\"pattern\":{\"fillmode\":\"overlay\",\"size\":10,\"solidity\":0.2}},\"type\":\"barpolar\"}],\"pie\":[{\"automargin\":true,\"type\":\"pie\"}]},\"layout\":{\"autotypenumbers\":\"strict\",\"colorway\":[\"#636efa\",\"#EF553B\",\"#00cc96\",\"#ab63fa\",\"#FFA15A\",\"#19d3f3\",\"#FF6692\",\"#B6E880\",\"#FF97FF\",\"#FECB52\"],\"font\":{\"color\":\"#2a3f5f\"},\"hovermode\":\"closest\",\"hoverlabel\":{\"align\":\"left\"},\"paper_bgcolor\":\"white\",\"plot_bgcolor\":\"#E5ECF6\",\"polar\":{\"bgcolor\":\"#E5ECF6\",\"angularaxis\":{\"gridcolor\":\"white\",\"linecolor\":\"white\",\"ticks\":\"\"},\"radialaxis\":{\"gridcolor\":\"white\",\"linecolor\":\"white\",\"ticks\":\"\"}},\"ternary\":{\"bgcolor\":\"#E5ECF6\",\"aaxis\":{\"gridcolor\":\"white\",\"linecolor\":\"white\",\"ticks\":\"\"},\"baxis\":{\"gridcolor\":\"white\",\"linecolor\":\"white\",\"ticks\":\"\"},\"caxis\":{\"gridcolor\":\"white\",\"linecolor\":\"white\",\"ticks\":\"\"}},\"coloraxis\":{\"colorbar\":{\"outlinewidth\":0,\"ticks\":\"\"}},\"colorscale\":{\"sequential\":[[0.0,\"#0d0887\"],[0.1111111111111111,\"#46039f\"],[0.2222222222222222,\"#7201a8\"],[0.3333333333333333,\"#9c179e\"],[0.4444444444444444,\"#bd3786\"],[0.5555555555555556,\"#d8576b\"],[0.6666666666666666,\"#ed7953\"],[0.7777777777777778,\"#fb9f3a\"],[0.8888888888888888,\"#fdca26\"],[1.0,\"#f0f921\"]],\"sequentialminus\":[[0.0,\"#0d0887\"],[0.1111111111111111,\"#46039f\"],[0.2222222222222222,\"#7201a8\"],[0.3333333333333333,\"#9c179e\"],[0.4444444444444444,\"#bd3786\"],[0.5555555555555556,\"#d8576b\"],[0.6666666666666666,\"#ed7953\"],[0.7777777777777778,\"#fb9f3a\"],[0.8888888888888888,\"#fdca26\"],[1.0,\"#f0f921\"]],\"diverging\":[[0,\"#8e0152\"],[0.1,\"#c51b7d\"],[0.2,\"#de77ae\"],[0.3,\"#f1b6da\"],[0.4,\"#fde0ef\"],[0.5,\"#f7f7f7\"],[0.6,\"#e6f5d0\"],[0.7,\"#b8e186\"],[0.8,\"#7fbc41\"],[0.9,\"#4d9221\"],[1,\"#276419\"]]},\"xaxis\":{\"gridcolor\":\"white\",\"linecolor\":\"white\",\"ticks\":\"\",\"title\":{\"standoff\":15},\"zerolinecolor\":\"white\",\"automargin\":true,\"zerolinewidth\":2},\"yaxis\":{\"gridcolor\":\"white\",\"linecolor\":\"white\",\"ticks\":\"\",\"title\":{\"standoff\":15},\"zerolinecolor\":\"white\",\"automargin\":true,\"zerolinewidth\":2},\"scene\":{\"xaxis\":{\"backgroundcolor\":\"#E5ECF6\",\"gridcolor\":\"white\",\"linecolor\":\"white\",\"showbackground\":true,\"ticks\":\"\",\"zerolinecolor\":\"white\",\"gridwidth\":2},\"yaxis\":{\"backgroundcolor\":\"#E5ECF6\",\"gridcolor\":\"white\",\"linecolor\":\"white\",\"showbackground\":true,\"ticks\":\"\",\"zerolinecolor\":\"white\",\"gridwidth\":2},\"zaxis\":{\"backgroundcolor\":\"#E5ECF6\",\"gridcolor\":\"white\",\"linecolor\":\"white\",\"showbackground\":true,\"ticks\":\"\",\"zerolinecolor\":\"white\",\"gridwidth\":2}},\"shapedefaults\":{\"line\":{\"color\":\"#2a3f5f\"}},\"annotationdefaults\":{\"arrowcolor\":\"#2a3f5f\",\"arrowhead\":0,\"arrowwidth\":1},\"geo\":{\"bgcolor\":\"white\",\"landcolor\":\"#E5ECF6\",\"subunitcolor\":\"white\",\"showland\":true,\"showlakes\":true,\"lakecolor\":\"white\"},\"title\":{\"x\":0.05},\"mapbox\":{\"style\":\"light\"}}},\"xaxis\":{\"anchor\":\"y\",\"domain\":[0.0,1.0],\"title\":{\"text\":\"Horizonte de Predicción (Meses)\"}},\"yaxis\":{\"anchor\":\"x\",\"domain\":[0.0,1.0],\"title\":{\"text\":\"Media de Error Absoluto\"}},\"legend\":{\"tracegroupgap\":0},\"title\":{\"text\":\"Media de Error Absoluto para 7up (L3) por Horizonte de Predicción\"},\"barmode\":\"relative\"},                        {\"responsive\": true}                    ).then(function(){\n",
              "                            \n",
              "var gd = document.getElementById('6b71e2c3-09f3-417d-83c8-4fd784631813');\n",
              "var x = new MutationObserver(function (mutations, observer) {{\n",
              "        var display = window.getComputedStyle(gd).display;\n",
              "        if (!display || display === 'none') {{\n",
              "            console.log([gd, 'removed!']);\n",
              "            Plotly.purge(gd);\n",
              "            observer.disconnect();\n",
              "        }}\n",
              "}});\n",
              "\n",
              "// Listen for the removal of the full notebook cells\n",
              "var notebookContainer = gd.closest('#notebook-container');\n",
              "if (notebookContainer) {{\n",
              "    x.observe(notebookContainer, {childList: true});\n",
              "}}\n",
              "\n",
              "// Listen for the clearing of the current output cell\n",
              "var outputEl = gd.closest('.output');\n",
              "if (outputEl) {{\n",
              "    x.observe(outputEl, {childList: true});\n",
              "}}\n",
              "\n",
              "                        })                };                            </script>        </div>\n",
              "</body>\n",
              "</html>"
            ]
          },
          "metadata": {}
        }
      ]
    },
    {
      "cell_type": "code",
      "source": [
        "graficar_serie_temporal(merged_df, '7up (L3)', [3, 12, 17])"
      ],
      "metadata": {
        "colab": {
          "base_uri": "https://localhost:8080/",
          "height": 542
        },
        "id": "SSpgBsEBqOzp",
        "outputId": "144f1800-fa8a-4398-e8e8-7b4af4567531"
      },
      "execution_count": 526,
      "outputs": [
        {
          "output_type": "display_data",
          "data": {
            "text/html": [
              "<html>\n",
              "<head><meta charset=\"utf-8\" /></head>\n",
              "<body>\n",
              "    <div>            <script src=\"https://cdnjs.cloudflare.com/ajax/libs/mathjax/2.7.5/MathJax.js?config=TeX-AMS-MML_SVG\"></script><script type=\"text/javascript\">if (window.MathJax && window.MathJax.Hub && window.MathJax.Hub.Config) {window.MathJax.Hub.Config({SVG: {font: \"STIX-Web\"}});}</script>                <script type=\"text/javascript\">window.PlotlyConfig = {MathJaxConfig: 'local'};</script>\n",
              "        <script charset=\"utf-8\" src=\"https://cdn.plot.ly/plotly-2.35.2.min.js\"></script>                <div id=\"00e59f80-a157-437f-944c-fce54eec892f\" class=\"plotly-graph-div\" style=\"height:525px; width:100%;\"></div>            <script type=\"text/javascript\">                                    window.PLOTLYENV=window.PLOTLYENV || {};                                    if (document.getElementById(\"00e59f80-a157-437f-944c-fce54eec892f\")) {                    Plotly.newPlot(                        \"00e59f80-a157-437f-944c-fce54eec892f\",                        [{\"line\":{\"width\":2},\"mode\":\"lines\",\"name\":\"Predicción: Diferencia - 0.0 meses)\",\"visible\":\"legendonly\",\"x\":[\"2023-01-01T00:00:00\",\"2023-02-01T00:00:00\",\"2023-03-01T00:00:00\",\"2023-04-01T00:00:00\",\"2023-05-01T00:00:00\",\"2023-06-01T00:00:00\",\"2023-07-01T00:00:00\",\"2023-08-01T00:00:00\",\"2023-09-01T00:00:00\",\"2023-10-01T00:00:00\",\"2023-11-01T00:00:00\",\"2023-12-01T00:00:00\"],\"y\":[52156.149274496944,65063.618869695885,68081.91771190088,64433.42782662976,69313.60916397133,93070.37510637032,122650.3731298861,122545.71128125576,79801.70034068903,73630.60073803787,61262.82405467652,110375.66296212474],\"type\":\"scatter\"},{\"line\":{\"width\":2},\"mode\":\"lines\",\"name\":\"Predicción: Diferencia - 1.0 meses)\",\"visible\":\"legendonly\",\"x\":[\"2023-02-01T00:00:00\",\"2023-03-01T00:00:00\",\"2023-04-01T00:00:00\",\"2023-05-01T00:00:00\",\"2023-06-01T00:00:00\",\"2023-07-01T00:00:00\",\"2023-08-01T00:00:00\",\"2023-09-01T00:00:00\",\"2023-10-01T00:00:00\",\"2023-11-01T00:00:00\",\"2023-12-01T00:00:00\",\"2024-01-01T00:00:00\"],\"y\":[52017.66287621038,63117.73284800981,66646.50847605168,68631.88786635315,83584.52587326315,119153.20150157736,124304.99553283886,97152.3082271685,77791.83167536971,62128.23667901397,93897.032181378,60523.0720800666],\"type\":\"scatter\"},{\"line\":{\"width\":2},\"mode\":\"lines\",\"name\":\"Predicción: Diferencia - 2.0 meses)\",\"visible\":\"legendonly\",\"x\":[\"2023-03-01T00:00:00\",\"2023-04-01T00:00:00\",\"2023-05-01T00:00:00\",\"2023-06-01T00:00:00\",\"2023-07-01T00:00:00\",\"2023-08-01T00:00:00\",\"2023-09-01T00:00:00\",\"2023-10-01T00:00:00\",\"2023-11-01T00:00:00\",\"2023-12-01T00:00:00\",\"2024-01-01T00:00:00\",\"2024-02-01T00:00:00\"],\"y\":[52204.17106996863,63681.36636582853,64118.87406554946,83350.35781319276,110233.43973133144,120782.5974762808,95394.53166857836,91072.6668867953,61718.14595255697,98946.5096626945,52865.62775271946,58483.77172568203],\"type\":\"scatter\"},{\"line\":{\"width\":2},\"mode\":\"lines\",\"name\":\"Predicción: Diferencia - 3.0 meses)\",\"visible\":true,\"x\":[\"2023-04-01T00:00:00\",\"2023-05-01T00:00:00\",\"2023-06-01T00:00:00\",\"2023-07-01T00:00:00\",\"2023-08-01T00:00:00\",\"2023-09-01T00:00:00\",\"2023-10-01T00:00:00\",\"2023-11-01T00:00:00\",\"2023-12-01T00:00:00\",\"2024-01-01T00:00:00\",\"2024-02-01T00:00:00\",\"2024-03-01T00:00:00\"],\"y\":[57308.78245021579,55368.04597707433,83587.48554147672,107335.55538137109,110108.0889691098,91856.22898616915,89306.57714620311,74526.13376089299,92460.94135452854,52786.73464939952,40560.99554854425,69858.44944576219],\"type\":\"scatter\"},{\"line\":{\"width\":2},\"mode\":\"lines\",\"name\":\"Predicción: Diferencia - 4.0 meses)\",\"visible\":\"legendonly\",\"x\":[\"2023-05-01T00:00:00\",\"2023-06-01T00:00:00\",\"2023-07-01T00:00:00\",\"2023-08-01T00:00:00\",\"2023-09-01T00:00:00\",\"2023-10-01T00:00:00\",\"2023-11-01T00:00:00\",\"2023-12-01T00:00:00\",\"2024-01-01T00:00:00\",\"2024-02-01T00:00:00\",\"2024-03-01T00:00:00\",\"2024-04-01T00:00:00\"],\"y\":[53748.32180069965,77314.00596663717,108522.4174158544,110897.0290942698,79032.59566621535,85752.36983794278,72751.73083829874,112708.84100094084,55279.92535363238,47864.03290054413,55182.64624931241,59781.43068905469],\"type\":\"scatter\"},{\"line\":{\"width\":2},\"mode\":\"lines\",\"name\":\"Predicción: Diferencia - 5.0 meses)\",\"visible\":\"legendonly\",\"x\":[\"2023-06-01T00:00:00\",\"2023-07-01T00:00:00\",\"2023-08-01T00:00:00\",\"2023-09-01T00:00:00\",\"2023-10-01T00:00:00\",\"2023-11-01T00:00:00\",\"2023-12-01T00:00:00\",\"2024-01-01T00:00:00\",\"2024-02-01T00:00:00\",\"2024-03-01T00:00:00\",\"2024-04-01T00:00:00\",\"2024-05-01T00:00:00\"],\"y\":[68621.31677923279,96550.85617005374,112043.5487231638,75029.24744756009,77641.42243320371,69239.50875178065,110911.99496673937,65557.54970504565,42504.18009647184,63231.97308065834,50053.13308056402,59891.45040040559],\"type\":\"scatter\"},{\"line\":{\"width\":2},\"mode\":\"lines\",\"name\":\"Predicción: Diferencia - 6.0 meses)\",\"visible\":\"legendonly\",\"x\":[\"2023-07-01T00:00:00\",\"2023-08-01T00:00:00\",\"2023-09-01T00:00:00\",\"2023-10-01T00:00:00\",\"2023-11-01T00:00:00\",\"2023-12-01T00:00:00\",\"2024-01-01T00:00:00\",\"2024-02-01T00:00:00\",\"2024-03-01T00:00:00\",\"2024-04-01T00:00:00\",\"2024-05-01T00:00:00\",\"2024-06-01T00:00:00\"],\"y\":[108283.13970406455,101724.84056942674,81380.60088270345,74501.58277062513,60833.869094251255,107557.1814449448,62539.24073442159,59416.40457759978,45801.27604502542,50547.21412236516,46147.26811412559,81207.43284972022],\"type\":\"scatter\"},{\"line\":{\"width\":2},\"mode\":\"lines\",\"name\":\"Predicción: Diferencia - 7.0 meses)\",\"visible\":\"legendonly\",\"x\":[\"2023-08-01T00:00:00\",\"2023-09-01T00:00:00\",\"2023-10-01T00:00:00\",\"2023-11-01T00:00:00\",\"2023-12-01T00:00:00\",\"2024-01-01T00:00:00\",\"2024-02-01T00:00:00\",\"2024-03-01T00:00:00\",\"2024-04-01T00:00:00\",\"2024-05-01T00:00:00\",\"2024-06-01T00:00:00\",\"2024-07-01T00:00:00\"],\"y\":[91990.38171501992,69354.86016624869,84563.81944725316,63435.4908168918,104033.60676220233,58937.20857476977,57617.07433884984,71495.10006699641,48885.884290248265,53955.8543160377,68815.0559360197,108580.0853831884],\"type\":\"scatter\"},{\"line\":{\"width\":2},\"mode\":\"lines\",\"name\":\"Predicción: Diferencia - 8.0 meses)\",\"visible\":\"legendonly\",\"x\":[\"2023-09-01T00:00:00\",\"2023-10-01T00:00:00\",\"2023-11-01T00:00:00\",\"2023-12-01T00:00:00\",\"2024-01-01T00:00:00\",\"2024-02-01T00:00:00\",\"2024-03-01T00:00:00\",\"2024-04-01T00:00:00\",\"2024-05-01T00:00:00\",\"2024-06-01T00:00:00\",\"2024-07-01T00:00:00\",\"2024-08-01T00:00:00\"],\"y\":[61430.54221843868,72189.48031200888,66107.12670852234,93502.00802725642,58381.864787584775,53999.13755334691,69687.45664624442,67012.53246650503,44851.14101824394,69891.76888848945,95242.3957391952,108958.62829772718],\"type\":\"scatter\"},{\"line\":{\"width\":2},\"mode\":\"lines\",\"name\":\"Predicción: Diferencia - 9.0 meses)\",\"visible\":\"legendonly\",\"x\":[\"2023-10-01T00:00:00\",\"2023-11-01T00:00:00\",\"2023-12-01T00:00:00\",\"2024-01-01T00:00:00\",\"2024-02-01T00:00:00\",\"2024-03-01T00:00:00\",\"2024-04-01T00:00:00\",\"2024-05-01T00:00:00\",\"2024-06-01T00:00:00\",\"2024-07-01T00:00:00\",\"2024-08-01T00:00:00\"],\"y\":[60299.96101485749,54676.09375489298,103051.45979916737,50826.66116249256,52092.089023831344,66053.61523489036,65196.57586375099,67061.2922344097,71978.37827994364,94195.37994911688,96340.25633923404],\"type\":\"scatter\"},{\"line\":{\"width\":2},\"mode\":\"lines\",\"name\":\"Predicción: Diferencia - 10.0 meses)\",\"visible\":\"legendonly\",\"x\":[\"2023-11-01T00:00:00\",\"2023-12-01T00:00:00\",\"2024-01-01T00:00:00\",\"2024-02-01T00:00:00\",\"2024-03-01T00:00:00\",\"2024-04-01T00:00:00\",\"2024-05-01T00:00:00\",\"2024-06-01T00:00:00\",\"2024-07-01T00:00:00\",\"2024-08-01T00:00:00\"],\"y\":[31428.35934022217,87261.24737175005,56924.146344995,43122.34316757595,65357.05284874294,61546.829826545785,65237.02244965362,88376.63897656988,96219.49563323832,97622.36779915149],\"type\":\"scatter\"},{\"line\":{\"width\":2},\"mode\":\"lines\",\"name\":\"Predicción: Diferencia - 11.0 meses)\",\"visible\":\"legendonly\",\"x\":[\"2023-12-01T00:00:00\",\"2024-01-01T00:00:00\",\"2024-02-01T00:00:00\",\"2024-03-01T00:00:00\",\"2024-04-01T00:00:00\",\"2024-05-01T00:00:00\",\"2024-06-01T00:00:00\",\"2024-07-01T00:00:00\",\"2024-08-01T00:00:00\"],\"y\":[86063.78928535203,38339.0054055823,50778.41371645809,53554.87360386692,58750.918297788274,61571.37178659727,86544.05600981176,114475.2899406821,97524.45658383786],\"type\":\"scatter\"},{\"line\":{\"width\":2},\"mode\":\"lines\",\"name\":\"Predicción: Diferencia - 12.0 meses)\",\"visible\":true,\"x\":[\"2024-01-01T00:00:00\",\"2024-02-01T00:00:00\",\"2024-03-01T00:00:00\",\"2024-04-01T00:00:00\",\"2024-05-01T00:00:00\",\"2024-06-01T00:00:00\",\"2024-07-01T00:00:00\",\"2024-08-01T00:00:00\"],\"y\":[38711.8916246336,30066.093737320927,58172.90341287656,49815.605181460254,56124.95584682115,82862.50072090428,112633.35425463364,116137.19821819912],\"type\":\"scatter\"},{\"line\":{\"width\":2},\"mode\":\"lines\",\"name\":\"Predicción: Diferencia - 13.0 meses)\",\"visible\":\"legendonly\",\"x\":[\"2024-02-01T00:00:00\",\"2024-03-01T00:00:00\",\"2024-04-01T00:00:00\",\"2024-05-01T00:00:00\",\"2024-06-01T00:00:00\",\"2024-07-01T00:00:00\",\"2024-08-01T00:00:00\"],\"y\":[39726.93931521021,45365.43814435575,53270.03264078815,43488.38386120211,79278.8981339029,108945.32711611134,114287.9766575864],\"type\":\"scatter\"},{\"line\":{\"width\":2},\"mode\":\"lines\",\"name\":\"Predicción: Diferencia - 14.0 meses)\",\"visible\":\"legendonly\",\"x\":[\"2024-03-01T00:00:00\",\"2024-04-01T00:00:00\",\"2024-05-01T00:00:00\",\"2024-06-01T00:00:00\",\"2024-07-01T00:00:00\",\"2024-08-01T00:00:00\"],\"y\":[45662.14578192468,38882.92122747848,52178.3101232894,64262.22227009748,105320.36155754572,110574.72309081478],\"type\":\"scatter\"},{\"line\":{\"width\":2},\"mode\":\"lines\",\"name\":\"Predicción: Diferencia - 15.0 meses)\",\"visible\":\"legendonly\",\"x\":[\"2024-04-01T00:00:00\",\"2024-05-01T00:00:00\",\"2024-06-01T00:00:00\",\"2024-07-01T00:00:00\",\"2024-08-01T00:00:00\"],\"y\":[38302.18247599687,36566.28566433121,73427.24038021264,90529.20271311284,107175.92092781451],\"type\":\"scatter\"},{\"line\":{\"width\":2},\"mode\":\"lines\",\"name\":\"Predicción: Diferencia - 16.0 meses)\",\"visible\":\"legendonly\",\"x\":[\"2024-05-01T00:00:00\",\"2024-06-01T00:00:00\",\"2024-07-01T00:00:00\",\"2024-08-01T00:00:00\"],\"y\":[39008.05305967558,58099.95465012265,99449.57726808835,90259.84634657673],\"type\":\"scatter\"},{\"line\":{\"width\":2},\"mode\":\"lines\",\"name\":\"Predicción: Diferencia - 17.0 meses)\",\"visible\":true,\"x\":[\"2024-06-01T00:00:00\",\"2024-07-01T00:00:00\",\"2024-08-01T00:00:00\"],\"y\":[55679.1905719566,85645.74824430484,101054.85020912086],\"type\":\"scatter\"},{\"line\":{\"color\":\"red\",\"width\":3},\"mode\":\"lines\",\"name\":\"Valor Real\",\"visible\":true,\"x\":[\"2023-01-01T00:00:00\",\"2023-02-01T00:00:00\",\"2023-02-01T00:00:00\",\"2023-03-01T00:00:00\",\"2023-03-01T00:00:00\",\"2023-03-01T00:00:00\",\"2023-04-01T00:00:00\",\"2023-04-01T00:00:00\",\"2023-04-01T00:00:00\",\"2023-04-01T00:00:00\",\"2023-05-01T00:00:00\",\"2023-05-01T00:00:00\",\"2023-05-01T00:00:00\",\"2023-05-01T00:00:00\",\"2023-05-01T00:00:00\",\"2023-06-01T00:00:00\",\"2023-06-01T00:00:00\",\"2023-06-01T00:00:00\",\"2023-06-01T00:00:00\",\"2023-06-01T00:00:00\",\"2023-06-01T00:00:00\",\"2023-07-01T00:00:00\",\"2023-07-01T00:00:00\",\"2023-07-01T00:00:00\",\"2023-07-01T00:00:00\",\"2023-07-01T00:00:00\",\"2023-07-01T00:00:00\",\"2023-07-01T00:00:00\",\"2023-08-01T00:00:00\",\"2023-08-01T00:00:00\",\"2023-08-01T00:00:00\",\"2023-08-01T00:00:00\",\"2023-08-01T00:00:00\",\"2023-08-01T00:00:00\",\"2023-08-01T00:00:00\",\"2023-08-01T00:00:00\",\"2023-09-01T00:00:00\",\"2023-09-01T00:00:00\",\"2023-09-01T00:00:00\",\"2023-09-01T00:00:00\",\"2023-09-01T00:00:00\",\"2023-09-01T00:00:00\",\"2023-09-01T00:00:00\",\"2023-09-01T00:00:00\",\"2023-09-01T00:00:00\",\"2023-10-01T00:00:00\",\"2023-10-01T00:00:00\",\"2023-10-01T00:00:00\",\"2023-10-01T00:00:00\",\"2023-10-01T00:00:00\",\"2023-10-01T00:00:00\",\"2023-10-01T00:00:00\",\"2023-10-01T00:00:00\",\"2023-10-01T00:00:00\",\"2023-10-01T00:00:00\",\"2023-11-01T00:00:00\",\"2023-11-01T00:00:00\",\"2023-11-01T00:00:00\",\"2023-11-01T00:00:00\",\"2023-11-01T00:00:00\",\"2023-11-01T00:00:00\",\"2023-11-01T00:00:00\",\"2023-11-01T00:00:00\",\"2023-11-01T00:00:00\",\"2023-11-01T00:00:00\",\"2023-11-01T00:00:00\",\"2023-12-01T00:00:00\",\"2023-12-01T00:00:00\",\"2023-12-01T00:00:00\",\"2023-12-01T00:00:00\",\"2023-12-01T00:00:00\",\"2023-12-01T00:00:00\",\"2023-12-01T00:00:00\",\"2023-12-01T00:00:00\",\"2023-12-01T00:00:00\",\"2023-12-01T00:00:00\",\"2023-12-01T00:00:00\",\"2023-12-01T00:00:00\",\"2024-01-01T00:00:00\",\"2024-01-01T00:00:00\",\"2024-01-01T00:00:00\",\"2024-01-01T00:00:00\",\"2024-01-01T00:00:00\",\"2024-01-01T00:00:00\",\"2024-01-01T00:00:00\",\"2024-01-01T00:00:00\",\"2024-01-01T00:00:00\",\"2024-01-01T00:00:00\",\"2024-01-01T00:00:00\",\"2024-01-01T00:00:00\",\"2024-02-01T00:00:00\",\"2024-02-01T00:00:00\",\"2024-02-01T00:00:00\",\"2024-02-01T00:00:00\",\"2024-02-01T00:00:00\",\"2024-02-01T00:00:00\",\"2024-02-01T00:00:00\",\"2024-02-01T00:00:00\",\"2024-02-01T00:00:00\",\"2024-02-01T00:00:00\",\"2024-02-01T00:00:00\",\"2024-02-01T00:00:00\",\"2024-03-01T00:00:00\",\"2024-03-01T00:00:00\",\"2024-03-01T00:00:00\",\"2024-03-01T00:00:00\",\"2024-03-01T00:00:00\",\"2024-03-01T00:00:00\",\"2024-03-01T00:00:00\",\"2024-03-01T00:00:00\",\"2024-03-01T00:00:00\",\"2024-03-01T00:00:00\",\"2024-03-01T00:00:00\",\"2024-03-01T00:00:00\",\"2024-04-01T00:00:00\",\"2024-04-01T00:00:00\",\"2024-04-01T00:00:00\",\"2024-04-01T00:00:00\",\"2024-04-01T00:00:00\",\"2024-04-01T00:00:00\",\"2024-04-01T00:00:00\",\"2024-04-01T00:00:00\",\"2024-04-01T00:00:00\",\"2024-04-01T00:00:00\",\"2024-04-01T00:00:00\",\"2024-04-01T00:00:00\",\"2024-05-01T00:00:00\",\"2024-05-01T00:00:00\",\"2024-05-01T00:00:00\",\"2024-05-01T00:00:00\",\"2024-05-01T00:00:00\",\"2024-05-01T00:00:00\",\"2024-05-01T00:00:00\",\"2024-05-01T00:00:00\",\"2024-05-01T00:00:00\",\"2024-05-01T00:00:00\",\"2024-05-01T00:00:00\",\"2024-05-01T00:00:00\",\"2024-06-01T00:00:00\",\"2024-06-01T00:00:00\",\"2024-06-01T00:00:00\",\"2024-06-01T00:00:00\",\"2024-06-01T00:00:00\",\"2024-06-01T00:00:00\",\"2024-06-01T00:00:00\",\"2024-06-01T00:00:00\",\"2024-06-01T00:00:00\",\"2024-06-01T00:00:00\",\"2024-06-01T00:00:00\",\"2024-06-01T00:00:00\",\"2024-07-01T00:00:00\",\"2024-07-01T00:00:00\",\"2024-07-01T00:00:00\",\"2024-07-01T00:00:00\",\"2024-07-01T00:00:00\",\"2024-07-01T00:00:00\",\"2024-07-01T00:00:00\",\"2024-07-01T00:00:00\",\"2024-07-01T00:00:00\",\"2024-07-01T00:00:00\",\"2024-07-01T00:00:00\",\"2024-08-01T00:00:00\",\"2024-08-01T00:00:00\",\"2024-08-01T00:00:00\",\"2024-08-01T00:00:00\",\"2024-08-01T00:00:00\",\"2024-08-01T00:00:00\",\"2024-08-01T00:00:00\",\"2024-08-01T00:00:00\",\"2024-08-01T00:00:00\",\"2024-08-01T00:00:00\"],\"y\":[78971.96959557036,69302.9735194043,69302.9735194043,94306.65094820118,94306.65094820118,94306.65094820118,73141.16028298099,73141.16028298099,73141.16028298099,73141.16028298099,82918.33366906652,82918.33366906652,82918.33366906652,82918.33366906652,82918.33366906652,91915.88401372284,91915.88401372284,91915.88401372284,91915.88401372284,91915.88401372284,91915.88401372284,103384.94030894028,103384.94030894028,103384.94030894028,103384.94030894028,103384.94030894028,103384.94030894028,103384.94030894028,106715.95381781296,106715.95381781296,106715.95381781296,106715.95381781296,106715.95381781296,106715.95381781296,106715.95381781296,106715.95381781296,84366.48226666574,84366.48226666574,84366.48226666574,84366.48226666574,84366.48226666574,84366.48226666574,84366.48226666574,84366.48226666574,84366.48226666574,92671.3869433897,92671.3869433897,92671.3869433897,92671.3869433897,92671.3869433897,92671.3869433897,92671.3869433897,92671.3869433897,92671.3869433897,92671.3869433897,99913.5795238565,99913.5795238565,99913.5795238565,99913.5795238565,99913.5795238565,99913.5795238565,99913.5795238565,99913.5795238565,99913.5795238565,99913.5795238565,99913.5795238565,100807.92233802738,100807.92233802738,100807.92233802738,100807.92233802738,100807.92233802738,100807.92233802738,100807.92233802738,100807.92233802738,100807.92233802738,100807.92233802738,100807.92233802738,100807.92233802738,71405.76048903509,71405.76048903509,71405.76048903509,71405.76048903509,71405.76048903509,71405.76048903509,71405.76048903509,71405.76048903509,71405.76048903509,71405.76048903509,71405.76048903509,71405.76048903509,76848.37996555197,76848.37996555197,76848.37996555197,76848.37996555197,76848.37996555197,76848.37996555197,76848.37996555197,76848.37996555197,76848.37996555197,76848.37996555197,76848.37996555197,76848.37996555197,66435.80973984348,66435.80973984348,66435.80973984348,66435.80973984348,66435.80973984348,66435.80973984348,66435.80973984348,66435.80973984348,66435.80973984348,66435.80973984348,66435.80973984348,66435.80973984348,74882.99296245942,74882.99296245942,74882.99296245942,74882.99296245942,74882.99296245942,74882.99296245942,74882.99296245942,74882.99296245942,74882.99296245942,74882.99296245942,74882.99296245942,74882.99296245942,77568.360654581,77568.360654581,77568.360654581,77568.360654581,77568.360654581,77568.360654581,77568.360654581,77568.360654581,77568.360654581,77568.360654581,77568.360654581,77568.360654581,79701.862588321,79701.862588321,79701.862588321,79701.862588321,79701.862588321,79701.862588321,79701.862588321,79701.862588321,79701.862588321,79701.862588321,79701.862588321,79701.862588321,95936.841771572,95936.841771572,95936.841771572,95936.841771572,95936.841771572,95936.841771572,95936.841771572,95936.841771572,95936.841771572,95936.841771572,95936.841771572,96514.247673526,96514.247673526,96514.247673526,96514.247673526,96514.247673526,96514.247673526,96514.247673526,96514.247673526,96514.247673526,96514.247673526],\"type\":\"scatter\"}],                        {\"template\":{\"data\":{\"histogram2dcontour\":[{\"type\":\"histogram2dcontour\",\"colorbar\":{\"outlinewidth\":0,\"ticks\":\"\"},\"colorscale\":[[0.0,\"#0d0887\"],[0.1111111111111111,\"#46039f\"],[0.2222222222222222,\"#7201a8\"],[0.3333333333333333,\"#9c179e\"],[0.4444444444444444,\"#bd3786\"],[0.5555555555555556,\"#d8576b\"],[0.6666666666666666,\"#ed7953\"],[0.7777777777777778,\"#fb9f3a\"],[0.8888888888888888,\"#fdca26\"],[1.0,\"#f0f921\"]]}],\"choropleth\":[{\"type\":\"choropleth\",\"colorbar\":{\"outlinewidth\":0,\"ticks\":\"\"}}],\"histogram2d\":[{\"type\":\"histogram2d\",\"colorbar\":{\"outlinewidth\":0,\"ticks\":\"\"},\"colorscale\":[[0.0,\"#0d0887\"],[0.1111111111111111,\"#46039f\"],[0.2222222222222222,\"#7201a8\"],[0.3333333333333333,\"#9c179e\"],[0.4444444444444444,\"#bd3786\"],[0.5555555555555556,\"#d8576b\"],[0.6666666666666666,\"#ed7953\"],[0.7777777777777778,\"#fb9f3a\"],[0.8888888888888888,\"#fdca26\"],[1.0,\"#f0f921\"]]}],\"heatmap\":[{\"type\":\"heatmap\",\"colorbar\":{\"outlinewidth\":0,\"ticks\":\"\"},\"colorscale\":[[0.0,\"#0d0887\"],[0.1111111111111111,\"#46039f\"],[0.2222222222222222,\"#7201a8\"],[0.3333333333333333,\"#9c179e\"],[0.4444444444444444,\"#bd3786\"],[0.5555555555555556,\"#d8576b\"],[0.6666666666666666,\"#ed7953\"],[0.7777777777777778,\"#fb9f3a\"],[0.8888888888888888,\"#fdca26\"],[1.0,\"#f0f921\"]]}],\"heatmapgl\":[{\"type\":\"heatmapgl\",\"colorbar\":{\"outlinewidth\":0,\"ticks\":\"\"},\"colorscale\":[[0.0,\"#0d0887\"],[0.1111111111111111,\"#46039f\"],[0.2222222222222222,\"#7201a8\"],[0.3333333333333333,\"#9c179e\"],[0.4444444444444444,\"#bd3786\"],[0.5555555555555556,\"#d8576b\"],[0.6666666666666666,\"#ed7953\"],[0.7777777777777778,\"#fb9f3a\"],[0.8888888888888888,\"#fdca26\"],[1.0,\"#f0f921\"]]}],\"contourcarpet\":[{\"type\":\"contourcarpet\",\"colorbar\":{\"outlinewidth\":0,\"ticks\":\"\"}}],\"contour\":[{\"type\":\"contour\",\"colorbar\":{\"outlinewidth\":0,\"ticks\":\"\"},\"colorscale\":[[0.0,\"#0d0887\"],[0.1111111111111111,\"#46039f\"],[0.2222222222222222,\"#7201a8\"],[0.3333333333333333,\"#9c179e\"],[0.4444444444444444,\"#bd3786\"],[0.5555555555555556,\"#d8576b\"],[0.6666666666666666,\"#ed7953\"],[0.7777777777777778,\"#fb9f3a\"],[0.8888888888888888,\"#fdca26\"],[1.0,\"#f0f921\"]]}],\"surface\":[{\"type\":\"surface\",\"colorbar\":{\"outlinewidth\":0,\"ticks\":\"\"},\"colorscale\":[[0.0,\"#0d0887\"],[0.1111111111111111,\"#46039f\"],[0.2222222222222222,\"#7201a8\"],[0.3333333333333333,\"#9c179e\"],[0.4444444444444444,\"#bd3786\"],[0.5555555555555556,\"#d8576b\"],[0.6666666666666666,\"#ed7953\"],[0.7777777777777778,\"#fb9f3a\"],[0.8888888888888888,\"#fdca26\"],[1.0,\"#f0f921\"]]}],\"mesh3d\":[{\"type\":\"mesh3d\",\"colorbar\":{\"outlinewidth\":0,\"ticks\":\"\"}}],\"scatter\":[{\"fillpattern\":{\"fillmode\":\"overlay\",\"size\":10,\"solidity\":0.2},\"type\":\"scatter\"}],\"parcoords\":[{\"type\":\"parcoords\",\"line\":{\"colorbar\":{\"outlinewidth\":0,\"ticks\":\"\"}}}],\"scatterpolargl\":[{\"type\":\"scatterpolargl\",\"marker\":{\"colorbar\":{\"outlinewidth\":0,\"ticks\":\"\"}}}],\"bar\":[{\"error_x\":{\"color\":\"#2a3f5f\"},\"error_y\":{\"color\":\"#2a3f5f\"},\"marker\":{\"line\":{\"color\":\"#E5ECF6\",\"width\":0.5},\"pattern\":{\"fillmode\":\"overlay\",\"size\":10,\"solidity\":0.2}},\"type\":\"bar\"}],\"scattergeo\":[{\"type\":\"scattergeo\",\"marker\":{\"colorbar\":{\"outlinewidth\":0,\"ticks\":\"\"}}}],\"scatterpolar\":[{\"type\":\"scatterpolar\",\"marker\":{\"colorbar\":{\"outlinewidth\":0,\"ticks\":\"\"}}}],\"histogram\":[{\"marker\":{\"pattern\":{\"fillmode\":\"overlay\",\"size\":10,\"solidity\":0.2}},\"type\":\"histogram\"}],\"scattergl\":[{\"type\":\"scattergl\",\"marker\":{\"colorbar\":{\"outlinewidth\":0,\"ticks\":\"\"}}}],\"scatter3d\":[{\"type\":\"scatter3d\",\"line\":{\"colorbar\":{\"outlinewidth\":0,\"ticks\":\"\"}},\"marker\":{\"colorbar\":{\"outlinewidth\":0,\"ticks\":\"\"}}}],\"scattermapbox\":[{\"type\":\"scattermapbox\",\"marker\":{\"colorbar\":{\"outlinewidth\":0,\"ticks\":\"\"}}}],\"scatterternary\":[{\"type\":\"scatterternary\",\"marker\":{\"colorbar\":{\"outlinewidth\":0,\"ticks\":\"\"}}}],\"scattercarpet\":[{\"type\":\"scattercarpet\",\"marker\":{\"colorbar\":{\"outlinewidth\":0,\"ticks\":\"\"}}}],\"carpet\":[{\"aaxis\":{\"endlinecolor\":\"#2a3f5f\",\"gridcolor\":\"white\",\"linecolor\":\"white\",\"minorgridcolor\":\"white\",\"startlinecolor\":\"#2a3f5f\"},\"baxis\":{\"endlinecolor\":\"#2a3f5f\",\"gridcolor\":\"white\",\"linecolor\":\"white\",\"minorgridcolor\":\"white\",\"startlinecolor\":\"#2a3f5f\"},\"type\":\"carpet\"}],\"table\":[{\"cells\":{\"fill\":{\"color\":\"#EBF0F8\"},\"line\":{\"color\":\"white\"}},\"header\":{\"fill\":{\"color\":\"#C8D4E3\"},\"line\":{\"color\":\"white\"}},\"type\":\"table\"}],\"barpolar\":[{\"marker\":{\"line\":{\"color\":\"#E5ECF6\",\"width\":0.5},\"pattern\":{\"fillmode\":\"overlay\",\"size\":10,\"solidity\":0.2}},\"type\":\"barpolar\"}],\"pie\":[{\"automargin\":true,\"type\":\"pie\"}]},\"layout\":{\"autotypenumbers\":\"strict\",\"colorway\":[\"#636efa\",\"#EF553B\",\"#00cc96\",\"#ab63fa\",\"#FFA15A\",\"#19d3f3\",\"#FF6692\",\"#B6E880\",\"#FF97FF\",\"#FECB52\"],\"font\":{\"color\":\"#2a3f5f\"},\"hovermode\":\"closest\",\"hoverlabel\":{\"align\":\"left\"},\"paper_bgcolor\":\"white\",\"plot_bgcolor\":\"#E5ECF6\",\"polar\":{\"bgcolor\":\"#E5ECF6\",\"angularaxis\":{\"gridcolor\":\"white\",\"linecolor\":\"white\",\"ticks\":\"\"},\"radialaxis\":{\"gridcolor\":\"white\",\"linecolor\":\"white\",\"ticks\":\"\"}},\"ternary\":{\"bgcolor\":\"#E5ECF6\",\"aaxis\":{\"gridcolor\":\"white\",\"linecolor\":\"white\",\"ticks\":\"\"},\"baxis\":{\"gridcolor\":\"white\",\"linecolor\":\"white\",\"ticks\":\"\"},\"caxis\":{\"gridcolor\":\"white\",\"linecolor\":\"white\",\"ticks\":\"\"}},\"coloraxis\":{\"colorbar\":{\"outlinewidth\":0,\"ticks\":\"\"}},\"colorscale\":{\"sequential\":[[0.0,\"#0d0887\"],[0.1111111111111111,\"#46039f\"],[0.2222222222222222,\"#7201a8\"],[0.3333333333333333,\"#9c179e\"],[0.4444444444444444,\"#bd3786\"],[0.5555555555555556,\"#d8576b\"],[0.6666666666666666,\"#ed7953\"],[0.7777777777777778,\"#fb9f3a\"],[0.8888888888888888,\"#fdca26\"],[1.0,\"#f0f921\"]],\"sequentialminus\":[[0.0,\"#0d0887\"],[0.1111111111111111,\"#46039f\"],[0.2222222222222222,\"#7201a8\"],[0.3333333333333333,\"#9c179e\"],[0.4444444444444444,\"#bd3786\"],[0.5555555555555556,\"#d8576b\"],[0.6666666666666666,\"#ed7953\"],[0.7777777777777778,\"#fb9f3a\"],[0.8888888888888888,\"#fdca26\"],[1.0,\"#f0f921\"]],\"diverging\":[[0,\"#8e0152\"],[0.1,\"#c51b7d\"],[0.2,\"#de77ae\"],[0.3,\"#f1b6da\"],[0.4,\"#fde0ef\"],[0.5,\"#f7f7f7\"],[0.6,\"#e6f5d0\"],[0.7,\"#b8e186\"],[0.8,\"#7fbc41\"],[0.9,\"#4d9221\"],[1,\"#276419\"]]},\"xaxis\":{\"gridcolor\":\"white\",\"linecolor\":\"white\",\"ticks\":\"\",\"title\":{\"standoff\":15},\"zerolinecolor\":\"white\",\"automargin\":true,\"zerolinewidth\":2},\"yaxis\":{\"gridcolor\":\"white\",\"linecolor\":\"white\",\"ticks\":\"\",\"title\":{\"standoff\":15},\"zerolinecolor\":\"white\",\"automargin\":true,\"zerolinewidth\":2},\"scene\":{\"xaxis\":{\"backgroundcolor\":\"#E5ECF6\",\"gridcolor\":\"white\",\"linecolor\":\"white\",\"showbackground\":true,\"ticks\":\"\",\"zerolinecolor\":\"white\",\"gridwidth\":2},\"yaxis\":{\"backgroundcolor\":\"#E5ECF6\",\"gridcolor\":\"white\",\"linecolor\":\"white\",\"showbackground\":true,\"ticks\":\"\",\"zerolinecolor\":\"white\",\"gridwidth\":2},\"zaxis\":{\"backgroundcolor\":\"#E5ECF6\",\"gridcolor\":\"white\",\"linecolor\":\"white\",\"showbackground\":true,\"ticks\":\"\",\"zerolinecolor\":\"white\",\"gridwidth\":2}},\"shapedefaults\":{\"line\":{\"color\":\"#2a3f5f\"}},\"annotationdefaults\":{\"arrowcolor\":\"#2a3f5f\",\"arrowhead\":0,\"arrowwidth\":1},\"geo\":{\"bgcolor\":\"white\",\"landcolor\":\"#E5ECF6\",\"subunitcolor\":\"white\",\"showland\":true,\"showlakes\":true,\"lakecolor\":\"white\"},\"title\":{\"x\":0.05},\"mapbox\":{\"style\":\"light\"}}},\"title\":{\"text\":\"Serie temporal 7up (L3): Valor Real -vs- Predicciones\\u003cbr\\u003e\\u003csup\\u003eSelecciona las líneas en la leyenda para mostrar u ocultar predicciones según Diferencia_Fechas\\u003c\\u002fsup\\u003e\"},\"xaxis\":{\"title\":{\"text\":\"Fecha\"}},\"yaxis\":{\"title\":{\"text\":\"Ventas\"}}},                        {\"responsive\": true}                    ).then(function(){\n",
              "                            \n",
              "var gd = document.getElementById('00e59f80-a157-437f-944c-fce54eec892f');\n",
              "var x = new MutationObserver(function (mutations, observer) {{\n",
              "        var display = window.getComputedStyle(gd).display;\n",
              "        if (!display || display === 'none') {{\n",
              "            console.log([gd, 'removed!']);\n",
              "            Plotly.purge(gd);\n",
              "            observer.disconnect();\n",
              "        }}\n",
              "}});\n",
              "\n",
              "// Listen for the removal of the full notebook cells\n",
              "var notebookContainer = gd.closest('#notebook-container');\n",
              "if (notebookContainer) {{\n",
              "    x.observe(notebookContainer, {childList: true});\n",
              "}}\n",
              "\n",
              "// Listen for the clearing of the current output cell\n",
              "var outputEl = gd.closest('.output');\n",
              "if (outputEl) {{\n",
              "    x.observe(outputEl, {childList: true});\n",
              "}}\n",
              "\n",
              "                        })                };                            </script>        </div>\n",
              "</body>\n",
              "</html>"
            ]
          },
          "metadata": {}
        }
      ]
    },
    {
      "cell_type": "markdown",
      "source": [
        "**Marca 7up**\n",
        "\n",
        "Para los datos de 7up en España, las predicciones más precisas corresponden a los horizontes de 17, 9 y 3 meses, mientras que el de 12 meses muestra el peor ajuste. En la gráfica, la línea morada (predicción con 3 meses de diferencia) captura algunos picos de manera efectiva, aunque la predicción de 17 meses también muestra buen ajuste, sin embargo se basa en solo tres registros, lo cual limita su representatividad. En la práctica, los horizontes deberían ajustarse sumando un mes, debido al cambio del 31 de diciembre al 1 de enero en los datos."
      ],
      "metadata": {
        "id": "mybuOoDiFhkh"
      }
    },
    {
      "cell_type": "code",
      "source": [
        "graficar_desviacion_normalizada_producto(merged_df, producto='Lipton (L3)')"
      ],
      "metadata": {
        "colab": {
          "base_uri": "https://localhost:8080/",
          "height": 542
        },
        "id": "lpUn3quRpPg5",
        "outputId": "35cd52e8-7531-4324-b88b-b76281b70218"
      },
      "execution_count": 527,
      "outputs": [
        {
          "output_type": "display_data",
          "data": {
            "text/html": [
              "<html>\n",
              "<head><meta charset=\"utf-8\" /></head>\n",
              "<body>\n",
              "    <div>            <script src=\"https://cdnjs.cloudflare.com/ajax/libs/mathjax/2.7.5/MathJax.js?config=TeX-AMS-MML_SVG\"></script><script type=\"text/javascript\">if (window.MathJax && window.MathJax.Hub && window.MathJax.Hub.Config) {window.MathJax.Hub.Config({SVG: {font: \"STIX-Web\"}});}</script>                <script type=\"text/javascript\">window.PlotlyConfig = {MathJaxConfig: 'local'};</script>\n",
              "        <script charset=\"utf-8\" src=\"https://cdn.plot.ly/plotly-2.35.2.min.js\"></script>                <div id=\"9c3ceb81-6489-47e0-a0ae-664527ca4196\" class=\"plotly-graph-div\" style=\"height:525px; width:100%;\"></div>            <script type=\"text/javascript\">                                    window.PLOTLYENV=window.PLOTLYENV || {};                                    if (document.getElementById(\"9c3ceb81-6489-47e0-a0ae-664527ca4196\")) {                    Plotly.newPlot(                        \"9c3ceb81-6489-47e0-a0ae-664527ca4196\",                        [{\"alignmentgroup\":\"True\",\"hovertemplate\":\"Horizonte de Predicción (Meses)=%{x}\\u003cbr\\u003eMedia de Error Absoluto=%{y}\\u003cextra\\u003e\\u003c\\u002fextra\\u003e\",\"legendgroup\":\"\",\"marker\":{\"color\":\"#636efa\",\"pattern\":{\"shape\":\"\"}},\"name\":\"\",\"offsetgroup\":\"\",\"orientation\":\"v\",\"showlegend\":false,\"textposition\":\"auto\",\"x\":[0.0,1.0,2.0,3.0,4.0,5.0,6.0,7.0,8.0,9.0,10.0,11.0,12.0,13.0,14.0,15.0,16.0,17.0],\"xaxis\":\"x\",\"y\":[1670.5299260948032,2555.4677209400343,2866.545060949384,3846.9846512404524,4066.148478029539,3519.0125030241634,3744.4910073654232,3550.90874279869,3610.482615293998,3255.3113025791477,3575.553288090072,2891.474508304368,3154.5881757981533,2647.6318741052723,2616.0017612840793,3178.2547456644634,1979.9316138165987,2731.698456993988],\"yaxis\":\"y\",\"type\":\"bar\"}],                        {\"template\":{\"data\":{\"histogram2dcontour\":[{\"type\":\"histogram2dcontour\",\"colorbar\":{\"outlinewidth\":0,\"ticks\":\"\"},\"colorscale\":[[0.0,\"#0d0887\"],[0.1111111111111111,\"#46039f\"],[0.2222222222222222,\"#7201a8\"],[0.3333333333333333,\"#9c179e\"],[0.4444444444444444,\"#bd3786\"],[0.5555555555555556,\"#d8576b\"],[0.6666666666666666,\"#ed7953\"],[0.7777777777777778,\"#fb9f3a\"],[0.8888888888888888,\"#fdca26\"],[1.0,\"#f0f921\"]]}],\"choropleth\":[{\"type\":\"choropleth\",\"colorbar\":{\"outlinewidth\":0,\"ticks\":\"\"}}],\"histogram2d\":[{\"type\":\"histogram2d\",\"colorbar\":{\"outlinewidth\":0,\"ticks\":\"\"},\"colorscale\":[[0.0,\"#0d0887\"],[0.1111111111111111,\"#46039f\"],[0.2222222222222222,\"#7201a8\"],[0.3333333333333333,\"#9c179e\"],[0.4444444444444444,\"#bd3786\"],[0.5555555555555556,\"#d8576b\"],[0.6666666666666666,\"#ed7953\"],[0.7777777777777778,\"#fb9f3a\"],[0.8888888888888888,\"#fdca26\"],[1.0,\"#f0f921\"]]}],\"heatmap\":[{\"type\":\"heatmap\",\"colorbar\":{\"outlinewidth\":0,\"ticks\":\"\"},\"colorscale\":[[0.0,\"#0d0887\"],[0.1111111111111111,\"#46039f\"],[0.2222222222222222,\"#7201a8\"],[0.3333333333333333,\"#9c179e\"],[0.4444444444444444,\"#bd3786\"],[0.5555555555555556,\"#d8576b\"],[0.6666666666666666,\"#ed7953\"],[0.7777777777777778,\"#fb9f3a\"],[0.8888888888888888,\"#fdca26\"],[1.0,\"#f0f921\"]]}],\"heatmapgl\":[{\"type\":\"heatmapgl\",\"colorbar\":{\"outlinewidth\":0,\"ticks\":\"\"},\"colorscale\":[[0.0,\"#0d0887\"],[0.1111111111111111,\"#46039f\"],[0.2222222222222222,\"#7201a8\"],[0.3333333333333333,\"#9c179e\"],[0.4444444444444444,\"#bd3786\"],[0.5555555555555556,\"#d8576b\"],[0.6666666666666666,\"#ed7953\"],[0.7777777777777778,\"#fb9f3a\"],[0.8888888888888888,\"#fdca26\"],[1.0,\"#f0f921\"]]}],\"contourcarpet\":[{\"type\":\"contourcarpet\",\"colorbar\":{\"outlinewidth\":0,\"ticks\":\"\"}}],\"contour\":[{\"type\":\"contour\",\"colorbar\":{\"outlinewidth\":0,\"ticks\":\"\"},\"colorscale\":[[0.0,\"#0d0887\"],[0.1111111111111111,\"#46039f\"],[0.2222222222222222,\"#7201a8\"],[0.3333333333333333,\"#9c179e\"],[0.4444444444444444,\"#bd3786\"],[0.5555555555555556,\"#d8576b\"],[0.6666666666666666,\"#ed7953\"],[0.7777777777777778,\"#fb9f3a\"],[0.8888888888888888,\"#fdca26\"],[1.0,\"#f0f921\"]]}],\"surface\":[{\"type\":\"surface\",\"colorbar\":{\"outlinewidth\":0,\"ticks\":\"\"},\"colorscale\":[[0.0,\"#0d0887\"],[0.1111111111111111,\"#46039f\"],[0.2222222222222222,\"#7201a8\"],[0.3333333333333333,\"#9c179e\"],[0.4444444444444444,\"#bd3786\"],[0.5555555555555556,\"#d8576b\"],[0.6666666666666666,\"#ed7953\"],[0.7777777777777778,\"#fb9f3a\"],[0.8888888888888888,\"#fdca26\"],[1.0,\"#f0f921\"]]}],\"mesh3d\":[{\"type\":\"mesh3d\",\"colorbar\":{\"outlinewidth\":0,\"ticks\":\"\"}}],\"scatter\":[{\"fillpattern\":{\"fillmode\":\"overlay\",\"size\":10,\"solidity\":0.2},\"type\":\"scatter\"}],\"parcoords\":[{\"type\":\"parcoords\",\"line\":{\"colorbar\":{\"outlinewidth\":0,\"ticks\":\"\"}}}],\"scatterpolargl\":[{\"type\":\"scatterpolargl\",\"marker\":{\"colorbar\":{\"outlinewidth\":0,\"ticks\":\"\"}}}],\"bar\":[{\"error_x\":{\"color\":\"#2a3f5f\"},\"error_y\":{\"color\":\"#2a3f5f\"},\"marker\":{\"line\":{\"color\":\"#E5ECF6\",\"width\":0.5},\"pattern\":{\"fillmode\":\"overlay\",\"size\":10,\"solidity\":0.2}},\"type\":\"bar\"}],\"scattergeo\":[{\"type\":\"scattergeo\",\"marker\":{\"colorbar\":{\"outlinewidth\":0,\"ticks\":\"\"}}}],\"scatterpolar\":[{\"type\":\"scatterpolar\",\"marker\":{\"colorbar\":{\"outlinewidth\":0,\"ticks\":\"\"}}}],\"histogram\":[{\"marker\":{\"pattern\":{\"fillmode\":\"overlay\",\"size\":10,\"solidity\":0.2}},\"type\":\"histogram\"}],\"scattergl\":[{\"type\":\"scattergl\",\"marker\":{\"colorbar\":{\"outlinewidth\":0,\"ticks\":\"\"}}}],\"scatter3d\":[{\"type\":\"scatter3d\",\"line\":{\"colorbar\":{\"outlinewidth\":0,\"ticks\":\"\"}},\"marker\":{\"colorbar\":{\"outlinewidth\":0,\"ticks\":\"\"}}}],\"scattermapbox\":[{\"type\":\"scattermapbox\",\"marker\":{\"colorbar\":{\"outlinewidth\":0,\"ticks\":\"\"}}}],\"scatterternary\":[{\"type\":\"scatterternary\",\"marker\":{\"colorbar\":{\"outlinewidth\":0,\"ticks\":\"\"}}}],\"scattercarpet\":[{\"type\":\"scattercarpet\",\"marker\":{\"colorbar\":{\"outlinewidth\":0,\"ticks\":\"\"}}}],\"carpet\":[{\"aaxis\":{\"endlinecolor\":\"#2a3f5f\",\"gridcolor\":\"white\",\"linecolor\":\"white\",\"minorgridcolor\":\"white\",\"startlinecolor\":\"#2a3f5f\"},\"baxis\":{\"endlinecolor\":\"#2a3f5f\",\"gridcolor\":\"white\",\"linecolor\":\"white\",\"minorgridcolor\":\"white\",\"startlinecolor\":\"#2a3f5f\"},\"type\":\"carpet\"}],\"table\":[{\"cells\":{\"fill\":{\"color\":\"#EBF0F8\"},\"line\":{\"color\":\"white\"}},\"header\":{\"fill\":{\"color\":\"#C8D4E3\"},\"line\":{\"color\":\"white\"}},\"type\":\"table\"}],\"barpolar\":[{\"marker\":{\"line\":{\"color\":\"#E5ECF6\",\"width\":0.5},\"pattern\":{\"fillmode\":\"overlay\",\"size\":10,\"solidity\":0.2}},\"type\":\"barpolar\"}],\"pie\":[{\"automargin\":true,\"type\":\"pie\"}]},\"layout\":{\"autotypenumbers\":\"strict\",\"colorway\":[\"#636efa\",\"#EF553B\",\"#00cc96\",\"#ab63fa\",\"#FFA15A\",\"#19d3f3\",\"#FF6692\",\"#B6E880\",\"#FF97FF\",\"#FECB52\"],\"font\":{\"color\":\"#2a3f5f\"},\"hovermode\":\"closest\",\"hoverlabel\":{\"align\":\"left\"},\"paper_bgcolor\":\"white\",\"plot_bgcolor\":\"#E5ECF6\",\"polar\":{\"bgcolor\":\"#E5ECF6\",\"angularaxis\":{\"gridcolor\":\"white\",\"linecolor\":\"white\",\"ticks\":\"\"},\"radialaxis\":{\"gridcolor\":\"white\",\"linecolor\":\"white\",\"ticks\":\"\"}},\"ternary\":{\"bgcolor\":\"#E5ECF6\",\"aaxis\":{\"gridcolor\":\"white\",\"linecolor\":\"white\",\"ticks\":\"\"},\"baxis\":{\"gridcolor\":\"white\",\"linecolor\":\"white\",\"ticks\":\"\"},\"caxis\":{\"gridcolor\":\"white\",\"linecolor\":\"white\",\"ticks\":\"\"}},\"coloraxis\":{\"colorbar\":{\"outlinewidth\":0,\"ticks\":\"\"}},\"colorscale\":{\"sequential\":[[0.0,\"#0d0887\"],[0.1111111111111111,\"#46039f\"],[0.2222222222222222,\"#7201a8\"],[0.3333333333333333,\"#9c179e\"],[0.4444444444444444,\"#bd3786\"],[0.5555555555555556,\"#d8576b\"],[0.6666666666666666,\"#ed7953\"],[0.7777777777777778,\"#fb9f3a\"],[0.8888888888888888,\"#fdca26\"],[1.0,\"#f0f921\"]],\"sequentialminus\":[[0.0,\"#0d0887\"],[0.1111111111111111,\"#46039f\"],[0.2222222222222222,\"#7201a8\"],[0.3333333333333333,\"#9c179e\"],[0.4444444444444444,\"#bd3786\"],[0.5555555555555556,\"#d8576b\"],[0.6666666666666666,\"#ed7953\"],[0.7777777777777778,\"#fb9f3a\"],[0.8888888888888888,\"#fdca26\"],[1.0,\"#f0f921\"]],\"diverging\":[[0,\"#8e0152\"],[0.1,\"#c51b7d\"],[0.2,\"#de77ae\"],[0.3,\"#f1b6da\"],[0.4,\"#fde0ef\"],[0.5,\"#f7f7f7\"],[0.6,\"#e6f5d0\"],[0.7,\"#b8e186\"],[0.8,\"#7fbc41\"],[0.9,\"#4d9221\"],[1,\"#276419\"]]},\"xaxis\":{\"gridcolor\":\"white\",\"linecolor\":\"white\",\"ticks\":\"\",\"title\":{\"standoff\":15},\"zerolinecolor\":\"white\",\"automargin\":true,\"zerolinewidth\":2},\"yaxis\":{\"gridcolor\":\"white\",\"linecolor\":\"white\",\"ticks\":\"\",\"title\":{\"standoff\":15},\"zerolinecolor\":\"white\",\"automargin\":true,\"zerolinewidth\":2},\"scene\":{\"xaxis\":{\"backgroundcolor\":\"#E5ECF6\",\"gridcolor\":\"white\",\"linecolor\":\"white\",\"showbackground\":true,\"ticks\":\"\",\"zerolinecolor\":\"white\",\"gridwidth\":2},\"yaxis\":{\"backgroundcolor\":\"#E5ECF6\",\"gridcolor\":\"white\",\"linecolor\":\"white\",\"showbackground\":true,\"ticks\":\"\",\"zerolinecolor\":\"white\",\"gridwidth\":2},\"zaxis\":{\"backgroundcolor\":\"#E5ECF6\",\"gridcolor\":\"white\",\"linecolor\":\"white\",\"showbackground\":true,\"ticks\":\"\",\"zerolinecolor\":\"white\",\"gridwidth\":2}},\"shapedefaults\":{\"line\":{\"color\":\"#2a3f5f\"}},\"annotationdefaults\":{\"arrowcolor\":\"#2a3f5f\",\"arrowhead\":0,\"arrowwidth\":1},\"geo\":{\"bgcolor\":\"white\",\"landcolor\":\"#E5ECF6\",\"subunitcolor\":\"white\",\"showland\":true,\"showlakes\":true,\"lakecolor\":\"white\"},\"title\":{\"x\":0.05},\"mapbox\":{\"style\":\"light\"}}},\"xaxis\":{\"anchor\":\"y\",\"domain\":[0.0,1.0],\"title\":{\"text\":\"Horizonte de Predicción (Meses)\"}},\"yaxis\":{\"anchor\":\"x\",\"domain\":[0.0,1.0],\"title\":{\"text\":\"Media de Error Absoluto\"}},\"legend\":{\"tracegroupgap\":0},\"title\":{\"text\":\"Media de Error Absoluto para Lipton (L3) por Horizonte de Predicción\"},\"barmode\":\"relative\"},                        {\"responsive\": true}                    ).then(function(){\n",
              "                            \n",
              "var gd = document.getElementById('9c3ceb81-6489-47e0-a0ae-664527ca4196');\n",
              "var x = new MutationObserver(function (mutations, observer) {{\n",
              "        var display = window.getComputedStyle(gd).display;\n",
              "        if (!display || display === 'none') {{\n",
              "            console.log([gd, 'removed!']);\n",
              "            Plotly.purge(gd);\n",
              "            observer.disconnect();\n",
              "        }}\n",
              "}});\n",
              "\n",
              "// Listen for the removal of the full notebook cells\n",
              "var notebookContainer = gd.closest('#notebook-container');\n",
              "if (notebookContainer) {{\n",
              "    x.observe(notebookContainer, {childList: true});\n",
              "}}\n",
              "\n",
              "// Listen for the clearing of the current output cell\n",
              "var outputEl = gd.closest('.output');\n",
              "if (outputEl) {{\n",
              "    x.observe(outputEl, {childList: true});\n",
              "}}\n",
              "\n",
              "                        })                };                            </script>        </div>\n",
              "</body>\n",
              "</html>"
            ]
          },
          "metadata": {}
        }
      ]
    },
    {
      "cell_type": "code",
      "source": [
        "graficar_serie_temporal(merged_df, 'Lipton (L3)', [0, 1, 2, 16, 17])"
      ],
      "metadata": {
        "colab": {
          "base_uri": "https://localhost:8080/",
          "height": 542
        },
        "id": "3cPaa8s2zfh0",
        "outputId": "581987a3-c134-498b-cae2-6eadccf9cc47"
      },
      "execution_count": 528,
      "outputs": [
        {
          "output_type": "display_data",
          "data": {
            "text/html": [
              "<html>\n",
              "<head><meta charset=\"utf-8\" /></head>\n",
              "<body>\n",
              "    <div>            <script src=\"https://cdnjs.cloudflare.com/ajax/libs/mathjax/2.7.5/MathJax.js?config=TeX-AMS-MML_SVG\"></script><script type=\"text/javascript\">if (window.MathJax && window.MathJax.Hub && window.MathJax.Hub.Config) {window.MathJax.Hub.Config({SVG: {font: \"STIX-Web\"}});}</script>                <script type=\"text/javascript\">window.PlotlyConfig = {MathJaxConfig: 'local'};</script>\n",
              "        <script charset=\"utf-8\" src=\"https://cdn.plot.ly/plotly-2.35.2.min.js\"></script>                <div id=\"e71a1451-3700-43f2-b601-cd2ea12ffe21\" class=\"plotly-graph-div\" style=\"height:525px; width:100%;\"></div>            <script type=\"text/javascript\">                                    window.PLOTLYENV=window.PLOTLYENV || {};                                    if (document.getElementById(\"e71a1451-3700-43f2-b601-cd2ea12ffe21\")) {                    Plotly.newPlot(                        \"e71a1451-3700-43f2-b601-cd2ea12ffe21\",                        [{\"line\":{\"width\":2},\"mode\":\"lines\",\"name\":\"Predicción: Diferencia - 0.0 meses)\",\"visible\":true,\"x\":[\"2023-01-01T00:00:00\",\"2023-02-01T00:00:00\",\"2023-03-01T00:00:00\",\"2023-04-01T00:00:00\",\"2023-05-01T00:00:00\",\"2023-06-01T00:00:00\",\"2023-07-01T00:00:00\",\"2023-08-01T00:00:00\",\"2023-09-01T00:00:00\",\"2023-10-01T00:00:00\",\"2023-11-01T00:00:00\",\"2023-12-01T00:00:00\"],\"y\":[7967.645287146979,7424.886701137902,9243.717389854992,11321.486196460868,10385.194696355607,12362.611877307972,18420.74665884212,18452.46394629014,12155.534624824884,13231.58601148867,9051.488347195764,8820.682771698643],\"type\":\"scatter\"},{\"line\":{\"width\":2},\"mode\":\"lines\",\"name\":\"Predicción: Diferencia - 1.0 meses)\",\"visible\":true,\"x\":[\"2023-02-01T00:00:00\",\"2023-03-01T00:00:00\",\"2023-04-01T00:00:00\",\"2023-05-01T00:00:00\",\"2023-06-01T00:00:00\",\"2023-07-01T00:00:00\",\"2023-08-01T00:00:00\",\"2023-09-01T00:00:00\",\"2023-10-01T00:00:00\",\"2023-11-01T00:00:00\",\"2023-12-01T00:00:00\",\"2024-01-01T00:00:00\"],\"y\":[6154.269009941921,7197.631312780142,11453.649139040996,10396.63448004105,14267.063465403038,17440.148349263196,18994.22471434793,15975.328773324873,12903.852762018098,10514.285230772022,8734.295811057702,9481.729039492018],\"type\":\"scatter\"},{\"line\":{\"width\":2},\"mode\":\"lines\",\"name\":\"Predicción: Diferencia - 2.0 meses)\",\"visible\":true,\"x\":[\"2023-03-01T00:00:00\",\"2023-04-01T00:00:00\",\"2023-05-01T00:00:00\",\"2023-06-01T00:00:00\",\"2023-07-01T00:00:00\",\"2023-08-01T00:00:00\",\"2023-09-01T00:00:00\",\"2023-10-01T00:00:00\",\"2023-11-01T00:00:00\",\"2023-12-01T00:00:00\",\"2024-01-01T00:00:00\",\"2024-02-01T00:00:00\"],\"y\":[4839.238140411764,7020.384186361782,10282.384893078592,14332.207248015417,17239.54343660592,18899.71332038137,16219.08568386197,14357.914179158435,10396.22582999329,11543.700195138776,9271.108395110963,8533.810923952316],\"type\":\"scatter\"},{\"line\":{\"width\":2},\"mode\":\"lines\",\"name\":\"Predicción: Diferencia - 3.0 meses)\",\"visible\":\"legendonly\",\"x\":[\"2023-04-01T00:00:00\",\"2023-05-01T00:00:00\",\"2023-06-01T00:00:00\",\"2023-07-01T00:00:00\",\"2023-08-01T00:00:00\",\"2023-09-01T00:00:00\",\"2023-10-01T00:00:00\",\"2023-11-01T00:00:00\",\"2023-12-01T00:00:00\",\"2024-01-01T00:00:00\",\"2024-02-01T00:00:00\",\"2024-03-01T00:00:00\"],\"y\":[5561.750886352638,4993.860353504379,13582.375161569522,17334.006660096144,20444.544132995936,15181.959011511844,16324.51061585654,12100.101975978328,10889.014816590914,13480.829252089465,8747.911368004203,9168.505872543832],\"type\":\"scatter\"},{\"line\":{\"width\":2},\"mode\":\"lines\",\"name\":\"Predicción: Diferencia - 4.0 meses)\",\"visible\":\"legendonly\",\"x\":[\"2023-05-01T00:00:00\",\"2023-06-01T00:00:00\",\"2023-07-01T00:00:00\",\"2023-08-01T00:00:00\",\"2023-09-01T00:00:00\",\"2023-10-01T00:00:00\",\"2023-11-01T00:00:00\",\"2023-12-01T00:00:00\",\"2024-01-01T00:00:00\",\"2024-02-01T00:00:00\",\"2024-03-01T00:00:00\",\"2024-04-01T00:00:00\"],\"y\":[5282.182665200514,7257.161669544209,17234.82367360198,19862.17230283616,15480.080567485817,14162.967439592132,12558.101216117046,14487.672529659329,11704.779148267997,13248.085329643423,8963.504343427154,9704.755668446707],\"type\":\"scatter\"},{\"line\":{\"width\":2},\"mode\":\"lines\",\"name\":\"Predicción: Diferencia - 5.0 meses)\",\"visible\":\"legendonly\",\"x\":[\"2023-06-01T00:00:00\",\"2023-07-01T00:00:00\",\"2023-08-01T00:00:00\",\"2023-09-01T00:00:00\",\"2023-10-01T00:00:00\",\"2023-11-01T00:00:00\",\"2023-12-01T00:00:00\",\"2024-01-01T00:00:00\",\"2024-02-01T00:00:00\",\"2024-03-01T00:00:00\",\"2024-04-01T00:00:00\",\"2024-05-01T00:00:00\"],\"y\":[7623.003113145997,11357.26927006688,20290.78347729342,15419.0010963618,13793.294142398114,13749.678736527214,12823.625934896418,12124.669695185055,12471.431288980011,11442.551965867986,9082.075441751316,9179.760049094522],\"type\":\"scatter\"},{\"line\":{\"width\":2},\"mode\":\"lines\",\"name\":\"Predicción: Diferencia - 6.0 meses)\",\"visible\":\"legendonly\",\"x\":[\"2023-07-01T00:00:00\",\"2023-08-01T00:00:00\",\"2023-09-01T00:00:00\",\"2023-10-01T00:00:00\",\"2023-11-01T00:00:00\",\"2023-12-01T00:00:00\",\"2024-01-01T00:00:00\",\"2024-02-01T00:00:00\",\"2024-03-01T00:00:00\",\"2024-04-01T00:00:00\",\"2024-05-01T00:00:00\",\"2024-06-01T00:00:00\"],\"y\":[11210.69577396725,12782.355320620778,14988.878881315606,13831.891528738468,14476.179437111712,14138.70705922421,12820.182302849373,12627.780768206769,12176.135291418175,12594.898415108444,8509.405123985476,11066.397441724564],\"type\":\"scatter\"},{\"line\":{\"width\":2},\"mode\":\"lines\",\"name\":\"Predicción: Diferencia - 7.0 meses)\",\"visible\":\"legendonly\",\"x\":[\"2023-08-01T00:00:00\",\"2023-09-01T00:00:00\",\"2023-10-01T00:00:00\",\"2023-11-01T00:00:00\",\"2023-12-01T00:00:00\",\"2024-01-01T00:00:00\",\"2024-02-01T00:00:00\",\"2024-03-01T00:00:00\",\"2024-04-01T00:00:00\",\"2024-05-01T00:00:00\",\"2024-06-01T00:00:00\",\"2024-07-01T00:00:00\"],\"y\":[12861.386328583496,8106.324585177008,14346.288456080558,14422.046080232183,12402.526634492251,12670.573619694456,12081.14426852554,11969.069616634535,11674.92697470924,13817.476885003043,10767.819493076526,14790.724676964865],\"type\":\"scatter\"},{\"line\":{\"width\":2},\"mode\":\"lines\",\"name\":\"Predicción: Diferencia - 8.0 meses)\",\"visible\":\"legendonly\",\"x\":[\"2023-09-01T00:00:00\",\"2023-10-01T00:00:00\",\"2023-11-01T00:00:00\",\"2023-12-01T00:00:00\",\"2024-01-01T00:00:00\",\"2024-02-01T00:00:00\",\"2024-03-01T00:00:00\",\"2024-04-01T00:00:00\",\"2024-05-01T00:00:00\",\"2024-06-01T00:00:00\",\"2024-07-01T00:00:00\",\"2024-08-01T00:00:00\"],\"y\":[8349.176041257722,8139.370207220293,14455.462056442284,12095.99283472081,13248.727321247376,11929.374078244628,12631.878461209237,13078.678756581878,12449.6657007053,14330.564599878297,14631.079115008868,16198.330597188458],\"type\":\"scatter\"},{\"line\":{\"width\":2},\"mode\":\"lines\",\"name\":\"Predicción: Diferencia - 9.0 meses)\",\"visible\":\"legendonly\",\"x\":[\"2023-10-01T00:00:00\",\"2023-11-01T00:00:00\",\"2023-12-01T00:00:00\",\"2024-01-01T00:00:00\",\"2024-02-01T00:00:00\",\"2024-03-01T00:00:00\",\"2024-04-01T00:00:00\",\"2024-05-01T00:00:00\",\"2024-06-01T00:00:00\",\"2024-07-01T00:00:00\",\"2024-08-01T00:00:00\"],\"y\":[8259.546901582053,6674.631451769315,11712.649253378948,12171.089746621965,11952.671343125385,12477.94676380233,12932.574130555302,12096.325738565463,15042.684757265451,17312.984442835077,16197.454494678072],\"type\":\"scatter\"},{\"line\":{\"width\":2},\"mode\":\"lines\",\"name\":\"Predicción: Diferencia - 10.0 meses)\",\"visible\":\"legendonly\",\"x\":[\"2023-11-01T00:00:00\",\"2023-12-01T00:00:00\",\"2024-01-01T00:00:00\",\"2024-02-01T00:00:00\",\"2024-03-01T00:00:00\",\"2024-04-01T00:00:00\",\"2024-05-01T00:00:00\",\"2024-06-01T00:00:00\",\"2024-07-01T00:00:00\",\"2024-08-01T00:00:00\"],\"y\":[6794.875333922688,6358.584146612171,12574.94364129255,11901.724239762374,12501.514315132405,12776.4809260224,12353.992944345062,14646.651952870832,19054.84296713983,18972.068869708768],\"type\":\"scatter\"},{\"line\":{\"width\":2},\"mode\":\"lines\",\"name\":\"Predicción: Diferencia - 11.0 meses)\",\"visible\":\"legendonly\",\"x\":[\"2023-12-01T00:00:00\",\"2024-01-01T00:00:00\",\"2024-02-01T00:00:00\",\"2024-03-01T00:00:00\",\"2024-04-01T00:00:00\",\"2024-05-01T00:00:00\",\"2024-06-01T00:00:00\",\"2024-07-01T00:00:00\",\"2024-08-01T00:00:00\"],\"y\":[6478.895216557161,6647.360589772469,11394.599374385589,11462.951928569611,12800.318763801792,12195.738232686166,14498.242444274028,18087.52768955873,17832.1019262213],\"type\":\"scatter\"},{\"line\":{\"width\":2},\"mode\":\"lines\",\"name\":\"Predicción: Diferencia - 12.0 meses)\",\"visible\":\"legendonly\",\"x\":[\"2024-01-01T00:00:00\",\"2024-02-01T00:00:00\",\"2024-03-01T00:00:00\",\"2024-04-01T00:00:00\",\"2024-05-01T00:00:00\",\"2024-06-01T00:00:00\",\"2024-07-01T00:00:00\",\"2024-08-01T00:00:00\"],\"y\":[6767.738847509074,5904.133814298609,12194.132754479631,12457.30561248784,12219.846356914872,14337.826225489138,18342.890012768104,20062.9306174256],\"type\":\"scatter\"},{\"line\":{\"width\":2},\"mode\":\"lines\",\"name\":\"Predicción: Diferencia - 13.0 meses)\",\"visible\":\"legendonly\",\"x\":[\"2024-02-01T00:00:00\",\"2024-03-01T00:00:00\",\"2024-04-01T00:00:00\",\"2024-05-01T00:00:00\",\"2024-06-01T00:00:00\",\"2024-07-01T00:00:00\",\"2024-08-01T00:00:00\"],\"y\":[6024.579259826828,6450.679265832281,12270.59998751376,11671.225482547556,14362.20463616716,18180.31228685722,19912.216226258573],\"type\":\"scatter\"},{\"line\":{\"width\":2},\"mode\":\"lines\",\"name\":\"Predicción: Diferencia - 14.0 meses)\",\"visible\":\"legendonly\",\"x\":[\"2024-03-01T00:00:00\",\"2024-04-01T00:00:00\",\"2024-05-01T00:00:00\",\"2024-06-01T00:00:00\",\"2024-07-01T00:00:00\",\"2024-08-01T00:00:00\"],\"y\":[6571.191899152116,6747.18619402832,11106.94187364556,14120.204332493557,18204.96098398456,19747.47699322169],\"type\":\"scatter\"},{\"line\":{\"width\":2},\"mode\":\"lines\",\"name\":\"Predicción: Diferencia - 15.0 meses)\",\"visible\":\"legendonly\",\"x\":[\"2024-04-01T00:00:00\",\"2024-05-01T00:00:00\",\"2024-06-01T00:00:00\",\"2024-07-01T00:00:00\",\"2024-08-01T00:00:00\"],\"y\":[6867.76601513977,6164.416266668052,14507.627596787264,17845.67543246361,19772.39597679835],\"type\":\"scatter\"},{\"line\":{\"width\":2},\"mode\":\"lines\",\"name\":\"Predicción: Diferencia - 16.0 meses)\",\"visible\":true,\"x\":[\"2024-05-01T00:00:00\",\"2024-06-01T00:00:00\",\"2024-07-01T00:00:00\",\"2024-08-01T00:00:00\"],\"y\":[6285.063275571119,8304.477025446991,16861.072509165508,18985.510119272],\"type\":\"scatter\"},{\"line\":{\"width\":2},\"mode\":\"lines\",\"name\":\"Predicción: Diferencia - 17.0 meses)\",\"visible\":true,\"x\":[\"2024-06-01T00:00:00\",\"2024-07-01T00:00:00\",\"2024-08-01T00:00:00\"],\"y\":[8425.191222141671,12144.935852791044,20395.74804241368],\"type\":\"scatter\"},{\"line\":{\"color\":\"red\",\"width\":3},\"mode\":\"lines\",\"name\":\"Valor Real\",\"visible\":true,\"x\":[\"2023-01-01T00:00:00\",\"2023-02-01T00:00:00\",\"2023-02-01T00:00:00\",\"2023-03-01T00:00:00\",\"2023-03-01T00:00:00\",\"2023-03-01T00:00:00\",\"2023-04-01T00:00:00\",\"2023-04-01T00:00:00\",\"2023-04-01T00:00:00\",\"2023-04-01T00:00:00\",\"2023-05-01T00:00:00\",\"2023-05-01T00:00:00\",\"2023-05-01T00:00:00\",\"2023-05-01T00:00:00\",\"2023-05-01T00:00:00\",\"2023-06-01T00:00:00\",\"2023-06-01T00:00:00\",\"2023-06-01T00:00:00\",\"2023-06-01T00:00:00\",\"2023-06-01T00:00:00\",\"2023-06-01T00:00:00\",\"2023-07-01T00:00:00\",\"2023-07-01T00:00:00\",\"2023-07-01T00:00:00\",\"2023-07-01T00:00:00\",\"2023-07-01T00:00:00\",\"2023-07-01T00:00:00\",\"2023-07-01T00:00:00\",\"2023-08-01T00:00:00\",\"2023-08-01T00:00:00\",\"2023-08-01T00:00:00\",\"2023-08-01T00:00:00\",\"2023-08-01T00:00:00\",\"2023-08-01T00:00:00\",\"2023-08-01T00:00:00\",\"2023-08-01T00:00:00\",\"2023-09-01T00:00:00\",\"2023-09-01T00:00:00\",\"2023-09-01T00:00:00\",\"2023-09-01T00:00:00\",\"2023-09-01T00:00:00\",\"2023-09-01T00:00:00\",\"2023-09-01T00:00:00\",\"2023-09-01T00:00:00\",\"2023-09-01T00:00:00\",\"2023-10-01T00:00:00\",\"2023-10-01T00:00:00\",\"2023-10-01T00:00:00\",\"2023-10-01T00:00:00\",\"2023-10-01T00:00:00\",\"2023-10-01T00:00:00\",\"2023-10-01T00:00:00\",\"2023-10-01T00:00:00\",\"2023-10-01T00:00:00\",\"2023-10-01T00:00:00\",\"2023-11-01T00:00:00\",\"2023-11-01T00:00:00\",\"2023-11-01T00:00:00\",\"2023-11-01T00:00:00\",\"2023-11-01T00:00:00\",\"2023-11-01T00:00:00\",\"2023-11-01T00:00:00\",\"2023-11-01T00:00:00\",\"2023-11-01T00:00:00\",\"2023-11-01T00:00:00\",\"2023-11-01T00:00:00\",\"2023-12-01T00:00:00\",\"2023-12-01T00:00:00\",\"2023-12-01T00:00:00\",\"2023-12-01T00:00:00\",\"2023-12-01T00:00:00\",\"2023-12-01T00:00:00\",\"2023-12-01T00:00:00\",\"2023-12-01T00:00:00\",\"2023-12-01T00:00:00\",\"2023-12-01T00:00:00\",\"2023-12-01T00:00:00\",\"2023-12-01T00:00:00\",\"2024-01-01T00:00:00\",\"2024-01-01T00:00:00\",\"2024-01-01T00:00:00\",\"2024-01-01T00:00:00\",\"2024-01-01T00:00:00\",\"2024-01-01T00:00:00\",\"2024-01-01T00:00:00\",\"2024-01-01T00:00:00\",\"2024-01-01T00:00:00\",\"2024-01-01T00:00:00\",\"2024-01-01T00:00:00\",\"2024-01-01T00:00:00\",\"2024-02-01T00:00:00\",\"2024-02-01T00:00:00\",\"2024-02-01T00:00:00\",\"2024-02-01T00:00:00\",\"2024-02-01T00:00:00\",\"2024-02-01T00:00:00\",\"2024-02-01T00:00:00\",\"2024-02-01T00:00:00\",\"2024-02-01T00:00:00\",\"2024-02-01T00:00:00\",\"2024-02-01T00:00:00\",\"2024-02-01T00:00:00\",\"2024-03-01T00:00:00\",\"2024-03-01T00:00:00\",\"2024-03-01T00:00:00\",\"2024-03-01T00:00:00\",\"2024-03-01T00:00:00\",\"2024-03-01T00:00:00\",\"2024-03-01T00:00:00\",\"2024-03-01T00:00:00\",\"2024-03-01T00:00:00\",\"2024-03-01T00:00:00\",\"2024-03-01T00:00:00\",\"2024-03-01T00:00:00\",\"2024-04-01T00:00:00\",\"2024-04-01T00:00:00\",\"2024-04-01T00:00:00\",\"2024-04-01T00:00:00\",\"2024-04-01T00:00:00\",\"2024-04-01T00:00:00\",\"2024-04-01T00:00:00\",\"2024-04-01T00:00:00\",\"2024-04-01T00:00:00\",\"2024-04-01T00:00:00\",\"2024-04-01T00:00:00\",\"2024-04-01T00:00:00\",\"2024-05-01T00:00:00\",\"2024-05-01T00:00:00\",\"2024-05-01T00:00:00\",\"2024-05-01T00:00:00\",\"2024-05-01T00:00:00\",\"2024-05-01T00:00:00\",\"2024-05-01T00:00:00\",\"2024-05-01T00:00:00\",\"2024-05-01T00:00:00\",\"2024-05-01T00:00:00\",\"2024-05-01T00:00:00\",\"2024-05-01T00:00:00\",\"2024-06-01T00:00:00\",\"2024-06-01T00:00:00\",\"2024-06-01T00:00:00\",\"2024-06-01T00:00:00\",\"2024-06-01T00:00:00\",\"2024-06-01T00:00:00\",\"2024-06-01T00:00:00\",\"2024-06-01T00:00:00\",\"2024-06-01T00:00:00\",\"2024-06-01T00:00:00\",\"2024-06-01T00:00:00\",\"2024-06-01T00:00:00\",\"2024-07-01T00:00:00\",\"2024-07-01T00:00:00\",\"2024-07-01T00:00:00\",\"2024-07-01T00:00:00\",\"2024-07-01T00:00:00\",\"2024-07-01T00:00:00\",\"2024-07-01T00:00:00\",\"2024-07-01T00:00:00\",\"2024-07-01T00:00:00\",\"2024-07-01T00:00:00\",\"2024-07-01T00:00:00\",\"2024-08-01T00:00:00\",\"2024-08-01T00:00:00\",\"2024-08-01T00:00:00\",\"2024-08-01T00:00:00\",\"2024-08-01T00:00:00\",\"2024-08-01T00:00:00\",\"2024-08-01T00:00:00\",\"2024-08-01T00:00:00\",\"2024-08-01T00:00:00\",\"2024-08-01T00:00:00\"],\"y\":[9208.97938049918,10132.837981585457,10132.837981585457,9426.005681457948,9426.005681457948,9426.005681457948,9617.009842166068,9617.009842166068,9617.009842166068,9617.009842166068,11759.247227955731,11759.247227955731,11759.247227955731,11759.247227955731,11759.247227955731,11845.311399723854,11845.311399723854,11845.311399723854,11845.311399723854,11845.311399723854,11845.311399723854,13255.914481677031,13255.914481677031,13255.914481677031,13255.914481677031,13255.914481677031,13255.914481677031,13255.914481677031,16355.798251764669,16355.798251764669,16355.798251764669,16355.798251764669,16355.798251764669,16355.798251764669,16355.798251764669,16355.798251764669,10634.28934295154,10634.28934295154,10634.28934295154,10634.28934295154,10634.28934295154,10634.28934295154,10634.28934295154,10634.28934295154,10634.28934295154,10942.085509666931,10942.085509666931,10942.085509666931,10942.085509666931,10942.085509666931,10942.085509666931,10942.085509666931,10942.085509666931,10942.085509666931,10942.085509666931,8034.032890992088,8034.032890992088,8034.032890992088,8034.032890992088,8034.032890992088,8034.032890992088,8034.032890992088,8034.032890992088,8034.032890992088,8034.032890992088,8034.032890992088,8591.425799032075,8591.425799032075,8591.425799032075,8591.425799032075,8591.425799032075,8591.425799032075,8591.425799032075,8591.425799032075,8591.425799032075,8591.425799032075,8591.425799032075,8591.425799032075,7392.653203701226,7392.653203701226,7392.653203701226,7392.653203701226,7392.653203701226,7392.653203701226,7392.653203701226,7392.653203701226,7392.653203701226,7392.653203701226,7392.653203701226,7392.653203701226,8003.513133044036,8003.513133044036,8003.513133044036,8003.513133044036,8003.513133044036,8003.513133044036,8003.513133044036,8003.513133044036,8003.513133044036,8003.513133044036,8003.513133044036,8003.513133044036,6855.564870062626,6855.564870062626,6855.564870062626,6855.564870062626,6855.564870062626,6855.564870062626,6855.564870062626,6855.564870062626,6855.564870062626,6855.564870062626,6855.564870062626,6855.564870062626,9613.097292765917,9613.097292765917,9613.097292765917,9613.097292765917,9613.097292765917,9613.097292765917,9613.097292765917,9613.097292765917,9613.097292765917,9613.097292765917,9613.097292765917,9613.097292765917,8909.258698302,8909.258698302,8909.258698302,8909.258698302,8909.258698302,8909.258698302,8909.258698302,8909.258698302,8909.258698302,8909.258698302,8909.258698302,8909.258698302,9739.012208266,9739.012208266,9739.012208266,9739.012208266,9739.012208266,9739.012208266,9739.012208266,9739.012208266,9739.012208266,9739.012208266,9739.012208266,9739.012208266,15308.024486978,15308.024486978,15308.024486978,15308.024486978,15308.024486978,15308.024486978,15308.024486978,15308.024486978,15308.024486978,15308.024486978,15308.024486978,16677.562291743,16677.562291743,16677.562291743,16677.562291743,16677.562291743,16677.562291743,16677.562291743,16677.562291743,16677.562291743,16677.562291743],\"type\":\"scatter\"}],                        {\"template\":{\"data\":{\"histogram2dcontour\":[{\"type\":\"histogram2dcontour\",\"colorbar\":{\"outlinewidth\":0,\"ticks\":\"\"},\"colorscale\":[[0.0,\"#0d0887\"],[0.1111111111111111,\"#46039f\"],[0.2222222222222222,\"#7201a8\"],[0.3333333333333333,\"#9c179e\"],[0.4444444444444444,\"#bd3786\"],[0.5555555555555556,\"#d8576b\"],[0.6666666666666666,\"#ed7953\"],[0.7777777777777778,\"#fb9f3a\"],[0.8888888888888888,\"#fdca26\"],[1.0,\"#f0f921\"]]}],\"choropleth\":[{\"type\":\"choropleth\",\"colorbar\":{\"outlinewidth\":0,\"ticks\":\"\"}}],\"histogram2d\":[{\"type\":\"histogram2d\",\"colorbar\":{\"outlinewidth\":0,\"ticks\":\"\"},\"colorscale\":[[0.0,\"#0d0887\"],[0.1111111111111111,\"#46039f\"],[0.2222222222222222,\"#7201a8\"],[0.3333333333333333,\"#9c179e\"],[0.4444444444444444,\"#bd3786\"],[0.5555555555555556,\"#d8576b\"],[0.6666666666666666,\"#ed7953\"],[0.7777777777777778,\"#fb9f3a\"],[0.8888888888888888,\"#fdca26\"],[1.0,\"#f0f921\"]]}],\"heatmap\":[{\"type\":\"heatmap\",\"colorbar\":{\"outlinewidth\":0,\"ticks\":\"\"},\"colorscale\":[[0.0,\"#0d0887\"],[0.1111111111111111,\"#46039f\"],[0.2222222222222222,\"#7201a8\"],[0.3333333333333333,\"#9c179e\"],[0.4444444444444444,\"#bd3786\"],[0.5555555555555556,\"#d8576b\"],[0.6666666666666666,\"#ed7953\"],[0.7777777777777778,\"#fb9f3a\"],[0.8888888888888888,\"#fdca26\"],[1.0,\"#f0f921\"]]}],\"heatmapgl\":[{\"type\":\"heatmapgl\",\"colorbar\":{\"outlinewidth\":0,\"ticks\":\"\"},\"colorscale\":[[0.0,\"#0d0887\"],[0.1111111111111111,\"#46039f\"],[0.2222222222222222,\"#7201a8\"],[0.3333333333333333,\"#9c179e\"],[0.4444444444444444,\"#bd3786\"],[0.5555555555555556,\"#d8576b\"],[0.6666666666666666,\"#ed7953\"],[0.7777777777777778,\"#fb9f3a\"],[0.8888888888888888,\"#fdca26\"],[1.0,\"#f0f921\"]]}],\"contourcarpet\":[{\"type\":\"contourcarpet\",\"colorbar\":{\"outlinewidth\":0,\"ticks\":\"\"}}],\"contour\":[{\"type\":\"contour\",\"colorbar\":{\"outlinewidth\":0,\"ticks\":\"\"},\"colorscale\":[[0.0,\"#0d0887\"],[0.1111111111111111,\"#46039f\"],[0.2222222222222222,\"#7201a8\"],[0.3333333333333333,\"#9c179e\"],[0.4444444444444444,\"#bd3786\"],[0.5555555555555556,\"#d8576b\"],[0.6666666666666666,\"#ed7953\"],[0.7777777777777778,\"#fb9f3a\"],[0.8888888888888888,\"#fdca26\"],[1.0,\"#f0f921\"]]}],\"surface\":[{\"type\":\"surface\",\"colorbar\":{\"outlinewidth\":0,\"ticks\":\"\"},\"colorscale\":[[0.0,\"#0d0887\"],[0.1111111111111111,\"#46039f\"],[0.2222222222222222,\"#7201a8\"],[0.3333333333333333,\"#9c179e\"],[0.4444444444444444,\"#bd3786\"],[0.5555555555555556,\"#d8576b\"],[0.6666666666666666,\"#ed7953\"],[0.7777777777777778,\"#fb9f3a\"],[0.8888888888888888,\"#fdca26\"],[1.0,\"#f0f921\"]]}],\"mesh3d\":[{\"type\":\"mesh3d\",\"colorbar\":{\"outlinewidth\":0,\"ticks\":\"\"}}],\"scatter\":[{\"fillpattern\":{\"fillmode\":\"overlay\",\"size\":10,\"solidity\":0.2},\"type\":\"scatter\"}],\"parcoords\":[{\"type\":\"parcoords\",\"line\":{\"colorbar\":{\"outlinewidth\":0,\"ticks\":\"\"}}}],\"scatterpolargl\":[{\"type\":\"scatterpolargl\",\"marker\":{\"colorbar\":{\"outlinewidth\":0,\"ticks\":\"\"}}}],\"bar\":[{\"error_x\":{\"color\":\"#2a3f5f\"},\"error_y\":{\"color\":\"#2a3f5f\"},\"marker\":{\"line\":{\"color\":\"#E5ECF6\",\"width\":0.5},\"pattern\":{\"fillmode\":\"overlay\",\"size\":10,\"solidity\":0.2}},\"type\":\"bar\"}],\"scattergeo\":[{\"type\":\"scattergeo\",\"marker\":{\"colorbar\":{\"outlinewidth\":0,\"ticks\":\"\"}}}],\"scatterpolar\":[{\"type\":\"scatterpolar\",\"marker\":{\"colorbar\":{\"outlinewidth\":0,\"ticks\":\"\"}}}],\"histogram\":[{\"marker\":{\"pattern\":{\"fillmode\":\"overlay\",\"size\":10,\"solidity\":0.2}},\"type\":\"histogram\"}],\"scattergl\":[{\"type\":\"scattergl\",\"marker\":{\"colorbar\":{\"outlinewidth\":0,\"ticks\":\"\"}}}],\"scatter3d\":[{\"type\":\"scatter3d\",\"line\":{\"colorbar\":{\"outlinewidth\":0,\"ticks\":\"\"}},\"marker\":{\"colorbar\":{\"outlinewidth\":0,\"ticks\":\"\"}}}],\"scattermapbox\":[{\"type\":\"scattermapbox\",\"marker\":{\"colorbar\":{\"outlinewidth\":0,\"ticks\":\"\"}}}],\"scatterternary\":[{\"type\":\"scatterternary\",\"marker\":{\"colorbar\":{\"outlinewidth\":0,\"ticks\":\"\"}}}],\"scattercarpet\":[{\"type\":\"scattercarpet\",\"marker\":{\"colorbar\":{\"outlinewidth\":0,\"ticks\":\"\"}}}],\"carpet\":[{\"aaxis\":{\"endlinecolor\":\"#2a3f5f\",\"gridcolor\":\"white\",\"linecolor\":\"white\",\"minorgridcolor\":\"white\",\"startlinecolor\":\"#2a3f5f\"},\"baxis\":{\"endlinecolor\":\"#2a3f5f\",\"gridcolor\":\"white\",\"linecolor\":\"white\",\"minorgridcolor\":\"white\",\"startlinecolor\":\"#2a3f5f\"},\"type\":\"carpet\"}],\"table\":[{\"cells\":{\"fill\":{\"color\":\"#EBF0F8\"},\"line\":{\"color\":\"white\"}},\"header\":{\"fill\":{\"color\":\"#C8D4E3\"},\"line\":{\"color\":\"white\"}},\"type\":\"table\"}],\"barpolar\":[{\"marker\":{\"line\":{\"color\":\"#E5ECF6\",\"width\":0.5},\"pattern\":{\"fillmode\":\"overlay\",\"size\":10,\"solidity\":0.2}},\"type\":\"barpolar\"}],\"pie\":[{\"automargin\":true,\"type\":\"pie\"}]},\"layout\":{\"autotypenumbers\":\"strict\",\"colorway\":[\"#636efa\",\"#EF553B\",\"#00cc96\",\"#ab63fa\",\"#FFA15A\",\"#19d3f3\",\"#FF6692\",\"#B6E880\",\"#FF97FF\",\"#FECB52\"],\"font\":{\"color\":\"#2a3f5f\"},\"hovermode\":\"closest\",\"hoverlabel\":{\"align\":\"left\"},\"paper_bgcolor\":\"white\",\"plot_bgcolor\":\"#E5ECF6\",\"polar\":{\"bgcolor\":\"#E5ECF6\",\"angularaxis\":{\"gridcolor\":\"white\",\"linecolor\":\"white\",\"ticks\":\"\"},\"radialaxis\":{\"gridcolor\":\"white\",\"linecolor\":\"white\",\"ticks\":\"\"}},\"ternary\":{\"bgcolor\":\"#E5ECF6\",\"aaxis\":{\"gridcolor\":\"white\",\"linecolor\":\"white\",\"ticks\":\"\"},\"baxis\":{\"gridcolor\":\"white\",\"linecolor\":\"white\",\"ticks\":\"\"},\"caxis\":{\"gridcolor\":\"white\",\"linecolor\":\"white\",\"ticks\":\"\"}},\"coloraxis\":{\"colorbar\":{\"outlinewidth\":0,\"ticks\":\"\"}},\"colorscale\":{\"sequential\":[[0.0,\"#0d0887\"],[0.1111111111111111,\"#46039f\"],[0.2222222222222222,\"#7201a8\"],[0.3333333333333333,\"#9c179e\"],[0.4444444444444444,\"#bd3786\"],[0.5555555555555556,\"#d8576b\"],[0.6666666666666666,\"#ed7953\"],[0.7777777777777778,\"#fb9f3a\"],[0.8888888888888888,\"#fdca26\"],[1.0,\"#f0f921\"]],\"sequentialminus\":[[0.0,\"#0d0887\"],[0.1111111111111111,\"#46039f\"],[0.2222222222222222,\"#7201a8\"],[0.3333333333333333,\"#9c179e\"],[0.4444444444444444,\"#bd3786\"],[0.5555555555555556,\"#d8576b\"],[0.6666666666666666,\"#ed7953\"],[0.7777777777777778,\"#fb9f3a\"],[0.8888888888888888,\"#fdca26\"],[1.0,\"#f0f921\"]],\"diverging\":[[0,\"#8e0152\"],[0.1,\"#c51b7d\"],[0.2,\"#de77ae\"],[0.3,\"#f1b6da\"],[0.4,\"#fde0ef\"],[0.5,\"#f7f7f7\"],[0.6,\"#e6f5d0\"],[0.7,\"#b8e186\"],[0.8,\"#7fbc41\"],[0.9,\"#4d9221\"],[1,\"#276419\"]]},\"xaxis\":{\"gridcolor\":\"white\",\"linecolor\":\"white\",\"ticks\":\"\",\"title\":{\"standoff\":15},\"zerolinecolor\":\"white\",\"automargin\":true,\"zerolinewidth\":2},\"yaxis\":{\"gridcolor\":\"white\",\"linecolor\":\"white\",\"ticks\":\"\",\"title\":{\"standoff\":15},\"zerolinecolor\":\"white\",\"automargin\":true,\"zerolinewidth\":2},\"scene\":{\"xaxis\":{\"backgroundcolor\":\"#E5ECF6\",\"gridcolor\":\"white\",\"linecolor\":\"white\",\"showbackground\":true,\"ticks\":\"\",\"zerolinecolor\":\"white\",\"gridwidth\":2},\"yaxis\":{\"backgroundcolor\":\"#E5ECF6\",\"gridcolor\":\"white\",\"linecolor\":\"white\",\"showbackground\":true,\"ticks\":\"\",\"zerolinecolor\":\"white\",\"gridwidth\":2},\"zaxis\":{\"backgroundcolor\":\"#E5ECF6\",\"gridcolor\":\"white\",\"linecolor\":\"white\",\"showbackground\":true,\"ticks\":\"\",\"zerolinecolor\":\"white\",\"gridwidth\":2}},\"shapedefaults\":{\"line\":{\"color\":\"#2a3f5f\"}},\"annotationdefaults\":{\"arrowcolor\":\"#2a3f5f\",\"arrowhead\":0,\"arrowwidth\":1},\"geo\":{\"bgcolor\":\"white\",\"landcolor\":\"#E5ECF6\",\"subunitcolor\":\"white\",\"showland\":true,\"showlakes\":true,\"lakecolor\":\"white\"},\"title\":{\"x\":0.05},\"mapbox\":{\"style\":\"light\"}}},\"title\":{\"text\":\"Serie temporal Lipton (L3): Valor Real -vs- Predicciones\\u003cbr\\u003e\\u003csup\\u003eSelecciona las líneas en la leyenda para mostrar u ocultar predicciones según Diferencia_Fechas\\u003c\\u002fsup\\u003e\"},\"xaxis\":{\"title\":{\"text\":\"Fecha\"}},\"yaxis\":{\"title\":{\"text\":\"Ventas\"}}},                        {\"responsive\": true}                    ).then(function(){\n",
              "                            \n",
              "var gd = document.getElementById('e71a1451-3700-43f2-b601-cd2ea12ffe21');\n",
              "var x = new MutationObserver(function (mutations, observer) {{\n",
              "        var display = window.getComputedStyle(gd).display;\n",
              "        if (!display || display === 'none') {{\n",
              "            console.log([gd, 'removed!']);\n",
              "            Plotly.purge(gd);\n",
              "            observer.disconnect();\n",
              "        }}\n",
              "}});\n",
              "\n",
              "// Listen for the removal of the full notebook cells\n",
              "var notebookContainer = gd.closest('#notebook-container');\n",
              "if (notebookContainer) {{\n",
              "    x.observe(notebookContainer, {childList: true});\n",
              "}}\n",
              "\n",
              "// Listen for the clearing of the current output cell\n",
              "var outputEl = gd.closest('.output');\n",
              "if (outputEl) {{\n",
              "    x.observe(outputEl, {childList: true});\n",
              "}}\n",
              "\n",
              "                        })                };                            </script>        </div>\n",
              "</body>\n",
              "</html>"
            ]
          },
          "metadata": {}
        }
      ]
    },
    {
      "cell_type": "markdown",
      "source": [
        "**Lipton**\n",
        "\n",
        "Para Lipton, las predicciones más precisas se obtienen con un horizonte de 1 mes y de 16 meses, mientras que el peor ajuste ocurre con 4 meses de diferencia. La serie presenta estacionalidad, con picos en agosto y mínimos en febrero, lo que sugiere una distribución de errores similar a una normal. Esto implica que un horizonte de 6 meses podría reflejar datos opuestos, convirtiendo un máximo en un mínimo y viceversa."
      ],
      "metadata": {
        "id": "vBLEbFajMpM0"
      }
    },
    {
      "cell_type": "code",
      "source": [
        "graficar_desviacion_normalizada_producto(merged_df, producto='7up Free (L3)')"
      ],
      "metadata": {
        "colab": {
          "base_uri": "https://localhost:8080/",
          "height": 542
        },
        "id": "aw-0vPzYr979",
        "outputId": "ea820884-c6f5-4047-b74d-f3be124a5701"
      },
      "execution_count": 529,
      "outputs": [
        {
          "output_type": "display_data",
          "data": {
            "text/html": [
              "<html>\n",
              "<head><meta charset=\"utf-8\" /></head>\n",
              "<body>\n",
              "    <div>            <script src=\"https://cdnjs.cloudflare.com/ajax/libs/mathjax/2.7.5/MathJax.js?config=TeX-AMS-MML_SVG\"></script><script type=\"text/javascript\">if (window.MathJax && window.MathJax.Hub && window.MathJax.Hub.Config) {window.MathJax.Hub.Config({SVG: {font: \"STIX-Web\"}});}</script>                <script type=\"text/javascript\">window.PlotlyConfig = {MathJaxConfig: 'local'};</script>\n",
              "        <script charset=\"utf-8\" src=\"https://cdn.plot.ly/plotly-2.35.2.min.js\"></script>                <div id=\"58af9a58-55fd-47c8-bc31-9aa8486c99d2\" class=\"plotly-graph-div\" style=\"height:525px; width:100%;\"></div>            <script type=\"text/javascript\">                                    window.PLOTLYENV=window.PLOTLYENV || {};                                    if (document.getElementById(\"58af9a58-55fd-47c8-bc31-9aa8486c99d2\")) {                    Plotly.newPlot(                        \"58af9a58-55fd-47c8-bc31-9aa8486c99d2\",                        [{\"alignmentgroup\":\"True\",\"hovertemplate\":\"Horizonte de Predicción (Meses)=%{x}\\u003cbr\\u003eMedia de Error Absoluto=%{y}\\u003cextra\\u003e\\u003c\\u002fextra\\u003e\",\"legendgroup\":\"\",\"marker\":{\"color\":\"#636efa\",\"pattern\":{\"shape\":\"\"}},\"name\":\"\",\"offsetgroup\":\"\",\"orientation\":\"v\",\"showlegend\":false,\"textposition\":\"auto\",\"x\":[0.0,1.0,2.0,3.0,4.0,5.0,6.0,7.0,8.0,9.0,10.0,11.0,12.0,13.0,14.0,15.0,16.0,17.0],\"xaxis\":\"x\",\"y\":[7780.382951956111,8543.741486953879,5891.012767406658,9212.798706331703,5410.959202045461,8815.248861647398,7348.582931642842,6630.505303339652,9418.191481798774,9888.35592227948,8997.523109246526,9622.851771270405,8387.078795777838,8834.450880629287,6382.129030536075,12512.526807446748,14643.199213710275,11120.494588482825],\"yaxis\":\"y\",\"type\":\"bar\"}],                        {\"template\":{\"data\":{\"histogram2dcontour\":[{\"type\":\"histogram2dcontour\",\"colorbar\":{\"outlinewidth\":0,\"ticks\":\"\"},\"colorscale\":[[0.0,\"#0d0887\"],[0.1111111111111111,\"#46039f\"],[0.2222222222222222,\"#7201a8\"],[0.3333333333333333,\"#9c179e\"],[0.4444444444444444,\"#bd3786\"],[0.5555555555555556,\"#d8576b\"],[0.6666666666666666,\"#ed7953\"],[0.7777777777777778,\"#fb9f3a\"],[0.8888888888888888,\"#fdca26\"],[1.0,\"#f0f921\"]]}],\"choropleth\":[{\"type\":\"choropleth\",\"colorbar\":{\"outlinewidth\":0,\"ticks\":\"\"}}],\"histogram2d\":[{\"type\":\"histogram2d\",\"colorbar\":{\"outlinewidth\":0,\"ticks\":\"\"},\"colorscale\":[[0.0,\"#0d0887\"],[0.1111111111111111,\"#46039f\"],[0.2222222222222222,\"#7201a8\"],[0.3333333333333333,\"#9c179e\"],[0.4444444444444444,\"#bd3786\"],[0.5555555555555556,\"#d8576b\"],[0.6666666666666666,\"#ed7953\"],[0.7777777777777778,\"#fb9f3a\"],[0.8888888888888888,\"#fdca26\"],[1.0,\"#f0f921\"]]}],\"heatmap\":[{\"type\":\"heatmap\",\"colorbar\":{\"outlinewidth\":0,\"ticks\":\"\"},\"colorscale\":[[0.0,\"#0d0887\"],[0.1111111111111111,\"#46039f\"],[0.2222222222222222,\"#7201a8\"],[0.3333333333333333,\"#9c179e\"],[0.4444444444444444,\"#bd3786\"],[0.5555555555555556,\"#d8576b\"],[0.6666666666666666,\"#ed7953\"],[0.7777777777777778,\"#fb9f3a\"],[0.8888888888888888,\"#fdca26\"],[1.0,\"#f0f921\"]]}],\"heatmapgl\":[{\"type\":\"heatmapgl\",\"colorbar\":{\"outlinewidth\":0,\"ticks\":\"\"},\"colorscale\":[[0.0,\"#0d0887\"],[0.1111111111111111,\"#46039f\"],[0.2222222222222222,\"#7201a8\"],[0.3333333333333333,\"#9c179e\"],[0.4444444444444444,\"#bd3786\"],[0.5555555555555556,\"#d8576b\"],[0.6666666666666666,\"#ed7953\"],[0.7777777777777778,\"#fb9f3a\"],[0.8888888888888888,\"#fdca26\"],[1.0,\"#f0f921\"]]}],\"contourcarpet\":[{\"type\":\"contourcarpet\",\"colorbar\":{\"outlinewidth\":0,\"ticks\":\"\"}}],\"contour\":[{\"type\":\"contour\",\"colorbar\":{\"outlinewidth\":0,\"ticks\":\"\"},\"colorscale\":[[0.0,\"#0d0887\"],[0.1111111111111111,\"#46039f\"],[0.2222222222222222,\"#7201a8\"],[0.3333333333333333,\"#9c179e\"],[0.4444444444444444,\"#bd3786\"],[0.5555555555555556,\"#d8576b\"],[0.6666666666666666,\"#ed7953\"],[0.7777777777777778,\"#fb9f3a\"],[0.8888888888888888,\"#fdca26\"],[1.0,\"#f0f921\"]]}],\"surface\":[{\"type\":\"surface\",\"colorbar\":{\"outlinewidth\":0,\"ticks\":\"\"},\"colorscale\":[[0.0,\"#0d0887\"],[0.1111111111111111,\"#46039f\"],[0.2222222222222222,\"#7201a8\"],[0.3333333333333333,\"#9c179e\"],[0.4444444444444444,\"#bd3786\"],[0.5555555555555556,\"#d8576b\"],[0.6666666666666666,\"#ed7953\"],[0.7777777777777778,\"#fb9f3a\"],[0.8888888888888888,\"#fdca26\"],[1.0,\"#f0f921\"]]}],\"mesh3d\":[{\"type\":\"mesh3d\",\"colorbar\":{\"outlinewidth\":0,\"ticks\":\"\"}}],\"scatter\":[{\"fillpattern\":{\"fillmode\":\"overlay\",\"size\":10,\"solidity\":0.2},\"type\":\"scatter\"}],\"parcoords\":[{\"type\":\"parcoords\",\"line\":{\"colorbar\":{\"outlinewidth\":0,\"ticks\":\"\"}}}],\"scatterpolargl\":[{\"type\":\"scatterpolargl\",\"marker\":{\"colorbar\":{\"outlinewidth\":0,\"ticks\":\"\"}}}],\"bar\":[{\"error_x\":{\"color\":\"#2a3f5f\"},\"error_y\":{\"color\":\"#2a3f5f\"},\"marker\":{\"line\":{\"color\":\"#E5ECF6\",\"width\":0.5},\"pattern\":{\"fillmode\":\"overlay\",\"size\":10,\"solidity\":0.2}},\"type\":\"bar\"}],\"scattergeo\":[{\"type\":\"scattergeo\",\"marker\":{\"colorbar\":{\"outlinewidth\":0,\"ticks\":\"\"}}}],\"scatterpolar\":[{\"type\":\"scatterpolar\",\"marker\":{\"colorbar\":{\"outlinewidth\":0,\"ticks\":\"\"}}}],\"histogram\":[{\"marker\":{\"pattern\":{\"fillmode\":\"overlay\",\"size\":10,\"solidity\":0.2}},\"type\":\"histogram\"}],\"scattergl\":[{\"type\":\"scattergl\",\"marker\":{\"colorbar\":{\"outlinewidth\":0,\"ticks\":\"\"}}}],\"scatter3d\":[{\"type\":\"scatter3d\",\"line\":{\"colorbar\":{\"outlinewidth\":0,\"ticks\":\"\"}},\"marker\":{\"colorbar\":{\"outlinewidth\":0,\"ticks\":\"\"}}}],\"scattermapbox\":[{\"type\":\"scattermapbox\",\"marker\":{\"colorbar\":{\"outlinewidth\":0,\"ticks\":\"\"}}}],\"scatterternary\":[{\"type\":\"scatterternary\",\"marker\":{\"colorbar\":{\"outlinewidth\":0,\"ticks\":\"\"}}}],\"scattercarpet\":[{\"type\":\"scattercarpet\",\"marker\":{\"colorbar\":{\"outlinewidth\":0,\"ticks\":\"\"}}}],\"carpet\":[{\"aaxis\":{\"endlinecolor\":\"#2a3f5f\",\"gridcolor\":\"white\",\"linecolor\":\"white\",\"minorgridcolor\":\"white\",\"startlinecolor\":\"#2a3f5f\"},\"baxis\":{\"endlinecolor\":\"#2a3f5f\",\"gridcolor\":\"white\",\"linecolor\":\"white\",\"minorgridcolor\":\"white\",\"startlinecolor\":\"#2a3f5f\"},\"type\":\"carpet\"}],\"table\":[{\"cells\":{\"fill\":{\"color\":\"#EBF0F8\"},\"line\":{\"color\":\"white\"}},\"header\":{\"fill\":{\"color\":\"#C8D4E3\"},\"line\":{\"color\":\"white\"}},\"type\":\"table\"}],\"barpolar\":[{\"marker\":{\"line\":{\"color\":\"#E5ECF6\",\"width\":0.5},\"pattern\":{\"fillmode\":\"overlay\",\"size\":10,\"solidity\":0.2}},\"type\":\"barpolar\"}],\"pie\":[{\"automargin\":true,\"type\":\"pie\"}]},\"layout\":{\"autotypenumbers\":\"strict\",\"colorway\":[\"#636efa\",\"#EF553B\",\"#00cc96\",\"#ab63fa\",\"#FFA15A\",\"#19d3f3\",\"#FF6692\",\"#B6E880\",\"#FF97FF\",\"#FECB52\"],\"font\":{\"color\":\"#2a3f5f\"},\"hovermode\":\"closest\",\"hoverlabel\":{\"align\":\"left\"},\"paper_bgcolor\":\"white\",\"plot_bgcolor\":\"#E5ECF6\",\"polar\":{\"bgcolor\":\"#E5ECF6\",\"angularaxis\":{\"gridcolor\":\"white\",\"linecolor\":\"white\",\"ticks\":\"\"},\"radialaxis\":{\"gridcolor\":\"white\",\"linecolor\":\"white\",\"ticks\":\"\"}},\"ternary\":{\"bgcolor\":\"#E5ECF6\",\"aaxis\":{\"gridcolor\":\"white\",\"linecolor\":\"white\",\"ticks\":\"\"},\"baxis\":{\"gridcolor\":\"white\",\"linecolor\":\"white\",\"ticks\":\"\"},\"caxis\":{\"gridcolor\":\"white\",\"linecolor\":\"white\",\"ticks\":\"\"}},\"coloraxis\":{\"colorbar\":{\"outlinewidth\":0,\"ticks\":\"\"}},\"colorscale\":{\"sequential\":[[0.0,\"#0d0887\"],[0.1111111111111111,\"#46039f\"],[0.2222222222222222,\"#7201a8\"],[0.3333333333333333,\"#9c179e\"],[0.4444444444444444,\"#bd3786\"],[0.5555555555555556,\"#d8576b\"],[0.6666666666666666,\"#ed7953\"],[0.7777777777777778,\"#fb9f3a\"],[0.8888888888888888,\"#fdca26\"],[1.0,\"#f0f921\"]],\"sequentialminus\":[[0.0,\"#0d0887\"],[0.1111111111111111,\"#46039f\"],[0.2222222222222222,\"#7201a8\"],[0.3333333333333333,\"#9c179e\"],[0.4444444444444444,\"#bd3786\"],[0.5555555555555556,\"#d8576b\"],[0.6666666666666666,\"#ed7953\"],[0.7777777777777778,\"#fb9f3a\"],[0.8888888888888888,\"#fdca26\"],[1.0,\"#f0f921\"]],\"diverging\":[[0,\"#8e0152\"],[0.1,\"#c51b7d\"],[0.2,\"#de77ae\"],[0.3,\"#f1b6da\"],[0.4,\"#fde0ef\"],[0.5,\"#f7f7f7\"],[0.6,\"#e6f5d0\"],[0.7,\"#b8e186\"],[0.8,\"#7fbc41\"],[0.9,\"#4d9221\"],[1,\"#276419\"]]},\"xaxis\":{\"gridcolor\":\"white\",\"linecolor\":\"white\",\"ticks\":\"\",\"title\":{\"standoff\":15},\"zerolinecolor\":\"white\",\"automargin\":true,\"zerolinewidth\":2},\"yaxis\":{\"gridcolor\":\"white\",\"linecolor\":\"white\",\"ticks\":\"\",\"title\":{\"standoff\":15},\"zerolinecolor\":\"white\",\"automargin\":true,\"zerolinewidth\":2},\"scene\":{\"xaxis\":{\"backgroundcolor\":\"#E5ECF6\",\"gridcolor\":\"white\",\"linecolor\":\"white\",\"showbackground\":true,\"ticks\":\"\",\"zerolinecolor\":\"white\",\"gridwidth\":2},\"yaxis\":{\"backgroundcolor\":\"#E5ECF6\",\"gridcolor\":\"white\",\"linecolor\":\"white\",\"showbackground\":true,\"ticks\":\"\",\"zerolinecolor\":\"white\",\"gridwidth\":2},\"zaxis\":{\"backgroundcolor\":\"#E5ECF6\",\"gridcolor\":\"white\",\"linecolor\":\"white\",\"showbackground\":true,\"ticks\":\"\",\"zerolinecolor\":\"white\",\"gridwidth\":2}},\"shapedefaults\":{\"line\":{\"color\":\"#2a3f5f\"}},\"annotationdefaults\":{\"arrowcolor\":\"#2a3f5f\",\"arrowhead\":0,\"arrowwidth\":1},\"geo\":{\"bgcolor\":\"white\",\"landcolor\":\"#E5ECF6\",\"subunitcolor\":\"white\",\"showland\":true,\"showlakes\":true,\"lakecolor\":\"white\"},\"title\":{\"x\":0.05},\"mapbox\":{\"style\":\"light\"}}},\"xaxis\":{\"anchor\":\"y\",\"domain\":[0.0,1.0],\"title\":{\"text\":\"Horizonte de Predicción (Meses)\"}},\"yaxis\":{\"anchor\":\"x\",\"domain\":[0.0,1.0],\"title\":{\"text\":\"Media de Error Absoluto\"}},\"legend\":{\"tracegroupgap\":0},\"title\":{\"text\":\"Media de Error Absoluto para 7up Free (L3) por Horizonte de Predicción\"},\"barmode\":\"relative\"},                        {\"responsive\": true}                    ).then(function(){\n",
              "                            \n",
              "var gd = document.getElementById('58af9a58-55fd-47c8-bc31-9aa8486c99d2');\n",
              "var x = new MutationObserver(function (mutations, observer) {{\n",
              "        var display = window.getComputedStyle(gd).display;\n",
              "        if (!display || display === 'none') {{\n",
              "            console.log([gd, 'removed!']);\n",
              "            Plotly.purge(gd);\n",
              "            observer.disconnect();\n",
              "        }}\n",
              "}});\n",
              "\n",
              "// Listen for the removal of the full notebook cells\n",
              "var notebookContainer = gd.closest('#notebook-container');\n",
              "if (notebookContainer) {{\n",
              "    x.observe(notebookContainer, {childList: true});\n",
              "}}\n",
              "\n",
              "// Listen for the clearing of the current output cell\n",
              "var outputEl = gd.closest('.output');\n",
              "if (outputEl) {{\n",
              "    x.observe(outputEl, {childList: true});\n",
              "}}\n",
              "\n",
              "                        })                };                            </script>        </div>\n",
              "</body>\n",
              "</html>"
            ]
          },
          "metadata": {}
        }
      ]
    },
    {
      "cell_type": "code",
      "source": [
        "graficar_serie_temporal(merged_df, '7up Free (L3)', [2, 4, 14, 16])"
      ],
      "metadata": {
        "colab": {
          "base_uri": "https://localhost:8080/",
          "height": 542
        },
        "id": "3Ovy2FAVKFW7",
        "outputId": "3447976f-bd8a-4fc9-b084-d74d2ba97135"
      },
      "execution_count": 530,
      "outputs": [
        {
          "output_type": "display_data",
          "data": {
            "text/html": [
              "<html>\n",
              "<head><meta charset=\"utf-8\" /></head>\n",
              "<body>\n",
              "    <div>            <script src=\"https://cdnjs.cloudflare.com/ajax/libs/mathjax/2.7.5/MathJax.js?config=TeX-AMS-MML_SVG\"></script><script type=\"text/javascript\">if (window.MathJax && window.MathJax.Hub && window.MathJax.Hub.Config) {window.MathJax.Hub.Config({SVG: {font: \"STIX-Web\"}});}</script>                <script type=\"text/javascript\">window.PlotlyConfig = {MathJaxConfig: 'local'};</script>\n",
              "        <script charset=\"utf-8\" src=\"https://cdn.plot.ly/plotly-2.35.2.min.js\"></script>                <div id=\"b54d694a-e470-4f83-88b2-bec682a1f6c4\" class=\"plotly-graph-div\" style=\"height:525px; width:100%;\"></div>            <script type=\"text/javascript\">                                    window.PLOTLYENV=window.PLOTLYENV || {};                                    if (document.getElementById(\"b54d694a-e470-4f83-88b2-bec682a1f6c4\")) {                    Plotly.newPlot(                        \"b54d694a-e470-4f83-88b2-bec682a1f6c4\",                        [{\"line\":{\"width\":2},\"mode\":\"lines\",\"name\":\"Predicción: Diferencia - 0.0 meses)\",\"visible\":\"legendonly\",\"x\":[\"2023-01-01T00:00:00\",\"2023-02-01T00:00:00\",\"2023-03-01T00:00:00\",\"2023-04-01T00:00:00\",\"2023-05-01T00:00:00\",\"2023-06-01T00:00:00\",\"2023-07-01T00:00:00\",\"2023-08-01T00:00:00\",\"2023-09-01T00:00:00\",\"2023-10-01T00:00:00\",\"2023-11-01T00:00:00\",\"2023-12-01T00:00:00\"],\"y\":[60943.9754538628,56467.24141128526,47731.40805292456,49729.60581938961,72908.98246331658,71687.08211933015,83169.0311774895,91832.37044683803,82540.08858873096,85468.12494187691,75930.27684151614,76048.2159328842],\"type\":\"scatter\"},{\"line\":{\"width\":2},\"mode\":\"lines\",\"name\":\"Predicción: Diferencia - 1.0 meses)\",\"visible\":\"legendonly\",\"x\":[\"2023-02-01T00:00:00\",\"2023-03-01T00:00:00\",\"2023-04-01T00:00:00\",\"2023-05-01T00:00:00\",\"2023-06-01T00:00:00\",\"2023-07-01T00:00:00\",\"2023-08-01T00:00:00\",\"2023-09-01T00:00:00\",\"2023-10-01T00:00:00\",\"2023-11-01T00:00:00\",\"2023-12-01T00:00:00\",\"2024-01-01T00:00:00\"],\"y\":[69262.076535612,55997.315600698144,41079.710956063216,68595.3850850315,72502.31243623992,83080.418034211,88625.03940396674,80763.61612689277,83564.00533280248,76071.4782374711,74890.79838744906,69248.96580833313],\"type\":\"scatter\"},{\"line\":{\"width\":2},\"mode\":\"lines\",\"name\":\"Predicción: Diferencia - 2.0 meses)\",\"visible\":true,\"x\":[\"2023-03-01T00:00:00\",\"2023-04-01T00:00:00\",\"2023-05-01T00:00:00\",\"2023-06-01T00:00:00\",\"2023-07-01T00:00:00\",\"2023-08-01T00:00:00\",\"2023-09-01T00:00:00\",\"2023-10-01T00:00:00\",\"2023-11-01T00:00:00\",\"2023-12-01T00:00:00\",\"2024-01-01T00:00:00\",\"2024-02-01T00:00:00\"],\"y\":[69172.94114125201,55546.758200358,56123.0406998788,73908.81567993143,82727.85829249199,88865.85072886018,76464.50196145558,83384.29161851289,74773.00916250312,81498.51308077117,68559.35511283731,60735.85461892247],\"type\":\"scatter\"},{\"line\":{\"width\":2},\"mode\":\"lines\",\"name\":\"Predicción: Diferencia - 3.0 meses)\",\"visible\":\"legendonly\",\"x\":[\"2023-04-01T00:00:00\",\"2023-05-01T00:00:00\",\"2023-06-01T00:00:00\",\"2023-07-01T00:00:00\",\"2023-08-01T00:00:00\",\"2023-09-01T00:00:00\",\"2023-10-01T00:00:00\",\"2023-11-01T00:00:00\",\"2023-12-01T00:00:00\",\"2024-01-01T00:00:00\",\"2024-02-01T00:00:00\",\"2024-03-01T00:00:00\"],\"y\":[67408.97363077698,47612.6961746149,70303.57791726498,78127.0780056036,88202.29303680107,77945.61668427402,75230.800390833,77161.15577634098,80150.8258525325,67784.6194759249,58619.32137287337,68915.14714199404],\"type\":\"scatter\"},{\"line\":{\"width\":2},\"mode\":\"lines\",\"name\":\"Predicción: Diferencia - 4.0 meses)\",\"visible\":true,\"x\":[\"2023-05-01T00:00:00\",\"2023-06-01T00:00:00\",\"2023-07-01T00:00:00\",\"2023-08-01T00:00:00\",\"2023-09-01T00:00:00\",\"2023-10-01T00:00:00\",\"2023-11-01T00:00:00\",\"2023-12-01T00:00:00\",\"2024-01-01T00:00:00\",\"2024-02-01T00:00:00\",\"2024-03-01T00:00:00\",\"2024-04-01T00:00:00\"],\"y\":[76829.65740399598,73259.57275578004,86679.56310682674,91974.35443274686,75134.35530928672,82274.3866650378,71904.59085739343,74668.94308617995,67120.00294583969,62600.21846516762,65911.19449108157,68150.58491429176],\"type\":\"scatter\"},{\"line\":{\"width\":2},\"mode\":\"lines\",\"name\":\"Predicción: Diferencia - 5.0 meses)\",\"visible\":\"legendonly\",\"x\":[\"2023-06-01T00:00:00\",\"2023-07-01T00:00:00\",\"2023-08-01T00:00:00\",\"2023-09-01T00:00:00\",\"2023-10-01T00:00:00\",\"2023-11-01T00:00:00\",\"2023-12-01T00:00:00\",\"2024-01-01T00:00:00\",\"2024-02-01T00:00:00\",\"2024-03-01T00:00:00\",\"2024-04-01T00:00:00\",\"2024-05-01T00:00:00\"],\"y\":[96170.75513204552,88775.8655531337,86081.4223032521,81783.59599451967,74465.31577940917,74313.34757182651,69114.19532755585,68524.74235901143,63212.02288069278,71882.83358038838,64004.66258695882,80121.66531086779],\"type\":\"scatter\"},{\"line\":{\"width\":2},\"mode\":\"lines\",\"name\":\"Predicción: Diferencia - 6.0 meses)\",\"visible\":\"legendonly\",\"x\":[\"2023-07-01T00:00:00\",\"2023-08-01T00:00:00\",\"2023-09-01T00:00:00\",\"2023-10-01T00:00:00\",\"2023-11-01T00:00:00\",\"2023-12-01T00:00:00\",\"2024-01-01T00:00:00\",\"2024-02-01T00:00:00\",\"2024-03-01T00:00:00\",\"2024-04-01T00:00:00\",\"2024-05-01T00:00:00\",\"2024-06-01T00:00:00\"],\"y\":[103514.07654637843,90405.2268308197,67858.26688872931,85268.72476438254,70528.31339495853,71686.49732525836,61993.141406780094,58736.00300790063,71752.26878471597,71150.16789037062,82707.89652424815,84427.40204273042],\"type\":\"scatter\"},{\"line\":{\"width\":2},\"mode\":\"lines\",\"name\":\"Predicción: Diferencia - 7.0 meses)\",\"visible\":\"legendonly\",\"x\":[\"2023-08-01T00:00:00\",\"2023-09-01T00:00:00\",\"2023-10-01T00:00:00\",\"2023-11-01T00:00:00\",\"2023-12-01T00:00:00\",\"2024-01-01T00:00:00\",\"2024-02-01T00:00:00\",\"2024-03-01T00:00:00\",\"2024-04-01T00:00:00\",\"2024-05-01T00:00:00\",\"2024-06-01T00:00:00\",\"2024-07-01T00:00:00\"],\"y\":[100796.70483030748,84174.4935380331,72590.39312601514,80099.82598582395,64012.69601469771,63108.8550091162,51348.637680056156,61522.36493936472,74414.07931780975,88653.43331141747,81061.01541260275,90667.7804557452],\"type\":\"scatter\"},{\"line\":{\"width\":2},\"mode\":\"lines\",\"name\":\"Predicción: Diferencia - 8.0 meses)\",\"visible\":\"legendonly\",\"x\":[\"2023-09-01T00:00:00\",\"2023-10-01T00:00:00\",\"2023-11-01T00:00:00\",\"2023-12-01T00:00:00\",\"2024-01-01T00:00:00\",\"2024-02-01T00:00:00\",\"2024-03-01T00:00:00\",\"2024-04-01T00:00:00\",\"2024-05-01T00:00:00\",\"2024-06-01T00:00:00\",\"2024-07-01T00:00:00\",\"2024-08-01T00:00:00\"],\"y\":[88479.19947094056,93859.25492058849,59821.31794956567,75700.17706026156,56479.72834971917,51845.35176030453,60676.493077062856,69323.01541959963,91326.31228328368,85908.03046927729,88314.5443936006,95526.37958516972],\"type\":\"scatter\"},{\"line\":{\"width\":2},\"mode\":\"lines\",\"name\":\"Predicción: Diferencia - 9.0 meses)\",\"visible\":\"legendonly\",\"x\":[\"2023-10-01T00:00:00\",\"2023-11-01T00:00:00\",\"2023-12-01T00:00:00\",\"2024-01-01T00:00:00\",\"2024-02-01T00:00:00\",\"2024-03-01T00:00:00\",\"2024-04-01T00:00:00\",\"2024-05-01T00:00:00\",\"2024-06-01T00:00:00\",\"2024-07-01T00:00:00\",\"2024-08-01T00:00:00\"],\"y\":[87251.80404690388,81391.36822457227,48208.69305013722,68636.17256227865,45450.26496148298,61556.68174380009,59968.363059234536,84650.35348315546,90924.65082452453,94539.68374933273,88912.68597284293],\"type\":\"scatter\"},{\"line\":{\"width\":2},\"mode\":\"lines\",\"name\":\"Predicción: Diferencia - 10.0 meses)\",\"visible\":\"legendonly\",\"x\":[\"2023-11-01T00:00:00\",\"2023-12-01T00:00:00\",\"2024-01-01T00:00:00\",\"2024-02-01T00:00:00\",\"2024-03-01T00:00:00\",\"2024-04-01T00:00:00\",\"2024-05-01T00:00:00\",\"2024-06-01T00:00:00\",\"2024-07-01T00:00:00\",\"2024-08-01T00:00:00\"],\"y\":[77155.3770869937,74095.6535620294,30559.79296126101,58621.113796318576,52884.219825555905,62742.56256443933,76998.79716386367,86144.48148451862,97798.55038864967,99096.03363782335],\"type\":\"scatter\"},{\"line\":{\"width\":2},\"mode\":\"lines\",\"name\":\"Predicción: Diferencia - 11.0 meses)\",\"visible\":\"legendonly\",\"x\":[\"2023-12-01T00:00:00\",\"2024-01-01T00:00:00\",\"2024-02-01T00:00:00\",\"2024-03-01T00:00:00\",\"2024-04-01T00:00:00\",\"2024-05-01T00:00:00\",\"2024-06-01T00:00:00\",\"2024-07-01T00:00:00\",\"2024-08-01T00:00:00\"],\"y\":[78334.70498792647,67393.99935189556,33445.83582454365,65526.65029916325,58827.739225675046,78186.54341217998,81797.7611776499,91478.99438746893,103421.33195295004],\"type\":\"scatter\"},{\"line\":{\"width\":2},\"mode\":\"lines\",\"name\":\"Predicción: Diferencia - 12.0 meses)\",\"visible\":\"legendonly\",\"x\":[\"2024-01-01T00:00:00\",\"2024-02-01T00:00:00\",\"2024-03-01T00:00:00\",\"2024-04-01T00:00:00\",\"2024-05-01T00:00:00\",\"2024-06-01T00:00:00\",\"2024-07-01T00:00:00\",\"2024-08-01T00:00:00\"],\"y\":[66477.71230606889,57124.44627794414,39060.90766277054,64195.22385890096,76959.96930214728,80194.17396666699,82955.16923874542,100659.90803769964],\"type\":\"scatter\"},{\"line\":{\"width\":2},\"mode\":\"lines\",\"name\":\"Predicción: Diferencia - 13.0 meses)\",\"visible\":\"legendonly\",\"x\":[\"2024-02-01T00:00:00\",\"2024-03-01T00:00:00\",\"2024-04-01T00:00:00\",\"2024-05-01T00:00:00\",\"2024-06-01T00:00:00\",\"2024-07-01T00:00:00\",\"2024-08-01T00:00:00\"],\"y\":[63918.16861257808,60128.0348445923,56939.07362855324,81744.57454595043,78738.43467994133,81623.8259858722,92682.8101439536],\"type\":\"scatter\"},{\"line\":{\"width\":2},\"mode\":\"lines\",\"name\":\"Predicción: Diferencia - 14.0 meses)\",\"visible\":true,\"x\":[\"2024-03-01T00:00:00\",\"2024-04-01T00:00:00\",\"2024-05-01T00:00:00\",\"2024-06-01T00:00:00\",\"2024-07-01T00:00:00\",\"2024-08-01T00:00:00\"],\"y\":[60307.45901253829,63381.525496647846,65937.02136328894,78563.94279216997,78231.58983041163,92584.18914641027],\"type\":\"scatter\"},{\"line\":{\"width\":2},\"mode\":\"lines\",\"name\":\"Predicción: Diferencia - 15.0 meses)\",\"visible\":\"legendonly\",\"x\":[\"2024-04-01T00:00:00\",\"2024-05-01T00:00:00\",\"2024-06-01T00:00:00\",\"2024-07-01T00:00:00\",\"2024-08-01T00:00:00\"],\"y\":[64625.54721506617,71142.03618047928,62352.60524267984,71082.94732312765,86643.76114097741],\"type\":\"scatter\"},{\"line\":{\"width\":2},\"mode\":\"lines\",\"name\":\"Predicción: Diferencia - 16.0 meses)\",\"visible\":true,\"x\":[\"2024-05-01T00:00:00\",\"2024-06-01T00:00:00\",\"2024-07-01T00:00:00\",\"2024-08-01T00:00:00\"],\"y\":[72348.53640590521,86191.86534888194,65651.74816907741,89643.18866467464],\"type\":\"scatter\"},{\"line\":{\"width\":2},\"mode\":\"lines\",\"name\":\"Predicción: Diferencia - 17.0 meses)\",\"visible\":\"legendonly\",\"x\":[\"2024-06-01T00:00:00\",\"2024-07-01T00:00:00\",\"2024-08-01T00:00:00\"],\"y\":[76783.37472161786,86030.15783129084,77116.13662462756],\"type\":\"scatter\"},{\"line\":{\"color\":\"red\",\"width\":3},\"mode\":\"lines\",\"name\":\"Valor Real\",\"visible\":true,\"x\":[\"2023-01-01T00:00:00\",\"2023-02-01T00:00:00\",\"2023-02-01T00:00:00\",\"2023-03-01T00:00:00\",\"2023-03-01T00:00:00\",\"2023-03-01T00:00:00\",\"2023-04-01T00:00:00\",\"2023-04-01T00:00:00\",\"2023-04-01T00:00:00\",\"2023-04-01T00:00:00\",\"2023-05-01T00:00:00\",\"2023-05-01T00:00:00\",\"2023-05-01T00:00:00\",\"2023-05-01T00:00:00\",\"2023-05-01T00:00:00\",\"2023-06-01T00:00:00\",\"2023-06-01T00:00:00\",\"2023-06-01T00:00:00\",\"2023-06-01T00:00:00\",\"2023-06-01T00:00:00\",\"2023-06-01T00:00:00\",\"2023-07-01T00:00:00\",\"2023-07-01T00:00:00\",\"2023-07-01T00:00:00\",\"2023-07-01T00:00:00\",\"2023-07-01T00:00:00\",\"2023-07-01T00:00:00\",\"2023-07-01T00:00:00\",\"2023-08-01T00:00:00\",\"2023-08-01T00:00:00\",\"2023-08-01T00:00:00\",\"2023-08-01T00:00:00\",\"2023-08-01T00:00:00\",\"2023-08-01T00:00:00\",\"2023-08-01T00:00:00\",\"2023-08-01T00:00:00\",\"2023-09-01T00:00:00\",\"2023-09-01T00:00:00\",\"2023-09-01T00:00:00\",\"2023-09-01T00:00:00\",\"2023-09-01T00:00:00\",\"2023-09-01T00:00:00\",\"2023-09-01T00:00:00\",\"2023-09-01T00:00:00\",\"2023-09-01T00:00:00\",\"2023-10-01T00:00:00\",\"2023-10-01T00:00:00\",\"2023-10-01T00:00:00\",\"2023-10-01T00:00:00\",\"2023-10-01T00:00:00\",\"2023-10-01T00:00:00\",\"2023-10-01T00:00:00\",\"2023-10-01T00:00:00\",\"2023-10-01T00:00:00\",\"2023-10-01T00:00:00\",\"2023-11-01T00:00:00\",\"2023-11-01T00:00:00\",\"2023-11-01T00:00:00\",\"2023-11-01T00:00:00\",\"2023-11-01T00:00:00\",\"2023-11-01T00:00:00\",\"2023-11-01T00:00:00\",\"2023-11-01T00:00:00\",\"2023-11-01T00:00:00\",\"2023-11-01T00:00:00\",\"2023-11-01T00:00:00\",\"2023-12-01T00:00:00\",\"2023-12-01T00:00:00\",\"2023-12-01T00:00:00\",\"2023-12-01T00:00:00\",\"2023-12-01T00:00:00\",\"2023-12-01T00:00:00\",\"2023-12-01T00:00:00\",\"2023-12-01T00:00:00\",\"2023-12-01T00:00:00\",\"2023-12-01T00:00:00\",\"2023-12-01T00:00:00\",\"2023-12-01T00:00:00\",\"2024-01-01T00:00:00\",\"2024-01-01T00:00:00\",\"2024-01-01T00:00:00\",\"2024-01-01T00:00:00\",\"2024-01-01T00:00:00\",\"2024-01-01T00:00:00\",\"2024-01-01T00:00:00\",\"2024-01-01T00:00:00\",\"2024-01-01T00:00:00\",\"2024-01-01T00:00:00\",\"2024-01-01T00:00:00\",\"2024-01-01T00:00:00\",\"2024-02-01T00:00:00\",\"2024-02-01T00:00:00\",\"2024-02-01T00:00:00\",\"2024-02-01T00:00:00\",\"2024-02-01T00:00:00\",\"2024-02-01T00:00:00\",\"2024-02-01T00:00:00\",\"2024-02-01T00:00:00\",\"2024-02-01T00:00:00\",\"2024-02-01T00:00:00\",\"2024-02-01T00:00:00\",\"2024-02-01T00:00:00\",\"2024-03-01T00:00:00\",\"2024-03-01T00:00:00\",\"2024-03-01T00:00:00\",\"2024-03-01T00:00:00\",\"2024-03-01T00:00:00\",\"2024-03-01T00:00:00\",\"2024-03-01T00:00:00\",\"2024-03-01T00:00:00\",\"2024-03-01T00:00:00\",\"2024-03-01T00:00:00\",\"2024-03-01T00:00:00\",\"2024-03-01T00:00:00\",\"2024-04-01T00:00:00\",\"2024-04-01T00:00:00\",\"2024-04-01T00:00:00\",\"2024-04-01T00:00:00\",\"2024-04-01T00:00:00\",\"2024-04-01T00:00:00\",\"2024-04-01T00:00:00\",\"2024-04-01T00:00:00\",\"2024-04-01T00:00:00\",\"2024-04-01T00:00:00\",\"2024-04-01T00:00:00\",\"2024-04-01T00:00:00\",\"2024-05-01T00:00:00\",\"2024-05-01T00:00:00\",\"2024-05-01T00:00:00\",\"2024-05-01T00:00:00\",\"2024-05-01T00:00:00\",\"2024-05-01T00:00:00\",\"2024-05-01T00:00:00\",\"2024-05-01T00:00:00\",\"2024-05-01T00:00:00\",\"2024-05-01T00:00:00\",\"2024-05-01T00:00:00\",\"2024-05-01T00:00:00\",\"2024-06-01T00:00:00\",\"2024-06-01T00:00:00\",\"2024-06-01T00:00:00\",\"2024-06-01T00:00:00\",\"2024-06-01T00:00:00\",\"2024-06-01T00:00:00\",\"2024-06-01T00:00:00\",\"2024-06-01T00:00:00\",\"2024-06-01T00:00:00\",\"2024-06-01T00:00:00\",\"2024-06-01T00:00:00\",\"2024-06-01T00:00:00\",\"2024-07-01T00:00:00\",\"2024-07-01T00:00:00\",\"2024-07-01T00:00:00\",\"2024-07-01T00:00:00\",\"2024-07-01T00:00:00\",\"2024-07-01T00:00:00\",\"2024-07-01T00:00:00\",\"2024-07-01T00:00:00\",\"2024-07-01T00:00:00\",\"2024-07-01T00:00:00\",\"2024-07-01T00:00:00\",\"2024-08-01T00:00:00\",\"2024-08-01T00:00:00\",\"2024-08-01T00:00:00\",\"2024-08-01T00:00:00\",\"2024-08-01T00:00:00\",\"2024-08-01T00:00:00\",\"2024-08-01T00:00:00\",\"2024-08-01T00:00:00\",\"2024-08-01T00:00:00\",\"2024-08-01T00:00:00\"],\"y\":[54525.1755862856,50344.87118975999,50344.87118975999,64655.47145032158,64655.47145032158,64655.47145032158,54815.01624992075,54815.01624992075,54815.01624992075,54815.01624992075,64424.03987398998,64424.03987398998,64424.03987398998,64424.03987398998,64424.03987398998,76407.2321369573,76407.2321369573,76407.2321369573,76407.2321369573,76407.2321369573,76407.2321369573,92339.32988163334,92339.32988163334,92339.32988163334,92339.32988163334,92339.32988163334,92339.32988163334,92339.32988163334,105712.72961973328,105712.72961973328,105712.72961973328,105712.72961973328,105712.72961973328,105712.72961973328,105712.72961973328,105712.72961973328,75888.8082792544,75888.8082792544,75888.8082792544,75888.8082792544,75888.8082792544,75888.8082792544,75888.8082792544,75888.8082792544,75888.8082792544,83196.89587639924,83196.89587639924,83196.89587639924,83196.89587639924,83196.89587639924,83196.89587639924,83196.89587639924,83196.89587639924,83196.89587639924,83196.89587639924,74531.12053248259,74531.12053248259,74531.12053248259,74531.12053248259,74531.12053248259,74531.12053248259,74531.12053248259,74531.12053248259,74531.12053248259,74531.12053248259,74531.12053248259,63811.6805944221,63811.6805944221,63811.6805944221,63811.6805944221,63811.6805944221,63811.6805944221,63811.6805944221,63811.6805944221,63811.6805944221,63811.6805944221,63811.6805944221,63811.6805944221,60318.99423122441,60318.99423122441,60318.99423122441,60318.99423122441,60318.99423122441,60318.99423122441,60318.99423122441,60318.99423122441,60318.99423122441,60318.99423122441,60318.99423122441,60318.99423122441,59482.85058485907,59482.85058485907,59482.85058485907,59482.85058485907,59482.85058485907,59482.85058485907,59482.85058485907,59482.85058485907,59482.85058485907,59482.85058485907,59482.85058485907,59482.85058485907,62914.44527414004,62914.44527414004,62914.44527414004,62914.44527414004,62914.44527414004,62914.44527414004,62914.44527414004,62914.44527414004,62914.44527414004,62914.44527414004,62914.44527414004,62914.44527414004,70054.79630581953,70054.79630581953,70054.79630581953,70054.79630581953,70054.79630581953,70054.79630581953,70054.79630581953,70054.79630581953,70054.79630581953,70054.79630581953,70054.79630581953,70054.79630581953,64397.071565943,64397.071565943,64397.071565943,64397.071565943,64397.071565943,64397.071565943,64397.071565943,64397.071565943,64397.071565943,64397.071565943,64397.071565943,64397.071565943,75371.66526949,75371.66526949,75371.66526949,75371.66526949,75371.66526949,75371.66526949,75371.66526949,75371.66526949,75371.66526949,75371.66526949,75371.66526949,75371.66526949,94034.761505568,94034.761505568,94034.761505568,94034.761505568,94034.761505568,94034.761505568,94034.761505568,94034.761505568,94034.761505568,94034.761505568,94034.761505568,101061.307263671,101061.307263671,101061.307263671,101061.307263671,101061.307263671,101061.307263671,101061.307263671,101061.307263671,101061.307263671,101061.307263671],\"type\":\"scatter\"}],                        {\"template\":{\"data\":{\"histogram2dcontour\":[{\"type\":\"histogram2dcontour\",\"colorbar\":{\"outlinewidth\":0,\"ticks\":\"\"},\"colorscale\":[[0.0,\"#0d0887\"],[0.1111111111111111,\"#46039f\"],[0.2222222222222222,\"#7201a8\"],[0.3333333333333333,\"#9c179e\"],[0.4444444444444444,\"#bd3786\"],[0.5555555555555556,\"#d8576b\"],[0.6666666666666666,\"#ed7953\"],[0.7777777777777778,\"#fb9f3a\"],[0.8888888888888888,\"#fdca26\"],[1.0,\"#f0f921\"]]}],\"choropleth\":[{\"type\":\"choropleth\",\"colorbar\":{\"outlinewidth\":0,\"ticks\":\"\"}}],\"histogram2d\":[{\"type\":\"histogram2d\",\"colorbar\":{\"outlinewidth\":0,\"ticks\":\"\"},\"colorscale\":[[0.0,\"#0d0887\"],[0.1111111111111111,\"#46039f\"],[0.2222222222222222,\"#7201a8\"],[0.3333333333333333,\"#9c179e\"],[0.4444444444444444,\"#bd3786\"],[0.5555555555555556,\"#d8576b\"],[0.6666666666666666,\"#ed7953\"],[0.7777777777777778,\"#fb9f3a\"],[0.8888888888888888,\"#fdca26\"],[1.0,\"#f0f921\"]]}],\"heatmap\":[{\"type\":\"heatmap\",\"colorbar\":{\"outlinewidth\":0,\"ticks\":\"\"},\"colorscale\":[[0.0,\"#0d0887\"],[0.1111111111111111,\"#46039f\"],[0.2222222222222222,\"#7201a8\"],[0.3333333333333333,\"#9c179e\"],[0.4444444444444444,\"#bd3786\"],[0.5555555555555556,\"#d8576b\"],[0.6666666666666666,\"#ed7953\"],[0.7777777777777778,\"#fb9f3a\"],[0.8888888888888888,\"#fdca26\"],[1.0,\"#f0f921\"]]}],\"heatmapgl\":[{\"type\":\"heatmapgl\",\"colorbar\":{\"outlinewidth\":0,\"ticks\":\"\"},\"colorscale\":[[0.0,\"#0d0887\"],[0.1111111111111111,\"#46039f\"],[0.2222222222222222,\"#7201a8\"],[0.3333333333333333,\"#9c179e\"],[0.4444444444444444,\"#bd3786\"],[0.5555555555555556,\"#d8576b\"],[0.6666666666666666,\"#ed7953\"],[0.7777777777777778,\"#fb9f3a\"],[0.8888888888888888,\"#fdca26\"],[1.0,\"#f0f921\"]]}],\"contourcarpet\":[{\"type\":\"contourcarpet\",\"colorbar\":{\"outlinewidth\":0,\"ticks\":\"\"}}],\"contour\":[{\"type\":\"contour\",\"colorbar\":{\"outlinewidth\":0,\"ticks\":\"\"},\"colorscale\":[[0.0,\"#0d0887\"],[0.1111111111111111,\"#46039f\"],[0.2222222222222222,\"#7201a8\"],[0.3333333333333333,\"#9c179e\"],[0.4444444444444444,\"#bd3786\"],[0.5555555555555556,\"#d8576b\"],[0.6666666666666666,\"#ed7953\"],[0.7777777777777778,\"#fb9f3a\"],[0.8888888888888888,\"#fdca26\"],[1.0,\"#f0f921\"]]}],\"surface\":[{\"type\":\"surface\",\"colorbar\":{\"outlinewidth\":0,\"ticks\":\"\"},\"colorscale\":[[0.0,\"#0d0887\"],[0.1111111111111111,\"#46039f\"],[0.2222222222222222,\"#7201a8\"],[0.3333333333333333,\"#9c179e\"],[0.4444444444444444,\"#bd3786\"],[0.5555555555555556,\"#d8576b\"],[0.6666666666666666,\"#ed7953\"],[0.7777777777777778,\"#fb9f3a\"],[0.8888888888888888,\"#fdca26\"],[1.0,\"#f0f921\"]]}],\"mesh3d\":[{\"type\":\"mesh3d\",\"colorbar\":{\"outlinewidth\":0,\"ticks\":\"\"}}],\"scatter\":[{\"fillpattern\":{\"fillmode\":\"overlay\",\"size\":10,\"solidity\":0.2},\"type\":\"scatter\"}],\"parcoords\":[{\"type\":\"parcoords\",\"line\":{\"colorbar\":{\"outlinewidth\":0,\"ticks\":\"\"}}}],\"scatterpolargl\":[{\"type\":\"scatterpolargl\",\"marker\":{\"colorbar\":{\"outlinewidth\":0,\"ticks\":\"\"}}}],\"bar\":[{\"error_x\":{\"color\":\"#2a3f5f\"},\"error_y\":{\"color\":\"#2a3f5f\"},\"marker\":{\"line\":{\"color\":\"#E5ECF6\",\"width\":0.5},\"pattern\":{\"fillmode\":\"overlay\",\"size\":10,\"solidity\":0.2}},\"type\":\"bar\"}],\"scattergeo\":[{\"type\":\"scattergeo\",\"marker\":{\"colorbar\":{\"outlinewidth\":0,\"ticks\":\"\"}}}],\"scatterpolar\":[{\"type\":\"scatterpolar\",\"marker\":{\"colorbar\":{\"outlinewidth\":0,\"ticks\":\"\"}}}],\"histogram\":[{\"marker\":{\"pattern\":{\"fillmode\":\"overlay\",\"size\":10,\"solidity\":0.2}},\"type\":\"histogram\"}],\"scattergl\":[{\"type\":\"scattergl\",\"marker\":{\"colorbar\":{\"outlinewidth\":0,\"ticks\":\"\"}}}],\"scatter3d\":[{\"type\":\"scatter3d\",\"line\":{\"colorbar\":{\"outlinewidth\":0,\"ticks\":\"\"}},\"marker\":{\"colorbar\":{\"outlinewidth\":0,\"ticks\":\"\"}}}],\"scattermapbox\":[{\"type\":\"scattermapbox\",\"marker\":{\"colorbar\":{\"outlinewidth\":0,\"ticks\":\"\"}}}],\"scatterternary\":[{\"type\":\"scatterternary\",\"marker\":{\"colorbar\":{\"outlinewidth\":0,\"ticks\":\"\"}}}],\"scattercarpet\":[{\"type\":\"scattercarpet\",\"marker\":{\"colorbar\":{\"outlinewidth\":0,\"ticks\":\"\"}}}],\"carpet\":[{\"aaxis\":{\"endlinecolor\":\"#2a3f5f\",\"gridcolor\":\"white\",\"linecolor\":\"white\",\"minorgridcolor\":\"white\",\"startlinecolor\":\"#2a3f5f\"},\"baxis\":{\"endlinecolor\":\"#2a3f5f\",\"gridcolor\":\"white\",\"linecolor\":\"white\",\"minorgridcolor\":\"white\",\"startlinecolor\":\"#2a3f5f\"},\"type\":\"carpet\"}],\"table\":[{\"cells\":{\"fill\":{\"color\":\"#EBF0F8\"},\"line\":{\"color\":\"white\"}},\"header\":{\"fill\":{\"color\":\"#C8D4E3\"},\"line\":{\"color\":\"white\"}},\"type\":\"table\"}],\"barpolar\":[{\"marker\":{\"line\":{\"color\":\"#E5ECF6\",\"width\":0.5},\"pattern\":{\"fillmode\":\"overlay\",\"size\":10,\"solidity\":0.2}},\"type\":\"barpolar\"}],\"pie\":[{\"automargin\":true,\"type\":\"pie\"}]},\"layout\":{\"autotypenumbers\":\"strict\",\"colorway\":[\"#636efa\",\"#EF553B\",\"#00cc96\",\"#ab63fa\",\"#FFA15A\",\"#19d3f3\",\"#FF6692\",\"#B6E880\",\"#FF97FF\",\"#FECB52\"],\"font\":{\"color\":\"#2a3f5f\"},\"hovermode\":\"closest\",\"hoverlabel\":{\"align\":\"left\"},\"paper_bgcolor\":\"white\",\"plot_bgcolor\":\"#E5ECF6\",\"polar\":{\"bgcolor\":\"#E5ECF6\",\"angularaxis\":{\"gridcolor\":\"white\",\"linecolor\":\"white\",\"ticks\":\"\"},\"radialaxis\":{\"gridcolor\":\"white\",\"linecolor\":\"white\",\"ticks\":\"\"}},\"ternary\":{\"bgcolor\":\"#E5ECF6\",\"aaxis\":{\"gridcolor\":\"white\",\"linecolor\":\"white\",\"ticks\":\"\"},\"baxis\":{\"gridcolor\":\"white\",\"linecolor\":\"white\",\"ticks\":\"\"},\"caxis\":{\"gridcolor\":\"white\",\"linecolor\":\"white\",\"ticks\":\"\"}},\"coloraxis\":{\"colorbar\":{\"outlinewidth\":0,\"ticks\":\"\"}},\"colorscale\":{\"sequential\":[[0.0,\"#0d0887\"],[0.1111111111111111,\"#46039f\"],[0.2222222222222222,\"#7201a8\"],[0.3333333333333333,\"#9c179e\"],[0.4444444444444444,\"#bd3786\"],[0.5555555555555556,\"#d8576b\"],[0.6666666666666666,\"#ed7953\"],[0.7777777777777778,\"#fb9f3a\"],[0.8888888888888888,\"#fdca26\"],[1.0,\"#f0f921\"]],\"sequentialminus\":[[0.0,\"#0d0887\"],[0.1111111111111111,\"#46039f\"],[0.2222222222222222,\"#7201a8\"],[0.3333333333333333,\"#9c179e\"],[0.4444444444444444,\"#bd3786\"],[0.5555555555555556,\"#d8576b\"],[0.6666666666666666,\"#ed7953\"],[0.7777777777777778,\"#fb9f3a\"],[0.8888888888888888,\"#fdca26\"],[1.0,\"#f0f921\"]],\"diverging\":[[0,\"#8e0152\"],[0.1,\"#c51b7d\"],[0.2,\"#de77ae\"],[0.3,\"#f1b6da\"],[0.4,\"#fde0ef\"],[0.5,\"#f7f7f7\"],[0.6,\"#e6f5d0\"],[0.7,\"#b8e186\"],[0.8,\"#7fbc41\"],[0.9,\"#4d9221\"],[1,\"#276419\"]]},\"xaxis\":{\"gridcolor\":\"white\",\"linecolor\":\"white\",\"ticks\":\"\",\"title\":{\"standoff\":15},\"zerolinecolor\":\"white\",\"automargin\":true,\"zerolinewidth\":2},\"yaxis\":{\"gridcolor\":\"white\",\"linecolor\":\"white\",\"ticks\":\"\",\"title\":{\"standoff\":15},\"zerolinecolor\":\"white\",\"automargin\":true,\"zerolinewidth\":2},\"scene\":{\"xaxis\":{\"backgroundcolor\":\"#E5ECF6\",\"gridcolor\":\"white\",\"linecolor\":\"white\",\"showbackground\":true,\"ticks\":\"\",\"zerolinecolor\":\"white\",\"gridwidth\":2},\"yaxis\":{\"backgroundcolor\":\"#E5ECF6\",\"gridcolor\":\"white\",\"linecolor\":\"white\",\"showbackground\":true,\"ticks\":\"\",\"zerolinecolor\":\"white\",\"gridwidth\":2},\"zaxis\":{\"backgroundcolor\":\"#E5ECF6\",\"gridcolor\":\"white\",\"linecolor\":\"white\",\"showbackground\":true,\"ticks\":\"\",\"zerolinecolor\":\"white\",\"gridwidth\":2}},\"shapedefaults\":{\"line\":{\"color\":\"#2a3f5f\"}},\"annotationdefaults\":{\"arrowcolor\":\"#2a3f5f\",\"arrowhead\":0,\"arrowwidth\":1},\"geo\":{\"bgcolor\":\"white\",\"landcolor\":\"#E5ECF6\",\"subunitcolor\":\"white\",\"showland\":true,\"showlakes\":true,\"lakecolor\":\"white\"},\"title\":{\"x\":0.05},\"mapbox\":{\"style\":\"light\"}}},\"title\":{\"text\":\"Serie temporal 7up Free (L3): Valor Real -vs- Predicciones\\u003cbr\\u003e\\u003csup\\u003eSelecciona las líneas en la leyenda para mostrar u ocultar predicciones según Diferencia_Fechas\\u003c\\u002fsup\\u003e\"},\"xaxis\":{\"title\":{\"text\":\"Fecha\"}},\"yaxis\":{\"title\":{\"text\":\"Ventas\"}}},                        {\"responsive\": true}                    ).then(function(){\n",
              "                            \n",
              "var gd = document.getElementById('b54d694a-e470-4f83-88b2-bec682a1f6c4');\n",
              "var x = new MutationObserver(function (mutations, observer) {{\n",
              "        var display = window.getComputedStyle(gd).display;\n",
              "        if (!display || display === 'none') {{\n",
              "            console.log([gd, 'removed!']);\n",
              "            Plotly.purge(gd);\n",
              "            observer.disconnect();\n",
              "        }}\n",
              "}});\n",
              "\n",
              "// Listen for the removal of the full notebook cells\n",
              "var notebookContainer = gd.closest('#notebook-container');\n",
              "if (notebookContainer) {{\n",
              "    x.observe(notebookContainer, {childList: true});\n",
              "}}\n",
              "\n",
              "// Listen for the clearing of the current output cell\n",
              "var outputEl = gd.closest('.output');\n",
              "if (outputEl) {{\n",
              "    x.observe(outputEl, {childList: true});\n",
              "}}\n",
              "\n",
              "                        })                };                            </script>        </div>\n",
              "</body>\n",
              "</html>"
            ]
          },
          "metadata": {}
        }
      ]
    },
    {
      "cell_type": "markdown",
      "source": [
        "**7up Free**\n",
        "\n",
        "Para 7up Free, los horizontes más precisos son de 2 y 4 meses, seguidos de 7 y 14 meses. Los peores resultados se observan en los horizontes más largos, probablemente debido a una mayor variabilidad en los datos. Al igual que en Lipton, existe una marcada estacionalidad; sin embargo, en este caso, las predicciones son generalmente precisas e forma similar simpre."
      ],
      "metadata": {
        "id": "CjT9g-ZAM2mZ"
      }
    },
    {
      "cell_type": "code",
      "source": [
        "graficar_desviacion_normalizada_producto(merged_df, producto='Pepsi Max (L3)')"
      ],
      "metadata": {
        "colab": {
          "base_uri": "https://localhost:8080/",
          "height": 542
        },
        "id": "B-W34uads_Ky",
        "outputId": "9413b136-d8f8-489a-8fee-cdd79a3f2d85"
      },
      "execution_count": 531,
      "outputs": [
        {
          "output_type": "display_data",
          "data": {
            "text/html": [
              "<html>\n",
              "<head><meta charset=\"utf-8\" /></head>\n",
              "<body>\n",
              "    <div>            <script src=\"https://cdnjs.cloudflare.com/ajax/libs/mathjax/2.7.5/MathJax.js?config=TeX-AMS-MML_SVG\"></script><script type=\"text/javascript\">if (window.MathJax && window.MathJax.Hub && window.MathJax.Hub.Config) {window.MathJax.Hub.Config({SVG: {font: \"STIX-Web\"}});}</script>                <script type=\"text/javascript\">window.PlotlyConfig = {MathJaxConfig: 'local'};</script>\n",
              "        <script charset=\"utf-8\" src=\"https://cdn.plot.ly/plotly-2.35.2.min.js\"></script>                <div id=\"da342ba7-6df6-4fe9-99fc-c355f4242866\" class=\"plotly-graph-div\" style=\"height:525px; width:100%;\"></div>            <script type=\"text/javascript\">                                    window.PLOTLYENV=window.PLOTLYENV || {};                                    if (document.getElementById(\"da342ba7-6df6-4fe9-99fc-c355f4242866\")) {                    Plotly.newPlot(                        \"da342ba7-6df6-4fe9-99fc-c355f4242866\",                        [{\"alignmentgroup\":\"True\",\"hovertemplate\":\"Horizonte de Predicción (Meses)=%{x}\\u003cbr\\u003eMedia de Error Absoluto=%{y}\\u003cextra\\u003e\\u003c\\u002fextra\\u003e\",\"legendgroup\":\"\",\"marker\":{\"color\":\"#636efa\",\"pattern\":{\"shape\":\"\"}},\"name\":\"\",\"offsetgroup\":\"\",\"orientation\":\"v\",\"showlegend\":false,\"textposition\":\"auto\",\"x\":[0.0,1.0,2.0,3.0,4.0,5.0,6.0,7.0,8.0,9.0,10.0,11.0,12.0,13.0,14.0,15.0,16.0,17.0],\"xaxis\":\"x\",\"y\":[10153.888512796177,10001.316810207752,11628.021731322595,13697.00707319346,14383.458914359275,15682.6394381532,15745.115575632439,16582.206302592513,14507.020355535575,14427.00716224545,12508.019398866676,12103.597327514817,12045.777958552118,12039.866935850117,10821.203670361463,16502.74598973028,18308.232409207787,26438.33797690812],\"yaxis\":\"y\",\"type\":\"bar\"}],                        {\"template\":{\"data\":{\"histogram2dcontour\":[{\"type\":\"histogram2dcontour\",\"colorbar\":{\"outlinewidth\":0,\"ticks\":\"\"},\"colorscale\":[[0.0,\"#0d0887\"],[0.1111111111111111,\"#46039f\"],[0.2222222222222222,\"#7201a8\"],[0.3333333333333333,\"#9c179e\"],[0.4444444444444444,\"#bd3786\"],[0.5555555555555556,\"#d8576b\"],[0.6666666666666666,\"#ed7953\"],[0.7777777777777778,\"#fb9f3a\"],[0.8888888888888888,\"#fdca26\"],[1.0,\"#f0f921\"]]}],\"choropleth\":[{\"type\":\"choropleth\",\"colorbar\":{\"outlinewidth\":0,\"ticks\":\"\"}}],\"histogram2d\":[{\"type\":\"histogram2d\",\"colorbar\":{\"outlinewidth\":0,\"ticks\":\"\"},\"colorscale\":[[0.0,\"#0d0887\"],[0.1111111111111111,\"#46039f\"],[0.2222222222222222,\"#7201a8\"],[0.3333333333333333,\"#9c179e\"],[0.4444444444444444,\"#bd3786\"],[0.5555555555555556,\"#d8576b\"],[0.6666666666666666,\"#ed7953\"],[0.7777777777777778,\"#fb9f3a\"],[0.8888888888888888,\"#fdca26\"],[1.0,\"#f0f921\"]]}],\"heatmap\":[{\"type\":\"heatmap\",\"colorbar\":{\"outlinewidth\":0,\"ticks\":\"\"},\"colorscale\":[[0.0,\"#0d0887\"],[0.1111111111111111,\"#46039f\"],[0.2222222222222222,\"#7201a8\"],[0.3333333333333333,\"#9c179e\"],[0.4444444444444444,\"#bd3786\"],[0.5555555555555556,\"#d8576b\"],[0.6666666666666666,\"#ed7953\"],[0.7777777777777778,\"#fb9f3a\"],[0.8888888888888888,\"#fdca26\"],[1.0,\"#f0f921\"]]}],\"heatmapgl\":[{\"type\":\"heatmapgl\",\"colorbar\":{\"outlinewidth\":0,\"ticks\":\"\"},\"colorscale\":[[0.0,\"#0d0887\"],[0.1111111111111111,\"#46039f\"],[0.2222222222222222,\"#7201a8\"],[0.3333333333333333,\"#9c179e\"],[0.4444444444444444,\"#bd3786\"],[0.5555555555555556,\"#d8576b\"],[0.6666666666666666,\"#ed7953\"],[0.7777777777777778,\"#fb9f3a\"],[0.8888888888888888,\"#fdca26\"],[1.0,\"#f0f921\"]]}],\"contourcarpet\":[{\"type\":\"contourcarpet\",\"colorbar\":{\"outlinewidth\":0,\"ticks\":\"\"}}],\"contour\":[{\"type\":\"contour\",\"colorbar\":{\"outlinewidth\":0,\"ticks\":\"\"},\"colorscale\":[[0.0,\"#0d0887\"],[0.1111111111111111,\"#46039f\"],[0.2222222222222222,\"#7201a8\"],[0.3333333333333333,\"#9c179e\"],[0.4444444444444444,\"#bd3786\"],[0.5555555555555556,\"#d8576b\"],[0.6666666666666666,\"#ed7953\"],[0.7777777777777778,\"#fb9f3a\"],[0.8888888888888888,\"#fdca26\"],[1.0,\"#f0f921\"]]}],\"surface\":[{\"type\":\"surface\",\"colorbar\":{\"outlinewidth\":0,\"ticks\":\"\"},\"colorscale\":[[0.0,\"#0d0887\"],[0.1111111111111111,\"#46039f\"],[0.2222222222222222,\"#7201a8\"],[0.3333333333333333,\"#9c179e\"],[0.4444444444444444,\"#bd3786\"],[0.5555555555555556,\"#d8576b\"],[0.6666666666666666,\"#ed7953\"],[0.7777777777777778,\"#fb9f3a\"],[0.8888888888888888,\"#fdca26\"],[1.0,\"#f0f921\"]]}],\"mesh3d\":[{\"type\":\"mesh3d\",\"colorbar\":{\"outlinewidth\":0,\"ticks\":\"\"}}],\"scatter\":[{\"fillpattern\":{\"fillmode\":\"overlay\",\"size\":10,\"solidity\":0.2},\"type\":\"scatter\"}],\"parcoords\":[{\"type\":\"parcoords\",\"line\":{\"colorbar\":{\"outlinewidth\":0,\"ticks\":\"\"}}}],\"scatterpolargl\":[{\"type\":\"scatterpolargl\",\"marker\":{\"colorbar\":{\"outlinewidth\":0,\"ticks\":\"\"}}}],\"bar\":[{\"error_x\":{\"color\":\"#2a3f5f\"},\"error_y\":{\"color\":\"#2a3f5f\"},\"marker\":{\"line\":{\"color\":\"#E5ECF6\",\"width\":0.5},\"pattern\":{\"fillmode\":\"overlay\",\"size\":10,\"solidity\":0.2}},\"type\":\"bar\"}],\"scattergeo\":[{\"type\":\"scattergeo\",\"marker\":{\"colorbar\":{\"outlinewidth\":0,\"ticks\":\"\"}}}],\"scatterpolar\":[{\"type\":\"scatterpolar\",\"marker\":{\"colorbar\":{\"outlinewidth\":0,\"ticks\":\"\"}}}],\"histogram\":[{\"marker\":{\"pattern\":{\"fillmode\":\"overlay\",\"size\":10,\"solidity\":0.2}},\"type\":\"histogram\"}],\"scattergl\":[{\"type\":\"scattergl\",\"marker\":{\"colorbar\":{\"outlinewidth\":0,\"ticks\":\"\"}}}],\"scatter3d\":[{\"type\":\"scatter3d\",\"line\":{\"colorbar\":{\"outlinewidth\":0,\"ticks\":\"\"}},\"marker\":{\"colorbar\":{\"outlinewidth\":0,\"ticks\":\"\"}}}],\"scattermapbox\":[{\"type\":\"scattermapbox\",\"marker\":{\"colorbar\":{\"outlinewidth\":0,\"ticks\":\"\"}}}],\"scatterternary\":[{\"type\":\"scatterternary\",\"marker\":{\"colorbar\":{\"outlinewidth\":0,\"ticks\":\"\"}}}],\"scattercarpet\":[{\"type\":\"scattercarpet\",\"marker\":{\"colorbar\":{\"outlinewidth\":0,\"ticks\":\"\"}}}],\"carpet\":[{\"aaxis\":{\"endlinecolor\":\"#2a3f5f\",\"gridcolor\":\"white\",\"linecolor\":\"white\",\"minorgridcolor\":\"white\",\"startlinecolor\":\"#2a3f5f\"},\"baxis\":{\"endlinecolor\":\"#2a3f5f\",\"gridcolor\":\"white\",\"linecolor\":\"white\",\"minorgridcolor\":\"white\",\"startlinecolor\":\"#2a3f5f\"},\"type\":\"carpet\"}],\"table\":[{\"cells\":{\"fill\":{\"color\":\"#EBF0F8\"},\"line\":{\"color\":\"white\"}},\"header\":{\"fill\":{\"color\":\"#C8D4E3\"},\"line\":{\"color\":\"white\"}},\"type\":\"table\"}],\"barpolar\":[{\"marker\":{\"line\":{\"color\":\"#E5ECF6\",\"width\":0.5},\"pattern\":{\"fillmode\":\"overlay\",\"size\":10,\"solidity\":0.2}},\"type\":\"barpolar\"}],\"pie\":[{\"automargin\":true,\"type\":\"pie\"}]},\"layout\":{\"autotypenumbers\":\"strict\",\"colorway\":[\"#636efa\",\"#EF553B\",\"#00cc96\",\"#ab63fa\",\"#FFA15A\",\"#19d3f3\",\"#FF6692\",\"#B6E880\",\"#FF97FF\",\"#FECB52\"],\"font\":{\"color\":\"#2a3f5f\"},\"hovermode\":\"closest\",\"hoverlabel\":{\"align\":\"left\"},\"paper_bgcolor\":\"white\",\"plot_bgcolor\":\"#E5ECF6\",\"polar\":{\"bgcolor\":\"#E5ECF6\",\"angularaxis\":{\"gridcolor\":\"white\",\"linecolor\":\"white\",\"ticks\":\"\"},\"radialaxis\":{\"gridcolor\":\"white\",\"linecolor\":\"white\",\"ticks\":\"\"}},\"ternary\":{\"bgcolor\":\"#E5ECF6\",\"aaxis\":{\"gridcolor\":\"white\",\"linecolor\":\"white\",\"ticks\":\"\"},\"baxis\":{\"gridcolor\":\"white\",\"linecolor\":\"white\",\"ticks\":\"\"},\"caxis\":{\"gridcolor\":\"white\",\"linecolor\":\"white\",\"ticks\":\"\"}},\"coloraxis\":{\"colorbar\":{\"outlinewidth\":0,\"ticks\":\"\"}},\"colorscale\":{\"sequential\":[[0.0,\"#0d0887\"],[0.1111111111111111,\"#46039f\"],[0.2222222222222222,\"#7201a8\"],[0.3333333333333333,\"#9c179e\"],[0.4444444444444444,\"#bd3786\"],[0.5555555555555556,\"#d8576b\"],[0.6666666666666666,\"#ed7953\"],[0.7777777777777778,\"#fb9f3a\"],[0.8888888888888888,\"#fdca26\"],[1.0,\"#f0f921\"]],\"sequentialminus\":[[0.0,\"#0d0887\"],[0.1111111111111111,\"#46039f\"],[0.2222222222222222,\"#7201a8\"],[0.3333333333333333,\"#9c179e\"],[0.4444444444444444,\"#bd3786\"],[0.5555555555555556,\"#d8576b\"],[0.6666666666666666,\"#ed7953\"],[0.7777777777777778,\"#fb9f3a\"],[0.8888888888888888,\"#fdca26\"],[1.0,\"#f0f921\"]],\"diverging\":[[0,\"#8e0152\"],[0.1,\"#c51b7d\"],[0.2,\"#de77ae\"],[0.3,\"#f1b6da\"],[0.4,\"#fde0ef\"],[0.5,\"#f7f7f7\"],[0.6,\"#e6f5d0\"],[0.7,\"#b8e186\"],[0.8,\"#7fbc41\"],[0.9,\"#4d9221\"],[1,\"#276419\"]]},\"xaxis\":{\"gridcolor\":\"white\",\"linecolor\":\"white\",\"ticks\":\"\",\"title\":{\"standoff\":15},\"zerolinecolor\":\"white\",\"automargin\":true,\"zerolinewidth\":2},\"yaxis\":{\"gridcolor\":\"white\",\"linecolor\":\"white\",\"ticks\":\"\",\"title\":{\"standoff\":15},\"zerolinecolor\":\"white\",\"automargin\":true,\"zerolinewidth\":2},\"scene\":{\"xaxis\":{\"backgroundcolor\":\"#E5ECF6\",\"gridcolor\":\"white\",\"linecolor\":\"white\",\"showbackground\":true,\"ticks\":\"\",\"zerolinecolor\":\"white\",\"gridwidth\":2},\"yaxis\":{\"backgroundcolor\":\"#E5ECF6\",\"gridcolor\":\"white\",\"linecolor\":\"white\",\"showbackground\":true,\"ticks\":\"\",\"zerolinecolor\":\"white\",\"gridwidth\":2},\"zaxis\":{\"backgroundcolor\":\"#E5ECF6\",\"gridcolor\":\"white\",\"linecolor\":\"white\",\"showbackground\":true,\"ticks\":\"\",\"zerolinecolor\":\"white\",\"gridwidth\":2}},\"shapedefaults\":{\"line\":{\"color\":\"#2a3f5f\"}},\"annotationdefaults\":{\"arrowcolor\":\"#2a3f5f\",\"arrowhead\":0,\"arrowwidth\":1},\"geo\":{\"bgcolor\":\"white\",\"landcolor\":\"#E5ECF6\",\"subunitcolor\":\"white\",\"showland\":true,\"showlakes\":true,\"lakecolor\":\"white\"},\"title\":{\"x\":0.05},\"mapbox\":{\"style\":\"light\"}}},\"xaxis\":{\"anchor\":\"y\",\"domain\":[0.0,1.0],\"title\":{\"text\":\"Horizonte de Predicción (Meses)\"}},\"yaxis\":{\"anchor\":\"x\",\"domain\":[0.0,1.0],\"title\":{\"text\":\"Media de Error Absoluto\"}},\"legend\":{\"tracegroupgap\":0},\"title\":{\"text\":\"Media de Error Absoluto para Pepsi Max (L3) por Horizonte de Predicción\"},\"barmode\":\"relative\"},                        {\"responsive\": true}                    ).then(function(){\n",
              "                            \n",
              "var gd = document.getElementById('da342ba7-6df6-4fe9-99fc-c355f4242866');\n",
              "var x = new MutationObserver(function (mutations, observer) {{\n",
              "        var display = window.getComputedStyle(gd).display;\n",
              "        if (!display || display === 'none') {{\n",
              "            console.log([gd, 'removed!']);\n",
              "            Plotly.purge(gd);\n",
              "            observer.disconnect();\n",
              "        }}\n",
              "}});\n",
              "\n",
              "// Listen for the removal of the full notebook cells\n",
              "var notebookContainer = gd.closest('#notebook-container');\n",
              "if (notebookContainer) {{\n",
              "    x.observe(notebookContainer, {childList: true});\n",
              "}}\n",
              "\n",
              "// Listen for the clearing of the current output cell\n",
              "var outputEl = gd.closest('.output');\n",
              "if (outputEl) {{\n",
              "    x.observe(outputEl, {childList: true});\n",
              "}}\n",
              "\n",
              "                        })                };                            </script>        </div>\n",
              "</body>\n",
              "</html>"
            ]
          },
          "metadata": {}
        }
      ]
    },
    {
      "cell_type": "code",
      "source": [
        "graficar_serie_temporal(merged_df, 'Pepsi Max (L3)', [0, 1, 12, 14])"
      ],
      "metadata": {
        "colab": {
          "base_uri": "https://localhost:8080/",
          "height": 542
        },
        "id": "bRU-YsG5Kcwu",
        "outputId": "6c52a5b8-58be-4604-8e33-a4bef3576635"
      },
      "execution_count": 532,
      "outputs": [
        {
          "output_type": "display_data",
          "data": {
            "text/html": [
              "<html>\n",
              "<head><meta charset=\"utf-8\" /></head>\n",
              "<body>\n",
              "    <div>            <script src=\"https://cdnjs.cloudflare.com/ajax/libs/mathjax/2.7.5/MathJax.js?config=TeX-AMS-MML_SVG\"></script><script type=\"text/javascript\">if (window.MathJax && window.MathJax.Hub && window.MathJax.Hub.Config) {window.MathJax.Hub.Config({SVG: {font: \"STIX-Web\"}});}</script>                <script type=\"text/javascript\">window.PlotlyConfig = {MathJaxConfig: 'local'};</script>\n",
              "        <script charset=\"utf-8\" src=\"https://cdn.plot.ly/plotly-2.35.2.min.js\"></script>                <div id=\"8bdccf1c-1425-468c-bbb9-d2e691aff00d\" class=\"plotly-graph-div\" style=\"height:525px; width:100%;\"></div>            <script type=\"text/javascript\">                                    window.PLOTLYENV=window.PLOTLYENV || {};                                    if (document.getElementById(\"8bdccf1c-1425-468c-bbb9-d2e691aff00d\")) {                    Plotly.newPlot(                        \"8bdccf1c-1425-468c-bbb9-d2e691aff00d\",                        [{\"line\":{\"width\":2},\"mode\":\"lines\",\"name\":\"Predicción: Diferencia - 0.0 meses)\",\"visible\":true,\"x\":[\"2023-01-01T00:00:00\",\"2023-02-01T00:00:00\",\"2023-03-01T00:00:00\",\"2023-04-01T00:00:00\",\"2023-05-01T00:00:00\",\"2023-06-01T00:00:00\",\"2023-07-01T00:00:00\",\"2023-08-01T00:00:00\",\"2023-09-01T00:00:00\",\"2023-10-01T00:00:00\",\"2023-11-01T00:00:00\",\"2023-12-01T00:00:00\"],\"y\":[93305.41195705684,83771.57727182,91615.00243446237,86494.32782690224,79088.26192009816,97348.13016475388,132896.5057016357,132613.1059688941,121513.69646992556,121068.81239534401,117509.85817071164,117473.97800750066],\"type\":\"scatter\"},{\"line\":{\"width\":2},\"mode\":\"lines\",\"name\":\"Predicción: Diferencia - 1.0 meses)\",\"visible\":true,\"x\":[\"2023-02-01T00:00:00\",\"2023-03-01T00:00:00\",\"2023-04-01T00:00:00\",\"2023-05-01T00:00:00\",\"2023-06-01T00:00:00\",\"2023-07-01T00:00:00\",\"2023-08-01T00:00:00\",\"2023-09-01T00:00:00\",\"2023-10-01T00:00:00\",\"2023-11-01T00:00:00\",\"2023-12-01T00:00:00\",\"2024-01-01T00:00:00\"],\"y\":[97717.1632902218,90107.70995138798,73582.72631404124,82244.15600250765,97709.48155651886,126444.79070888188,135569.31248169387,113720.9403625324,122418.46705668708,113945.88640126384,115165.83795586998,105014.21901144937],\"type\":\"scatter\"},{\"line\":{\"width\":2},\"mode\":\"lines\",\"name\":\"Predicción: Diferencia - 2.0 meses)\",\"visible\":\"legendonly\",\"x\":[\"2023-03-01T00:00:00\",\"2023-04-01T00:00:00\",\"2023-05-01T00:00:00\",\"2023-06-01T00:00:00\",\"2023-07-01T00:00:00\",\"2023-08-01T00:00:00\",\"2023-09-01T00:00:00\",\"2023-10-01T00:00:00\",\"2023-11-01T00:00:00\",\"2023-12-01T00:00:00\",\"2024-01-01T00:00:00\",\"2024-02-01T00:00:00\"],\"y\":[98687.59679329234,72773.88662280905,62344.70209994436,97093.16594918285,125029.63975174938,127460.7837397255,119231.15940670489,115895.85627596249,115263.88720144375,116787.58899579404,105453.03926538283,100934.37262474206],\"type\":\"scatter\"},{\"line\":{\"width\":2},\"mode\":\"lines\",\"name\":\"Predicción: Diferencia - 3.0 meses)\",\"visible\":\"legendonly\",\"x\":[\"2023-04-01T00:00:00\",\"2023-05-01T00:00:00\",\"2023-06-01T00:00:00\",\"2023-07-01T00:00:00\",\"2023-08-01T00:00:00\",\"2023-09-01T00:00:00\",\"2023-10-01T00:00:00\",\"2023-11-01T00:00:00\",\"2023-12-01T00:00:00\",\"2024-01-01T00:00:00\",\"2024-02-01T00:00:00\",\"2024-03-01T00:00:00\"],\"y\":[78876.9693876405,62573.01116676615,76900.6057197493,123632.59886348099,128789.48020171029,110716.46447488554,115780.08878963647,109796.41376660662,112975.16562141076,105573.67735744038,95939.62682731246,125302.91975729505],\"type\":\"scatter\"},{\"line\":{\"width\":2},\"mode\":\"lines\",\"name\":\"Predicción: Diferencia - 4.0 meses)\",\"visible\":\"legendonly\",\"x\":[\"2023-05-01T00:00:00\",\"2023-06-01T00:00:00\",\"2023-07-01T00:00:00\",\"2023-08-01T00:00:00\",\"2023-09-01T00:00:00\",\"2023-10-01T00:00:00\",\"2023-11-01T00:00:00\",\"2023-12-01T00:00:00\",\"2024-01-01T00:00:00\",\"2024-02-01T00:00:00\",\"2024-03-01T00:00:00\",\"2024-04-01T00:00:00\"],\"y\":[68287.03158963329,74701.89793589333,99344.9862122996,124412.37497454643,108367.68457141887,111721.65306445053,109806.34045989721,111628.73947473413,104375.27311629994,99526.1145443528,118788.5433454432,112200.49043807486],\"type\":\"scatter\"},{\"line\":{\"width\":2},\"mode\":\"lines\",\"name\":\"Predicción: Diferencia - 5.0 meses)\",\"visible\":\"legendonly\",\"x\":[\"2023-06-01T00:00:00\",\"2023-07-01T00:00:00\",\"2023-08-01T00:00:00\",\"2023-09-01T00:00:00\",\"2023-10-01T00:00:00\",\"2023-11-01T00:00:00\",\"2023-12-01T00:00:00\",\"2024-01-01T00:00:00\",\"2024-02-01T00:00:00\",\"2024-03-01T00:00:00\",\"2024-04-01T00:00:00\",\"2024-05-01T00:00:00\"],\"y\":[86989.3806302287,103323.49121642952,99876.9633444259,106632.65104204029,108663.56235118148,104063.41345068505,112261.61292629805,99049.63613564093,98989.72583486761,122847.37545758353,109184.78108083157,111534.12671786116],\"type\":\"scatter\"},{\"line\":{\"width\":2},\"mode\":\"lines\",\"name\":\"Predicción: Diferencia - 6.0 meses)\",\"visible\":\"legendonly\",\"x\":[\"2023-07-01T00:00:00\",\"2023-08-01T00:00:00\",\"2023-09-01T00:00:00\",\"2023-10-01T00:00:00\",\"2023-11-01T00:00:00\",\"2023-12-01T00:00:00\",\"2024-01-01T00:00:00\",\"2024-02-01T00:00:00\",\"2024-03-01T00:00:00\",\"2024-04-01T00:00:00\",\"2024-05-01T00:00:00\",\"2024-06-01T00:00:00\"],\"y\":[111452.2518244556,99729.75261792936,82310.31127430273,111706.90587104249,102569.7807048671,106488.52343530998,98830.06149884794,93528.40706768079,121965.81019466589,110449.94816106785,109585.23964229258,130252.82841902156],\"type\":\"scatter\"},{\"line\":{\"width\":2},\"mode\":\"lines\",\"name\":\"Predicción: Diferencia - 7.0 meses)\",\"visible\":\"legendonly\",\"x\":[\"2023-08-01T00:00:00\",\"2023-09-01T00:00:00\",\"2023-10-01T00:00:00\",\"2023-11-01T00:00:00\",\"2023-12-01T00:00:00\",\"2024-01-01T00:00:00\",\"2024-02-01T00:00:00\",\"2024-03-01T00:00:00\",\"2024-04-01T00:00:00\",\"2024-05-01T00:00:00\",\"2024-06-01T00:00:00\",\"2024-07-01T00:00:00\"],\"y\":[106048.06145230342,86485.62761265184,87961.86795629108,103144.81444233443,103875.79909339713,92480.65603972528,96605.9903793015,112777.83827091104,107947.50297454951,109548.27092437074,128355.85219397262,160053.33261953076],\"type\":\"scatter\"},{\"line\":{\"width\":2},\"mode\":\"lines\",\"name\":\"Predicción: Diferencia - 8.0 meses)\",\"visible\":\"legendonly\",\"x\":[\"2023-09-01T00:00:00\",\"2023-10-01T00:00:00\",\"2023-11-01T00:00:00\",\"2023-12-01T00:00:00\",\"2024-01-01T00:00:00\",\"2024-02-01T00:00:00\",\"2024-03-01T00:00:00\",\"2024-04-01T00:00:00\",\"2024-05-01T00:00:00\",\"2024-06-01T00:00:00\",\"2024-07-01T00:00:00\",\"2024-08-01T00:00:00\"],\"y\":[93179.3723352711,88093.83493749904,88578.20973251574,102466.54812916563,91726.34481031423,92191.684872676,110408.27491438418,102964.70324478195,110441.91975884572,128986.02572981206,154571.16225333215,158083.31846773927],\"type\":\"scatter\"},{\"line\":{\"width\":2},\"mode\":\"lines\",\"name\":\"Predicción: Diferencia - 9.0 meses)\",\"visible\":\"legendonly\",\"x\":[\"2023-10-01T00:00:00\",\"2023-11-01T00:00:00\",\"2023-12-01T00:00:00\",\"2024-01-01T00:00:00\",\"2024-02-01T00:00:00\",\"2024-03-01T00:00:00\",\"2024-04-01T00:00:00\",\"2024-05-01T00:00:00\",\"2024-06-01T00:00:00\",\"2024-07-01T00:00:00\",\"2024-08-01T00:00:00\"],\"y\":[88778.05470714028,90489.39977620648,87405.36128231093,91975.76480952025,89064.89162528561,106333.45894017321,103227.64918892825,98865.9591874349,124314.68369023857,158788.8159580313,158964.13345519974],\"type\":\"scatter\"},{\"line\":{\"width\":2},\"mode\":\"lines\",\"name\":\"Predicción: Diferencia - 10.0 meses)\",\"visible\":\"legendonly\",\"x\":[\"2023-11-01T00:00:00\",\"2023-12-01T00:00:00\",\"2024-01-01T00:00:00\",\"2024-02-01T00:00:00\",\"2024-03-01T00:00:00\",\"2024-04-01T00:00:00\",\"2024-05-01T00:00:00\",\"2024-06-01T00:00:00\",\"2024-07-01T00:00:00\",\"2024-08-01T00:00:00\"],\"y\":[89829.34363520118,87665.12765482102,75099.73243669231,89440.76625816636,104947.75675863524,99855.41019074133,101111.54473015311,118194.23042562579,154096.3398728158,156341.16108800442],\"type\":\"scatter\"},{\"line\":{\"width\":2},\"mode\":\"lines\",\"name\":\"Predicción: Diferencia - 11.0 meses)\",\"visible\":\"legendonly\",\"x\":[\"2023-12-01T00:00:00\",\"2024-01-01T00:00:00\",\"2024-02-01T00:00:00\",\"2024-03-01T00:00:00\",\"2024-04-01T00:00:00\",\"2024-05-01T00:00:00\",\"2024-06-01T00:00:00\",\"2024-07-01T00:00:00\",\"2024-08-01T00:00:00\"],\"y\":[85990.76553751601,76947.00118014547,72452.9082336415,107297.08826834569,98299.86332472086,97767.19607908915,119449.32883314353,146250.5708735099,152060.20067119508],\"type\":\"scatter\"},{\"line\":{\"width\":2},\"mode\":\"lines\",\"name\":\"Predicción: Diferencia - 12.0 meses)\",\"visible\":true,\"x\":[\"2024-01-01T00:00:00\",\"2024-02-01T00:00:00\",\"2024-03-01T00:00:00\",\"2024-04-01T00:00:00\",\"2024-05-01T00:00:00\",\"2024-06-01T00:00:00\",\"2024-07-01T00:00:00\",\"2024-08-01T00:00:00\"],\"y\":[76511.46518376099,70754.04724749472,86432.66512289883,95930.72730804744,96427.85800814762,115139.6580598049,152115.4310883618,143799.71129386564],\"type\":\"scatter\"},{\"line\":{\"width\":2},\"mode\":\"lines\",\"name\":\"Predicción: Diferencia - 13.0 meses)\",\"visible\":\"legendonly\",\"x\":[\"2024-02-01T00:00:00\",\"2024-03-01T00:00:00\",\"2024-04-01T00:00:00\",\"2024-05-01T00:00:00\",\"2024-06-01T00:00:00\",\"2024-07-01T00:00:00\",\"2024-08-01T00:00:00\"],\"y\":[68600.41096584198,86900.28250843861,78286.7437387145,92386.21890878791,113761.01486724993,146758.46661852757,147725.92651323395],\"type\":\"scatter\"},{\"line\":{\"width\":2},\"mode\":\"lines\",\"name\":\"Predicción: Diferencia - 14.0 meses)\",\"visible\":true,\"x\":[\"2024-03-01T00:00:00\",\"2024-04-01T00:00:00\",\"2024-05-01T00:00:00\",\"2024-06-01T00:00:00\",\"2024-07-01T00:00:00\",\"2024-08-01T00:00:00\"],\"y\":[89796.40631195447,80817.15757318126,77118.19022253784,113556.29780925818,144456.18727963587,143175.65230343197],\"type\":\"scatter\"},{\"line\":{\"width\":2},\"mode\":\"lines\",\"name\":\"Predicción: Diferencia - 15.0 meses)\",\"visible\":\"legendonly\",\"x\":[\"2024-04-01T00:00:00\",\"2024-05-01T00:00:00\",\"2024-06-01T00:00:00\",\"2024-07-01T00:00:00\",\"2024-08-01T00:00:00\"],\"y\":[81746.0985485621,78250.83671959743,88521.90450917228,142486.61778083243,140749.7586069338],\"type\":\"scatter\"},{\"line\":{\"width\":2},\"mode\":\"lines\",\"name\":\"Predicción: Diferencia - 16.0 meses)\",\"visible\":\"legendonly\",\"x\":[\"2024-05-01T00:00:00\",\"2024-06-01T00:00:00\",\"2024-07-01T00:00:00\",\"2024-08-01T00:00:00\"],\"y\":[80397.44456350169,89203.2685637062,110013.10519291573,141173.5157923132],\"type\":\"scatter\"},{\"line\":{\"width\":2},\"mode\":\"lines\",\"name\":\"Predicción: Diferencia - 17.0 meses)\",\"visible\":\"legendonly\",\"x\":[\"2024-06-01T00:00:00\",\"2024-07-01T00:00:00\",\"2024-08-01T00:00:00\"],\"y\":[92761.09196816666,115468.45820195292,112310.47242532804],\"type\":\"scatter\"},{\"line\":{\"color\":\"red\",\"width\":3},\"mode\":\"lines\",\"name\":\"Valor Real\",\"visible\":true,\"x\":[\"2023-01-01T00:00:00\",\"2023-02-01T00:00:00\",\"2023-02-01T00:00:00\",\"2023-03-01T00:00:00\",\"2023-03-01T00:00:00\",\"2023-03-01T00:00:00\",\"2023-04-01T00:00:00\",\"2023-04-01T00:00:00\",\"2023-04-01T00:00:00\",\"2023-04-01T00:00:00\",\"2023-05-01T00:00:00\",\"2023-05-01T00:00:00\",\"2023-05-01T00:00:00\",\"2023-05-01T00:00:00\",\"2023-05-01T00:00:00\",\"2023-06-01T00:00:00\",\"2023-06-01T00:00:00\",\"2023-06-01T00:00:00\",\"2023-06-01T00:00:00\",\"2023-06-01T00:00:00\",\"2023-06-01T00:00:00\",\"2023-07-01T00:00:00\",\"2023-07-01T00:00:00\",\"2023-07-01T00:00:00\",\"2023-07-01T00:00:00\",\"2023-07-01T00:00:00\",\"2023-07-01T00:00:00\",\"2023-07-01T00:00:00\",\"2023-08-01T00:00:00\",\"2023-08-01T00:00:00\",\"2023-08-01T00:00:00\",\"2023-08-01T00:00:00\",\"2023-08-01T00:00:00\",\"2023-08-01T00:00:00\",\"2023-08-01T00:00:00\",\"2023-08-01T00:00:00\",\"2023-09-01T00:00:00\",\"2023-09-01T00:00:00\",\"2023-09-01T00:00:00\",\"2023-09-01T00:00:00\",\"2023-09-01T00:00:00\",\"2023-09-01T00:00:00\",\"2023-09-01T00:00:00\",\"2023-09-01T00:00:00\",\"2023-09-01T00:00:00\",\"2023-10-01T00:00:00\",\"2023-10-01T00:00:00\",\"2023-10-01T00:00:00\",\"2023-10-01T00:00:00\",\"2023-10-01T00:00:00\",\"2023-10-01T00:00:00\",\"2023-10-01T00:00:00\",\"2023-10-01T00:00:00\",\"2023-10-01T00:00:00\",\"2023-10-01T00:00:00\",\"2023-11-01T00:00:00\",\"2023-11-01T00:00:00\",\"2023-11-01T00:00:00\",\"2023-11-01T00:00:00\",\"2023-11-01T00:00:00\",\"2023-11-01T00:00:00\",\"2023-11-01T00:00:00\",\"2023-11-01T00:00:00\",\"2023-11-01T00:00:00\",\"2023-11-01T00:00:00\",\"2023-11-01T00:00:00\",\"2023-12-01T00:00:00\",\"2023-12-01T00:00:00\",\"2023-12-01T00:00:00\",\"2023-12-01T00:00:00\",\"2023-12-01T00:00:00\",\"2023-12-01T00:00:00\",\"2023-12-01T00:00:00\",\"2023-12-01T00:00:00\",\"2023-12-01T00:00:00\",\"2023-12-01T00:00:00\",\"2023-12-01T00:00:00\",\"2023-12-01T00:00:00\",\"2024-01-01T00:00:00\",\"2024-01-01T00:00:00\",\"2024-01-01T00:00:00\",\"2024-01-01T00:00:00\",\"2024-01-01T00:00:00\",\"2024-01-01T00:00:00\",\"2024-01-01T00:00:00\",\"2024-01-01T00:00:00\",\"2024-01-01T00:00:00\",\"2024-01-01T00:00:00\",\"2024-01-01T00:00:00\",\"2024-01-01T00:00:00\",\"2024-02-01T00:00:00\",\"2024-02-01T00:00:00\",\"2024-02-01T00:00:00\",\"2024-02-01T00:00:00\",\"2024-02-01T00:00:00\",\"2024-02-01T00:00:00\",\"2024-02-01T00:00:00\",\"2024-02-01T00:00:00\",\"2024-02-01T00:00:00\",\"2024-02-01T00:00:00\",\"2024-02-01T00:00:00\",\"2024-02-01T00:00:00\",\"2024-03-01T00:00:00\",\"2024-03-01T00:00:00\",\"2024-03-01T00:00:00\",\"2024-03-01T00:00:00\",\"2024-03-01T00:00:00\",\"2024-03-01T00:00:00\",\"2024-03-01T00:00:00\",\"2024-03-01T00:00:00\",\"2024-03-01T00:00:00\",\"2024-03-01T00:00:00\",\"2024-03-01T00:00:00\",\"2024-03-01T00:00:00\",\"2024-04-01T00:00:00\",\"2024-04-01T00:00:00\",\"2024-04-01T00:00:00\",\"2024-04-01T00:00:00\",\"2024-04-01T00:00:00\",\"2024-04-01T00:00:00\",\"2024-04-01T00:00:00\",\"2024-04-01T00:00:00\",\"2024-04-01T00:00:00\",\"2024-04-01T00:00:00\",\"2024-04-01T00:00:00\",\"2024-04-01T00:00:00\",\"2024-05-01T00:00:00\",\"2024-05-01T00:00:00\",\"2024-05-01T00:00:00\",\"2024-05-01T00:00:00\",\"2024-05-01T00:00:00\",\"2024-05-01T00:00:00\",\"2024-05-01T00:00:00\",\"2024-05-01T00:00:00\",\"2024-05-01T00:00:00\",\"2024-05-01T00:00:00\",\"2024-05-01T00:00:00\",\"2024-05-01T00:00:00\",\"2024-06-01T00:00:00\",\"2024-06-01T00:00:00\",\"2024-06-01T00:00:00\",\"2024-06-01T00:00:00\",\"2024-06-01T00:00:00\",\"2024-06-01T00:00:00\",\"2024-06-01T00:00:00\",\"2024-06-01T00:00:00\",\"2024-06-01T00:00:00\",\"2024-06-01T00:00:00\",\"2024-06-01T00:00:00\",\"2024-06-01T00:00:00\",\"2024-07-01T00:00:00\",\"2024-07-01T00:00:00\",\"2024-07-01T00:00:00\",\"2024-07-01T00:00:00\",\"2024-07-01T00:00:00\",\"2024-07-01T00:00:00\",\"2024-07-01T00:00:00\",\"2024-07-01T00:00:00\",\"2024-07-01T00:00:00\",\"2024-07-01T00:00:00\",\"2024-07-01T00:00:00\",\"2024-08-01T00:00:00\",\"2024-08-01T00:00:00\",\"2024-08-01T00:00:00\",\"2024-08-01T00:00:00\",\"2024-08-01T00:00:00\",\"2024-08-01T00:00:00\",\"2024-08-01T00:00:00\",\"2024-08-01T00:00:00\",\"2024-08-01T00:00:00\",\"2024-08-01T00:00:00\"],\"y\":[83274.05549724207,80772.49512162477,80772.49512162477,108883.1082384134,108883.1082384134,108883.1082384134,90623.55743784914,90623.55743784914,90623.55743784914,90623.55743784914,85757.98791767348,85757.98791767348,85757.98791767348,85757.98791767348,85757.98791767348,115198.26101891116,115198.26101891116,115198.26101891116,115198.26101891116,115198.26101891116,115198.26101891116,125493.49625476392,125493.49625476392,125493.49625476392,125493.49625476392,125493.49625476392,125493.49625476392,125493.49625476392,148935.01617841818,148935.01617841818,148935.01617841818,148935.01617841818,148935.01617841818,148935.01617841818,148935.01617841818,148935.01617841818,108423.09226152318,108423.09226152318,108423.09226152318,108423.09226152318,108423.09226152318,108423.09226152318,108423.09226152318,108423.09226152318,108423.09226152318,130091.60765395944,130091.60765395944,130091.60765395944,130091.60765395944,130091.60765395944,130091.60765395944,130091.60765395944,130091.60765395944,130091.60765395944,130091.60765395944,112481.01179068074,112481.01179068074,112481.01179068074,112481.01179068074,112481.01179068074,112481.01179068074,112481.01179068074,112481.01179068074,112481.01179068074,112481.01179068074,112481.01179068074,105442.11223403168,105442.11223403168,105442.11223403168,105442.11223403168,105442.11223403168,105442.11223403168,105442.11223403168,105442.11223403168,105442.11223403168,105442.11223403168,105442.11223403168,105442.11223403168,97238.51342749008,97238.51342749008,97238.51342749008,97238.51342749008,97238.51342749008,97238.51342749008,97238.51342749008,97238.51342749008,97238.51342749008,97238.51342749008,97238.51342749008,97238.51342749008,100246.4604717935,100246.4604717935,100246.4604717935,100246.4604717935,100246.4604717935,100246.4604717935,100246.4604717935,100246.4604717935,100246.4604717935,100246.4604717935,100246.4604717935,100246.4604717935,95639.02841081204,95639.02841081204,95639.02841081204,95639.02841081204,95639.02841081204,95639.02841081204,95639.02841081204,95639.02841081204,95639.02841081204,95639.02841081204,95639.02841081204,95639.02841081204,106530.7355251386,106530.7355251386,106530.7355251386,106530.7355251386,106530.7355251386,106530.7355251386,106530.7355251386,106530.7355251386,106530.7355251386,106530.7355251386,106530.7355251386,106530.7355251386,94165.227223096,94165.227223096,94165.227223096,94165.227223096,94165.227223096,94165.227223096,94165.227223096,94165.227223096,94165.227223096,94165.227223096,94165.227223096,94165.227223096,113988.682873909,113988.682873909,113988.682873909,113988.682873909,113988.682873909,113988.682873909,113988.682873909,113988.682873909,113988.682873909,113988.682873909,113988.682873909,113988.682873909,135627.644361161,135627.644361161,135627.644361161,135627.644361161,135627.644361161,135627.644361161,135627.644361161,135627.644361161,135627.644361161,135627.644361161,135627.644361161,150238.709291102,150238.709291102,150238.709291102,150238.709291102,150238.709291102,150238.709291102,150238.709291102,150238.709291102,150238.709291102,150238.709291102],\"type\":\"scatter\"}],                        {\"template\":{\"data\":{\"histogram2dcontour\":[{\"type\":\"histogram2dcontour\",\"colorbar\":{\"outlinewidth\":0,\"ticks\":\"\"},\"colorscale\":[[0.0,\"#0d0887\"],[0.1111111111111111,\"#46039f\"],[0.2222222222222222,\"#7201a8\"],[0.3333333333333333,\"#9c179e\"],[0.4444444444444444,\"#bd3786\"],[0.5555555555555556,\"#d8576b\"],[0.6666666666666666,\"#ed7953\"],[0.7777777777777778,\"#fb9f3a\"],[0.8888888888888888,\"#fdca26\"],[1.0,\"#f0f921\"]]}],\"choropleth\":[{\"type\":\"choropleth\",\"colorbar\":{\"outlinewidth\":0,\"ticks\":\"\"}}],\"histogram2d\":[{\"type\":\"histogram2d\",\"colorbar\":{\"outlinewidth\":0,\"ticks\":\"\"},\"colorscale\":[[0.0,\"#0d0887\"],[0.1111111111111111,\"#46039f\"],[0.2222222222222222,\"#7201a8\"],[0.3333333333333333,\"#9c179e\"],[0.4444444444444444,\"#bd3786\"],[0.5555555555555556,\"#d8576b\"],[0.6666666666666666,\"#ed7953\"],[0.7777777777777778,\"#fb9f3a\"],[0.8888888888888888,\"#fdca26\"],[1.0,\"#f0f921\"]]}],\"heatmap\":[{\"type\":\"heatmap\",\"colorbar\":{\"outlinewidth\":0,\"ticks\":\"\"},\"colorscale\":[[0.0,\"#0d0887\"],[0.1111111111111111,\"#46039f\"],[0.2222222222222222,\"#7201a8\"],[0.3333333333333333,\"#9c179e\"],[0.4444444444444444,\"#bd3786\"],[0.5555555555555556,\"#d8576b\"],[0.6666666666666666,\"#ed7953\"],[0.7777777777777778,\"#fb9f3a\"],[0.8888888888888888,\"#fdca26\"],[1.0,\"#f0f921\"]]}],\"heatmapgl\":[{\"type\":\"heatmapgl\",\"colorbar\":{\"outlinewidth\":0,\"ticks\":\"\"},\"colorscale\":[[0.0,\"#0d0887\"],[0.1111111111111111,\"#46039f\"],[0.2222222222222222,\"#7201a8\"],[0.3333333333333333,\"#9c179e\"],[0.4444444444444444,\"#bd3786\"],[0.5555555555555556,\"#d8576b\"],[0.6666666666666666,\"#ed7953\"],[0.7777777777777778,\"#fb9f3a\"],[0.8888888888888888,\"#fdca26\"],[1.0,\"#f0f921\"]]}],\"contourcarpet\":[{\"type\":\"contourcarpet\",\"colorbar\":{\"outlinewidth\":0,\"ticks\":\"\"}}],\"contour\":[{\"type\":\"contour\",\"colorbar\":{\"outlinewidth\":0,\"ticks\":\"\"},\"colorscale\":[[0.0,\"#0d0887\"],[0.1111111111111111,\"#46039f\"],[0.2222222222222222,\"#7201a8\"],[0.3333333333333333,\"#9c179e\"],[0.4444444444444444,\"#bd3786\"],[0.5555555555555556,\"#d8576b\"],[0.6666666666666666,\"#ed7953\"],[0.7777777777777778,\"#fb9f3a\"],[0.8888888888888888,\"#fdca26\"],[1.0,\"#f0f921\"]]}],\"surface\":[{\"type\":\"surface\",\"colorbar\":{\"outlinewidth\":0,\"ticks\":\"\"},\"colorscale\":[[0.0,\"#0d0887\"],[0.1111111111111111,\"#46039f\"],[0.2222222222222222,\"#7201a8\"],[0.3333333333333333,\"#9c179e\"],[0.4444444444444444,\"#bd3786\"],[0.5555555555555556,\"#d8576b\"],[0.6666666666666666,\"#ed7953\"],[0.7777777777777778,\"#fb9f3a\"],[0.8888888888888888,\"#fdca26\"],[1.0,\"#f0f921\"]]}],\"mesh3d\":[{\"type\":\"mesh3d\",\"colorbar\":{\"outlinewidth\":0,\"ticks\":\"\"}}],\"scatter\":[{\"fillpattern\":{\"fillmode\":\"overlay\",\"size\":10,\"solidity\":0.2},\"type\":\"scatter\"}],\"parcoords\":[{\"type\":\"parcoords\",\"line\":{\"colorbar\":{\"outlinewidth\":0,\"ticks\":\"\"}}}],\"scatterpolargl\":[{\"type\":\"scatterpolargl\",\"marker\":{\"colorbar\":{\"outlinewidth\":0,\"ticks\":\"\"}}}],\"bar\":[{\"error_x\":{\"color\":\"#2a3f5f\"},\"error_y\":{\"color\":\"#2a3f5f\"},\"marker\":{\"line\":{\"color\":\"#E5ECF6\",\"width\":0.5},\"pattern\":{\"fillmode\":\"overlay\",\"size\":10,\"solidity\":0.2}},\"type\":\"bar\"}],\"scattergeo\":[{\"type\":\"scattergeo\",\"marker\":{\"colorbar\":{\"outlinewidth\":0,\"ticks\":\"\"}}}],\"scatterpolar\":[{\"type\":\"scatterpolar\",\"marker\":{\"colorbar\":{\"outlinewidth\":0,\"ticks\":\"\"}}}],\"histogram\":[{\"marker\":{\"pattern\":{\"fillmode\":\"overlay\",\"size\":10,\"solidity\":0.2}},\"type\":\"histogram\"}],\"scattergl\":[{\"type\":\"scattergl\",\"marker\":{\"colorbar\":{\"outlinewidth\":0,\"ticks\":\"\"}}}],\"scatter3d\":[{\"type\":\"scatter3d\",\"line\":{\"colorbar\":{\"outlinewidth\":0,\"ticks\":\"\"}},\"marker\":{\"colorbar\":{\"outlinewidth\":0,\"ticks\":\"\"}}}],\"scattermapbox\":[{\"type\":\"scattermapbox\",\"marker\":{\"colorbar\":{\"outlinewidth\":0,\"ticks\":\"\"}}}],\"scatterternary\":[{\"type\":\"scatterternary\",\"marker\":{\"colorbar\":{\"outlinewidth\":0,\"ticks\":\"\"}}}],\"scattercarpet\":[{\"type\":\"scattercarpet\",\"marker\":{\"colorbar\":{\"outlinewidth\":0,\"ticks\":\"\"}}}],\"carpet\":[{\"aaxis\":{\"endlinecolor\":\"#2a3f5f\",\"gridcolor\":\"white\",\"linecolor\":\"white\",\"minorgridcolor\":\"white\",\"startlinecolor\":\"#2a3f5f\"},\"baxis\":{\"endlinecolor\":\"#2a3f5f\",\"gridcolor\":\"white\",\"linecolor\":\"white\",\"minorgridcolor\":\"white\",\"startlinecolor\":\"#2a3f5f\"},\"type\":\"carpet\"}],\"table\":[{\"cells\":{\"fill\":{\"color\":\"#EBF0F8\"},\"line\":{\"color\":\"white\"}},\"header\":{\"fill\":{\"color\":\"#C8D4E3\"},\"line\":{\"color\":\"white\"}},\"type\":\"table\"}],\"barpolar\":[{\"marker\":{\"line\":{\"color\":\"#E5ECF6\",\"width\":0.5},\"pattern\":{\"fillmode\":\"overlay\",\"size\":10,\"solidity\":0.2}},\"type\":\"barpolar\"}],\"pie\":[{\"automargin\":true,\"type\":\"pie\"}]},\"layout\":{\"autotypenumbers\":\"strict\",\"colorway\":[\"#636efa\",\"#EF553B\",\"#00cc96\",\"#ab63fa\",\"#FFA15A\",\"#19d3f3\",\"#FF6692\",\"#B6E880\",\"#FF97FF\",\"#FECB52\"],\"font\":{\"color\":\"#2a3f5f\"},\"hovermode\":\"closest\",\"hoverlabel\":{\"align\":\"left\"},\"paper_bgcolor\":\"white\",\"plot_bgcolor\":\"#E5ECF6\",\"polar\":{\"bgcolor\":\"#E5ECF6\",\"angularaxis\":{\"gridcolor\":\"white\",\"linecolor\":\"white\",\"ticks\":\"\"},\"radialaxis\":{\"gridcolor\":\"white\",\"linecolor\":\"white\",\"ticks\":\"\"}},\"ternary\":{\"bgcolor\":\"#E5ECF6\",\"aaxis\":{\"gridcolor\":\"white\",\"linecolor\":\"white\",\"ticks\":\"\"},\"baxis\":{\"gridcolor\":\"white\",\"linecolor\":\"white\",\"ticks\":\"\"},\"caxis\":{\"gridcolor\":\"white\",\"linecolor\":\"white\",\"ticks\":\"\"}},\"coloraxis\":{\"colorbar\":{\"outlinewidth\":0,\"ticks\":\"\"}},\"colorscale\":{\"sequential\":[[0.0,\"#0d0887\"],[0.1111111111111111,\"#46039f\"],[0.2222222222222222,\"#7201a8\"],[0.3333333333333333,\"#9c179e\"],[0.4444444444444444,\"#bd3786\"],[0.5555555555555556,\"#d8576b\"],[0.6666666666666666,\"#ed7953\"],[0.7777777777777778,\"#fb9f3a\"],[0.8888888888888888,\"#fdca26\"],[1.0,\"#f0f921\"]],\"sequentialminus\":[[0.0,\"#0d0887\"],[0.1111111111111111,\"#46039f\"],[0.2222222222222222,\"#7201a8\"],[0.3333333333333333,\"#9c179e\"],[0.4444444444444444,\"#bd3786\"],[0.5555555555555556,\"#d8576b\"],[0.6666666666666666,\"#ed7953\"],[0.7777777777777778,\"#fb9f3a\"],[0.8888888888888888,\"#fdca26\"],[1.0,\"#f0f921\"]],\"diverging\":[[0,\"#8e0152\"],[0.1,\"#c51b7d\"],[0.2,\"#de77ae\"],[0.3,\"#f1b6da\"],[0.4,\"#fde0ef\"],[0.5,\"#f7f7f7\"],[0.6,\"#e6f5d0\"],[0.7,\"#b8e186\"],[0.8,\"#7fbc41\"],[0.9,\"#4d9221\"],[1,\"#276419\"]]},\"xaxis\":{\"gridcolor\":\"white\",\"linecolor\":\"white\",\"ticks\":\"\",\"title\":{\"standoff\":15},\"zerolinecolor\":\"white\",\"automargin\":true,\"zerolinewidth\":2},\"yaxis\":{\"gridcolor\":\"white\",\"linecolor\":\"white\",\"ticks\":\"\",\"title\":{\"standoff\":15},\"zerolinecolor\":\"white\",\"automargin\":true,\"zerolinewidth\":2},\"scene\":{\"xaxis\":{\"backgroundcolor\":\"#E5ECF6\",\"gridcolor\":\"white\",\"linecolor\":\"white\",\"showbackground\":true,\"ticks\":\"\",\"zerolinecolor\":\"white\",\"gridwidth\":2},\"yaxis\":{\"backgroundcolor\":\"#E5ECF6\",\"gridcolor\":\"white\",\"linecolor\":\"white\",\"showbackground\":true,\"ticks\":\"\",\"zerolinecolor\":\"white\",\"gridwidth\":2},\"zaxis\":{\"backgroundcolor\":\"#E5ECF6\",\"gridcolor\":\"white\",\"linecolor\":\"white\",\"showbackground\":true,\"ticks\":\"\",\"zerolinecolor\":\"white\",\"gridwidth\":2}},\"shapedefaults\":{\"line\":{\"color\":\"#2a3f5f\"}},\"annotationdefaults\":{\"arrowcolor\":\"#2a3f5f\",\"arrowhead\":0,\"arrowwidth\":1},\"geo\":{\"bgcolor\":\"white\",\"landcolor\":\"#E5ECF6\",\"subunitcolor\":\"white\",\"showland\":true,\"showlakes\":true,\"lakecolor\":\"white\"},\"title\":{\"x\":0.05},\"mapbox\":{\"style\":\"light\"}}},\"title\":{\"text\":\"Serie temporal Pepsi Max (L3): Valor Real -vs- Predicciones\\u003cbr\\u003e\\u003csup\\u003eSelecciona las líneas en la leyenda para mostrar u ocultar predicciones según Diferencia_Fechas\\u003c\\u002fsup\\u003e\"},\"xaxis\":{\"title\":{\"text\":\"Fecha\"}},\"yaxis\":{\"title\":{\"text\":\"Ventas\"}}},                        {\"responsive\": true}                    ).then(function(){\n",
              "                            \n",
              "var gd = document.getElementById('8bdccf1c-1425-468c-bbb9-d2e691aff00d');\n",
              "var x = new MutationObserver(function (mutations, observer) {{\n",
              "        var display = window.getComputedStyle(gd).display;\n",
              "        if (!display || display === 'none') {{\n",
              "            console.log([gd, 'removed!']);\n",
              "            Plotly.purge(gd);\n",
              "            observer.disconnect();\n",
              "        }}\n",
              "}});\n",
              "\n",
              "// Listen for the removal of the full notebook cells\n",
              "var notebookContainer = gd.closest('#notebook-container');\n",
              "if (notebookContainer) {{\n",
              "    x.observe(notebookContainer, {childList: true});\n",
              "}}\n",
              "\n",
              "// Listen for the clearing of the current output cell\n",
              "var outputEl = gd.closest('.output');\n",
              "if (outputEl) {{\n",
              "    x.observe(outputEl, {childList: true});\n",
              "}}\n",
              "\n",
              "                        })                };                            </script>        </div>\n",
              "</body>\n",
              "</html>"
            ]
          },
          "metadata": {}
        }
      ]
    },
    {
      "cell_type": "markdown",
      "source": [
        " **Pepsi Max**\n",
        "\n",
        " En Pepsi Max ocurre algo similar: a mayor distancia en meses, menor precisión en las predicciones. Los horizontes más precisos son con 0, 1 y 14 meses de diferencia. Debido a la estacionalidad, los horizontes de 5 y 17 meses resultan en peores predicciones, ya que representan periodos opuestos en el ciclo estacional."
      ],
      "metadata": {
        "id": "yO_hYVuPNXeH"
      }
    },
    {
      "cell_type": "code",
      "source": [
        "graficar_desviacion_normalizada_producto(merged_df, producto='Pepsi Regular (L3)')"
      ],
      "metadata": {
        "colab": {
          "base_uri": "https://localhost:8080/",
          "height": 542
        },
        "id": "LeSTZWNCtYhc",
        "outputId": "2f4efce9-016e-4158-e5bd-f4557dc3ebe6"
      },
      "execution_count": 533,
      "outputs": [
        {
          "output_type": "display_data",
          "data": {
            "text/html": [
              "<html>\n",
              "<head><meta charset=\"utf-8\" /></head>\n",
              "<body>\n",
              "    <div>            <script src=\"https://cdnjs.cloudflare.com/ajax/libs/mathjax/2.7.5/MathJax.js?config=TeX-AMS-MML_SVG\"></script><script type=\"text/javascript\">if (window.MathJax && window.MathJax.Hub && window.MathJax.Hub.Config) {window.MathJax.Hub.Config({SVG: {font: \"STIX-Web\"}});}</script>                <script type=\"text/javascript\">window.PlotlyConfig = {MathJaxConfig: 'local'};</script>\n",
              "        <script charset=\"utf-8\" src=\"https://cdn.plot.ly/plotly-2.35.2.min.js\"></script>                <div id=\"a91e5953-1cba-4870-91be-d12a4f12c2e1\" class=\"plotly-graph-div\" style=\"height:525px; width:100%;\"></div>            <script type=\"text/javascript\">                                    window.PLOTLYENV=window.PLOTLYENV || {};                                    if (document.getElementById(\"a91e5953-1cba-4870-91be-d12a4f12c2e1\")) {                    Plotly.newPlot(                        \"a91e5953-1cba-4870-91be-d12a4f12c2e1\",                        [{\"alignmentgroup\":\"True\",\"hovertemplate\":\"Horizonte de Predicción (Meses)=%{x}\\u003cbr\\u003eMedia de Error Absoluto=%{y}\\u003cextra\\u003e\\u003c\\u002fextra\\u003e\",\"legendgroup\":\"\",\"marker\":{\"color\":\"#636efa\",\"pattern\":{\"shape\":\"\"}},\"name\":\"\",\"offsetgroup\":\"\",\"orientation\":\"v\",\"showlegend\":false,\"textposition\":\"auto\",\"x\":[0.0,1.0,2.0,3.0,4.0,5.0,6.0,7.0,8.0,9.0,10.0,11.0,12.0,13.0,14.0,15.0,16.0,17.0],\"xaxis\":\"x\",\"y\":[12579.52442051203,13332.250504719663,12868.817111420605,18035.270419573764,17751.436462497935,20588.939145853758,21668.379492091994,22947.07426473573,25441.77285667296,25479.08123828389,21077.5595714342,24208.609670474227,17930.07856815122,22902.26097488825,26165.38645571646,19382.301899613445,18956.078670348685,16986.597785109396],\"yaxis\":\"y\",\"type\":\"bar\"}],                        {\"template\":{\"data\":{\"histogram2dcontour\":[{\"type\":\"histogram2dcontour\",\"colorbar\":{\"outlinewidth\":0,\"ticks\":\"\"},\"colorscale\":[[0.0,\"#0d0887\"],[0.1111111111111111,\"#46039f\"],[0.2222222222222222,\"#7201a8\"],[0.3333333333333333,\"#9c179e\"],[0.4444444444444444,\"#bd3786\"],[0.5555555555555556,\"#d8576b\"],[0.6666666666666666,\"#ed7953\"],[0.7777777777777778,\"#fb9f3a\"],[0.8888888888888888,\"#fdca26\"],[1.0,\"#f0f921\"]]}],\"choropleth\":[{\"type\":\"choropleth\",\"colorbar\":{\"outlinewidth\":0,\"ticks\":\"\"}}],\"histogram2d\":[{\"type\":\"histogram2d\",\"colorbar\":{\"outlinewidth\":0,\"ticks\":\"\"},\"colorscale\":[[0.0,\"#0d0887\"],[0.1111111111111111,\"#46039f\"],[0.2222222222222222,\"#7201a8\"],[0.3333333333333333,\"#9c179e\"],[0.4444444444444444,\"#bd3786\"],[0.5555555555555556,\"#d8576b\"],[0.6666666666666666,\"#ed7953\"],[0.7777777777777778,\"#fb9f3a\"],[0.8888888888888888,\"#fdca26\"],[1.0,\"#f0f921\"]]}],\"heatmap\":[{\"type\":\"heatmap\",\"colorbar\":{\"outlinewidth\":0,\"ticks\":\"\"},\"colorscale\":[[0.0,\"#0d0887\"],[0.1111111111111111,\"#46039f\"],[0.2222222222222222,\"#7201a8\"],[0.3333333333333333,\"#9c179e\"],[0.4444444444444444,\"#bd3786\"],[0.5555555555555556,\"#d8576b\"],[0.6666666666666666,\"#ed7953\"],[0.7777777777777778,\"#fb9f3a\"],[0.8888888888888888,\"#fdca26\"],[1.0,\"#f0f921\"]]}],\"heatmapgl\":[{\"type\":\"heatmapgl\",\"colorbar\":{\"outlinewidth\":0,\"ticks\":\"\"},\"colorscale\":[[0.0,\"#0d0887\"],[0.1111111111111111,\"#46039f\"],[0.2222222222222222,\"#7201a8\"],[0.3333333333333333,\"#9c179e\"],[0.4444444444444444,\"#bd3786\"],[0.5555555555555556,\"#d8576b\"],[0.6666666666666666,\"#ed7953\"],[0.7777777777777778,\"#fb9f3a\"],[0.8888888888888888,\"#fdca26\"],[1.0,\"#f0f921\"]]}],\"contourcarpet\":[{\"type\":\"contourcarpet\",\"colorbar\":{\"outlinewidth\":0,\"ticks\":\"\"}}],\"contour\":[{\"type\":\"contour\",\"colorbar\":{\"outlinewidth\":0,\"ticks\":\"\"},\"colorscale\":[[0.0,\"#0d0887\"],[0.1111111111111111,\"#46039f\"],[0.2222222222222222,\"#7201a8\"],[0.3333333333333333,\"#9c179e\"],[0.4444444444444444,\"#bd3786\"],[0.5555555555555556,\"#d8576b\"],[0.6666666666666666,\"#ed7953\"],[0.7777777777777778,\"#fb9f3a\"],[0.8888888888888888,\"#fdca26\"],[1.0,\"#f0f921\"]]}],\"surface\":[{\"type\":\"surface\",\"colorbar\":{\"outlinewidth\":0,\"ticks\":\"\"},\"colorscale\":[[0.0,\"#0d0887\"],[0.1111111111111111,\"#46039f\"],[0.2222222222222222,\"#7201a8\"],[0.3333333333333333,\"#9c179e\"],[0.4444444444444444,\"#bd3786\"],[0.5555555555555556,\"#d8576b\"],[0.6666666666666666,\"#ed7953\"],[0.7777777777777778,\"#fb9f3a\"],[0.8888888888888888,\"#fdca26\"],[1.0,\"#f0f921\"]]}],\"mesh3d\":[{\"type\":\"mesh3d\",\"colorbar\":{\"outlinewidth\":0,\"ticks\":\"\"}}],\"scatter\":[{\"fillpattern\":{\"fillmode\":\"overlay\",\"size\":10,\"solidity\":0.2},\"type\":\"scatter\"}],\"parcoords\":[{\"type\":\"parcoords\",\"line\":{\"colorbar\":{\"outlinewidth\":0,\"ticks\":\"\"}}}],\"scatterpolargl\":[{\"type\":\"scatterpolargl\",\"marker\":{\"colorbar\":{\"outlinewidth\":0,\"ticks\":\"\"}}}],\"bar\":[{\"error_x\":{\"color\":\"#2a3f5f\"},\"error_y\":{\"color\":\"#2a3f5f\"},\"marker\":{\"line\":{\"color\":\"#E5ECF6\",\"width\":0.5},\"pattern\":{\"fillmode\":\"overlay\",\"size\":10,\"solidity\":0.2}},\"type\":\"bar\"}],\"scattergeo\":[{\"type\":\"scattergeo\",\"marker\":{\"colorbar\":{\"outlinewidth\":0,\"ticks\":\"\"}}}],\"scatterpolar\":[{\"type\":\"scatterpolar\",\"marker\":{\"colorbar\":{\"outlinewidth\":0,\"ticks\":\"\"}}}],\"histogram\":[{\"marker\":{\"pattern\":{\"fillmode\":\"overlay\",\"size\":10,\"solidity\":0.2}},\"type\":\"histogram\"}],\"scattergl\":[{\"type\":\"scattergl\",\"marker\":{\"colorbar\":{\"outlinewidth\":0,\"ticks\":\"\"}}}],\"scatter3d\":[{\"type\":\"scatter3d\",\"line\":{\"colorbar\":{\"outlinewidth\":0,\"ticks\":\"\"}},\"marker\":{\"colorbar\":{\"outlinewidth\":0,\"ticks\":\"\"}}}],\"scattermapbox\":[{\"type\":\"scattermapbox\",\"marker\":{\"colorbar\":{\"outlinewidth\":0,\"ticks\":\"\"}}}],\"scatterternary\":[{\"type\":\"scatterternary\",\"marker\":{\"colorbar\":{\"outlinewidth\":0,\"ticks\":\"\"}}}],\"scattercarpet\":[{\"type\":\"scattercarpet\",\"marker\":{\"colorbar\":{\"outlinewidth\":0,\"ticks\":\"\"}}}],\"carpet\":[{\"aaxis\":{\"endlinecolor\":\"#2a3f5f\",\"gridcolor\":\"white\",\"linecolor\":\"white\",\"minorgridcolor\":\"white\",\"startlinecolor\":\"#2a3f5f\"},\"baxis\":{\"endlinecolor\":\"#2a3f5f\",\"gridcolor\":\"white\",\"linecolor\":\"white\",\"minorgridcolor\":\"white\",\"startlinecolor\":\"#2a3f5f\"},\"type\":\"carpet\"}],\"table\":[{\"cells\":{\"fill\":{\"color\":\"#EBF0F8\"},\"line\":{\"color\":\"white\"}},\"header\":{\"fill\":{\"color\":\"#C8D4E3\"},\"line\":{\"color\":\"white\"}},\"type\":\"table\"}],\"barpolar\":[{\"marker\":{\"line\":{\"color\":\"#E5ECF6\",\"width\":0.5},\"pattern\":{\"fillmode\":\"overlay\",\"size\":10,\"solidity\":0.2}},\"type\":\"barpolar\"}],\"pie\":[{\"automargin\":true,\"type\":\"pie\"}]},\"layout\":{\"autotypenumbers\":\"strict\",\"colorway\":[\"#636efa\",\"#EF553B\",\"#00cc96\",\"#ab63fa\",\"#FFA15A\",\"#19d3f3\",\"#FF6692\",\"#B6E880\",\"#FF97FF\",\"#FECB52\"],\"font\":{\"color\":\"#2a3f5f\"},\"hovermode\":\"closest\",\"hoverlabel\":{\"align\":\"left\"},\"paper_bgcolor\":\"white\",\"plot_bgcolor\":\"#E5ECF6\",\"polar\":{\"bgcolor\":\"#E5ECF6\",\"angularaxis\":{\"gridcolor\":\"white\",\"linecolor\":\"white\",\"ticks\":\"\"},\"radialaxis\":{\"gridcolor\":\"white\",\"linecolor\":\"white\",\"ticks\":\"\"}},\"ternary\":{\"bgcolor\":\"#E5ECF6\",\"aaxis\":{\"gridcolor\":\"white\",\"linecolor\":\"white\",\"ticks\":\"\"},\"baxis\":{\"gridcolor\":\"white\",\"linecolor\":\"white\",\"ticks\":\"\"},\"caxis\":{\"gridcolor\":\"white\",\"linecolor\":\"white\",\"ticks\":\"\"}},\"coloraxis\":{\"colorbar\":{\"outlinewidth\":0,\"ticks\":\"\"}},\"colorscale\":{\"sequential\":[[0.0,\"#0d0887\"],[0.1111111111111111,\"#46039f\"],[0.2222222222222222,\"#7201a8\"],[0.3333333333333333,\"#9c179e\"],[0.4444444444444444,\"#bd3786\"],[0.5555555555555556,\"#d8576b\"],[0.6666666666666666,\"#ed7953\"],[0.7777777777777778,\"#fb9f3a\"],[0.8888888888888888,\"#fdca26\"],[1.0,\"#f0f921\"]],\"sequentialminus\":[[0.0,\"#0d0887\"],[0.1111111111111111,\"#46039f\"],[0.2222222222222222,\"#7201a8\"],[0.3333333333333333,\"#9c179e\"],[0.4444444444444444,\"#bd3786\"],[0.5555555555555556,\"#d8576b\"],[0.6666666666666666,\"#ed7953\"],[0.7777777777777778,\"#fb9f3a\"],[0.8888888888888888,\"#fdca26\"],[1.0,\"#f0f921\"]],\"diverging\":[[0,\"#8e0152\"],[0.1,\"#c51b7d\"],[0.2,\"#de77ae\"],[0.3,\"#f1b6da\"],[0.4,\"#fde0ef\"],[0.5,\"#f7f7f7\"],[0.6,\"#e6f5d0\"],[0.7,\"#b8e186\"],[0.8,\"#7fbc41\"],[0.9,\"#4d9221\"],[1,\"#276419\"]]},\"xaxis\":{\"gridcolor\":\"white\",\"linecolor\":\"white\",\"ticks\":\"\",\"title\":{\"standoff\":15},\"zerolinecolor\":\"white\",\"automargin\":true,\"zerolinewidth\":2},\"yaxis\":{\"gridcolor\":\"white\",\"linecolor\":\"white\",\"ticks\":\"\",\"title\":{\"standoff\":15},\"zerolinecolor\":\"white\",\"automargin\":true,\"zerolinewidth\":2},\"scene\":{\"xaxis\":{\"backgroundcolor\":\"#E5ECF6\",\"gridcolor\":\"white\",\"linecolor\":\"white\",\"showbackground\":true,\"ticks\":\"\",\"zerolinecolor\":\"white\",\"gridwidth\":2},\"yaxis\":{\"backgroundcolor\":\"#E5ECF6\",\"gridcolor\":\"white\",\"linecolor\":\"white\",\"showbackground\":true,\"ticks\":\"\",\"zerolinecolor\":\"white\",\"gridwidth\":2},\"zaxis\":{\"backgroundcolor\":\"#E5ECF6\",\"gridcolor\":\"white\",\"linecolor\":\"white\",\"showbackground\":true,\"ticks\":\"\",\"zerolinecolor\":\"white\",\"gridwidth\":2}},\"shapedefaults\":{\"line\":{\"color\":\"#2a3f5f\"}},\"annotationdefaults\":{\"arrowcolor\":\"#2a3f5f\",\"arrowhead\":0,\"arrowwidth\":1},\"geo\":{\"bgcolor\":\"white\",\"landcolor\":\"#E5ECF6\",\"subunitcolor\":\"white\",\"showland\":true,\"showlakes\":true,\"lakecolor\":\"white\"},\"title\":{\"x\":0.05},\"mapbox\":{\"style\":\"light\"}}},\"xaxis\":{\"anchor\":\"y\",\"domain\":[0.0,1.0],\"title\":{\"text\":\"Horizonte de Predicción (Meses)\"}},\"yaxis\":{\"anchor\":\"x\",\"domain\":[0.0,1.0],\"title\":{\"text\":\"Media de Error Absoluto\"}},\"legend\":{\"tracegroupgap\":0},\"title\":{\"text\":\"Media de Error Absoluto para Pepsi Regular (L3) por Horizonte de Predicción\"},\"barmode\":\"relative\"},                        {\"responsive\": true}                    ).then(function(){\n",
              "                            \n",
              "var gd = document.getElementById('a91e5953-1cba-4870-91be-d12a4f12c2e1');\n",
              "var x = new MutationObserver(function (mutations, observer) {{\n",
              "        var display = window.getComputedStyle(gd).display;\n",
              "        if (!display || display === 'none') {{\n",
              "            console.log([gd, 'removed!']);\n",
              "            Plotly.purge(gd);\n",
              "            observer.disconnect();\n",
              "        }}\n",
              "}});\n",
              "\n",
              "// Listen for the removal of the full notebook cells\n",
              "var notebookContainer = gd.closest('#notebook-container');\n",
              "if (notebookContainer) {{\n",
              "    x.observe(notebookContainer, {childList: true});\n",
              "}}\n",
              "\n",
              "// Listen for the clearing of the current output cell\n",
              "var outputEl = gd.closest('.output');\n",
              "if (outputEl) {{\n",
              "    x.observe(outputEl, {childList: true});\n",
              "}}\n",
              "\n",
              "                        })                };                            </script>        </div>\n",
              "</body>\n",
              "</html>"
            ]
          },
          "metadata": {}
        }
      ]
    },
    {
      "cell_type": "code",
      "source": [
        "graficar_serie_temporal(merged_df, 'Pepsi Regular (L3)', [0, 2, 9, 12])"
      ],
      "metadata": {
        "colab": {
          "base_uri": "https://localhost:8080/",
          "height": 542
        },
        "id": "n3iihZ2xrImy",
        "outputId": "1586a681-2751-4501-8f4b-c7c4d40e5abf"
      },
      "execution_count": 534,
      "outputs": [
        {
          "output_type": "display_data",
          "data": {
            "text/html": [
              "<html>\n",
              "<head><meta charset=\"utf-8\" /></head>\n",
              "<body>\n",
              "    <div>            <script src=\"https://cdnjs.cloudflare.com/ajax/libs/mathjax/2.7.5/MathJax.js?config=TeX-AMS-MML_SVG\"></script><script type=\"text/javascript\">if (window.MathJax && window.MathJax.Hub && window.MathJax.Hub.Config) {window.MathJax.Hub.Config({SVG: {font: \"STIX-Web\"}});}</script>                <script type=\"text/javascript\">window.PlotlyConfig = {MathJaxConfig: 'local'};</script>\n",
              "        <script charset=\"utf-8\" src=\"https://cdn.plot.ly/plotly-2.35.2.min.js\"></script>                <div id=\"29546293-dc96-445e-9540-8572c6e94b29\" class=\"plotly-graph-div\" style=\"height:525px; width:100%;\"></div>            <script type=\"text/javascript\">                                    window.PLOTLYENV=window.PLOTLYENV || {};                                    if (document.getElementById(\"29546293-dc96-445e-9540-8572c6e94b29\")) {                    Plotly.newPlot(                        \"29546293-dc96-445e-9540-8572c6e94b29\",                        [{\"line\":{\"width\":2},\"mode\":\"lines\",\"name\":\"Predicción: Diferencia - 0.0 meses)\",\"visible\":true,\"x\":[\"2023-01-01T00:00:00\",\"2023-02-01T00:00:00\",\"2023-03-01T00:00:00\",\"2023-04-01T00:00:00\",\"2023-05-01T00:00:00\",\"2023-06-01T00:00:00\",\"2023-07-01T00:00:00\",\"2023-08-01T00:00:00\",\"2023-09-01T00:00:00\",\"2023-10-01T00:00:00\",\"2023-11-01T00:00:00\",\"2023-12-01T00:00:00\"],\"y\":[108418.89166220822,95476.2233336438,84815.15440841833,94553.97002010053,100491.57359560754,135584.0516406678,168509.00390179298,178026.80039428885,147539.27680762127,146808.10261300387,137441.232786187,139377.37856574228],\"type\":\"scatter\"},{\"line\":{\"width\":2},\"mode\":\"lines\",\"name\":\"Predicción: Diferencia - 1.0 meses)\",\"visible\":\"legendonly\",\"x\":[\"2023-02-01T00:00:00\",\"2023-03-01T00:00:00\",\"2023-04-01T00:00:00\",\"2023-05-01T00:00:00\",\"2023-06-01T00:00:00\",\"2023-07-01T00:00:00\",\"2023-08-01T00:00:00\",\"2023-09-01T00:00:00\",\"2023-10-01T00:00:00\",\"2023-11-01T00:00:00\",\"2023-12-01T00:00:00\",\"2024-01-01T00:00:00\"],\"y\":[100841.7178485865,107155.80366038806,75737.23856630013,94624.51329488649,126042.63209700161,168019.44429510485,178184.25914007332,143307.10565479923,147257.5315210383,131264.14682059555,147530.8259308499,117601.65804480435],\"type\":\"scatter\"},{\"line\":{\"width\":2},\"mode\":\"lines\",\"name\":\"Predicción: Diferencia - 2.0 meses)\",\"visible\":true,\"x\":[\"2023-03-01T00:00:00\",\"2023-04-01T00:00:00\",\"2023-05-01T00:00:00\",\"2023-06-01T00:00:00\",\"2023-07-01T00:00:00\",\"2023-08-01T00:00:00\",\"2023-09-01T00:00:00\",\"2023-10-01T00:00:00\",\"2023-11-01T00:00:00\",\"2023-12-01T00:00:00\",\"2024-01-01T00:00:00\",\"2024-02-01T00:00:00\"],\"y\":[113240.73953562652,102947.42810776824,74261.75156943465,121227.07794880327,155084.0560930155,181252.74749407722,147646.92963691932,146558.61996405674,133802.2907963735,138264.696177484,126990.06896286162,114791.84596135817],\"type\":\"scatter\"},{\"line\":{\"width\":2},\"mode\":\"lines\",\"name\":\"Predicción: Diferencia - 3.0 meses)\",\"visible\":\"legendonly\",\"x\":[\"2023-04-01T00:00:00\",\"2023-05-01T00:00:00\",\"2023-06-01T00:00:00\",\"2023-07-01T00:00:00\",\"2023-08-01T00:00:00\",\"2023-09-01T00:00:00\",\"2023-10-01T00:00:00\",\"2023-11-01T00:00:00\",\"2023-12-01T00:00:00\",\"2024-01-01T00:00:00\",\"2024-02-01T00:00:00\",\"2024-03-01T00:00:00\"],\"y\":[108566.23580948295,101800.83710099108,85978.48449420542,151577.41476119822,166472.225195681,150399.3231750631,146181.77263427523,129727.22057745227,139695.57161223746,114285.59496269333,122753.96224843134,144101.97726599695],\"type\":\"scatter\"},{\"line\":{\"width\":2},\"mode\":\"lines\",\"name\":\"Predicción: Diferencia - 4.0 meses)\",\"visible\":\"legendonly\",\"x\":[\"2023-05-01T00:00:00\",\"2023-06-01T00:00:00\",\"2023-07-01T00:00:00\",\"2023-08-01T00:00:00\",\"2023-09-01T00:00:00\",\"2023-10-01T00:00:00\",\"2023-11-01T00:00:00\",\"2023-12-01T00:00:00\",\"2024-01-01T00:00:00\",\"2024-02-01T00:00:00\",\"2024-03-01T00:00:00\",\"2024-04-01T00:00:00\"],\"y\":[107417.55331794314,121714.95351400292,118181.32591253416,161889.49188235382,133006.9334820292,150195.28734334218,129737.33660247408,136528.7526314927,117815.263800133,116183.36002478223,151598.01884074882,128955.57340077532],\"type\":\"scatter\"},{\"line\":{\"width\":2},\"mode\":\"lines\",\"name\":\"Predicción: Diferencia - 5.0 meses)\",\"visible\":\"legendonly\",\"x\":[\"2023-06-01T00:00:00\",\"2023-07-01T00:00:00\",\"2023-08-01T00:00:00\",\"2023-09-01T00:00:00\",\"2023-10-01T00:00:00\",\"2023-11-01T00:00:00\",\"2023-12-01T00:00:00\",\"2024-01-01T00:00:00\",\"2024-02-01T00:00:00\",\"2024-03-01T00:00:00\",\"2024-04-01T00:00:00\",\"2024-05-01T00:00:00\"],\"y\":[127329.57824619237,151395.16727270224,129754.70791556672,132354.78060123895,132219.06118011917,135922.16019827512,141841.03484933366,111548.69018007109,118625.2193719383,134820.44325845013,142365.0341055781,134420.3033152199],\"type\":\"scatter\"},{\"line\":{\"width\":2},\"mode\":\"lines\",\"name\":\"Predicción: Diferencia - 6.0 meses)\",\"visible\":\"legendonly\",\"x\":[\"2023-07-01T00:00:00\",\"2023-08-01T00:00:00\",\"2023-09-01T00:00:00\",\"2023-10-01T00:00:00\",\"2023-11-01T00:00:00\",\"2023-12-01T00:00:00\",\"2024-01-01T00:00:00\",\"2024-02-01T00:00:00\",\"2024-03-01T00:00:00\",\"2024-04-01T00:00:00\",\"2024-05-01T00:00:00\",\"2024-06-01T00:00:00\"],\"y\":[157633.50215404504,159149.3513748017,95060.313883104,129318.76141890728,120183.93875643176,147151.35239094432,116126.2858982084,116152.71590763591,140426.62064862406,125500.59089597724,146037.80897040738,160882.72283851635],\"type\":\"scatter\"},{\"line\":{\"width\":2},\"mode\":\"lines\",\"name\":\"Predicción: Diferencia - 7.0 meses)\",\"visible\":\"legendonly\",\"x\":[\"2023-08-01T00:00:00\",\"2023-09-01T00:00:00\",\"2023-10-01T00:00:00\",\"2023-11-01T00:00:00\",\"2023-12-01T00:00:00\",\"2024-01-01T00:00:00\",\"2024-02-01T00:00:00\",\"2024-03-01T00:00:00\",\"2024-04-01T00:00:00\",\"2024-05-01T00:00:00\",\"2024-06-01T00:00:00\",\"2024-07-01T00:00:00\"],\"y\":[164759.7931374658,127332.81907467423,94666.73349552178,117487.93216595938,126835.5040166411,121028.58450643688,118327.86422178766,132921.9273919271,135397.5780549642,126197.62640928973,177091.76823062892,200121.63812602498],\"type\":\"scatter\"},{\"line\":{\"width\":2},\"mode\":\"lines\",\"name\":\"Predicción: Diferencia - 8.0 meses)\",\"visible\":\"legendonly\",\"x\":[\"2023-09-01T00:00:00\",\"2023-10-01T00:00:00\",\"2023-11-01T00:00:00\",\"2023-12-01T00:00:00\",\"2024-01-01T00:00:00\",\"2024-02-01T00:00:00\",\"2024-03-01T00:00:00\",\"2024-04-01T00:00:00\",\"2024-05-01T00:00:00\",\"2024-06-01T00:00:00\",\"2024-07-01T00:00:00\",\"2024-08-01T00:00:00\"],\"y\":[132941.16935257564,128302.0001560436,80888.62244405478,126678.43221820034,100415.33607068712,124712.36402131477,135731.68800742336,126617.85337705497,136942.96101125263,151426.52334629837,221603.70000989444,215751.058713653],\"type\":\"scatter\"},{\"line\":{\"width\":2},\"mode\":\"lines\",\"name\":\"Predicción: Diferencia - 9.0 meses)\",\"visible\":true,\"x\":[\"2023-10-01T00:00:00\",\"2023-11-01T00:00:00\",\"2023-12-01T00:00:00\",\"2024-01-01T00:00:00\",\"2024-02-01T00:00:00\",\"2024-03-01T00:00:00\",\"2024-04-01T00:00:00\",\"2024-05-01T00:00:00\",\"2024-06-01T00:00:00\",\"2024-07-01T00:00:00\",\"2024-08-01T00:00:00\"],\"y\":[133908.25894918235,111241.31612194394,89333.26867894533,100256.86845857982,101377.30447607947,144730.1481969802,131388.9426818347,125358.22057240161,168097.1715887589,193206.99267441977,238326.72318997464],\"type\":\"scatter\"},{\"line\":{\"width\":2},\"mode\":\"lines\",\"name\":\"Predicción: Diferencia - 10.0 meses)\",\"visible\":\"legendonly\",\"x\":[\"2023-11-01T00:00:00\",\"2023-12-01T00:00:00\",\"2024-01-01T00:00:00\",\"2024-02-01T00:00:00\",\"2024-03-01T00:00:00\",\"2024-04-01T00:00:00\",\"2024-05-01T00:00:00\",\"2024-06-01T00:00:00\",\"2024-07-01T00:00:00\",\"2024-08-01T00:00:00\"],\"y\":[116845.48343032002,117952.1311004781,71919.66062654187,104844.95588339504,119398.7004583371,137676.8007909583,129692.05299736116,153207.75833845776,209269.33519350804,204422.60640005852],\"type\":\"scatter\"},{\"line\":{\"width\":2},\"mode\":\"lines\",\"name\":\"Predicción: Diferencia - 11.0 meses)\",\"visible\":\"legendonly\",\"x\":[\"2023-12-01T00:00:00\",\"2024-01-01T00:00:00\",\"2024-02-01T00:00:00\",\"2024-03-01T00:00:00\",\"2024-04-01T00:00:00\",\"2024-05-01T00:00:00\",\"2024-06-01T00:00:00\",\"2024-07-01T00:00:00\",\"2024-08-01T00:00:00\"],\"y\":[123554.20692409152,102832.19633824522,72168.24108429051,123151.38815583238,114202.648388399,136650.57570581112,158981.8646216454,197232.3615310127,226596.82622152768],\"type\":\"scatter\"},{\"line\":{\"width\":2},\"mode\":\"lines\",\"name\":\"Predicción: Diferencia - 12.0 meses)\",\"visible\":true,\"x\":[\"2024-01-01T00:00:00\",\"2024-02-01T00:00:00\",\"2024-03-01T00:00:00\",\"2024-04-01T00:00:00\",\"2024-05-01T00:00:00\",\"2024-06-01T00:00:00\",\"2024-07-01T00:00:00\",\"2024-08-01T00:00:00\"],\"y\":[108432.18067709598,101108.17453671328,85734.02196926247,117717.29876408924,113336.32737586374,168813.50603398486,202827.78573217706,210277.14825766403],\"type\":\"scatter\"},{\"line\":{\"width\":2},\"mode\":\"lines\",\"name\":\"Predicción: Diferencia - 13.0 meses)\",\"visible\":\"legendonly\",\"x\":[\"2024-02-01T00:00:00\",\"2024-03-01T00:00:00\",\"2024-04-01T00:00:00\",\"2024-05-01T00:00:00\",\"2024-06-01T00:00:00\",\"2024-07-01T00:00:00\",\"2024-08-01T00:00:00\"],\"y\":[106706.06739080136,113509.28770851596,80260.30501423625,118519.30442766286,143982.684971947,214984.14032744244,213219.7762740797],\"type\":\"scatter\"},{\"line\":{\"width\":2},\"mode\":\"lines\",\"name\":\"Predicción: Diferencia - 14.0 meses)\",\"visible\":\"legendonly\",\"x\":[\"2024-03-01T00:00:00\",\"2024-04-01T00:00:00\",\"2024-05-01T00:00:00\",\"2024-06-01T00:00:00\",\"2024-07-01T00:00:00\",\"2024-08-01T00:00:00\"],\"y\":[119105.0890778414,107359.83687562804,74280.55117647725,148798.69080869874,184819.27871743837,227722.28687269904],\"type\":\"scatter\"},{\"line\":{\"width\":2},\"mode\":\"lines\",\"name\":\"Predicción: Diferencia - 15.0 meses)\",\"visible\":\"legendonly\",\"x\":[\"2024-04-01T00:00:00\",\"2024-05-01T00:00:00\",\"2024-06-01T00:00:00\",\"2024-07-01T00:00:00\",\"2024-08-01T00:00:00\"],\"y\":[112953.5467601908,106213.24586885088,93654.5888333544,188293.4379091418,202654.63695022042],\"type\":\"scatter\"},{\"line\":{\"width\":2},\"mode\":\"lines\",\"name\":\"Predicción: Diferencia - 16.0 meses)\",\"visible\":\"legendonly\",\"x\":[\"2024-05-01T00:00:00\",\"2024-06-01T00:00:00\",\"2024-07-01T00:00:00\",\"2024-08-01T00:00:00\"],\"y\":[111804.86426865098,126127.36228186272,122650.84089384114,202393.59027171662],\"type\":\"scatter\"},{\"line\":{\"width\":2},\"mode\":\"lines\",\"name\":\"Predicción: Diferencia - 17.0 meses)\",\"visible\":\"legendonly\",\"x\":[\"2024-06-01T00:00:00\",\"2024-07-01T00:00:00\",\"2024-08-01T00:00:00\"],\"y\":[131716.8891969002,155807.57604056204,133480.54415414296],\"type\":\"scatter\"},{\"line\":{\"color\":\"red\",\"width\":3},\"mode\":\"lines\",\"name\":\"Valor Real\",\"visible\":true,\"x\":[\"2023-01-01T00:00:00\",\"2023-02-01T00:00:00\",\"2023-02-01T00:00:00\",\"2023-03-01T00:00:00\",\"2023-03-01T00:00:00\",\"2023-03-01T00:00:00\",\"2023-04-01T00:00:00\",\"2023-04-01T00:00:00\",\"2023-04-01T00:00:00\",\"2023-04-01T00:00:00\",\"2023-05-01T00:00:00\",\"2023-05-01T00:00:00\",\"2023-05-01T00:00:00\",\"2023-05-01T00:00:00\",\"2023-05-01T00:00:00\",\"2023-06-01T00:00:00\",\"2023-06-01T00:00:00\",\"2023-06-01T00:00:00\",\"2023-06-01T00:00:00\",\"2023-06-01T00:00:00\",\"2023-06-01T00:00:00\",\"2023-07-01T00:00:00\",\"2023-07-01T00:00:00\",\"2023-07-01T00:00:00\",\"2023-07-01T00:00:00\",\"2023-07-01T00:00:00\",\"2023-07-01T00:00:00\",\"2023-07-01T00:00:00\",\"2023-08-01T00:00:00\",\"2023-08-01T00:00:00\",\"2023-08-01T00:00:00\",\"2023-08-01T00:00:00\",\"2023-08-01T00:00:00\",\"2023-08-01T00:00:00\",\"2023-08-01T00:00:00\",\"2023-08-01T00:00:00\",\"2023-09-01T00:00:00\",\"2023-09-01T00:00:00\",\"2023-09-01T00:00:00\",\"2023-09-01T00:00:00\",\"2023-09-01T00:00:00\",\"2023-09-01T00:00:00\",\"2023-09-01T00:00:00\",\"2023-09-01T00:00:00\",\"2023-09-01T00:00:00\",\"2023-10-01T00:00:00\",\"2023-10-01T00:00:00\",\"2023-10-01T00:00:00\",\"2023-10-01T00:00:00\",\"2023-10-01T00:00:00\",\"2023-10-01T00:00:00\",\"2023-10-01T00:00:00\",\"2023-10-01T00:00:00\",\"2023-10-01T00:00:00\",\"2023-10-01T00:00:00\",\"2023-11-01T00:00:00\",\"2023-11-01T00:00:00\",\"2023-11-01T00:00:00\",\"2023-11-01T00:00:00\",\"2023-11-01T00:00:00\",\"2023-11-01T00:00:00\",\"2023-11-01T00:00:00\",\"2023-11-01T00:00:00\",\"2023-11-01T00:00:00\",\"2023-11-01T00:00:00\",\"2023-11-01T00:00:00\",\"2023-12-01T00:00:00\",\"2023-12-01T00:00:00\",\"2023-12-01T00:00:00\",\"2023-12-01T00:00:00\",\"2023-12-01T00:00:00\",\"2023-12-01T00:00:00\",\"2023-12-01T00:00:00\",\"2023-12-01T00:00:00\",\"2023-12-01T00:00:00\",\"2023-12-01T00:00:00\",\"2023-12-01T00:00:00\",\"2023-12-01T00:00:00\",\"2024-01-01T00:00:00\",\"2024-01-01T00:00:00\",\"2024-01-01T00:00:00\",\"2024-01-01T00:00:00\",\"2024-01-01T00:00:00\",\"2024-01-01T00:00:00\",\"2024-01-01T00:00:00\",\"2024-01-01T00:00:00\",\"2024-01-01T00:00:00\",\"2024-01-01T00:00:00\",\"2024-01-01T00:00:00\",\"2024-01-01T00:00:00\",\"2024-02-01T00:00:00\",\"2024-02-01T00:00:00\",\"2024-02-01T00:00:00\",\"2024-02-01T00:00:00\",\"2024-02-01T00:00:00\",\"2024-02-01T00:00:00\",\"2024-02-01T00:00:00\",\"2024-02-01T00:00:00\",\"2024-02-01T00:00:00\",\"2024-02-01T00:00:00\",\"2024-02-01T00:00:00\",\"2024-02-01T00:00:00\",\"2024-03-01T00:00:00\",\"2024-03-01T00:00:00\",\"2024-03-01T00:00:00\",\"2024-03-01T00:00:00\",\"2024-03-01T00:00:00\",\"2024-03-01T00:00:00\",\"2024-03-01T00:00:00\",\"2024-03-01T00:00:00\",\"2024-03-01T00:00:00\",\"2024-03-01T00:00:00\",\"2024-03-01T00:00:00\",\"2024-03-01T00:00:00\",\"2024-04-01T00:00:00\",\"2024-04-01T00:00:00\",\"2024-04-01T00:00:00\",\"2024-04-01T00:00:00\",\"2024-04-01T00:00:00\",\"2024-04-01T00:00:00\",\"2024-04-01T00:00:00\",\"2024-04-01T00:00:00\",\"2024-04-01T00:00:00\",\"2024-04-01T00:00:00\",\"2024-04-01T00:00:00\",\"2024-04-01T00:00:00\",\"2024-05-01T00:00:00\",\"2024-05-01T00:00:00\",\"2024-05-01T00:00:00\",\"2024-05-01T00:00:00\",\"2024-05-01T00:00:00\",\"2024-05-01T00:00:00\",\"2024-05-01T00:00:00\",\"2024-05-01T00:00:00\",\"2024-05-01T00:00:00\",\"2024-05-01T00:00:00\",\"2024-05-01T00:00:00\",\"2024-05-01T00:00:00\",\"2024-06-01T00:00:00\",\"2024-06-01T00:00:00\",\"2024-06-01T00:00:00\",\"2024-06-01T00:00:00\",\"2024-06-01T00:00:00\",\"2024-06-01T00:00:00\",\"2024-06-01T00:00:00\",\"2024-06-01T00:00:00\",\"2024-06-01T00:00:00\",\"2024-06-01T00:00:00\",\"2024-06-01T00:00:00\",\"2024-06-01T00:00:00\",\"2024-07-01T00:00:00\",\"2024-07-01T00:00:00\",\"2024-07-01T00:00:00\",\"2024-07-01T00:00:00\",\"2024-07-01T00:00:00\",\"2024-07-01T00:00:00\",\"2024-07-01T00:00:00\",\"2024-07-01T00:00:00\",\"2024-07-01T00:00:00\",\"2024-07-01T00:00:00\",\"2024-07-01T00:00:00\",\"2024-08-01T00:00:00\",\"2024-08-01T00:00:00\",\"2024-08-01T00:00:00\",\"2024-08-01T00:00:00\",\"2024-08-01T00:00:00\",\"2024-08-01T00:00:00\",\"2024-08-01T00:00:00\",\"2024-08-01T00:00:00\",\"2024-08-01T00:00:00\",\"2024-08-01T00:00:00\"],\"y\":[99292.75887089389,85035.20179214247,85035.20179214247,122439.03679157892,122439.03679157892,122439.03679157892,99838.51406116813,99838.51406116813,99838.51406116813,99838.51406116813,115891.54759145631,115891.54759145631,115891.54759145631,115891.54759145631,115891.54759145631,143831.89772037225,143831.89772037225,143831.89772037225,143831.89772037225,143831.89772037225,143831.89772037225,162071.55519256374,162071.55519256374,162071.55519256374,162071.55519256374,162071.55519256374,162071.55519256374,162071.55519256374,186616.62295196296,186616.62295196296,186616.62295196296,186616.62295196296,186616.62295196296,186616.62295196296,186616.62295196296,186616.62295196296,140729.30844064584,140729.30844064584,140729.30844064584,140729.30844064584,140729.30844064584,140729.30844064584,140729.30844064584,140729.30844064584,140729.30844064584,151523.86577670075,151523.86577670075,151523.86577670075,151523.86577670075,151523.86577670075,151523.86577670075,151523.86577670075,151523.86577670075,151523.86577670075,151523.86577670075,123046.45431128611,123046.45431128611,123046.45431128611,123046.45431128611,123046.45431128611,123046.45431128611,123046.45431128611,123046.45431128611,123046.45431128611,123046.45431128611,123046.45431128611,115494.26762467154,115494.26762467154,115494.26762467154,115494.26762467154,115494.26762467154,115494.26762467154,115494.26762467154,115494.26762467154,115494.26762467154,115494.26762467154,115494.26762467154,115494.26762467154,113340.61179034613,113340.61179034613,113340.61179034613,113340.61179034613,113340.61179034613,113340.61179034613,113340.61179034613,113340.61179034613,113340.61179034613,113340.61179034613,113340.61179034613,113340.61179034613,108317.83149722092,108317.83149722092,108317.83149722092,108317.83149722092,108317.83149722092,108317.83149722092,108317.83149722092,108317.83149722092,108317.83149722092,108317.83149722092,108317.83149722092,108317.83149722092,100264.4079378386,100264.4079378386,100264.4079378386,100264.4079378386,100264.4079378386,100264.4079378386,100264.4079378386,100264.4079378386,100264.4079378386,100264.4079378386,100264.4079378386,100264.4079378386,115596.74681056407,115596.74681056407,115596.74681056407,115596.74681056407,115596.74681056407,115596.74681056407,115596.74681056407,115596.74681056407,115596.74681056407,115596.74681056407,115596.74681056407,115596.74681056407,111719.09364367,111719.09364367,111719.09364367,111719.09364367,111719.09364367,111719.09364367,111719.09364367,111719.09364367,111719.09364367,111719.09364367,111719.09364367,111719.09364367,130166.523426768,130166.523426768,130166.523426768,130166.523426768,130166.523426768,130166.523426768,130166.523426768,130166.523426768,130166.523426768,130166.523426768,130166.523426768,130166.523426768,165327.090656767,165327.090656767,165327.090656767,165327.090656767,165327.090656767,165327.090656767,165327.090656767,165327.090656767,165327.090656767,165327.090656767,165327.090656767,173370.457123134,173370.457123134,173370.457123134,173370.457123134,173370.457123134,173370.457123134,173370.457123134,173370.457123134,173370.457123134,173370.457123134],\"type\":\"scatter\"}],                        {\"template\":{\"data\":{\"histogram2dcontour\":[{\"type\":\"histogram2dcontour\",\"colorbar\":{\"outlinewidth\":0,\"ticks\":\"\"},\"colorscale\":[[0.0,\"#0d0887\"],[0.1111111111111111,\"#46039f\"],[0.2222222222222222,\"#7201a8\"],[0.3333333333333333,\"#9c179e\"],[0.4444444444444444,\"#bd3786\"],[0.5555555555555556,\"#d8576b\"],[0.6666666666666666,\"#ed7953\"],[0.7777777777777778,\"#fb9f3a\"],[0.8888888888888888,\"#fdca26\"],[1.0,\"#f0f921\"]]}],\"choropleth\":[{\"type\":\"choropleth\",\"colorbar\":{\"outlinewidth\":0,\"ticks\":\"\"}}],\"histogram2d\":[{\"type\":\"histogram2d\",\"colorbar\":{\"outlinewidth\":0,\"ticks\":\"\"},\"colorscale\":[[0.0,\"#0d0887\"],[0.1111111111111111,\"#46039f\"],[0.2222222222222222,\"#7201a8\"],[0.3333333333333333,\"#9c179e\"],[0.4444444444444444,\"#bd3786\"],[0.5555555555555556,\"#d8576b\"],[0.6666666666666666,\"#ed7953\"],[0.7777777777777778,\"#fb9f3a\"],[0.8888888888888888,\"#fdca26\"],[1.0,\"#f0f921\"]]}],\"heatmap\":[{\"type\":\"heatmap\",\"colorbar\":{\"outlinewidth\":0,\"ticks\":\"\"},\"colorscale\":[[0.0,\"#0d0887\"],[0.1111111111111111,\"#46039f\"],[0.2222222222222222,\"#7201a8\"],[0.3333333333333333,\"#9c179e\"],[0.4444444444444444,\"#bd3786\"],[0.5555555555555556,\"#d8576b\"],[0.6666666666666666,\"#ed7953\"],[0.7777777777777778,\"#fb9f3a\"],[0.8888888888888888,\"#fdca26\"],[1.0,\"#f0f921\"]]}],\"heatmapgl\":[{\"type\":\"heatmapgl\",\"colorbar\":{\"outlinewidth\":0,\"ticks\":\"\"},\"colorscale\":[[0.0,\"#0d0887\"],[0.1111111111111111,\"#46039f\"],[0.2222222222222222,\"#7201a8\"],[0.3333333333333333,\"#9c179e\"],[0.4444444444444444,\"#bd3786\"],[0.5555555555555556,\"#d8576b\"],[0.6666666666666666,\"#ed7953\"],[0.7777777777777778,\"#fb9f3a\"],[0.8888888888888888,\"#fdca26\"],[1.0,\"#f0f921\"]]}],\"contourcarpet\":[{\"type\":\"contourcarpet\",\"colorbar\":{\"outlinewidth\":0,\"ticks\":\"\"}}],\"contour\":[{\"type\":\"contour\",\"colorbar\":{\"outlinewidth\":0,\"ticks\":\"\"},\"colorscale\":[[0.0,\"#0d0887\"],[0.1111111111111111,\"#46039f\"],[0.2222222222222222,\"#7201a8\"],[0.3333333333333333,\"#9c179e\"],[0.4444444444444444,\"#bd3786\"],[0.5555555555555556,\"#d8576b\"],[0.6666666666666666,\"#ed7953\"],[0.7777777777777778,\"#fb9f3a\"],[0.8888888888888888,\"#fdca26\"],[1.0,\"#f0f921\"]]}],\"surface\":[{\"type\":\"surface\",\"colorbar\":{\"outlinewidth\":0,\"ticks\":\"\"},\"colorscale\":[[0.0,\"#0d0887\"],[0.1111111111111111,\"#46039f\"],[0.2222222222222222,\"#7201a8\"],[0.3333333333333333,\"#9c179e\"],[0.4444444444444444,\"#bd3786\"],[0.5555555555555556,\"#d8576b\"],[0.6666666666666666,\"#ed7953\"],[0.7777777777777778,\"#fb9f3a\"],[0.8888888888888888,\"#fdca26\"],[1.0,\"#f0f921\"]]}],\"mesh3d\":[{\"type\":\"mesh3d\",\"colorbar\":{\"outlinewidth\":0,\"ticks\":\"\"}}],\"scatter\":[{\"fillpattern\":{\"fillmode\":\"overlay\",\"size\":10,\"solidity\":0.2},\"type\":\"scatter\"}],\"parcoords\":[{\"type\":\"parcoords\",\"line\":{\"colorbar\":{\"outlinewidth\":0,\"ticks\":\"\"}}}],\"scatterpolargl\":[{\"type\":\"scatterpolargl\",\"marker\":{\"colorbar\":{\"outlinewidth\":0,\"ticks\":\"\"}}}],\"bar\":[{\"error_x\":{\"color\":\"#2a3f5f\"},\"error_y\":{\"color\":\"#2a3f5f\"},\"marker\":{\"line\":{\"color\":\"#E5ECF6\",\"width\":0.5},\"pattern\":{\"fillmode\":\"overlay\",\"size\":10,\"solidity\":0.2}},\"type\":\"bar\"}],\"scattergeo\":[{\"type\":\"scattergeo\",\"marker\":{\"colorbar\":{\"outlinewidth\":0,\"ticks\":\"\"}}}],\"scatterpolar\":[{\"type\":\"scatterpolar\",\"marker\":{\"colorbar\":{\"outlinewidth\":0,\"ticks\":\"\"}}}],\"histogram\":[{\"marker\":{\"pattern\":{\"fillmode\":\"overlay\",\"size\":10,\"solidity\":0.2}},\"type\":\"histogram\"}],\"scattergl\":[{\"type\":\"scattergl\",\"marker\":{\"colorbar\":{\"outlinewidth\":0,\"ticks\":\"\"}}}],\"scatter3d\":[{\"type\":\"scatter3d\",\"line\":{\"colorbar\":{\"outlinewidth\":0,\"ticks\":\"\"}},\"marker\":{\"colorbar\":{\"outlinewidth\":0,\"ticks\":\"\"}}}],\"scattermapbox\":[{\"type\":\"scattermapbox\",\"marker\":{\"colorbar\":{\"outlinewidth\":0,\"ticks\":\"\"}}}],\"scatterternary\":[{\"type\":\"scatterternary\",\"marker\":{\"colorbar\":{\"outlinewidth\":0,\"ticks\":\"\"}}}],\"scattercarpet\":[{\"type\":\"scattercarpet\",\"marker\":{\"colorbar\":{\"outlinewidth\":0,\"ticks\":\"\"}}}],\"carpet\":[{\"aaxis\":{\"endlinecolor\":\"#2a3f5f\",\"gridcolor\":\"white\",\"linecolor\":\"white\",\"minorgridcolor\":\"white\",\"startlinecolor\":\"#2a3f5f\"},\"baxis\":{\"endlinecolor\":\"#2a3f5f\",\"gridcolor\":\"white\",\"linecolor\":\"white\",\"minorgridcolor\":\"white\",\"startlinecolor\":\"#2a3f5f\"},\"type\":\"carpet\"}],\"table\":[{\"cells\":{\"fill\":{\"color\":\"#EBF0F8\"},\"line\":{\"color\":\"white\"}},\"header\":{\"fill\":{\"color\":\"#C8D4E3\"},\"line\":{\"color\":\"white\"}},\"type\":\"table\"}],\"barpolar\":[{\"marker\":{\"line\":{\"color\":\"#E5ECF6\",\"width\":0.5},\"pattern\":{\"fillmode\":\"overlay\",\"size\":10,\"solidity\":0.2}},\"type\":\"barpolar\"}],\"pie\":[{\"automargin\":true,\"type\":\"pie\"}]},\"layout\":{\"autotypenumbers\":\"strict\",\"colorway\":[\"#636efa\",\"#EF553B\",\"#00cc96\",\"#ab63fa\",\"#FFA15A\",\"#19d3f3\",\"#FF6692\",\"#B6E880\",\"#FF97FF\",\"#FECB52\"],\"font\":{\"color\":\"#2a3f5f\"},\"hovermode\":\"closest\",\"hoverlabel\":{\"align\":\"left\"},\"paper_bgcolor\":\"white\",\"plot_bgcolor\":\"#E5ECF6\",\"polar\":{\"bgcolor\":\"#E5ECF6\",\"angularaxis\":{\"gridcolor\":\"white\",\"linecolor\":\"white\",\"ticks\":\"\"},\"radialaxis\":{\"gridcolor\":\"white\",\"linecolor\":\"white\",\"ticks\":\"\"}},\"ternary\":{\"bgcolor\":\"#E5ECF6\",\"aaxis\":{\"gridcolor\":\"white\",\"linecolor\":\"white\",\"ticks\":\"\"},\"baxis\":{\"gridcolor\":\"white\",\"linecolor\":\"white\",\"ticks\":\"\"},\"caxis\":{\"gridcolor\":\"white\",\"linecolor\":\"white\",\"ticks\":\"\"}},\"coloraxis\":{\"colorbar\":{\"outlinewidth\":0,\"ticks\":\"\"}},\"colorscale\":{\"sequential\":[[0.0,\"#0d0887\"],[0.1111111111111111,\"#46039f\"],[0.2222222222222222,\"#7201a8\"],[0.3333333333333333,\"#9c179e\"],[0.4444444444444444,\"#bd3786\"],[0.5555555555555556,\"#d8576b\"],[0.6666666666666666,\"#ed7953\"],[0.7777777777777778,\"#fb9f3a\"],[0.8888888888888888,\"#fdca26\"],[1.0,\"#f0f921\"]],\"sequentialminus\":[[0.0,\"#0d0887\"],[0.1111111111111111,\"#46039f\"],[0.2222222222222222,\"#7201a8\"],[0.3333333333333333,\"#9c179e\"],[0.4444444444444444,\"#bd3786\"],[0.5555555555555556,\"#d8576b\"],[0.6666666666666666,\"#ed7953\"],[0.7777777777777778,\"#fb9f3a\"],[0.8888888888888888,\"#fdca26\"],[1.0,\"#f0f921\"]],\"diverging\":[[0,\"#8e0152\"],[0.1,\"#c51b7d\"],[0.2,\"#de77ae\"],[0.3,\"#f1b6da\"],[0.4,\"#fde0ef\"],[0.5,\"#f7f7f7\"],[0.6,\"#e6f5d0\"],[0.7,\"#b8e186\"],[0.8,\"#7fbc41\"],[0.9,\"#4d9221\"],[1,\"#276419\"]]},\"xaxis\":{\"gridcolor\":\"white\",\"linecolor\":\"white\",\"ticks\":\"\",\"title\":{\"standoff\":15},\"zerolinecolor\":\"white\",\"automargin\":true,\"zerolinewidth\":2},\"yaxis\":{\"gridcolor\":\"white\",\"linecolor\":\"white\",\"ticks\":\"\",\"title\":{\"standoff\":15},\"zerolinecolor\":\"white\",\"automargin\":true,\"zerolinewidth\":2},\"scene\":{\"xaxis\":{\"backgroundcolor\":\"#E5ECF6\",\"gridcolor\":\"white\",\"linecolor\":\"white\",\"showbackground\":true,\"ticks\":\"\",\"zerolinecolor\":\"white\",\"gridwidth\":2},\"yaxis\":{\"backgroundcolor\":\"#E5ECF6\",\"gridcolor\":\"white\",\"linecolor\":\"white\",\"showbackground\":true,\"ticks\":\"\",\"zerolinecolor\":\"white\",\"gridwidth\":2},\"zaxis\":{\"backgroundcolor\":\"#E5ECF6\",\"gridcolor\":\"white\",\"linecolor\":\"white\",\"showbackground\":true,\"ticks\":\"\",\"zerolinecolor\":\"white\",\"gridwidth\":2}},\"shapedefaults\":{\"line\":{\"color\":\"#2a3f5f\"}},\"annotationdefaults\":{\"arrowcolor\":\"#2a3f5f\",\"arrowhead\":0,\"arrowwidth\":1},\"geo\":{\"bgcolor\":\"white\",\"landcolor\":\"#E5ECF6\",\"subunitcolor\":\"white\",\"showland\":true,\"showlakes\":true,\"lakecolor\":\"white\"},\"title\":{\"x\":0.05},\"mapbox\":{\"style\":\"light\"}}},\"title\":{\"text\":\"Serie temporal Pepsi Regular (L3): Valor Real -vs- Predicciones\\u003cbr\\u003e\\u003csup\\u003eSelecciona las líneas en la leyenda para mostrar u ocultar predicciones según Diferencia_Fechas\\u003c\\u002fsup\\u003e\"},\"xaxis\":{\"title\":{\"text\":\"Fecha\"}},\"yaxis\":{\"title\":{\"text\":\"Ventas\"}}},                        {\"responsive\": true}                    ).then(function(){\n",
              "                            \n",
              "var gd = document.getElementById('29546293-dc96-445e-9540-8572c6e94b29');\n",
              "var x = new MutationObserver(function (mutations, observer) {{\n",
              "        var display = window.getComputedStyle(gd).display;\n",
              "        if (!display || display === 'none') {{\n",
              "            console.log([gd, 'removed!']);\n",
              "            Plotly.purge(gd);\n",
              "            observer.disconnect();\n",
              "        }}\n",
              "}});\n",
              "\n",
              "// Listen for the removal of the full notebook cells\n",
              "var notebookContainer = gd.closest('#notebook-container');\n",
              "if (notebookContainer) {{\n",
              "    x.observe(notebookContainer, {childList: true});\n",
              "}}\n",
              "\n",
              "// Listen for the clearing of the current output cell\n",
              "var outputEl = gd.closest('.output');\n",
              "if (outputEl) {{\n",
              "    x.observe(outputEl, {childList: true});\n",
              "}}\n",
              "\n",
              "                        })                };                            </script>        </div>\n",
              "</body>\n",
              "</html>"
            ]
          },
          "metadata": {}
        }
      ]
    },
    {
      "cell_type": "markdown",
      "source": [
        "**Pepsi Regular**\n",
        "\n",
        "Con Pepsi Regular, las predicciones mejoran con menores diferencias en meses, destacándose la periodicidad de los datos. Observamos que las situaciones en febrero de distintos años son similares, lo que explica por qué un horizonte de 11-12 meses también ofrece buenos resultados al alinearse con el ciclo anual."
      ],
      "metadata": {
        "id": "ahoH_AupNl6R"
      }
    },
    {
      "cell_type": "markdown",
      "source": [
        "#### **Precisión global para España**"
      ],
      "metadata": {
        "id": "1WuruMyfOR1d"
      }
    },
    {
      "cell_type": "markdown",
      "source": [
        "Como los resultados en genral han sido bastante precisos para instancias de tiempo corta, se toma la decisión de evaluar el horizonte 0 para ver cual es la submarca que mejor ha sido prevista con un mes de distancia en término reales."
      ],
      "metadata": {
        "id": "J3Zdo_4qOiD_"
      }
    },
    {
      "cell_type": "code",
      "source": [
        "df_zero_distance = merged_df[merged_df['Diferencia_Fechas'] == 0]\n"
      ],
      "metadata": {
        "id": "POV5Ab2BOcnB"
      },
      "execution_count": 535,
      "outputs": []
    },
    {
      "cell_type": "code",
      "source": [
        "df_spain_act_filtered = df_spain_act[df_spain_act['Fecha'] <= pd.to_datetime('2023-12-01')]"
      ],
      "metadata": {
        "id": "uVMh7an3WDJr"
      },
      "execution_count": 536,
      "outputs": []
    },
    {
      "cell_type": "code",
      "source": [
        "# Calculate mean and standard deviation of AMOUNT for each SUBBRAND in df_spain_act\n",
        "brand_stats = df_spain_act_filtered.groupby('SUBBRAND')['AMOUNT'].agg(['mean', 'std'])\n"
      ],
      "metadata": {
        "id": "fUv5PxY-Pe1E"
      },
      "execution_count": 537,
      "outputs": []
    },
    {
      "cell_type": "code",
      "source": [
        "# Agrupar por 'Diferencia_Fechas' y calcular la desviación estándar y la media de 'Diferencia_amount'\n",
        "std_by_horizon = df_zero_distance.groupby('SUBBRAND')['Diferencia_amount'].agg(sum_abs=lambda x: x.abs().sum(), count='count', min = 'min', max = 'max')\n",
        "\n",
        "# Normalizar la desviación estándar dividiéndola entre la media\n",
        "std_by_horizon['normalized'] = (std_by_horizon['sum_abs'] / std_by_horizon['count'])"
      ],
      "metadata": {
        "id": "dM23oT0JP_5x"
      },
      "execution_count": 538,
      "outputs": []
    },
    {
      "cell_type": "markdown",
      "source": [
        "**Error Absoluto Promedio** (Mean Absolute Error, MAE): Este cálculo es similar al MAE, que se utiliza para evaluar la precisión del modelo en valores absolutos, sin considerar el signo del error.\n",
        "\n",
        "**Interpretación:** Esta métrica indica el promedio de la magnitud del error de predicción para cada horizonte, sin importar si las predicciones son mayores o menores que los valores reales. Es una medida de precisión simple que ayuda a comprender la magnitud del error de manera general."
      ],
      "metadata": {
        "id": "I7r5YtiwUL22"
      }
    },
    {
      "cell_type": "code",
      "source": [
        "std_by_horizon = std_by_horizon.merge(brand_stats, on='SUBBRAND', how='left')\n",
        "\n",
        "# Calcular el error normalizado en valor absoluto\n",
        "std_by_horizon['normalized_std'] = ((std_by_horizon['mean'] - std_by_horizon['normalized']) / std_by_horizon['std']).abs()"
      ],
      "metadata": {
        "id": "4f-iYM4qQXLf"
      },
      "execution_count": 539,
      "outputs": []
    },
    {
      "cell_type": "markdown",
      "source": [
        "El **error normalizado** calcula la magnitud del error de predicción en función de la variabilidad de los datos. Se obtiene al restar el error absoluto promedio del valor medio y luego dividir esa diferencia por la desviación estándar. Finalmente, se toma el valor absoluto para reflejar la magnitud del error sin importar su dirección.\n",
        "\n",
        "Esta métrica permite evaluar la precisión del modelo de forma relativa, comparando el error con la dispersión de los datos: valores más bajos indican que el error es pequeño en relación con la variabilidad del conjunto de datos, lo cual sugiere una mejor precisión."
      ],
      "metadata": {
        "id": "TpYWifJRUmpI"
      }
    },
    {
      "cell_type": "code",
      "source": [
        "# Assuming your DataFrame is named 'merged_df'\n",
        "std_by_horizon = std_by_horizon.reset_index()  # Resets the index if it's not already a column\n"
      ],
      "metadata": {
        "id": "MXm_MlaHQs_j"
      },
      "execution_count": 540,
      "outputs": []
    },
    {
      "cell_type": "code",
      "source": [
        "# Suponiendo que 'std_by_horizon' es tu DataFrame\n",
        "# Ordenar el DataFrame de mayor a menor por 'normalized_std'\n",
        "std_by_horizon_sorted = std_by_horizon.sort_values('normalized_std', ascending=False)\n",
        "\n",
        "# Crear la gráfica de barras\n",
        "fig = px.bar(\n",
        "    std_by_horizon_sorted,\n",
        "    x='SUBBRAND',\n",
        "    y='normalized_std',\n",
        "    title='Error Absoluto Normalizado por Marca (Horizonte 0)',\n",
        "    labels={'SUBBRAND': 'Marca', 'normalized_std': 'Error Absoluto Normalizado'},\n",
        ")\n",
        "\n",
        "# Mostrar la gráfica\n",
        "fig.show()"
      ],
      "metadata": {
        "colab": {
          "base_uri": "https://localhost:8080/",
          "height": 542
        },
        "id": "-2reVr4uRDrI",
        "outputId": "4f9497e9-e3fa-40d1-fb4e-4167dc58cc93"
      },
      "execution_count": 541,
      "outputs": [
        {
          "output_type": "display_data",
          "data": {
            "text/html": [
              "<html>\n",
              "<head><meta charset=\"utf-8\" /></head>\n",
              "<body>\n",
              "    <div>            <script src=\"https://cdnjs.cloudflare.com/ajax/libs/mathjax/2.7.5/MathJax.js?config=TeX-AMS-MML_SVG\"></script><script type=\"text/javascript\">if (window.MathJax && window.MathJax.Hub && window.MathJax.Hub.Config) {window.MathJax.Hub.Config({SVG: {font: \"STIX-Web\"}});}</script>                <script type=\"text/javascript\">window.PlotlyConfig = {MathJaxConfig: 'local'};</script>\n",
              "        <script charset=\"utf-8\" src=\"https://cdn.plot.ly/plotly-2.35.2.min.js\"></script>                <div id=\"8c5d82f7-248c-488e-9aeb-445a5265d0fc\" class=\"plotly-graph-div\" style=\"height:525px; width:100%;\"></div>            <script type=\"text/javascript\">                                    window.PLOTLYENV=window.PLOTLYENV || {};                                    if (document.getElementById(\"8c5d82f7-248c-488e-9aeb-445a5265d0fc\")) {                    Plotly.newPlot(                        \"8c5d82f7-248c-488e-9aeb-445a5265d0fc\",                        [{\"alignmentgroup\":\"True\",\"hovertemplate\":\"Marca=%{x}\\u003cbr\\u003eError Absoluto Normalizado=%{y}\\u003cextra\\u003e\\u003c\\u002fextra\\u003e\",\"legendgroup\":\"\",\"marker\":{\"color\":\"#636efa\",\"pattern\":{\"shape\":\"\"}},\"name\":\"\",\"offsetgroup\":\"\",\"orientation\":\"v\",\"showlegend\":false,\"textposition\":\"auto\",\"x\":[\"7up (L3)\",\"Pepsi Max (L3)\",\"Lipton (L3)\",\"Pepsi Regular (L3)\",\"7up Free (L3)\"],\"xaxis\":\"x\",\"y\":[6.118719736785037,4.731853636787763,3.991890791243143,3.981308829473546,3.89547064412512],\"yaxis\":\"y\",\"type\":\"bar\"}],                        {\"template\":{\"data\":{\"histogram2dcontour\":[{\"type\":\"histogram2dcontour\",\"colorbar\":{\"outlinewidth\":0,\"ticks\":\"\"},\"colorscale\":[[0.0,\"#0d0887\"],[0.1111111111111111,\"#46039f\"],[0.2222222222222222,\"#7201a8\"],[0.3333333333333333,\"#9c179e\"],[0.4444444444444444,\"#bd3786\"],[0.5555555555555556,\"#d8576b\"],[0.6666666666666666,\"#ed7953\"],[0.7777777777777778,\"#fb9f3a\"],[0.8888888888888888,\"#fdca26\"],[1.0,\"#f0f921\"]]}],\"choropleth\":[{\"type\":\"choropleth\",\"colorbar\":{\"outlinewidth\":0,\"ticks\":\"\"}}],\"histogram2d\":[{\"type\":\"histogram2d\",\"colorbar\":{\"outlinewidth\":0,\"ticks\":\"\"},\"colorscale\":[[0.0,\"#0d0887\"],[0.1111111111111111,\"#46039f\"],[0.2222222222222222,\"#7201a8\"],[0.3333333333333333,\"#9c179e\"],[0.4444444444444444,\"#bd3786\"],[0.5555555555555556,\"#d8576b\"],[0.6666666666666666,\"#ed7953\"],[0.7777777777777778,\"#fb9f3a\"],[0.8888888888888888,\"#fdca26\"],[1.0,\"#f0f921\"]]}],\"heatmap\":[{\"type\":\"heatmap\",\"colorbar\":{\"outlinewidth\":0,\"ticks\":\"\"},\"colorscale\":[[0.0,\"#0d0887\"],[0.1111111111111111,\"#46039f\"],[0.2222222222222222,\"#7201a8\"],[0.3333333333333333,\"#9c179e\"],[0.4444444444444444,\"#bd3786\"],[0.5555555555555556,\"#d8576b\"],[0.6666666666666666,\"#ed7953\"],[0.7777777777777778,\"#fb9f3a\"],[0.8888888888888888,\"#fdca26\"],[1.0,\"#f0f921\"]]}],\"heatmapgl\":[{\"type\":\"heatmapgl\",\"colorbar\":{\"outlinewidth\":0,\"ticks\":\"\"},\"colorscale\":[[0.0,\"#0d0887\"],[0.1111111111111111,\"#46039f\"],[0.2222222222222222,\"#7201a8\"],[0.3333333333333333,\"#9c179e\"],[0.4444444444444444,\"#bd3786\"],[0.5555555555555556,\"#d8576b\"],[0.6666666666666666,\"#ed7953\"],[0.7777777777777778,\"#fb9f3a\"],[0.8888888888888888,\"#fdca26\"],[1.0,\"#f0f921\"]]}],\"contourcarpet\":[{\"type\":\"contourcarpet\",\"colorbar\":{\"outlinewidth\":0,\"ticks\":\"\"}}],\"contour\":[{\"type\":\"contour\",\"colorbar\":{\"outlinewidth\":0,\"ticks\":\"\"},\"colorscale\":[[0.0,\"#0d0887\"],[0.1111111111111111,\"#46039f\"],[0.2222222222222222,\"#7201a8\"],[0.3333333333333333,\"#9c179e\"],[0.4444444444444444,\"#bd3786\"],[0.5555555555555556,\"#d8576b\"],[0.6666666666666666,\"#ed7953\"],[0.7777777777777778,\"#fb9f3a\"],[0.8888888888888888,\"#fdca26\"],[1.0,\"#f0f921\"]]}],\"surface\":[{\"type\":\"surface\",\"colorbar\":{\"outlinewidth\":0,\"ticks\":\"\"},\"colorscale\":[[0.0,\"#0d0887\"],[0.1111111111111111,\"#46039f\"],[0.2222222222222222,\"#7201a8\"],[0.3333333333333333,\"#9c179e\"],[0.4444444444444444,\"#bd3786\"],[0.5555555555555556,\"#d8576b\"],[0.6666666666666666,\"#ed7953\"],[0.7777777777777778,\"#fb9f3a\"],[0.8888888888888888,\"#fdca26\"],[1.0,\"#f0f921\"]]}],\"mesh3d\":[{\"type\":\"mesh3d\",\"colorbar\":{\"outlinewidth\":0,\"ticks\":\"\"}}],\"scatter\":[{\"fillpattern\":{\"fillmode\":\"overlay\",\"size\":10,\"solidity\":0.2},\"type\":\"scatter\"}],\"parcoords\":[{\"type\":\"parcoords\",\"line\":{\"colorbar\":{\"outlinewidth\":0,\"ticks\":\"\"}}}],\"scatterpolargl\":[{\"type\":\"scatterpolargl\",\"marker\":{\"colorbar\":{\"outlinewidth\":0,\"ticks\":\"\"}}}],\"bar\":[{\"error_x\":{\"color\":\"#2a3f5f\"},\"error_y\":{\"color\":\"#2a3f5f\"},\"marker\":{\"line\":{\"color\":\"#E5ECF6\",\"width\":0.5},\"pattern\":{\"fillmode\":\"overlay\",\"size\":10,\"solidity\":0.2}},\"type\":\"bar\"}],\"scattergeo\":[{\"type\":\"scattergeo\",\"marker\":{\"colorbar\":{\"outlinewidth\":0,\"ticks\":\"\"}}}],\"scatterpolar\":[{\"type\":\"scatterpolar\",\"marker\":{\"colorbar\":{\"outlinewidth\":0,\"ticks\":\"\"}}}],\"histogram\":[{\"marker\":{\"pattern\":{\"fillmode\":\"overlay\",\"size\":10,\"solidity\":0.2}},\"type\":\"histogram\"}],\"scattergl\":[{\"type\":\"scattergl\",\"marker\":{\"colorbar\":{\"outlinewidth\":0,\"ticks\":\"\"}}}],\"scatter3d\":[{\"type\":\"scatter3d\",\"line\":{\"colorbar\":{\"outlinewidth\":0,\"ticks\":\"\"}},\"marker\":{\"colorbar\":{\"outlinewidth\":0,\"ticks\":\"\"}}}],\"scattermapbox\":[{\"type\":\"scattermapbox\",\"marker\":{\"colorbar\":{\"outlinewidth\":0,\"ticks\":\"\"}}}],\"scatterternary\":[{\"type\":\"scatterternary\",\"marker\":{\"colorbar\":{\"outlinewidth\":0,\"ticks\":\"\"}}}],\"scattercarpet\":[{\"type\":\"scattercarpet\",\"marker\":{\"colorbar\":{\"outlinewidth\":0,\"ticks\":\"\"}}}],\"carpet\":[{\"aaxis\":{\"endlinecolor\":\"#2a3f5f\",\"gridcolor\":\"white\",\"linecolor\":\"white\",\"minorgridcolor\":\"white\",\"startlinecolor\":\"#2a3f5f\"},\"baxis\":{\"endlinecolor\":\"#2a3f5f\",\"gridcolor\":\"white\",\"linecolor\":\"white\",\"minorgridcolor\":\"white\",\"startlinecolor\":\"#2a3f5f\"},\"type\":\"carpet\"}],\"table\":[{\"cells\":{\"fill\":{\"color\":\"#EBF0F8\"},\"line\":{\"color\":\"white\"}},\"header\":{\"fill\":{\"color\":\"#C8D4E3\"},\"line\":{\"color\":\"white\"}},\"type\":\"table\"}],\"barpolar\":[{\"marker\":{\"line\":{\"color\":\"#E5ECF6\",\"width\":0.5},\"pattern\":{\"fillmode\":\"overlay\",\"size\":10,\"solidity\":0.2}},\"type\":\"barpolar\"}],\"pie\":[{\"automargin\":true,\"type\":\"pie\"}]},\"layout\":{\"autotypenumbers\":\"strict\",\"colorway\":[\"#636efa\",\"#EF553B\",\"#00cc96\",\"#ab63fa\",\"#FFA15A\",\"#19d3f3\",\"#FF6692\",\"#B6E880\",\"#FF97FF\",\"#FECB52\"],\"font\":{\"color\":\"#2a3f5f\"},\"hovermode\":\"closest\",\"hoverlabel\":{\"align\":\"left\"},\"paper_bgcolor\":\"white\",\"plot_bgcolor\":\"#E5ECF6\",\"polar\":{\"bgcolor\":\"#E5ECF6\",\"angularaxis\":{\"gridcolor\":\"white\",\"linecolor\":\"white\",\"ticks\":\"\"},\"radialaxis\":{\"gridcolor\":\"white\",\"linecolor\":\"white\",\"ticks\":\"\"}},\"ternary\":{\"bgcolor\":\"#E5ECF6\",\"aaxis\":{\"gridcolor\":\"white\",\"linecolor\":\"white\",\"ticks\":\"\"},\"baxis\":{\"gridcolor\":\"white\",\"linecolor\":\"white\",\"ticks\":\"\"},\"caxis\":{\"gridcolor\":\"white\",\"linecolor\":\"white\",\"ticks\":\"\"}},\"coloraxis\":{\"colorbar\":{\"outlinewidth\":0,\"ticks\":\"\"}},\"colorscale\":{\"sequential\":[[0.0,\"#0d0887\"],[0.1111111111111111,\"#46039f\"],[0.2222222222222222,\"#7201a8\"],[0.3333333333333333,\"#9c179e\"],[0.4444444444444444,\"#bd3786\"],[0.5555555555555556,\"#d8576b\"],[0.6666666666666666,\"#ed7953\"],[0.7777777777777778,\"#fb9f3a\"],[0.8888888888888888,\"#fdca26\"],[1.0,\"#f0f921\"]],\"sequentialminus\":[[0.0,\"#0d0887\"],[0.1111111111111111,\"#46039f\"],[0.2222222222222222,\"#7201a8\"],[0.3333333333333333,\"#9c179e\"],[0.4444444444444444,\"#bd3786\"],[0.5555555555555556,\"#d8576b\"],[0.6666666666666666,\"#ed7953\"],[0.7777777777777778,\"#fb9f3a\"],[0.8888888888888888,\"#fdca26\"],[1.0,\"#f0f921\"]],\"diverging\":[[0,\"#8e0152\"],[0.1,\"#c51b7d\"],[0.2,\"#de77ae\"],[0.3,\"#f1b6da\"],[0.4,\"#fde0ef\"],[0.5,\"#f7f7f7\"],[0.6,\"#e6f5d0\"],[0.7,\"#b8e186\"],[0.8,\"#7fbc41\"],[0.9,\"#4d9221\"],[1,\"#276419\"]]},\"xaxis\":{\"gridcolor\":\"white\",\"linecolor\":\"white\",\"ticks\":\"\",\"title\":{\"standoff\":15},\"zerolinecolor\":\"white\",\"automargin\":true,\"zerolinewidth\":2},\"yaxis\":{\"gridcolor\":\"white\",\"linecolor\":\"white\",\"ticks\":\"\",\"title\":{\"standoff\":15},\"zerolinecolor\":\"white\",\"automargin\":true,\"zerolinewidth\":2},\"scene\":{\"xaxis\":{\"backgroundcolor\":\"#E5ECF6\",\"gridcolor\":\"white\",\"linecolor\":\"white\",\"showbackground\":true,\"ticks\":\"\",\"zerolinecolor\":\"white\",\"gridwidth\":2},\"yaxis\":{\"backgroundcolor\":\"#E5ECF6\",\"gridcolor\":\"white\",\"linecolor\":\"white\",\"showbackground\":true,\"ticks\":\"\",\"zerolinecolor\":\"white\",\"gridwidth\":2},\"zaxis\":{\"backgroundcolor\":\"#E5ECF6\",\"gridcolor\":\"white\",\"linecolor\":\"white\",\"showbackground\":true,\"ticks\":\"\",\"zerolinecolor\":\"white\",\"gridwidth\":2}},\"shapedefaults\":{\"line\":{\"color\":\"#2a3f5f\"}},\"annotationdefaults\":{\"arrowcolor\":\"#2a3f5f\",\"arrowhead\":0,\"arrowwidth\":1},\"geo\":{\"bgcolor\":\"white\",\"landcolor\":\"#E5ECF6\",\"subunitcolor\":\"white\",\"showland\":true,\"showlakes\":true,\"lakecolor\":\"white\"},\"title\":{\"x\":0.05},\"mapbox\":{\"style\":\"light\"}}},\"xaxis\":{\"anchor\":\"y\",\"domain\":[0.0,1.0],\"title\":{\"text\":\"Marca\"}},\"yaxis\":{\"anchor\":\"x\",\"domain\":[0.0,1.0],\"title\":{\"text\":\"Error Absoluto Normalizado\"}},\"legend\":{\"tracegroupgap\":0},\"title\":{\"text\":\"Error Absoluto Normalizado por Marca (Horizonte 0)\"},\"barmode\":\"relative\"},                        {\"responsive\": true}                    ).then(function(){\n",
              "                            \n",
              "var gd = document.getElementById('8c5d82f7-248c-488e-9aeb-445a5265d0fc');\n",
              "var x = new MutationObserver(function (mutations, observer) {{\n",
              "        var display = window.getComputedStyle(gd).display;\n",
              "        if (!display || display === 'none') {{\n",
              "            console.log([gd, 'removed!']);\n",
              "            Plotly.purge(gd);\n",
              "            observer.disconnect();\n",
              "        }}\n",
              "}});\n",
              "\n",
              "// Listen for the removal of the full notebook cells\n",
              "var notebookContainer = gd.closest('#notebook-container');\n",
              "if (notebookContainer) {{\n",
              "    x.observe(notebookContainer, {childList: true});\n",
              "}}\n",
              "\n",
              "// Listen for the clearing of the current output cell\n",
              "var outputEl = gd.closest('.output');\n",
              "if (outputEl) {{\n",
              "    x.observe(outputEl, {childList: true});\n",
              "}}\n",
              "\n",
              "                        })                };                            </script>        </div>\n",
              "</body>\n",
              "</html>"
            ]
          },
          "metadata": {}
        }
      ]
    },
    {
      "cell_type": "markdown",
      "source": [
        "La precisión de las predicciones para España se evaluó utilizando el **Mean Absolute Error (MAE)** como métrica principal. Sin embargo, dado que el volumen de datos varía entre sub-marcas, se optó por normalizar los errores utilizando los valores reales de cada sub-marca. Esto plantea ciertos desafíos, especialmente debido a la limitación del análisis a un periodo corto, reducido solo a 2023.\n",
        "\n",
        "**Conclusiones**\n",
        "\n",
        "- **Precisión por Sub-marca**: 7up resultó ser la sub-marca con menor precisión en sus predicciones, seguida de Pepsi. Esto es atribuible en parte a que ambas presentan mayores volúmenes de ventas y mayor variabilidad, lo que dificulta la precisión.\n",
        "- **Pepsi Max**: A pesar de tener el mayor número de ventas, con un promedio alrededor de 120k, Pepsi Max logró mantener un error medio relativamente bajo, cercano a los 10k, lo cual es bastante aceptable.\n",
        "- **Consideraciones Finales**: Con un mayor volumen de datos y un horizonte temporal más amplio, es probable que la precisión de las predicciones mejore aún más. Sin embargo, con los datos actuales, los resultados son bastante satisfactorios y proporcionan una base sólida para el análisis."
      ],
      "metadata": {
        "id": "E8qSzMm_VOOK"
      }
    }
  ]
}